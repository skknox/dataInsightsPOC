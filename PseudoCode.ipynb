{
 "cells": [
  {
   "cell_type": "markdown",
   "metadata": {},
   "source": [
    "# Exploring and Processing"
   ]
  },
  {
   "cell_type": "markdown",
   "metadata": {
    "heading_collapsed": true
   },
   "source": [
    "### Import Statements"
   ]
  },
  {
   "cell_type": "code",
   "execution_count": 246,
   "metadata": {
    "hidden": true
   },
   "outputs": [],
   "source": [
    "import pandas as pd\n",
    "import numpy as np\n",
    "import os\n",
    "import matplotlib.pyplot as plt\n",
    "import sklearn as skl\n",
    "import random as rng\n",
    "import nltk\n",
    "import fnmatch\n",
    "\n",
    "import docx2txt\n",
    "from pdfminer.pdfparser import PDFParser\n",
    "from pdfminer.pdfdocument import PDFDocument\n",
    "from pdfminer.pdfpage import PDFPage\n",
    "from pdfminer.pdfinterp import PDFResourceManager, PDFPageInterpreter\n",
    "from pdfminer.pdfdevice import PDFDevice\n",
    "from pdfminer.pdfpage import PDFTextExtractionNotAllowed\n",
    "from pdfminer.layout import LAParams, LTTextBox, LTTextLine\n",
    "from pdfminer.converter import PDFPageAggregator\n",
    "\n",
    "from nltk.book import *\n",
    "from nltk import word_tokenize\n",
    "from nltk import sent_tokenize\n",
    "from nltk.corpus import stopwords\n",
    "from nltk.collocations import *\n",
    "from nltk.util import ngrams\n",
    "from nltk.stem.lancaster import LancasterStemmer\n",
    "from string import punctuation\n",
    "import sys as sys\n",
    "from sys import platform\n",
    "import re as re\n",
    "from statistics import mode\n",
    "import datefinder\n"
   ]
  },
  {
   "cell_type": "markdown",
   "metadata": {
    "heading_collapsed": true
   },
   "source": [
    "## Psuedocode"
   ]
  },
  {
   "cell_type": "code",
   "execution_count": 82,
   "metadata": {
    "hidden": true
   },
   "outputs": [],
   "source": [
    "### Analysis Function\n",
    "\n",
    "## Function which calculates the number of combinations (Not Permutations) of distinct values in a dataset. Would \n",
    "## take in a Pandas DataFrame ideally and multiply all distinct value counts for all available columns.\n",
    "\n",
    "# Expected input: Pandas DataFrame\n",
    "# Expected output: Int, the number of possible combinations."
   ]
  },
  {
   "cell_type": "code",
   "execution_count": 83,
   "metadata": {
    "hidden": true
   },
   "outputs": [],
   "source": [
    "### Parsing Function\n",
    "\n",
    "## Function to collect mentions of States/Districts/Territories in the United States (DC and Puerto Rico are included)\n",
    "## and rank their relevence, frequency should be a good factor. Note: California, Pennsylvania, and Georgia could \n",
    "## appear multiple times from addresses.\n",
    "\n",
    "# Expected input: A single file, text.\n",
    "# Expected output: A list of locations mentioned, ranked by most used to least used."
   ]
  },
  {
   "cell_type": "code",
   "execution_count": 84,
   "metadata": {
    "hidden": true
   },
   "outputs": [],
   "source": [
    "### Parsing Function\n",
    "\n",
    "## Function for searching a tokenized sentence dictionary for words or phrases. There's probably \n",
    "## already something for this.\n",
    "\n",
    "# Expected input: A tokenized list, and a phrase to search for.\n",
    "# Expected output: A list of sentences containing the phrase searched."
   ]
  },
  {
   "cell_type": "code",
   "execution_count": 85,
   "metadata": {
    "hidden": true
   },
   "outputs": [],
   "source": [
    "### Parsing Function\n",
    "\n",
    "## Function to take a file and produce the Acronyms from them.\n",
    "\n",
    "# Expected Input: Text File to be parsed, the Acronym to search\n",
    "# Expected output: A list of possible phrases, most likely first."
   ]
  },
  {
   "cell_type": "code",
   "execution_count": 86,
   "metadata": {
    "hidden": true
   },
   "outputs": [],
   "source": [
    "### Parsing Function\n",
    "\n",
    "## Function to take Acronyms and match them to the best possible N-gram for them from a document. Not all will be \n",
    "## possible, but a list of options will help.\n",
    "\n",
    "# Expected Input: Text File to be parsed, the Acronym to search\n",
    "# Expected output: A list of possible phrases, sorted most likely first."
   ]
  },
  {
   "cell_type": "code",
   "execution_count": 87,
   "metadata": {
    "hidden": true
   },
   "outputs": [],
   "source": [
    "### Generally important\n",
    "\n",
    "## Need to expand stopwords to include States and Districts, also Delta Dental adjacent names as another available set."
   ]
  },
  {
   "cell_type": "code",
   "execution_count": 88,
   "metadata": {
    "hidden": true
   },
   "outputs": [],
   "source": [
    "## Function to load in two different text extracted contracts and return a comparison metric between \n",
    "## the two (Similarity, possibly as a percent?)\n",
    "\n",
    "# Expected Input: Two contracts for Comparison\n",
    "# Expected Output: A measure, some kind of decimal to represent similarity."
   ]
  },
  {
   "cell_type": "markdown",
   "metadata": {},
   "source": [
    "## File Prep Functions"
   ]
  },
  {
   "cell_type": "markdown",
   "metadata": {
    "heading_collapsed": true
   },
   "source": [
    "### Function: Is it docx or pdf?"
   ]
  },
  {
   "cell_type": "code",
   "execution_count": 89,
   "metadata": {
    "hidden": true
   },
   "outputs": [],
   "source": [
    "def checkFileType(filename):\n",
    "        if(filename.lower().endswith(('.doc','.docx'))):\n",
    "            return 0\n",
    "        elif(filename.lower().endswith(('.pdf'))):\n",
    "            return 1\n",
    "        else:\n",
    "            return -1"
   ]
  },
  {
   "cell_type": "markdown",
   "metadata": {
    "heading_collapsed": true
   },
   "source": [
    "### Function: read in file"
   ]
  },
  {
   "cell_type": "code",
   "execution_count": 90,
   "metadata": {
    "hidden": true
   },
   "outputs": [],
   "source": [
    "def makeFilePath(docName):\n",
    "    raw_data_path = os.path.join(os.getcwd(), 'data', 'raw')\n",
    "    return os.path.join(raw_data_path, docName)"
   ]
  },
  {
   "cell_type": "markdown",
   "metadata": {
    "heading_collapsed": true
   },
   "source": [
    "### Function: clean up text"
   ]
  },
  {
   "cell_type": "code",
   "execution_count": 536,
   "metadata": {
    "hidden": true
   },
   "outputs": [],
   "source": [
    "def cleanText(text):\n",
    "    text = text.replace(\"\\n\", ' ')\n",
    "    text = text.replace(\"\\t\", ' ')\n",
    "    #text = text.replace(\",\", ' ')\n",
    "    \n",
    "    dblSpacesRemaining = True\n",
    "    while(dblSpacesRemaining):\n",
    "        text = text.replace(\"  \", \" \")\n",
    "        if not \"  \" in text:\n",
    "            dblSpacesRemaining = False\n",
    "    return text"
   ]
  },
  {
   "cell_type": "markdown",
   "metadata": {
    "heading_collapsed": true
   },
   "source": [
    "### Function: process dataFrame and group"
   ]
  },
  {
   "cell_type": "code",
   "execution_count": 92,
   "metadata": {
    "hidden": true
   },
   "outputs": [],
   "source": [
    "def processDF(txtFile):\n",
    "    df = pd.read_csv(txtFile, sep=\" \", header=None) #this doesn't work for me bc of variable number of cols\n",
    "    df = df.T \n",
    "    df = df.dropna()\n",
    "\n",
    "    df['SingleRow']=1\n",
    "\n",
    "    df=df.rename(columns={0 : 'Words'})\n",
    "    print(\"in processDF \" + txtFile)\n",
    "    df.describe(include=\"all\")\n",
    "    #print(df.groupby('Words').SingleRow.sum().sort_values())\n",
    "    #print(df)\n",
    "    return df"
   ]
  },
  {
   "cell_type": "markdown",
   "metadata": {
    "heading_collapsed": true
   },
   "source": [
    "### Function: Process a text file"
   ]
  },
  {
   "cell_type": "code",
   "execution_count": 395,
   "metadata": {
    "hidden": true
   },
   "outputs": [],
   "source": [
    "def processTextFile(filePath):\n",
    "    #print(filePath)\n",
    "    docxText = docx2txt.process(filePath)\n",
    "    #print(docxText)\n",
    "    replacedText = cleanText(docxText)\n",
    "    #print(replacedText)\n",
    "    fileName = filePath.split('/')[-1]\n",
    "    #print(fileName)\n",
    "    baseFileName = fileName[0:-5]\n",
    "    #print(baseFileName)\n",
    "    newFilePath = './data/output/' + baseFileName + \".txt\"\n",
    "    #print(newFilePath)\n",
    "    singleFileDocx=open(newFilePath, 'wb+')    \n",
    "    singleFileDocx.write(replacedText.encode(\"utf-8\"))\n",
    "    singleFileDocx.close()\n",
    "\n",
    "    #temp_df = processDF('singleTextDocx.txt')\n",
    "    return newFilePath"
   ]
  },
  {
   "cell_type": "markdown",
   "metadata": {
    "heading_collapsed": true
   },
   "source": [
    "### Function: Process pdf file"
   ]
  },
  {
   "cell_type": "code",
   "execution_count": 497,
   "metadata": {
    "code_folding": [],
    "hidden": true
   },
   "outputs": [],
   "source": [
    "def processPDFfile(filePath):\n",
    "        password = \"\"\n",
    "        extracted_text = \"\"\n",
    "\n",
    "        fileName = filePath.split('/')[-1]\n",
    "        baseFileName = fileName[0:-4]\n",
    "    \n",
    "        fp = open(filePath, \"rb\")\n",
    "        parser = PDFParser(fp)\n",
    "        document = PDFDocument(parser, password)\n",
    "        \n",
    "        if not document.is_extractable:\n",
    "            raise PDFTextExtractionNotAllowed\n",
    "            \n",
    "        # Create PDFResourceManager object that stores shared resources such as fonts or images\n",
    "        rsrcmgr = PDFResourceManager()\n",
    "\n",
    "        # set parameters for analysis\n",
    "        laparams = LAParams()\n",
    "\n",
    "        # Create a PDFDevice object which translates interpreted information into desired format\n",
    "        # Device needs to be connected to resource manager to store shared resources\n",
    "        # device = PDFDevice(rsrcmgr)\n",
    "        # Extract the decive to page aggregator to get LT object elements\n",
    "        device = PDFPageAggregator(rsrcmgr, laparams=laparams)\n",
    "\n",
    "        # Create interpreter object to process page content from PDFDocument\n",
    "        # Interpreter needs to be connected to resource manager for shared resources and device \n",
    "        interpreter = PDFPageInterpreter(rsrcmgr, device)\n",
    "\n",
    "        # Ok now that we have everything to process a pdf document, lets process it page by page\n",
    "        for page in PDFPage.create_pages(document):\n",
    "            # As the interpreter processes the page stored in PDFDocument object\n",
    "            interpreter.process_page(page)\n",
    "            # The device renders the layout from interpreter\n",
    "            layout = device.get_result()\n",
    "            # Out of the many LT objects within layout, we are interested in LTTextBox and LTTextLine\n",
    "            for lt_obj in layout:\n",
    "                if isinstance(lt_obj, LTTextBox) or isinstance(lt_obj, LTTextLine):\n",
    "                    newText = lt_obj.get_text()\n",
    "                    newText = newText.replace('\\n', ' ')\n",
    "                    extracted_text += newText\n",
    "\n",
    "        #close the pdf file\n",
    "        fp.close()\n",
    "        \n",
    "        extracted_text = cleanText(extracted_text)#extracted_text.replace(\"\\n\", ' ')\n",
    "        \n",
    "        newFilePath = './data/output/' + baseFileName + '-pdf' + \".txt\"\n",
    "        with open(newFilePath, 'wb+') as singleFilePDF:\n",
    "            singleFilePDF.write(extracted_text.encode(\"utf-8\"))\n",
    "        \n",
    "        \n",
    "        #temp_df = processDF('./data/output/' + baseFileName + \".txt\")\n",
    "        return newFilePath"
   ]
  },
  {
   "cell_type": "markdown",
   "metadata": {
    "heading_collapsed": true
   },
   "source": [
    "## Docx Extraction"
   ]
  },
  {
   "cell_type": "markdown",
   "metadata": {
    "hidden": true
   },
   "source": [
    "DocX extractor for data purposes. Requires customization to each purpose but is important for pulling data out of DocX files. Does not understand tables or bullet points, however is visually consistent with what's on the page.\n",
    "\n",
    "Strongest values: Order, consistentcy, noise reduction\n",
    "\n",
    "Weakest values: Completeness, flexibility, whitespace characters, formatting"
   ]
  },
  {
   "cell_type": "markdown",
   "metadata": {
    "hidden": true
   },
   "source": [
    "#### Docx Practice"
   ]
  },
  {
   "cell_type": "code",
   "execution_count": 62,
   "metadata": {
    "hidden": true,
    "scrolled": true
   },
   "outputs": [],
   "source": [
    "import docx2txt\n",
    "\n",
    "\n",
    "def cleanText(text):\n",
    "    text = text.replace(\"\\n\", ' ')\n",
    "    text = text.replace(\"\\t\", ' ')\n",
    "    text = text.replace(\",\", ' ')\n",
    "    \n",
    "    dblSpacesRemaining = True\n",
    "    while(dblSpacesRemaining):\n",
    "        text = text.replace(\"  \", \" \")\n",
    "        if not \"  \" in text:\n",
    "            dblSpacesRemaining = False\n",
    "        \n",
    "    return text\n",
    "fileName = \"TX 17404 Contract Regional (7.2.18).docx\"\n",
    "baseFileName = \"\"\n",
    "if(fileName.lower().endswith(('.docx'))):\n",
    "    baseFileName = fileName[0:-5]\n",
    "    #print(baseFileName)\n",
    "elif(fileName.lower().endswith(('.pdf'))):\n",
    "    baseFileName = fileName[0:-4]\n",
    "else:\n",
    "    print(\"ending error\")\n",
    "\n",
    "docText = docx2txt.process(\"./data/raw/\" + fileName)\n",
    "singleFileDocx=open('./data/output/' + baseFileName + \".txt\", 'wb+')\n",
    "replacedText = cleanText(docText)\n",
    "#print(replacedText)\n",
    "singleFileDocx.write(docText.encode(\"utf-8\"))\n",
    "singleFileDocx.close()\n"
   ]
  },
  {
   "cell_type": "markdown",
   "metadata": {
    "heading_collapsed": true
   },
   "source": [
    "## PDF Extraction"
   ]
  },
  {
   "cell_type": "markdown",
   "metadata": {
    "heading_collapsed": true,
    "hidden": true
   },
   "source": [
    "#### PDF practice"
   ]
  },
  {
   "cell_type": "code",
   "execution_count": 22,
   "metadata": {
    "hidden": true
   },
   "outputs": [
    {
     "ename": "FileNotFoundError",
     "evalue": "[Errno 2] No such file or directory: 'C://data/test.pdf'",
     "output_type": "error",
     "traceback": [
      "\u001b[0;31m---------------------------------------------------------------------------\u001b[0m",
      "\u001b[0;31mFileNotFoundError\u001b[0m                         Traceback (most recent call last)",
      "\u001b[0;32m<ipython-input-22-d313aef8c3e6>\u001b[0m in \u001b[0;36m<module>\u001b[0;34m()\u001b[0m\n\u001b[1;32m     52\u001b[0m \u001b[0;34m\u001b[0m\u001b[0m\n\u001b[1;32m     53\u001b[0m \u001b[0;31m# Open and read the pdf file in binary mode\u001b[0m\u001b[0;34m\u001b[0m\u001b[0;34m\u001b[0m\u001b[0m\n\u001b[0;32m---> 54\u001b[0;31m \u001b[0mfp\u001b[0m \u001b[0;34m=\u001b[0m \u001b[0mopen\u001b[0m\u001b[0;34m(\u001b[0m\u001b[0mmy_file\u001b[0m\u001b[0;34m,\u001b[0m \u001b[0;34m\"rb\"\u001b[0m\u001b[0;34m)\u001b[0m\u001b[0;34m\u001b[0m\u001b[0m\n\u001b[0m\u001b[1;32m     55\u001b[0m \u001b[0;34m\u001b[0m\u001b[0m\n\u001b[1;32m     56\u001b[0m \u001b[0;31m# Create parser object to parse the pdf content\u001b[0m\u001b[0;34m\u001b[0m\u001b[0;34m\u001b[0m\u001b[0m\n",
      "\u001b[0;31mFileNotFoundError\u001b[0m: [Errno 2] No such file or directory: 'C://data/test.pdf'"
     ]
    }
   ],
   "source": [
    "import pandas as pd\n",
    "import numpy as np\n",
    "import os\n",
    "import matplotlib.pyplot as plt\n",
    "import sklearn as skl\n",
    "# pdfTextMiner.py\n",
    "# Python 2.7.6\n",
    "# For Python 3.x use pdfminer3k module\n",
    "# This link has useful information on components of the program\n",
    "# https://euske.github.io/pdfminer/programming.html\n",
    "# http://denis.papathanasiou.org/posts/2010.08.04.post.html\n",
    "\n",
    "\n",
    "''' Important classes to remember\n",
    "PDFParser - fetches data from pdf file\n",
    "PDFDocument - stores data parsed by PDFParser\n",
    "PDFPageInterpreter - processes page contents from PDFDocument\n",
    "PDFDevice - translates processed information from PDFPageInterpreter to whatever you need\n",
    "PDFResourceManager - Stores shared resources such as fonts or images used by both PDFPageInterpreter and PDFDevice\n",
    "LAParams - A layout analyzer returns a LTPage object for each page in the PDF document\n",
    "PDFPageAggregator - Extract the decive to page aggregator to get LT object elements\n",
    "'''\n",
    "\n",
    "from pdfminer.pdfparser import PDFParser\n",
    "from pdfminer.pdfdocument import PDFDocument\n",
    "from pdfminer.pdfpage import PDFPage\n",
    "# From PDFInterpreter import both PDFResourceManager and PDFPageInterpreter\n",
    "from pdfminer.pdfinterp import PDFResourceManager, PDFPageInterpreter\n",
    "from pdfminer.pdfdevice import PDFDevice\n",
    "# Import this to raise exception whenever text extraction from PDF is not allowed\n",
    "from pdfminer.pdfpage import PDFTextExtractionNotAllowed\n",
    "from pdfminer.layout import LAParams, LTTextBox, LTTextLine\n",
    "from pdfminer.converter import PDFPageAggregator\n",
    "\n",
    "''' This is what we are trying to do:\n",
    "1) Transfer information from PDF file to PDF document object. This is done using parser\n",
    "2) Open the PDF file\n",
    "3) Parse the file using PDFParser object\n",
    "4) Assign the parsed content to PDFDocument object\n",
    "5) Now the information in this PDFDocumet object has to be processed. For this we need\n",
    "   PDFPageInterpreter, PDFDevice and PDFResourceManager\n",
    " 6) Finally process the file page by page \n",
    "'''\n",
    "\n",
    "base_path = \"C://data\"\n",
    "\n",
    "my_file = os.path.join(base_path + \"/\" + \"test.pdf\")\n",
    "log_file = os.path.join(base_path + \"/\" + \"pdf_log.txt\")\n",
    "\n",
    "password = \"\"\n",
    "extracted_text = \"\"\n",
    "\n",
    "# Open and read the pdf file in binary mode\n",
    "fp = open(my_file, \"rb\")\n",
    "\n",
    "# Create parser object to parse the pdf content\n",
    "parser = PDFParser(fp)\n",
    "\n",
    "# Store the parsed content in PDFDocument object\n",
    "document = PDFDocument(parser, password)\n",
    "\n",
    "# Check if document is extractable, if not abort\n",
    "if not document.is_extractable:\n",
    "    raise PDFTextExtractionNotAllowed\n",
    "    \n",
    "# Create PDFResourceManager object that stores shared resources such as fonts or images\n",
    "rsrcmgr = PDFResourceManager()\n",
    "\n",
    "# set parameters for analysis\n",
    "laparams = LAParams()\n",
    "\n",
    "# Create a PDFDevice object which translates interpreted information into desired format\n",
    "# Device needs to be connected to resource manager to store shared resources\n",
    "# device = PDFDevice(rsrcmgr)\n",
    "# Extract the decive to page aggregator to get LT object elements\n",
    "device = PDFPageAggregator(rsrcmgr, laparams=laparams)\n",
    "\n",
    "# Create interpreter object to process page content from PDFDocument\n",
    "# Interpreter needs to be connected to resource manager for shared resources and device \n",
    "interpreter = PDFPageInterpreter(rsrcmgr, device)\n",
    "\n",
    "# Ok now that we have everything to process a pdf document, lets process it page by page\n",
    "for page in PDFPage.create_pages(document):\n",
    "    # As the interpreter processes the page stored in PDFDocument object\n",
    "    interpreter.process_page(page)\n",
    "    # The device renders the layout from interpreter\n",
    "    layout = device.get_result()\n",
    "    # Out of the many LT objects within layout, we are interested in LTTextBox and LTTextLine\n",
    "    for lt_obj in layout:\n",
    "        if isinstance(lt_obj, LTTextBox) or isinstance(lt_obj, LTTextLine):\n",
    "            extracted_text += lt_obj.get_text()\n",
    "            \n",
    "#close the pdf file\n",
    "fp.close()\n",
    "\n",
    "# print (extracted_text.encode(\"utf-8\"))\n",
    "            \n",
    "with open(log_file, \"wb\") as my_log:\n",
    "    my_log.write(extracted_text.encode(\"utf-8\"))\n",
    "print(\"Done !!\")\n"
   ]
  },
  {
   "cell_type": "markdown",
   "metadata": {
    "heading_collapsed": true
   },
   "source": [
    "## NLTK Tutorial"
   ]
  },
  {
   "cell_type": "markdown",
   "metadata": {
    "heading_collapsed": true,
    "hidden": true
   },
   "source": [
    "### Function: DD specific text cleaning"
   ]
  },
  {
   "cell_type": "code",
   "execution_count": 95,
   "metadata": {
    "hidden": true
   },
   "outputs": [],
   "source": [
    "def ddCleanText(text):\n",
    "    newText = text.replace('Delta Dental', 'DeltaDental')\n",
    "    newText = newText.replace('DELTA DENTAL', 'DELTADENTAL')\n",
    "    newText = newText.replace('DeltaDental Insurance Company', 'DeltaDentalInsuranceCompany')\n",
    "    return newText\n",
    "\n"
   ]
  },
  {
   "cell_type": "markdown",
   "metadata": {
    "heading_collapsed": true,
    "hidden": true
   },
   "source": [
    "### Function: Make tokenized word list"
   ]
  },
  {
   "cell_type": "code",
   "execution_count": 96,
   "metadata": {
    "hidden": true
   },
   "outputs": [],
   "source": [
    "def getTokens(text):\n",
    "    words = word_tokenize(text)\n",
    "    \n",
    "    customStopWords = set(stopwords.words('english')+list(punctuation))\n",
    "    wordsWOStop=[word for word in words if word not in customStopWords]\n",
    "    \n",
    "    return wordsWOStop"
   ]
  },
  {
   "cell_type": "markdown",
   "metadata": {
    "heading_collapsed": true,
    "hidden": true
   },
   "source": [
    "### Function: Make tokenized Sentence list"
   ]
  },
  {
   "cell_type": "code",
   "execution_count": 115,
   "metadata": {
    "code_folding": [],
    "hidden": true
   },
   "outputs": [],
   "source": [
    "def getSents(text):\n",
    "    sents = sent_tokenize(text)\n",
    "\n",
    "    return sents"
   ]
  },
  {
   "cell_type": "markdown",
   "metadata": {
    "heading_collapsed": true,
    "hidden": true
   },
   "source": [
    "### Function: Get Bigrams"
   ]
  },
  {
   "cell_type": "code",
   "execution_count": 98,
   "metadata": {
    "hidden": true
   },
   "outputs": [],
   "source": [
    "def getBigrams(tokens):\n",
    "    bigram_measures=nltk.collocations.BigramAssocMeasures();\n",
    "    finder = BigramCollocationFinder.from_words(tokens)\n",
    "    sorted_bgs = (sorted(list(finder.ngram_fd.items()), key=lambda item: item[-1], reverse=True))\n",
    "    \n",
    "    return sorted_bgs"
   ]
  },
  {
   "cell_type": "markdown",
   "metadata": {
    "heading_collapsed": true,
    "hidden": true
   },
   "source": [
    "### Function: Get Trigrams"
   ]
  },
  {
   "cell_type": "code",
   "execution_count": 99,
   "metadata": {
    "hidden": true
   },
   "outputs": [],
   "source": [
    "def getTrigrams(tokens):\n",
    "    trigram_measures =nltk.collocations.TrigramAssocMeasures();\n",
    "    finder = TrigramCollocationFinder.from_words(tokens)\n",
    "    sorted_tgs = (sorted(list(finder.ngram_fd.items()), key=lambda item: item[-1], reverse=True))\n",
    "\n",
    "    return sorted_tgs"
   ]
  },
  {
   "cell_type": "markdown",
   "metadata": {
    "heading_collapsed": true
   },
   "source": [
    "## workspace: Set up text/tokens to search"
   ]
  },
  {
   "cell_type": "code",
   "execution_count": 592,
   "metadata": {
    "hidden": true
   },
   "outputs": [
    {
     "name": "stdout",
     "output_type": "stream",
     "text": [
      "./data/output/TX-18745 ASC Contract (7.2.18)-pdf.txt\n",
      "['DENTAL\\xa0ADMINISTRATIVE\\xa0SERVICES\\xa0CONTRACT\\xa0 \\xa0 This\\xa0Contract\\xa0is\\xa0made\\xa0and\\xa0entered\\xa0into\\xa0as\\xa0of\\xa0the\\xa01st\\xa0day\\xa0of\\xa0April,\\xa02017\\xa0(Effecitve\\xa0Date)\\xa0by\\xa0and\\xa0between\\xa0Coca‐Cola\\xa0 Southwest\\xa0Beverages\\xa0LLC\\xa0(Contractholder)\\xa0and\\xa0Delta\\xa0Dental\\xa0Insurance\\xa0Company\\xa0(hereinafter\\xa0referred\\xa0to\\xa0as\\xa0 Delta\\xa0Dental).', 'Whereas,\\xa0Contractholder\\xa0has\\xa0adopted\\xa0an\\xa0employee\\xa0dental\\xa0benefit\\xa0plan\\xa0(the\\xa0Plan),\\xa0which\\xa0is\\xa0set\\xa0forth\\xa0in\\xa0the\\xa0 employee\\xa0benefit\\xa0booklet,\\xa0as\\xa0shown\\xa0in\\xa0Section\\xa07,\\xa0mutually\\xa0agreed\\xa0upon\\xa0by\\xa0Contractholder\\xa0and\\xa0Delta\\xa0Dental,\\xa0and\\xa0 for\\xa0which\\xa0Contractholder\\xa0retains\\xa0all\\xa0liabilities;\\xa0 \\xa0 Whereas,\\xa0Contractholder\\xa0has\\xa0requested\\xa0Delta\\xa0Dental\\xa0to\\xa0provide\\xa0certain\\xa0administrative\\xa0services\\xa0to\\xa0the\\xa0Plan\\xa0and\\xa0 Delta\\xa0Dental\\xa0has\\xa0agreed\\xa0to\\xa0provide\\xa0such\\xa0services\\xa0in\\xa0accordance\\xa0with\\xa0this\\xa0Contract\\xa0and,\\xa0without\\xa0assuming\\xa0any\\xa0 liability\\xa0of\\xa0the\\xa0Contractholder\\xa0under\\xa0the\\xa0Plan;\\xa0 \\xa0 Now\\xa0therefore,\\xa0in\\xa0consideration\\xa0of\\xa0the\\xa0mutual\\xa0promises\\xa0and\\xa0covenants\\xa0contained\\xa0in\\xa0this\\xa0Contract,\\xa0it\\xa0is\\xa0hereby\\xa0 agreed\\xa0as\\xa0follows:\\xa0 \\xa0 SECTION\\xa01.', 'DEFINITIONS\\xa0 \\xa0 Terms\\xa0with\\xa0capital\\xa0letters\\xa0appearing\\xa0in\\xa0this\\xa0Agreement\\xa0shall\\xa0have\\xa0the\\xa0meaning\\xa0given\\xa0to\\xa0them\\xa0in\\xa0the\\xa0Plan\\xa0 attached\\xa0hereto\\xa0as\\xa0shown\\xa0in\\xa0Section\\xa07.', 'In\\xa0addition,\\xa0the\\xa0following\\xa0terms\\xa0shall\\xa0have\\xa0these\\xa0meanings:\\xa0 \\xa0 1.01 Contract\\xa0means\\xa0this\\xa0agreement\\xa0between\\xa0Delta\\xa0Dental\\xa0and\\xa0Contractholder\\xa0including\\xa0the\\xa0attached\\xa0 appendices,\\xa0endorsements\\xa0and\\xa0riders,\\xa0if\\xa0any.', 'This\\xa0Contract\\xa0constitutes\\xa0the\\xa0entire\\xa0agreement\\xa0between\\xa0the\\xa0 parties.', 'Appendix\\xa0A.\\xa0 eligible\\xa0dependents\\xa0as\\xa0set\\xa0forth\\xa0in\\xa0Section\\xa07.', '1.02\\xa0 Contract\\xa0Term\\xa0means\\xa0the\\xa0period\\xa0during\\xa0which\\xa0this\\xa0Contract\\xa0is\\xa0in\\xa0effect.', 'The\\xa0Contract\\xa0Term\\xa0is\\xa0shown\\xa0in\\xa0 \\xa0 1.03\\xa0 Plan\\xa0means\\xa0the\\xa0self‐funded\\xa0dental\\xa0benefits\\xa0program\\xa0for\\xa0Contractholder’s\\xa0employees\\xa0or\\xa0members\\xa0and\\xa0their\\xa0 \\xa0 SECTION\\xa02.', 'DUTIES\\xa0OF\\xa0DELTA\\xa0DENTAL\\xa0\\xa0 \\xa0 For\\xa0the\\xa0administrative\\xa0charge\\xa0set\\xa0forth\\xa0in\\xa0Appendix\\xa0A,\\xa0Delta\\xa0Dental\\xa0will\\xa0provide\\xa0Contractholder\\xa0with\\xa0the\\xa0 following\\xa0services\\xa0for\\xa0the\\xa0administration\\xa0and\\xa0operation\\xa0of\\xa0the\\xa0Plan:\\xa0 \\xa0 2.01\\xa0 Claims\\xa0Services\\xa0 \\xa0 Delta\\xa0Dental\\xa0shall\\xa0provide\\xa0the\\xa0following\\xa0claim\\xa0services:\\xa0 a)\\xa0 Evaluate\\xa0and\\xa0process\\xa0claims\\xa0presented\\xa0for\\xa0Benefits\\xa0described\\xa0in\\xa0the\\xa0employee\\xa0dental\\xa0benefit\\xa0 booklet\\xa0approved\\xa0by\\xa0Delta\\xa0Dental\\xa0and\\xa0Contractholder.', 'Claims\\xa0shall\\xa0be\\xa0processed\\xa0in\\xa0accordance\\xa0with\\xa0 Delta\\xa0Dental’s\\xa0standard\\xa0processing\\xa0policies\\xa0and\\xa0the\\xa0employee\\xa0dental\\xa0plan\\xa0booklet\\xa0as\\xa0shown\\xa0in\\xa0 Section\\xa07\\xa0of\\xa0this\\xa0Contract.', 'Services\\xa0shall\\xa0not\\xa0be\\xa0covered\\xa0when\\xa0received\\xa0by\\xa0a\\xa0patient\\xa0who\\xa0is\\xa0not\\xa0an\\xa0 Enrollee\\xa0at\\xa0the\\xa0time\\xa0of\\xa0treatment\\xa0except\\xa0for\\xa0Single\\xa0Procedures\\xa0started\\xa0while\\xa0the\\xa0patient\\xa0was\\xa0 covered.', 'Proof\\xa0of\\xa0loss\\xa0must\\xa0be\\xa0furnished\\xa0to\\xa0Delta\\xa0Dental\\xa0within\\xa012\\xa0months\\xa0after\\xa0care\\xa0is\\xa0received.', 'Failure\\xa0to\\xa0furnish\\xa0proof\\xa0of\\xa0loss\\xa0within\\xa0this\\xa0time\\xa0period\\xa0shall\\xa0not\\xa0invalidate\\xa0nor\\xa0reduce\\xa0any\\xa0claim\\xa0if\\xa0it\\xa0 shall\\xa0be\\xa0shown\\xa0not\\xa0to\\xa0have\\xa0been\\xa0reasonably\\xa0possible\\xa0to\\xa0furnish\\xa0such\\xa0proof\\xa0of\\xa0loss\\xa0within\\xa0such\\xa0time\\xa0 and\\xa0that\\xa0such\\xa0proof\\xa0of\\xa0loss\\xa0was\\xa0furnished\\xa0as\\xa0soon\\xa0as\\xa0reasonably\\xa0possible.', 'Proof\\xa0of\\xa0loss\\xa0must\\xa0be\\xa0 given\\xa0no\\xa0later\\xa0than\\xa0one\\xa0(1)\\xa0year\\xa0from\\xa0such\\xa0time\\xa0(unless\\xa0the\\xa0claimant\\xa0was\\xa0legally\\xa0incapacitated).', 'All\\xa0 written\\xa0proof\\xa0of\\xa0loss\\xa0must\\xa0be\\xa0given\\xa0to\\xa0Delta\\xa0Dental\\xa0within\\xa012\\xa0months\\xa0of\\xa0the\\xa0termination\\xa0of\\xa0the\\xa0 Contract.', 'Predetermine\\xa0the\\xa0amount\\xa0of\\xa0Benefits\\xa0payable\\xa0under\\xa0the\\xa0Contract.', 'Pre‐Treatment\\xa0Estimate\\xa0will\\xa0be\\xa0 valid\\xa0for\\xa0365\\xa0days\\xa0from\\xa0the\\xa0date\\xa0of\\xa0the\\xa0Pre‐Treatment\\xa0Estimate,\\xa0or\\xa0until\\xa0an\\xa0earlier\\xa0occurrence\\xa0of\\xa0any\\xa0 one\\xa0of\\xa0the\\xa0following\\xa0events:\\xa0 \\uf0b7 \\uf0b7 \\uf0b7 the\\xa0date\\xa0this\\xa0Contract\\xa0terminates;\\xa0 the\\xa0date\\xa0the\\xa0Enrollee’s\\xa0coverage\\xa0ends;\\xa0or\\xa0 the\\xa0date\\xa0the\\xa0Delta\\xa0Dental\\xa0Premier®\\xa0Provider’s\\xa0(Premier\\xa0Provider)\\xa0or\\xa0Delta\\xa0Dental\\xa0PPO\\xa0Provider’s\\xa0 (PPO\\xa0Provider)\\xa0agreement\\xa0with\\xa0Delta\\xa0Dental\\xa0ends.', 'Investigate\\xa0claims\\xa0when\\xa0appropriate.', 'This\\xa0includes,\\xa0but\\xa0is\\xa0not\\xa0limited\\xa0to,\\xa0referring\\xa0claims\\xa0to\\xa0 professional\\xa0consultants.', \"In\\xa0addition,\\xa0Delta\\xa0Dental\\xa0may\\xa0obtain\\xa0to\\xa0the\\xa0extent\\xa0permitted\\xa0by\\xa0Texas\\xa0law,\\xa0 from\\xa0any\\xa0Provider\\xa0or\\xa0from\\xa0hospitals\\xa0in\\xa0which\\xa0a\\xa0Provider's\\xa0care\\xa0is\\xa0provided,\\xa0such\\xa0information\\xa0and\\xa0 records\\xa0relating\\xa0to\\xa0an\\xa0Enrollee\\xa0as\\xa0Delta\\xa0Dental\\xa0may\\xa0require\\xa0to\\xa0determine\\xa0the\\xa0claim,\\xa0or\\xa0Delta\\xa0Dental\\xa0 may\\xa0require\\xa0that\\xa0an\\xa0Enrollee\\xa0be\\xa0examined\\xa0by\\xa0a\\xa0dental\\xa0consultant\\xa0retained\\xa0by\\xa0Delta\\xa0Dental\\xa0in\\xa0or\\xa0near\\xa0 his\\xa0community\\xa0or\\xa0residence.\", 'Such\\xa0information\\xa0and\\xa0records\\xa0will\\xa0be\\xa0kept\\xa0confidential.', '1\\xa0 TX‐ASC‐PPO(2014)\\xa0 \\xa0 b)\\xa0 \\xa0 c)\\xa0 18745\\xa0 \\xa0 Coordinate\\xa0Benefit\\xa0coverage\\xa0when\\xa0Benefits\\xa0are\\xa0being\\xa0provided\\xa0under\\xa0two\\xa0(2)\\xa0or\\xa0more\\xa0group\\xa0benefit\\xa0 plans\\xa0or\\xa0group\\xa0health\\xa0care\\xa0programs\\xa0as\\xa0described\\xa0in\\xa0the\\xa0employee\\xa0benefit\\xa0booklet\\xa0prepared\\xa0by\\xa0 Delta\\xa0Dental\\xa0and\\xa0approved\\xa0by\\xa0Contractholder.', 'Delta\\xa0Dental\\xa0may\\xa0suspend\\xa0claims\\xa0for\\xa0Enrollees\\xa0if\\xa0it\\xa0does\\xa0not\\xa0receive\\xa0all\\xa0amounts\\xa0due,\\xa0in\\xa0the\\xa0amount\\xa0 and\\xa0manner\\xa0required\\xa0by\\xa0Section\\xa03\\xa0and\\xa0Appendix\\xa0A.', 'Also,\\xa0Delta\\xa0Dental\\xa0shall\\xa0not\\xa0pay\\xa0claims\\xa0for\\xa0any\\xa0 person\\xa0unless\\xa0included\\xa0on\\xa0the\\xa0monthly\\xa0eligibility\\xa0list\\xa0when\\xa0the\\xa0dental\\xa0services\\xa0are\\xa0performed.', 'However,\\xa0a\\xa0child\\xa0shall\\xa0be\\xa0covered\\xa0if\\xa0notice\\xa0of\\xa0birth\\xa0and\\xa0payment\\xa0are\\xa0received\\xa0within\\xa031\\xa0days\\xa0after\\xa0 birth.', 'All\\xa0payments\\xa0for\\xa0services\\xa0performed\\xa0by\\xa0a\\xa0PPO\\xa0or\\xa0Premier\\xa0Provider\\xa0will\\xa0be\\xa0made\\xa0directly\\xa0to\\xa0the\\xa0 Provider.', 'With\\xa0regard\\xa0to\\xa0services\\xa0performed\\xa0by\\xa0a\\xa0Non‐Delta\\xa0Dental\\xa0Provider,\\xa0the\\xa0Primary\\xa0Enrollee\\xa0 may\\xa0request\\xa0in\\xa0writing\\xa0when\\xa0filing\\xa0proof\\xa0of\\xa0loss\\xa0to\\xa0have\\xa0the\\xa0payment\\xa0made\\xa0to\\xa0the\\xa0Provider.', 'All\\xa0other\\xa0 payments\\xa0shall\\xa0be\\xa0payable\\xa0to\\xa0the\\xa0Primary\\xa0Enrollee,\\xa0or\\xa0to\\xa0the\\xa0estate,\\xa0except\\xa0that\\xa0if\\xa0the\\xa0person\\xa0is\\xa0a\\xa0 minor\\xa0or\\xa0otherwise\\xa0not\\xa0competent\\xa0to\\xa0give\\xa0a\\xa0valid\\xa0release,\\xa0payment\\xa0may\\xa0be\\xa0made\\xa0payable\\xa0to\\xa0his\\xa0 parent,\\xa0guardian\\xa0or\\xa0other\\xa0person\\xa0actually\\xa0supporting\\xa0him,\\xa0unless\\xa0otherwise\\xa0specified\\xa0by\\xa0a\\xa0valid\\xa0court\\xa0 order.', 'Document\\xa0claim\\xa0payments\\xa0to\\xa0providers\\xa0for\\xa0the\\xa0purpose\\xa0of\\xa0reporting\\xa0to\\xa0the\\xa0Internal\\xa0Revenue\\xa0 Service.', 'Furnish\\xa0to\\xa0any\\xa0Provider\\xa0or\\xa0any\\xa0Enrollee,\\xa0on\\xa0request,\\xa0a\\xa0Claim\\xa0Form\\xa0to\\xa0make\\xa0a\\xa0claim\\xa0for\\xa0payment\\xa0for\\xa0 services\\xa0under\\xa0the\\xa0Plan.', 'Notify\\xa0the\\xa0Primary\\xa0Enrollee\\xa0if\\xa0any\\xa0Benefits\\xa0are\\xa0denied\\xa0for\\xa0services\\xa0submitted\\xa0on\\xa0a\\xa0Claim\\xa0Form.', 'An\\xa0 Enrollee\\xa0has\\xa0180\\xa0days\\xa0after\\xa0receiving\\xa0a\\xa0notice\\xa0of\\xa0denial\\xa0to\\xa0appeal\\xa0it\\xa0by\\xa0writing\\xa0to\\xa0Delta\\xa0Dental\\xa0giving\\xa0 reason\\xa0why\\xa0the\\xa0denial\\xa0is\\xa0disputed.', 'The\\xa0Enrollee\\xa0may\\xa0also\\xa0ask\\xa0Delta\\xa0Dental\\xa0to\\xa0examine\\xa0any\\xa0records\\xa0to\\xa0 aid\\xa0an\\xa0appeal.', 'Delta\\xa0Dental\\xa0will\\xa0review\\xa0the\\xa0denial\\xa0in\\xa0accordance\\xa0with\\xa0the\\xa0Plan\\xa0and\\xa0render\\xa0a\\xa0decision.', \"Should\\xa0the\\xa0Primary\\xa0Enrollee\\xa0further\\xa0appeal\\xa0Delta\\xa0Dental's\\xa0decision\\xa0to\\xa0Contractholder,\\xa0Delta\\xa0Dental\\xa0 shall\\xa0assist\\xa0Contractholder\\xa0by\\xa0providing\\xa0information\\xa0necessary\\xa0to\\xa0conduct\\xa0its\\xa0review.\", 'Provide\\xa0Contractholder\\xa0with\\xa0an\\xa0annual\\xa0projection\\xa0of\\xa0paid\\xa0claims.', 'Provide\\xa0Contractholder\\xa0with\\xa0standard\\xa0claim\\xa0activity\\xa0reports.', 'd)\\xa0 \\xa0 e)\\xa0 \\xa0 f)\\xa0 g)\\xa0 \\xa0 h)\\xa0 \\xa0 i)\\xa0 \\xa0 j)\\xa0 Delta\\xa0Dental\\xa0shall\\xa0be\\xa0responsible\\xa0for\\xa0drafting\\xa0an\\xa0employee\\xa0dental\\xa0care\\xa0booklet\\xa0which\\xa0summarizes\\xa0the\\xa0 Benefits\\xa0and\\xa0to\\xa0whom\\xa0Benefits\\xa0are\\xa0payable.', 'Delta\\xa0Dental\\xa0is\\xa0also\\xa0responsible\\xa0for\\xa0providing\\xa0this\\xa0booklet\\xa0to\\xa0the\\xa0 Contractholder\\xa0in\\xa0an\\xa0electronic\\xa0format.', 'The\\xa0booklet\\xa0is\\xa0non‐assignable\\xa0and\\xa0the\\xa0Benefits\\xa0are\\xa0non‐assignable\\xa0 prior\\xa0to\\xa0a\\xa0claim.', 'If\\xa0any\\xa0amendment\\xa0to\\xa0this\\xa0Contract\\xa0shall\\xa0materially\\xa0affect\\xa0any\\xa0Benefits\\xa0described\\xa0in\\xa0such\\xa0 booklet,\\xa0new\\xa0booklets\\xa0or\\xa0amendments\\xa0showing\\xa0the\\xa0change\\xa0shall\\xa0be\\xa0issued.', '2.02\\xa0 Dental\\xa0Care\\xa0Booklet\\xa0 \\xa0 2.03 Identification\\xa0Card\\xa0 Delta\\xa0Dental\\xa0will\\xa0mail\\xa0identification\\xa0cards\\xa0to\\xa0all\\xa0Primary\\xa0Enrollees\\xa0to\\xa0their\\xa0home\\xa0address\\xa0and\\xa0will\\xa0make\\xa0 identification\\xa0card\\xa0available\\xa0for\\xa0Primary\\xa0Enrollees\\xa0to\\xa0download\\xa0from\\xa0Delta\\xa0Dental’s\\xa0website\\xa0 (deltadentalins.com).', '2.04\\xa0 PPO\\xa0Providers\\xa0and\\xa0Premier\\xa0Providers\\xa0 Delta\\xa0Dental\\xa0will\\xa0provide\\xa0access\\xa0to\\xa0PPO\\xa0Provider\\xa0and\\xa0Premier\\xa0Provider\\xa0network\\xa0listings\\xa0on\\xa0the\\xa0Internet.', 'Delta\\xa0Dental’s\\xa0website\\xa0address\\xa0is\\xa0deltadentalins.com.', 'a)\\xa0 Contractholder\\xa0understands\\xa0and\\xa0agrees\\xa0that\\xa0any\\xa0agreement\\xa0between\\xa0Delta\\xa0Dental\\xa0and\\xa0a\\xa0network\\xa0 dentist\\xa0is\\xa0that\\xa0of\\xa0an\\xa0independent\\xa0contractor.', 'Delta\\xa0Dental\\xa0shall\\xa0not\\xa0be\\xa0responsible\\xa0for\\xa0any\\xa0care\\xa0 rendered\\xa0or\\xa0not\\xa0rendered.', 'Delta\\xa0Dental\\xa0shall\\xa0provide\\xa0Contractholder\\xa0with\\xa0an\\xa0electronic\\xa0version\\xa0of\\xa0 the\\xa0PPO\\xa0Provider\\xa0Directory.', 'Any\\xa0information\\xa0relating\\xa0to\\xa0PPO\\xa0Providers\\xa0and\\xa0Premier\\xa0Providers\\xa0will\\xa0be\\xa0considered\\xa0the\\xa0sole\\xa0 property\\xa0of\\xa0Delta\\xa0Dental\\xa0and\\xa0shall\\xa0not\\xa0be\\xa0distributed\\xa0to\\xa0third\\xa0parties\\xa0or\\xa0for\\xa0any\\xa0purpose\\xa0other\\xa0than\\xa0 one\\xa0which\\xa0is\\xa0reasonably\\xa0necessary\\xa0to\\xa0carry\\xa0out\\xa0the\\xa0terms\\xa0of\\xa0the\\xa0Contract.', 'Delta\\xa0Dental\\xa0does\\xa0not\\xa0guarantee\\xa0the\\xa0availability\\xa0of\\xa0any\\xa0Provider\\xa0nor\\xa0is\\xa0it\\xa0required\\xa0that\\xa0dental\\xa0 services\\xa0be\\xa0provided\\xa0by\\xa0any\\xa0specific\\xa0Provider.', 'b)\\xa0 \\xa0 c) \\xa0 \\xa0 \\xa0 \\xa0 18745\\xa0 2\\xa0 TX‐ASC‐PPO(2014)\\xa0 SECTION\\xa03.', 'DUTIES\\xa0OF\\xa0CONTRACTHOLDER\\xa0 \\xa0 3.01\\xa0 Eligibility\\xa0 termination;\\xa0and\\xa0 termination.', 'On\\xa0or\\xa0before\\xa0the\\xa0Effective\\xa0Date,\\xa0Contractholder\\xa0will\\xa0furnish\\xa0to\\xa0Delta\\xa0Dental,\\xa0in\\xa0writing\\xa0or\\xa0in\\xa0electronic\\xa0media\\xa0 format\\xa0agreed\\xa0by\\xa0Delta\\xa0Dental\\xa0and\\xa0the\\xa0Contractholder,\\xa0a\\xa0listing\\xa0of\\xa0eligible\\xa0Primary\\xa0Enrollees\\xa0and\\xa0Dependent\\xa0 Enrollees.', 'The\\xa0listing\\xa0must\\xa0show\\xa0the\\xa0names,\\xa0Enrollee\\xa0ID\\xa0numbers,\\xa0dates\\xa0of\\xa0hire,\\xa0dates\\xa0of\\xa0birth,\\xa0dependent\\xa0 status\\xa0and\\xa0location\\xa0codes,\\xa0if\\xa0any.', 'The\\xa0eligibility\\xa0list\\xa0shall\\xa0include\\xa0all\\xa0active\\xa0employees\\xa0unless\\xa0the\\xa0employee\\xa0 waives\\xa0coverage\\xa0in\\xa0writing\\xa0or\\xa0the\\xa0Eligible\\xa0Employee\\xa0enrolls\\xa0in\\xa0an\\xa0alternate\\xa0dental\\xa0plan\\xa0offered\\xa0by\\xa0 Contractholder.', 'Thereafter,\\xa0before\\xa0the\\xa010th\\xa0of\\xa0each\\xa0month,\\xa0Contractholder\\xa0must\\xa0furnish\\xa0to\\xa0Delta\\xa0Dental\\xa0in\\xa0the\\xa0format\\xa0agreed\\xa0 to\\xa0above,\\xa0a\\xa0listing\\xa0indicating\\xa0specific\\xa0additions,\\xa0changes\\xa0or\\xa0terminations\\xa0made\\xa0during\\xa0the\\xa0prior\\xa0month.', 'Contractholder\\xa0will\\xa0notify\\xa0Delta\\xa0Dental\\xa0in\\xa0writing\\xa0of\\xa0any\\xa0requests\\xa0for\\xa0administrative\\xa0fee\\xa0adjustments\\xa0for\\xa0 Enrollees\\xa0who\\xa0should\\xa0have\\xa0been\\xa0terminated\\xa0in\\xa0the\\xa0event\\xa0Delta\\xa0Dental\\xa0was\\xa0not\\xa0previously\\xa0notified\\xa0of\\xa0the\\xa0 termination(s).', 'Said\\xa0termination\\xa0date\\xa0will\\xa0be\\xa0adjusted\\xa0retroactively\\xa0to\\xa0the\\xa0immediately\\xa0preceding\\xa03\\xa0months\\xa0 plus\\xa0the\\xa0current\\xa0month,\\xa0provided:\\xa0 a)\\xa0 no\\xa0claims\\xa0were\\xa0submitted\\xa0to\\xa0be\\xa0processed\\xa0on\\xa0said\\xa0Enrollee\\xa0subsequent\\xa0to\\xa0the\\xa0date\\xa0of\\xa0retroactive\\xa0 b)\\xa0 The\\xa0administrative\\xa0fees\\xa0were\\xa0actually\\xa0paid\\xa0for\\xa0the\\xa0Enrollee\\xa0subsequent\\xa0to\\xa0the\\xa0date\\xa0of\\xa0retroactive\\xa0 Delta\\xa0Dental\\xa0will\\xa0notify\\xa0the\\xa0Contractholder\\xa0in\\xa0writing\\xa0of\\xa0the\\xa0revised\\xa0termination\\xa0date\\xa0and\\xa0administrative\\xa0fees\\xa0 will\\xa0be\\xa0adjusted\\xa0accordingly.', 'Delta\\xa0Dental\\xa0will\\xa0not\\xa0pay\\xa0any\\xa0Benefits\\xa0for\\xa0an\\xa0Enrollee\\xa0or\\xa0Dependent\\xa0Enrollee\\xa0if\\xa0proof\\xa0of\\xa0eligibility\\xa0is\\xa0not\\xa0 submitted.', 'Also,\\xa0Delta\\xa0Dental\\xa0will\\xa0not\\xa0pay\\xa0Benefits\\xa0for\\xa0an\\xa0Enrollee\\xa0if\\xa0the\\xa0administrative\\xa0fees\\xa0are\\xa0not\\xa0paid\\xa0for\\xa0 the\\xa0month\\xa0in\\xa0which\\xa0dental\\xa0services\\xa0are\\xa0rendered.', 'Contractholder\\xa0shall\\xa0permit\\xa0Delta\\xa0Dental\\xa0to\\xa0audit\\xa0its\\xa0records\\xa0to\\xa0 determine\\xa0whether\\xa0 the\\xa0lists\\xa0of\\xa0Primary\\xa0 Enrollees\\xa0are\\xa0correct\\xa0and\\xa0to\\xa0verify\\xa0the\\xa0monthly\\xa0payments\\xa0match\\xa0the\\xa0administrative\\xa0charges.', 'Delta\\xa0Dental\\xa0 shall\\xa0give\\xa0Contractholder\\xa0written\\xa0notice\\xa0within\\xa030\\xa0days\\xa0before\\xa0the\\xa0audit\\xa0date.', 'The\\xa0audit\\xa0will\\xa0be\\xa0performed\\xa0 during\\xa0 regular\\xa0 business\\xa0 hours.', 'Any\\xa0 incidental\\xa0 costs\\xa0 incurred\\xa0 by\\xa0 Delta\\xa0 Dental\\xa0 or\\xa0 designee\\xa0 are\\xa0 the\\xa0 responsibility\\xa0of\\xa0Delta\\xa0Dental.', \"Delta\\xa0Dental\\xa0shall\\xa0permit\\xa0Contractholder\\xa0or\\xa0their\\xa0designee\\xa0to\\xa0audit\\xa0it’s\\xa0financial,\\xa0quality\\xa0assurance\\xa0and\\xa0claims\\xa0 payment\\xa0systems\\xa0related\\xa0to\\xa0the\\xa0Employer's\\xa0dental\\xa0service\\xa0contract,\\xa0enrollment,\\xa0eligibility\\xa0and\\xa0service\\xa0fees.\", 'Contractholder\\xa0shall\\xa0give\\xa0Delta\\xa0Dental\\xa0written\\xa0notice\\xa0within\\xa030\\xa0days\\xa0before\\xa0the\\xa0audit\\xa0date.', 'The\\xa0audit\\xa0will\\xa0be\\xa0 performed\\xa0during\\xa0regular\\xa0business\\xa0hours.', 'Any\\xa0incidental\\xa0costs\\xa0incurred\\xa0by\\xa0the\\xa0Contractholder\\xa0or\\xa0designee\\xa0 are\\xa0the\\xa0responsibility\\xa0of\\xa0the\\xa0Contractholder.', '3.02\\xa0 Audits\\xa0 \\xa0 3.03\\xa0 Printing\\xa0and\\xa0Distribution\\xa0 Contractholder\\xa0agrees\\xa0to\\xa0consult\\xa0with\\xa0Delta\\xa0Dental\\xa0to\\xa0the\\xa0extent\\xa0reasonably\\xa0practical\\xa0concerning\\xa0any\\xa0 material\\xa0published\\xa0or\\xa0distributed\\xa0relating\\xa0to\\xa0the\\xa0Contract.', 'No\\xa0such\\xa0material\\xa0shall\\xa0be\\xa0published\\xa0or\\xa0 distributed\\xa0which\\xa0is\\xa0contrary\\xa0to\\xa0the\\xa0terms\\xa0of\\xa0the\\xa0Contract.', 'Contractholder\\xa0will\\xa0make\\xa0the\\xa0dental\\xa0booklet(s)\\xa0drafted\\xa0by\\xa0Delta\\xa0Dental\\xa0available\\xa0to\\xa0each\\xa0Primary\\xa0Enrollee\\xa0 via\\xa0its\\xa0internal\\xa0computer\\xa0network\\xa0or\\xa0through\\xa0its\\xa0website.', 'Contractholder\\xa0will\\xa0neither\\xa0change\\xa0nor\\xa0revise\\xa0 these\\xa0booklets\\xa0without\\xa0the\\xa0prior\\xa0written\\xa0approval\\xa0of\\xa0Delta\\xa0Dental.', 'Delta\\xa0Dental\\xa0will\\xa0produce\\xa0a\\xa0weekly\\xa0summary\\xa0of\\xa0claims\\xa0paid.', 'This\\xa0information\\xa0will\\xa0be\\xa0transmitted\\xa0weekly\\xa0 by\\xa0fax\\xa0or\\xa0email\\xa0to\\xa0the\\xa0Contractholder.', 'Contractholder\\xa0will\\xa0initiate\\xa0a\\xa0weekly\\xa0Automatic\\xa0Clearing\\xa0House\\xa0 Credit\\xa0to\\xa0Delta\\xa0Dental’s\\xa0account\\xa0within\\xa0seven\\xa0(7)\\xa0business\\xa0day\\xa0of\\xa0receiving\\xa0the\\xa0weekly\\xa0summary\\xa0of\\xa0claims\\xa0 paid\\xa0by\\xa0Delta\\xa0Dental.', 'Delta\\xa0Dental\\xa0may\\xa0suspend\\xa0claims\\xa0payments\\xa0at\\xa0any\\xa0time\\xa0if\\xa0the\\xa0requested\\xa0electronic\\xa0funds\\xa0transfer\\xa0is\\xa0not\\xa0 received\\xa0within\\xa0the\\xa0allotted\\xa0time\\xa0frame.', '3.04\\xa0 Electronic\\xa0Transfer\\xa0of\\xa0Funds\\xa0\\xa0 \\xa0 SECTION\\xa04.', 'RELATIONSHIP\\xa0OF\\xa0THE\\xa0PARTIES\\xa0 \\xa0 4.01\\xa0 Delta\\xa0Dental\\xa0is\\xa0an\\xa0independent\\xa0contractor\\xa0with\\xa0Contractholder.', '4.02\\xa0 Delta\\xa0Dental\\xa0shall\\xa0be\\xa0responsible\\xa0for\\xa0fulfilling\\xa0all\\xa0administrative\\xa0duties\\xa0and\\xa0obligations\\xa0set\\xa0forth\\xa0in\\xa0this\\xa0 Agreement.', \"Notwithstanding\\xa0the\\xa0foregoing,\\xa0Delta\\xa0Dental\\xa0may,\\xa0in\\xa0its\\xa0discretion,\\xa0delegate\\xa0one\\xa0or\\xa0more\\xa0 functions\\xa0or\\xa0tasks\\xa0to\\xa0one\\xa0or\\xa0more\\xa0subsidiaries\\xa0or\\xa0affiliated\\xa0companies\\xa0(companies\\xa0under\\xa0common\\xa0control\\xa0 18745\\xa0 3\\xa0 TX‐ASC‐PPO(2014)\\xa0 with\\xa0or\\xa0by\\xa0Delta\\xa0Dental),\\xa0however,\\xa0such\\xa0delegation\\xa0shall\\xa0not\\xa0in\\xa0any\\xa0way\\xa0affect\\xa0Delta\\xa0Dental's\\xa0continuing\\xa0 obligation\\xa0to\\xa0perform\\xa0its\\xa0stated\\xa0duties\\xa0and\\xa0obligations.\", \"4.03\\xa0 Indemnification\\xa0 Contractholder\\xa0shall\\xa0indemnify,\\xa0defend\\xa0and\\xa0hold\\xa0harmless\\xa0Delta\\xa0Dental,\\xa0its\\xa0directors,\\xa0officers,\\xa0employees,\\xa0 agents\\xa0and\\xa0affiliated\\xa0companies\\xa0against\\xa0any\\xa0and\\xa0all\\xa0claims,\\xa0demands,\\xa0liabilities,\\xa0costs,\\xa0damages\\xa0and\\xa0causes\\xa0 of\\xa0action\\xa0or\\xa0administrative\\xa0proceedings\\xa0whatsoever,\\xa0including\\xa0reasonable\\xa0attorney's\\xa0fees,\\xa0arising\\xa0from\\xa0 Contractholder’s\\xa0negligent\\xa0performance\\xa0or\\xa0non‐performance\\xa0of\\xa0its\\xa0obligations\\xa0under\\xa0this\\xa0Contract.\", \"Delta\\xa0Dental\\xa0shall\\xa0indemnify,\\xa0defend\\xa0and\\xa0hold\\xa0harmless\\xa0the\\xa0Contractholder,\\xa0its\\xa0directors,\\xa0officers,\\xa0 employees,\\xa0agents\\xa0and\\xa0affiliated\\xa0companies\\xa0against\\xa0any\\xa0and\\xa0all\\xa0claims,\\xa0demands,\\xa0liabilities,\\xa0costs,\\xa0damages\\xa0 and\\xa0causes\\xa0of\\xa0action\\xa0or\\xa0administrative\\xa0proceedings\\xa0whatsoever,\\xa0including\\xa0reasonable\\xa0attorney's\\xa0fees,\\xa0 arising\\xa0from\\xa0Delta\\xa0Dental's\\xa0negligent\\xa0performance\\xa0or\\xa0non‐performance\\xa0of\\xa0its\\xa0obligations\\xa0under\\xa0this\\xa0 Contract.\", '4.04\\xa0 Impossibility\\xa0of\\xa0Performance\\xa0 Neither\\xa0party\\xa0shall\\xa0be\\xa0liable\\xa0to\\xa0the\\xa0other\\xa0or\\xa0be\\xa0deemed\\xa0to\\xa0be\\xa0in\\xa0breach\\xa0of\\xa0this\\xa0Contract\\xa0for\\xa0any\\xa0failure\\xa0or\\xa0 delay\\xa0in\\xa0performance\\xa0arising\\xa0out\\xa0of\\xa0causes\\xa0beyond\\xa0its\\xa0reasonable\\xa0control.', 'Such\\xa0causes\\xa0are\\xa0strictly\\xa0limited\\xa0 to\\xa0include\\xa0acts\\xa0of\\xa0God\\xa0or\\xa0of\\xa0a\\xa0public\\xa0enemy,\\xa0explosion,\\xa0fires,\\xa0or\\xa0unusually\\xa0severe\\xa0weather.', 'Dates\\xa0and\\xa0times\\xa0 of\\xa0performance\\xa0shall\\xa0be\\xa0extended\\xa0to\\xa0the\\xa0extent\\xa0of\\xa0the\\xa0delays\\xa0excused\\xa0by\\xa0this\\xa0paragraph,\\xa0provided\\xa0that\\xa0the\\xa0 party\\xa0whose\\xa0performance\\xa0is\\xa0affected\\xa0notifies\\xa0the\\xa0other\\xa0promptly\\xa0of\\xa0the\\xa0existence\\xa0and\\xa0nature\\xa0of\\xa0the\\xa0delay.', 'SECTION\\xa05.', 'GENERAL\\xa0PROVISIONS\\xa0 \\xa0 5.01\\xa0 If\\xa0during\\xa0the\\xa0Contract\\xa0Term\\xa0any\\xa0new\\xa0or\\xa0increased\\xa0tax,\\xa0assessment,\\xa0or\\xa0fee\\xa0is\\xa0imposed\\xa0on\\xa0the\\xa0amounts\\xa0 payable\\xa0to,\\xa0or\\xa0by,\\xa0Delta\\xa0Dental\\xa0under\\xa0this\\xa0Contract\\xa0or\\xa0any\\xa0immediately\\xa0preceding\\xa0contract\\xa0between\\xa0Delta\\xa0 Dental\\xa0and\\xa0the\\xa0Contractholder,\\xa0the\\xa0amount\\xa0stated\\xa0in\\xa0Appendix\\xa0A\\xa0will\\xa0be\\xa0increased\\xa0by\\xa0the\\xa0amount\\xa0of\\xa0any\\xa0 such\\xa0new\\xa0or\\xa0increased\\xa0tax,\\xa0assessment,\\xa0or\\xa0fee\\xa0by\\xa0written\\xa0notice\\xa0to\\xa0Contractholder,\\xa0and\\xa0the\\xa0Contract\\xa0shall\\xa0 thereby\\xa0be\\xa0modified\\xa0on\\xa0the\\xa0date\\xa0set\\xa0forth\\xa0in\\xa0the\\xa0notice.', '5.02 The\\xa0parties\\xa0agree\\xa0that\\xa0all\\xa0questions\\xa0regarding\\xa0interpretation\\xa0or\\xa0enforcement\\xa0of\\xa0the\\xa0Contract\\xa0shall\\xa0be\\xa0 governed\\xa0by\\xa0the\\xa0laws\\xa0of\\xa0the\\xa0State\\xa0of\\xa0Texas,\\xa0where\\xa0the\\xa0Contract\\xa0was\\xa0entered\\xa0into\\xa0and\\xa0is\\xa0to\\xa0be\\xa0performed.', 'Any\\xa0provision\\xa0of\\xa0the\\xa0Contract\\xa0which,\\xa0on\\xa0its\\xa0Effective\\xa0Date,\\xa0is\\xa0in\\xa0conflict\\xa0with\\xa0statutes\\xa0of\\xa0said\\xa0state\\xa0is\\xa0hereby\\xa0 amended\\xa0to\\xa0conform\\xa0to\\xa0minimum\\xa0requirements\\xa0of\\xa0such\\xa0statutes.', '5.03 Delta\\xa0Dental\\xa0is\\xa0a\\xa0member\\xa0of\\xa0the\\xa0Delta\\xa0Dental\\xa0of\\xa0California\\xa0Holding\\xa0Company\\xa0System\\xa0(the\\xa0“Enterprise”).', 'There\\xa0are\\xa0service\\xa0agreements\\xa0between\\xa0and\\xa0among\\xa0the\\xa0controlled\\xa0member\\xa0companies\\xa0of\\xa0the\\xa0Enterprise.', 'Delta\\xa0Dental\\xa0is\\xa0a\\xa0party\\xa0to\\xa0some\\xa0of\\xa0these\\xa0service\\xa0agreements,\\xa0and\\xa0it\\xa0is\\xa0expected\\xa0that\\xa0the\\xa0services,\\xa0which\\xa0 include\\xa0certain\\xa0ministerial\\xa0tasks,\\xa0will\\xa0continue\\xa0to\\xa0be\\xa0performed\\xa0by\\xa0these\\xa0controlled\\xa0member\\xa0companies,\\xa0 which\\xa0operate\\xa0under\\xa0strict\\xa0confidentiality\\xa0and/or\\xa0business\\xa0associate\\xa0agreements.', 'All\\xa0such\\xa0service\\xa0 agreements\\xa0have\\xa0been\\xa0approved\\xa0by\\xa0the\\xa0respective\\xa0regulatory\\xa0agencies.', '5.04\\xa0 Delta\\xa0Dental\\xa0will\\xa0not\\xa0be\\xa0responsible\\xa0or\\xa0liable\\xa0for\\xa0any\\xa0incorrect,\\xa0obsolete\\xa0or\\xa0unreadable\\xa0data\\xa0or\\xa0information\\xa0 \\xa0 5.05\\xa0 All\\xa0formal\\xa0notices\\xa0required\\xa0under\\xa0the\\xa0Contract\\xa0must\\xa0be\\xa0in\\xa0writing\\xa0and\\xa0sent\\xa0by\\xa0first‐class\\xa0United\\xa0States\\xa0Mail,\\xa0 supplied\\xa0to\\xa0Delta\\xa0Dental\\xa0including,\\xa0but\\xa0not\\xa0limited\\xa0to,\\xa0eligibility\\xa0and\\xa0enrollment\\xa0information.', 'overnight\\xa0delivery\\xa0service\\xa0or\\xa0personal\\xa0delivery.', 'Notice\\xa0by\\xa0first\\xa0class\\xa0United\\xa0States\\xa0Mail\\xa0shall\\xa0be\\xa0effective\\xa0 forty‐eight\\xa0(48)\\xa0hours\\xa0after\\xa0mailing.', 'Notice\\xa0to\\xa0Delta\\xa0Dental\\xa0shall\\xa0be\\xa0to:\\xa0 \\xa0 5.06\\xa0 Both\\xa0parties\\xa0to\\xa0the\\xa0Contract\\xa0agree\\xa0to\\xa0permit\\xa0and\\xa0encourage\\xa0the\\xa0professional\\xa0relationship\\xa0between\\xa0 \\xa0 Provider\\xa0and\\xa0patient\\xa0to\\xa0be\\xa0maintained\\xa0without\\xa0interference.', '18745\\xa0 4\\xa0 TX‐ASC‐PPO(2014)\\xa0 Notice\\xa0to\\xa0Contractholder\\xa0shall\\xa0be\\xa0to:\\xa0 Coca‐Cola\\xa0Southwest\\xa0Beverages\\xa0LLC\\xa0 Delta\\xa0Dental\\xa0Insurance\\xa0Company\\xa0 1130\\xa0Sanctuary\\xa0Parkway\\xa0 Alpharetta,\\xa0GA\\xa0\\xa030009\\xa0 \\xa0 14185\\xa0Dallas\\xa0Parkway\\xa0 Dallas,\\xa0TX\\xa0\\xa075254\\xa0 Attn:\\xa0\\xa0Denise\\xa0Martinez\\xa0\\xa0 With\\xa0a\\xa0copy\\xa0to:\\xa0 Coca‐Cola\\xa0Southwest\\xa0Beverages\\xa0LLC\\xa0 14185\\xa0Dallas\\xa0Parkway\\xa0 Dallas,\\xa0TX\\xa0\\xa075254\\xa0 Attn:\\xa0\\xa0General\\xa0Counsel\\xa0 \\xa0 \\xa0 \\xa0 \\xa0 \\xa0 \\xa0 \\xa0 \\xa0 \\xa0 \\xa0 Contractholder.', '5.07\\xa0 The\\xa0Contract\\xa0may\\xa0not\\xa0be\\xa0amended,\\xa0except\\xa0in\\xa0writing\\xa0by\\xa0mutual\\xa0consent\\xa0of\\xa0Delta\\xa0Dental\\xa0and\\xa0 \\xa0 5.08\\xa0 If\\xa0any\\xa0portion\\xa0of\\xa0the\\xa0Contract\\xa0or\\xa0any\\xa0amendment\\xa0thereto\\xa0shall\\xa0be\\xa0determined\\xa0by\\xa0a\\xa0court\\xa0or\\xa0other\\xa0 competent\\xa0authority\\xa0to\\xa0be\\xa0illegal,\\xa0void\\xa0or\\xa0unenforceable,\\xa0such\\xa0determination\\xa0shall\\xa0not\\xa0abrogate\\xa0the\\xa0 Contract\\xa0or\\xa0any\\xa0portion\\xa0thereof\\xa0other\\xa0than\\xa0such\\xa0portion\\xa0determined\\xa0to\\xa0be\\xa0illegal,\\xa0void\\xa0or\\xa0unenforceable,\\xa0 and\\xa0all\\xa0other\\xa0portions\\xa0of\\xa0the\\xa0Contract\\xa0shall\\xa0remain\\xa0in\\xa0full\\xa0force\\xa0and\\xa0effect.', '5.09\\xa0 The\\xa0parties\\xa0shall\\xa0comply\\xa0in\\xa0all\\xa0respects\\xa0with\\xa0applicable\\xa0federal,\\xa0state\\xa0and\\xa0local\\xa0laws\\xa0and\\xa0regulations\\xa0 relating\\xa0to\\xa0administrative\\xa0simplification,\\xa0security\\xa0and\\xa0privacy\\xa0of\\xa0individually\\xa0identifiable\\xa0Enrollee\\xa0 information.', 'The\\xa0parties\\xa0agree\\xa0that\\xa0this\\xa0Contract\\xa0may\\xa0be\\xa0amended\\xa0as\\xa0necessary\\xa0to\\xa0comply\\xa0with\\xa0federal\\xa0 regulations\\xa0issued\\xa0under\\xa0the\\xa0Health\\xa0Insurance\\xa0Portability\\xa0and\\xa0Accountability\\xa0Act\\xa0of\\xa01996\\xa0or\\xa0to\\xa0comply\\xa0with\\xa0 any\\xa0other\\xa0enacted\\xa0administrative\\xa0simplifications,\\xa0security\\xa0or\\xa0privacy\\xa0laws\\xa0or\\xa0regulations.', 'and\\xa0not\\xa0a\\xa0warranty.', '5.10\\xa0 Absent\\xa0fraud,\\xa0each\\xa0statement\\xa0made\\xa0by\\xa0the\\xa0Contractholder\\xa0or\\xa0Enrollee\\xa0is\\xa0considered\\xa0to\\xa0be\\xa0a\\xa0representation\\xa0 \\xa0 SECTION\\xa06.', 'TERMINATION\\xa0AND\\xa0RENEWAL\\xa0 \\xa0 6.01\\xa0 The\\xa0term\\xa0of\\xa0the\\xa0Contract\\xa0shall\\xa0be\\xa0for\\xa0the\\xa0period\\xa0set\\xa0forth\\xa0in\\xa0Appendix\\xa0A.', \"6.02\\xa0 The\\xa0Contract\\xa0may\\xa0be\\xa0terminated\\xa0only\\xa0for\\xa0the\\xa0following\\xa0causes:\\xa0 \\xa0 a)\\xa0 \\xa0 b)\\xa0 \\xa0 c)\\xa0 \\xa0 d)\\xa0 By\\xa0Delta\\xa0Dental,\\xa0upon\\xa0Contractholder's\\xa0failure\\xa0(i)\\xa0to\\xa0furnish\\xa0Delta\\xa0Dental\\xa0with\\xa0a\\xa0list\\xa0of\\xa0all\\xa0Primary\\xa0 Enrollees\\xa0and\\xa0Dependent\\xa0Enrollees\\xa0as\\xa0required\\xa0under\\xa0Section\\xa03.01;\\xa0(ii)\\xa0to\\xa0permit\\xa0the\\xa0inspection\\xa0of\\xa0 records\\xa0as\\xa0called\\xa0for\\xa0under\\xa0Section\\xa03.02;\\xa0or\\xa0(iii)\\xa0to\\xa0pay\\xa0all\\xa0amounts\\xa0due,\\xa0in\\xa0the\\xa0amount\\xa0and\\xa0manner\\xa0 required\\xa0by\\xa0Section\\xa03\\xa0and\\xa0Appendix\\xa0A,\\xa0if\\xa0such\\xa0failure\\xa0is\\xa0not\\xa0cured\\xa0within\\xa010\\xa0days\\xa0after\\xa0receipt\\xa0of\\xa0 written\\xa0notice\\xa0thereof.\", 'By\\xa0either\\xa0Contractholder\\xa0or\\xa0Delta\\xa0Dental,\\xa0upon\\xa0expiration\\xa0of\\xa0a\\xa0Contract\\xa0Term.', 'By\\xa0Delta\\xa0Dental,\\xa0in\\xa0the\\xa0event\\xa0that\\xa0the\\xa0number\\xa0of\\xa0Primary\\xa0Enrollees\\xa0reported\\xa0by\\xa0Contractholder\\xa0to\\xa0 Delta\\xa0Dental\\xa0shall\\xa0be\\xa0less\\xa0than\\xa0the\\xa0minimum\\xa0number\\xa0of\\xa0Primary\\xa0Enrollees\\xa0(shown\\xa0in\\xa0Appendix\\xa0A)\\xa0in\\xa0 each\\xa0of\\xa0three\\xa0(3)\\xa0consecutive\\xa0months,\\xa0but\\xa0only\\xa0upon\\xa0written\\xa0notice,\\xa0given\\xa0not\\xa0more\\xa0than\\xa015\\xa0days\\xa0 after\\xa0receipt\\xa0of\\xa0the\\xa0list\\xa0of\\xa0Primary\\xa0Enrollees\\xa0which\\xa0indicates\\xa0that\\xa0such\\xa0grounds\\xa0for\\xa0termination\\xa0exist,\\xa0 effective\\xa0as\\xa0of\\xa0the\\xa0last\\xa0day\\xa0of\\xa0the\\xa0month\\xa0in\\xa0which\\xa0notice\\xa0of\\xa0termination\\xa0is\\xa0given.', 'By\\xa0Delta\\xa0Dental,\\xa0in\\xa0the\\xa0event\\xa0that\\xa0the\\xa0bank\\xa0account\\xa0for\\xa0claim\\xa0payment\\xa0remains\\xa0under\\xa0funded\\xa0as\\xa0a\\xa0 result\\xa0of\\xa0insufficient\\xa0funds\\xa0for\\xa0more\\xa0than\\xa015\\xa0days.', 'The\\xa0Contract\\xa0shall\\xa0terminate\\xa0as\\xa0of\\xa0the\\xa0last\\xa0day\\xa0of\\xa0 the\\xa0month\\xa0after\\xa0the\\xa0fifteen\\xa0days\\xa0under\\xa0funding\\xa0has\\xa0occurred.', '6.03\\xa0 Either\\xa0Party\\xa0may\\xa0terminate\\xa0this\\xa0Contract\\xa0in\\xa0the\\xa0event\\xa0of\\xa0a\\xa0material\\xa0breach\\xa0and\\xa0such\\xa0breach\\xa0is\\xa0not\\xa0cured\\xa0 within\\xa0 30\\xa0 days\\xa0 after\\xa0 receipt\\xa0 of\\xa0 written\\xa0 notice\\xa0 specifying\\xa0 the\\xa0 breach,\\xa0 at\\xa0 which\\xa0 time\\xa0 the\\xa0 Contract\\xa0 shall\\xa0 automatically\\xa0terminate.', '6.04\\xa0 In\\xa0the\\xa0event\\xa0of\\xa0termination\\xa0by\\xa0Delta\\xa0Dental,\\xa0all\\xa0Benefits\\xa0shall\\xa0terminate\\xa0and\\xa0Delta\\xa0Dental\\xa0shall\\xa0be\\xa0released\\xa0 from\\xa0all\\xa0further\\xa0obligations\\xa0of\\xa0the\\xa0Contract,\\xa0effective\\xa0on\\xa0the\\xa0last\\xa0day\\xa0of\\xa0the\\xa0month\\xa0in\\xa0which\\xa0written\\xa0notice\\xa0 of\\xa0termination\\xa0is\\xa0given.', 'Contractholder\\xa0shall\\xa0remain\\xa0liable\\xa0for\\xa0claims\\xa0incurred,\\xa0paid\\xa0or\\xa0otherwise\\xa0 discharged\\xa0during\\xa0the\\xa0term\\xa0of\\xa0the\\xa0Contract\\xa0and\\xa0during\\xa0the\\xa012‐month\\xa0claims\\xa0run‐out\\xa0period.', 'Term\\xa0of\\xa0the\\xa0renewal\\xa0information.', '6.05\\xa0 The\\xa0Contract\\xa0may\\xa0be\\xa0terminated\\xa0at\\xa0the\\xa0end\\xa0of\\xa0a\\xa0Contract\\xa0Term\\xa0only\\xa0by\\xa0at\\xa0least\\xa060\\xa0days\\xa0written\\xa0notice.', '6.06\\xa0 Delta\\xa0Dental\\xa0will\\xa0notify\\xa0the\\xa0Contractholder\\xa0in\\xa0writing\\xa0within\\xa0120\\xa0days\\xa0prior\\xa0to\\xa0the\\xa0end\\xa0of\\xa0each\\xa0Contract\\xa0 \\xa0 6.07\\xa0 In\\xa0the\\xa0event\\xa0of\\xa0termination\\xa0by\\xa0the\\xa0Contractholder,\\xa0except\\xa0in\\xa0the\\xa0event\\xa0of\\xa0termination\\xa0for\\xa0cause\\xa0as\\xa0 hereinafter\\xa0defined\\xa0or\\xa0a\\xa0material\\xa0breach\\xa0as\\xa0set\\xa0forth\\xa0in\\xa0Section\\xa06.03,\\xa0Delta\\xa0Dental\\xa0shall\\xa0be\\xa0paid\\xa0its\\xa0 compensation\\xa0for\\xa0services\\xa0performed\\xa0to\\xa0termination\\xa0date,\\xa0including\\xa0all\\xa0reimbursable\\xa0expenses\\xa0then\\xa0due\\xa0 or\\xa0incurred\\xa0to\\xa0the\\xa0date\\xa0of\\xa0termination.', 'Termination\\xa0for\\xa0cause\\xa0shall\\xa0include,\\xa0but\\xa0not\\xa0be\\xa0limited\\xa0to,\\xa0misuse\\xa0 of\\xa0funds,\\xa0fraud,\\xa0lack\\xa0of\\xa0compliance\\xa0with\\xa0applicable\\xa0rules,\\xa0laws,\\xa0regulations,\\xa0and\\xa0ordinances,\\xa0and\\xa0failure\\xa0to\\xa0 perform\\xa0in\\xa0a\\xa0timely\\xa0manner\\xa0any\\xa0provision\\xa0of\\xa0this\\xa0Agreement.', '18745\\xa0 5\\xa0 TX‐ASC‐PPO(2014)\\xa0 \\xa0 6.08\\xa0 Delta\\xa0Dental\\xa0and\\xa0the\\xa0Contractholder\\xa0understand\\xa0and\\xa0agree\\xa0that\\xa0at\\xa0the\\xa0expiration\\xa0of\\xa0this\\xa0Agreement\\xa0or\\xa0any\\xa0 extension\\xa0thereto,\\xa0the\\xa0Contractholder\\xa0shall\\xa0in\\xa0no\\xa0way\\xa0be\\xa0further\\xa0obligated\\xa0to\\xa0Delta\\xa0Dental\\xa0and\\xa0shall\\xa0 remain\\xa0liable\\xa0for\\xa0claims\\xa0incurred,\\xa0paid\\xa0or\\xa0otherwise\\xa0discharged\\xa0during\\xa0the\\xa0term\\xa0of\\xa0the\\xa0Contract\\xa0and\\xa0during\\xa0 the\\xa012‐month\\xa0claims\\xa0run‐out\\xa0period.', 'Administrative\\xa0Contract\\xa0Variables\\xa0 Business\\xa0Associate\\xa0Agreement\\xa0 Employee\\xa0Benefit\\xa0Booklet\\xa0 \\xa0 SECTION\\xa07.', 'ATTACHMENTS\\xa0 \\xa0 The\\xa0following\\xa0documents\\xa0are\\xa0attached\\xa0to\\xa0this\\xa0Contract\\xa0and\\xa0made\\xa0a\\xa0part\\xa0hereof:\\xa0 \\xa0 Appendix\\xa0A\\xa0 \\xa0 Appendix\\xa0B\\xa0 \\xa0 Appendix\\xa0C\\xa0 \\xa0 \\xa0 SECTION\\xa08.', 'SIGNATURES\\xa0 \\xa0 The\\xa0terms\\xa0of\\xa0this\\xa0Contract\\xa0are\\xa0agreed\\xa0to\\xa0by:\\xa0 \\xa0 \\xa0 DELTA\\xa0DENTAL\\xa0INSURANCE\\xa0COMPANY\\xa0 \\xa0 Coca‐Cola\\xa0Southwest\\xa0Beverages\\xa0LLC\\xa0 \\xa0 Belinda\\xa0Martinez\\xa0 President\\xa0 March\\xa024,\\xa02017\\xa0 \\xa0 \\xa0 \\xa0 Name\\xa0of\\xa0Officer:\\xa0 Title:\\xa0 Date:\\xa0 \\xa0 \\xa0 \\xa0 18745\\xa0 6\\xa0 TX‐ASC‐PPO(2014)\\xa0 APPENDIX\\xa0A\\xa0 ADMINISTRATIVE\\xa0CONTRACT\\xa0VARIABLES\\xa0 Contract\\xa0Number:\\xa0\\xa018745\\xa0 The\\xa0administrative\\xa0services\\xa0performed\\xa0by\\xa0Delta\\xa0Dental\\xa0under\\xa0this\\xa0Contract\\xa0shall\\xa0be\\xa0effective\\xa0commencing\\xa0 on\\xa0April\\xa01,\\xa02017.', 'The\\xa0Contract\\xa0Term\\xa0shall\\xa0be\\xa0for\\xa0the\\xa0period\\xa0commencing\\xa0on\\xa0April\\xa01,\\xa02017\\xa0and\\xa0concluding\\xa0on\\xa0December\\xa031,\\xa0 2019.', 'The\\xa0monthly\\xa0administrative\\xa0charge\\xa0is\\xa0based\\xa0on\\xa05,636\\xa0covered\\xa0employees\\xa0and\\xa0the\\xa0composition\\xa0of\\xa0the\\xa0 Contractholder’s\\xa0group\\xa0at\\xa0the\\xa0beginning\\xa0of\\xa0each\\xa0Contract\\xa0Term.', 'Delta\\xa0Dental\\xa0may\\xa0propose\\xa0a\\xa0choice\\xa0of\\xa0 changes\\xa0in\\xa0administrative\\xa0charges\\xa0for\\xa0a\\xa015\\xa0percent\\xa0change\\xa0in\\xa0composition\\xa0during\\xa0the\\xa0Contract\\xa0Term,\\xa0such\\xa0 as\\xa0an\\xa0increase\\xa0or\\xa0decrease\\xa0in\\xa0enrollment,\\xa0change\\xa0in\\xa0location,\\xa0change\\xa0in\\xa0job\\xa0classifications,\\xa0change\\xa0in\\xa0mix\\xa0of\\xa0 active\\xa0versus\\xa0retiree\\xa0enrollment\\xa0or\\xa0other\\xa0similar\\xa0change\\xa0in\\xa0the\\xa0Contractholder’s\\xa0group\\xa0composition\\xa0that\\xa0 lasts\\xa0three\\xa0(3)\\xa0months\\xa0in\\xa0a\\xa0row\\xa0or\\xa0longer\\xa0and\\xa0results\\xa0in\\xa0an\\xa0increase\\xa0in\\xa0cost\\xa0per\\xa0person\\xa0of\\xa0the\\xa0 Contractholder’s\\xa0group.', 'Within\\xa031\\xa0days\\xa0of\\xa0receipt\\xa0of\\xa0the\\xa0proposed\\xa0change(s),\\xa0Contractholder\\xa0will\\xa0select\\xa0 one\\xa0of\\xa0the\\xa0choices\\xa0by\\xa0written\\xa0notice\\xa0to\\xa0Delta\\xa0Dental.', 'If\\xa0Contractholder\\xa0fails\\xa0to\\xa0do\\xa0so,\\xa0Delta\\xa0Dental\\xa0may\\xa0 select\\xa0one\\xa0of\\xa0the\\xa0choices\\xa0by\\xa0written\\xa0notice\\xa0to\\xa0Contractholder.', 'This\\xa0Contract\\xa0will\\xa0be\\xa0modified\\xa0for\\xa0all\\xa0dental\\xa0 services\\xa0predetermined\\xa0and\\xa0incurred\\xa0after\\xa0notice.', 'The\\xa0Contractholder\\xa0will\\xa0submit\\xa0their\\xa0owned\\xa0prepared\\xa0eligibility\\xa0roster\\xa0and\\xa0will\\xa0furnish\\xa0to\\xa0Delta\\xa0Dental\\xa0the\\xa0 monthly\\xa0payment\\xa0of\\xa0$3.20\\xa0for\\xa0each\\xa0Primary\\xa0Enrollee\\xa0as\\xa0compensation\\xa0for\\xa0administering\\xa0the\\xa0program.', 'The\\xa0 Contractholder\\xa0will\\xa0forward\\xa0payment\\xa0(accompanied\\xa0by\\xa0the\\xa0eligibility\\xa0roster)\\xa0to\\xa0Delta\\xa0Dental\\xa0and\\xa0will\\xa0not\\xa0 receive\\xa0an\\xa0invoice.', 'Delta\\xa0Dental\\xa0will\\xa0reconcile\\xa0each\\xa0self‐billing\\xa0and\\xa0promptly\\xa0discuss\\xa0any\\xa0differences\\xa0with\\xa0 the\\xa0Contractholder\\xa0provided\\xa0the\\xa0Contractholder\\xa0provide\\xa0detailed\\xa0electronic\\xa0billing\\xa0backup.', 'Any\\xa0payment\\xa0 received\\xa0after\\xa0ninety\\xa0(90)\\xa0days\\xa0of\\xa0the\\xa0due\\xa0date\\xa0shall\\xa0be\\xa0subject\\xa0to\\xa0interest\\xa0equal\\xa0to\\xa0one\\xa0percentage\\xa0point\\xa0 above\\xa0the\\xa0then\\xa0current\\xa0three\\xa0month\\xa0U.S.\\xa0Treasury\\xa0Bill\\xa0rate.', 'Delta\\xa0Dental\\xa0may\\xa0change\\xa0the\\xa0amounts\\xa0charge\\xa0whenever\\xa0the\\xa0Contract\\xa0is\\xa0amended\\xa0or\\xa0whenever\\xa0the\\xa0 Contractholder\\xa0requests\\xa0a\\xa0change\\xa0in\\xa0Benefits\\xa0or\\xa0eligibility\\xa0or\\xa0when\\xa0applicable\\xa0under\\xa05.01.', 'Any\\xa0change\\xa0in\\xa0 amounts\\xa0due\\xa0shall\\xa0not\\xa0be\\xa0effective\\xa0during\\xa0a\\xa0Contract\\xa0Term\\xa0unless\\xa0Contractholder\\xa0and\\xa0Delta\\xa0Dental\\xa0agree\\xa0 in\\xa0writing\\xa0(except\\xa0as\\xa0provided\\xa0in\\xa0D\\xa0and\\xa0E\\xa0above\\xa0or\\xa0when\\xa0applicable\\xa0under\\xa05.01).', 'The\\xa0minimum\\xa0number\\xa0of\\xa0Primary\\xa0Enrollees\\xa0for\\xa0termination\\xa0purposes\\xa0is\\xa0less\\xa0than\\xa010\\xa0or\\xa0a\\xa0reduction\\xa0of\\xa030%\\xa0 or\\xa0more\\xa0over\\xa0three\\xa0(3)\\xa0consecutive\\xa0months.', 'A.', 'B.\\xa0 \\xa0 C.\\xa0 \\xa0 D.\\xa0 \\xa0 E.\\xa0 \\xa0 F.\\xa0 \\xa0 G.\\xa0 \\xa0 \\xa0 \\xa0 \\xa0 18745\\xa0 7\\xa0 TX‐ASC‐PPO(2014)\\xa0 APPENDIX\\xa0B\\xa0 \\xa0 BUSINESS\\xa0ASSOCIATE\\xa0AGREEMENT\\xa0 \\xa0 This\\xa0Business\\xa0Associate\\xa0Agreement\\xa0(the\\xa0“BAA”)\\xa0is\\xa0made\\xa0and\\xa0entered\\xa0into\\xa0as\\xa0of\\xa0the\\xa01st\\xa0day\\xa0of\\xa0April,\\xa02017\\xa0(Effective\\xa0 Date)\\xa0by\\xa0and\\xa0between\\xa0Coca‐Cola\\xa0Southwest\\xa0Beverages\\xa0LLC\\xa0(the\\xa0“Covered\\xa0Entity”)\\xa0and\\xa0Delta\\xa0Dental\\xa0Insurance\\xa0 Company\\xa0(the\\xa0“Business\\xa0Associate”).', 'Definitions:\\xa0\\xa0 \\xa0 Business\\xa0Associate\\xa0–\\xa0“Business\\xa0Associate”\\xa0shall\\xa0have\\xa0the\\xa0same\\xa0meaning\\xa0as\\xa0the\\xa0term\\xa0“business\\xa0associate”\\xa0at\\xa045\\xa0CFR\\xa0 §160.103,\\xa0and\\xa0in\\xa0reference\\xa0to\\xa0the\\xa0party\\xa0to\\xa0this\\xa0agreement,\\xa0shall\\xa0be\\xa0the\\xa0party\\xa0designated\\xa0as\\xa0a\\xa0Business\\xa0Associate\\xa0in\\xa0 the\\xa0first\\xa0paragraph\\xa0of\\xa0this\\xa0agreement.', 'Covered\\xa0Entity\\xa0–\\xa0“Covered\\xa0Entity”\\xa0shall\\xa0have\\xa0the\\xa0same\\xa0meaning\\xa0as\\xa0the\\xa0term\\xa0“covered\\xa0entity”\\xa0at\\xa045\\xa0CFR\\xa0§160.103,\\xa0 and\\xa0in\\xa0reference\\xa0to\\xa0the\\xa0party\\xa0to\\xa0this\\xa0agreement,\\xa0shall\\xa0be\\xa0the\\xa0party\\xa0designated\\xa0as\\xa0a\\xa0Covered\\xa0Entity\\xa0in\\xa0the\\xa0first\\xa0 paragraph\\xa0of\\xa0this\\xa0agreement.', 'Terms\\xa0capitalized\\xa0and\\xa0used\\xa0herein\\xa0but\\xa0not\\xa0otherwise\\xa0defined\\xa0in\\xa0this\\xa0Business\\xa0Associate\\xa0Agreement\\xa0(“BAA”)\\xa0shall\\xa0 have\\xa0the\\xa0same\\xa0meaning\\xa0as\\xa0those\\xa0terms\\xa0are\\xa0defined\\xa0in\\xa0the\\xa0Health\\xa0Insurance\\xa0Portability\\xa0and\\xa0Accountability\\xa0Act\\xa0and\\xa0 related\\xa0regulations\\xa0found\\xa0at\\xa045\\xa0CFR\\xa0Part\\xa0160\\xa0and\\xa0Part\\xa0164,\\xa0and\\xa0the\\xa0HITECH\\xa0Act\\xa0of\\xa02009\\xa0(Health\\xa0Information\\xa0 Technology\\xa0for\\xa0Economic\\xa0and\\xa0Clinical\\xa0Health)\\xa0as\\xa0amended,\\xa0revised\\xa0or\\xa0updated\\xa0from\\xa0time\\xa0to\\xa0time.', 'I.', 'Obligations\\xa0and\\xa0Activities\\xa0of\\xa0Business\\xa0Associate.', 'A.', 'Business\\xa0Associate\\xa0may\\xa0use\\xa0or\\xa0disclose\\xa0Protected\\xa0Health\\xa0Information\\xa0(“PHI”)\\xa0as\\xa0follows:\\xa0\\xa0 as\\xa0reasonably\\xa0necessary\\xa0to\\xa0provide\\xa0the\\xa0services\\xa0described\\xa0in\\xa0the\\xa0separate\\xa0primary\\xa0agreement\\xa0with\\xa0 Covered\\xa0Entity\\xa0(“Agreement”),\\xa0and\\xa0to\\xa0undertake\\xa0other\\xa0activities\\xa0of\\xa0Business\\xa0Associate\\xa0permitted\\xa0or\\xa0 required\\xa0to\\xa0satisfy\\xa0its\\xa0obligations\\xa0under\\xa0such\\xa0Agreement;\\xa0\\xa0 as\\xa0Required\\xa0by\\xa0Law;\\xa0\\xa0 for\\xa0the\\xa0proper\\xa0management\\xa0and\\xa0administration\\xa0of\\xa0Business\\xa0Associate,\\xa0provided,\\xa0that\\xa0such\\xa0use\\xa0or\\xa0 disclosure\\xa0is\\xa0Required\\xa0by\\xa0Law;\\xa0\\xa0 to\\xa0carry\\xa0out\\xa0the\\xa0legal\\xa0and\\xa0compliance\\xa0responsibilities\\xa0of\\xa0Business\\xa0Associate;\\xa0and\\xa0\\xa0 to\\xa0report\\xa0violations\\xa0of\\xa0law\\xa0to\\xa0appropriate\\xa0Federal\\xa0and\\xa0State\\xa0authorities.', 'B.', 'Business\\xa0Associate\\xa0will:\\xa0\\xa0 1.', '2.', '3.', '4.', '5.', '1.', '2.', '3.', '4.\\xa0 use\\xa0reasonable\\xa0and\\xa0appropriate\\xa0safeguards\\xa0to\\xa0prevent\\xa0use\\xa0or\\xa0disclosure\\xa0of\\xa0PHI\\xa0other\\xa0than\\xa0as\\xa0 provided\\xa0for\\xa0by\\xa0the\\xa0Agreement;\\xa0\\xa0 conduct\\xa0a\\xa0risk\\xa0assessment\\xa0and\\xa0implement\\xa0administrative,\\xa0physical,\\xa0and\\xa0technical\\xa0safeguards\\xa0that\\xa0 reasonably\\xa0and\\xa0appropriately\\xa0protect\\xa0the\\xa0confidentiality,\\xa0integrity,\\xa0and\\xa0availability\\xa0of\\xa0PHI,\\xa0which\\xa0it\\xa0 creates,\\xa0receives,\\xa0maintains\\xa0or\\xa0transmits\\xa0on\\xa0behalf\\xa0of\\xa0Covered\\xa0Entity.', 'Business\\xa0Associate\\xa0 acknowledges\\xa0that\\xa0the\\xa0applicable\\xa0provisions\\xa0of\\xa0the\\xa0HIPAA\\xa0Security\\xa0Rule\\xa0set\\xa0forth\\xa0at\\xa045\\xa0C.F.R.', '§§\\xa0 164.308,\\xa0164.310,\\xa0164.312\\xa0and\\xa0164.316\\xa0are\\xa0applicable\\xa0to\\xa0Business\\xa0Associate;\\xa0\\xa0 agree\\xa0to\\xa0cooperate\\xa0in\\xa0a\\xa0timely\\xa0manner\\xa0with\\xa0the\\xa0Covered\\xa0Entity\\xa0to\\xa0make\\xa0any\\xa0amendments\\xa0of\\xa0PHI\\xa0in\\xa0 its\\xa0possession;\\xa0and\\xa0\\xa0 will\\xa0use\\xa0reasonable\\xa0efforts\\xa0to\\xa0limit\\xa0PHI\\xa0to\\xa0the\\xa0minimum\\xa0necessary\\xa0to\\xa0accomplish\\xa0the\\xa0intended\\xa0 purpose\\xa0of\\xa0the\\xa0use,\\xa0disclosure,\\xa0or\\xa0request.', 'C.\\xa0 Business\\xa0Associate\\xa0shall\\xa0take\\xa0reasonable\\xa0measures\\xa0to\\xa0mitigate,\\xa0to\\xa0the\\xa0extent\\xa0practicable,\\xa0any\\xa0harmful\\xa0 effect\\xa0that\\xa0is\\xa0known\\xa0to\\xa0Business\\xa0Associate\\xa0of\\xa0a\\xa0use\\xa0or\\xa0disclosure\\xa0of\\xa0PHI\\xa0by\\xa0Business\\xa0Associate\\xa0or\\xa0its\\xa0agents\\xa0 or\\xa0subcontractors\\xa0in\\xa0violation\\xa0herein.', 'D.\\xa0 Business\\xa0Associate\\xa0will\\xa0ensure\\xa0through\\xa0a\\xa0separate,\\xa0written\\xa0Business\\xa0Associate\\xa0Agreement\\xa0that\\xa0any\\xa0agent,\\xa0 including\\xa0a\\xa0subcontractor,\\xa0to\\xa0whom\\xa0it\\xa0provides\\xa0or\\xa0transmits\\xa0PHI,\\xa0including\\xa0electronic\\xa0PHI,\\xa0agrees\\xa0to\\xa0 restrictions\\xa0and\\xa0conditions\\xa0that\\xa0apply\\xa0herein\\xa0to\\xa0Business\\xa0Associate\\xa0with\\xa0respect\\xa0to\\xa0such\\xa0information.', 'E.\\xa0 Business\\xa0Associate\\xa0shall\\xa0promptly\\xa0report\\xa0to\\xa0Covered\\xa0Entity:\\xa0(i)\\xa0any\\xa0use,\\xa0disclosure\\xa0or\\xa0compromise\\xa0of\\xa0PHI\\xa0 not\\xa0provided\\xa0for\\xa0herein,\\xa0and\\xa0(ii)\\xa0any\\xa0Security\\xa0Incident.', 'F.\\xa0 Business\\xa0Associate\\xa0shall\\xa0report\\xa0to\\xa0Covered\\xa0Entity\\xa0any\\xa0Breach\\xa0(or\\xa0potential\\xa0Breach)\\xa0of\\xa0Unsecured\\xa0PHI\\xa0as\\xa0 soon\\xa0as\\xa0possible\\xa0without\\xa0unreasonable\\xa0delay\\xa0but\\xa0in\\xa0no\\xa0case\\xa0later\\xa0than\\xa0thirty\\xa0(30)\\xa0calendar\\xa0days\\xa0after\\xa0 discovery\\xa0of\\xa0the\\xa0Breach\\xa0(except\\xa0where\\xa0a\\xa0law\\xa0enforcement\\xa0official\\xa0determines\\xa0that\\xa0such\\xa0reporting\\xa0would\\xa0 impede\\xa0an\\xa0investigation\\xa0or\\xa0cause\\xa0damage\\xa0to\\xa0national\\xa0security).', 'Covered\\xa0Entity\\xa0shall\\xa0have\\xa0final\\xa0 determination\\xa0as\\xa0to\\xa0whether\\xa0a\\xa0Breach\\xa0has\\xa0actually\\xa0occurred.', 'Where\\xa0the\\xa0Business\\xa0Associate\\xa0is\\xa0also\\xa0the\\xa0 18745\\xa0 8\\xa0 TX‐ASC‐PPO(2014)\\xa0 \\xa0 Covered\\xa0Entity,\\xa0the\\xa0Business\\xa0Associate\\xa0may\\xa0issue\\xa0the\\xa0notification.', 'The\\xa0reporting\\xa0required\\xa0under\\xa0this\\xa0 section\\xa0shall\\xa0include,\\xa0to\\xa0the\\xa0extent\\xa0practicable:\\xa0 1.\\xa0 information\\xa0that\\xa0identifies\\xa0the\\xa0Individual(s)\\xa0whose\\xa0Unsecured\\xa0PHI\\xa0has\\xa0been\\xa0or\\xa0is\\xa0reasonably\\xa0believed\\xa0 by\\xa0Business\\xa0Associate\\xa0to\\xa0have\\xa0been\\xa0accessed,\\xa0acquired,\\xa0used\\xa0or\\xa0disclosed\\xa0during\\xa0the\\xa0Breach;\\xa0\\xa0 2.\\xa0 a\\xa0brief\\xa0description\\xa0of\\xa0what\\xa0happened;\\xa0\\xa0 3.\\xa0 a\\xa0description\\xa0of\\xa0the\\xa0Unsecured\\xa0PHI\\xa0involved\\xa0in\\xa0the\\xa0Breach;\\xa0\\xa0 4.\\xa0 steps\\xa0that\\xa0the\\xa0Individual(s)\\xa0could\\xa0take\\xa0to\\xa0protect\\xa0him/herself\\xa0from\\xa0potential\\xa0harm;\\xa0and\\xa0\\xa0 5.\\xa0 a\\xa0brief\\xa0description\\xa0of\\xa0steps\\xa0taken\\xa0by\\xa0Business\\xa0Associate\\xa0to\\xa0investigate,\\xa0mitigate\\xa0or\\xa0protect\\xa0against\\xa0the\\xa0 Breach.', 'G.\\xa0 To\\xa0the\\xa0extent\\xa0applicable,\\xa0Business\\xa0Associate\\xa0shall\\xa0provide\\xa0PHI\\xa0contained\\xa0in\\xa0a\\xa0Designated\\xa0Record\\xa0Set\\xa0held\\xa0 by\\xa0Business\\xa0Associate\\xa0(that\\xa0is\\xa0not\\xa0duplicative\\xa0of\\xa0PHI\\xa0in\\xa0possession\\xa0of\\xa0Covered\\xa0Entity)\\xa0to\\xa0Covered\\xa0Entity\\xa0in\\xa0 order\\xa0for\\xa0Covered\\xa0Entity\\xa0to\\xa0meet\\xa0the\\xa0requirements\\xa0under\\xa045\\xa0CFR\\xa0§164.524\\xa0or\\xa045\\xa0CFR\\xa0§164.526,\\xa0as\\xa0 applicable.', 'If\\xa0any\\xa0Individual\\xa0requests\\xa0access\\xa0to\\xa0his\\xa0or\\xa0her\\xa0PHI\\xa0directly\\xa0from\\xa0Business\\xa0Associate,\\xa0Business\\xa0 Associate\\xa0shall\\xa0forward\\xa0such\\xa0request\\xa0to\\xa0Covered\\xa0Entity\\xa0so\\xa0that\\xa0Covered\\xa0Entity\\xa0can\\xa0comply\\xa0with\\xa0the\\xa0 request.', 'Any\\xa0disclosure\\xa0of,\\xa0or\\xa0decision\\xa0not\\xa0to\\xa0disclose,\\xa0the\\xa0PHI\\xa0requested\\xa0by\\xa0an\\xa0Individual\\xa0or\\xa0a\\xa0personal\\xa0 representative\\xa0and\\xa0compliance\\xa0with\\xa0the\\xa0requirements\\xa0applicable\\xa0to\\xa0an\\xa0Individual’s\\xa0right\\xa0to\\xa0obtain\\xa0access\\xa0 to\\xa0PHI\\xa0shall\\xa0be\\xa0the\\xa0sole\\xa0responsibility\\xa0of\\xa0the\\xa0Covered\\xa0Entity.', 'If\\xa0the\\xa0PHI\\xa0that\\xa0is\\xa0requested\\xa0is\\xa0maintained\\xa0 electronically\\xa0and\\xa0the\\xa0Individual\\xa0requests\\xa0an\\xa0electronic\\xa0copy\\xa0of\\xa0such\\xa0information,\\xa0Business\\xa0Associate\\xa0will\\xa0 provide\\xa0access\\xa0to\\xa0the\\xa0information\\xa0in\\xa0an\\xa0electronic\\xa0format\\xa0that\\xa0complies\\xa0with\\xa045\\xa0CFR\\xa0§\\xa0164.524(c)(2)(ii).', 'H.\\xa0 Business\\xa0Associate\\xa0shall\\xa0document\\xa0disclosures\\xa0of\\xa0PHI\\xa0and\\xa0information\\xa0related\\xa0to\\xa0such\\xa0disclosures\\xa0as\\xa0would\\xa0 be\\xa0required\\xa0for\\xa0Covered\\xa0Entity\\xa0to\\xa0respond\\xa0to\\xa0a\\xa0request\\xa0by\\xa0an\\xa0Individual\\xa0for\\xa0an\\xa0accounting\\xa0of\\xa0disclosures\\xa0of\\xa0 PHI\\xa0in\\xa0accordance\\xa0with\\xa045\\xa0CFR\\xa0§\\xa0164.528.\\xa0Business\\xa0Associate\\xa0shall\\xa0provide\\xa0to\\xa0Covered\\xa0Entity,\\xa0within\\xa0a\\xa0 timeframe\\xa0mutually\\xa0agreed\\xa0to\\xa0by\\xa0Covered\\xa0Entity\\xa0and\\xa0Business\\xa0Associate,\\xa0information\\xa0collected\\xa0in\\xa0 accordance\\xa0with\\xa0this\\xa0Section,\\xa0to\\xa0permit\\xa0Covered\\xa0Entity\\xa0to\\xa0respond\\xa0to\\xa0a\\xa0request\\xa0by\\xa0an\\xa0Individual\\xa0for\\xa0an\\xa0 accounting\\xa0of\\xa0disclosures\\xa0of\\xa0PHI\\xa0in\\xa0accordance\\xa0with\\xa045\\xa0CFR\\xa0§\\xa0164.528.', 'If\\xa0any\\xa0Individual\\xa0requests\\xa0access\\xa0to\\xa0 the\\xa0foregoing\\xa0information\\xa0directly\\xa0from\\xa0Business\\xa0Associate,\\xa0Business\\xa0Associate\\xa0shall\\xa0forward\\xa0such\\xa0request\\xa0 to\\xa0Covered\\xa0Entity\\xa0so\\xa0that\\xa0Covered\\xa0Entity\\xa0can\\xa0comply\\xa0with\\xa0the\\xa0request.', 'I.', 'Business\\xa0Associate\\xa0agrees\\xa0to\\xa0make\\xa0its\\xa0internal\\xa0practices,\\xa0books\\xa0and\\xa0records,\\xa0including\\xa0policies\\xa0and\\xa0 procedures,\\xa0relating\\xa0to\\xa0the\\xa0use\\xa0and\\xa0disclosure\\xa0of\\xa0PHI\\xa0received\\xa0from,\\xa0or\\xa0created\\xa0or\\xa0received\\xa0by\\xa0Business\\xa0 Associate\\xa0on\\xa0behalf\\xa0of\\xa0Covered\\xa0Entity\\xa0available\\xa0to\\xa0the\\xa0Secretary\\xa0of\\xa0Health\\xa0and\\xa0Human\\xa0Services\\xa0(HHS),\\xa0in\\xa0a\\xa0 time\\xa0and\\xa0manner\\xa0designated\\xa0by\\xa0the\\xa0Secretary,\\xa0for\\xa0purposes\\xa0of\\xa0the\\xa0Secretary\\xa0determining\\xa0Covered\\xa0Entity’s\\xa0 compliance\\xa0with\\xa0the\\xa0Privacy\\xa0Rule.', 'J.', 'Business\\xa0Associate\\xa0acknowledges\\xa0that\\xa0the\\xa0additional\\xa0requirements\\xa0of\\xa0the\\xa0HITECH\\xa0Act\\xa0(Health\\xa0Information\\xa0 Technology\\xa0for\\xa0Economic\\xa0and\\xa0Clinical\\xa0Health\\xa0Act\\xa0enacted\\xa0as\\xa0part\\xa0of\\xa0the\\xa0American\\xa0Recovery\\xa0and\\xa0 Reinvestment\\xa0Act\\xa0of\\xa02009)\\xa0and\\xa0the\\xa0Final\\xa0Rule\\xa0(also\\xa0known\\xa0as\\xa0Omnibus\\xa0Rule)\\xa0issued\\xa0by\\xa0HHS\\xa0on\\xa0January\\xa025,\\xa0 2013\\xa0are\\xa0applicable\\xa0to\\xa0Business\\xa0Associate\\xa0as\\xa0described\\xa0therein.', 'Business\\xa0Associate\\xa0further\\xa0acknowledges\\xa0 restrictions\\xa0on\\xa0the\\xa0sales\\xa0and\\xa0marketing\\xa0of\\xa0PHI\\xa0without\\xa0the\\xa0explicit\\xa0authorization\\xa0of\\xa0the\\xa0Individual.', 'In\\xa0the\\xa0event\\xa0the\\xa0Business\\xa0Associate\\xa0independently\\xa0is\\xa0also\\xa0a\\xa0Covered\\xa0Entity\\xa0under\\xa0HIPAA,\\xa0the\\xa0Business\\xa0 Associate\\xa0may\\xa0respond\\xa0directly\\xa0to\\xa0an\\xa0Individual’s\\xa0request\\xa0for\\xa0purposes\\xa0of\\xa0complying\\xa0with\\xa0applicable\\xa0 sections\\xa0herein.', 'L.\\xa0 Any\\xa0costs\\xa0associated\\xa0with\\xa0Breach\\xa0notifications,\\xa0including\\xa0mitigation\\xa0costs,\\xa0shall\\xa0be\\xa0the\\xa0responsibility\\xa0of\\xa0the\\xa0 K.\\xa0 party\\xa0causing\\xa0the\\xa0Breach.', 'II.', 'Obligations\\xa0of\\xa0Covered\\xa0Entity.', 'A.', 'Covered\\xa0Entity\\xa0shall\\xa0not\\xa0request\\xa0Business\\xa0Associate\\xa0use\\xa0or\\xa0disclose\\xa0PHI\\xa0in\\xa0any\\xa0manner\\xa0that\\xa0would\\xa0not\\xa0be\\xa0 permissible\\xa0under\\xa0HIPAA\\xa0if\\xa0done\\xa0by\\xa0the\\xa0Covered\\xa0Entity.', 'B.', 'Covered\\xa0Entity\\xa0shall:\\xa0\\xa0 1.', '2.', '3.', '4.', '5.\\xa0 notify\\xa0Business\\xa0Associate\\xa0of\\xa0any\\xa0limitations\\xa0in\\xa0Covered\\xa0Entity’s\\xa0Notice\\xa0of\\xa0Privacy\\xa0Practices\\xa0in\\xa0 accordance\\xa0with\\xa045\\xa0CFR\\xa0§\\xa0164.520,\\xa0if\\xa0such\\xa0limitations\\xa0may\\xa0affect\\xa0Business\\xa0Associate’s\\xa0use\\xa0or\\xa0 disclosure\\xa0of\\xa0PHI;\\xa0\\xa0 provide\\xa0Business\\xa0Associate\\xa0with\\xa0any\\xa0changes\\xa0in,\\xa0or\\xa0revocation\\xa0of,\\xa0permission\\xa0by\\xa0an\\xa0Individual\\xa0to\\xa0use\\xa0or\\xa0 disclose\\xa0PHI,\\xa0if\\xa0such\\xa0changes\\xa0may\\xa0affect\\xa0Business\\xa0Associate’s\\xa0use\\xa0or\\xa0disclosure\\xa0of\\xa0PHI,\\xa0upon\\xa0Covered\\xa0 Entity\\xa0becoming\\xa0aware\\xa0of\\xa0such\\xa0changes;\\xa0\\xa0 immediately\\xa0notify\\xa0Business\\xa0Associate\\xa0of\\xa0any\\xa0restriction\\xa0to\\xa0the\\xa0use\\xa0or\\xa0disclosure\\xa0of\\xa0PHI\\xa0agreed\\xa0to\\xa0by\\xa0 Covered\\xa0Entity\\xa0in\\xa0accordance\\xa0with\\xa045\\xa0CFR\\xa0§\\xa0164.522,\\xa0to\\xa0the\\xa0extent\\xa0such\\xa0restriction\\xa0may\\xa0affect\\xa0 Business\\xa0Associate’s\\xa0use\\xa0or\\xa0disclosure\\xa0of\\xa0PHI;\\xa0\\xa0 provide\\xa0written\\xa0authorization\\xa0to\\xa0the\\xa0Business\\xa0Associate\\xa0prior\\xa0to\\xa0requesting\\xa0that\\xa0the\\xa0Business\\xa0 Associate\\xa0disclose,\\xa0transfer\\xa0or\\xa0provide\\xa0PHI\\xa0to\\xa0a\\xa0third\\xa0party;\\xa0and\\xa0\\xa0 where\\xa0applicable,\\xa0rely\\xa0on\\xa0the\\xa0plan\\xa0sponsor’s\\xa0representations\\xa0certifying\\xa0amendments\\xa0to\\xa0their\\xa0plan\\xa0 18745\\xa0 9\\xa0 TX‐ASC‐PPO(2014)\\xa0 documents\\xa0with\\xa0appropriate\\xa0restrictions\\xa0covering\\xa0their\\xa0use\\xa0and\\xa0disclosure\\xa0of\\xa0PHI.', 'III.', 'Term\\xa0and\\xa0Termination.', 'A.', 'The\\xa0term\\xa0of\\xa0the\\xa0BAA\\xa0shall\\xa0commence\\xa0on\\xa0the\\xa0Effective\\xa0Date\\xa0and\\xa0shall\\xa0continue\\xa0in\\xa0full\\xa0force\\xa0and\\xa0effect\\xa0until\\xa0 it\\xa0expires\\xa0or\\xa0is\\xa0terminated\\xa0as\\xa0set\\xa0forth\\xa0herein.', 'B.', 'This\\xa0BAA\\xa0may\\xa0be\\xa0terminated\\xa0by\\xa0Covered\\xa0Entity\\xa0if\\xa0Business\\xa0Associate\\xa0materially\\xa0breaches\\xa0these\\xa0terms\\xa0or\\xa0its\\xa0 Agreement\\xa0and\\xa0fails\\xa0to\\xa0cure\\xa0such\\xa0breach\\xa0within\\xa0fifteen\\xa0(15)\\xa0business\\xa0days\\xa0after\\xa0receipt\\xa0of\\xa0written\\xa0notice\\xa0of\\xa0 the\\xa0breach.', 'This\\xa0BAA\\xa0will\\xa0automatically\\xa0terminate\\xa0upon\\xa0the\\xa0expiration\\xa0or\\xa0termination\\xa0of\\xa0the\\xa0Agreement\\xa0 (or\\xa0such\\xa0portion\\xa0of\\xa0the\\xa0Agreement\\xa0which\\xa0gave\\xa0rise\\xa0to\\xa0the\\xa0requirement\\xa0for\\xa0this\\xa0Business\\xa0Associate\\xa0 Agreement).', 'If,\\xa0in\\xa0its\\xa0reasonable\\xa0discretion\\xa0following\\xa0consultation\\xa0with\\xa0the\\xa0other\\xa0party,\\xa0that\\xa0neither\\xa0 termination\\xa0of\\xa0this\\xa0BAA\\xa0nor\\xa0a\\xa0cure\\xa0is\\xa0feasible;\\xa0the\\xa0non‐breaching\\xa0party\\xa0may\\xa0report\\xa0the\\xa0breach\\xa0to\\xa0the\\xa0 Secretary.', 'C.\\xa0 Upon\\xa0expiration\\xa0or\\xa0termination\\xa0of\\xa0this\\xa0BAA\\xa0for\\xa0any\\xa0reason,\\xa0Business\\xa0Associate\\xa0will\\xa0return\\xa0or\\xa0destroy\\xa0all\\xa0PHI\\xa0 to\\xa0Covered\\xa0Entity.', 'Business\\xa0Associate\\xa0shall\\xa0not\\xa0retain\\xa0any\\xa0copies\\xa0of\\xa0the\\xa0PHI.', 'However,\\xa0to\\xa0the\\xa0extent\\xa0that\\xa0 Business\\xa0Associate\\xa0determines\\xa0that\\xa0it\\xa0is\\xa0infeasible\\xa0to\\xa0return\\xa0or\\xa0destroy\\xa0Covered\\xa0Entity’s\\xa0PHI,\\xa0Business\\xa0 Associate\\xa0shall\\xa0notify\\xa0Covered\\xa0Entity\\xa0in\\xa0writing\\xa0of\\xa0the\\xa0conditions\\xa0that\\xa0make\\xa0return\\xa0or\\xa0destruction\\xa0 infeasible.', 'For\\xa0any\\xa0PHI\\xa0for\\xa0which\\xa0return\\xa0or\\xa0destruction\\xa0is\\xa0infeasible,\\xa0Business\\xa0Associate\\xa0will\\xa0continue\\xa0to\\xa0 extend\\xa0the\\xa0protections\\xa0of\\xa0this\\xa0Addendum\\xa0to\\xa0such\\xa0PHI\\xa0and\\xa0limit\\xa0further\\xa0uses\\xa0and\\xa0disclosures\\xa0of\\xa0such\\xa0PHI\\xa0to\\xa0 those\\xa0purposes\\xa0that\\xa0make\\xa0the\\xa0return\\xa0or\\xa0destruction\\xa0infeasible,\\xa0for\\xa0so\\xa0long\\xa0as\\xa0Business\\xa0Associate\\xa0maintains\\xa0 such\\xa0PHI.', 'If\\xa0Business\\xa0Associate\\xa0elects\\xa0to\\xa0destroy\\xa0all\\xa0PHI,\\xa0it\\xa0shall,\\xa0if\\xa0requested\\xa0in\\xa0writing\\xa0by\\xa0Covered\\xa0Entity,\\xa0 certify\\xa0in\\xa0writing\\xa0to\\xa0Covered\\xa0Entity\\xa0that\\xa0such\\xa0PHI\\xa0has\\xa0been\\xa0destroyed.', 'The\\xa0terms\\xa0of\\xa0this\\xa0section\\xa0shall\\xa0survive\\xa0the\\xa0expiration\\xa0or\\xa0termination\\xa0of\\xa0this\\xa0BAA.', 'IV.', 'Confidential\\xa0Information\\xa0\\xa0 A.', '“Confidential\\xa0Information”\\xa0means\\xa0any\\xa0information\\xa0disclosed\\xa0by\\xa0or\\xa0on\\xa0behalf\\xa0of\\xa0a\\xa0Party\\xa0(\"Disclosing\\xa0Party\")\\xa0 to\\xa0the\\xa0other\\xa0Party\\xa0(\"Receiving\\xa0Party\")\\xa0whether\\xa0provided\\xa0orally\\xa0or\\xa0in\\xa0writing\\xa0and\\xa0on\\xa0whatever\\xa0medium,\\xa0 concerning\\xa0the\\xa0Disclosing\\xa0Party\\'s\\xa0business\\xa0and/or\\xa0operations\\xa0and\\xa0includes\\xa0without\\xa0limitation\\xa0any\\xa0 materials,\\xa0trade\\xa0secrets,\\xa0know‐how,\\xa0formulas,\\xa0processes,\\xa0policies\\xa0and\\xa0procedures,\\xa0training\\xa0materials,\\xa0IT\\xa0 security,\\xa0algorithms,\\xa0ideas,\\xa0strategies,\\xa0inventions,\\xa0data,\\xa0designs,\\xa0flow\\xa0charts,\\xa0drawings,\\xa0proprietary\\xa0 information,\\xa0business\\xa0and\\xa0marketing\\xa0plans,\\xa0financial\\xa0and\\xa0operational\\xa0information,\\xa0and\\xa0all\\xa0other\\xa0non‐public\\xa0 information,\\xa0material\\xa0or\\xa0data\\xa0relating\\xa0to\\xa0the\\xa0current\\xa0and/or\\xa0future\\xa0business\\xa0and\\xa0operations\\xa0of\\xa0the\\xa0 Disclosing\\xa0Party.', 'B.', 'Confidential\\xa0Information\\xa0shall\\xa0not\\xa0include\\xa0any\\xa0information\\xa0that:\\xa0\\xa0 1.', '2.', '3.', \"4.\\xa0 is\\xa0already\\xa0in\\xa0the\\xa0public\\xa0domain\\xa0at\\xa0the\\xa0time\\xa0of\\xa0disclosure\\xa0or\\xa0later\\xa0becomes\\xa0available\\xa0to\\xa0the\\xa0public\\xa0 through\\xa0no\\xa0breach\\xa0of\\xa0this\\xa0Agreement\\xa0by\\xa0the\\xa0Receiving\\xa0Party\\xa0or\\xa0its\\xa0employees;\\xa0\\xa0 is\\xa0lawfully\\xa0in\\xa0the\\xa0Receiving\\xa0Party's\\xa0possession,\\xa0without\\xa0an\\xa0obligation\\xa0of\\xa0confidentiality,\\xa0prior\\xa0to\\xa0 receipt\\xa0hereunder;\\xa0\\xa0 is\\xa0received\\xa0independently\\xa0by\\xa0the\\xa0Receiving\\xa0Party\\xa0from\\xa0a\\xa0third\\xa0party\\xa0who\\xa0was\\xa0free\\xa0to\\xa0lawfully\\xa0disclose\\xa0 such\\xa0information\\xa0to\\xa0the\\xa0Receiving\\xa0Party;\\xa0or\\xa0\\xa0 is\\xa0independently\\xa0developed\\xa0by\\xa0the\\xa0Receiving\\xa0Party\\xa0without\\xa0the\\xa0use\\xa0of\\xa0Confidential\\xa0Information\\xa0as\\xa0 evidenced\\xa0by\\xa0the\\xa0Receiving\\xa0Party's\\xa0business\\xa0records.\", 'C.\\xa0 The\\xa0Receiving\\xa0Party\\xa0agrees\\xa0to\\xa0use\\xa0at\\xa0least\\xa0the\\xa0same\\xa0degree\\xa0of\\xa0care,\\xa0and\\xa0no\\xa0less\\xa0than\\xa0reasonable\\xa0care,\\xa0to\\xa0 avoid\\xa0disclosure\\xa0of\\xa0such\\xa0Confidential\\xa0Information\\xa0as\\xa0the\\xa0Receiving\\xa0Party\\xa0uses\\xa0with\\xa0respect\\xa0to\\xa0its\\xa0own\\xa0 proprietary\\xa0or\\xa0Confidential\\xa0Information\\xa0of\\xa0like\\xa0importance.', 'If\\xa0a\\xa0term\\xa0in\\xa0Agreement\\xa0conflicts\\xa0or\\xa0is\\xa0otherwise\\xa0inconsistent\\xa0with\\xa0a\\xa0term\\xa0in\\xa0this\\xa0BAA,\\xa0the\\xa0provisions\\xa0of\\xa0this\\xa0BAA\\xa0 will\\xa0prevail\\xa0with\\xa0respect\\xa0to\\xa0the\\xa0subject\\xa0matter\\xa0hereof.', 'This\\xa0BAA\\xa0and\\xa0the\\xa0Agreement\\xa0shall\\xa0be\\xa0interpreted\\xa0as\\xa0 broadly\\xa0as\\xa0necessary\\xa0to\\xa0implement\\xa0and\\xa0comply\\xa0with\\xa0HIPAA.', '18745\\xa0 10\\xa0 TX‐ASC‐PPO(2014)\\xa0 \\xa0 \\xa0 \\xa0 V.\\xa0 Amendment\\xa0to\\xa0Comply\\xa0with\\xa0Law.', 'The\\xa0parties\\xa0agree\\xa0to\\xa0take\\xa0such\\xa0action\\xa0as\\xa0is\\xa0necessary\\xa0to\\xa0comply\\xa0with\\xa0and\\xa0implement\\xa0the\\xa0standards\\xa0and\\xa0 requirements\\xa0of\\xa0HIPAA\\xa0(including,\\xa0without\\xa0limitation,\\xa0the\\xa0prompt\\xa0amendment\\xa0of\\xa0this\\xa0BAA).', 'Notwithstanding\\xa0 the\\xa0foregoing,\\xa0if\\xa0Covered\\xa0Entity\\xa0and\\xa0Business\\xa0Associate\\xa0have\\xa0not\\xa0amended\\xa0this\\xa0Agreement\\xa0to\\xa0address\\xa0a\\xa0law\\xa0or\\xa0 final\\xa0regulation\\xa0that\\xa0becomes\\xa0effective\\xa0after\\xa0the\\xa0Effective\\xa0Date\\xa0and\\xa0that\\xa0is\\xa0applicable\\xa0to\\xa0this\\xa0Agreement,\\xa0then\\xa0 upon\\xa0the\\xa0effective\\xa0date\\xa0of\\xa0such\\xa0law\\xa0or\\xa0regulation\\xa0(or\\xa0any\\xa0portion\\xa0thereof)\\xa0this\\xa0Agreement\\xa0shall\\xa0be\\xa0amended\\xa0 automatically\\xa0and\\xa0deemed\\xa0to\\xa0incorporate\\xa0such\\xa0new\\xa0or\\xa0revised\\xa0provisions\\xa0as\\xa0are\\xa0necessary\\xa0for\\xa0this\\xa0Agreement\\xa0 to\\xa0be\\xa0consistent\\xa0with\\xa0such\\xa0law\\xa0or\\xa0regulation\\xa0and\\xa0for\\xa0Covered\\xa0Entity\\xa0and\\xa0Business\\xa0Associate\\xa0to\\xa0be\\xa0and\\xa0remain\\xa0 in\\xa0compliance\\xa0with\\xa0all\\xa0applicable\\xa0laws\\xa0and\\xa0regulations.', 'VI.', 'Interpretation.', 'Indemnification.', 'The\\xa0Parties\\xa0agree\\xa0that\\xa0the\\xa0indemnification\\xa0provision\\xa0contained\\xa0in\\xa0the\\xa0Agreement\\xa0between\\xa0the\\xa0Business\\xa0 Associate\\xa0and\\xa0the\\xa0Covered\\xa0Entity\\xa0shall\\xa0apply\\xa0to\\xa0each\\xa0party’s\\xa0performance\\xa0and\\xa0that\\xa0of\\xa0their\\xa0respective\\xa0agents\\xa0 or\\xa0subcontractors\\xa0under\\xa0this\\xa0BAA.', 'VII.', '18745\\xa0 11\\xa0 TX‐ASC‐PPO(2014)\\xa0 \\xa0 TX‐ASC‐PPO‐E(2014)\\xa0 APPENDIX\\xa0C\\xa0 \\xa0 \\xa0 \\xa0 EMPLOYEE\\xa0BENEFIT\\xa0BOOKLET\\xa0 \\xa0 \\xa0 COCA‐COLA\\xa0SOUTHWEST\\xa0BEVERAGES\\xa0LLC\\xa0 \\xa0 \\xa0 \\xa0 \\xa0 \\xa0 \\xa0 \\xa0 \\xa0 \\xa0 \\xa0 \\xa0 \\xa0 \\xa0 deltadentalins.com\\xa0 \\xa0 \\xa0 Group\\xa0No:\\xa018745\\xa0 \\xa0 Effective\\xa0Date:\\xa0April\\xa01,\\xa02017\\xa0 Coca‐Cola\\xa0Southwest\\xa0Beverages\\xa0LLC\\xa0Dental\\xa0Plan\\xa0 Employee\\xa0Benefit\\xa0Booklet\\xa0 Table\\xa0of\\xa0Contents\\xa0 INTRODUCTION\\xa0.......................................................................................................................................................\\xa01\\xa0 DEFINITIONS\\xa0............................................................................................................................................................\\xa02\\xa0 COST\\xa0OF\\xa0COVERAGE\\xa0................................................................................................................................................\\xa03\\xa0 ELIGIBILITY\\xa0AND\\xa0ENROLLMENT\\xa0...............................................................................................................................\\xa04\\xa0 CONDITIONS\\xa0UNDER\\xa0WHICH\\xa0BENEFITS\\xa0ARE\\xa0PROVIDED\\xa0.........................................................................................\\xa06\\xa0 SELECTING\\xa0YOUR\\xa0PROVIDER\\xa0...................................................................................................................................\\xa07\\xa0 CLAIMS\\xa0APPEAL\\xa0.......................................................................................................................................................\\xa09\\xa0 GENERAL\\xa0PROVISIONS\\xa0.............................................................................................................................................\\xa09\\xa0 \\xa0 Attachments\\xa0 ATTACHMENT\\xa0A:\\xa0DEDUCTIBLES,\\xa0MAXIMUMS\\xa0AND\\xa0CONTRACT\\xa0BENEFIT\\xa0LEVELS\\xa0 ATTACHMENT\\xa0B:\\xa0SERVICES,\\xa0LIMITATIONS\\xa0AND\\xa0EXCLUSIONS\\xa0 \\xa0 \\xa0 \\xa0 18745\\xa0 i\\xa0 TX‐ASC‐PPO‐E(2014)\\xa0 Employee\\xa0Benefit\\xa0Booklet\\xa0 Coca‐Cola\\xa0Southwest\\xa0Beverages\\xa0LLC\\xa0Dental\\xa0Plan\\xa0 INTRODUCTION\\xa0 We\\xa0are\\xa0pleased\\xa0to\\xa0welcome\\xa0you\\xa0to\\xa0the\\xa0group\\xa0dental\\xa0plan\\xa0for\\xa0Coca‐Cola\\xa0Southwest\\xa0Beverages\\xa0LLC.', 'Your\\xa0plan\\xa0is\\xa0 self‐funded\\xa0by\\xa0your\\xa0employer\\xa0and\\xa0your\\xa0claims\\xa0are\\xa0administered\\xa0by\\xa0Delta\\xa0Dental.', 'Our\\xa0goal\\xa0is\\xa0to\\xa0provide\\xa0you\\xa0with\\xa0 the\\xa0highest\\xa0quality\\xa0dental\\xa0care\\xa0and\\xa0to\\xa0help\\xa0you\\xa0maintain\\xa0good\\xa0dental\\xa0health.', 'We\\xa0encourage\\xa0you\\xa0not\\xa0to\\xa0wait\\xa0until\\xa0 you\\xa0have\\xa0a\\xa0problem\\xa0to\\xa0see\\xa0the\\xa0Provider,\\xa0but\\xa0to\\xa0see\\xa0him/her\\xa0on\\xa0a\\xa0regular\\xa0basis.', 'This\\xa0Employee\\xa0Benefit\\xa0Booklet\\xa0is\\xa0a\\xa0summary\\xa0of\\xa0your\\xa0group\\xa0dental\\xa0program.', 'Please\\xa0read\\xa0it\\xa0carefully.', 'It\\xa0only\\xa0 summarizes\\xa0the\\xa0detailed\\xa0provisions\\xa0of\\xa0the\\xa0group\\xa0dental\\xa0contract\\xa0issued\\xa0by\\xa0Delta\\xa0Dental\\xa0Insurance\\xa0Company\\xa0 (“Delta\\xa0Dental”)\\xa0and\\xa0cannot\\xa0modify\\xa0the\\xa0Contract\\xa0in\\xa0any\\xa0way.', 'Using\\xa0This\\xa0Employee\\xa0Benefit\\xa0Booklet\\xa0 This\\xa0Employee\\xa0Benefit\\xa0Booklet,\\xa0which\\xa0includes\\xa0Attachment\\xa0A,\\xa0Deductibles,\\xa0Maximums\\xa0and\\xa0Contract\\xa0Benefit\\xa0Levels\\xa0 (Attachment\\xa0A)\\xa0and\\xa0Attachment\\xa0B,\\xa0Services,\\xa0Limitations\\xa0and\\xa0Exclusions\\xa0(Attachment\\xa0B),\\xa0discloses\\xa0the\\xa0terms\\xa0and\\xa0 conditions\\xa0of\\xa0your\\xa0coverage\\xa0and\\xa0is\\xa0designed\\xa0to\\xa0help\\xa0you\\xa0make\\xa0the\\xa0most\\xa0of\\xa0your\\xa0dental\\xa0plan.', 'It\\xa0will\\xa0help\\xa0you\\xa0 understand\\xa0how\\xa0the\\xa0plan\\xa0works\\xa0and\\xa0how\\xa0to\\xa0obtain\\xa0dental\\xa0care.', 'Please\\xa0read\\xa0this\\xa0booklet\\xa0completely\\xa0and\\xa0carefully.', 'Keep\\xa0in\\xa0mind\\xa0that\\xa0“you”\\xa0and\\xa0“your”\\xa0mean\\xa0the\\xa0individuals\\xa0who\\xa0are\\xa0covered.', '”We,”\\xa0“us”\\xa0and\\xa0“our”\\xa0always\\xa0refer\\xa0to\\xa0 Delta\\xa0Dental.', 'In\\xa0addition,\\xa0please\\xa0read\\xa0the\\xa0Definitions\\xa0section,\\xa0which\\xa0will\\xa0explain\\xa0any\\xa0words\\xa0that\\xa0have\\xa0special\\xa0or\\xa0 technical\\xa0meanings\\xa0under\\xa0the\\xa0Contract.', 'The\\xa0benefit\\xa0explanations\\xa0contained\\xa0in\\xa0this\\xa0booklet\\xa0are\\xa0subject\\xa0to\\xa0all\\xa0provisions\\xa0of\\xa0the\\xa0Contract\\xa0on\\xa0file\\xa0with\\xa0your\\xa0 employer,\\xa0trust\\xa0fund,\\xa0or\\xa0other\\xa0entity\\xa0(“Contractholder”)\\xa0and\\xa0do\\xa0not\\xa0modify\\xa0the\\xa0terms\\xa0and\\xa0conditions\\xa0of\\xa0the\\xa0 Contract\\xa0in\\xa0any\\xa0way,\\xa0nor\\xa0shall\\xa0you\\xa0accrue\\xa0any\\xa0rights\\xa0because\\xa0of\\xa0any\\xa0statement\\xa0in\\xa0or\\xa0omission\\xa0from\\xa0this\\xa0booklet.', 'This\\xa0booklet\\xa0is\\xa0not\\xa0a\\xa0Summary\\xa0Plan\\xa0Description\\xa0to\\xa0meet\\xa0the\\xa0requirements\\xa0of\\xa0ERISA.', 'Notice:\\xa0This\\xa0booklet\\xa0is\\xa0a\\xa0summary\\xa0of\\xa0your\\xa0group\\xa0dental\\xa0plan\\xa0and\\xa0must\\xa0be\\xa0in\\xa0effect\\xa0at\\xa0the\\xa0time\\xa0covered\\xa0dental\\xa0 services\\xa0are\\xa0provided.', 'This\\xa0information\\xa0is\\xa0not\\xa0a\\xa0guarantee\\xa0of\\xa0covered\\xa0benefits,\\xa0services\\xa0or\\xa0payments.', 'Contact\\xa0Us\\xa0 For\\xa0more\\xa0information\\xa0please\\xa0visit\\xa0our\\xa0website\\xa0at\\xa0deltadentalins.com\\xa0or\\xa0call\\xa0our\\xa0Customer\\xa0Service\\xa0Center.', 'A\\xa0 Customer\\xa0Service\\xa0Representative\\xa0can\\xa0answer\\xa0questions\\xa0you\\xa0may\\xa0have\\xa0about\\xa0obtaining\\xa0dental\\xa0care,\\xa0help\\xa0you\\xa0 locate\\xa0a\\xa0Delta\\xa0Dental\\xa0Provider,\\xa0explain\\xa0benefits,\\xa0check\\xa0the\\xa0status\\xa0of\\xa0a\\xa0claim,\\xa0and\\xa0assist\\xa0you\\xa0in\\xa0filing\\xa0a\\xa0claim.', 'You\\xa0can\\xa0access\\xa0our\\xa0automated\\xa0information\\xa0line\\xa0at\\xa0800‐521‐2651\\xa0during\\xa0regular\\xa0business\\xa0hours\\xa0to\\xa0obtain\\xa0 information\\xa0about\\xa0Enrollee\\xa0eligibility\\xa0and\\xa0benefits,\\xa0group\\xa0benefits,\\xa0or\\xa0claim\\xa0status,\\xa0or\\xa0to\\xa0speak\\xa0to\\xa0a\\xa0Customer\\xa0 Service\\xa0Representative\\xa0for\\xa0assistance.', 'If\\xa0you\\xa0prefer\\xa0to\\xa0write\\xa0us\\xa0with\\xa0your\\xa0question(s),\\xa0please\\xa0mail\\xa0your\\xa0inquiry\\xa0to\\xa0 the\\xa0following\\xa0address:\\xa0\\xa0 P.O.', 'Box\\xa01809\\xa0 Alpharetta,\\xa0GA\\xa0\\xa030023\\xa0 Delta\\xa0Dental\\xa0Insurance\\xa0Company\\xa0 \\xa0 \\xa0 \\xa0 \\xa0 18745\\xa0 1\\xa0 TX‐ASC‐PPO‐E(2014)\\xa0 Employee\\xa0Benefit\\xa0Booklet\\xa0 Coca‐Cola\\xa0Southwest\\xa0Beverages\\xa0LLC\\xa0Dental\\xa0Plan\\xa0 DEFINITIONS\\xa0 Terms\\xa0when\\xa0capitalized\\xa0in\\xa0your\\xa0Employee\\xa0Benefit\\xa0Booklet\\xa0have\\xa0defined\\xa0meanings,\\xa0given\\xa0in\\xa0the\\xa0section\\xa0below\\xa0or\\xa0 throughout\\xa0the\\xa0booklet\\xa0sections.', 'Accepted\\xa0Fee:\\xa0the\\xa0amount\\xa0the\\xa0attending\\xa0Provider\\xa0agrees\\xa0to\\xa0accept\\xa0as\\xa0payment\\xa0in\\xa0full\\xa0for\\xa0services\\xa0rendered.', 'Benefits:\\xa0covered\\xa0dental\\xa0services\\xa0provided\\xa0under\\xa0the\\xa0terms\\xa0of\\xa0the\\xa0Contract.', 'Calendar\\xa0Year:\\xa0the\\xa012\\xa0months\\xa0of\\xa0the\\xa0year\\xa0from\\xa0January\\xa01\\xa0through\\xa0December\\xa031.', 'Claim\\xa0Form:\\xa0the\\xa0standard\\xa0form\\xa0used\\xa0to\\xa0file\\xa0a\\xa0claim\\xa0or\\xa0request\\xa0Pre‐Treatment\\xa0Estimate.', 'Contract:\\xa0the\\xa0agreement\\xa0between\\xa0Delta\\xa0Dental\\xa0and\\xa0the\\xa0Contractholder,\\xa0including\\xa0any\\xa0attachments.', 'Contract\\xa0Benefit\\xa0Level:\\xa0the\\xa0percentage\\xa0of\\xa0the\\xa0Maximum\\xa0Contract\\xa0Allowance\\xa0that\\xa0Delta\\xa0Dental\\xa0will\\xa0pay\\xa0after\\xa0the\\xa0 Deductible\\xa0has\\xa0been\\xa0satisfied\\xa0as\\xa0shown\\xa0in\\xa0Attachment\\xa0A.\\xa0 Contractholder:\\xa0the\\xa0employer,\\xa0union\\xa0or\\xa0other\\xa0organization\\xa0or\\xa0group\\xa0as\\xa0named\\xa0herein\\xa0contracting\\xa0to\\xa0obtain\\xa0 Benefits.', 'Contract\\xa0Year:\\xa0the\\xa012\\xa0months\\xa0starting\\xa0on\\xa0the\\xa0Effective\\xa0Date\\xa0and\\xa0each\\xa0subsequent\\xa012\\xa0month\\xa0period\\xa0thereafter.', 'Deductible:\\xa0a\\xa0dollar\\xa0amount\\xa0that\\xa0an\\xa0Enrollee\\xa0and/or\\xa0the\\xa0Enrollee’s\\xa0family\\xa0(for\\xa0family\\xa0coverage)\\xa0must\\xa0pay\\xa0for\\xa0 certain\\xa0covered\\xa0services\\xa0before\\xa0Delta\\xa0Dental\\xa0begins\\xa0paying\\xa0Benefits.', 'Delta\\xa0Dental\\xa0Premier®\\xa0Provider\\xa0(Premier\\xa0Provider):\\xa0a\\xa0Provider\\xa0who\\xa0contracts\\xa0with\\xa0Delta\\xa0Dental\\xa0or\\xa0any\\xa0other\\xa0 member\\xa0company\\xa0of\\xa0the\\xa0Delta\\xa0Dental\\xa0Plans\\xa0Association\\xa0and\\xa0agrees\\xa0to\\xa0accept\\xa0the\\xa0Delta\\xa0Dental\\xa0Premier\\xa0Contracted\\xa0 Fee\\xa0as\\xa0payment\\xa0in\\xa0full\\xa0for\\xa0covered\\xa0services\\xa0provided\\xa0under\\xa0a\\xa0plan.', 'A\\xa0Premier\\xa0Provider\\xa0also\\xa0agrees\\xa0to\\xa0comply\\xa0with\\xa0 Delta\\xa0Dental’s\\xa0administrative\\xa0guidelines.', 'Delta\\xa0Dental\\xa0Premier\\xa0Contracted\\xa0Fee:\\xa0the\\xa0fee\\xa0for\\xa0a\\xa0Single\\xa0Procedure\\xa0covered\\xa0under\\xa0the\\xa0Contract\\xa0that\\xa0a\\xa0Premier\\xa0 Provider\\xa0has\\xa0contractually\\xa0agreed\\xa0to\\xa0accept\\xa0as\\xa0payment\\xa0in\\xa0full\\xa0for\\xa0covered\\xa0services.', 'Delta\\xa0Dental\\xa0PPOSM\\xa0Provider\\xa0(PPO\\xa0Provider):\\xa0a\\xa0Provider\\xa0who\\xa0contracts\\xa0with\\xa0Delta\\xa0Dental\\xa0or\\xa0any\\xa0other\\xa0member\\xa0 company\\xa0of\\xa0the\\xa0Delta\\xa0Dental\\xa0Plans\\xa0Association\\xa0and\\xa0agrees\\xa0to\\xa0accept\\xa0the\\xa0Delta\\xa0Dental\\xa0PPO\\xa0Contracted\\xa0Fee\\xa0 contracted\\xa0fees\\xa0as\\xa0payment\\xa0in\\xa0full\\xa0for\\xa0covered\\xa0services\\xa0provided\\xa0under\\xa0a\\xa0PPO\\xa0dental\\xa0plan.', 'A\\xa0PPO\\xa0Provider\\xa0also\\xa0 agrees\\xa0to\\xa0comply\\xa0with\\xa0Delta\\xa0Dental’s\\xa0administrative\\xa0guidelines.', 'Delta\\xa0Dental\\xa0PPO\\xa0Contracted\\xa0Fee:\\xa0the\\xa0fee\\xa0for\\xa0a\\xa0Single\\xa0Procedure\\xa0covered\\xa0under\\xa0the\\xa0contract\\xa0that\\xa0a\\xa0PPO\\xa0Provider\\xa0 has\\xa0contractually\\xa0agreed\\xa0to\\xa0accept\\xa0as\\xa0payment\\xa0in\\xa0full\\xa0for\\xa0covered\\xa0services.', 'Dependent\\xa0Enrollee:\\xa0an\\xa0Eligible\\xa0Dependent\\xa0enrolled\\xa0to\\xa0receive\\xa0Benefits.', 'Domestic\\xa0Partner:\\xa0a\\xa0person\\xa0related\\xa0to\\xa0the\\xa0Primary\\xa0Enrollee\\xa0who\\xa0is\\xa0a\\xa0same‐sex\\xa0domestic\\xa0partner\\xa0(as\\xa0defined\\xa0by\\xa0the\\xa0 Contractholder)\\xa0 Effective\\xa0Date:\\xa0the\\xa0original\\xa0date\\xa0the\\xa0Contract\\xa0starts.', 'This\\xa0date\\xa0is\\xa0given\\xa0on\\xa0this\\xa0booklet’s\\xa0cover\\xa0and\\xa0Attachment\\xa0A.', 'Eligible\\xa0Dependent:\\xa0a\\xa0dependent\\xa0of\\xa0an\\xa0Eligible\\xa0Employee\\xa0eligible\\xa0for\\xa0Benefits.', 'Eligible\\xa0Employee:\\xa0any\\xa0employee\\xa0as\\xa0eligible\\xa0for\\xa0Benefits.', 'Enrollee:\\xa0an\\xa0Eligible\\xa0Employee\\xa0(“Primary\\xa0Enrollee”)\\xa0or\\xa0an\\xa0Eligible\\xa0Dependent\\xa0(“Dependent\\xa0Enrollee”)\\xa0enrolled\\xa0to\\xa0 receive\\xa0Benefits.', 'Enrollee\\xa0Pays:\\xa0Enrollee’s\\xa0financial\\xa0obligation\\xa0for\\xa0services\\xa0calculated\\xa0as\\xa0the\\xa0difference\\xa0between\\xa0the\\xa0amount\\xa0shown\\xa0 as\\xa0the\\xa0Accepted\\xa0Fee\\xa0and\\xa0the\\xa0portion\\xa0shown\\xa0as\\xa0“Delta\\xa0Dental\\xa0Pays”\\xa0on\\xa0the\\xa0claims\\xa0statement\\xa0when\\xa0a\\xa0claim\\xa0is\\xa0 processed.', 'Enrollee’s\\xa0Effective\\xa0Date\\xa0of\\xa0Coverage:\\xa0the\\xa0date\\xa0the\\xa0Contractholder\\xa0reports\\xa0coverage\\xa0will\\xa0begin\\xa0for\\xa0each\\xa0Primary\\xa0 Enrollee\\xa0and\\xa0each\\xa0Dependent\\xa0Enrollee.', 'Maximum:\\xa0is\\xa0the\\xa0maximum\\xa0dollar\\xa0amount\\xa0(“Maximum\\xa0Amount”\\xa0or\\xa0“Maximum”)\\xa0Delta\\xa0Dental\\xa0will\\xa0pay\\xa0toward\\xa0the\\xa0 cost\\xa0of\\xa0dental\\xa0care.', 'Enrollees\\xa0must\\xa0satisfy\\xa0costs\\xa0above\\xa0this\\xa0amount.', 'Delta\\xa0Dental\\xa0will\\xa0pay\\xa0the\\xa0Maximum\\xa0 Amount(s),\\xa0if\\xa0applicable,\\xa0shown\\xa0in\\xa0Attachment\\xa0A\\xa0for\\xa0Benefits\\xa0under\\xa0the\\xa0Contract.', '18745\\xa0 2\\xa0 TX‐ASC‐PPO‐E(2014)\\xa0 Coca‐Cola\\xa0Southwest\\xa0Beverages\\xa0LLC\\xa0Dental\\xa0Plan\\xa0 Maximum\\xa0Contract\\xa0Allowance:\\xa0the\\xa0reimbursement\\xa0under\\xa0the\\xa0Enrollee’s\\xa0benefit\\xa0plan\\xa0against\\xa0which\\xa0Delta\\xa0Dental\\xa0 calculates\\xa0its\\xa0payment\\xa0and\\xa0the\\xa0Enrollee’s\\xa0financial\\xa0obligation.', 'Subject\\xa0to\\xa0adjustment\\xa0for\\xa0extreme\\xa0difficulty\\xa0or\\xa0 unusual\\xa0circumstances,\\xa0the\\xa0Maximum\\xa0Contract\\xa0Allowance\\xa0for\\xa0services\\xa0provided:\\xa0 \\uf0b7 by\\xa0a\\xa0PPO\\xa0Provider\\xa0is\\xa0the\\xa0lesser\\xa0of\\xa0the\\xa0Provider’s\\xa0Submitted\\xa0Fee\\xa0or\\xa0the\\xa0Delta\\xa0Dental\\xa0PPO\\xa0Contracted\\xa0Fee.', '\\uf0b7 by\\xa0a\\xa0Premier\\xa0Provider\\xa0is\\xa0the\\xa0lesser\\xa0of\\xa0the\\xa0Provider’s\\xa0Submitted\\xa0Fee\\xa0or\\xa0the\\xa0Delta\\xa0Dental\\xa0Premier\\xa0Contracted\\xa0 \\uf0b7 by\\xa0a\\xa0Non‐Delta\\xa0Dental\\xa0Provider\\xa0at\\xa0the\\xa090th\\xa0percentile\\xa0of\\xa0the\\xa0Provider’s\\xa0Submitted\\xa0Fee\\xa0or\\xa0the\\xa0Program\\xa0 Employee\\xa0Benefit\\xa0Booklet\\xa0 Fee.', 'Allowance.', 'Non‐Delta\\xa0Dental\\xa0Provider:\\xa0a\\xa0Provider\\xa0who\\xa0is\\xa0not\\xa0a\\xa0PPO\\xa0Provider\\xa0or\\xa0a\\xa0Premier\\xa0Provider\\xa0and\\xa0is\\xa0not\\xa0contractually\\xa0 bound\\xa0to\\xa0abide\\xa0by\\xa0Delta\\xa0Dental’s\\xa0administrative\\xa0guidelines.', 'Open\\xa0Enrollment\\xa0Period:\\xa0the\\xa0month\\xa0of\\xa0the\\xa0year\\xa0during\\xa0which\\xa0employees\\xa0may\\xa0change\\xa0coverage\\xa0for\\xa0the\\xa0next\\xa0 Contract\\xa0Year.', 'Pre‐Treatment\\xa0Estimate:\\xa0an\\xa0estimation\\xa0of\\xa0the\\xa0allowable\\xa0Benefits\\xa0under\\xa0the\\xa0Contract\\xa0for\\xa0the\\xa0services\\xa0proposed,\\xa0 assuming\\xa0the\\xa0person\\xa0is\\xa0an\\xa0eligible\\xa0Enrollee.', 'Primary\\xa0Enrollee:\\xa0an\\xa0Eligible\\xa0Employee\\xa0enrolled\\xa0in\\xa0the\\xa0plan\\xa0to\\xa0receive\\xa0Benefits;\\xa0may\\xa0also\\xa0be\\xa0referred\\xa0to\\xa0as\\xa0 “Enrollee”.', 'Procedure\\xa0Code:\\xa0the\\xa0Current\\xa0Dental\\xa0Terminology©\\xa0(CDT)\\xa0number\\xa0assigned\\xa0to\\xa0a\\xa0Single\\xa0Procedure\\xa0by\\xa0the\\xa0American\\xa0 Dental\\xa0Association.', 'Program\\xa0Allowance:\\xa0the\\xa0maximum\\xa0amount\\xa0Delta\\xa0Dental\\xa0will\\xa0reimburse\\xa0for\\xa0a\\xa0covered\\xa0procedure.', 'Delta\\xa0Dental\\xa0sets\\xa0 the\\xa0Program\\xa0Allowance\\xa0for\\xa0each\\xa0procedure\\xa0through\\xa0a\\xa0review\\xa0of\\xa0proprietary\\xa0data\\xa0by\\xa0geographic\\xa0area.', 'The\\xa0Program\\xa0 Allowance\\xa0may\\xa0vary\\xa0by\\xa0the\\xa0contracting\\xa0status\\xa0of\\xa0the\\xa0Provider\\xa0and/or\\xa0the\\xa0Program\\xa0Allowance\\xa0selected\\xa0by\\xa0the\\xa0 Contractholder.', 'Provider:\\xa0a\\xa0person\\xa0licensed\\xa0to\\xa0practice\\xa0dentistry\\xa0when\\xa0and\\xa0where\\xa0services\\xa0are\\xa0performed.', 'A\\xa0Provider\\xa0shall\\xa0also\\xa0 include\\xa0a\\xa0dental\\xa0partnership,\\xa0dental\\xa0professional\\xa0corporation\\xa0or\\xa0dental\\xa0clinic.', 'Qualifying\\xa0Status\\xa0Change:\\xa0a\\xa0change\\xa0in:\\xa0 \\uf0b7 marital\\xa0status\\xa0(marriage,\\xa0divorce,\\xa0legal\\xa0separation,\\xa0annulment\\xa0or\\xa0death);\\xa0 \\uf0b7 number\\xa0of\\xa0dependents\\xa0(a\\xa0child’s\\xa0birth,\\xa0adoption\\xa0of\\xa0a\\xa0child,\\xa0placement\\xa0of\\xa0child\\xa0for\\xa0adoption,\\xa0addition\\xa0of\\xa0a\\xa0step\\xa0 or\\xa0foster\\xa0child\\xa0or\\xa0death\\xa0of\\xa0a\\xa0child);\\xa0 \\uf0b7 employment\\xa0status\\xa0(change\\xa0in\\xa0employment\\xa0status\\xa0of\\xa0Enrollee\\xa0or\\xa0Eligible\\xa0Dependent);\\xa0 \\uf0b7 dependent\\xa0child\\xa0ceases\\xa0to\\xa0satisfy\\xa0eligibility\\xa0requirements;\\xa0 \\uf0b7 \\uf0b7 A\\xa0change\\xa0in\\xa0status\\xa0also\\xa0means\\xa0the\\xa0employee\\xa0receives\\xa0a\\xa0qualified\\xa0medical\\xa0child\\xa0support\\xa0order\\xa0requiring\\xa0 residence\\xa0(Enrollee,\\xa0dependent\\xa0Spouse\\xa0or\\xa0child\\xa0moves);\\xa0 dependent\\xa0coverage;\\xa0or\\xa0 \\uf0b7 any\\xa0other\\xa0current\\xa0or\\xa0future\\xa0election\\xa0changes\\xa0permitted\\xa0by\\xa0Internal\\xa0Revenue\\xa0Code\\xa0Section\\xa0125.', 'Single\\xa0Procedure:\\xa0a\\xa0dental\\xa0procedure\\xa0that\\xa0is\\xa0assigned\\xa0a\\xa0separate\\xa0Procedure\\xa0Code.', 'Spouse:\\xa0\\xa0a\\xa0person\\xa0related\\xa0to\\xa0the\\xa0Primary\\xa0Enrollee\\xa0who\\xa0is\\xa0treated\\xa0as\\xa0a\\xa0spouse\\xa0by\\xa0state\\xa0law.', 'Submitted\\xa0Fee:\\xa0the\\xa0amount\\xa0that\\xa0the\\xa0Provider\\xa0bills\\xa0and\\xa0enters\\xa0on\\xa0a\\xa0claim\\xa0for\\xa0a\\xa0specific\\xa0procedure.', 'COST\\xa0OF\\xa0COVERAGE\\xa0 You\\xa0are\\xa0required\\xa0to\\xa0contribute\\xa0towards\\xa0the\\xa0cost\\xa0of\\xa0your\\xa0coverage.', 'You\\xa0are\\xa0required\\xa0to\\xa0contribute\\xa0towards\\xa0the\\xa0cost\\xa0of\\xa0your\\xa0Dependent\\xa0Enrollee’s\\xa0coverage.', 'We\\xa0may\\xa0cancel\\xa0the\\xa0Contract\\xa030\\xa0days\\xa0after\\xa0written\\xa0notice\\xa0to\\xa0the\\xa0Contractholder\\xa0if\\xa0the\\xa0cost\\xa0of\\xa0coverage\\xa0is\\xa0not\\xa0paid\\xa0 when\\xa0due.', '18745\\xa0 3\\xa0 TX‐ASC‐PPO‐E(2014)\\xa0 Coca‐Cola\\xa0Southwest\\xa0Beverages\\xa0LLC\\xa0Dental\\xa0Plan\\xa0 ELIGIBILITY\\xa0AND\\xa0ENROLLMENT\\xa0 Eligibility\\xa0Requirements\\xa0\\xa0 An\\xa0employee\\xa0is\\xa0eligible\\xa0to\\xa0participate\\xa0in\\xa0the\\xa0Contractholder’s\\xa0Delta\\xa0Dental\\xa0plan\\xa0if\\xa0they\\xa0are\\xa0classified\\xa0by\\xa0the\\xa0 Contractholder\\xa0as\\xa0an\\xa0employee\\xa0regularly\\xa0scheduled\\xa0to\\xa0work\\xa030+\\xa0hours\\xa0per\\xa0week.', 'All\\xa0benefits\\xa0are\\xa0effective\\xa0January\\xa0 1,\\xa0or\\xa0for\\xa0new\\xa0employees,\\xa0on\\xa0the\\xa090th\\xa0consecutive\\xa0day\\xa0of\\xa0employment.', 'If\\xa0your\\xa0dependents\\xa0are\\xa0covered,\\xa0they\\xa0will\\xa0be\\xa0eligible\\xa0when\\xa0you\\xa0are\\xa0or\\xa0as\\xa0soon\\xa0as\\xa0they\\xa0become\\xa0dependents.', '\\uf0b7 Dependents\\xa0are\\xa0the\\xa0Primary\\xa0Enrollee’s\\xa0Spouse\\xa0and\\xa0unmarried\\xa0dependent\\xa0children\\xa0from\\xa0birth\\xa0to\\xa0the\\xa0end\\xa0of\\xa0the\\xa0 Employee\\xa0Benefit\\xa0Booklet\\xa0 month\\xa0of\\xa0their\\xa026th\\xa0birthday.', '\\uf0b7 Children\\xa0include\\xa0natural\\xa0children,\\xa0stepchildren,\\xa0foster\\xa0children,\\xa0adopted\\xa0children,\\xa0children\\xa0placed\\xa0for\\xa0adoption\\xa0 and\\xa0children\\xa0of\\xa0a\\xa0Domestic\\xa0Partner\\xa0as\\xa0recognized\\xa0by\\xa0the\\xa0Contractholder.', 'The\\xa0dependents\\xa0of\\xa0Primary\\xa0Enrollees\\xa0 are\\xa0eligible\\xa0to\\xa0enroll\\xa0on\\xa0the\\xa0same\\xa0date\\xa0that\\xa0the\\xa0employee,\\xa0of\\xa0whom\\xa0they\\xa0are\\xa0a\\xa0Dependent,\\xa0becomes\\xa0a\\xa0Primary\\xa0 Enrollee.', 'Later‐acquired\\xa0dependents\\xa0become\\xa0eligible\\xa0as\\xa0soon\\xa0as\\xa0they\\xa0acquire\\xa0dependent\\xa0status.', \"\\uf0b7 An\\xa0overage\\xa0unmarried\\xa0dependent\\xa0child\\xa0may\\xa0be\\xa0eligible\\xa0if:\\xa0 illness\\xa0or\\xa0condition\\xa0that\\xa0began\\xa0prior\\xa0to\\xa0reaching\\xa0the\\xa0limiting\\xa0age;\\xa0 (1) he\\xa0or\\xa0she\\xa0is\\xa0incapable\\xa0of\\xa0self‐sustaining\\xa0employment\\xa0because\\xa0of\\xa0a\\xa0physically\\xa0or\\xa0mentally\\xa0disabling\\xa0injury,\\xa0 (2) he\\xa0or\\xa0she\\xa0is\\xa0chiefly\\xa0dependent\\xa0on\\xa0the\\xa0eligible\\xa0employee\\xa0for\\xa0support;\\xa0and\\xa0 (3) Proof\\xa0of\\xa0total\\xa0disability\\xa0must\\xa0be\\xa0furnished\\xa0within\\xa031\\xa0days\\xa0after\\xa0the\\xa0date\\xa0on\\xa0which\\xa0your\\xa0child's\\xa0coverage\\xa0 would\\xa0normally\\xa0cease\\xa0and\\xa0from\\xa0time\\xa0to\\xa0time\\xa0thereafter\\xa0as\\xa0requested.\", 'Such\\xa0requests\\xa0will\\xa0not\\xa0be\\xa0made\\xa0more\\xa0 than\\xa0once\\xa0a\\xa0year\\xa0following\\xa0a\\xa0two\\xa0year\\xa0period\\xa0after\\xa0this\\xa0dependent\\xa0reaches\\xa0the\\xa0limiting\\xa0age.', 'Eligibility\\xa0will\\xa0 continue\\xa0as\\xa0long\\xa0as\\xa0the\\xa0dependent\\xa0relies\\xa0on\\xa0the\\xa0eligible\\xa0employee\\xa0for\\xa0support\\xa0because\\xa0of\\xa0a\\xa0physically\\xa0or\\xa0 mentally\\xa0disabling\\xa0injury,\\xa0illness\\xa0or\\xa0condition\\xa0that\\xa0began\\xa0before\\xa0he\\xa0or\\xa0she\\xa0reached\\xa0the\\xa0limiting\\xa0age.', 'Dependents\\xa0serving\\xa0active\\xa0military\\xa0duty\\xa0are\\xa0not\\xa0eligible,\\xa0as\\xa0they\\xa0are\\xa0typically\\xa0covered\\xa0under\\xa0health\\xa0and\\xa0dental\\xa0 coverage\\xa0provided\\xa0by\\xa0the\\xa0military\\xa0while\\xa0they\\xa0are\\xa0on\\xa0active\\xa0duty.', 'Enrollment\\xa0Requirements\\xa0 Because\\xa0you\\xa0pay\\xa0all\\xa0or\\xa0a\\xa0portion\\xa0of\\xa0the\\xa0coverage\\xa0for\\xa0yourself\\xa0or\\xa0your\\xa0dependents:\\xa0 \\uf0b7 Employees\\xa0must\\xa0enroll\\xa0within\\xa045\\xa0days\\xa0after\\xa0the\\xa0date\\xa0you\\xa0become\\xa0eligible\\xa0or\\xa0during\\xa0an\\xa0Open\\xa0Enrollment\\xa0 Period.', '\\uf0b7 All\\xa0dependents\\xa0must\\xa0be\\xa0enrolled\\xa0within\\xa045\\xa0days\\xa0after\\xa0they\\xa0become\\xa0eligible\\xa0or\\xa0during\\xa0an\\xa0Open\\xa0Enrollment\\xa0 Period.', 'If\\xa0you\\xa0elect\\xa0dependent\\xa0coverage,\\xa0you\\xa0must\\xa0enroll\\xa0all\\xa0of\\xa0your\\xa0Dependent\\xa0Enrollees\\xa0for\\xa0coverage.', '\\uf0b7 \\uf0b7 You\\xa0must\\xa0pay\\xa0the\\xa0cost\\xa0of\\xa0coverage\\xa0in\\xa0the\\xa0manner\\xa0elected\\xa0by\\xa0the\\xa0Contractholder\\xa0and\\xa0approved\\xa0by\\xa0us.', 'Coverage\\xa0 cannot\\xa0be\\xa0dropped\\xa0or\\xa0changed\\xa0other\\xa0than\\xa0during\\xa0an\\xa0Open\\xa0Enrollment\\xa0Period\\xa0or\\xa0because\\xa0of\\xa0a\\xa0Qualifying\\xa0Status\\xa0 Change.', '\\uf0b7 Any\\xa0payments\\xa0you\\xa0make\\xa0for\\xa0coverage\\xa0for\\xa0Dependent\\xa0Enrollees\\xa0must\\xa0be\\xa0paid\\xa0in\\xa0the\\xa0manner\\xa0elected\\xa0by\\xa0the\\xa0 Contractholder\\xa0and\\xa0approved\\xa0by\\xa0us\\xa0until\\xa0your\\xa0dependents\\xa0are\\xa0no\\xa0longer\\xa0eligible\\xa0or\\xa0until\\xa0you\\xa0choose\\xa0to\\xa0drop\\xa0 dependent\\xa0coverage.', 'Coverage\\xa0may\\xa0not\\xa0be\\xa0changed\\xa0at\\xa0any\\xa0time\\xa0other\\xa0than\\xa0during\\xa0an\\xa0Open\\xa0Enrollment\\xa0Period\\xa0 or\\xa0if\\xa0there\\xa0is\\xa0a\\xa0Qualifying\\xa0Status\\xa0Change.', '\\uf0b7 A\\xa0child\\xa0or\\xa0Spouse\\xa0or\\xa0Domestic\\xa0Partner\\xa0who\\xa0is\\xa0eligible\\xa0as\\xa0a\\xa0Primary\\xa0Enrollee\\xa0and\\xa0a\\xa0dependent\\xa0can\\xa0be\\xa0insured\\xa0 under\\xa0the\\xa0Contract\\xa0as\\xa0a\\xa0Primary\\xa0Enrollee\\xa0or\\xa0as\\xa0a\\xa0Dependent\\xa0Enrollee\\xa0but\\xa0not\\xa0both\\xa0at\\xa0the\\xa0same\\xa0time.', '\\uf0b7 A\\xa0child\\xa0cannot\\xa0be\\xa0covered\\xa0by\\xa0both\\xa0parent‐employees\\xa0as\\xa0a\\xa0Dependent\\xa0Enrollee.', 'See\\xa0the\\xa0Wrap\\xa0SPD\\xa0for\\xa0further\\xa0information\\xa0on\\xa0Eligibility\\xa0and\\xa0Enrollment.', 'Loss\\xa0of\\xa0Eligibility\\xa0 Your\\xa0coverage\\xa0ends\\xa0on\\xa0the\\xa0earlier\\xa0of\\xa0the\\xa0day\\xa0you\\xa0stop\\xa0working\\xa0for\\xa0the\\xa0Contractholder,\\xa0are\\xa0no\\xa0longer\\xa0an\\xa0Eligible\\xa0 Employee\\xa0of\\xa0the\\xa0Contractholder,\\xa0when\\xa0you\\xa0stop\\xa0paying\\xa0the\\xa0required\\xa0Premiums\\xa0for\\xa0coverage\\xa0or\\xa0immediately\\xa0when\\xa0 the\\xa0Contract\\xa0ends.', 'Your\\xa0Spouse\\xa0loses\\xa0coverage\\xa0when\\xa0your\\xa0coverage\\xa0ends\\xa0or\\xa0when\\xa0dependent\\xa0status\\xa0is\\xa0lost.', 'Your\\xa0 dependent\\xa0children\\xa0lose\\xa0coverage\\xa0when\\xa0your\\xa0coverage\\xa0ends\\xa0or\\xa0the\\xa0last\\xa0day\\xa0of\\xa0the\\xa0month\\xa0when\\xa0dependent\\xa0status\\xa0 is\\xa0lost.', '18745\\xa0 4\\xa0 TX‐ASC‐PPO‐E(2014)\\xa0 Employee\\xa0Benefit\\xa0Booklet\\xa0 Coca‐Cola\\xa0Southwest\\xa0Beverages\\xa0LLC\\xa0Dental\\xa0Plan\\xa0 Continuation\\xa0of\\xa0Benefits\\xa0 We\\xa0will\\xa0not\\xa0pay\\xa0for\\xa0any\\xa0services/treatment\\xa0received\\xa0after\\xa0your\\xa0coverage\\xa0ends.', 'However,\\xa0we\\xa0will\\xa0pay\\xa0for\\xa0covered\\xa0 services\\xa0incurred\\xa0while\\xa0you\\xa0were\\xa0eligible\\xa0if\\xa0the\\xa0procedures\\xa0were\\xa0completed\\xa0within\\xa031\\xa0days\\xa0of\\xa0the\\xa0date\\xa0your\\xa0 coverage\\xa0ended.', 'A\\xa0dental\\xa0service\\xa0is\\xa0incurred:\\xa0 \\uf0b7 \\uf0b7 \\uf0b7 \\uf0b7 Strike,\\xa0Lay‐off\\xa0and\\xa0Leave\\xa0of\\xa0Absence\\xa0 You\\xa0and\\xa0your\\xa0dependents\\xa0will\\xa0not\\xa0be\\xa0covered\\xa0for\\xa0any\\xa0dental\\xa0services\\xa0received\\xa0while\\xa0you\\xa0are\\xa0on\\xa0strike,\\xa0lay‐off\\xa0or\\xa0 leave\\xa0of\\xa0absence,\\xa0other\\xa0than\\xa0as\\xa0required\\xa0under\\xa0the\\xa0Family\\xa0&\\xa0Medical\\xa0Leave\\xa0Act\\xa0of\\xa01993\\xa0or\\xa0other\\xa0applicable\\xa0state\\xa0 or\\xa0federal\\xa0law*.', 'Benefits\\xa0for\\xa0you\\xa0and\\xa0your\\xa0Dependent\\xa0Enrollees\\xa0will\\xa0resume\\xa0as\\xa0follows:\\xa0 \\uf0b7 for\\xa0an\\xa0appliance\\xa0(or\\xa0change\\xa0to\\xa0an\\xa0appliance),\\xa0at\\xa0the\\xa0time\\xa0the\\xa0impression\\xa0is\\xa0made;\\xa0 for\\xa0a\\xa0crown,\\xa0bridge\\xa0or\\xa0cast\\xa0restoration,\\xa0at\\xa0the\\xa0time\\xa0the\\xa0tooth\\xa0or\\xa0teeth\\xa0are\\xa0prepared;\\xa0 for\\xa0root\\xa0canal\\xa0therapy,\\xa0at\\xa0the\\xa0time\\xa0the\\xa0pulp\\xa0chamber\\xa0is\\xa0opened;\\xa0and\\xa0 for\\xa0all\\xa0other\\xa0dental\\xa0services,\\xa0at\\xa0the\\xa0time\\xa0the\\xa0service\\xa0is\\xa0performed\\xa0or\\xa0the\\xa0supply\\xa0furnished.', 'if\\xa0coverage\\xa0is\\xa0reactivated\\xa0in\\xa0the\\xa0same\\xa0Calendar\\xa0Year,\\xa0Deductibles\\xa0and\\xa0maximums\\xa0will\\xa0resume\\xa0as\\xa0if\\xa0you\\xa0were\\xa0 never\\xa0gone;\\xa0or\\xa0 \\uf0b7 if\\xa0coverage\\xa0is\\xa0reactivated\\xa0in\\xa0a\\xa0different\\xa0Calendar\\xa0Year,\\xa0new\\xa0Deductibles\\xa0and\\xa0maximums\\xa0will\\xa0apply.', 'Coverage\\xa0will\\xa0resume\\xa0provided\\xa0the\\xa0Contractholder\\xa0submits\\xa0a\\xa0request\\xa0to\\xa0Delta\\xa0Dental\\xa0that\\xa0coverage\\xa0be\\xa0 reactivated.', '*Coverage\\xa0for\\xa0you\\xa0and\\xa0your\\xa0dependents\\xa0is\\xa0not\\xa0affected\\xa0if\\xa0you\\xa0take\\xa0a\\xa0leave\\xa0of\\xa0absence\\xa0allowed\\xa0under\\xa0the\\xa0Family\\xa0&\\xa0 Medical\\xa0Leave\\xa0Act\\xa0of\\xa01993\\xa0or\\xa0other\\xa0applicable\\xa0state\\xa0or\\xa0federal\\xa0law.', 'If\\xa0you\\xa0are\\xa0currently\\xa0paying\\xa0any\\xa0part\\xa0of\\xa0your\\xa0 cost\\xa0of\\xa0coverage,\\xa0you\\xa0may\\xa0choose\\xa0to\\xa0continue\\xa0coverage.', 'If\\xa0you\\xa0do\\xa0not\\xa0continue\\xa0coverage\\xa0during\\xa0the\\xa0leave,\\xa0you\\xa0can\\xa0 resume\\xa0that\\xa0coverage\\xa0on\\xa0your\\xa0return\\xa0to\\xa0active\\xa0work\\xa0as\\xa0if\\xa0no\\xa0interruption\\xa0occurred.', 'If\\xa0you\\xa0are\\xa0rehired\\xa0within\\xa0the\\xa0same\\xa0Calendar\\xa0Year,\\xa0Deductibles\\xa0and\\xa0maximums\\xa0will\\xa0resume\\xa0as\\xa0if\\xa0you\\xa0were\\xa0never\\xa0 gone.', 'Continued\\xa0Coverage\\xa0under\\xa0USERRA\\xa0 As\\xa0required\\xa0under\\xa0the\\xa0Uniformed\\xa0Services\\xa0Employment\\xa0and\\xa0Reemployment\\xa0Rights\\xa0Act\\xa0of\\xa01994\\xa0(USERRA),\\xa0if\\xa0you\\xa0 are\\xa0covered\\xa0by\\xa0the\\xa0Contract\\xa0on\\xa0the\\xa0date\\xa0your\\xa0USERRA\\xa0leave\\xa0of\\xa0absence\\xa0begins,\\xa0you\\xa0may\\xa0continue\\xa0dental\\xa0coverage\\xa0 for\\xa0yourself\\xa0and\\xa0any\\xa0Dependent\\xa0Enrollees.', 'Continuation\\xa0of\\xa0coverage\\xa0under\\xa0USERRA\\xa0may\\xa0not\\xa0extend\\xa0beyond\\xa0the\\xa0 earlier\\xa0of:\\xa0\\xa0 \\uf0b7 24\\xa0months,\\xa0beginning\\xa0on\\xa0the\\xa0date\\xa0the\\xa0leave\\xa0of\\xa0absence\\xa0begins,\\xa0or;\\xa0 \\uf0b7 For\\xa0USERRA\\xa0leave\\xa0that\\xa0extends\\xa0beyond\\xa031\\xa0days,\\xa0the\\xa0cost\\xa0of\\xa0coverage\\xa0for\\xa0continuation\\xa0of\\xa0coverage\\xa0will\\xa0be\\xa0the\\xa0 same\\xa0as\\xa0for\\xa0COBRA\\xa0coverage.', 'Continuation\\xa0of\\xa0Coverage\\xa0Under\\xa0COBRA\\xa0 COBRA\\xa0(the\\xa0Consolidated\\xa0Omnibus\\xa0Budget\\xa0Reconciliation\\xa0Act\\xa0of\\xa01985)\\xa0provides\\xa0a\\xa0way\\xa0for\\xa0you\\xa0and\\xa0your\\xa0 Dependent\\xa0Enrollees\\xa0who\\xa0lose\\xa0employer‐sponsored\\xa0group\\xa0health\\xa0plan\\xa0coverage\\xa0to\\xa0continue\\xa0coverage\\xa0for\\xa0a\\xa0period\\xa0 of\\xa0time\\xa0upon\\xa0the\\xa0occurrence\\xa0of\\xa0certain\\xa0events.', 'See\\xa0the\\xa0Wrap\\xa0SPD\\xa0for\\xa0further\\xa0information\\xa0on\\xa0COBRA.', 'We\\xa0do\\xa0not\\xa0assume\\xa0any\\xa0of\\xa0the\\xa0obligations\\xa0required\\xa0by\\xa0COBRA\\xa0of\\xa0the\\xa0Contractholder\\xa0or\\xa0any\\xa0employer\\xa0(including\\xa0the\\xa0 obligation\\xa0to\\xa0notify\\xa0potential\\xa0beneficiaries\\xa0of\\xa0their\\xa0rights\\xa0or\\xa0options\\xa0under\\xa0COBRA).', 'the\\xa0date\\xa0you\\xa0fail\\xa0to\\xa0return\\xa0to\\xa0work\\xa0within\\xa0the\\xa0time\\xa0required\\xa0by\\xa0USERRA.', '18745\\xa0 5\\xa0 TX‐ASC‐PPO‐E(2014)\\xa0 Employee\\xa0Benefit\\xa0Booklet\\xa0 Coca‐Cola\\xa0Southwest\\xa0Beverages\\xa0LLC\\xa0Dental\\xa0Plan\\xa0 CONDITIONS\\xa0UNDER\\xa0WHICH\\xa0BENEFITS\\xa0ARE\\xa0PROVIDED\\xa0 We\\xa0will\\xa0pay\\xa0Benefits\\xa0for\\xa0the\\xa0dental\\xa0services\\xa0described\\xa0in\\xa0Attachment\\xa0B.', 'We\\xa0will\\xa0pay\\xa0Benefits\\xa0only\\xa0for\\xa0covered\\xa0 services.', 'The\\xa0Contract\\xa0covers\\xa0several\\xa0categories\\xa0of\\xa0dental\\xa0services\\xa0when\\xa0a\\xa0Provider\\xa0provides\\xa0them\\xa0and\\xa0when\\xa0they\\xa0 are\\xa0necessary\\xa0and\\xa0within\\xa0the\\xa0standards\\xa0of\\xa0generally\\xa0accepted\\xa0dental\\xa0practice\\xa0standards.', 'Claims\\xa0will\\xa0be\\xa0processed\\xa0 in\\xa0accordance\\xa0with\\xa0our\\xa0standard\\xa0processing\\xa0policies.', 'The\\xa0processing\\xa0policies\\xa0may\\xa0be\\xa0revised\\xa0at\\xa0the\\xa0beginning\\xa0of\\xa0a\\xa0 Calendar\\xa0Year\\xa0to\\xa0comply\\xa0with\\xa0annual\\xa0CDT\\xa0changes\\xa0made\\xa0by\\xa0the\\xa0American\\xa0Dental\\xa0Association\\xa0and\\xa0to\\xa0reflect\\xa0 changes\\xa0in\\xa0generally\\xa0accepted\\xa0dental\\xa0practice\\xa0standards.', 'Delta\\xa0Dental\\xa0will\\xa0provide\\xa0advance\\xa0notice\\xa0of\\xa0such\\xa0changes\\xa0 to\\xa0the\\xa0Contractholder\\xa0who\\xa0will\\xa0then\\xa0distribute\\xa0to\\xa0Primary\\xa0Enrollees.', 'We\\xa0will\\xa0use\\xa0the\\xa0processing\\xa0policies\\xa0that\\xa0are\\xa0in\\xa0effect\\xa0at\\xa0the\\xa0time\\xa0the\\xa0claim\\xa0is\\xa0processed.', 'We\\xa0may\\xa0use\\xa0dentists\\xa0 (dental\\xa0consultants)\\xa0to\\xa0review\\xa0treatment\\xa0plans,\\xa0diagnostic\\xa0materials\\xa0and/or\\xa0prescribed\\xa0treatments\\xa0to\\xa0determine\\xa0 generally\\xa0accepted\\xa0dental\\xa0practices\\xa0and\\xa0to\\xa0determine\\xa0if\\xa0treatment\\xa0has\\xa0a\\xa0favorable\\xa0prognosis.', 'Limitations\\xa0and\\xa0 Exclusions\\xa0will\\xa0be\\xa0applied\\xa0for\\xa0the\\xa0period\\xa0the\\xa0person\\xa0is\\xa0an\\xa0Enrollee\\xa0under\\xa0any\\xa0Delta\\xa0Dental\\xa0program\\xa0or\\xa0prior\\xa0dental\\xa0 care\\xa0program\\xa0provided\\xa0by\\xa0the\\xa0Contractholder\\xa0subject\\xa0to\\xa0receipt\\xa0of\\xa0such\\xa0information\\xa0from\\xa0the\\xa0Contractholder\\xa0or\\xa0at\\xa0 the\\xa0time\\xa0a\\xa0claim\\xa0is\\xa0submitted.', 'Additional\\xa0eligibility\\xa0periods,\\xa0if\\xa0any,\\xa0are\\xa0listed\\xa0in\\xa0Attachment\\xa0A.', 'If\\xa0you\\xa0receive\\xa0dental\\xa0 services\\xa0from\\xa0a\\xa0Provider\\xa0outside\\xa0the\\xa0state\\xa0of\\xa0Texas,\\xa0the\\xa0Provider\\xa0will\\xa0be\\xa0paid\\xa0according\\xa0to\\xa0Delta\\xa0Dental’s\\xa0network\\xa0 payment\\xa0provisions\\xa0for\\xa0said\\xa0state\\xa0according\\xa0to\\xa0the\\xa0terms\\xa0of\\xa0the\\xa0Contract.', 'If\\xa0a\\xa0primary\\xa0dental\\xa0procedure\\xa0includes\\xa0component\\xa0procedures\\xa0that\\xa0are\\xa0performed\\xa0at\\xa0the\\xa0same\\xa0time\\xa0as\\xa0the\\xa0 primary\\xa0procedure,\\xa0the\\xa0component\\xa0procedures\\xa0are\\xa0considered\\xa0to\\xa0be\\xa0part\\xa0of\\xa0the\\xa0primary\\xa0procedure\\xa0for\\xa0purposes\\xa0 of\\xa0determining\\xa0the\\xa0Benefit\\xa0payable\\xa0under\\xa0the\\xa0Contract.', 'Even\\xa0if\\xa0the\\xa0Provider\\xa0bills\\xa0separately\\xa0for\\xa0the\\xa0primary\\xa0 procedure\\xa0and\\xa0each\\xa0of\\xa0its\\xa0component\\xa0parts,\\xa0the\\xa0total\\xa0Benefit\\xa0payable\\xa0for\\xa0all\\xa0related\\xa0charges\\xa0will\\xa0be\\xa0limited\\xa0to\\xa0the\\xa0 maximum\\xa0Benefit\\xa0payable\\xa0for\\xa0the\\xa0primary\\xa0procedure.', 'Enrollee\\xa0Coinsurance\\xa0 We\\xa0will\\xa0pay\\xa0a\\xa0percentage\\xa0of\\xa0the\\xa0Maximum\\xa0Contract\\xa0Allowance\\xa0for\\xa0covered\\xa0services,\\xa0as\\xa0shown\\xa0in\\xa0Attachment\\xa0A\\xa0\\xa0 and\\xa0you\\xa0are\\xa0responsible\\xa0for\\xa0paying\\xa0the\\xa0balance.', 'What\\xa0you\\xa0pay\\xa0is\\xa0called\\xa0the\\xa0enrollee\\xa0coinsurance\\xa0(“Enrollee\\xa0 Coinsurance”)\\xa0and\\xa0is\\xa0part\\xa0of\\xa0your\\xa0out‐of‐pocket\\xa0cost.', 'You\\xa0pay\\xa0this\\xa0even\\xa0after\\xa0a\\xa0Deductible\\xa0has\\xa0been\\xa0met.', 'The\\xa0amount\\xa0of\\xa0your\\xa0Enrollee\\xa0Coinsurance\\xa0will\\xa0depend\\xa0on\\xa0the\\xa0type\\xa0of\\xa0service\\xa0and\\xa0the\\xa0Provider\\xa0providing\\xa0the\\xa0 service\\xa0(see\\xa0section\\xa0titled\\xa0“Selecting\\xa0Your\\xa0Provider”).', 'Providers\\xa0are\\xa0required\\xa0to\\xa0collect\\xa0Enrollee\\xa0Coinsurance\\xa0for\\xa0 covered\\xa0services.', 'Your\\xa0group\\xa0has\\xa0chosen\\xa0to\\xa0require\\xa0Enrollee\\xa0Coinsurances\\xa0under\\xa0this\\xa0program\\xa0as\\xa0a\\xa0method\\xa0of\\xa0 sharing\\xa0the\\xa0costs\\xa0of\\xa0providing\\xa0dental\\xa0Benefits\\xa0between\\xa0the\\xa0Contractholder\\xa0and\\xa0Enrollees.', 'If\\xa0the\\xa0Provider\\xa0 discounts,\\xa0waives\\xa0or\\xa0rebates\\xa0any\\xa0portion\\xa0of\\xa0the\\xa0Enrollee\\xa0Coinsurance\\xa0to\\xa0you,\\xa0we\\xa0will\\xa0be\\xa0obligated\\xa0to\\xa0provide\\xa0as\\xa0 Benefits\\xa0only\\xa0the\\xa0applicable\\xa0percentages\\xa0of\\xa0the\\xa0Provider’s\\xa0fees\\xa0or\\xa0allowances\\xa0reduced\\xa0by\\xa0the\\xa0amount\\xa0of\\xa0the\\xa0fees\\xa0 or\\xa0allowances\\xa0that\\xa0are\\xa0discounted,\\xa0waived\\xa0or\\xa0rebated.', 'It\\xa0is\\xa0to\\xa0your\\xa0advantage\\xa0to\\xa0select\\xa0PPO\\xa0Providers\\xa0because\\xa0they\\xa0have\\xa0agreed\\xa0to\\xa0accept\\xa0the\\xa0Maximum\\xa0Contract\\xa0 Allowance\\xa0as\\xa0payment\\xa0in\\xa0full\\xa0for\\xa0covered\\xa0services,\\xa0which\\xa0typically\\xa0results\\xa0in\\xa0lower\\xa0out‐of‐pocket\\xa0costs\\xa0for\\xa0you.', 'Please\\xa0refer\\xa0to\\xa0the\\xa0sections\\xa0titled\\xa0“Selecting\\xa0Your\\xa0Provider”\\xa0and\\xa0“How\\xa0Claims\\xa0Are\\xa0Paid”\\xa0for\\xa0more\\xa0information.', 'Deductible\\xa0 Your\\xa0dental\\xa0plan\\xa0features\\xa0a\\xa0Deductible.', 'This\\xa0is\\xa0an\\xa0amount\\xa0you\\xa0must\\xa0pay\\xa0out‐of‐pocket\\xa0before\\xa0Benefits\\xa0are\\xa0paid.', 'The\\xa0Deductible\\xa0amounts\\xa0are\\xa0listed\\xa0in\\xa0Attachment\\xa0A.\\xa0Deductibles\\xa0apply\\xa0to\\xa0all\\xa0benefits\\xa0unless\\xa0otherwise\\xa0noted.', 'Only\\xa0 the\\xa0Provider’s\\xa0fees\\xa0you\\xa0pay\\xa0for\\xa0covered\\xa0Benefits\\xa0will\\xa0count\\xa0toward\\xa0the\\xa0Deductible.', 'Maximum\\xa0Amount\\xa0 Most\\xa0dental\\xa0plans\\xa0have\\xa0a\\xa0Maximum\\xa0Amount.', 'A\\xa0Maximum\\xa0Amount\\xa0is\\xa0the\\xa0maximum\\xa0dollar\\xa0amount\\xa0we\\xa0will\\xa0pay\\xa0 toward\\xa0the\\xa0cost\\xa0of\\xa0dental\\xa0care.', 'You\\xa0are\\xa0responsible\\xa0for\\xa0paying\\xa0costs\\xa0above\\xa0this\\xa0amount.', 'The\\xa0Maximum\\xa0Amount\\xa0 payable\\xa0is\\xa0shown\\xa0in\\xa0Attachment\\xa0A.\\xa0Maximums\\xa0may\\xa0apply\\xa0on\\xa0a\\xa0yearly\\xa0basis,\\xa0a\\xa0per\\xa0services\\xa0basis,\\xa0or\\xa0a\\xa0lifetime\\xa0basis.', 'Pre‐Treatment\\xa0Estimate\\xa0 Pre‐Treatment\\xa0Estimate\\xa0requests\\xa0are\\xa0not\\xa0required;\\xa0however,\\xa0your\\xa0Provider\\xa0may\\xa0file\\xa0a\\xa0Claim\\xa0Form\\xa0before\\xa0 beginning\\xa0treatment,\\xa0showing\\xa0the\\xa0services\\xa0to\\xa0be\\xa0provided\\xa0to\\xa0you.', 'We\\xa0will\\xa0estimate\\xa0the\\xa0amount\\xa0of\\xa0Benefits\\xa0 payable\\xa0under\\xa0the\\xa0Contract\\xa0for\\xa0the\\xa0listed\\xa0services.', 'By\\xa0asking\\xa0your\\xa0Provider\\xa0for\\xa0a\\xa0Pre‐Treatment\\xa0Estimate\\xa0from\\xa0us\\xa0 before\\xa0you\\xa0agree\\xa0to\\xa0receive\\xa0any\\xa0prescribed\\xa0treatment,\\xa0you\\xa0will\\xa0have\\xa0an\\xa0estimate\\xa0up\\xa0front\\xa0of\\xa0what\\xa0we\\xa0will\\xa0pay\\xa0and\\xa0 the\\xa0difference\\xa0you\\xa0will\\xa0need\\xa0to\\xa0pay.', 'The\\xa0Benefits\\xa0will\\xa0be\\xa0processed\\xa0according\\xa0to\\xa0the\\xa0terms\\xa0of\\xa0the\\xa0Contract\\xa0when\\xa0 the\\xa0treatment\\xa0is\\xa0actually\\xa0performed.', 'Pre‐Treatment\\xa0Estimates\\xa0are\\xa0valid\\xa0for\\xa0365\\xa0days\\xa0unless\\xa0other\\xa0services\\xa0are\\xa0 18745\\xa0 6\\xa0 TX‐ASC‐PPO‐E(2014)\\xa0 Coca‐Cola\\xa0Southwest\\xa0Beverages\\xa0LLC\\xa0Dental\\xa0Plan\\xa0 received\\xa0after\\xa0the\\xa0date\\xa0of\\xa0the\\xa0Pre‐Treatment\\xa0Estimate,\\xa0or\\xa0until\\xa0an\\xa0earlier\\xa0occurrence\\xa0of\\xa0any\\xa0one\\xa0of\\xa0the\\xa0following\\xa0 events:\\xa0 \\uf0b7 \\uf0b7 Employee\\xa0Benefit\\xa0Booklet\\xa0 the\\xa0date\\xa0the\\xa0Contract\\xa0terminates;\\xa0 the\\xa0date\\xa0Benefits\\xa0under\\xa0the\\xa0Contract\\xa0are\\xa0amended\\xa0if\\xa0the\\xa0services\\xa0in\\xa0the\\xa0Pre‐Treatment\\xa0Estimate\\xa0are\\xa0part\\xa0of\\xa0 the\\xa0amendment;\\xa0 the\\xa0date\\xa0your\\xa0coverage\\xa0ends;\\xa0or\\xa0 the\\xa0date\\xa0the\\xa0Provider’s\\xa0agreement\\xa0with\\xa0Delta\\xa0Dental\\xa0ends.', '\\uf0b7 \\uf0b7 A\\xa0Pre‐Treatment\\xa0Estimate\\xa0does\\xa0not\\xa0guarantee\\xa0payment.', 'It\\xa0is\\xa0an\\xa0estimate\\xa0of\\xa0the\\xa0amount\\xa0we\\xa0will\\xa0pay\\xa0if\\xa0you\\xa0are\\xa0 enrolled\\xa0and\\xa0meet\\xa0all\\xa0the\\xa0requirements\\xa0of\\xa0the\\xa0program\\xa0at\\xa0the\\xa0time\\xa0the\\xa0treatment\\xa0you\\xa0have\\xa0planned\\xa0is\\xa0completed\\xa0 and\\xa0may\\xa0not\\xa0take\\xa0into\\xa0account\\xa0any\\xa0Deductibles,\\xa0so\\xa0please\\xa0remember\\xa0to\\xa0figure\\xa0in\\xa0your\\xa0Deductible\\xa0if\\xa0necessary.', 'SELECTING\\xa0YOUR\\xa0PROVIDER\\xa0 Free\\xa0Choice\\xa0of\\xa0Provider\\xa0 You\\xa0may\\xa0see\\xa0any\\xa0Provider\\xa0for\\xa0your\\xa0covered\\xa0treatment\\xa0whether\\xa0the\\xa0Provider\\xa0is\\xa0a\\xa0PPO\\xa0Provider,\\xa0Premier\\xa0Provider\\xa0or\\xa0 a\\xa0Non‐Delta\\xa0Dental\\xa0Provider.', 'This\\xa0plan\\xa0is\\xa0a\\xa0PPO\\xa0plan\\xa0and\\xa0the\\xa0greatest\\xa0benefits\\xa0–\\xa0including\\xa0out‐of‐pocket\\xa0savings\\xa0 –\\xa0occur\\xa0when\\xa0you\\xa0choose\\xa0a\\xa0PPO\\xa0Provider.', 'To\\xa0take\\xa0full\\xa0advantage\\xa0of\\xa0your\\xa0Benefits,\\xa0we\\xa0highly\\xa0recommend\\xa0you\\xa0 verify\\xa0a\\xa0Provider’s\\xa0participation\\xa0status\\xa0within\\xa0a\\xa0Delta\\xa0Dental\\xa0network\\xa0with\\xa0your\\xa0dental\\xa0office\\xa0before\\xa0each\\xa0 appointment.', 'Review\\xa0this\\xa0section\\xa0for\\xa0an\\xa0explanation\\xa0of\\xa0Delta\\xa0Dental\\xa0payment\\xa0procedures\\xa0to\\xa0understand\\xa0the\\xa0 method\\xa0of\\xa0payments\\xa0applicable\\xa0to\\xa0your\\xa0Provider\\xa0selection\\xa0and\\xa0how\\xa0that\\xa0may\\xa0impact\\xa0your\\xa0out‐of‐pocket\\xa0costs.', 'Locating\\xa0a\\xa0PPO\\xa0Provider\\xa0 You\\xa0may\\xa0access\\xa0information\\xa0through\\xa0our\\xa0website\\xa0at\\xa0deltadentalins.com.', 'You\\xa0may\\xa0also\\xa0call\\xa0our\\xa0Customer\\xa0Service\\xa0 Center\\xa0and\\xa0one\\xa0of\\xa0our\\xa0representatives\\xa0will\\xa0assist\\xa0you.', 'We\\xa0can\\xa0provide\\xa0you\\xa0with\\xa0information\\xa0regarding\\xa0a\\xa0Provider’s\\xa0 network\\xa0participation,\\xa0specialty\\xa0and\\xa0office\\xa0location.', 'Choosing\\xa0a\\xa0PPO\\xa0Provider\\xa0 A\\xa0PPO\\xa0Provider\\xa0potentially\\xa0allows\\xa0the\\xa0greatest\\xa0reduction\\xa0in\\xa0Enrollees’\\xa0out‐of‐pocket\\xa0expenses\\xa0since\\xa0this\\xa0select\\xa0 group\\xa0of\\xa0Providers\\xa0will\\xa0provide\\xa0dental\\xa0Benefits\\xa0at\\xa0a\\xa0charge\\xa0that\\xa0has\\xa0been\\xa0contractually\\xa0agreed\\xa0upon.', 'Payment\\xa0for\\xa0 covered\\xa0services\\xa0performed\\xa0by\\xa0a\\xa0PPO\\xa0Provider\\xa0is\\xa0based\\xa0on\\xa0the\\xa0Maximum\\xa0Contract\\xa0Allowance.', 'Choosing\\xa0a\\xa0Premier\\xa0Provider\\xa0 A\\xa0Premier\\xa0Provider\\xa0is\\xa0a\\xa0Delta\\xa0Dental\\xa0Provider;\\xa0however,\\xa0the\\xa0Premier\\xa0Provider\\xa0has\\xa0not\\xa0agreed\\xa0to\\xa0the\\xa0features\\xa0of\\xa0the\\xa0 PPO\\xa0plan.', 'The\\xa0amount\\xa0charged\\xa0may\\xa0be\\xa0above\\xa0that\\xa0accepted\\xa0by\\xa0PPO\\xa0Providers,\\xa0and\\xa0Enrollees\\xa0will\\xa0be\\xa0responsible\\xa0 for\\xa0balance\\xa0billed\\xa0amounts.', 'Payment\\xa0for\\xa0covered\\xa0services\\xa0performed\\xa0by\\xa0a\\xa0Premier\\xa0Provider\\xa0is\\xa0based\\xa0on\\xa0the\\xa0 Maximum\\xa0Contract\\xa0Allowance,\\xa0and\\xa0the\\xa0Enrollee\\xa0may\\xa0be\\xa0balance\\xa0billed\\xa0up\\xa0to\\xa0the\\xa0Premier\\xa0Provider’s\\xa0Contracted\\xa0 Fee.', 'Choosing\\xa0a\\xa0Non‐Delta\\xa0Dental\\xa0Provider\\xa0 If\\xa0a\\xa0Provider\\xa0is\\xa0a\\xa0Non‐Delta\\xa0Dental\\xa0Provider,\\xa0the\\xa0amount\\xa0charged\\xa0to\\xa0Enrollees\\xa0may\\xa0be\\xa0above\\xa0that\\xa0accepted\\xa0by\\xa0PPO\\xa0or\\xa0Premier\\xa0 Providers,\\xa0and\\xa0Enrollees\\xa0will\\xa0be\\xa0responsible\\xa0for\\xa0balance\\xa0billed\\xa0amounts.', 'Payment\\xa0for\\xa0covered\\xa0services\\xa0performed\\xa0by\\xa0a\\xa0Non‐ Delta\\xa0Dental\\xa0Provider\\xa0is\\xa0based\\xa0on\\xa0the\\xa0Maximum\\xa0Contract\\xa0Allowance,\\xa0and\\xa0the\\xa0Enrollee\\xa0may\\xa0be\\xa0balance\\xa0billed\\xa0up\\xa0to\\xa0the\\xa0 Provider’s\\xa0Submitted\\xa0Fee.', 'Additional\\xa0Obligations\\xa0of\\xa0PPO\\xa0and\\xa0Premier\\xa0Providers\\xa0 \\uf0b7 The\\xa0PPO\\xa0Provider\\xa0or\\xa0Premier\\xa0Provider\\xa0must\\xa0accept\\xa0assignment\\xa0of\\xa0Benefits,\\xa0meaning\\xa0these\\xa0Providers\\xa0will\\xa0be\\xa0 paid\\xa0directly\\xa0by\\xa0Delta\\xa0Dental\\xa0after\\xa0satisfaction\\xa0of\\xa0the\\xa0Deductible\\xa0and\\xa0Enrollee\\xa0Coinsurance.', 'The\\xa0Enrollee\\xa0does\\xa0 not\\xa0have\\xa0to\\xa0pay\\xa0all\\xa0the\\xa0dental\\xa0charges\\xa0while\\xa0at\\xa0the\\xa0dental\\xa0office\\xa0and\\xa0then\\xa0submit\\xa0the\\xa0claim\\xa0for\\xa0reimbursement.', '\\uf0b7 The\\xa0PPO\\xa0Provider\\xa0or\\xa0Premier\\xa0Provider\\xa0will\\xa0complete\\xa0the\\xa0dental\\xa0Claim\\xa0Form\\xa0and\\xa0submit\\xa0it\\xa0to\\xa0Delta\\xa0Dental\\xa0for\\xa0 reimbursement.', '\\uf0b7 The\\xa0PPO\\xa0Provider\\xa0will\\xa0accept\\xa0contracted\\xa0fees\\xa0as\\xa0payment\\xa0in\\xa0full\\xa0for\\xa0covered\\xa0services\\xa0and\\xa0will\\xa0not\\xa0balance\\xa0bill\\xa0if\\xa0 there\\xa0is\\xa0a\\xa0difference\\xa0between\\xa0Submitted\\xa0Fees\\xa0and\\xa0Delta\\xa0Dental\\xa0PPO\\xa0Contracted\\xa0Fees.', '18745\\xa0 7\\xa0 TX‐ASC‐PPO‐E(2014)\\xa0 Employee\\xa0Benefit\\xa0Booklet\\xa0 Coca‐Cola\\xa0Southwest\\xa0Beverages\\xa0LLC\\xa0Dental\\xa0Plan\\xa0 Dental\\xa0Provider\\xa0Networks\\xa0Out‐of\\xa0Area\\xa0 This\\xa0plan\\xa0offers\\xa0each\\xa0Enrollee\\xa0a\\xa0network\\xa0of\\xa0Delta\\xa0Dental\\xa0PPO\\xa0Providers\\xa0or\\xa0Delta\\xa0Dental\\xa0Premier\\xa0Providers.', 'For\\xa0 most\\xa0Enrollees,\\xa0there\\xa0is\\xa0a\\xa0network\\xa0provider\\xa0within\\xa010\\xa0miles\\xa0of\\xa0your\\xa0zip\\xa0code.', 'For\\xa0more\\xa0information\\xa0on\\xa0how\\xa0to\\xa0 obtain\\xa0a\\xa0list\\xa0of\\xa0Delta\\xa0Dental\\xa0PPO\\xa0Providers\\xa0or\\xa0Delta\\xa0Dental\\xa0Premier\\xa0Providers\\xa0in\\xa0your\\xa0zip\\xa0code\\xa0or\\xa0to\\xa0find\\xa0out\\xa0if\\xa0a\\xa0 specific\\xa0Provider\\xa0in\\xa0in\\xa0the\\xa0network,\\xa0You\\xa0may\\xa0access\\xa0information\\xa0through\\xa0our\\xa0website\\xa0at\\xa0deltadentalins.com.', 'You\\xa0 may\\xa0also\\xa0call\\xa0our\\xa0Customer\\xa0Service\\xa0Center\\xa0and\\xa0one\\xa0of\\xa0our\\xa0representatives\\xa0will\\xa0assist\\xa0you.', 'We\\xa0can\\xa0provide\\xa0you\\xa0with\\xa0 information\\xa0regarding\\xa0a\\xa0Provider’s\\xa0network\\xa0participation,\\xa0specialty\\xa0and\\xa0office\\xa0location.', 'If\\xa0you\\xa0live\\xa0in\\xa0an\\xa0area\\xa0considered\\xa0to\\xa0be\\xa0out‐of\\xa0the\\xa0area\\xa0by\\xa0the\\xa0dental\\xa0plans\\xa0claims\\xa0administrator,\\xa0you\\xa0may\\xa0seek\\xa0 treatment\\xa0from\\xa0a\\xa0Non‐Delta\\xa0Dental\\xa0Provider,\\xa0and\\xa0the\\xa0dental\\xa0plan\\xa0will\\xa0reimburse\\xa0you\\xa0for\\xa0covered\\xa0dental\\xa0expenses\\xa0 at\\xa0the\\xa0Delta\\xa0Dental\\xa0Premier\\xa0Providers\\xa0fee.', 'For\\xa0general\\xa0Providers,\\xa0this\\xa0exception\\xa0will\\xa0apply\\xa0only\\xa0if\\xa0there\\xa0are\\xa0fewer\\xa0 than\\xa0two\\xa0(2)\\xa0Delta\\xa0Dental\\xa0PPO\\xa0Providers\\xa0or\\xa0Delta\\xa0Dental\\xa0Premier\\xa0Providers\\xa0within\\xa0a\\xa010‐mile\\xa0radius\\xa0of\\xa0your\\xa0zip\\xa0 code.', 'For\\xa0Provider\\xa0specialists,\\xa0this\\xa0exception\\xa0will\\xa0apply\\xa0only\\xa0if\\xa0there\\xa0is\\xa0no\\xa0Delta\\xa0Dental\\xa0PPO\\xa0Providers\\xa0or\\xa0Delta\\xa0 Dental\\xa0Premier\\xa0Providers\\xa0specialists\\xa0within\\xa0a\\xa030‐mile\\xa0radius\\xa0of\\xa0your\\xa0zip\\xa0code.', 'How\\xa0to\\xa0Submit\\xa0a\\xa0Claim\\xa0 Claims\\xa0for\\xa0Benefits\\xa0must\\xa0be\\xa0filed\\xa0on\\xa0a\\xa0standard\\xa0Claim\\xa0Form\\xa0that\\xa0is\\xa0available\\xa0in\\xa0most\\xa0dental\\xa0offices.', 'PPO\\xa0and\\xa0 Premier\\xa0Providers\\xa0will\\xa0fill\\xa0out\\xa0and\\xa0submit\\xa0your\\xa0claims\\xa0paperwork\\xa0for\\xa0you.', 'Some\\xa0Non‐Delta\\xa0Dental\\xa0Providers\\xa0may\\xa0 also\\xa0provide\\xa0this\\xa0service\\xa0upon\\xa0your\\xa0request.', 'If\\xa0you\\xa0receive\\xa0services\\xa0from\\xa0a\\xa0Non‐Delta\\xa0Dental\\xa0Provider\\xa0who\\xa0does\\xa0 not\\xa0provide\\xa0this\\xa0service,\\xa0you\\xa0can\\xa0submit\\xa0your\\xa0own\\xa0claim\\xa0directly\\xa0to\\xa0us.', 'Please\\xa0refer\\xa0to\\xa0the\\xa0section\\xa0titled\\xa0“Notice\\xa0of\\xa0 Claim\\xa0Form”\\xa0for\\xa0more\\xa0information.', 'Your\\xa0dental\\xa0office\\xa0should\\xa0be\\xa0able\\xa0to\\xa0assist\\xa0you\\xa0in\\xa0filling\\xa0out\\xa0the\\xa0Claim\\xa0Form.', 'Fill\\xa0out\\xa0the\\xa0Claim\\xa0Form\\xa0completely\\xa0and\\xa0 send\\xa0it\\xa0to:\\xa0 Delta\\xa0Dental\\xa0Insurance\\xa0Company\\xa0\\xa0 P.O.', 'Box\\xa01809\\xa0 Alpharetta,\\xa0GA\\xa030023\\xa0 \\xa0 We\\xa0will\\xa0give\\xa0you\\xa0or\\xa0your\\xa0Provider,\\xa0on\\xa0request,\\xa0a\\xa0Claim\\xa0Form\\xa0to\\xa0make\\xa0claim\\xa0for\\xa0Benefits.', 'To\\xa0make\\xa0a\\xa0claim,\\xa0the\\xa0form\\xa0 should\\xa0be\\xa0completed\\xa0and\\xa0signed\\xa0by\\xa0the\\xa0Provider\\xa0who\\xa0performed\\xa0the\\xa0services\\xa0and\\xa0by\\xa0the\\xa0patient\\xa0(or\\xa0the\\xa0parent\\xa0or\\xa0 guardian\\xa0if\\xa0the\\xa0patient\\xa0is\\xa0a\\xa0minor)\\xa0and\\xa0submitted\\xa0to\\xa0us\\xa0at\\xa0the\\xa0address\\xa0above.', 'If\\xa0the\\xa0form\\xa0is\\xa0not\\xa0furnished\\xa0by\\xa0us\\xa0within\\xa015\\xa0days\\xa0after\\xa0requested\\xa0by\\xa0you\\xa0or\\xa0your\\xa0Provider,\\xa0the\\xa0requirements\\xa0for\\xa0 proof\\xa0of\\xa0loss\\xa0set\\xa0forth\\xa0in\\xa0the\\xa0next\\xa0paragraph\\xa0will\\xa0be\\xa0deemed\\xa0to\\xa0have\\xa0been\\xa0complied\\xa0with\\xa0upon\\xa0the\\xa0submission\\xa0to\\xa0 us,\\xa0within\\xa0the\\xa0time\\xa0established\\xa0in\\xa0said\\xa0paragraph\\xa0for\\xa0filing\\xa0proofs\\xa0of\\xa0loss,\\xa0of\\xa0written\\xa0proof\\xa0covering\\xa0the\\xa0occurrence,\\xa0 the\\xa0character\\xa0and\\xa0the\\xa0extent\\xa0of\\xa0the\\xa0loss\\xa0for\\xa0which\\xa0claim\\xa0is\\xa0made.', 'You\\xa0or\\xa0your\\xa0Provider\\xa0may\\xa0download\\xa0a\\xa0Claim\\xa0 Form\\xa0from\\xa0our\\xa0website.', 'You\\xa0must\\xa0file\\xa0a\\xa0claim\\xa0for\\xa0benefits\\xa0within\\xa012\\xa0months\\xa0after\\xa0the\\xa0date\\xa0of\\xa0service.', 'If\\xa0it\\xa0is\\xa0not\\xa0reasonably\\xa0possible\\xa0to\\xa0give\\xa0 written\\xa0proof\\xa0in\\xa0the\\xa0time\\xa0required,\\xa0the\\xa0claim\\xa0will\\xa0not\\xa0be\\xa0reduced\\xa0or\\xa0denied\\xa0solely\\xa0for\\xa0this\\xa0reason,\\xa0provided\\xa0proof\\xa0is\\xa0 filed\\xa0as\\xa0soon\\xa0as\\xa0reasonably\\xa0possible.', 'In\\xa0any\\xa0event,\\xa0a\\xa0written\\xa0claim\\xa0must\\xa0be\\xa0filed\\xa0no\\xa0later\\xa0than\\xa0one\\xa0year\\xa0from\\xa0the\\xa0date\\xa0 of\\xa0service\\xa0(unless\\xa0the\\xa0claimant\\xa0was\\xa0legally\\xa0incapacitated).', 'All\\xa0written\\xa0claims\\xa0for\\xa0benefits\\xa0must\\xa0be\\xa0submitted\\xa0to\\xa0us\\xa0within\\xa012\\xa0months\\xa0of\\xa0the\\xa0termination\\xa0of\\xa0the\\xa0Contract.', 'Payment\\xa0Guidelines\\xa0 We\\xa0do\\xa0not\\xa0pay\\xa0PPO\\xa0or\\xa0Premier\\xa0Providers\\xa0any\\xa0incentive\\xa0as\\xa0an\\xa0inducement\\xa0to\\xa0deny,\\xa0reduce,\\xa0limit\\xa0or\\xa0delay\\xa0any\\xa0 appropriate\\xa0service.', 'If\\xa0you\\xa0or\\xa0your\\xa0Provider\\xa0files\\xa0a\\xa0claim\\xa0for\\xa0services\\xa0more\\xa0than\\xa012\\xa0months\\xa0after\\xa0the\\xa0date\\xa0you\\xa0received\\xa0the\\xa0services,\\xa0 payment\\xa0may\\xa0be\\xa0denied.', 'If\\xa0the\\xa0services\\xa0were\\xa0received\\xa0from\\xa0a\\xa0Non‐Delta\\xa0Dental\\xa0Provider,\\xa0you\\xa0are\\xa0still\\xa0responsible\\xa0 for\\xa0the\\xa0full\\xa0cost.', 'If\\xa0the\\xa0payment\\xa0is\\xa0denied\\xa0because\\xa0your\\xa0PPO\\xa0Provider\\xa0failed\\xa0to\\xa0submit\\xa0the\\xa0claim\\xa0on\\xa0time,\\xa0you\\xa0may\\xa0 not\\xa0be\\xa0responsible\\xa0for\\xa0that\\xa0payment.', 'However,\\xa0if\\xa0you\\xa0did\\xa0not\\xa0tell\\xa0your\\xa0PPO\\xa0Provider\\xa0that\\xa0you\\xa0were\\xa0covered\\xa0under\\xa0 a\\xa0Delta\\xa0Dental\\xa0Policy\\xa0at\\xa0the\\xa0time\\xa0you\\xa0received\\xa0the\\xa0service,\\xa0you\\xa0may\\xa0be\\xa0responsible\\xa0for\\xa0the\\xa0cost\\xa0of\\xa0that\\xa0service.', 'If\\xa0you\\xa0have\\xa0any\\xa0questions\\xa0about\\xa0any\\xa0dental\\xa0charges,\\xa0processing\\xa0policies\\xa0and/or\\xa0how\\xa0your\\xa0claim\\xa0is\\xa0paid,\\xa0please\\xa0 contact\\xa0us.', '18745\\xa0 8\\xa0 TX‐ASC‐PPO‐E(2014)\\xa0 Employee\\xa0Benefit\\xa0Booklet\\xa0 Coca‐Cola\\xa0Southwest\\xa0Beverages\\xa0LLC\\xa0Dental\\xa0Plan\\xa0 Provider\\xa0Relationships\\xa0 Enrollees\\xa0and\\xa0Delta\\xa0Dental\\xa0agree\\xa0to\\xa0permit\\xa0and\\xa0encourage\\xa0the\\xa0professional\\xa0relationship\\xa0between\\xa0Provider\\xa0and\\xa0 Enrollee\\xa0to\\xa0be\\xa0maintained\\xa0without\\xa0interference.', 'Any\\xa0PPO,\\xa0Premier\\xa0or\\xa0Non‐Delta\\xa0Dental\\xa0Provider,\\xa0including\\xa0any\\xa0 Provider\\xa0or\\xa0employee\\xa0associated\\xa0with\\xa0or\\xa0employed\\xa0by\\xa0them,\\xa0who\\xa0provides\\xa0dental\\xa0services\\xa0to\\xa0an\\xa0Enrollee\\xa0does\\xa0so\\xa0 as\\xa0an\\xa0independent\\xa0contractor\\xa0and\\xa0shall\\xa0be\\xa0solely\\xa0responsible\\xa0for\\xa0dental\\xa0advice\\xa0and\\xa0for\\xa0performance\\xa0of\\xa0dental\\xa0 services,\\xa0or\\xa0lack\\xa0thereof,\\xa0to\\xa0the\\xa0Enrollee.', 'CLAIMS\\xa0APPEAL\\xa0 We\\xa0will\\xa0notify\\xa0you\\xa0and\\xa0your\\xa0Provider\\xa0if\\xa0Benefits\\xa0are\\xa0denied\\xa0for\\xa0services\\xa0submitted\\xa0on\\xa0a\\xa0Claim\\xa0Form,\\xa0in\\xa0whole\\xa0or\\xa0in\\xa0 part,\\xa0stating\\xa0the\\xa0reason(s)\\xa0for\\xa0denial.', 'You\\xa0have\\xa0at\\xa0least\\xa0180\\xa0days\\xa0after\\xa0receiving\\xa0a\\xa0notice\\xa0of\\xa0denial\\xa0to\\xa0request\\xa0an\\xa0 appeal\\xa0or\\xa0grievance\\xa0by\\xa0writing\\xa0to\\xa0us\\xa0giving\\xa0reasons\\xa0why\\xa0you\\xa0believe\\xa0the\\xa0denial\\xa0was\\xa0wrong.', 'You\\xa0and\\xa0your\\xa0\\xa0Provider\\xa0 may\\xa0also\\xa0ask\\xa0Delta\\xa0Dental\\xa0to\\xa0examine\\xa0any\\xa0additional\\xa0information\\xa0provided\\xa0that\\xa0may\\xa0support\\xa0the\\xa0appeal\\xa0or\\xa0 grievance.', 'Send\\xa0your\\xa0appeal\\xa0or\\xa0grievance\\xa0to\\xa0us\\xa0at\\xa0the\\xa0address\\xa0shown\\xa0below:\\xa0 Delta\\xa0Dental\\xa0Insurance\\xa0Company\\xa0 P.O.', 'Box\\xa01809\\xa0 Alpharetta,\\xa0GA\\xa0\\xa030023\\xa0 We\\xa0will\\xa0send\\xa0you\\xa0a\\xa0written\\xa0acknowledgment\\xa0within\\xa05\\xa0days\\xa0upon\\xa0receipt\\xa0of\\xa0the\\xa0appeal\\xa0or\\xa0grievance.', 'We\\xa0will\\xa0make\\xa0 a\\xa0full\\xa0and\\xa0fair\\xa0review\\xa0and\\xa0may\\xa0ask\\xa0for\\xa0more\\xa0documents\\xa0during\\xa0this\\xa0review\\xa0if\\xa0needed.', 'The\\xa0review\\xa0will\\xa0take\\xa0into\\xa0 account\\xa0all\\xa0comments,\\xa0documents,\\xa0records\\xa0or\\xa0other\\xa0information,\\xa0regardless\\xa0of\\xa0whether\\xa0such\\xa0information\\xa0was\\xa0 submitted\\xa0or\\xa0considered\\xa0initially.', 'If\\xa0the\\xa0review\\xa0is\\xa0of\\xa0a\\xa0denial\\xa0based\\xa0in\\xa0whole\\xa0or\\xa0in\\xa0part\\xa0on\\xa0lack\\xa0of\\xa0dental\\xa0necessity,\\xa0 experimental\\xa0treatment\\xa0or\\xa0clinical\\xa0judgment\\xa0in\\xa0applying\\xa0the\\xa0terms\\xa0of\\xa0the\\xa0Contract,\\xa0we\\xa0shall\\xa0consult\\xa0with\\xa0a\\xa0dentist\\xa0 who\\xa0has\\xa0appropriate\\xa0training\\xa0and\\xa0experience.', 'The\\xa0review\\xa0will\\xa0be\\xa0conducted\\xa0for\\xa0us\\xa0by\\xa0a\\xa0person\\xa0who\\xa0is\\xa0neither\\xa0the\\xa0 individual\\xa0who\\xa0made\\xa0the\\xa0claim\\xa0denial\\xa0that\\xa0is\\xa0subject\\xa0to\\xa0the\\xa0review,\\xa0nor\\xa0the\\xa0subordinate\\xa0of\\xa0such\\xa0individual.', 'We\\xa0will\\xa0 send\\xa0the\\xa0Enrollee\\xa0a\\xa0decision\\xa0within\\xa030\\xa0days\\xa0after\\xa0receipt\\xa0of\\xa0the\\xa0Enrollee’s\\xa0appeal\\xa0or\\xa0grievance.', 'If\\xa0the\\xa0Enrollee\\xa0believes\\xa0he/she\\xa0needs\\xa0further\\xa0review\\xa0of\\xa0their\\xa0appeal\\xa0or\\xa0grievance,\\xa0he/she\\xa0may\\xa0contact\\xa0his/her\\xa0state\\xa0 regulatory\\xa0agency\\xa0if\\xa0applicable.', 'If\\xa0the\\xa0group\\xa0health\\xa0plan\\xa0is\\xa0subject\\xa0to\\xa0the\\xa0Employee\\xa0Retirement\\xa0Income\\xa0Security\\xa0 Act\\xa0of\\xa01974\\xa0(ERISA),\\xa0the\\xa0Enrollee\\xa0may\\xa0contact\\xa0the\\xa0U.S.\\xa0Department\\xa0of\\xa0Labor,\\xa0Employee\\xa0Benefits\\xa0Security\\xa0 Administration\\xa0(EBSA)\\xa0for\\xa0further\\xa0review\\xa0of\\xa0the\\xa0claim\\xa0or\\xa0if\\xa0the\\xa0Enrollee\\xa0has\\xa0questions\\xa0about\\xa0the\\xa0rights\\xa0under\\xa0ERISA.', 'The\\xa0Enrollee\\xa0may\\xa0also\\xa0bring\\xa0a\\xa0civil\\xa0action\\xa0under\\xa0section\\xa0502(a)\\xa0of\\xa0ERISA.', 'The\\xa0address\\xa0of\\xa0the\\xa0U.S.\\xa0Department\\xa0of\\xa0 Labor\\xa0is:\\xa0U.S.\\xa0Department\\xa0of\\xa0Labor,\\xa0Employee\\xa0Benefits\\xa0Security\\xa0Administration\\xa0(EBSA),\\xa0200\\xa0Constitution\\xa0Avenue,\\xa0 N.W.', 'Washington,\\xa0D.C.\\xa020210.', 'For\\xa0full\\xa0claims\\xa0and\\xa0appeals\\xa0procedures,\\xa0please\\xa0refer\\xa0to\\xa0the\\xa0Wrap\\xa0SPD.', 'GENERAL\\xa0PROVISIONS\\xa0 Non‐Discrimination\\xa0 Delta\\xa0Dental\\xa0is\\xa0committed\\xa0to\\xa0ensuring\\xa0that\\xa0no\\xa0person\\xa0is\\xa0excluded\\xa0from,\\xa0or\\xa0denied\\xa0the\\xa0benefits\\xa0of\\xa0our\\xa0services,\\xa0or\\xa0 otherwise\\xa0discriminated\\xa0against\\xa0on\\xa0the\\xa0basis\\xa0of\\xa0race,\\xa0color,\\xa0national\\xa0origin,\\xa0disability,\\xa0age,\\xa0genetic\\xa0testing,\\xa0sexual\\xa0 orientation\\xa0or\\xa0gender\\xa0identity.', 'Any\\xa0person\\xa0who\\xa0believes\\xa0that\\xa0he\\xa0or\\xa0she\\xa0has\\xa0individually,\\xa0or\\xa0as\\xa0a\\xa0member\\xa0of\\xa0any\\xa0 specific\\xa0class\\xa0of\\xa0persons,\\xa0been\\xa0subjected\\xa0to\\xa0discrimination\\xa0may\\xa0file\\xa0a\\xa0complaint\\xa0in\\xa0writing\\xa0to:\\xa0 Delta\\xa0Dental\\xa0Insurance\\xa0Company\\xa0 P.O.', 'Box\\xa01809\\xa0 Alpharetta,\\xa0GA\\xa0\\xa030023\\xa0 Clinical\\xa0Examination\\xa0 Before\\xa0approving\\xa0a\\xa0claim,\\xa0we\\xa0will\\xa0be\\xa0entitled\\xa0to\\xa0receive,\\xa0to\\xa0such\\xa0extent\\xa0as\\xa0may\\xa0be\\xa0lawful,\\xa0from\\xa0any\\xa0attending\\xa0or\\xa0 examining\\xa0Provider,\\xa0or\\xa0from\\xa0hospitals\\xa0in\\xa0which\\xa0a\\xa0Provider’s\\xa0care\\xa0is\\xa0provided,\\xa0such\\xa0information\\xa0and\\xa0records\\xa0relating\\xa0 to\\xa0attendance\\xa0to\\xa0or\\xa0examination\\xa0of,\\xa0or\\xa0treatment\\xa0provided\\xa0to,\\xa0you\\xa0as\\xa0may\\xa0be\\xa0required\\xa0to\\xa0administer\\xa0the\\xa0claim,\\xa0or\\xa0 have\\xa0you\\xa0be\\xa0examined\\xa0by\\xa0a\\xa0dental\\xa0consultant\\xa0retained\\xa0by\\xa0us\\xa0at\\xa0our\\xa0expense,\\xa0in\\xa0or\\xa0near\\xa0your\\xa0community\\xa0or\\xa0 residence.', 'We\\xa0will\\xa0in\\xa0every\\xa0case\\xa0hold\\xa0such\\xa0information\\xa0and\\xa0records\\xa0confidential.', '18745\\xa0 9\\xa0 TX‐ASC‐PPO‐E(2014)\\xa0 Employee\\xa0Benefit\\xa0Booklet\\xa0 Coca‐Cola\\xa0Southwest\\xa0Beverages\\xa0LLC\\xa0Dental\\xa0Plan\\xa0 Time\\xa0of\\xa0Payment\\xa0 Claims\\xa0payable\\xa0under\\xa0the\\xa0Contract\\xa0for\\xa0any\\xa0claim\\xa0other\\xa0than\\xa0claim\\xa0for\\xa0which\\xa0the\\xa0Contract\\xa0provides\\xa0any\\xa0periodic\\xa0 payment\\xa0will\\xa0be\\xa0processed\\xa0no\\xa0later\\xa0than\\xa030\\xa0days\\xa0after\\xa0written\\xa0claim\\xa0is\\xa0received.', 'We\\xa0will\\xa0notify\\xa0you\\xa0and\\xa0your\\xa0 Provider\\xa0of\\xa0any\\xa0additional\\xa0information\\xa0needed\\xa0to\\xa0process\\xa0the\\xa0claim\\xa0within\\xa015\\xa0days\\xa0of\\xa0receipt\\xa0of\\xa0your\\xa0claim.', 'If\\xa0more\\xa0 time\\xa0is\\xa0needed\\xa0to\\xa0decide\\xa0your\\xa0claim,\\xa0we\\xa0will\\xa0notify\\xa0you\\xa0of\\xa0that\\xa0need\\xa0within\\xa0the\\xa030\\xa0day‐period\\xa0and\\xa0such\\xa0extension\\xa0 will\\xa0be\\xa0no\\xa0longer\\xa0than\\xa015\\xa0days.', 'To\\xa0Whom\\xa0Benefits\\xa0Are\\xa0Paid\\xa0 It\\xa0is\\xa0not\\xa0required\\xa0that\\xa0the\\xa0service\\xa0be\\xa0provided\\xa0by\\xa0a\\xa0specific\\xa0dentist.', 'Payment\\xa0for\\xa0services\\xa0provided\\xa0by\\xa0a\\xa0PPO\\xa0or\\xa0 Premier\\xa0Provider\\xa0will\\xa0be\\xa0made\\xa0directly\\xa0to\\xa0the\\xa0dentist.', 'Any\\xa0other\\xa0payments\\xa0provided\\xa0by\\xa0the\\xa0Contract\\xa0will\\xa0be\\xa0made\\xa0 to\\xa0you,\\xa0unless\\xa0you\\xa0request\\xa0when\\xa0filing\\xa0a\\xa0proof\\xa0of\\xa0claim\\xa0that\\xa0the\\xa0payment\\xa0be\\xa0made\\xa0directly\\xa0to\\xa0the\\xa0dentist\\xa0providing\\xa0 the\\xa0services.', 'All\\xa0Benefits\\xa0not\\xa0paid\\xa0to\\xa0the\\xa0Provider\\xa0will\\xa0be\\xa0payable\\xa0to\\xa0you,\\xa0the\\xa0Primary\\xa0Enrollee,\\xa0or\\xa0Dependent\\xa0 Enrollee,\\xa0or\\xa0to\\xa0your\\xa0estate,\\xa0or\\xa0to\\xa0an\\xa0alternate\\xa0recipient\\xa0as\\xa0directed\\xa0by\\xa0court\\xa0order,\\xa0except\\xa0that\\xa0if\\xa0the\\xa0person\\xa0is\\xa0a\\xa0 minor\\xa0or\\xa0otherwise\\xa0not\\xa0competent\\xa0to\\xa0give\\xa0a\\xa0valid\\xa0release,\\xa0Benefits\\xa0may\\xa0be\\xa0payable\\xa0to\\xa0his\\xa0or\\xa0her\\xa0parent,\\xa0guardian\\xa0 or\\xa0other\\xa0person\\xa0actually\\xa0supporting\\xa0him\\xa0or\\xa0her.', 'Misstatements\\xa0on\\xa0Application:\\xa0Effect\\xa0 In\\xa0the\\xa0absence\\xa0of\\xa0fraud\\xa0or\\xa0intentional\\xa0misrepresentation\\xa0of\\xa0material\\xa0fact\\xa0in\\xa0applying\\xa0for\\xa0or\\xa0procuring\\xa0coverage\\xa0 under\\xa0the\\xa0Contract,\\xa0all\\xa0statements\\xa0made\\xa0by\\xa0you\\xa0or\\xa0the\\xa0Contractholder\\xa0will\\xa0be\\xa0deemed\\xa0representations\\xa0and\\xa0not\\xa0 warranties.', 'No\\xa0such\\xa0statement\\xa0will\\xa0be\\xa0used\\xa0in\\xa0defense\\xa0to\\xa0a\\xa0claim\\xa0under\\xa0the\\xa0Contract,\\xa0unless\\xa0it\\xa0is\\xa0contained\\xa0in\\xa0a\\xa0 written\\xa0application.', 'Legal\\xa0Actions\\xa0 No\\xa0action\\xa0at\\xa0law\\xa0or\\xa0in\\xa0equity\\xa0will\\xa0be\\xa0brought\\xa0to\\xa0recover\\xa0on\\xa0the\\xa0Contract\\xa0prior\\xa0to\\xa0expiration\\xa0of\\xa060\\xa0days\\xa0after\\xa0a\\xa0claim\\xa0 has\\xa0been\\xa0filed\\xa0in\\xa0accordance\\xa0with\\xa0requirements\\xa0of\\xa0the\\xa0Contract,\\xa0nor\\xa0will\\xa0an\\xa0action\\xa0be\\xa0brought\\xa0at\\xa0all\\xa0unless\\xa0brought\\xa0 within\\xa0three\\xa0(3)\\xa0years\\xa0from\\xa0expiration\\xa0of\\xa0the\\xa0time\\xa0within\\xa0which\\xa0a\\xa0claim\\xa0must\\xa0be\\xa0filed\\xa0under\\xa0the\\xa0Contract.', '18745\\xa0 10\\xa0 TX‐ASC‐PPO‐E(2014)\\xa0 Coca‐Cola\\xa0Southwest\\xa0Beverages\\xa0LLC\\xa0Dental\\xa0Plan\\xa0 Attachment\\xa0A\\xa0 Deductibles,\\xa0Maximums\\xa0and\\xa0Contract\\xa0Benefit\\xa0Levels\\xa0 Employee\\xa0Benefit\\xa0Booklet\\xa0 \\xa0 \\xa0 \\xa0 Dental\\xa0Service\\xa0Category\\xa0 Annual\\xa0Deductible\\xa0 \\xa0 Deductibles\\xa0waived\\xa0for\\xa0\\xa0 Deductible\\xa0Takeover\\xa0 Annual\\xa0Maximum\\xa0 Maximum\\xa0Takeover\\xa0Credit\\xa0 \\xa0 Annual\\xa0Maximum\\xa0waived\\xa0for\\xa0 Lifetime\\xa0Orthodontic\\xa0Maximum\\xa0 \\xa0 \\xa0 Deductibles\\xa0&\\xa0Maximums\\xa0 Delta\\xa0Dental\\xa0PPOSM\\xa0and\\xa0Delta\\xa0 Dental\\xa0Premier\\xa0Providers†\\xa0 Non‐Delta\\xa0Dental\\xa0Providers†\\xa0 $50\\xa0per\\xa0Enrollee\\xa0each\\xa0Calendar\\xa0Year\\xa0 $150\\xa0per\\xa0family\\xa0each\\xa0Calendar\\xa0Year\\xa0 Diagnostic\\xa0&\\xa0Preventive\\xa0Services\\xa0 Any\\xa0annual\\xa0Deductible\\xa0amount\\xa0satisfied\\xa0by\\xa0the\\xa0Enrollees\\xa0under\\xa0the\\xa0 Contractholder’s\\xa0previous\\xa0dental\\xa0care\\xa0plan\\xa0from\\xa0January\\xa01st\\xa0to\\xa0the\\xa0 Effective\\xa0Date\\xa0will\\xa0be\\xa0credited\\xa0towards\\xa0the\\xa0annual\\xa0Deductible\\xa0under\\xa0the\\xa0 Contract.', '$1,500\\xa0per\\xa0Enrollee\\xa0per\\xa0Calendar\\xa0Year\\xa0 Delta\\xa0Dental\\xa0will\\xa0receive\\xa0credit\\xa0for\\xa0any\\xa0amount\\xa0paid\\xa0under\\xa0the\\xa0 Contractholder’s\\xa0previous\\xa0dental\\xa0care\\xa0plan\\xa0from\\xa0January\\xa01st\\xa0to\\xa0the\\xa0 Effective\\xa0Date.', 'These\\xa0amounts\\xa0will\\xa0be\\xa0credited\\xa0towards\\xa0the\\xa0Annual\\xa0 Maximum.', 'Diagnostic\\xa0and\\xa0Preventive\\xa0Services\\xa0 $2,000\\xa0per\\xa0Enrollee\\xa0 Delta\\xa0Dental\\xa0will\\xa0receive\\xa0credit\\xa0for\\xa0any\\xa0amount\\xa0paid\\xa0under\\xa0the\\xa0 $1,000\\xa0per\\xa0Enrollee\\xa0 Contractholder’s\\xa0previous\\xa0dental\\xa0care\\xa0plan,\\xa0if\\xa0applicable,\\xa0for\\xa0Orthodontic\\xa0 Services.', 'These\\xa0amounts\\xa0will\\xa0be\\xa0credited\\xa0towards\\xa0the\\xa0lifetime\\xa0maximum\\xa0 amounts\\xa0payable\\xa0for\\xa0Orthodontic\\xa0Services.', 'If\\xa0an\\xa0Enrollee\\xa0switches\\xa0among\\xa0types\\xa0of\\xa0Providers,\\xa0the\\xa0lifetime\\xa0maximum\\xa0 amount\\xa0payable\\xa0for\\xa0Orthodontic\\xa0Services\\xa0will\\xa0be\\xa0adjusted\\xa0accordingly.', 'The\\xa0maximum\\xa0amount\\xa0payable\\xa0for\\xa0Orthodontic\\xa0Services\\xa0received\\xa0from\\xa0all\\xa0 Providers\\xa0will\\xa0not\\xa0exceed\\xa0the\\xa0lifetime\\xa0maximum\\xa0amount\\xa0payable\\xa0for\\xa0Non‐ Delta\\xa0Dental\\xa0Providers.', 'However,\\xa0if\\xa0only\\xa0Delta\\xa0Dental\\xa0PPO\\xa0and\\xa0Delta\\xa0 Dental\\xa0Premier\\xa0Providers\\xa0are\\xa0used,\\xa0the\\xa0maximum\\xa0will\\xa0not\\xa0exceed\\xa0$2,000.', 'If\\xa0an\\xa0Enrollee\\xa0meets\\xa0the\\xa0lifetime\\xa0maximum\\xa0for\\xa0Non‐Delta\\xa0Dental\\xa0 Providers,\\xa0an\\xa0Enrollee\\xa0may\\xa0still\\xa0utilize\\xa0the\\xa0Delta\\xa0Dental\\xa0PPO\\xa0and\\xa0Delta\\xa0 Dental\\xa0Premier\\xa0Providers\\xa0for\\xa0the\\xa0balance\\xa0of\\xa0the\\xa0applicable\\xa0lifetime\\xa0 maximum.', 'Dental\\xa0Service\\xa0Category\\xa0 Contract\\xa0Benefit\\xa0Levels\\xa0 Delta\\xa0Dental\\xa0PPO\\xa0and\\xa0Delta\\xa0 Dental\\xa0Premier®\\xa0Providers†\\xa0 Non‐Delta\\xa0Dental\\xa0Providers†\\xa0 Delta\\xa0Dental\\xa0will\\xa0pay\\xa0or\\xa0otherwise\\xa0discharge\\xa0the\\xa0Contract\\xa0Benefit\\xa0Level\\xa0shown\\xa0below\\xa0for\\xa0the\\xa0following\\xa0services:\\xa0 Diagnostic\\xa0and\\xa0Preventive\\xa0Services\\xa0\\xa0 Basic\\xa0Services\\xa0 Major\\xa0Services\\xa0 Orthodontic\\xa0Services\\xa0 †\\xa0 Reimbursement\\xa0is\\xa0based\\xa0on\\xa0PPO\\xa0Contracted\\xa0Fees\\xa0for\\xa0PPO\\xa0Providers,\\xa0Premier\\xa0Contracted\\xa0Fees\\xa0for\\xa0Premier\\xa0 100%\\xa0\\xa0 50%\\xa0 40%\\xa0 50%\\xa0 100%\\xa0 80%\\xa0 50%\\xa0 50%\\xa0 Providers\\xa0and\\xa0Program\\xa0Allowance\\xa0for\\xa0Non‐Delta\\xa0Dental\\xa0Providers.', '18745\\xa0 11\\xa0 TX‐ASC‐PPO‐E(2014)\\xa0 Coca‐Cola\\xa0Southwest\\xa0Beverages\\xa0LLC\\xa0Dental\\xa0Plan\\xa0 \\xa0 Employee\\xa0Benefit\\xa0Booklet\\xa0 Attachment\\xa0B\\xa0 Services,\\xa0Limitations\\xa0and\\xa0Exclusions\\xa0 Description\\xa0of\\xa0Dental\\xa0Services\\xa0 Delta\\xa0Dental\\xa0will\\xa0pay\\xa0or\\xa0otherwise\\xa0discharge\\xa0the\\xa0Contract\\xa0Benefit\\xa0Level\\xa0shown\\xa0in\\xa0Attachment\\xa0A\\xa0for\\xa0the\\xa0following\\xa0 services:\\xa0 \\xa0 \\uf0b7 Diagnostic\\xa0and\\xa0Preventive\\xa0Services\\xa0 (1)\\xa0 (2)\\xa0 Diagnostic:\\xa0 Preventive:\\xa0 \\xa0 \\xa0 \\xa0 (3)\\xa0 \\xa0 (4)\\xa0 \\xa0 Sealants:\\xa0 \\xa0 Palliative:\\xa0 Basic\\xa0Services\\xa0 (1)\\xa0 Oral\\xa0Surgery:\\xa0 \\xa0 \\uf0b7 (2)\\xa0 (3)\\xa0 (4)\\xa0 (5)\\xa0 \\xa0 (6)\\xa0 \\xa0 (7)\\xa0 \\xa0 (8)\\xa0 Endodontics:\\xa0 Periodontics:\\xa0 Restorative:\\xa0 Denture\\xa0Repairs:\\xa0 \\xa0 Specialist\\xa0 Consultations:\\xa0 \\xa0 Night\\xa0Guards/Occlusal\\xa0 Guards:\\xa0 \\xa0 Other\\xa0Basic\\xa0Services:\\xa0 \\uf0b7 Major\\xa0Services\\xa0 (1)\\xa0 (2)\\xa0 (3)\\xa0 General\\xa0Anesthesia\\xa0or\\xa0 IV\\xa0Sedation:\\xa0 Crowns\\xa0and\\xa0 Inlays/Onlays\\xa0and\\xa0 Gold\\xa0Fillings:\\xa0 Prosthodontics:\\xa0 procedures\\xa0to\\xa0aid\\xa0the\\xa0Provider\\xa0in\\xa0determining\\xa0required\\xa0dental\\xa0treatment.', 'cleaning\\xa0(including\\xa0scaling\\xa0in\\xa0the\\xa0presence\\xa0of\\xa0generalized\\xa0moderate\\xa0or\\xa0 severe\\xa0gingival\\xa0inflammation‐full\\xa0mouth,\\xa0which\\xa0is\\xa0considered\\xa0to\\xa0be\\xa0a\\xa0 Diagnostic\\xa0and\\xa0Preventive\\xa0Benefit,\\xa0periodontal\\xa0maintenance),\\xa0topical\\xa0 application\\xa0of\\xa0fluoride\\xa0solutions,\\xa0space\\xa0maintainers.', 'topically\\xa0applied\\xa0acrylic,\\xa0plastic\\xa0or\\xa0composite\\xa0materials\\xa0used\\xa0to\\xa0seal\\xa0 developmental\\xa0grooves\\xa0and\\xa0pits\\xa0in\\xa0permanent\\xa0molars\\xa0for\\xa0the\\xa0purpose\\xa0of\\xa0 preventing\\xa0decay.', 'emergency\\xa0treatment\\xa0to\\xa0relieve\\xa0pain.', 'extractions\\xa0and\\xa0other\\xa0surgical\\xa0procedures\\xa0(including\\xa0pre‐\\xa0and\\xa0post‐ operative\\xa0care).', 'treatment\\xa0of\\xa0diseases\\xa0and\\xa0injuries\\xa0of\\xa0the\\xa0tooth\\xa0pulp.', 'treatment\\xa0of\\xa0gums\\xa0and\\xa0bones\\xa0supporting\\xa0teeth.', 'amalgam\\xa0and\\xa0resin‐based\\xa0composite\\xa0restorations\\xa0(fillings)\\xa0and\\xa0 prefabricated\\xa0crowns\\xa0for\\xa0treatment\\xa0of\\xa0carious\\xa0lesions\\xa0(visible\\xa0destruction\\xa0 of\\xa0hard\\xa0tooth\\xa0structure\\xa0resulting\\xa0from\\xa0the\\xa0process\\xa0of\\xa0decay).', 'repair\\xa0to\\xa0partial\\xa0or\\xa0complete\\xa0dentures,\\xa0including\\xa0rebase\\xa0procedures\\xa0and\\xa0 relining.', 'opinion\\xa0or\\xa0advice\\xa0requested\\xa0by\\xa0a\\xa0general\\xa0dentist.', 'intraoral\\xa0 removable\\xa0 appliances\\xa0 provided\\xa0 for\\xa0 treatment\\xa0 of\\xa0 harmful\\xa0 oral\\xa0 habits\\xa0associated\\xa0with\\xa0periodontal\\xa0disease.', 'local\\xa0anesthesia,\\xa0repair\\xa0and\\xa0recementation\\xa0of\\xa0crowns\\xa0and\\xa0inlays,\\xa0antibiotic\\xa0 injections,\\xa0transplantation\\xa0of\\xa0tooth\\xa0or\\xa0tooth\\xa0bud,\\xa0treatment\\xa0of\\xa0trigeminal\\xa0 neuralgia\\xa0 by\\xa0 injection\\xa0 into\\xa0 2nd\\xa0 &\\xa0 3rd\\xa0 divisions,\\xa0 appliances\\xa0 to\\xa0 correct\\xa0 or\\xa0 restore\\xa0occlusion.', 'when\\xa0administered\\xa0by\\xa0a\\xa0Provider\\xa0for\\xa0covered\\xa0Oral\\xa0Surgery\\xa0procedures.', 'treatment\\xa0of\\xa0carious\\xa0lesions\\xa0(visible\\xa0decay\\xa0of\\xa0the\\xa0hard\\xa0tooth\\xa0structure)\\xa0 when\\xa0teeth\\xa0cannot\\xa0be\\xa0restored\\xa0with\\xa0amalgam\\xa0or\\xa0resin‐based\\xa0composites.', 'procedures\\xa0for\\xa0construction\\xa0of\\xa0fixed\\xa0bridges,\\xa0partial\\xa0or\\xa0complete\\xa0dentures\\xa0 and\\xa0the\\xa0repair\\xa0of\\xa0fixed\\xa0bridges,\\xa0implant\\xa0surgical\\xa0placement\\xa0and\\xa0removal;\\xa0 18745\\xa0 12\\xa0 TX‐ASC‐PPO‐E(2014)\\xa0 \\xa0 Limitations\\xa0 (1) \\xa0 \\xa0 \\uf0b7 \\uf0b7 \\xa0 \\xa0 \\xa0 (2) Coca‐Cola\\xa0Southwest\\xa0Beverages\\xa0LLC\\xa0Dental\\xa0Plan\\xa0 Employee\\xa0Benefit\\xa0Booklet\\xa0 (4)\\xa0 \\xa0 (5)\\xa0 Temporomandibular\\xa0 Joint\\xa0(TMJ):\\xa0 \\xa0 Other\\xa0Major\\xa0Services:\\xa0 and\\xa0 for\\xa0 implant\\xa0 supported\\xa0 prosthetics,\\xa0 including\\xa0 implant\\xa0 repair\\xa0 and\\xa0 recementation.', 'intra‐oral\\xa0services\\xa0provided\\xa0by\\xa0a\\xa0Provider,\\xa0when\\xa0necessary\\xa0and\\xa0customary\\xa0 according\\xa0to\\xa0the\\xa0standards\\xa0of\\xa0generally\\xa0accepted\\xa0dental\\xa0practice,\\xa0for\\xa0 treatment\\xa0of\\xa0acute\\xa0dental\\xa0symptoms\\xa0associated\\xa0with\\xa0myofacial\\xa0pain\\xa0 dysfunction\\xa0or\\xa0malfunction\\xa0of\\xa0the\\xa0temporomandibular\\xa0(jaw)\\xa0joint\\xa0(TMJ).', 'inhalation\\xa0of\\xa0nitrous\\xa0oxide,\\xa0surgical\\xa0removal\\xa0of\\xa0impacted\\xa0third\\xa0molars.', 'Orthodontic\\xa0Services\\xa0 Procedures\\xa0performed\\xa0by\\xa0a\\xa0Provider\\xa0using\\xa0appliances\\xa0to\\xa0treat\\xa0malocclusion\\xa0of\\xa0teeth\\xa0and/or\\xa0jaws\\xa0which\\xa0 significantly\\xa0interferes\\xa0with\\xa0their\\xa0function\\xa0and\\xa0appliances\\xa0for\\xa0the\\xa0correction\\xa0of\\xa0harmful\\xa0habits.', 'Note\\xa0on\\xa0additional\\xa0Benefits\\xa0during\\xa0pregnancy\\xa0\\xa0 When\\xa0an\\xa0Enrollee\\xa0is\\xa0pregnant,\\xa0Delta\\xa0Dental\\xa0will\\xa0pay\\xa0for\\xa0additional\\xa0services\\xa0to\\xa0help\\xa0improve\\xa0the\\xa0oral\\xa0health\\xa0of\\xa0 the\\xa0Enrollee\\xa0during\\xa0the\\xa0pregnancy.', 'The\\xa0additional\\xa0services\\xa0each\\xa0Calendar\\xa0Year\\xa0while\\xa0the\\xa0Enrollee\\xa0is\\xa0covered\\xa0 under\\xa0the\\xa0Contract\\xa0include\\xa0one\\xa0(1)\\xa0additional\\xa0oral\\xa0exam\\xa0and\\xa0either\\xa0one\\xa0(1)\\xa0additional\\xa0routine\\xa0cleaning;\\xa0or\\xa0 one\\xa0(1)\\xa0additional\\xa0periodontal\\xa0scaling\\xa0and\\xa0root\\xa0planing\\xa0per\\xa0quadrant.', 'Written\\xa0confirmation\\xa0of\\xa0the\\xa0 pregnancy\\xa0must\\xa0be\\xa0provided\\xa0by\\xa0the\\xa0Enrollee\\xa0or\\xa0her\\xa0Provider\\xa0when\\xa0the\\xa0claim\\xa0is\\xa0submitted.', 'Services\\xa0that\\xa0are\\xa0more\\xa0expensive\\xa0than\\xa0the\\xa0form\\xa0of\\xa0treatment\\xa0customarily\\xa0provided\\xa0under\\xa0accepted\\xa0dental\\xa0 practice\\xa0standards\\xa0are\\xa0called\\xa0“Optional\\xa0Services”.', 'Optional\\xa0Services\\xa0also\\xa0include\\xa0the\\xa0use\\xa0of\\xa0specialized\\xa0 techniques\\xa0instead\\xa0of\\xa0standard\\xa0procedures.', 'Examples\\xa0of\\xa0Optional\\xa0Services:\\xa0 a) a\\xa0composite\\xa0restoration\\xa0instead\\xa0of\\xa0an\\xa0amalgam\\xa0restoration\\xa0on\\xa0posterior\\xa0teeth;\\xa0 b) a\\xa0crown\\xa0where\\xa0a\\xa0filling\\xa0would\\xa0restore\\xa0the\\xa0tooth;\\xa0 c) an\\xa0inlay/onlay\\xa0instead\\xa0of\\xa0an\\xa0amalgam\\xa0restoration;\\xa0 d) porcelain,\\xa0resin\\xa0or\\xa0similar\\xa0materials\\xa0for\\xa0crowns\\xa0placed\\xa0on\\xa0a\\xa0maxillary\\xa0second\\xa0or\\xa0third\\xa0molar,\\xa0or\\xa0on\\xa0any\\xa0 e) an\\xa0overdenture\\xa0instead\\xa0of\\xa0denture.', 'mandibular\\xa0molar\\xa0(an\\xa0allowance\\xa0will\\xa0be\\xa0made\\xa0for\\xa0a\\xa0porcelain\\xa0fused\\xa0to\\xa0high\\xa0noble\\xa0metal\\xa0crown);\\xa0or\\xa0 If\\xa0an\\xa0Enrollee\\xa0receives\\xa0Optional\\xa0Services,\\xa0an\\xa0alternate\\xa0Benefit\\xa0will\\xa0be\\xa0allowed,\\xa0which\\xa0means\\xa0Delta\\xa0Dental\\xa0will\\xa0 base\\xa0Benefits\\xa0on\\xa0the\\xa0lower\\xa0cost\\xa0of\\xa0the\\xa0customary\\xa0service\\xa0or\\xa0standard\\xa0practice\\xa0instead\\xa0of\\xa0on\\xa0the\\xa0higher\\xa0cost\\xa0 of\\xa0the\\xa0Optional\\xa0Service.', 'The\\xa0Enrollee\\xa0will\\xa0be\\xa0responsible\\xa0for\\xa0the\\xa0difference\\xa0between\\xa0the\\xa0higher\\xa0cost\\xa0of\\xa0the\\xa0 Optional\\xa0Service\\xa0and\\xa0the\\xa0lower\\xa0cost\\xa0of\\xa0the\\xa0customary\\xa0service\\xa0or\\xa0standard\\xa0procedure.', 'Exam\\xa0and\\xa0cleaning\\xa0limitations:\\xa0 a)\\xa0 Delta\\xa0Dental\\xa0will\\xa0pay\\xa0for\\xa0oral\\xa0examinations\\xa0(except\\xa0after‐hours\\xa0exams\\xa0and\\xa0exams\\xa0for\\xa0observation)\\xa0and\\xa0 cleanings\\xa0(including\\xa0scaling\\xa0in\\xa0presence\\xa0of\\xa0generalized\\xa0moderate\\xa0or\\xa0severe\\xa0gingival\\xa0inflammation‐full\\xa0 mouth)\\xa0no\\xa0more\\xa0than\\xa0twice\\xa0in\\xa0a\\xa0Calendar\\xa0Year.', 'b)\\xa0 A\\xa0full\\xa0mouth\\xa0debridement\\xa0is\\xa0allowed\\xa0once\\xa0in\\xa0a\\xa0lifetime\\xa0when\\xa0the\\xa0Enrollee\\xa0has\\xa0no\\xa0history\\xa0of\\xa0prophylaxis,\\xa0 scaling\\xa0and\\xa0root\\xa0planning\\xa0or\\xa0periodontal\\xa0surgery\\xa0procedures\\xa0within\\xa0three\\xa0(3)\\xa0years.', 'When\\xa0allowed\\xa0a\\xa0full\\xa0 mouth\\xa0debridement\\xa0counts\\xa0toward\\xa0the\\xa0maintenance\\xa0frequency\\xa0(excluding\\xa0periodontal\\xa0maintenance)\\xa0in\\xa0 the\\xa0year\\xa0provided.', 'c)\\xa0 Note\\xa0that\\xa0full\\xa0mouth\\xa0debridement\\xa0is\\xa0covered\\xa0as\\xa0a\\xa0Basic\\xa0Benefit\\xa0and\\xa0that\\xa0routine\\xa0cleanings\\xa0(including\\xa0 scaling\\xa0in\\xa0the\\xa0presence\\xa0of\\xa0generalized\\xa0moderate\\xa0or\\xa0severe\\xa0gingival\\xa0inflammation‐full\\xa0mouth),\\xa0 periodontal\\xa0maintenance\\xa0and\\xa0Procedure\\xa0Codes\\xa0that\\xa0include\\xa0periodontal\\xa0maintenance\\xa0are\\xa0covered\\xa0as\\xa0a\\xa0 Diagnostic\\xa0and\\xa0Preventive\\xa0Benefit.', 'See\\xa0note\\xa0on\\xa0additional\\xa0Benefits\\xa0during\\xa0pregnancy.', '(3)\\xa0 X‐ray\\xa0limitations:\\xa0 c)\\xa0 18745\\xa0 a)\\xa0 Delta\\xa0Dental\\xa0will\\xa0limit\\xa0the\\xa0total\\xa0reimbursable\\xa0amount\\xa0to\\xa0the\\xa0Provider’s\\xa0Accepted\\xa0Fee\\xa0for\\xa0a\\xa0complete\\xa0 intraoral\\xa0series\\xa0when\\xa0the\\xa0fees\\xa0for\\xa0any\\xa0combination\\xa0of\\xa0intraoral\\xa0x‐rays\\xa0in\\xa0a\\xa0single\\xa0treatment\\xa0series\\xa0meet\\xa0 or\\xa0exceed\\xa0the\\xa0Accepted\\xa0Fee\\xa0for\\xa0a\\xa0complete\\xa0intraoral\\xa0series.', 'b)\\xa0 When\\xa0a\\xa0panoramic\\xa0film\\xa0is\\xa0submitted\\xa0with\\xa0supplemental\\xa0film(s),\\xa0Delta\\xa0Dental\\xa0will\\xa0limit\\xa0the\\xa0total\\xa0 reimbursable\\xa0amount\\xa0to\\xa0the\\xa0Provider’s\\xa0Accepted\\xa0Fee\\xa0for\\xa0a\\xa0complete\\xa0intraoral\\xa0series.', 'If\\xa0a\\xa0panoramic\\xa0film\\xa0is\\xa0taken\\xa0in\\xa0conjunction\\xa0with\\xa0an\\xa0intraoral\\xa0complete\\xa0series,\\xa0Delta\\xa0Dental\\xa0considers\\xa0the\\xa0 panoramic\\xa0film\\xa0to\\xa0be\\xa0included\\xa0in\\xa0the\\xa0complete\\xa0series.', '13\\xa0 TX‐ASC‐PPO‐E(2014)\\xa0 Coca‐Cola\\xa0Southwest\\xa0Beverages\\xa0LLC\\xa0Dental\\xa0Plan\\xa0 Employee\\xa0Benefit\\xa0Booklet\\xa0 d)\\xa0 A\\xa0complete\\xa0intraoral\\xa0series\\xa0and\\xa0panoramic\\xa0film\\xa0are\\xa0each\\xa0limited\\xa0to\\xa0once\\xa0every\\xa060\\xa0months.', 'e)\\xa0 Bitewing\\xa0x‐rays\\xa0are\\xa0limited\\xa0to\\xa0two\\xa0(2)\\xa0times\\xa0in\\xa0a\\xa0Calendar\\xa0Year\\xa0when\\xa0provided\\xa0to\\xa0Enrollees\\xa0under\\xa0age\\xa018\\xa0 and\\xa0one\\xa0(1)\\xa0time\\xa0each\\xa0Calendar\\xa0Year\\xa0for\\xa0Enrollees\\xa0age\\xa018\\xa0and\\xa0over.', 'Bitewings\\xa0of\\xa0any\\xa0type\\xa0are\\xa0disallowed\\xa0 within\\xa012\\xa0months\\xa0of\\xa0a\\xa0full\\xa0mouth\\xa0series\\xa0unless\\xa0warranted\\xa0by\\xa0special\\xa0circumstances.', 'Topical\\xa0application\\xa0of\\xa0fluoride\\xa0solutions\\xa0is\\xa0limited\\xa0to\\xa0Enrollees\\xa0to\\xa0age\\xa019\\xa0and\\xa0no\\xa0more\\xa0than\\xa0twice\\xa0in\\xa0a\\xa0 Calendar\\xa0Year.', 'Space\\xa0maintainer\\xa0limitations:\\xa0 a)\\xa0 Space\\xa0maintainers\\xa0are\\xa0limited\\xa0to\\xa0the\\xa0initial\\xa0appliance\\xa0and\\xa0are\\xa0a\\xa0Benefit\\xa0for\\xa0an\\xa0Enrollee\\xa0under\\xa0age\\xa019.', 'However,\\xa0a\\xa0distal\\xa0shoe\\xa0space\\xa0maintainer‐fixed‐unilateral\\xa0is\\xa0limited\\xa0to\\xa0children\\xa0eight\\xa0(8)\\xa0and\\xa0younger.', 'A\\xa0 separate/additional\\xa0space\\xa0maintainer\\xa0can\\xa0be\\xa0allowed\\xa0after\\xa0the\\xa0removal\\xa0of\\xa0a\\xa0unilateral\\xa0distal\\xa0shoe.', 'b)\\xa0 The\\xa0removal\\xa0of\\xa0a\\xa0fixed\\xa0space\\xa0maintainer\\xa0is\\xa0considered\\xa0to\\xa0be\\xa0included\\xa0in\\xa0the\\xa0fee\\xa0for\\xa0the\\xa0space\\xa0maintainer;\\xa0 however,\\xa0an\\xa0exception\\xa0is\\xa0made\\xa0if\\xa0the\\xa0removal\\xa0is\\xa0performed\\xa0by\\xa0a\\xa0different\\xa0Provider/Provider’s\\xa0office.', 'Pulp\\xa0vitality\\xa0tests\\xa0are\\xa0allowed\\xa0once\\xa0in\\xa0a\\xa06‐month\\xa0period\\xa0when\\xa0definitive\\xa0treatment\\xa0is\\xa0not\\xa0performed.', 'Cephalometric\\xa0x‐rays,\\xa0oral/facial\\xa0photographic\\xa0images\\xa0and\\xa0diagnostic\\xa0casts\\xa0are\\xa0covered\\xa0once\\xa0per\\xa0lifetime\\xa0in\\xa0 conjunction\\xa0with\\xa0Orthodontic\\xa0Services\\xa0only\\xa0when\\xa0Orthodontic\\xa0Services\\xa0are\\xa0a\\xa0covered\\xa0benefit.', 'If\\xa0Orthodontic\\xa0 Services\\xa0are\\xa0covered,\\xa0see\\xa0Limitations\\xa0as\\xa0age\\xa0limits\\xa0may\\xa0apply.', 'However,\\xa03D\\xa0x‐rays\\xa0are\\xa0not\\xa0a\\xa0covered\\xa0benefit.', 'Sealants\\xa0are\\xa0limited\\xa0as\\xa0follows:\\xa0\\xa0 a)\\xa0 to\\xa0permanent\\xa0molars\\xa0if\\xa0they\\xa0are\\xa0without\\xa0caries\\xa0(decay)\\xa0or\\xa0restorations\\xa0on\\xa0the\\xa0occlusal\\xa0surface.', 'b)\\xa0 repair\\xa0or\\xa0replacement\\xa0of\\xa0a\\xa0Sealant\\xa0on\\xa0any\\xa0tooth\\xa0within\\xa024\\xa0months\\xa0of\\xa0its\\xa0application\\xa0is\\xa0included\\xa0in\\xa0the\\xa0fee\\xa0 for\\xa0the\\xa0original\\xa0placement.', '(4)\\xa0 \\xa0 (5)\\xa0 (6)\\xa0 \\xa0 (7)\\xa0 \\xa0 (8)\\xa0 \\xa0 (9)\\xa0 Specialist\\xa0Consultations,\\xa0screenings\\xa0of\\xa0patients,\\xa0and\\xa0assessments\\xa0of\\xa0patients\\xa0are\\xa0limited\\xa0to\\xa0once\\xa0per\\xa0lifetime\\xa0 per\\xa0Provider\\xa0and\\xa0count\\xa0toward\\xa0the\\xa0oral\\xa0exam\\xa0frequency.', '(10)\\xa0 Delta\\xa0Dental\\xa0will\\xa0not\\xa0cover\\xa0replacement\\xa0of\\xa0an\\xa0amalgam\\xa0or\\xa0resin‐based\\xa0composite\\xa0restorations\\xa0(fillings)\\xa0or\\xa0 prefabricated\\xa0crowns\\xa0within\\xa024\\xa0months\\xa0of\\xa0treatment\\xa0if\\xa0the\\xa0service\\xa0is\\xa0provided\\xa0by\\xa0the\\xa0same\\xa0 Provider/Provider\\xa0office.', 'Replacement\\xa0restorations\\xa0within\\xa024\\xa0months\\xa0are\\xa0included\\xa0in\\xa0the\\xa0fee\\xa0for\\xa0the\\xa0original\\xa0 restoration.', '(11)\\xa0 Protective\\xa0restorations\\xa0(sedative\\xa0fillings)\\xa0are\\xa0allowed\\xa0once\\xa0per\\xa0tooth\\xa0in\\xa0a\\xa06‐month\\xa0period\\xa0when\\xa0definitive\\xa0 treatment\\xa0is\\xa0not\\xa0performed\\xa0on\\xa0the\\xa0same\\xa0date\\xa0of\\xa0service.', '(12)\\xa0 Prefabricated\\xa0crowns\\xa0are\\xa0allowed\\xa0on\\xa0baby\\xa0(deciduous)\\xa0teeth\\xa0to\\xa0age\\xa016\\xa0and\\xa0permanent\\xa0teeth\\xa0age\\xa016\\xa0and\\xa0 older.', 'Replacement\\xa0restorations\\xa0within\\xa024\\xa0months\\xa0are\\xa0included\\xa0in\\xa0the\\xa0fee\\xa0for\\xa0the\\xa0original\\xa0restoration.', '(13)\\xa0 Therapeutic\\xa0pulpotomy\\xa0is\\xa0limited\\xa0to\\xa0once\\xa0per\\xa0lifetime\\xa0for\\xa0baby\\xa0(deciduous)\\xa0teeth\\xa0only\\xa0and\\xa0is\\xa0considered\\xa0 palliative\\xa0treatment\\xa0for\\xa0permanent\\xa0teeth.', '(14)\\xa0 Transplantation\\xa0of\\xa0tooth\\xa0or\\xa0tooth\\xa0bud\\xa0is\\xa0limited\\xa0to\\xa0once\\xa0per\\xa0lifetime.', '(15)\\xa0 Pulpal\\xa0therapy\\xa0(resorbable\\xa0filling)\\xa0is\\xa0limited\\xa0to\\xa0once\\xa0in\\xa0a\\xa0lifetime.', 'Retreatment\\xa0of\\xa0root\\xa0canal\\xa0therapy\\xa0by\\xa0the\\xa0 same\\xa0Provider/Provider\\xa0office\\xa0within\\xa024\\xa0months\\xa0is\\xa0considered\\xa0part\\xa0of\\xa0the\\xa0original\\xa0procedure.', '(16)\\xa0 Apexification\\xa0is\\xa0only\\xa0benefited\\xa0on\\xa0permanent\\xa0teeth\\xa0with\\xa0incomplete\\xa0root\\xa0canal\\xa0development\\xa0or\\xa0for\\xa0the\\xa0 repair\\xa0of\\xa0a\\xa0perforation.', 'Apexification\\xa0visits\\xa0have\\xa0a\\xa0lifetime\\xa0limit\\xa0per\\xa0tooth\\xa0of\\xa0one\\xa0(1)\\xa0initial\\xa0visit,\\xa0four\\xa0(4)\\xa0 interim\\xa0visits\\xa0and\\xa0one\\xa0(1)\\xa0final\\xa0visit\\xa0to\\xa0age\\xa019.', '(17)\\xa0 Retreatment\\xa0of\\xa0apical\\xa0surgery\\xa0by\\xa0the\\xa0same\\xa0Provider/Provider\\xa0office\\xa0within\\xa024\\xa0months\\xa0is\\xa0considered\\xa0part\\xa0of\\xa0 the\\xa0original\\xa0procedure.', '(18)\\xa0 Palliative\\xa0treatment\\xa0is\\xa0covered\\xa0per\\xa0visit,\\xa0not\\xa0per\\xa0tooth,\\xa0and\\xa0the\\xa0fee\\xa0includes\\xa0all\\xa0treatment\\xa0provided\\xa0other\\xa0 than\\xa0required\\xa0x‐rays\\xa0or\\xa0select\\xa0Diagnostic\\xa0procedures.', '(19)\\xa0 Periodontal\\xa0limitations:\\xa0 18745\\xa0 14\\xa0 TX‐ASC‐PPO‐E(2014)\\xa0 Coca‐Cola\\xa0Southwest\\xa0Beverages\\xa0LLC\\xa0Dental\\xa0Plan\\xa0 Employee\\xa0Benefit\\xa0Booklet\\xa0 a)\\xa0 Benefits\\xa0for\\xa0periodontal\\xa0scaling\\xa0and\\xa0root\\xa0planing\\xa0in\\xa0the\\xa0same\\xa0quadrant\\xa0are\\xa0limited\\xa0to\\xa0once\\xa0in\\xa0every\\xa024‐ month\\xa0period.', 'See\\xa0note\\xa0on\\xa0additional\\xa0Benefits\\xa0during\\xa0pregnancy.', 'No\\xa0more\\xa0than\\xa0two\\xa0quadrants\\xa0of\\xa0 scaling\\xa0and\\xa0root\\xa0planing\\xa0will\\xa0be\\xa0covered\\xa0on\\xa0the\\xa0same\\xa0date\\xa0of\\xa0service.', 'b)\\xa0\\xa0 Periodontal\\xa0surgery\\xa0in\\xa0the\\xa0same\\xa0quadrant\\xa0is\\xa0limited\\xa0to\\xa0once\\xa0in\\xa0every\\xa036‐month\\xa0period\\xa0and\\xa0includes\\xa0any\\xa0 surgical\\xa0re‐entry\\xa0or\\xa0scaling\\xa0and\\xa0root\\xa0planing\\xa0performed\\xa0within\\xa036‐months\\xa0by\\xa0the\\xa0same\\xa0Provider/Provider\\xa0 office.', 'c)\\xa0 Periodontal\\xa0services,\\xa0including\\xa0bone\\xa0replacement\\xa0grafts,\\xa0guided\\xa0tissue\\xa0regeneration,\\xa0graft\\xa0procedures\\xa0 and\\xa0biological\\xa0materials\\xa0to\\xa0aid\\xa0in\\xa0soft\\xa0and\\xa0osseous\\xa0tissue\\xa0regeneration\\xa0are\\xa0only\\xa0covered\\xa0for\\xa0the\\xa0 treatment\\xa0of\\xa0natural\\xa0teeth\\xa0and\\xa0are\\xa0not\\xa0covered\\xa0when\\xa0submitted\\xa0in\\xa0conjunction\\xa0with\\xa0extractions,\\xa0 periradicular\\xa0surgery,\\xa0ridge\\xa0augmentation\\xa0or\\xa0implants.', 'Guided\\xa0tissue\\xa0regenerations\\xa0and/or\\xa0bone\\xa0grafts\\xa0 are\\xa0not\\xa0benefited\\xa0in\\xa0conjunction\\xa0with\\xa0soft\\xa0tissue\\xa0grafts\\xa0in\\xa0the\\xa0same\\xa0surgical\\xa0area.', 'd)\\xa0 Periodontal\\xa0surgery\\xa0is\\xa0subject\\xa0to\\xa0a\\xa030\\xa0day\\xa0wait\\xa0following\\xa0periodontal\\xa0scaling\\xa0and\\xa0root\\xa0planing\\xa0in\\xa0the\\xa0 same\\xa0quadrant.', 'e)\\xa0 Regular\\xa0cleanings\\xa0and\\xa0full\\xa0mouth\\xa0debridement\\xa0are\\xa0subject\\xa0to\\xa0a\\xa030\\xa0day\\xa0wait\\xa0following\\xa0periodontal\\xa0scaling\\xa0 and\\xa0root\\xa0planing\\xa0if\\xa0performed\\xa0by\\xa0the\\xa0same\\xa0Provider\\xa0office.', 'f)\\xa0 When\\xa0implant\\xa0procedures\\xa0are\\xa0a\\xa0covered\\xa0benefit,\\xa0scaling\\xa0and\\xa0debridement\\xa0in\\xa0the\\xa0presence\\xa0of\\xa0 inflammation\\xa0or\\xa0mucositis\\xa0of\\xa0a\\xa0single\\xa0implant,\\xa0including\\xa0cleaning\\xa0of\\xa0the\\xa0implant\\xa0surfaces,\\xa0without\\xa0flap\\xa0 entry\\xa0and\\xa0closure\\xa0is\\xa0covered\\xa0as\\xa0a\\xa0Basic\\xa0Service\\xa0and\\xa0are\\xa0limited\\xa0to\\xa0once\\xa0in\\xa0a\\xa024‐month\\xa0period.', '(20)\\xa0 Oral\\xa0Surgery\\xa0services\\xa0are\\xa0covered\\xa0once\\xa0in\\xa0a\\xa0lifetime\\xa0except\\xa0removal\\xa0of\\xa0cysts\\xa0and\\xa0lesions\\xa0and\\xa0incision\\xa0and\\xa0 drainage\\xa0procedures,\\xa0which\\xa0are\\xa0covered\\xa0once\\xa0in\\xa0the\\xa0same\\xa0day.', '(21)\\xa0 The\\xa0following\\xa0Oral\\xa0Surgery\\xa0procedure\\xa0is\\xa0limited\\xa0to\\xa0age\\xa019\\xa0(or\\xa0orthodontic\\xa0limiting\\xa0age):\\xa0transseptal\\xa0 fiberotomy/supra\\xa0crestal\\xa0fiberotomy,\\xa0by\\xa0report.', '(22)\\xa0 The\\xa0following\\xa0Oral\\xa0Surgery\\xa0procedures\\xa0are\\xa0limited\\xa0to\\xa0age\\xa019\\xa0(or\\xa0orthodontic\\xa0limiting\\xa0age)\\xa0are\\xa0covered:\\xa0 surgical\\xa0access\\xa0of\\xa0an\\xa0unerupted\\xa0tooth,\\xa0placement\\xa0of\\xa0device\\xa0to\\xa0facilitate\\xa0eruption\\xa0of\\xa0impacted\\xa0tooth,\\xa0and\\xa0 surgical\\xa0repositioning\\xa0of\\xa0teeth.', '(23)\\xa0 Crowns\\xa0and\\xa0Inlays/Onlays\\xa0are\\xa0limited\\xa0to\\xa0Enrollees\\xa0age\\xa012\\xa0and\\xa0older\\xa0and\\xa0are\\xa0covered\\xa0not\\xa0more\\xa0often\\xa0than\\xa0 once\\xa0in\\xa0any\\xa060\\xa0month\\xa0period\\xa0except\\xa0when\\xa0Delta\\xa0Dental\\xa0determines\\xa0the\\xa0existing\\xa0Crown\\xa0or\\xa0Inlay/Onlay\\xa0is\\xa0not\\xa0 satisfactory\\xa0and\\xa0cannot\\xa0be\\xa0made\\xa0satisfactory\\xa0because\\xa0the\\xa0tooth\\xa0involved\\xa0has\\xa0experienced\\xa0extensive\\xa0loss\\xa0or\\xa0 changes\\xa0to\\xa0tooth\\xa0structure\\xa0or\\xa0supporting\\xa0tissues.', '(24)\\xa0 Core\\xa0buildup,\\xa0including\\xa0any\\xa0pins,\\xa0are\\xa0covered\\xa0not\\xa0more\\xa0than\\xa0once\\xa0in\\xa0any\\xa060\\xa0month\\xa0period.', '(25)\\xa0 Post\\xa0and\\xa0core\\xa0services\\xa0are\\xa0covered\\xa0not\\xa0more\\xa0than\\xa0once\\xa0in\\xa0any\\xa060\\xa0month\\xa0period.', '(26)\\xa0 Crown\\xa0repairs\\xa0are\\xa0covered\\xa0not\\xa0more\\xa0than\\xa0once\\xa0in\\xa0any\\xa06‐month\\xa0period.', 'Crowns,\\xa0inlays/onlays\\xa0and\\xa0fixed\\xa0 bridges\\xa0include\\xa0repairs\\xa0for\\xa0twenty\\xa0four\\xa0months\\xa0following\\xa0installation.', '(27)\\xa0 Denture\\xa0Repairs\\xa0are\\xa0covered\\xa0not\\xa0more\\xa0than\\xa0once\\xa0in\\xa0any\\xa024‐month\\xa0period\\xa0except\\xa0for\\xa0fixed\\xa0Denture\\xa0Repairs\\xa0 which\\xa0are\\xa0covered\\xa0not\\xa0more\\xa0than\\xa0twice\\xa0in\\xa0any\\xa060\\xa0month\\xa0period.', '(28)\\xa0 Prosthodontic\\xa0appliances,\\xa0implants\\xa0and/or\\xa0implant\\xa0supported\\xa0prosthetics\\xa0that\\xa0were\\xa0provided\\xa0under\\xa0any\\xa0 Delta\\xa0Dental\\xa0program\\xa0will\\xa0be\\xa0replaced\\xa0only\\xa0after\\xa060\\xa0months\\xa0have\\xa0passed,\\xa0except\\xa0when\\xa0Delta\\xa0Dental\\xa0 determines\\xa0that\\xa0there\\xa0is\\xa0such\\xa0extensive\\xa0loss\\xa0of\\xa0remaining\\xa0teeth\\xa0or\\xa0change\\xa0in\\xa0supporting\\xa0tissue\\xa0that\\xa0the\\xa0 existing\\xa0fixed\\xa0bridge\\xa0or\\xa0denture\\xa0cannot\\xa0be\\xa0made\\xa0satisfactory.', 'Fixed\\xa0prosthodontic\\xa0appliances\\xa0are\\xa0limited\\xa0to\\xa0 Enrollees\\xa0age\\xa016\\xa0and\\xa0older.', 'Replacement\\xa0of\\xa0a\\xa0prosthodontic\\xa0appliance\\xa0and/or\\xa0implant\\xa0supported\\xa0prosthesis\\xa0 not\\xa0provided\\xa0under\\xa0a\\xa0Delta\\xa0Dental\\xa0program\\xa0will\\xa0be\\xa0made\\xa0if\\xa0Delta\\xa0Dental\\xa0determines\\xa0it\\xa0is\\xa0unsatisfactory\\xa0and\\xa0 cannot\\xa0be\\xa0made\\xa0satisfactory.', 'Diagnostic\\xa0and\\xa0treatment\\xa0facilitating\\xa0aids\\xa0for\\xa0implants\\xa0are\\xa0considered\\xa0a\\xa0part\\xa0 of,\\xa0and\\xa0included\\xa0in,\\xa0the\\xa0fees\\xa0for\\xa0the\\xa0definitive\\xa0treatment.', 'Delta\\xa0Dental’s\\xa0payment\\xa0for\\xa0implant\\xa0removal\\xa0is\\xa0 limited\\xa0to\\xa0one\\xa0(1)\\xa0for\\xa0each\\xa0implant\\xa0during\\xa0the\\xa0Enrollee’s\\xa0lifetime\\xa0whether\\xa0provided\\xa0under\\xa0Delta\\xa0Dental\\xa0or\\xa0 any\\xa0other\\xa0dental\\xa0care\\xa0plan.', '(29)\\xa0 When\\xa0a\\xa0posterior\\xa0fixed\\xa0bridge\\xa0and\\xa0a\\xa0removable\\xa0partial\\xa0denture\\xa0are\\xa0placed\\xa0in\\xa0the\\xa0same\\xa0arch\\xa0in\\xa0the\\xa0same\\xa0 treatment\\xa0episode,\\xa0only\\xa0the\\xa0partial\\xa0denture\\xa0will\\xa0be\\xa0a\\xa0Benefit.', '(30)\\xa0 Recementation\\xa0of\\xa0Crowns,\\xa0Inlays/Onlays\\xa0or\\xa0bridges\\xa0is\\xa0included\\xa0in\\xa0the\\xa0fee\\xa0for\\xa0the\\xa0Crown,\\xa0Inlay/Onlay\\xa0or\\xa0 bridge\\xa0when\\xa0performed\\xa0by\\xa0the\\xa0same\\xa0Provider/Provider\\xa0office\\xa0within\\xa0six\\xa0(6)\\xa0months\\xa0of\\xa0the\\xa0initial\\xa0placement.', '18745\\xa0 15\\xa0 TX‐ASC‐PPO‐E(2014)\\xa0 Coca‐Cola\\xa0Southwest\\xa0Beverages\\xa0LLC\\xa0Dental\\xa0Plan\\xa0 Employee\\xa0Benefit\\xa0Booklet\\xa0 After\\xa0six\\xa0(6)\\xa0months,\\xa0payment\\xa0will\\xa0be\\xa0limited\\xa0to\\xa0one\\xa0(1)\\xa0recementation\\xa0in\\xa0a\\xa06month\\xa0period\\xa0by\\xa0the\\xa0same\\xa0 Provider/Provider\\xa0office.', '(31)\\xa0 Delta\\xa0Dental\\xa0limits\\xa0payment\\xa0for\\xa0dentures\\xa0to\\xa0a\\xa0standard\\xa0partial\\xa0or\\xa0complete\\xa0denture\\xa0(Enrollee\\xa0Coinsurances\\xa0 apply).', 'A\\xa0standard\\xa0denture\\xa0means\\xa0a\\xa0removable\\xa0appliance\\xa0to\\xa0replace\\xa0missing\\xa0natural,\\xa0permanent\\xa0teeth\\xa0that\\xa0 is\\xa0made\\xa0from\\xa0acceptable\\xa0materials\\xa0by\\xa0conventional\\xa0means\\xa0and\\xa0includes\\xa0routine\\xa0post\\xa0delivery\\xa0care\\xa0including\\xa0 any\\xa0adjustments\\xa0and\\xa0relines\\xa0for\\xa0the\\xa0first\\xa0six\\xa0(6)\\xa0months\\xa0after\\xa0placement.', 'a)\\xa0 Denture\\xa0rebase\\xa0is\\xa0limited\\xa0to\\xa0one\\xa0(1)\\xa0per\\xa0arch\\xa0in\\xa0a\\xa024‐month\\xa0period\\xa0and\\xa0includes\\xa0any\\xa0relining\\xa0and\\xa0 adjustments\\xa0for\\xa0six\\xa0(6)\\xa0months\\xa0following\\xa0placement.', 'b)\\xa0 Dentures,\\xa0removable\\xa0partial\\xa0dentures\\xa0and\\xa0relines\\xa0include\\xa0adjustments\\xa0for\\xa0six\\xa0(6)\\xa0months\\xa0following\\xa0 installation.', 'After\\xa0the\\xa0initial\\xa0six\\xa0(6)\\xa0months\\xa0of\\xa0an\\xa0adjustment\\xa0or\\xa0reline,\\xa0an\\xa0adjustment\\xa0is\\xa0limited\\xa0to\\xa0one\\xa0(1)\\xa0 per\\xa0arch\\xa0in\\xa0a\\xa06‐month\\xa0period\\xa0and\\xa0relining\\xa0is\\xa0limited\\xa0to\\xa0one\\xa0(1)\\xa0per\\xa0arch\\xa0in\\xa0a\\xa06‐month\\xa0period.', 'c)\\xa0 Tissue\\xa0conditioning\\xa0is\\xa0limited\\xa0to\\xa0two\\xa0(2)\\xa0per\\xa0arch\\xa0in\\xa0a\\xa012‐month\\xa0period.', 'However,\\xa0tissue\\xa0conditioning\\xa0is\\xa0 not\\xa0allowed\\xa0as\\xa0a\\xa0separate\\xa0Benefit\\xa0when\\xa0performed\\xa0on\\xa0the\\xa0same\\xa0day\\xa0as\\xa0a\\xa0denture,\\xa0reline\\xa0or\\xa0rebase\\xa0 service.', 'd)\\xa0 Recementation\\xa0of\\xa0fixed\\xa0partial\\xa0dentures\\xa0is\\xa0limited\\xa0to\\xa0once\\xa0in\\xa0a\\xa06‐month\\xa0period.', '(32)\\xa0 Limitations\\xa0on\\xa0Orthodontic\\xa0Services:\\xa0 a)\\xa0 The\\xa0maximum\\xa0amount\\xa0payable\\xa0for\\xa0each\\xa0Enrollee\\xa0is\\xa0shown\\xa0in\\xa0Attachment\\xa0A.\\xa0 b)\\xa0 Benefits\\xa0for\\xa0Orthodontic\\xa0Services\\xa0will\\xa0be\\xa0provided\\xa0in\\xa0periodic\\xa0payments\\xa0based\\xa0on\\xa0the\\xa0Enrollee’s\\xa0 continuing\\xa0eligibility.', 'c)\\xa0 Benefits\\xa0are\\xa0not\\xa0paid\\xa0to\\xa0repair\\xa0or\\xa0replace\\xa0any\\xa0orthodontic\\xa0appliance\\xa0received\\xa0under\\xa0this\\xa0plan.', 'd)\\xa0 Benefits\\xa0are\\xa0not\\xa0paid\\xa0for\\xa0orthodontic\\xa0retreatment\\xa0procedures.', '(33)\\xa0 Limitations\\xa0on\\xa0TMJ\\xa0Services:\\xa0 Contract.', 'a)\\xa0 TMJ\\xa0Benefits\\xa0are\\xa0subject\\xa0to\\xa0all\\xa0the\\xa0limitations,\\xa0exclusions\\xa0and\\xa0other\\xa0terms\\xa0and\\xa0conditions\\xa0in\\xa0the\\xa0 b)\\xa0 Delta\\xa0Dental\\xa0will\\xa0not\\xa0pay\\xa0for\\xa0the\\xa0repair\\xa0or\\xa0replacement\\xa0of\\xa0any\\xa0appliance\\xa0furnished\\xa0in\\xa0whole\\xa0or\\xa0in\\xa0part\\xa0 under\\xa0this\\xa0or\\xa0any\\xa0other\\xa0health\\xa0plan\\xa0which\\xa0provides\\xa0TMJ\\xa0Benefits.', 'c)\\xa0 Benefits\\xa0are\\xa0limited\\xa0to:\\xa0those\\xa0intra‐oral\\xa0services\\xa0which\\xa0would\\xa0normally\\xa0be\\xa0provided\\xa0by\\xa0a\\xa0Provider\\xa0in\\xa0 relief\\xa0of\\xa0oral\\xa0symptoms\\xa0associated\\xa0with\\xa0TMJ\\xa0and\\xa0will\\xa0not\\xa0include\\xa0those\\xa0services\\xa0which\\xa0would\\xa0normally\\xa0 be\\xa0provided\\xa0under\\xa0medical\\xa0care\\xa0including,\\xa0but\\xa0not\\xa0limited\\xa0to,\\xa0psychotherapy,\\xa0special\\xa0joint\\xa0exams\\xa0and\\xa0x‐ rays,\\xa0joint\\xa0surgery\\xa0and\\xa0medications.', 'd)\\xa0 Fixed\\xa0appliances\\xa0and\\xa0restorations\\xa0are\\xa0excluded.', 'Diagnostic\\xa0procedures\\xa0not\\xa0otherwise\\xa0covered\\xa0under\\xa0 e)\\xa0 Any\\xa0procedure\\xa0paid\\xa0under\\xa0any\\xa0other\\xa0category\\xa0of\\xa0Benefits\\xa0by\\xa0the\\xa0Contract\\xa0is\\xa0not\\xa0covered\\xa0as\\xa0a\\xa0TMJ\\xa0 this\\xa0plan\\xa0are\\xa0excluded.', 'Benefit.', '(34)\\xa0 The\\xa0repair\\xa0or\\xa0reline\\xa0of\\xa0a\\xa0Night\\xa0Guard/Occlusal\\xa0Guard\\xa0Services\\xa0is\\xa0limited\\xa0to\\xa0once\\xa0every\\xa036\\xa0months.', 'An\\xa0 adjustment\\xa0of\\xa0a\\xa0Night\\xa0Guard/Occlusal\\xa0Guard\\xa0is\\xa0limited\\xa0to\\xa0once\\xa0in\\xa0a\\xa012‐month\\xa0period.', 'Exclusions\\xa0 Delta\\xa0Dental\\xa0does\\xa0not\\xa0pay\\xa0Benefits\\xa0for:\\xa0 (1) \\xa0 (2) \\xa0 (3) maxillofacial\\xa0prosthetics.', '(4) treatment\\xa0of\\xa0injuries\\xa0or\\xa0illness\\xa0covered\\xa0by\\xa0workers’\\xa0compensation\\xa0or\\xa0employers’\\xa0liability\\xa0laws;\\xa0services\\xa0 received\\xa0without\\xa0cost\\xa0from\\xa0any\\xa0federal,\\xa0state\\xa0or\\xa0local\\xa0agency,\\xa0unless\\xa0this\\xa0exclusion\\xa0is\\xa0prohibited\\xa0by\\xa0law.', 'cosmetic\\xa0surgery\\xa0or\\xa0procedures\\xa0for\\xa0purely\\xa0cosmetic\\xa0reasons.', 'provisional\\xa0and/or\\xa0temporary\\xa0restorations\\xa0(except\\xa0an\\xa0interim\\xa0removable\\xa0partial\\xa0denture\\xa0to\\xa0replace\\xa0 extracted\\xa0anterior\\xa0permanent\\xa0teeth\\xa0during\\xa0the\\xa0healing\\xa0period\\xa0for\\xa0children\\xa016\\xa0years\\xa0of\\xa0age\\xa0or\\xa0under).', 'Provisional\\xa0and/or\\xa0temporary\\xa0restorations\\xa0are\\xa0not\\xa0separately\\xa0payable\\xa0procedures\\xa0and\\xa0are\\xa0included\\xa0in\\xa0the\\xa0 fee\\xa0for\\xa0completed\\xa0service.', 'services\\xa0for\\xa0congenital\\xa0(hereditary)\\xa0or\\xa0developmental\\xa0(following\\xa0birth)\\xa0malformations,\\xa0including\\xa0but\\xa0not\\xa0 limited\\xa0to\\xa0cleft\\xa0palate,\\xa0upper\\xa0and\\xa0lower\\xa0jaw\\xa0malformations,\\xa0enamel\\xa0hypoplasia\\xa0(lack\\xa0of\\xa0development),\\xa0 fluorosis\\xa0(a\\xa0type\\xa0of\\xa0discoloration\\xa0of\\xa0the\\xa0teeth)\\xa0and\\xa0anodontia\\xa0(congenitally\\xa0missing\\xa0teeth),\\xa0except\\xa0those\\xa0 services\\xa0provided\\xa0to\\xa0newborn\\xa0children\\xa0for\\xa0medically\\xa0diagnosed\\xa0congenital\\xa0defects\\xa0or\\xa0birth\\xa0abnormalities.', '(5) 18745\\xa0 16\\xa0 TX‐ASC‐PPO‐E(2014)\\xa0 Coca‐Cola\\xa0Southwest\\xa0Beverages\\xa0LLC\\xa0Dental\\xa0Plan\\xa0 \\xa0 (6) Employee\\xa0Benefit\\xa0Booklet\\xa0 treatment\\xa0to\\xa0stabilize\\xa0teeth,\\xa0treatment\\xa0to\\xa0restore\\xa0tooth\\xa0structure\\xa0lost\\xa0from\\xa0wear,\\xa0erosion,\\xa0or\\xa0abrasion\\xa0or\\xa0 treatment\\xa0to\\xa0rebuild\\xa0or\\xa0maintain\\xa0chewing\\xa0surfaces\\xa0due\\xa0to\\xa0teeth\\xa0out\\xa0of\\xa0alignment\\xa0or\\xa0occlusion.', 'Examples\\xa0 include\\xa0but\\xa0are\\xa0not\\xa0limited\\xa0to:\\xa0equilibration,\\xa0periodontal\\xa0splinting,\\xa0complete\\xa0occlusal\\xa0adjustments\\xa0and\\xa0 abfraction.', 'any\\xa0Single\\xa0Procedure\\xa0provided\\xa0prior\\xa0to\\xa0the\\xa0date\\xa0the\\xa0Enrollee\\xa0became\\xa0eligible\\xa0for\\xa0services\\xa0under\\xa0this\\xa0plan.', 'prescribed\\xa0drugs,\\xa0medication,\\xa0pain\\xa0killers,\\xa0antimicrobial\\xa0agents,\\xa0or\\xa0experimental/investigational\\xa0procedures.', '(7) \\xa0 (8) \\xa0 (9) charges\\xa0for\\xa0anesthesia,\\xa0other\\xa0than\\xa0General\\xa0Anesthesia\\xa0and\\xa0IV\\xa0Sedation\\xa0administered\\xa0by\\xa0a\\xa0Provider\\xa0in\\xa0 connection\\xa0with\\xa0covered\\xa0Oral\\xa0Surgery\\xa0or\\xa0selected\\xa0Endodontic\\xa0and\\xa0Periodontal\\xa0surgical\\xa0procedures.', 'Local\\xa0 anesthesia\\xa0and\\xa0regional/or\\xa0trigeminal\\xa0bloc\\xa0anesthesia\\xa0are\\xa0not\\xa0separately\\xa0payable\\xa0procedures.', 'laboratory\\xa0processed\\xa0crowns\\xa0for\\xa0Enrollees\\xa0under\\xa0age\\xa012.', '(10) extraoral\\xa0grafts\\xa0(grafting\\xa0of\\xa0tissues\\xa0from\\xa0outside\\xa0the\\xa0mouth\\xa0to\\xa0oral\\xa0tissues).', '(11) \\xa0 (12) fixed\\xa0bridges\\xa0and\\xa0removable\\xa0partials\\xa0for\\xa0Enrollees\\xa0under\\xa0age\\xa016.', '(13) \\xa0 (14) \\xa0 (15) charges\\xa0by\\xa0any\\xa0hospital\\xa0or\\xa0other\\xa0surgical\\xa0or\\xa0treatment\\xa0facility\\xa0and\\xa0any\\xa0additional\\xa0fees\\xa0charged\\xa0by\\xa0the\\xa0 interim\\xa0implants\\xa0and\\xa0endodontic\\xa0endosseous\\xa0implant.', 'indirectly\\xa0fabricated\\xa0resin‐based\\xa0Inlays/Onlays.', 'Provider\\xa0for\\xa0treatment\\xa0in\\xa0any\\xa0such\\xa0facility.', '(16) treatment\\xa0by\\xa0someone\\xa0other\\xa0than\\xa0a\\xa0Provider\\xa0or\\xa0a\\xa0person\\xa0who\\xa0by\\xa0law\\xa0may\\xa0work\\xa0under\\xa0a\\xa0Provider’s\\xa0direct\\xa0 supervision.', '(17) charges\\xa0incurred\\xa0for\\xa0oral\\xa0hygiene\\xa0instruction,\\xa0a\\xa0plaque\\xa0control\\xa0program,\\xa0preventive\\xa0control\\xa0programs\\xa0 including\\xa0home\\xa0care\\xa0times,\\xa0dietary\\xa0instruction,\\xa0x‐ray\\xa0duplications,\\xa0cancer\\xa0screening\\xa0or\\xa0tobacco\\xa0counseling.', '(18) dental\\xa0practice\\xa0administrative\\xa0services\\xa0including,\\xa0but\\xa0not\\xa0limited\\xa0to,\\xa0preparation\\xa0of\\xa0claims,\\xa0any\\xa0non‐ treatment\\xa0phase\\xa0of\\xa0dentistry\\xa0such\\xa0as\\xa0provision\\xa0of\\xa0an\\xa0antiseptic\\xa0environment,\\xa0sterilization\\xa0of\\xa0equipment\\xa0or\\xa0 infection\\xa0control,\\xa0or\\xa0any\\xa0ancillary\\xa0materials\\xa0used\\xa0during\\xa0the\\xa0routine\\xa0course\\xa0of\\xa0providing\\xa0treatment\\xa0such\\xa0as\\xa0 cotton\\xa0swabs,\\xa0gauze,\\xa0bibs,\\xa0masks\\xa0or\\xa0relaxation\\xa0techniques\\xa0such\\xa0as\\xa0music.', '(19) procedures\\xa0having\\xa0a\\xa0questionable\\xa0prognosis\\xa0based\\xa0on\\xa0a\\xa0dental\\xa0consultant’s\\xa0professional\\xa0review\\xa0of\\xa0the\\xa0 submitted\\xa0documentation.', '(20) any\\xa0tax\\xa0imposed\\xa0(or\\xa0incurred)\\xa0by\\xa0a\\xa0government,\\xa0state\\xa0or\\xa0other\\xa0entity,\\xa0in\\xa0connection\\xa0with\\xa0any\\xa0fees\\xa0charged\\xa0 for\\xa0Benefits\\xa0provided\\xa0under\\xa0the\\xa0Contract,\\xa0will\\xa0be\\xa0the\\xa0responsibility\\xa0of\\xa0the\\xa0Enrollee\\xa0and\\xa0not\\xa0a\\xa0covered\\xa0 Benefit.', '(21) Deductibles,\\xa0amounts\\xa0over\\xa0plan\\xa0maximums\\xa0and/or\\xa0any\\xa0service\\xa0not\\xa0covered\\xa0under\\xa0the\\xa0dental\\xa0plan.', '(22) services\\xa0covered\\xa0under\\xa0the\\xa0dental\\xa0plan\\xa0but\\xa0exceed\\xa0Benefit\\xa0limitations\\xa0or\\xa0are\\xa0not\\xa0in\\xa0accordance\\xa0with\\xa0 processing\\xa0policies\\xa0in\\xa0effect\\xa0at\\xa0the\\xa0time\\xa0the\\xa0claim\\xa0is\\xa0processed.', '(23) facings,\\xa0veneers\\xa0or\\xa0similar\\xa0materials\\xa0placed\\xa0on\\xa0molar\\xa0crowns\\xa0or\\xa0pontics.', '(24) services\\xa0for\\xa0Orthodontic\\xa0treatment\\xa0(treatment\\xa0of\\xa0malocclusion\\xa0of\\xa0teeth\\xa0and/or\\xa0jaws)\\xa0except\\xa0as\\xa0provided\\xa0 under\\xa0the\\xa0Orthodontic\\xa0Services\\xa0section,\\xa0if\\xa0applicable.', '(25) services\\xa0for\\xa0any\\xa0disturbance\\xa0of\\xa0the\\xa0Temporomandibular\\xa0(jaw)\\xa0Joints\\xa0(TMJ)\\xa0or\\xa0associated\\xa0musculature,\\xa0nerves\\xa0 and\\xa0other\\xa0tissues)\\xa0except\\xa0as\\xa0provided\\xa0under\\xa0the\\xa0TMJ\\xa0Benefit\\xa0section,\\xa0if\\xa0applicable.', '(26) missed\\xa0and/or\\xa0cancelled\\xa0appointments.', '18745\\xa0 17\\xa0 TX‐ASC‐PPO‐E(2014)\\xa0 Coca‐Cola\\xa0Southwest\\xa0Beverages\\xa0LLC\\xa0Dental\\xa0Plan\\xa0 (27) actions\\xa0taken\\xa0to\\xa0schedule\\xa0and\\xa0assure\\xa0compliance\\xa0with\\xa0patient\\xa0appointments\\xa0are\\xa0inclusive\\xa0with\\xa0office\\xa0 Employee\\xa0Benefit\\xa0Booklet\\xa0 operations\\xa0and\\xa0are\\xa0not\\xa0a\\xa0separately\\xa0payable\\xa0service.', '(28) the\\xa0fees\\xa0for\\xa0care\\xa0coordination\\xa0are\\xa0considered\\xa0inclusive\\xa0in\\xa0overall\\xa0patient\\xa0management\\xa0and\\xa0are\\xa0not\\xa0a\\xa0 separately\\xa0payable\\xa0service.', '(29) dental\\xa0case\\xa0management\\xa0motivational\\xa0interviewing\\xa0and\\xa0patient\\xa0education\\xa0to\\xa0improve\\xa0oral\\xa0health\\xa0literacy.', '(30) non‐ionizing\\xa0diagnostic\\xa0procedure\\xa0capable\\xa0of\\xa0quantifying,\\xa0monitoring\\xa0and\\xa0recording\\xa0changes\\xa0in\\xa0structure\\xa0of\\xa0 \\xa0 enamel,\\xa0dentin,\\xa0and\\xa0cementum.', '(31) extra‐oral\\xa0–\\xa02D\\xa0projection\\xa0radiographic\\xa0image\\xa0and\\xa0extra‐oral\\xa0posterior\\xa0dental\\xa0radiographic\\xa0image.', '18745\\xa0 18\\xa0 TX‐ASC‐PPO‐E(2014)']\n"
     ]
    }
   ],
   "source": [
    "filePath = \"./data/raw/TX-18745 ASC Contract (7.2.18).pdf\"\n",
    "processedTextPath = \"\"\n",
    "\n",
    "if(checkFileType(filePath) == 0):\n",
    "    processedTextPath = processTextFile(filePath)\n",
    "elif(checkFileType(filePath) == 1):\n",
    "    processedTextPath = processPDFfile(filePath)\n",
    "else:\n",
    "    raise TypeError(\"File type incorrect\") \n",
    "\n",
    "print(processedTextPath)\n",
    "with open(processedTextPath, 'r') as txtFile:\n",
    "            text = txtFile.read()\n",
    "\n",
    "\n",
    "text = ddCleanText(text)\n",
    "wordTokens = getTokens(text)\n",
    "sentTokens = getSents(text)\n",
    "print(sentTokens)\n",
    "bgs = getBigrams(wordTokens)\n",
    "tgs = getTrigrams(wordTokens)\n"
   ]
  },
  {
   "cell_type": "markdown",
   "metadata": {},
   "source": [
    "## Attributes"
   ]
  },
  {
   "cell_type": "markdown",
   "metadata": {
    "heading_collapsed": true
   },
   "source": [
    "#### Filename\n",
    "Contract Start\n",
    "Contract End\n",
    "Contract Duration\n",
    "State\n",
    "Delta Office Involved\n",
    "\n",
    "#### Group Information\n",
    "(Group Number)\n",
    "\n",
    "#### Numeric attributes Only\n",
    "Basics\n",
    "Diagnostics\n",
    "Major\n",
    "Endo\n",
    "Oral\n",
    "Perio\n",
    "Prostho\n",
    "Ortho"
   ]
  },
  {
   "cell_type": "code",
   "execution_count": 125,
   "metadata": {
    "hidden": true
   },
   "outputs": [],
   "source": [
    "##Establish a dataframe to capture the attributes\n",
    "#d = {'key': 'file','value':fileName}\n",
    "#{'key':'state', 'value':state}\n",
    "#df = pd.DataFrame(d, index=['uid'])\n",
    "d = {}"
   ]
  },
  {
   "cell_type": "markdown",
   "metadata": {},
   "source": [
    "### Metadata"
   ]
  },
  {
   "cell_type": "markdown",
   "metadata": {
    "heading_collapsed": true
   },
   "source": [
    "#### get file name"
   ]
  },
  {
   "cell_type": "code",
   "execution_count": 397,
   "metadata": {
    "hidden": true
   },
   "outputs": [],
   "source": [
    "def getFileName(fullPath):\n",
    "    if(platform == \"win32\"):\n",
    "        fileName = fullPath.split(\"\\\\\")[-1]\n",
    "    else:\n",
    "        fileName = fullPath.split(\"/\")[-1]\n",
    "    return fileName"
   ]
  },
  {
   "cell_type": "code",
   "execution_count": 398,
   "metadata": {
    "hidden": true
   },
   "outputs": [
    {
     "name": "stdout",
     "output_type": "stream",
     "text": [
      "TX 19015 Attachment A ENT (7.2.18).docx\n"
     ]
    }
   ],
   "source": [
    "print(getFileName(filePath))"
   ]
  },
  {
   "cell_type": "markdown",
   "metadata": {
    "heading_collapsed": true
   },
   "source": [
    "#### get group number"
   ]
  },
  {
   "cell_type": "code",
   "execution_count": 763,
   "metadata": {
    "hidden": true
   },
   "outputs": [],
   "source": [
    "def getGroupNumber(sents_tokens, filePath):\n",
    "    \n",
    "    group_keywords = [\"group number\", \"groupnumber\"]\n",
    "    regex_exps = []\n",
    "    poss_nums = []\n",
    "    finalGN = None\n",
    "    \n",
    "    #Create regex exps out of group number keywords\n",
    "    for kw in group_keywords:\n",
    "            temp_re = kw + \"\\W\\s*(?P<gn>\\d+)\"\n",
    "            regex = re.compile(temp_re)\n",
    "            regex_exps.append(regex)\n",
    "    \n",
    "    #For each sentence, search for the expression, if found add the number to\n",
    "    #list of possible group numbers\n",
    "    for sent in sents_tokens:\n",
    "        #print(sent)\n",
    "        for my_regex in regex_exps:\n",
    "            result = my_regex.search(sent.lower())\n",
    "            if not result==None:\n",
    "                temp_gn = result.group('gn')\n",
    "                poss_nums.append(temp_gn)\n",
    "    \n",
    "    #Try and get the number from the file name, looking for list of numeric chars\n",
    "    num_regex = re.compile(\"\\d+\")\n",
    "    fileName = getFileName(filePath)\n",
    "    fileGN = num_regex.search(fileName)\n",
    "    \n",
    "    if not fileGN==None:#if they filename has a number sequence\n",
    "        if fileGN.group() in poss_nums:#then if the file group number matches one in the document, choose it\n",
    "            finalGN = fileGN.group()\n",
    "        else:\n",
    "            poss_nums.append(fileGN.group())#otherwise add the filename one to the list and try to get the most co\n",
    "            try:\n",
    "                finalGN = mode(poss_nums)\n",
    "            except:\n",
    "                print(\"Unexpected error: Cannot determine group number of file: \" + filePath)\n",
    "    \n",
    "    return finalGN"
   ]
  },
  {
   "cell_type": "code",
   "execution_count": 764,
   "metadata": {
    "hidden": true
   },
   "outputs": [
    {
     "ename": "TypeError",
     "evalue": "getGroupNumber() missing 1 required positional argument: 'filePath'",
     "output_type": "error",
     "traceback": [
      "\u001b[0;31m---------------------------------------------------------------------------\u001b[0m",
      "\u001b[0;31mTypeError\u001b[0m                                 Traceback (most recent call last)",
      "\u001b[0;32m<ipython-input-764-acdca115f456>\u001b[0m in \u001b[0;36m<module>\u001b[0;34m()\u001b[0m\n\u001b[0;32m----> 1\u001b[0;31m \u001b[0mgn\u001b[0m \u001b[0;34m=\u001b[0m \u001b[0mgetGroupNumber\u001b[0m\u001b[0;34m(\u001b[0m\u001b[0msentTokens\u001b[0m\u001b[0;34m)\u001b[0m\u001b[0;34m\u001b[0m\u001b[0m\n\u001b[0m\u001b[1;32m      2\u001b[0m \u001b[0mprint\u001b[0m\u001b[0;34m(\u001b[0m\u001b[0mgn\u001b[0m\u001b[0;34m)\u001b[0m\u001b[0;34m\u001b[0m\u001b[0m\n",
      "\u001b[0;31mTypeError\u001b[0m: getGroupNumber() missing 1 required positional argument: 'filePath'"
     ]
    }
   ],
   "source": [
    "gn = getGroupNumber(sentTokens)\n",
    "print(gn)"
   ]
  },
  {
   "cell_type": "code",
   "execution_count": 110,
   "metadata": {
    "hidden": true
   },
   "outputs": [],
   "source": [
    "## Group Information\n",
    "\n",
    "dfGI=pd.DataFrame(d, index=['uid'])"
   ]
  },
  {
   "cell_type": "markdown",
   "metadata": {
    "heading_collapsed": true
   },
   "source": [
    "#### get contract start"
   ]
  },
  {
   "cell_type": "code",
   "execution_count": 737,
   "metadata": {
    "code_folding": [
     0
    ],
    "hidden": true
   },
   "outputs": [],
   "source": [
    "def oldversion_getContractStart(sents_tokens):\n",
    "    start_keywords = [\"effective date\", \"effective\"]\n",
    "    regex_exps = []\n",
    "    poss_dates = set()\n",
    "    finalDate = \"\"\n",
    "    \n",
    "    testString = \"\"\n",
    "    for kw in start_keywords:\n",
    "            temp_re = kw + \"\\S\\s*\\S\"\n",
    "            regex = re.compile(temp_re)\n",
    "            regex_exps.append(regex)\n",
    "    #sents_tokens.append(\"Effective Date:   10/1/2014  Contract term: October 1st, 2014 to September 2nd, 2019\")\n",
    "    \n",
    "    for sent in sents_tokens:\n",
    "        for my_regex in regex_exps:\n",
    "            result = my_regex.search(sent.lower())\n",
    "            if not result==None:\n",
    "                subset = word_tokenize(sent[sent.lower().find(result.group()):])[:10]\n",
    "                subset2 = word_tokenize(sent[sent.lower().find(result.group()):])[-10:]\n",
    "                subset = \" \".join(subset)\n",
    "                subset2 = \" \".join(subset2)\n",
    "                poss_dates.add(subset)\n",
    "                poss_dates.add(subset2)\n",
    "                \n",
    "    matches = set()\n",
    "    for sent in poss_dates:\n",
    "        #print(sent)\n",
    "        m = datefinder.find_dates(sent)\n",
    "        for match in m:\n",
    "            matches.add(match)\n",
    "    #print(matches)\n",
    "    \n",
    "    try:\n",
    "        finalDate = mode(matches)\n",
    "    except:\n",
    "        print(\"Unexpected error: Cannot determine contract start date of file \")\n",
    "    \n",
    "  \n",
    "    return finalDate"
   ]
  },
  {
   "cell_type": "code",
   "execution_count": 753,
   "metadata": {
    "code_folding": [
     0
    ],
    "hidden": true
   },
   "outputs": [],
   "source": [
    "def getContractStart(sents_tokens):\n",
    "    start_keywords = [\"effective date\\S\\s*\\S\", \"effective\"]\n",
    "    regex_exps = []\n",
    "    poss_dates = []\n",
    "    finalDate = \"\"\n",
    "    matches = []\n",
    "    \n",
    "    for kw in start_keywords:\n",
    "            temp_re = kw\n",
    "            regex = re.compile(temp_re)\n",
    "            regex_exps.append(regex)\n",
    "    \n",
    "## Original pass through sentence tokens to find possible dates\n",
    "    for sent in sents_tokens:\n",
    "        for my_regex in regex_exps:\n",
    "            result = my_regex.search(sent.lower())\n",
    "            if not result==None:\n",
    "                subset = word_tokenize(sent[sent.lower().find(result.group()):])[:20]\n",
    "                subset = \" \".join(subset)\n",
    "                poss_dates.append(subset)\n",
    "\n",
    "                \n",
    "## Second pass through sentence tokens to find possible dates based on a date range format\n",
    "    regex_exps = []\n",
    "    backup_kw = [\"\\S\\sthrough\\s\\S\",\"\\S\\sthru\\s\\S\"]\n",
    "    \n",
    "    for kw in backup_kw:\n",
    "        temp_re = kw\n",
    "        regex = re.compile(temp_re)\n",
    "        regex_exps.append(regex)\n",
    "        \n",
    "    for sent in sents_tokens:\n",
    "        for my_regex in regex_exps:\n",
    "            result = my_regex.search(sent.lower())\n",
    "            if not result==None:\n",
    "                half_1 = sent[sent.lower().find(result.group()):]\n",
    "                half_2 = sent[:sent.lower().find(result.group())]\n",
    "                \n",
    "                subset_1 = \" \".join(word_tokenize(half_1)[:6])\n",
    "                subset_2 = \" \".join(word_tokenize(half_2)[-6:])\n",
    "                subset = subset_2 + subset_1\n",
    "                \n",
    "                m = datefinder.find_dates(subset)\n",
    "                temp_matches = []\n",
    "                for match in m:\n",
    "                    if match.year >= 1966:\n",
    "                        temp_matches.append(subset)\n",
    "                if len(temp_matches)>=2:\n",
    "                    poss_dates.append(subset)\n",
    "                    #print(subset)\n",
    "                    \n",
    "                    \n",
    "## Second pass through sentences with possible dates to eliminate ones without a year or with an invalid year\n",
    "## These are likely other values flagged incorrectly as dates by the datefinder\n",
    "## 1966 is the year Delta Dental was created\n",
    "    for sent in poss_dates:\n",
    "        find_year_re = re.compile(\"\\d\\d\\d\\d\")\n",
    "        year = find_year_re.search(sent)\n",
    "        \n",
    "        if not year==None:\n",
    "            m = datefinder.find_dates(sent)\n",
    "            for match in m:\n",
    "                if match.year >= 1966:\n",
    "                    matches.append(match)\n",
    "## Last pass: try to find the most common date. If there is more than one mode, choose the earliest date\n",
    "##.           this seems to occur when it is finding the contract start and end in equal quantities\n",
    "    #print(matches)\n",
    "    try:\n",
    "        finalDate = mode(matches)\n",
    "    except ValueError as e:\n",
    "        #print(str(e))\n",
    "        if matches:\n",
    "            earliestMatch = matches[0]\n",
    "            for match in matches:\n",
    "                if(match < earliestMatch):\n",
    "                    earliestMatch = match\n",
    "            finalDate = earliestMatch\n",
    "    except Exception as e:\n",
    "        print(str(e))\n",
    "  \n",
    "    return finalDate"
   ]
  },
  {
   "cell_type": "markdown",
   "metadata": {
    "heading_collapsed": true
   },
   "source": [
    "####  get Contract End"
   ]
  },
  {
   "cell_type": "code",
   "execution_count": 751,
   "metadata": {
    "hidden": true
   },
   "outputs": [],
   "source": [
    "def getContractEnd(sents_tokens):\n",
    "    \n",
    "    start_keywords = [\"contract term\\S\\s*\\S\", \"contract term \", \"contract end\"]\n",
    "    regex_exps = []\n",
    "    poss_dates = []\n",
    "    finalDate = \"\"\n",
    "    matches = []\n",
    "    \n",
    "    for kw in start_keywords:\n",
    "            temp_re = kw\n",
    "            regex = re.compile(temp_re)\n",
    "            regex_exps.append(regex)\n",
    "    \n",
    "## Original pass through sentence tokens to find possible dates based on keywords\n",
    "    for sent in sents_tokens:\n",
    "        for my_regex in regex_exps:\n",
    "            result = my_regex.search(sent.lower())\n",
    "            if not result==None:\n",
    "                subset = word_tokenize(sent[sent.lower().find(result.group()):])[:25]\n",
    "                subset = \" \".join(subset)\n",
    "                poss_dates.append(subset)\n",
    "                \n",
    "                \n",
    "## Second pass through sentence tokens to find possible dates based on a date range format\n",
    "    regex_exps = []\n",
    "    backup_kw = [\"\\S\\sthrough\\s\\S\",\"\\S\\sthru\\s\\S\"]\n",
    "    \n",
    "    for kw in backup_kw:\n",
    "        temp_re = kw\n",
    "        regex = re.compile(temp_re)\n",
    "        regex_exps.append(regex)\n",
    "        \n",
    "    for sent in sents_tokens:\n",
    "        for my_regex in regex_exps:\n",
    "            result = my_regex.search(sent.lower())\n",
    "            if not result==None:\n",
    "                half_1 = sent[sent.lower().find(result.group()):]\n",
    "                half_2 = sent[:sent.lower().find(result.group())]\n",
    "                \n",
    "                subset_1 = \" \".join(word_tokenize(half_1)[:6])\n",
    "                subset_2 = \" \".join(word_tokenize(half_2)[-6:])\n",
    "                subset = subset_2 + subset_1\n",
    "                \n",
    "                m = datefinder.find_dates(subset)\n",
    "                temp_matches = []\n",
    "                for match in m:\n",
    "                    if match.year >= 1966:\n",
    "                        temp_matches.append(subset)\n",
    "                if len(temp_matches)>=2:\n",
    "                    poss_dates.append(subset)\n",
    "                    #print(subset)\n",
    "                \n",
    "                \n",
    "## Pass through sentences with possible dates to eliminate ones without a year or with an invalid year\n",
    "## These are likely other values flagged incorrectly as dates by the datefinder\n",
    "## 1966 is the year Delta Dental was created\n",
    "    for sent in poss_dates:\n",
    "        #print(sent)\n",
    "        find_year_re = re.compile(\"\\d\\d\\d\\d\")\n",
    "        year = find_year_re.search(sent)\n",
    "        \n",
    "        if not year==None:\n",
    "            m = datefinder.find_dates(sent)\n",
    "            for match in m:\n",
    "                if match.year >= 1966:\n",
    "                    matches.append(match)\n",
    "                    \n",
    "   \n",
    "    #print(matches)\n",
    "    \n",
    "### If there are exactly two matches, try to find a max. If error b/c they're the same, choose one\n",
    "    if(len(matches) == 2):\n",
    "        try:\n",
    "            finalDate = max(matches)\n",
    "        except ValueError as e:\n",
    "            finalDate = matches[0]\n",
    "        except Exception as e:\n",
    "            print(str(e))\n",
    "\n",
    "## If there are more, try and find the top two most mentioned and take the later. else just take the latest            \n",
    "    elif(len(matches) > 2):\n",
    "        \n",
    "        try:\n",
    "            date1 = mode(matches)\n",
    "            matches.remove(date1)\n",
    "            \n",
    "            date2 = mode(matches)\n",
    "            matches.remove(date2)\n",
    "            \n",
    "            finalDate = max([date1, date2])\n",
    "        except ValueError as e:\n",
    "            #print(str(e))\n",
    "            if matches:\n",
    "                latestMatch = matches[0]\n",
    "                for match in matches:\n",
    "                    if(match > latestMatch):\n",
    "                        latestMatch = match\n",
    "                finalDate = latestMatch\n",
    "        except Exception as e:\n",
    "            print(str(e))\n",
    "    #else:\n",
    "        #print(\"could not find contract end for file\")\n",
    "    \n",
    "    #print(\"\\n\")\n",
    "    return finalDate"
   ]
  },
  {
   "cell_type": "markdown",
   "metadata": {
    "heading_collapsed": true
   },
   "source": [
    "#### get Contract Duration"
   ]
  },
  {
   "cell_type": "code",
   "execution_count": 727,
   "metadata": {
    "hidden": true
   },
   "outputs": [],
   "source": [
    "def getContractDuration(sents_tokens):\n",
    "    start = None\n",
    "    end = None\n",
    "    duration = None\n",
    "    \n",
    "    try:\n",
    "        start = getContractStart(sents_tokens)\n",
    "    except Exception as e:\n",
    "        print(\"Can't find contract start\")\n",
    "        return\n",
    "    \n",
    "    try:\n",
    "        end = getContractEnd(sents_tokens)\n",
    "    except Exception as e:\n",
    "        print(\"Can't find contract end\")\n",
    "        return\n",
    "    if(start and end):\n",
    "        duration = end - start\n",
    "\n",
    "    return duration"
   ]
  },
  {
   "cell_type": "markdown",
   "metadata": {},
   "source": [
    "#### get State/Location:"
   ]
  },
  {
   "cell_type": "code",
   "execution_count": 679,
   "metadata": {},
   "outputs": [],
   "source": [
    "def getContractLocation(sents_tokens):\n",
    "   \n",
    "    return"
   ]
  },
  {
   "cell_type": "markdown",
   "metadata": {
    "heading_collapsed": true
   },
   "source": [
    "#### Delta Office Involved"
   ]
  },
  {
   "cell_type": "code",
   "execution_count": 680,
   "metadata": {
    "hidden": true
   },
   "outputs": [],
   "source": [
    "def getDeltaOffice():\n",
    "    \n",
    "    return"
   ]
  },
  {
   "cell_type": "markdown",
   "metadata": {},
   "source": [
    "### Batch Run to get attributes"
   ]
  },
  {
   "cell_type": "markdown",
   "metadata": {
    "heading_collapsed": true
   },
   "source": [
    "#### Function: batch pre process: fill output folder"
   ]
  },
  {
   "cell_type": "code",
   "execution_count": 411,
   "metadata": {
    "hidden": true
   },
   "outputs": [],
   "source": [
    "def batchPreProcess():\n",
    "    cwd = os.getcwd()\n",
    "    print(cwd)\n",
    "    processedTextPath = \"\"\n",
    "    \n",
    "    dataPath = os.path.join(cwd, \"data/raw\")\n",
    "\n",
    "    if(os.path.isdir(dataPath)):\n",
    "\n",
    "        for file in os.listdir(dataPath):\n",
    "            filepath = os.path.join(dataPath, file)\n",
    "            if(os.path.isfile(filepath)):\n",
    "                #print(file)\n",
    "                try:\n",
    "                    if(checkFileType(filepath) == 0):\n",
    "                        processedTextPath = processTextFile(filepath)\n",
    "                    elif(checkFileType(filepath) == 1):\n",
    "                        processedTextPath = processPDFfile(filepath)\n",
    "                    else:\n",
    "                        raise TypeError('This path does not lead to a valid file type!')                     \n",
    "                except Exception as e:\n",
    "                    print(str(e))\n",
    "\n",
    "    else:\n",
    "        print(\"data/raw doesn't exist\")"
   ]
  },
  {
   "cell_type": "markdown",
   "metadata": {
    "heading_collapsed": true
   },
   "source": [
    "#### Function: Batch return token and bigram sets for all output files"
   ]
  },
  {
   "cell_type": "code",
   "execution_count": 505,
   "metadata": {
    "hidden": true
   },
   "outputs": [],
   "source": [
    "def batchGetTokens():\n",
    "    all_tokens = []\n",
    "    cwd = os.getcwd()\n",
    "    processedTextPath = \"\"\n",
    "    \n",
    "    dataPath = os.path.join(cwd, \"data/output\")\n",
    "    print(dataPath)\n",
    "    \n",
    "    if(os.path.isdir(dataPath)):\n",
    "\n",
    "        for file in os.listdir(dataPath):\n",
    "            filepath = os.path.join(dataPath, file)\n",
    "            if(os.path.isfile(filepath)):\n",
    "                try:\n",
    "                    #print(file)\n",
    "\n",
    "                    temp_obj = {}\n",
    "\n",
    "                    with open(filepath, 'r') as txtFile:\n",
    "                        text = txtFile.read()\n",
    "\n",
    "                    temp_obj['filepath'] = filepath\n",
    "\n",
    "                    text = ddCleanText(text)\n",
    "                    temp_obj['cleanText'] = text\n",
    "\n",
    "                    wordTokens = getTokens(text)\n",
    "                    sentTokens = getSents(text)\n",
    "                    temp_obj['wordTokens'] = wordTokens\n",
    "                    temp_obj['sentTokens'] = sentTokens\n",
    "\n",
    "                    bgs = getBigrams(wordTokens)\n",
    "                    tgs = getTrigrams(wordTokens)\n",
    "                    temp_obj['bgs'] = bgs\n",
    "                    temp_obj['tgs'] = tgs\n",
    "\n",
    "                    txtFile.close()\n",
    "                    all_tokens.append(temp_obj)\n",
    "                except Exception as e:\n",
    "                    print(\"Error opening and tokenizing \" + file)\n",
    "                    #print(str(e))\n",
    "\n",
    "    else:\n",
    "        print(\"data/output doesn't exist\")\n",
    "    return all_tokens"
   ]
  },
  {
   "cell_type": "code",
   "execution_count": 579,
   "metadata": {
    "hidden": true,
    "scrolled": true
   },
   "outputs": [
    {
     "name": "stdout",
     "output_type": "stream",
     "text": [
      "/Users/sydneyknox/Documents/data-insights/jupyter-pseudocode\n",
      "This path does not lead to a valid file type!\n"
     ]
    }
   ],
   "source": [
    "## MetaData DataFrame Creation\n",
    "## Key                       -     Value\n",
    "## Column that we're pulling -    Number or field that we're pulling\n",
    "\n",
    "batchPreProcess()"
   ]
  },
  {
   "cell_type": "markdown",
   "metadata": {
    "heading_collapsed": true
   },
   "source": [
    "#### Function: get metadata attributes (for single file...batch use the functions)"
   ]
  },
  {
   "cell_type": "code",
   "execution_count": 765,
   "metadata": {
    "code_folding": [],
    "hidden": true
   },
   "outputs": [],
   "source": [
    "def getMetaDataAtt(file_info):\n",
    "    #print(file_info)\n",
    "    fileName = getFileName(file_info['filepath'])\n",
    "    print(fileName)\n",
    "    \n",
    "    groupNumber = getGroupNumber(file_info['sentTokens'], file_info['filepath'])\n",
    "    if(groupNumber):\n",
    "        print(\"group number: \" , groupNumber)\n",
    "    \n",
    "    contractStartDate = getContractStart(file_info['sentTokens'])\n",
    "    if(contractStartDate):\n",
    "        print(\"start: \" , contractStartDate)\n",
    "    \n",
    "    contractEndDate = getContractEnd(file_info['sentTokens'])\n",
    "    if(contractEndDate):\n",
    "        print(\"end: \" , contractEndDate)\n",
    "    \n",
    "    contractDuration = getContractDuration(file_info['sentTokens'])\n",
    "    if(contractDuration):\n",
    "        print(\"duration: \" , contractDuration)\n",
    "    print(\"\\n\")\n",
    "    \n",
    "   ## d={'key':'filename', 'value':fileName}\n",
    "   ## dfMD = pd.DataFrame(d, index=['MetaData'])\n",
    "    \n",
    "   ## df=pd.DataFrame({'key':'group_number','value':groupNumber}, index=['MetaData'])\n",
    "   ## dfMD = pd.concat([dfMD, df])\n",
    "    \n",
    "   ## df=pd.DataFrame({'key':'contract_start_date','value':contractStartDate}, index=['MetaData'])\n",
    "   ## dfMD = pd.concat([dfMD, df])\n",
    "    \n",
    "    return dfMD"
   ]
  },
  {
   "cell_type": "markdown",
   "metadata": {},
   "source": [
    "### Workspace"
   ]
  },
  {
   "cell_type": "code",
   "execution_count": null,
   "metadata": {},
   "outputs": [],
   "source": [
    "base_info = batchGetTokens()"
   ]
  },
  {
   "cell_type": "code",
   "execution_count": 766,
   "metadata": {
    "scrolled": true
   },
   "outputs": [
    {
     "name": "stdout",
     "output_type": "stream",
     "text": [
      "TX 19015 Attachment A ENT (7.2.18).txt\n",
      "group number:  19015\n",
      "start:  2018-01-01 00:00:00\n",
      "\n",
      "\n",
      "TX 17404 EOC Regional (7.2.18).txt\n",
      "group number:  17404\n",
      "start:  2017-10-01 00:00:00\n",
      "\n",
      "\n",
      "TX 17404 EOC (Regional (7.2.18)-pdf.txt\n",
      "group number:  17404\n",
      "start:  2017-10-01 00:00:00\n",
      "\n",
      "\n",
      "TX-19278 ASC-ENT (7.2.18).txt\n",
      "group number:  19278\n",
      "start:  2018-03-01 00:00:00\n",
      "end:  2019-12-31 00:00:00\n",
      "duration:  670 days, 0:00:00\n",
      "\n",
      "\n",
      "test2.txt\n",
      "group number:  2\n",
      "\n",
      "\n",
      "TX 19015 Contract ENT (7.2.18).txt\n",
      "group number:  19015\n",
      "\n",
      "\n",
      "test2-pdf.txt\n",
      "group number:  2\n",
      "\n",
      "\n",
      "TX 17404 Contract Regional (7.2.18)-pdf.txt\n",
      "group number:  17404\n",
      "start:  2014-10-01 20:14:00\n",
      "end:  2017-09-30 00:00:00\n",
      "duration:  1094 days, 3:46:00\n",
      "\n",
      "\n",
      "TX 19015 Attachment  C ENT (7.2.18).txt\n",
      "group number:  19015\n",
      "start:  2018-01-01 00:00:00\n",
      "end:  2019-12-31 00:00:00\n",
      "duration:  729 days, 0:00:00\n",
      "\n",
      "\n",
      "TX 19015 Contract ENT (7.2.18)-pdf.txt\n",
      "group number:  19015\n",
      "start:  2018-01-01 00:00:00\n",
      "end:  2019-12-31 00:00:00\n",
      "duration:  729 days, 0:00:00\n",
      "\n",
      "\n",
      "TX-18745-ASC Contract (7.2.18).txt\n",
      "group number:  18745\n",
      "start:  2017-04-01 00:00:00\n",
      "end:  2019-12-31 00:00:00\n",
      "duration:  1004 days, 0:00:00\n",
      "\n",
      "\n",
      "TX 17404 Contract Regional (7.2.18).txt\n",
      "group number:  17404\n",
      "start:  2014-10-01 00:00:00\n",
      "end:  2017-09-30 00:00:00\n",
      "duration:  1095 days, 0:00:00\n",
      "\n",
      "\n",
      "test.txt\n",
      "\n",
      "\n",
      "TX-18745 ASC Contract (7.2.18)-pdf.txt\n",
      "group number:  18745\n",
      "start:  2017-04-01 00:00:00\n",
      "\n",
      "\n",
      "TX 19015 Attachment B ENT (7.2.18).txt\n",
      "group number:  19015\n",
      "start:  2018-01-01 00:00:00\n",
      "\n",
      "\n",
      "TX 19015 EOC ENT (7.2.18).txt\n",
      "group number:  19015\n",
      "start:  2018-01-01 00:00:00\n",
      "\n",
      "\n",
      "test-pdf.txt\n",
      "\n",
      "\n",
      "TX-19278 ASC-ENT (7.2.18)-pdf.txt\n",
      "group number:  19278\n",
      "start:  2018-03-01 00:00:00\n",
      "\n",
      "\n",
      "TX 19015 EOC ENT(7.2.18)-pdf.txt\n",
      "group number:  19015\n",
      "start:  2018-01-01 00:00:00\n",
      "\n",
      "\n"
     ]
    }
   ],
   "source": [
    "for file in base_info:\n",
    "    dfMD = getMetaDataAtt(file)\n",
    "    \n",
    "    #transpose=dfMD.transpose()\n",
    "    #print(transpose)\n",
    "    #print(dfMD)"
   ]
  },
  {
   "cell_type": "code",
   "execution_count": 459,
   "metadata": {},
   "outputs": [],
   "source": [
    "## Diagnostic and Preventative (D&P) [Appendix A]\n",
    "\n",
    "d={'key':'D&P Services_PPO','value':'100'}\n",
    "##Need to pass index since we're only doing string values\n",
    "dfDP=pd.DataFrame(d, index=['D%P Services'])\n"
   ]
  },
  {
   "cell_type": "code",
   "execution_count": 321,
   "metadata": {},
   "outputs": [],
   "source": [
    "## Basic Service\n",
    "\n",
    "dfBS=pd.DataFrame(d, index=['Basic Service'])"
   ]
  },
  {
   "cell_type": "code",
   "execution_count": 123,
   "metadata": {},
   "outputs": [],
   "source": [
    "## Endo Perio (Endodontics (Periodontal(?)))\n",
    "\n",
    "dfEP=pd.DataFrame(d, index=['Endo Perio'])"
   ]
  },
  {
   "cell_type": "code",
   "execution_count": 113,
   "metadata": {},
   "outputs": [],
   "source": [
    "## Oral (Oral Surgery)\n",
    "\n",
    "dfOa=pd.DataFrame(d, index=['uid'])"
   ]
  },
  {
   "cell_type": "code",
   "execution_count": 114,
   "metadata": {},
   "outputs": [],
   "source": [
    "## Perio (Periodontal)\n",
    "\n",
    "dfPe=pd.DataFrame(d, index=['uid'])"
   ]
  },
  {
   "cell_type": "code",
   "execution_count": 115,
   "metadata": {},
   "outputs": [],
   "source": [
    "## Major (Major Benefits)\n",
    "\n",
    "dfMj=pd.DataFrame(d, index=['uid'])"
   ]
  },
  {
   "cell_type": "code",
   "execution_count": 116,
   "metadata": {},
   "outputs": [],
   "source": [
    "## Prostho (Prosthodontics)\n",
    "\n",
    "dfPr=pd.DataFrame(d, index=['uid'])"
   ]
  },
  {
   "cell_type": "code",
   "execution_count": 117,
   "metadata": {},
   "outputs": [],
   "source": [
    "## Ortho (Orthodontics)\n",
    "\n",
    "dfOt=pd.DataFrame(d, index=['uid'])"
   ]
  },
  {
   "cell_type": "code",
   "execution_count": 124,
   "metadata": {
    "scrolled": true
   },
   "outputs": [
    {
     "name": "stdout",
     "output_type": "stream",
     "text": [
      "                    uid      D%P Services     Basic Service        Endo Perio  \\\n",
      "key    D&P Services_PPO  D&P Services_PPO  D&P Services_PPO  D&P Services_PPO   \n",
      "value               100               100               100               100   \n",
      "\n",
      "                    uid               uid               uid               uid  \\\n",
      "key    D&P Services_PPO  D&P Services_PPO  D&P Services_PPO  D&P Services_PPO   \n",
      "value               100               100               100               100   \n",
      "\n",
      "                    uid  \n",
      "key    D&P Services_PPO  \n",
      "value               100  \n"
     ]
    }
   ],
   "source": [
    "#Concatenate all frames created by the above dataset\n",
    "\n",
    "frames = [df, dfGI, dfDP, dfBS, dfEP, dfOa, dfPe, dfMj, dfPr, dfOt]\n",
    "\n",
    "result = pd.concat(frames)\n",
    "transpose=result.transpose()\n",
    "print(transpose)"
   ]
  },
  {
   "cell_type": "code",
   "execution_count": null,
   "metadata": {},
   "outputs": [],
   "source": []
  }
 ],
 "metadata": {
  "kernelspec": {
   "display_name": "Python 3",
   "language": "python",
   "name": "python3"
  },
  "language_info": {
   "codemirror_mode": {
    "name": "ipython",
    "version": 3
   },
   "file_extension": ".py",
   "mimetype": "text/x-python",
   "name": "python",
   "nbconvert_exporter": "python",
   "pygments_lexer": "ipython3",
   "version": "3.6.5"
  }
 },
 "nbformat": 4,
 "nbformat_minor": 2
}
