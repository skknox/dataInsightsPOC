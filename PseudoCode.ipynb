{
 "cells": [
  {
   "cell_type": "markdown",
   "metadata": {},
   "source": [
    "# Exploring and Processing"
   ]
  },
  {
   "cell_type": "markdown",
   "metadata": {
    "heading_collapsed": true
   },
   "source": [
    "### Import Statements"
   ]
  },
  {
   "cell_type": "code",
   "execution_count": 4,
   "metadata": {
    "hidden": true
   },
   "outputs": [],
   "source": [
    "import pandas as pd\n",
    "import numpy as np\n",
    "import os\n",
    "import matplotlib.pyplot as plt\n",
    "import sklearn as skl\n",
    "import random as rng\n",
    "import nltk\n",
    "import fnmatch\n",
    "\n",
    "import docx2txt\n",
    "from pdfminer.pdfparser import PDFParser\n",
    "from pdfminer.pdfdocument import PDFDocument\n",
    "from pdfminer.pdfpage import PDFPage\n",
    "from pdfminer.pdfinterp import PDFResourceManager, PDFPageInterpreter\n",
    "from pdfminer.pdfdevice import PDFDevice\n",
    "from pdfminer.pdfpage import PDFTextExtractionNotAllowed\n",
    "from pdfminer.layout import LAParams, LTTextBox, LTTextLine\n",
    "from pdfminer.converter import PDFPageAggregator\n",
    "\n",
    "from nltk.book import *\n",
    "from nltk import word_tokenize\n",
    "from nltk import sent_tokenize\n",
    "from nltk.corpus import stopwords\n",
    "from nltk.corpus import wordnet as wn\n",
    "from nltk.collocations import *\n",
    "from nltk.util import ngrams\n",
    "from nltk.stem.lancaster import LancasterStemmer\n",
    "from string import punctuation\n",
    "import sys as sys\n",
    "from sys import platform\n",
    "import re as re\n",
    "from statistics import mode\n",
    "import datefinder\n"
   ]
  },
  {
   "cell_type": "markdown",
   "metadata": {
    "heading_collapsed": true
   },
   "source": [
    "## Psuedocode"
   ]
  },
  {
   "cell_type": "code",
   "execution_count": 5,
   "metadata": {
    "hidden": true
   },
   "outputs": [],
   "source": [
    "### Analysis Function\n",
    "\n",
    "## Function which calculates the number of combinations (Not Permutations) of distinct values in a dataset. Would \n",
    "## take in a Pandas DataFrame ideally and multiply all distinct value counts for all available columns.\n",
    "\n",
    "# Expected input: Pandas DataFrame\n",
    "# Expected output: Int, the number of possible combinations."
   ]
  },
  {
   "cell_type": "code",
   "execution_count": 6,
   "metadata": {
    "hidden": true
   },
   "outputs": [],
   "source": [
    "### Parsing Function\n",
    "\n",
    "## Function to collect mentions of States/Districts/Territories in the United States (DC and Puerto Rico are included)\n",
    "## and rank their relevence, frequency should be a good factor. Note: California, Pennsylvania, and Georgia could \n",
    "## appear multiple times from addresses.\n",
    "\n",
    "# Expected input: A single file, text.\n",
    "# Expected output: A list of locations mentioned, ranked by most used to least used."
   ]
  },
  {
   "cell_type": "code",
   "execution_count": 7,
   "metadata": {
    "hidden": true
   },
   "outputs": [],
   "source": [
    "### Parsing Function\n",
    "\n",
    "## Function for searching a tokenized sentence dictionary for words or phrases. There's probably \n",
    "## already something for this.\n",
    "\n",
    "# Expected input: A tokenized list, and a phrase to search for.\n",
    "# Expected output: A list of sentences containing the phrase searched."
   ]
  },
  {
   "cell_type": "code",
   "execution_count": 8,
   "metadata": {
    "hidden": true
   },
   "outputs": [],
   "source": [
    "### Parsing Function\n",
    "\n",
    "## Function to take a file and produce the Acronyms from them.\n",
    "\n",
    "# Expected Input: Text File to be parsed, the Acronym to search\n",
    "# Expected output: A list of possible phrases, most likely first."
   ]
  },
  {
   "cell_type": "code",
   "execution_count": 9,
   "metadata": {
    "hidden": true
   },
   "outputs": [],
   "source": [
    "### Parsing Function\n",
    "\n",
    "## Function to take Acronyms and match them to the best possible N-gram for them from a document. Not all will be \n",
    "## possible, but a list of options will help.\n",
    "\n",
    "# Expected Input: Text File to be parsed, the Acronym to search\n",
    "# Expected output: A list of possible phrases, sorted most likely first."
   ]
  },
  {
   "cell_type": "code",
   "execution_count": 10,
   "metadata": {
    "hidden": true
   },
   "outputs": [],
   "source": [
    "### Generally important\n",
    "\n",
    "## Need to expand stopwords to include States and Districts, also Delta Dental adjacent names as another available set."
   ]
  },
  {
   "cell_type": "code",
   "execution_count": 11,
   "metadata": {
    "hidden": true
   },
   "outputs": [],
   "source": [
    "## Function to load in two different text extracted contracts and return a comparison metric between \n",
    "## the two (Similarity, possibly as a percent?)\n",
    "\n",
    "# Expected Input: Two contracts for Comparison\n",
    "# Expected Output: A measure, some kind of decimal to represent similarity."
   ]
  },
  {
   "cell_type": "markdown",
   "metadata": {
    "heading_collapsed": true
   },
   "source": [
    "## File Prep Functions"
   ]
  },
  {
   "cell_type": "markdown",
   "metadata": {
    "heading_collapsed": true,
    "hidden": true
   },
   "source": [
    "### Function: Is it docx or pdf?"
   ]
  },
  {
   "cell_type": "code",
   "execution_count": 12,
   "metadata": {
    "hidden": true
   },
   "outputs": [],
   "source": [
    "def checkFileType(filename):\n",
    "        if(filename.lower().endswith(('.doc','.docx'))):\n",
    "            return 0\n",
    "        elif(filename.lower().endswith(('.pdf'))):\n",
    "            return 1\n",
    "        else:\n",
    "            return -1"
   ]
  },
  {
   "cell_type": "markdown",
   "metadata": {
    "heading_collapsed": true,
    "hidden": true
   },
   "source": [
    "### Function: read in file"
   ]
  },
  {
   "cell_type": "code",
   "execution_count": 13,
   "metadata": {
    "hidden": true
   },
   "outputs": [],
   "source": [
    "def makeFilePath(docName):\n",
    "    raw_data_path = os.path.join(os.getcwd(), 'data', 'raw')\n",
    "    return os.path.join(raw_data_path, docName)"
   ]
  },
  {
   "cell_type": "markdown",
   "metadata": {
    "heading_collapsed": true,
    "hidden": true
   },
   "source": [
    "### Function: clean up text"
   ]
  },
  {
   "cell_type": "code",
   "execution_count": 14,
   "metadata": {
    "hidden": true
   },
   "outputs": [],
   "source": [
    "def cleanText(text):\n",
    "    text = text.replace(\"\\n\", ' ')\n",
    "    text = text.replace(\"\\t\", ' ')\n",
    "    #text = text.replace(\",\", ' ')\n",
    "    \n",
    "    dblSpacesRemaining = True\n",
    "    while(dblSpacesRemaining):\n",
    "        text = text.replace(\"  \", \" \")\n",
    "        if not \"  \" in text:\n",
    "            dblSpacesRemaining = False\n",
    "    return text"
   ]
  },
  {
   "cell_type": "markdown",
   "metadata": {
    "heading_collapsed": true,
    "hidden": true
   },
   "source": [
    "### Function: process dataFrame and group"
   ]
  },
  {
   "cell_type": "code",
   "execution_count": 15,
   "metadata": {
    "hidden": true
   },
   "outputs": [],
   "source": [
    "def processDF(txtFile):\n",
    "    df = pd.read_csv(txtFile, sep=\" \", header=None) #this doesn't work for me bc of variable number of cols\n",
    "    df = df.T \n",
    "    df = df.dropna()\n",
    "\n",
    "    df['SingleRow']=1\n",
    "\n",
    "    df=df.rename(columns={0 : 'Words'})\n",
    "    print(\"in processDF \" + txtFile)\n",
    "    df.describe(include=\"all\")\n",
    "    #print(df.groupby('Words').SingleRow.sum().sort_values())\n",
    "    #print(df)\n",
    "    return df"
   ]
  },
  {
   "cell_type": "markdown",
   "metadata": {
    "heading_collapsed": true,
    "hidden": true
   },
   "source": [
    "### Function: Process a text file"
   ]
  },
  {
   "cell_type": "code",
   "execution_count": 16,
   "metadata": {
    "hidden": true
   },
   "outputs": [],
   "source": [
    "def processTextFile(filePath):\n",
    "    #print(filePath)\n",
    "    docxText = docx2txt.process(filePath)\n",
    "    #print(docxText)\n",
    "    replacedText = cleanText(docxText)\n",
    "    #print(replacedText)\n",
    "    fileName = filePath.split('/')[-1]\n",
    "    #print(fileName)\n",
    "    baseFileName = fileName[0:-5]\n",
    "    #print(baseFileName)\n",
    "    newFilePath = './data/output/' + baseFileName + \".txt\"\n",
    "    #print(newFilePath)\n",
    "    singleFileDocx=open(newFilePath, 'wb+')    \n",
    "    singleFileDocx.write(replacedText.encode(\"utf-8\"))\n",
    "    singleFileDocx.close()\n",
    "\n",
    "    #temp_df = processDF('singleTextDocx.txt')\n",
    "    return newFilePath"
   ]
  },
  {
   "cell_type": "markdown",
   "metadata": {
    "heading_collapsed": true,
    "hidden": true
   },
   "source": [
    "### Function: Process pdf file"
   ]
  },
  {
   "cell_type": "code",
   "execution_count": 17,
   "metadata": {
    "code_folding": [],
    "hidden": true
   },
   "outputs": [],
   "source": [
    "def processPDFfile(filePath):\n",
    "        password = \"\"\n",
    "        extracted_text = \"\"\n",
    "\n",
    "        fileName = filePath.split('/')[-1]\n",
    "        baseFileName = fileName[0:-4]\n",
    "    \n",
    "        fp = open(filePath, \"rb\")\n",
    "        parser = PDFParser(fp)\n",
    "        document = PDFDocument(parser, password)\n",
    "        \n",
    "        if not document.is_extractable:\n",
    "            raise PDFTextExtractionNotAllowed\n",
    "            \n",
    "        # Create PDFResourceManager object that stores shared resources such as fonts or images\n",
    "        rsrcmgr = PDFResourceManager()\n",
    "\n",
    "        # set parameters for analysis\n",
    "        laparams = LAParams()\n",
    "\n",
    "        # Create a PDFDevice object which translates interpreted information into desired format\n",
    "        # Device needs to be connected to resource manager to store shared resources\n",
    "        # device = PDFDevice(rsrcmgr)\n",
    "        # Extract the decive to page aggregator to get LT object elements\n",
    "        device = PDFPageAggregator(rsrcmgr, laparams=laparams)\n",
    "\n",
    "        # Create interpreter object to process page content from PDFDocument\n",
    "        # Interpreter needs to be connected to resource manager for shared resources and device \n",
    "        interpreter = PDFPageInterpreter(rsrcmgr, device)\n",
    "\n",
    "        # Ok now that we have everything to process a pdf document, lets process it page by page\n",
    "        for page in PDFPage.create_pages(document):\n",
    "            # As the interpreter processes the page stored in PDFDocument object\n",
    "            interpreter.process_page(page)\n",
    "            # The device renders the layout from interpreter\n",
    "            layout = device.get_result()\n",
    "            # Out of the many LT objects within layout, we are interested in LTTextBox and LTTextLine\n",
    "            for lt_obj in layout:\n",
    "                if isinstance(lt_obj, LTTextBox) or isinstance(lt_obj, LTTextLine):\n",
    "                    newText = lt_obj.get_text()\n",
    "                    newText = newText.replace('\\n', ' ')\n",
    "                    extracted_text += newText\n",
    "\n",
    "        #close the pdf file\n",
    "        fp.close()\n",
    "        \n",
    "        extracted_text = cleanText(extracted_text)#extracted_text.replace(\"\\n\", ' ')\n",
    "        \n",
    "        newFilePath = './data/output/' + baseFileName + '-pdf' + \".txt\"\n",
    "        with open(newFilePath, 'wb+') as singleFilePDF:\n",
    "            singleFilePDF.write(extracted_text.encode(\"utf-8\"))\n",
    "        \n",
    "        \n",
    "        #temp_df = processDF('./data/output/' + baseFileName + \".txt\")\n",
    "        return newFilePath"
   ]
  },
  {
   "cell_type": "markdown",
   "metadata": {
    "heading_collapsed": true
   },
   "source": [
    "## Docx Extraction"
   ]
  },
  {
   "cell_type": "markdown",
   "metadata": {
    "hidden": true
   },
   "source": [
    "DocX extractor for data purposes. Requires customization to each purpose but is important for pulling data out of DocX files. Does not understand tables or bullet points, however is visually consistent with what's on the page.\n",
    "\n",
    "Strongest values: Order, consistentcy, noise reduction\n",
    "\n",
    "Weakest values: Completeness, flexibility, whitespace characters, formatting"
   ]
  },
  {
   "cell_type": "markdown",
   "metadata": {
    "hidden": true
   },
   "source": [
    "#### Docx Practice"
   ]
  },
  {
   "cell_type": "code",
   "execution_count": 18,
   "metadata": {
    "hidden": true,
    "scrolled": true
   },
   "outputs": [],
   "source": [
    "import docx2txt\n",
    "\n",
    "\n",
    "def cleanText(text):\n",
    "    text = text.replace(\"\\n\", ' ')\n",
    "    text = text.replace(\"\\t\", ' ')\n",
    "    text = text.replace(\",\", ' ')\n",
    "    \n",
    "    dblSpacesRemaining = True\n",
    "    while(dblSpacesRemaining):\n",
    "        text = text.replace(\"  \", \" \")\n",
    "        if not \"  \" in text:\n",
    "            dblSpacesRemaining = False\n",
    "        \n",
    "    return text\n",
    "fileName = \"TX 17404 Contract Regional (7.2.18).docx\"\n",
    "baseFileName = \"\"\n",
    "if(fileName.lower().endswith(('.docx'))):\n",
    "    baseFileName = fileName[0:-5]\n",
    "    #print(baseFileName)\n",
    "elif(fileName.lower().endswith(('.pdf'))):\n",
    "    baseFileName = fileName[0:-4]\n",
    "else:\n",
    "    print(\"ending error\")\n",
    "\n",
    "docText = docx2txt.process(\"./data/raw/\" + fileName)\n",
    "singleFileDocx=open('./data/output/' + baseFileName + \".txt\", 'wb+')\n",
    "replacedText = cleanText(docText)\n",
    "#print(replacedText)\n",
    "singleFileDocx.write(docText.encode(\"utf-8\"))\n",
    "singleFileDocx.close()\n"
   ]
  },
  {
   "cell_type": "markdown",
   "metadata": {
    "heading_collapsed": true
   },
   "source": [
    "## PDF Extraction"
   ]
  },
  {
   "cell_type": "markdown",
   "metadata": {
    "hidden": true
   },
   "source": [
    "#### PDF practice"
   ]
  },
  {
   "cell_type": "code",
   "execution_count": 19,
   "metadata": {
    "hidden": true
   },
   "outputs": [
    {
     "ename": "FileNotFoundError",
     "evalue": "[Errno 2] No such file or directory: 'C://data/test.pdf'",
     "output_type": "error",
     "traceback": [
      "\u001b[0;31m---------------------------------------------------------------------------\u001b[0m",
      "\u001b[0;31mFileNotFoundError\u001b[0m                         Traceback (most recent call last)",
      "\u001b[0;32m<ipython-input-19-d313aef8c3e6>\u001b[0m in \u001b[0;36m<module>\u001b[0;34m()\u001b[0m\n\u001b[1;32m     52\u001b[0m \u001b[0;34m\u001b[0m\u001b[0m\n\u001b[1;32m     53\u001b[0m \u001b[0;31m# Open and read the pdf file in binary mode\u001b[0m\u001b[0;34m\u001b[0m\u001b[0;34m\u001b[0m\u001b[0m\n\u001b[0;32m---> 54\u001b[0;31m \u001b[0mfp\u001b[0m \u001b[0;34m=\u001b[0m \u001b[0mopen\u001b[0m\u001b[0;34m(\u001b[0m\u001b[0mmy_file\u001b[0m\u001b[0;34m,\u001b[0m \u001b[0;34m\"rb\"\u001b[0m\u001b[0;34m)\u001b[0m\u001b[0;34m\u001b[0m\u001b[0m\n\u001b[0m\u001b[1;32m     55\u001b[0m \u001b[0;34m\u001b[0m\u001b[0m\n\u001b[1;32m     56\u001b[0m \u001b[0;31m# Create parser object to parse the pdf content\u001b[0m\u001b[0;34m\u001b[0m\u001b[0;34m\u001b[0m\u001b[0m\n",
      "\u001b[0;31mFileNotFoundError\u001b[0m: [Errno 2] No such file or directory: 'C://data/test.pdf'"
     ]
    }
   ],
   "source": [
    "import pandas as pd\n",
    "import numpy as np\n",
    "import os\n",
    "import matplotlib.pyplot as plt\n",
    "import sklearn as skl\n",
    "# pdfTextMiner.py\n",
    "# Python 2.7.6\n",
    "# For Python 3.x use pdfminer3k module\n",
    "# This link has useful information on components of the program\n",
    "# https://euske.github.io/pdfminer/programming.html\n",
    "# http://denis.papathanasiou.org/posts/2010.08.04.post.html\n",
    "\n",
    "\n",
    "''' Important classes to remember\n",
    "PDFParser - fetches data from pdf file\n",
    "PDFDocument - stores data parsed by PDFParser\n",
    "PDFPageInterpreter - processes page contents from PDFDocument\n",
    "PDFDevice - translates processed information from PDFPageInterpreter to whatever you need\n",
    "PDFResourceManager - Stores shared resources such as fonts or images used by both PDFPageInterpreter and PDFDevice\n",
    "LAParams - A layout analyzer returns a LTPage object for each page in the PDF document\n",
    "PDFPageAggregator - Extract the decive to page aggregator to get LT object elements\n",
    "'''\n",
    "\n",
    "from pdfminer.pdfparser import PDFParser\n",
    "from pdfminer.pdfdocument import PDFDocument\n",
    "from pdfminer.pdfpage import PDFPage\n",
    "# From PDFInterpreter import both PDFResourceManager and PDFPageInterpreter\n",
    "from pdfminer.pdfinterp import PDFResourceManager, PDFPageInterpreter\n",
    "from pdfminer.pdfdevice import PDFDevice\n",
    "# Import this to raise exception whenever text extraction from PDF is not allowed\n",
    "from pdfminer.pdfpage import PDFTextExtractionNotAllowed\n",
    "from pdfminer.layout import LAParams, LTTextBox, LTTextLine\n",
    "from pdfminer.converter import PDFPageAggregator\n",
    "\n",
    "''' This is what we are trying to do:\n",
    "1) Transfer information from PDF file to PDF document object. This is done using parser\n",
    "2) Open the PDF file\n",
    "3) Parse the file using PDFParser object\n",
    "4) Assign the parsed content to PDFDocument object\n",
    "5) Now the information in this PDFDocumet object has to be processed. For this we need\n",
    "   PDFPageInterpreter, PDFDevice and PDFResourceManager\n",
    " 6) Finally process the file page by page \n",
    "'''\n",
    "\n",
    "base_path = \"C://data\"\n",
    "\n",
    "my_file = os.path.join(base_path + \"/\" + \"test.pdf\")\n",
    "log_file = os.path.join(base_path + \"/\" + \"pdf_log.txt\")\n",
    "\n",
    "password = \"\"\n",
    "extracted_text = \"\"\n",
    "\n",
    "# Open and read the pdf file in binary mode\n",
    "fp = open(my_file, \"rb\")\n",
    "\n",
    "# Create parser object to parse the pdf content\n",
    "parser = PDFParser(fp)\n",
    "\n",
    "# Store the parsed content in PDFDocument object\n",
    "document = PDFDocument(parser, password)\n",
    "\n",
    "# Check if document is extractable, if not abort\n",
    "if not document.is_extractable:\n",
    "    raise PDFTextExtractionNotAllowed\n",
    "    \n",
    "# Create PDFResourceManager object that stores shared resources such as fonts or images\n",
    "rsrcmgr = PDFResourceManager()\n",
    "\n",
    "# set parameters for analysis\n",
    "laparams = LAParams()\n",
    "\n",
    "# Create a PDFDevice object which translates interpreted information into desired format\n",
    "# Device needs to be connected to resource manager to store shared resources\n",
    "# device = PDFDevice(rsrcmgr)\n",
    "# Extract the decive to page aggregator to get LT object elements\n",
    "device = PDFPageAggregator(rsrcmgr, laparams=laparams)\n",
    "\n",
    "# Create interpreter object to process page content from PDFDocument\n",
    "# Interpreter needs to be connected to resource manager for shared resources and device \n",
    "interpreter = PDFPageInterpreter(rsrcmgr, device)\n",
    "\n",
    "# Ok now that we have everything to process a pdf document, lets process it page by page\n",
    "for page in PDFPage.create_pages(document):\n",
    "    # As the interpreter processes the page stored in PDFDocument object\n",
    "    interpreter.process_page(page)\n",
    "    # The device renders the layout from interpreter\n",
    "    layout = device.get_result()\n",
    "    # Out of the many LT objects within layout, we are interested in LTTextBox and LTTextLine\n",
    "    for lt_obj in layout:\n",
    "        if isinstance(lt_obj, LTTextBox) or isinstance(lt_obj, LTTextLine):\n",
    "            extracted_text += lt_obj.get_text()\n",
    "            \n",
    "#close the pdf file\n",
    "fp.close()\n",
    "\n",
    "# print (extracted_text.encode(\"utf-8\"))\n",
    "            \n",
    "with open(log_file, \"wb\") as my_log:\n",
    "    my_log.write(extracted_text.encode(\"utf-8\"))\n",
    "print(\"Done !!\")\n"
   ]
  },
  {
   "cell_type": "markdown",
   "metadata": {
    "heading_collapsed": true
   },
   "source": [
    "## NLTK Tutorial"
   ]
  },
  {
   "cell_type": "markdown",
   "metadata": {
    "heading_collapsed": true,
    "hidden": true
   },
   "source": [
    "### Function: DD specific text cleaning"
   ]
  },
  {
   "cell_type": "code",
   "execution_count": 20,
   "metadata": {
    "hidden": true
   },
   "outputs": [],
   "source": [
    "def ddCleanText(text):\n",
    "    newText = text.replace('Delta Dental', 'DeltaDental')\n",
    "    newText = newText.replace('DELTA DENTAL', 'DELTADENTAL')\n",
    "    newText = newText.replace('DeltaDental Insurance Company', 'DeltaDentalInsuranceCompany')\n",
    "    return newText\n",
    "\n"
   ]
  },
  {
   "cell_type": "markdown",
   "metadata": {
    "heading_collapsed": true,
    "hidden": true
   },
   "source": [
    "### Function: Make tokenized word list"
   ]
  },
  {
   "cell_type": "code",
   "execution_count": 21,
   "metadata": {
    "hidden": true
   },
   "outputs": [],
   "source": [
    "def getTokens(text):\n",
    "    words = word_tokenize(text)\n",
    "    \n",
    "    customStopWords = set(stopwords.words('english')+list(punctuation))\n",
    "    wordsWOStop=[word for word in words if word not in customStopWords]\n",
    "    \n",
    "    return wordsWOStop"
   ]
  },
  {
   "cell_type": "markdown",
   "metadata": {
    "heading_collapsed": true,
    "hidden": true
   },
   "source": [
    "### Function: Make tokenized Sentence list"
   ]
  },
  {
   "cell_type": "code",
   "execution_count": 22,
   "metadata": {
    "code_folding": [],
    "hidden": true
   },
   "outputs": [],
   "source": [
    "def getSents(text):\n",
    "    sents = sent_tokenize(text)\n",
    "\n",
    "    return sents"
   ]
  },
  {
   "cell_type": "markdown",
   "metadata": {
    "heading_collapsed": true,
    "hidden": true
   },
   "source": [
    "### Function: Get Bigrams"
   ]
  },
  {
   "cell_type": "code",
   "execution_count": 23,
   "metadata": {
    "hidden": true
   },
   "outputs": [],
   "source": [
    "def getBigrams(tokens):\n",
    "    bigram_measures=nltk.collocations.BigramAssocMeasures();\n",
    "    finder = BigramCollocationFinder.from_words(tokens)\n",
    "    sorted_bgs = (sorted(list(finder.ngram_fd.items()), key=lambda item: item[-1], reverse=True))\n",
    "    \n",
    "    return sorted_bgs"
   ]
  },
  {
   "cell_type": "markdown",
   "metadata": {
    "heading_collapsed": true,
    "hidden": true
   },
   "source": [
    "### Function: Get Trigrams"
   ]
  },
  {
   "cell_type": "code",
   "execution_count": 24,
   "metadata": {
    "hidden": true
   },
   "outputs": [],
   "source": [
    "def getTrigrams(tokens):\n",
    "    trigram_measures =nltk.collocations.TrigramAssocMeasures();\n",
    "    finder = TrigramCollocationFinder.from_words(tokens)\n",
    "    sorted_tgs = (sorted(list(finder.ngram_fd.items()), key=lambda item: item[-1], reverse=True))\n",
    "\n",
    "    return sorted_tgs"
   ]
  },
  {
   "cell_type": "markdown",
   "metadata": {
    "heading_collapsed": true
   },
   "source": [
    "## workspace: Set up text/tokens to search"
   ]
  },
  {
   "cell_type": "code",
   "execution_count": 48,
   "metadata": {
    "hidden": true
   },
   "outputs": [],
   "source": [
    "filePath = \"./data/raw/TX-18745 ASC Contract (7.2.18).pdf\"\n",
    "processedTextPath = \"\"\n",
    "\n",
    "if(checkFileType(filePath) == 0):\n",
    "    processedTextPath = processTextFile(filePath)\n",
    "elif(checkFileType(filePath) == 1):\n",
    "    processedTextPath = processPDFfile(filePath)\n",
    "else:\n",
    "    raise TypeError(\"File type incorrect\") \n",
    "\n",
    "#print(processedTextPath)\n",
    "with open(processedTextPath, 'r') as txtFile:\n",
    "            text = txtFile.read()\n",
    "\n",
    "\n",
    "text = ddCleanText(text)\n",
    "wordTokens = getTokens(text)\n",
    "sentTokens = getSents(text)\n",
    "#print(sentTokens)\n",
    "bgs = getBigrams(wordTokens)\n",
    "tgs = getTrigrams(wordTokens)\n"
   ]
  },
  {
   "cell_type": "markdown",
   "metadata": {},
   "source": [
    "## Attributes"
   ]
  },
  {
   "cell_type": "markdown",
   "metadata": {
    "heading_collapsed": true
   },
   "source": [
    "#### Filename\n",
    "Contract Start\n",
    "Contract End\n",
    "Contract Duration\n",
    "State\n",
    "Delta Office Involved\n",
    "\n",
    "#### Group Information\n",
    "(Group Number)\n",
    "\n",
    "#### Numeric attributes Only\n",
    "Basics\n",
    "Diagnostics\n",
    "Major\n",
    "Endo\n",
    "Oral\n",
    "Perio\n",
    "Prostho\n",
    "Ortho"
   ]
  },
  {
   "cell_type": "code",
   "execution_count": 44,
   "metadata": {
    "hidden": true
   },
   "outputs": [],
   "source": [
    "##Establish a dataframe to capture the attributes\n",
    "#d = {'key': 'file','value':fileName}\n",
    "#{'key':'state', 'value':state}\n",
    "#df = pd.DataFrame(d, index=['uid'])\n",
    "d = {}"
   ]
  },
  {
   "cell_type": "markdown",
   "metadata": {},
   "source": [
    "### NLTK synonyms"
   ]
  },
  {
   "cell_type": "markdown",
   "metadata": {},
   "source": [
    "#### I kept this to processing single words, bigrams or trigrams so as to keep the complexity down"
   ]
  },
  {
   "cell_type": "code",
   "execution_count": 51,
   "metadata": {},
   "outputs": [],
   "source": [
    "def getSyns(word):\n",
    "    syns1 = wn.synsets(word)\n",
    "    \n",
    "    set1 = set()\n",
    "    for syn in syns1:\n",
    "        for lem in syn.lemmas():\n",
    "            set1.add(lem.name())\n",
    "    \n",
    "    return set1"
   ]
  },
  {
   "cell_type": "code",
   "execution_count": 58,
   "metadata": {},
   "outputs": [],
   "source": [
    "def getSimilarBigrams(word1, word2):\n",
    "    \n",
    "    set1 = getSyns(word1)\n",
    "    if not len(set1):\n",
    "        set1.add(word1)\n",
    "    set2 = getSyns(word2)\n",
    "    if not len(set2):\n",
    "        set2.add(word2)\n",
    "    \n",
    "    word_set = set()\n",
    "    for word1 in set1:\n",
    "        for word2 in set2:\n",
    "            word_set.add(\" \".join([word1, word2]))\n",
    "    #print(word_set)\n",
    "    \n",
    "    return word_set"
   ]
  },
  {
   "cell_type": "code",
   "execution_count": 50,
   "metadata": {},
   "outputs": [],
   "source": [
    "def getSimilarTrigrams(word1, word2, word3):\n",
    "    set1 = getSyns(word1)\n",
    "    set2 = getSyns(word2)\n",
    "    set3 = getSyns(word3)\n",
    "    \n",
    "    word_set = set()\n",
    "    for word1 in set1:\n",
    "        for word2 in set2:\n",
    "            for word3 in set3:\n",
    "                word_set.add(\" \".join([word1, word2, word3]))\n",
    "    #print(word_set)\n",
    "    \n",
    "    return word_set\n",
    "        "
   ]
  },
  {
   "cell_type": "code",
   "execution_count": 62,
   "metadata": {},
   "outputs": [
    {
     "name": "stdout",
     "output_type": "stream",
     "text": [
      "{'effective', 'effectual', 'good', 'effective date\\\\S\\\\s*\\\\S', 'good date\\\\S\\\\s*\\\\S', 'in_effect date\\\\S\\\\s*\\\\S', 'in_force', 'efficient date\\\\S\\\\s*\\\\S', 'in_force date\\\\S\\\\s*\\\\S', 'efficacious', 'in_effect', 'efficient', 'efficacious date\\\\S\\\\s*\\\\S', 'effectual date\\\\S\\\\s*\\\\S'}\n"
     ]
    }
   ],
   "source": [
    "def getSynonymsFromList(keywords):\n",
    "    matches = []\n",
    "\n",
    "    for kw in keywords:\n",
    "        try:\n",
    "            words = word_tokenize(kw)\n",
    "        except Exception as e:\n",
    "            print(str(e))\n",
    "        #print(words)\n",
    "        if(len(words) == 1):\n",
    "            #print(\"is 1\")\n",
    "            syns = getSyns(words[0])\n",
    "            for syn in syns:\n",
    "                matches.append(syn)\n",
    "            #keywords.append(list(syns))\n",
    "        elif(len(words) == 2):\n",
    "           # print(\"is 2\")\n",
    "            syns = getSimilarBigrams(words[0],words[1])\n",
    "           # print(syns)\n",
    "            matches.extend(getSimilarBigrams(words[0],words[1]))\n",
    "        elif(len(words) == 3):\n",
    "           # print(\"is 3\")\n",
    "            matches.extend(getSimilarTrigrams(words[0],words[1],words[2]))\n",
    "        #print(matches)\n",
    "    keywords.extend(matches)\n",
    "    keywords = set(keywords)\n",
    "\n",
    "    #print(start_keywords)\n",
    "    \n",
    "    return keywords"
   ]
  },
  {
   "cell_type": "code",
   "execution_count": 77,
   "metadata": {},
   "outputs": [
    {
     "name": "stdout",
     "output_type": "stream",
     "text": [
      "{'get', 'abridge', 'shorten', 'constrict', 'foreshorten', 'sign', 'declaration', 'sign_on', 'compress', 'abbreviate', 'compact', 'contract_bridge', 'condense', 'concentrate', 'contract', 'reduce', 'shrink', 'sign_up', 'undertake', 'squeeze', 'press', 'take', 'cut', 'narrow'}\n"
     ]
    }
   ],
   "source": [
    "start_keywords = [\"contract\"]# term\\S\\s*\\S\", \"contract term \", \"contract end\"]\n",
    "\n",
    "syn_list = (getSynonymsFromList(start_keywords))\n",
    "print(syn_list)"
   ]
  },
  {
   "cell_type": "markdown",
   "metadata": {},
   "source": [
    "### Metadata"
   ]
  },
  {
   "cell_type": "markdown",
   "metadata": {
    "heading_collapsed": true
   },
   "source": [
    "#### get file name"
   ]
  },
  {
   "cell_type": "code",
   "execution_count": 31,
   "metadata": {
    "hidden": true
   },
   "outputs": [],
   "source": [
    "def getFileName(fullPath):\n",
    "    if(platform == \"win32\"):\n",
    "        fileName = fullPath.split(\"\\\\\")[-1]\n",
    "    else:\n",
    "        fileName = fullPath.split(\"/\")[-1]\n",
    "    return fileName"
   ]
  },
  {
   "cell_type": "code",
   "execution_count": 32,
   "metadata": {
    "hidden": true
   },
   "outputs": [
    {
     "name": "stdout",
     "output_type": "stream",
     "text": [
      "TX-18745 ASC Contract (7.2.18).pdf\n"
     ]
    }
   ],
   "source": [
    "print(getFileName(filePath))"
   ]
  },
  {
   "cell_type": "markdown",
   "metadata": {
    "heading_collapsed": true
   },
   "source": [
    "#### get group number"
   ]
  },
  {
   "cell_type": "code",
   "execution_count": 33,
   "metadata": {
    "hidden": true
   },
   "outputs": [],
   "source": [
    "def getGroupNumber(sents_tokens, filePath):\n",
    "    \n",
    "    group_keywords = [\"group number\", \"groupnumber\"]\n",
    "    regex_exps = []\n",
    "    poss_nums = []\n",
    "    finalGN = None\n",
    "    \n",
    "    #Create regex exps out of group number keywords\n",
    "    for kw in group_keywords:\n",
    "            temp_re = kw + \"\\W\\s*(?P<gn>\\d+)\"\n",
    "            regex = re.compile(temp_re)\n",
    "            regex_exps.append(regex)\n",
    "    \n",
    "    #For each sentence, search for the expression, if found add the number to\n",
    "    #list of possible group numbers\n",
    "    for sent in sents_tokens:\n",
    "        #print(sent)\n",
    "        for my_regex in regex_exps:\n",
    "            result = my_regex.search(sent.lower())\n",
    "            if not result==None:\n",
    "                temp_gn = result.group('gn')\n",
    "                poss_nums.append(temp_gn)\n",
    "    \n",
    "    #Try and get the number from the file name, looking for list of numeric chars\n",
    "    num_regex = re.compile(\"\\d+\")\n",
    "    fileName = getFileName(filePath)\n",
    "    fileGN = num_regex.search(fileName)\n",
    "    \n",
    "    if not fileGN==None:#if they filename has a number sequence\n",
    "        if fileGN.group() in poss_nums:#then if the file group number matches one in the document, choose it\n",
    "            finalGN = fileGN.group()\n",
    "        else:\n",
    "            poss_nums.append(fileGN.group())#otherwise add the filename one to the list and try to get the most co\n",
    "            try:\n",
    "                finalGN = mode(poss_nums)\n",
    "            except:\n",
    "                print(\"Unexpected error: Cannot determine group number of file: \" + filePath)\n",
    "    \n",
    "    return finalGN"
   ]
  },
  {
   "cell_type": "code",
   "execution_count": 34,
   "metadata": {
    "hidden": true
   },
   "outputs": [
    {
     "ename": "TypeError",
     "evalue": "getGroupNumber() missing 1 required positional argument: 'filePath'",
     "output_type": "error",
     "traceback": [
      "\u001b[0;31m---------------------------------------------------------------------------\u001b[0m",
      "\u001b[0;31mTypeError\u001b[0m                                 Traceback (most recent call last)",
      "\u001b[0;32m<ipython-input-34-acdca115f456>\u001b[0m in \u001b[0;36m<module>\u001b[0;34m()\u001b[0m\n\u001b[0;32m----> 1\u001b[0;31m \u001b[0mgn\u001b[0m \u001b[0;34m=\u001b[0m \u001b[0mgetGroupNumber\u001b[0m\u001b[0;34m(\u001b[0m\u001b[0msentTokens\u001b[0m\u001b[0;34m)\u001b[0m\u001b[0;34m\u001b[0m\u001b[0m\n\u001b[0m\u001b[1;32m      2\u001b[0m \u001b[0mprint\u001b[0m\u001b[0;34m(\u001b[0m\u001b[0mgn\u001b[0m\u001b[0;34m)\u001b[0m\u001b[0;34m\u001b[0m\u001b[0m\n",
      "\u001b[0;31mTypeError\u001b[0m: getGroupNumber() missing 1 required positional argument: 'filePath'"
     ]
    }
   ],
   "source": [
    "gn = getGroupNumber(sentTokens)\n",
    "print(gn)"
   ]
  },
  {
   "cell_type": "code",
   "execution_count": 35,
   "metadata": {
    "code_folding": [
     0
    ],
    "hidden": true
   },
   "outputs": [
    {
     "ename": "NameError",
     "evalue": "name 'd' is not defined",
     "output_type": "error",
     "traceback": [
      "\u001b[0;31m---------------------------------------------------------------------------\u001b[0m",
      "\u001b[0;31mNameError\u001b[0m                                 Traceback (most recent call last)",
      "\u001b[0;32m<ipython-input-35-ad217c338ffe>\u001b[0m in \u001b[0;36m<module>\u001b[0;34m()\u001b[0m\n\u001b[1;32m      1\u001b[0m \u001b[0;31m## Group Information\u001b[0m\u001b[0;34m\u001b[0m\u001b[0;34m\u001b[0m\u001b[0m\n\u001b[1;32m      2\u001b[0m \u001b[0;34m\u001b[0m\u001b[0m\n\u001b[0;32m----> 3\u001b[0;31m \u001b[0mdfGI\u001b[0m\u001b[0;34m=\u001b[0m\u001b[0mpd\u001b[0m\u001b[0;34m.\u001b[0m\u001b[0mDataFrame\u001b[0m\u001b[0;34m(\u001b[0m\u001b[0md\u001b[0m\u001b[0;34m,\u001b[0m \u001b[0mindex\u001b[0m\u001b[0;34m=\u001b[0m\u001b[0;34m[\u001b[0m\u001b[0;34m'uid'\u001b[0m\u001b[0;34m]\u001b[0m\u001b[0;34m)\u001b[0m\u001b[0;34m\u001b[0m\u001b[0m\n\u001b[0m",
      "\u001b[0;31mNameError\u001b[0m: name 'd' is not defined"
     ]
    }
   ],
   "source": [
    "## Group Information\n",
    "\n",
    "dfGI=pd.DataFrame(d, index=['uid'])"
   ]
  },
  {
   "cell_type": "markdown",
   "metadata": {
    "heading_collapsed": true
   },
   "source": [
    "#### get contract start"
   ]
  },
  {
   "cell_type": "code",
   "execution_count": 66,
   "metadata": {
    "code_folding": [],
    "hidden": true
   },
   "outputs": [],
   "source": [
    "def getContractStart(sents_tokens):\n",
    "    start_keywords = [\"effective date\\S\\s*\\S\", \"effective\"]\n",
    "    regex_exps = []\n",
    "    poss_dates = []\n",
    "    finalDate = \"\"\n",
    "    matches = []\n",
    "    \n",
    "    start_keywords = getSynonymsFromList(start_keywords)\n",
    "    print(start_keywords)\n",
    "    for kw in start_keywords:\n",
    "            temp_re = kw\n",
    "            regex = re.compile(temp_re)\n",
    "            regex_exps.append(regex)\n",
    "    \n",
    "## Original pass through sentence tokens to find possible dates\n",
    "    for sent in sents_tokens:\n",
    "        for my_regex in regex_exps:\n",
    "            result = my_regex.search(sent.lower())\n",
    "            if not result==None:\n",
    "                subset = word_tokenize(sent[sent.lower().find(result.group()):])[:20]\n",
    "                subset = \" \".join(subset)\n",
    "                poss_dates.append(subset)\n",
    "\n",
    "                \n",
    "## Second pass through sentence tokens to find possible dates based on a date range format\n",
    "    regex_exps = []\n",
    "    backup_kw = [\"\\S\\sthrough\\s\\S\",\"\\S\\sthru\\s\\S\"]\n",
    "    \n",
    "    for kw in backup_kw:\n",
    "        temp_re = kw\n",
    "        regex = re.compile(temp_re)\n",
    "        regex_exps.append(regex)\n",
    "        \n",
    "    for sent in sents_tokens:\n",
    "        for my_regex in regex_exps:\n",
    "            result = my_regex.search(sent.lower())\n",
    "            if not result==None:\n",
    "                half_1 = sent[sent.lower().find(result.group()):]\n",
    "                half_2 = sent[:sent.lower().find(result.group())]\n",
    "                \n",
    "                subset_1 = \" \".join(word_tokenize(half_1)[:6])\n",
    "                subset_2 = \" \".join(word_tokenize(half_2)[-6:])\n",
    "                subset = subset_2 + subset_1\n",
    "                \n",
    "                m = datefinder.find_dates(subset)\n",
    "                temp_matches = []\n",
    "                for match in m:\n",
    "                    if match.year >= 1966:\n",
    "                        temp_matches.append(subset)\n",
    "                if len(temp_matches)>=2:\n",
    "                    poss_dates.append(subset)\n",
    "                    #print(subset)\n",
    "                    \n",
    "                    \n",
    "## Second pass through sentences with possible dates to eliminate ones without a year or with an invalid year\n",
    "## These are likely other values flagged incorrectly as dates by the datefinder\n",
    "## 1966 is the year Delta Dental was created\n",
    "    for sent in poss_dates:\n",
    "        find_year_re = re.compile(\"\\d\\d\\d\\d\")\n",
    "        year = find_year_re.search(sent)\n",
    "        \n",
    "        if not year==None:\n",
    "            m = datefinder.find_dates(sent)\n",
    "            for match in m:\n",
    "                if match.year >= 1966:\n",
    "                    matches.append(match)\n",
    "## Last pass: try to find the most common date. If there is more than one mode, choose the earliest date\n",
    "##.           this seems to occur when it is finding the contract start and end in equal quantities\n",
    "    #print(matches)\n",
    "    try:\n",
    "        finalDate = mode(matches)\n",
    "    except ValueError as e:\n",
    "        #print(str(e))\n",
    "        if matches:\n",
    "            earliestMatch = matches[0]\n",
    "            for match in matches:\n",
    "                if(match < earliestMatch):\n",
    "                    earliestMatch = match\n",
    "            finalDate = earliestMatch\n",
    "    except Exception as e:\n",
    "        print(str(e))\n",
    "  \n",
    "    return finalDate"
   ]
  },
  {
   "cell_type": "markdown",
   "metadata": {
    "heading_collapsed": true
   },
   "source": [
    "####  get Contract End"
   ]
  },
  {
   "cell_type": "code",
   "execution_count": 73,
   "metadata": {
    "hidden": true
   },
   "outputs": [],
   "source": [
    "def getContractEnd(sents_tokens):\n",
    "    \n",
    "    start_keywords = [\"contract term\\S\\s*\\S\", \"contract term \", \"contract end\"]\n",
    "    regex_exps = []\n",
    "    poss_dates = []\n",
    "    finalDate = \"\"\n",
    "    matches = []\n",
    "    \n",
    "    start_keywords = getSynonymsFromList(start_keywords)\n",
    "    print(start_keywords)\n",
    "    for kw in start_keywords:\n",
    "            temp_re = kw\n",
    "            regex = re.compile(temp_re)\n",
    "            regex_exps.append(regex)\n",
    "    \n",
    "## Original pass through sentence tokens to find possible dates based on keywords\n",
    "    for sent in sents_tokens:\n",
    "        for my_regex in regex_exps:\n",
    "            result = my_regex.search(sent.lower())\n",
    "            if not result==None:\n",
    "                subset = word_tokenize(sent[sent.lower().find(result.group()):])[:25]\n",
    "                subset = \" \".join(subset)\n",
    "                poss_dates.append(subset)\n",
    "                \n",
    "                \n",
    "## Second pass through sentence tokens to find possible dates based on a date range format\n",
    "    regex_exps = []\n",
    "    backup_kw = [\"\\S\\sthrough\\s\\S\",\"\\S\\sthru\\s\\S\"]\n",
    "    \n",
    "    for kw in backup_kw:\n",
    "        temp_re = kw\n",
    "        regex = re.compile(temp_re)\n",
    "        regex_exps.append(regex)\n",
    "        \n",
    "    for sent in sents_tokens:\n",
    "        for my_regex in regex_exps:\n",
    "            result = my_regex.search(sent.lower())\n",
    "            if not result==None:\n",
    "                half_1 = sent[sent.lower().find(result.group()):]\n",
    "                half_2 = sent[:sent.lower().find(result.group())]\n",
    "                \n",
    "                subset_1 = \" \".join(word_tokenize(half_1)[:6])\n",
    "                subset_2 = \" \".join(word_tokenize(half_2)[-6:])\n",
    "                subset = subset_2 + subset_1\n",
    "                \n",
    "                m = datefinder.find_dates(subset)\n",
    "                temp_matches = []\n",
    "                for match in m:\n",
    "                    if match.year >= 1966:\n",
    "                        temp_matches.append(subset)\n",
    "                if len(temp_matches)>=2:\n",
    "                    poss_dates.append(subset)\n",
    "                    #print(subset)\n",
    "                \n",
    "                \n",
    "## Pass through sentences with possible dates to eliminate ones without a year or with an invalid year\n",
    "## These are likely other values flagged incorrectly as dates by the datefinder\n",
    "## 1966 is the year Delta Dental was created\n",
    "    for sent in poss_dates:\n",
    "        #print(sent)\n",
    "        find_year_re = re.compile(\"\\d\\d\\d\\d\")\n",
    "        year = find_year_re.search(sent)\n",
    "        \n",
    "        if not year==None:\n",
    "            m = datefinder.find_dates(sent)\n",
    "            for match in m:\n",
    "                if match.year >= 1966:\n",
    "                    matches.append(match)\n",
    "                    \n",
    "   \n",
    "    #print(matches)\n",
    "    \n",
    "### If there are exactly two matches, try to find a max. If error b/c they're the same, choose one\n",
    "    if(len(matches) == 2):\n",
    "        try:\n",
    "            finalDate = max(matches)\n",
    "        except ValueError as e:\n",
    "            finalDate = matches[0]\n",
    "        except Exception as e:\n",
    "            print(str(e))\n",
    "\n",
    "## If there are more, try and find the top two most mentioned and take the later. else just take the latest            \n",
    "    elif(len(matches) > 2):\n",
    "        \n",
    "        try:\n",
    "            date1 = mode(matches)\n",
    "            matches.remove(date1)\n",
    "            \n",
    "            date2 = mode(matches)\n",
    "            matches.remove(date2)\n",
    "            \n",
    "            finalDate = max([date1, date2])\n",
    "        except ValueError as e:\n",
    "            #print(str(e))\n",
    "            if matches:\n",
    "                latestMatch = matches[0]\n",
    "                for match in matches:\n",
    "                    if(match > latestMatch):\n",
    "                        latestMatch = match\n",
    "                finalDate = latestMatch\n",
    "        except Exception as e:\n",
    "            print(str(e))\n",
    "    #else:\n",
    "        #print(\"could not find contract end for file\")\n",
    "    \n",
    "    #print(\"\\n\")\n",
    "    return finalDate"
   ]
  },
  {
   "cell_type": "markdown",
   "metadata": {
    "heading_collapsed": true
   },
   "source": [
    "#### get Contract Duration"
   ]
  },
  {
   "cell_type": "code",
   "execution_count": 39,
   "metadata": {
    "hidden": true
   },
   "outputs": [],
   "source": [
    "def getContractDuration(sents_tokens):\n",
    "    start = None\n",
    "    end = None\n",
    "    duration = None\n",
    "    \n",
    "    try:\n",
    "        start = getContractStart(sents_tokens)\n",
    "    except Exception as e:\n",
    "        print(\"Can't find contract start\")\n",
    "        return\n",
    "    \n",
    "    try:\n",
    "        end = getContractEnd(sents_tokens)\n",
    "    except Exception as e:\n",
    "        print(\"Can't find contract end\")\n",
    "        return\n",
    "    if(start and end):\n",
    "        duration = end - start\n",
    "\n",
    "    return duration"
   ]
  },
  {
   "cell_type": "markdown",
   "metadata": {
    "heading_collapsed": true
   },
   "source": [
    "#### get State/Location:"
   ]
  },
  {
   "cell_type": "code",
   "execution_count": 40,
   "metadata": {
    "hidden": true
   },
   "outputs": [],
   "source": [
    "def getContractLocation(sents_tokens):\n",
    "   \n",
    "    return"
   ]
  },
  {
   "cell_type": "markdown",
   "metadata": {
    "heading_collapsed": true
   },
   "source": [
    "#### Delta Office Involved"
   ]
  },
  {
   "cell_type": "code",
   "execution_count": 41,
   "metadata": {
    "hidden": true
   },
   "outputs": [],
   "source": [
    "def getDeltaOffice():\n",
    "    \n",
    "    return"
   ]
  },
  {
   "cell_type": "markdown",
   "metadata": {},
   "source": [
    "### Batch Run to get attributes"
   ]
  },
  {
   "cell_type": "markdown",
   "metadata": {
    "heading_collapsed": true
   },
   "source": [
    "#### Function: batch pre process: fill output folder"
   ]
  },
  {
   "cell_type": "code",
   "execution_count": 42,
   "metadata": {
    "hidden": true
   },
   "outputs": [],
   "source": [
    "def batchPreProcess():\n",
    "    cwd = os.getcwd()\n",
    "    print(cwd)\n",
    "    processedTextPath = \"\"\n",
    "    \n",
    "    dataPath = os.path.join(cwd, \"data/raw\")\n",
    "\n",
    "    if(os.path.isdir(dataPath)):\n",
    "\n",
    "        for file in os.listdir(dataPath):\n",
    "            filepath = os.path.join(dataPath, file)\n",
    "            if(os.path.isfile(filepath)):\n",
    "                #print(file)\n",
    "                try:\n",
    "                    if(checkFileType(filepath) == 0):\n",
    "                        processedTextPath = processTextFile(filepath)\n",
    "                    elif(checkFileType(filepath) == 1):\n",
    "                        processedTextPath = processPDFfile(filepath)\n",
    "                    else:\n",
    "                        raise TypeError('This path does not lead to a valid file type!')                     \n",
    "                except Exception as e:\n",
    "                    print(str(e))\n",
    "\n",
    "    else:\n",
    "        print(\"data/raw doesn't exist\")"
   ]
  },
  {
   "cell_type": "markdown",
   "metadata": {
    "heading_collapsed": true
   },
   "source": [
    "#### Function: Batch return token and bigram sets for all output files"
   ]
  },
  {
   "cell_type": "code",
   "execution_count": 43,
   "metadata": {
    "code_folding": [],
    "hidden": true
   },
   "outputs": [],
   "source": [
    "def batchGetTokens():\n",
    "    all_tokens = []\n",
    "    cwd = os.getcwd()\n",
    "    processedTextPath = \"\"\n",
    "    \n",
    "    dataPath = os.path.join(cwd, \"data/output\")\n",
    "    print(dataPath)\n",
    "    \n",
    "    if(os.path.isdir(dataPath)):\n",
    "\n",
    "        for file in os.listdir(dataPath):\n",
    "            filepath = os.path.join(dataPath, file)\n",
    "            if(os.path.isfile(filepath)):\n",
    "                try:\n",
    "                    #print(file)\n",
    "\n",
    "                    temp_obj = {}\n",
    "\n",
    "                    with open(filepath, 'r') as txtFile:\n",
    "                        text = txtFile.read()\n",
    "\n",
    "                    temp_obj['filepath'] = filepath\n",
    "\n",
    "                    text = ddCleanText(text)\n",
    "                    temp_obj['cleanText'] = text\n",
    "\n",
    "                    wordTokens = getTokens(text)\n",
    "                    sentTokens = getSents(text)\n",
    "                    temp_obj['wordTokens'] = wordTokens\n",
    "                    temp_obj['sentTokens'] = sentTokens\n",
    "\n",
    "                    bgs = getBigrams(wordTokens)\n",
    "                    tgs = getTrigrams(wordTokens)\n",
    "                    temp_obj['bgs'] = bgs\n",
    "                    temp_obj['tgs'] = tgs\n",
    "\n",
    "                    txtFile.close()\n",
    "                    all_tokens.append(temp_obj)\n",
    "                except Exception as e:\n",
    "                    print(\"Error opening and tokenizing \" + file)\n",
    "                    #print(str(e))\n",
    "\n",
    "    else:\n",
    "        print(\"data/output doesn't exist\")\n",
    "    return all_tokens"
   ]
  },
  {
   "cell_type": "markdown",
   "metadata": {},
   "source": [
    "#### Function: get metadata attributes (for single file...batch use the functions)"
   ]
  },
  {
   "cell_type": "code",
   "execution_count": 71,
   "metadata": {
    "code_folding": []
   },
   "outputs": [],
   "source": [
    "def getMetaDataAtt(file_info):\n",
    "    #print(file_info)\n",
    "    fileName = getFileName(file_info['filepath'])\n",
    "    print(fileName)\n",
    "    \n",
    "    #groupNumber = getGroupNumber(file_info['sentTokens'], file_info['filepath'])\n",
    "    #if(groupNumber):\n",
    "    #    print(\"group number: \" , groupNumber)\n",
    "    \n",
    "    contractStartDate = getContractStart(file_info['sentTokens'])\n",
    "    if(contractStartDate):\n",
    "        print(\"start: \" , contractStartDate)\n",
    "    \n",
    "    contractEndDate = getContractEnd(file_info['sentTokens'])\n",
    "    if(contractEndDate):\n",
    "        print(\"end: \" , contractEndDate)\n",
    "    \n",
    "    #contractDuration = getContractDuration(file_info['sentTokens'])\n",
    "    #if(contractDuration):\n",
    "    #    print(\"duration: \" , contractDuration)\n",
    "    #print(\"\\n\")\n",
    "    \n",
    "    d={'key':'filename', 'value':fileName}\n",
    "    dfMD = pd.DataFrame(d, index=['MetaData'])\n",
    "    \n",
    "   ## df=pd.DataFrame({'key':'group_number','value':groupNumber}, index=['MetaData'])\n",
    "   ## dfMD = pd.concat([dfMD, df])\n",
    "    \n",
    "   ## df=pd.DataFrame({'key':'contract_start_date','value':contractStartDate}, index=['MetaData'])\n",
    "   ## dfMD = pd.concat([dfMD, df])\n",
    "    \n",
    "    return dfMD"
   ]
  },
  {
   "cell_type": "markdown",
   "metadata": {},
   "source": [
    "### Workspace"
   ]
  },
  {
   "cell_type": "markdown",
   "metadata": {},
   "source": [
    "##### Practice with synonyms"
   ]
  },
  {
   "cell_type": "code",
   "execution_count": null,
   "metadata": {
    "code_folding": [
     0
    ]
   },
   "outputs": [],
   "source": [
    "def testSyns(sentTokens, word1, word2):\n",
    "    syns1 = wn.synsets(word1)\n",
    "    syns2 = wn.synsets(word2)\n",
    "    #print(syns)\n",
    "    #print(syns[0].lemmas()[1].name())\n",
    "    set1 = set()\n",
    "    for syn in syns1:\n",
    "        for lem in syn.lemmas():\n",
    "            set1.add(lem.name())\n",
    "    #print(set1)\n",
    "    set2 = set()\n",
    "    for syn in syns2:\n",
    "        for lem in syn.lemmas():\n",
    "            set2.add(lem.name())\n",
    "    #print(set2)\n",
    "    word_set = set()\n",
    "    for word1 in set1:\n",
    "        for word2 in set2:\n",
    "            word_set.add(\" \".join([word1, word2]).lower())\n",
    "    #print(word_set)\n",
    "    for sent in sentTokens:\n",
    "        words = word_tokenize(sent)\n",
    "        start = 0\n",
    "        end = 1\n",
    "        #while(end < len(words)):\n",
    "            #print(\" \".join([words[start], words[end]]))\n",
    "            #if(\" \".join([words[start], words[end]]).lower() in word_set):\n",
    "                #print(\" \".join([words[start], words[end]]))\n",
    "                #print(sent)\n",
    "            #start += 1\n",
    "            #end += 1\n",
    "    return\n",
    "            \n",
    "#testSyns(sentTokens, \"effective\", \"date\")            \n"
   ]
  },
  {
   "cell_type": "code",
   "execution_count": null,
   "metadata": {
    "scrolled": true
   },
   "outputs": [],
   "source": [
    "## MetaData DataFrame Creation\n",
    "## Key                       -     Value\n",
    "## Column that we're pulling -    Number or field that we're pulling\n",
    "\n",
    "batchPreProcess()"
   ]
  },
  {
   "cell_type": "code",
   "execution_count": 46,
   "metadata": {},
   "outputs": [
    {
     "name": "stdout",
     "output_type": "stream",
     "text": [
      "/Users/sydneyknox/Documents/data-insights/jupyter-pseudocode/data/output\n",
      "Error opening and tokenizing .DS_Store\n"
     ]
    }
   ],
   "source": [
    "base_info = batchGetTokens()"
   ]
  },
  {
   "cell_type": "code",
   "execution_count": 74,
   "metadata": {
    "code_folding": [],
    "scrolled": true
   },
   "outputs": [
    {
     "name": "stdout",
     "output_type": "stream",
     "text": [
      "TX 19015 Attachment A ENT (7.2.18).txt\n",
      "{'effective', 'effectual', 'good', 'effective date\\\\S\\\\s*\\\\S', 'good date\\\\S\\\\s*\\\\S', 'in_effect date\\\\S\\\\s*\\\\S', 'in_force', 'efficient date\\\\S\\\\s*\\\\S', 'in_force date\\\\S\\\\s*\\\\S', 'efficacious', 'in_effect', 'efficient', 'efficacious date\\\\S\\\\s*\\\\S', 'effectual date\\\\S\\\\s*\\\\S'}\n",
      "start:  2018-01-01 00:00:00\n",
      "{'shorten condition', 'take term', 'constrict stop', 'abbreviate terminal_figure', 'cut condition', 'contract oddment', 'condense closing', 'undertake cease', 'contract_bridge oddment', 'narrow condition', 'press stop', 'compress end', 'sign closing', 'undertake term', 'squeeze full_term', 'condense conclusion', 'sign full_term', 'sign_on terminate', 'compress finish', 'contract_bridge term\\\\S\\\\s*\\\\S', 'contract full_term', 'contract term\\\\S\\\\s*\\\\S', 'constrict terminate', 'shorten closing', 'get term\\\\S\\\\s*\\\\S', 'reduce remainder', 'foreshorten terminus', 'abridge stop', 'abbreviate finish', 'reduce terminate', 'undertake closing', 'get death', 'concentrate terminal', 'squeeze end', 'press remainder', 'get full_term', 'get final_stage', 'abridge finish', 'constrict remainder', 'sign_up end', 'get condition', 'constrict goal', 'abbreviate conclusion', 'contract_bridge close', 'declaration destruction', 'contract_bridge full_term', 'shrink oddment', 'concentrate finish', 'take destruction', 'press destruction', 'cut closing', 'concentrate remainder', 'squeeze remainder', 'foreshorten full_term', 'undertake finish', 'abbreviate cease', 'shrink last', 'condense condition', 'abridge goal', 'condense term', 'undertake end', 'take death', 'take goal', 'reduce terminal', 'contract remainder', 'sign_up cease', 'compact terminal_figure', 'press close', 'sign_up ending', 'condense stop', 'sign_up condition', 'abridge remainder', 'sign_up term\\\\S\\\\s*\\\\S', 'squeeze terminus', 'compress terminal_figure', 'compact terminate', 'squeeze cease', 'undertake final_stage', 'foreshorten condition', 'shorten stop', 'concentrate remnant', 'take last', 'cut term', 'abridge terminal_figure', 'reduce cease', 'shorten oddment', 'sign_on finish', 'foreshorten close', 'sign_on goal', 'reduce terminal_figure', 'narrow term', 'sign oddment', 'compact full_term', 'declaration terminate', 'declaration final_stage', 'compact last', 'foreshorten finish', 'reduce ending', 'compact terminus', 'condense end', 'narrow term\\\\S\\\\s*\\\\S', 'compact remainder', 'concentrate close', 'shrink end', 'undertake conclusion', 'get terminal', 'condense ending', 'abridge end', 'take conclusion', 'constrict close', 'shorten term', 'foreshorten terminate', 'get cease', 'compress term', 'compress remnant', 'foreshorten oddment', 'contract_bridge death', 'narrow conclusion', 'take terminate', 'reduce death', 'sign terminal_figure', 'sign_on conclusion', 'squeeze destruction', 'condense finish', 'contract_bridge goal', 'compact ending', 'declaration stop', 'constrict term\\\\S\\\\s*\\\\S', 'contract_bridge remnant', 'cut full_term', 'narrow terminus', 'contract_bridge terminal', 'shrink full_term', 'condense terminate', 'concentrate destruction', 'contract ending', 'sign_on term', 'abridge closing', 'declaration term\\\\S\\\\s*\\\\S', 'shrink condition', 'abbreviate ending', 'squeeze finish', 'foreshorten cease', 'take final_stage', 'contract_bridge terminal_figure', 'get term', 'take terminal_figure', 'reduce closing', 'sign_up terminate', 'sign terminate', 'shrink term\\\\S\\\\s*\\\\S', 'declaration ending', 'compact remnant', 'foreshorten destruction', 'abbreviate goal', 'narrow oddment', 'condense death', 'concentrate term', 'contract terminus', 'contract term ', 'compress terminal', 'sign_on remainder', 'foreshorten ending', 'compact stop', 'abbreviate close', 'cut terminal', 'compress condition', 'shrink closing', 'foreshorten conclusion', 'narrow ending', 'undertake goal', 'shorten last', 'narrow death', 'contract conclusion', 'reduce finish', 'concentrate end', 'narrow end', 'contract destruction', 'abridge death', 'abbreviate term', 'press term\\\\S\\\\s*\\\\S', 'concentrate cease', 'condense terminal', 'compact term\\\\S\\\\s*\\\\S', 'reduce end', 'squeeze last', 'declaration closing', 'concentrate terminate', 'cut term\\\\S\\\\s*\\\\S', 'narrow remainder', 'get stop', 'sign_on terminal_figure', 'reduce condition', 'abbreviate remnant', 'contract finish', 'take close', 'sign_up destruction', 'reduce remnant', 'sign end', 'cut final_stage', 'get closing', 'get terminal_figure', 'abridge remnant', 'press finish', 'contract term', 'constrict terminus', 'reduce goal', 'cut ending', 'sign_on stop', 'condense terminus', 'shrink close', 'sign goal', 'shorten death', 'condense final_stage', 'sign_up oddment', 'abridge cease', 'abbreviate death', 'shrink remnant', 'compress goal', 'sign_on death', 'press final_stage', 'sign_up terminal_figure', 'abridge close', 'shrink terminal_figure', 'compress death', 'contract terminate', 'compact condition', 'compress cease', 'declaration end', 'reduce stop', 'narrow full_term', 'shorten goal', 'abbreviate term\\\\S\\\\s*\\\\S', 'declaration terminal_figure', 'undertake oddment', 'sign remainder', 'undertake ending', 'compact close', 'concentrate terminus', 'sign_on last', 'abbreviate oddment', 'squeeze goal', 'shrink term', 'compact goal', 'squeeze final_stage', 'press goal', 'sign_on term\\\\S\\\\s*\\\\S', 'contract_bridge closing', 'cut stop', 'compress oddment', 'declaration full_term', 'squeeze close', 'compact final_stage', 'sign stop', 'compress remainder', 'contract_bridge term', 'foreshorten terminal', 'shorten terminal_figure', 'concentrate stop', 'cut conclusion', 'squeeze closing', 'shorten final_stage', 'compress destruction', 'press full_term', 'take terminus', 'squeeze stop', 'compress conclusion', 'condense term\\\\S\\\\s*\\\\S', 'abridge ending', 'sign_on cease', 'compress last', 'take ending', 'press terminal', 'abbreviate stop', 'compress stop', 'squeeze conclusion', 'declaration condition', 'abridge last', 'sign_on final_stage', 'contract cease', 'press death', 'shrink conclusion', 'take remnant', 'concentrate full_term', 'abridge terminal', 'declaration close', 'cut oddment', 'sign_up stop', 'sign_up death', 'press conclusion', 'undertake terminate', 'cut last', 'foreshorten closing', 'narrow goal', 'shrink cease', 'constrict end', 'cut terminus', 'foreshorten final_stage', 'contract end', 'sign_on closing', 'take oddment', 'narrow terminal_figure', 'cut remnant', 'press remnant', 'foreshorten term', 'squeeze term', 'narrow stop', 'compact destruction', 'sign_up full_term', 'undertake term\\\\S\\\\s*\\\\S', 'shorten cease', 'contract remnant', 'contract condition', 'shorten ending', 'contract goal', 'shorten terminate', 'shorten conclusion', 'undertake terminal_figure', 'shrink terminal', 'undertake full_term', 'constrict term', 'declaration finish', 'contract_bridge terminus', 'declaration death', 'concentrate term\\\\S\\\\s*\\\\S', 'abbreviate full_term', 'concentrate goal', 'shorten finish', 'abridge conclusion', 'compact conclusion', 'declaration terminal', 'contract_bridge terminate', 'shorten destruction', 'take term\\\\S\\\\s*\\\\S', 'condense last', 'foreshorten stop', 'shrink remainder', 'shorten remnant', 'sign_on full_term', 'sign_on destruction', 'shorten terminal', 'sign_up close', 'shorten full_term', 'cut terminate', 'contract_bridge stop', 'take stop', 'shrink terminus', 'narrow cease', 'get end', 'cut terminal_figure', 'sign_up last', 'contract_bridge last', 'get last', 'contract final_stage', 'foreshorten remainder', 'narrow final_stage', 'condense cease', 'undertake condition', 'sign_up term', 'abridge oddment', 'abridge terminate', 'sign_on end', 'contract_bridge remainder', 'reduce conclusion', 'reduce terminus', 'sign term', 'declaration last', 'shrink finish', 'cut destruction', 'take condition', 'undertake remnant', 'sign_on ending', 'take full_term', 'press ending', 'sign terminus', 'sign last', 'declaration oddment', 'sign death', 'shorten close', 'abbreviate last', 'sign_up remnant', 'foreshorten remnant', 'cut goal', 'squeeze terminal_figure', 'undertake close', 'contract_bridge final_stage', 'sign_up closing', 'concentrate oddment', 'declaration conclusion', 'get remnant', 'abridge term', 'take terminal', 'undertake destruction', 'shrink terminate', 'abbreviate terminus', 'take finish', 'reduce close', 'contract_bridge conclusion', 'press end', 'contract death', 'sign_up goal', 'compress term\\\\S\\\\s*\\\\S', 'abridge condition', 'get ending', 'abbreviate terminal', 'narrow remnant', 'undertake last', 'get terminate', 'shrink destruction', 'shorten remainder', 'get finish', 'abbreviate destruction', 'reduce term\\\\S\\\\s*\\\\S', 'get remainder', 'reduce full_term', 'contract_bridge end', 'get terminus', 'shrink ending', 'squeeze ending', 'contract_bridge cease', 'cut death', 'contract_bridge ending', 'contract close', 'get destruction', 'sign_on close', 'concentrate conclusion', 'condense remnant', 'sign destruction', 'sign terminal', 'declaration goal', 'cut end', 'squeeze terminal', 'get goal', 'shrink goal', 'undertake stop', 'compress full_term', 'abbreviate end', 'condense close', 'narrow terminal', 'condense full_term', 'press last', 'sign_up terminal', 'take closing', 'sign_on terminus', 'foreshorten goal', 'foreshorten death', 'undertake terminal', 'foreshorten last', 'press terminate', 'abridge destruction', 'condense destruction', 'declaration term', 'abbreviate condition', 'condense goal', 'concentrate death', 'declaration cease', 'shrink death', 'compress ending', 'constrict cease', 'compact oddment', 'compress final_stage', 'constrict terminal', 'reduce term', 'shorten terminus', 'constrict terminal_figure', 'sign_on condition', 'press closing', 'concentrate final_stage', 'press term', 'compact finish', 'squeeze remnant', 'take cease', 'constrict destruction', 'contract closing', 'sign_up finish', 'get close', 'declaration remainder', 'shrink final_stage', 'undertake remainder', 'abridge final_stage', 'sign_on terminal', 'sign_up conclusion', 'sign finish', 'sign remnant', 'shorten term\\\\S\\\\s*\\\\S', 'narrow last', 'abbreviate closing', 'compress closing', 'sign close', 'sign cease', 'foreshorten terminal_figure', 'constrict remnant', 'press terminus', 'squeeze terminate', 'concentrate closing', 'contract_bridge condition', 'sign term\\\\S\\\\s*\\\\S', 'take remainder', 'sign_up final_stage', 'abbreviate terminate', 'undertake terminus', 'constrict last', 'constrict condition', 'reduce destruction', 'compact cease', 'undertake death', 'reduce final_stage', 'contract terminal_figure', 'sign_up terminus', 'compact closing', 'sign_on oddment', 'press terminal_figure', 'compact terminal', 'contract terminal', 'reduce oddment', 'constrict ending', 'squeeze oddment', 'condense terminal_figure', 'concentrate last', 'compress terminate', 'shrink stop', 'sign ending', 'declaration terminus', 'declaration remnant', 'sign condition', 'contract_bridge finish', 'compact end', 'squeeze term\\\\S\\\\s*\\\\S', 'abridge full_term', 'constrict death', 'concentrate terminal_figure', 'constrict final_stage', 'contract last', 'compress close', 'contract stop', 'cut finish', 'narrow terminate', 'constrict finish', 'abridge terminus', 'constrict oddment', 'cut remainder', 'squeeze death', 'take end', 'constrict full_term', 'compact death', 'contract_bridge destruction', 'concentrate condition', 'get conclusion', 'constrict conclusion', 'cut cease', 'compress terminus', 'press condition', 'constrict closing', 'narrow closing', 'narrow destruction', 'compact term', 'abbreviate remainder', 'press oddment', 'sign_on remnant', 'abridge term\\\\S\\\\s*\\\\S', 'get oddment', 'concentrate ending', 'foreshorten term\\\\S\\\\s*\\\\S', 'reduce last', 'sign_up remainder', 'squeeze condition', 'shorten end', 'press cease', 'sign conclusion', 'condense oddment', 'foreshorten end', 'condense remainder', 'narrow finish', 'abbreviate final_stage', 'sign final_stage', 'narrow close', 'cut close'}\n",
      "TX 17404 EOC Regional (7.2.18).txt\n",
      "{'effective', 'effectual', 'good', 'effective date\\\\S\\\\s*\\\\S', 'good date\\\\S\\\\s*\\\\S', 'in_effect date\\\\S\\\\s*\\\\S', 'in_force', 'efficient date\\\\S\\\\s*\\\\S', 'in_force date\\\\S\\\\s*\\\\S', 'efficacious', 'in_effect', 'efficient', 'efficacious date\\\\S\\\\s*\\\\S', 'effectual date\\\\S\\\\s*\\\\S'}\n",
      "start:  2017-10-01 00:00:00\n",
      "{'shorten condition', 'take term', 'constrict stop', 'abbreviate terminal_figure', 'cut condition', 'contract oddment', 'condense closing', 'undertake cease', 'contract_bridge oddment', 'narrow condition', 'press stop', 'compress end', 'sign closing', 'undertake term', 'squeeze full_term', 'condense conclusion', 'sign full_term', 'sign_on terminate', 'compress finish', 'contract_bridge term\\\\S\\\\s*\\\\S', 'contract full_term', 'contract term\\\\S\\\\s*\\\\S', 'constrict terminate', 'shorten closing', 'get term\\\\S\\\\s*\\\\S', 'reduce remainder', 'foreshorten terminus', 'abridge stop', 'abbreviate finish', 'reduce terminate', 'undertake closing', 'get death', 'concentrate terminal', 'squeeze end', 'press remainder', 'get full_term', 'get final_stage', 'abridge finish', 'constrict remainder', 'sign_up end', 'get condition', 'constrict goal', 'abbreviate conclusion', 'contract_bridge close', 'declaration destruction', 'contract_bridge full_term', 'shrink oddment', 'concentrate finish', 'take destruction', 'press destruction', 'cut closing', 'concentrate remainder', 'squeeze remainder', 'foreshorten full_term', 'undertake finish', 'abbreviate cease', 'shrink last', 'condense condition', 'abridge goal', 'condense term', 'undertake end', 'take death', 'take goal', 'reduce terminal', 'contract remainder', 'sign_up cease', 'compact terminal_figure', 'press close', 'sign_up ending', 'condense stop', 'sign_up condition', 'abridge remainder', 'sign_up term\\\\S\\\\s*\\\\S', 'squeeze terminus', 'compress terminal_figure', 'compact terminate', 'squeeze cease', 'undertake final_stage', 'foreshorten condition', 'shorten stop', 'concentrate remnant', 'take last', 'cut term', 'abridge terminal_figure', 'reduce cease', 'shorten oddment', 'sign_on finish', 'foreshorten close', 'sign_on goal', 'reduce terminal_figure', 'narrow term', 'sign oddment', 'compact full_term', 'declaration terminate', 'declaration final_stage', 'compact last', 'foreshorten finish', 'reduce ending', 'compact terminus', 'condense end', 'narrow term\\\\S\\\\s*\\\\S', 'compact remainder', 'concentrate close', 'shrink end', 'undertake conclusion', 'get terminal', 'condense ending', 'abridge end', 'take conclusion', 'constrict close', 'shorten term', 'foreshorten terminate', 'get cease', 'compress term', 'compress remnant', 'foreshorten oddment', 'contract_bridge death', 'narrow conclusion', 'take terminate', 'reduce death', 'sign terminal_figure', 'sign_on conclusion', 'squeeze destruction', 'condense finish', 'contract_bridge goal', 'compact ending', 'declaration stop', 'constrict term\\\\S\\\\s*\\\\S', 'contract_bridge remnant', 'cut full_term', 'narrow terminus', 'contract_bridge terminal', 'shrink full_term', 'condense terminate', 'concentrate destruction', 'contract ending', 'sign_on term', 'abridge closing', 'declaration term\\\\S\\\\s*\\\\S', 'shrink condition', 'abbreviate ending', 'squeeze finish', 'foreshorten cease', 'take final_stage', 'contract_bridge terminal_figure', 'get term', 'take terminal_figure', 'reduce closing', 'sign_up terminate', 'sign terminate', 'shrink term\\\\S\\\\s*\\\\S', 'declaration ending', 'compact remnant', 'foreshorten destruction', 'abbreviate goal', 'narrow oddment', 'condense death', 'concentrate term', 'contract terminus', 'contract term ', 'compress terminal', 'sign_on remainder', 'foreshorten ending', 'compact stop', 'abbreviate close', 'cut terminal', 'compress condition', 'shrink closing', 'foreshorten conclusion', 'narrow ending', 'undertake goal', 'shorten last', 'narrow death', 'contract conclusion', 'reduce finish', 'concentrate end', 'narrow end', 'contract destruction', 'abridge death', 'abbreviate term', 'press term\\\\S\\\\s*\\\\S', 'concentrate cease', 'condense terminal', 'compact term\\\\S\\\\s*\\\\S', 'reduce end', 'squeeze last', 'declaration closing', 'concentrate terminate', 'cut term\\\\S\\\\s*\\\\S', 'narrow remainder', 'get stop', 'sign_on terminal_figure', 'reduce condition', 'abbreviate remnant', 'contract finish', 'take close', 'sign_up destruction', 'reduce remnant', 'sign end', 'cut final_stage', 'get closing', 'get terminal_figure', 'abridge remnant', 'press finish', 'contract term', 'constrict terminus', 'reduce goal', 'cut ending', 'sign_on stop', 'condense terminus', 'shrink close', 'sign goal', 'shorten death', 'condense final_stage', 'sign_up oddment', 'abridge cease', 'abbreviate death', 'shrink remnant', 'compress goal', 'sign_on death', 'press final_stage', 'sign_up terminal_figure', 'abridge close', 'shrink terminal_figure', 'compress death', 'contract terminate', 'compact condition', 'compress cease', 'declaration end', 'reduce stop', 'narrow full_term', 'shorten goal', 'abbreviate term\\\\S\\\\s*\\\\S', 'declaration terminal_figure', 'undertake oddment', 'sign remainder', 'undertake ending', 'compact close', 'concentrate terminus', 'sign_on last', 'abbreviate oddment', 'squeeze goal', 'shrink term', 'compact goal', 'squeeze final_stage', 'press goal', 'sign_on term\\\\S\\\\s*\\\\S', 'contract_bridge closing', 'cut stop', 'compress oddment', 'declaration full_term', 'squeeze close', 'compact final_stage', 'sign stop', 'compress remainder', 'contract_bridge term', 'foreshorten terminal', 'shorten terminal_figure', 'concentrate stop', 'cut conclusion', 'squeeze closing', 'shorten final_stage', 'compress destruction', 'press full_term', 'take terminus', 'squeeze stop', 'compress conclusion', 'condense term\\\\S\\\\s*\\\\S', 'abridge ending', 'sign_on cease', 'compress last', 'take ending', 'press terminal', 'abbreviate stop', 'compress stop', 'squeeze conclusion', 'declaration condition', 'abridge last', 'sign_on final_stage', 'contract cease', 'press death', 'shrink conclusion', 'take remnant', 'concentrate full_term', 'abridge terminal', 'declaration close', 'cut oddment', 'sign_up stop', 'sign_up death', 'press conclusion', 'undertake terminate', 'cut last', 'foreshorten closing', 'narrow goal', 'shrink cease', 'constrict end', 'cut terminus', 'foreshorten final_stage', 'contract end', 'sign_on closing', 'take oddment', 'narrow terminal_figure', 'cut remnant', 'press remnant', 'foreshorten term', 'squeeze term', 'narrow stop', 'compact destruction', 'sign_up full_term', 'undertake term\\\\S\\\\s*\\\\S', 'shorten cease', 'contract remnant', 'contract condition', 'shorten ending', 'contract goal', 'shorten terminate', 'shorten conclusion', 'undertake terminal_figure', 'shrink terminal', 'undertake full_term', 'constrict term', 'declaration finish', 'contract_bridge terminus', 'declaration death', 'concentrate term\\\\S\\\\s*\\\\S', 'abbreviate full_term', 'concentrate goal', 'shorten finish', 'abridge conclusion', 'compact conclusion', 'declaration terminal', 'contract_bridge terminate', 'shorten destruction', 'take term\\\\S\\\\s*\\\\S', 'condense last', 'foreshorten stop', 'shrink remainder', 'shorten remnant', 'sign_on full_term', 'sign_on destruction', 'shorten terminal', 'sign_up close', 'shorten full_term', 'cut terminate', 'contract_bridge stop', 'take stop', 'shrink terminus', 'narrow cease', 'get end', 'cut terminal_figure', 'sign_up last', 'contract_bridge last', 'get last', 'contract final_stage', 'foreshorten remainder', 'narrow final_stage', 'condense cease', 'undertake condition', 'sign_up term', 'abridge oddment', 'abridge terminate', 'sign_on end', 'contract_bridge remainder', 'reduce conclusion', 'reduce terminus', 'sign term', 'declaration last', 'shrink finish', 'cut destruction', 'take condition', 'undertake remnant', 'sign_on ending', 'take full_term', 'press ending', 'sign terminus', 'sign last', 'declaration oddment', 'sign death', 'shorten close', 'abbreviate last', 'sign_up remnant', 'foreshorten remnant', 'cut goal', 'squeeze terminal_figure', 'undertake close', 'contract_bridge final_stage', 'sign_up closing', 'concentrate oddment', 'declaration conclusion', 'get remnant', 'abridge term', 'take terminal', 'undertake destruction', 'shrink terminate', 'abbreviate terminus', 'take finish', 'reduce close', 'contract_bridge conclusion', 'press end', 'contract death', 'sign_up goal', 'compress term\\\\S\\\\s*\\\\S', 'abridge condition', 'get ending', 'abbreviate terminal', 'narrow remnant', 'undertake last', 'get terminate', 'shrink destruction', 'shorten remainder', 'get finish', 'abbreviate destruction', 'reduce term\\\\S\\\\s*\\\\S', 'get remainder', 'reduce full_term', 'contract_bridge end', 'get terminus', 'shrink ending', 'squeeze ending', 'contract_bridge cease', 'cut death', 'contract_bridge ending', 'contract close', 'get destruction', 'sign_on close', 'concentrate conclusion', 'condense remnant', 'sign destruction', 'sign terminal', 'declaration goal', 'cut end', 'squeeze terminal', 'get goal', 'shrink goal', 'undertake stop', 'compress full_term', 'abbreviate end', 'condense close', 'narrow terminal', 'condense full_term', 'press last', 'sign_up terminal', 'take closing', 'sign_on terminus', 'foreshorten goal', 'foreshorten death', 'undertake terminal', 'foreshorten last', 'press terminate', 'abridge destruction', 'condense destruction', 'declaration term', 'abbreviate condition', 'condense goal', 'concentrate death', 'declaration cease', 'shrink death', 'compress ending', 'constrict cease', 'compact oddment', 'compress final_stage', 'constrict terminal', 'reduce term', 'shorten terminus', 'constrict terminal_figure', 'sign_on condition', 'press closing', 'concentrate final_stage', 'press term', 'compact finish', 'squeeze remnant', 'take cease', 'constrict destruction', 'contract closing', 'sign_up finish', 'get close', 'declaration remainder', 'shrink final_stage', 'undertake remainder', 'abridge final_stage', 'sign_on terminal', 'sign_up conclusion', 'sign finish', 'sign remnant', 'shorten term\\\\S\\\\s*\\\\S', 'narrow last', 'abbreviate closing', 'compress closing', 'sign close', 'sign cease', 'foreshorten terminal_figure', 'constrict remnant', 'press terminus', 'squeeze terminate', 'concentrate closing', 'contract_bridge condition', 'sign term\\\\S\\\\s*\\\\S', 'take remainder', 'sign_up final_stage', 'abbreviate terminate', 'undertake terminus', 'constrict last', 'constrict condition', 'reduce destruction', 'compact cease', 'undertake death', 'reduce final_stage', 'contract terminal_figure', 'sign_up terminus', 'compact closing', 'sign_on oddment', 'press terminal_figure', 'compact terminal', 'contract terminal', 'reduce oddment', 'constrict ending', 'squeeze oddment', 'condense terminal_figure', 'concentrate last', 'compress terminate', 'shrink stop', 'sign ending', 'declaration terminus', 'declaration remnant', 'sign condition', 'contract_bridge finish', 'compact end', 'squeeze term\\\\S\\\\s*\\\\S', 'abridge full_term', 'constrict death', 'concentrate terminal_figure', 'constrict final_stage', 'contract last', 'compress close', 'contract stop', 'cut finish', 'narrow terminate', 'constrict finish', 'abridge terminus', 'constrict oddment', 'cut remainder', 'squeeze death', 'take end', 'constrict full_term', 'compact death', 'contract_bridge destruction', 'concentrate condition', 'get conclusion', 'constrict conclusion', 'cut cease', 'compress terminus', 'press condition', 'constrict closing', 'narrow closing', 'narrow destruction', 'compact term', 'abbreviate remainder', 'press oddment', 'sign_on remnant', 'abridge term\\\\S\\\\s*\\\\S', 'get oddment', 'concentrate ending', 'foreshorten term\\\\S\\\\s*\\\\S', 'reduce last', 'sign_up remainder', 'squeeze condition', 'shorten end', 'press cease', 'sign conclusion', 'condense oddment', 'foreshorten end', 'condense remainder', 'narrow finish', 'abbreviate final_stage', 'sign final_stage', 'narrow close', 'cut close'}\n",
      "TX 17404 EOC (Regional (7.2.18)-pdf.txt\n",
      "{'effective', 'effectual', 'good', 'effective date\\\\S\\\\s*\\\\S', 'good date\\\\S\\\\s*\\\\S', 'in_effect date\\\\S\\\\s*\\\\S', 'in_force', 'efficient date\\\\S\\\\s*\\\\S', 'in_force date\\\\S\\\\s*\\\\S', 'efficacious', 'in_effect', 'efficient', 'efficacious date\\\\S\\\\s*\\\\S', 'effectual date\\\\S\\\\s*\\\\S'}\n"
     ]
    },
    {
     "name": "stdout",
     "output_type": "stream",
     "text": [
      "start:  2013-07-01 00:00:00\n",
      "{'shorten condition', 'take term', 'constrict stop', 'abbreviate terminal_figure', 'cut condition', 'contract oddment', 'condense closing', 'undertake cease', 'contract_bridge oddment', 'narrow condition', 'press stop', 'compress end', 'sign closing', 'undertake term', 'squeeze full_term', 'condense conclusion', 'sign full_term', 'sign_on terminate', 'compress finish', 'contract_bridge term\\\\S\\\\s*\\\\S', 'contract full_term', 'contract term\\\\S\\\\s*\\\\S', 'constrict terminate', 'shorten closing', 'get term\\\\S\\\\s*\\\\S', 'reduce remainder', 'foreshorten terminus', 'abridge stop', 'abbreviate finish', 'reduce terminate', 'undertake closing', 'get death', 'concentrate terminal', 'squeeze end', 'press remainder', 'get full_term', 'get final_stage', 'abridge finish', 'constrict remainder', 'sign_up end', 'get condition', 'constrict goal', 'abbreviate conclusion', 'contract_bridge close', 'declaration destruction', 'contract_bridge full_term', 'shrink oddment', 'concentrate finish', 'take destruction', 'press destruction', 'cut closing', 'concentrate remainder', 'squeeze remainder', 'foreshorten full_term', 'undertake finish', 'abbreviate cease', 'shrink last', 'condense condition', 'abridge goal', 'condense term', 'undertake end', 'take death', 'take goal', 'reduce terminal', 'contract remainder', 'sign_up cease', 'compact terminal_figure', 'press close', 'sign_up ending', 'condense stop', 'sign_up condition', 'abridge remainder', 'sign_up term\\\\S\\\\s*\\\\S', 'squeeze terminus', 'compress terminal_figure', 'compact terminate', 'squeeze cease', 'undertake final_stage', 'foreshorten condition', 'shorten stop', 'concentrate remnant', 'take last', 'cut term', 'abridge terminal_figure', 'reduce cease', 'shorten oddment', 'sign_on finish', 'foreshorten close', 'sign_on goal', 'reduce terminal_figure', 'narrow term', 'sign oddment', 'compact full_term', 'declaration terminate', 'declaration final_stage', 'compact last', 'foreshorten finish', 'reduce ending', 'compact terminus', 'condense end', 'narrow term\\\\S\\\\s*\\\\S', 'compact remainder', 'concentrate close', 'shrink end', 'undertake conclusion', 'get terminal', 'condense ending', 'abridge end', 'take conclusion', 'constrict close', 'shorten term', 'foreshorten terminate', 'get cease', 'compress term', 'compress remnant', 'foreshorten oddment', 'contract_bridge death', 'narrow conclusion', 'take terminate', 'reduce death', 'sign terminal_figure', 'sign_on conclusion', 'squeeze destruction', 'condense finish', 'contract_bridge goal', 'compact ending', 'declaration stop', 'constrict term\\\\S\\\\s*\\\\S', 'contract_bridge remnant', 'cut full_term', 'narrow terminus', 'contract_bridge terminal', 'shrink full_term', 'condense terminate', 'concentrate destruction', 'contract ending', 'sign_on term', 'abridge closing', 'declaration term\\\\S\\\\s*\\\\S', 'shrink condition', 'abbreviate ending', 'squeeze finish', 'foreshorten cease', 'take final_stage', 'contract_bridge terminal_figure', 'get term', 'take terminal_figure', 'reduce closing', 'sign_up terminate', 'sign terminate', 'shrink term\\\\S\\\\s*\\\\S', 'declaration ending', 'compact remnant', 'foreshorten destruction', 'abbreviate goal', 'narrow oddment', 'condense death', 'concentrate term', 'contract terminus', 'contract term ', 'compress terminal', 'sign_on remainder', 'foreshorten ending', 'compact stop', 'abbreviate close', 'cut terminal', 'compress condition', 'shrink closing', 'foreshorten conclusion', 'narrow ending', 'undertake goal', 'shorten last', 'narrow death', 'contract conclusion', 'reduce finish', 'concentrate end', 'narrow end', 'contract destruction', 'abridge death', 'abbreviate term', 'press term\\\\S\\\\s*\\\\S', 'concentrate cease', 'condense terminal', 'compact term\\\\S\\\\s*\\\\S', 'reduce end', 'squeeze last', 'declaration closing', 'concentrate terminate', 'cut term\\\\S\\\\s*\\\\S', 'narrow remainder', 'get stop', 'sign_on terminal_figure', 'reduce condition', 'abbreviate remnant', 'contract finish', 'take close', 'sign_up destruction', 'reduce remnant', 'sign end', 'cut final_stage', 'get closing', 'get terminal_figure', 'abridge remnant', 'press finish', 'contract term', 'constrict terminus', 'reduce goal', 'cut ending', 'sign_on stop', 'condense terminus', 'shrink close', 'sign goal', 'shorten death', 'condense final_stage', 'sign_up oddment', 'abridge cease', 'abbreviate death', 'shrink remnant', 'compress goal', 'sign_on death', 'press final_stage', 'sign_up terminal_figure', 'abridge close', 'shrink terminal_figure', 'compress death', 'contract terminate', 'compact condition', 'compress cease', 'declaration end', 'reduce stop', 'narrow full_term', 'shorten goal', 'abbreviate term\\\\S\\\\s*\\\\S', 'declaration terminal_figure', 'undertake oddment', 'sign remainder', 'undertake ending', 'compact close', 'concentrate terminus', 'sign_on last', 'abbreviate oddment', 'squeeze goal', 'shrink term', 'compact goal', 'squeeze final_stage', 'press goal', 'sign_on term\\\\S\\\\s*\\\\S', 'contract_bridge closing', 'cut stop', 'compress oddment', 'declaration full_term', 'squeeze close', 'compact final_stage', 'sign stop', 'compress remainder', 'contract_bridge term', 'foreshorten terminal', 'shorten terminal_figure', 'concentrate stop', 'cut conclusion', 'squeeze closing', 'shorten final_stage', 'compress destruction', 'press full_term', 'take terminus', 'squeeze stop', 'compress conclusion', 'condense term\\\\S\\\\s*\\\\S', 'abridge ending', 'sign_on cease', 'compress last', 'take ending', 'press terminal', 'abbreviate stop', 'compress stop', 'squeeze conclusion', 'declaration condition', 'abridge last', 'sign_on final_stage', 'contract cease', 'press death', 'shrink conclusion', 'take remnant', 'concentrate full_term', 'abridge terminal', 'declaration close', 'cut oddment', 'sign_up stop', 'sign_up death', 'press conclusion', 'undertake terminate', 'cut last', 'foreshorten closing', 'narrow goal', 'shrink cease', 'constrict end', 'cut terminus', 'foreshorten final_stage', 'contract end', 'sign_on closing', 'take oddment', 'narrow terminal_figure', 'cut remnant', 'press remnant', 'foreshorten term', 'squeeze term', 'narrow stop', 'compact destruction', 'sign_up full_term', 'undertake term\\\\S\\\\s*\\\\S', 'shorten cease', 'contract remnant', 'contract condition', 'shorten ending', 'contract goal', 'shorten terminate', 'shorten conclusion', 'undertake terminal_figure', 'shrink terminal', 'undertake full_term', 'constrict term', 'declaration finish', 'contract_bridge terminus', 'declaration death', 'concentrate term\\\\S\\\\s*\\\\S', 'abbreviate full_term', 'concentrate goal', 'shorten finish', 'abridge conclusion', 'compact conclusion', 'declaration terminal', 'contract_bridge terminate', 'shorten destruction', 'take term\\\\S\\\\s*\\\\S', 'condense last', 'foreshorten stop', 'shrink remainder', 'shorten remnant', 'sign_on full_term', 'sign_on destruction', 'shorten terminal', 'sign_up close', 'shorten full_term', 'cut terminate', 'contract_bridge stop', 'take stop', 'shrink terminus', 'narrow cease', 'get end', 'cut terminal_figure', 'sign_up last', 'contract_bridge last', 'get last', 'contract final_stage', 'foreshorten remainder', 'narrow final_stage', 'condense cease', 'undertake condition', 'sign_up term', 'abridge oddment', 'abridge terminate', 'sign_on end', 'contract_bridge remainder', 'reduce conclusion', 'reduce terminus', 'sign term', 'declaration last', 'shrink finish', 'cut destruction', 'take condition', 'undertake remnant', 'sign_on ending', 'take full_term', 'press ending', 'sign terminus', 'sign last', 'declaration oddment', 'sign death', 'shorten close', 'abbreviate last', 'sign_up remnant', 'foreshorten remnant', 'cut goal', 'squeeze terminal_figure', 'undertake close', 'contract_bridge final_stage', 'sign_up closing', 'concentrate oddment', 'declaration conclusion', 'get remnant', 'abridge term', 'take terminal', 'undertake destruction', 'shrink terminate', 'abbreviate terminus', 'take finish', 'reduce close', 'contract_bridge conclusion', 'press end', 'contract death', 'sign_up goal', 'compress term\\\\S\\\\s*\\\\S', 'abridge condition', 'get ending', 'abbreviate terminal', 'narrow remnant', 'undertake last', 'get terminate', 'shrink destruction', 'shorten remainder', 'get finish', 'abbreviate destruction', 'reduce term\\\\S\\\\s*\\\\S', 'get remainder', 'reduce full_term', 'contract_bridge end', 'get terminus', 'shrink ending', 'squeeze ending', 'contract_bridge cease', 'cut death', 'contract_bridge ending', 'contract close', 'get destruction', 'sign_on close', 'concentrate conclusion', 'condense remnant', 'sign destruction', 'sign terminal', 'declaration goal', 'cut end', 'squeeze terminal', 'get goal', 'shrink goal', 'undertake stop', 'compress full_term', 'abbreviate end', 'condense close', 'narrow terminal', 'condense full_term', 'press last', 'sign_up terminal', 'take closing', 'sign_on terminus', 'foreshorten goal', 'foreshorten death', 'undertake terminal', 'foreshorten last', 'press terminate', 'abridge destruction', 'condense destruction', 'declaration term', 'abbreviate condition', 'condense goal', 'concentrate death', 'declaration cease', 'shrink death', 'compress ending', 'constrict cease', 'compact oddment', 'compress final_stage', 'constrict terminal', 'reduce term', 'shorten terminus', 'constrict terminal_figure', 'sign_on condition', 'press closing', 'concentrate final_stage', 'press term', 'compact finish', 'squeeze remnant', 'take cease', 'constrict destruction', 'contract closing', 'sign_up finish', 'get close', 'declaration remainder', 'shrink final_stage', 'undertake remainder', 'abridge final_stage', 'sign_on terminal', 'sign_up conclusion', 'sign finish', 'sign remnant', 'shorten term\\\\S\\\\s*\\\\S', 'narrow last', 'abbreviate closing', 'compress closing', 'sign close', 'sign cease', 'foreshorten terminal_figure', 'constrict remnant', 'press terminus', 'squeeze terminate', 'concentrate closing', 'contract_bridge condition', 'sign term\\\\S\\\\s*\\\\S', 'take remainder', 'sign_up final_stage', 'abbreviate terminate', 'undertake terminus', 'constrict last', 'constrict condition', 'reduce destruction', 'compact cease', 'undertake death', 'reduce final_stage', 'contract terminal_figure', 'sign_up terminus', 'compact closing', 'sign_on oddment', 'press terminal_figure', 'compact terminal', 'contract terminal', 'reduce oddment', 'constrict ending', 'squeeze oddment', 'condense terminal_figure', 'concentrate last', 'compress terminate', 'shrink stop', 'sign ending', 'declaration terminus', 'declaration remnant', 'sign condition', 'contract_bridge finish', 'compact end', 'squeeze term\\\\S\\\\s*\\\\S', 'abridge full_term', 'constrict death', 'concentrate terminal_figure', 'constrict final_stage', 'contract last', 'compress close', 'contract stop', 'cut finish', 'narrow terminate', 'constrict finish', 'abridge terminus', 'constrict oddment', 'cut remainder', 'squeeze death', 'take end', 'constrict full_term', 'compact death', 'contract_bridge destruction', 'concentrate condition', 'get conclusion', 'constrict conclusion', 'cut cease', 'compress terminus', 'press condition', 'constrict closing', 'narrow closing', 'narrow destruction', 'compact term', 'abbreviate remainder', 'press oddment', 'sign_on remnant', 'abridge term\\\\S\\\\s*\\\\S', 'get oddment', 'concentrate ending', 'foreshorten term\\\\S\\\\s*\\\\S', 'reduce last', 'sign_up remainder', 'squeeze condition', 'shorten end', 'press cease', 'sign conclusion', 'condense oddment', 'foreshorten end', 'condense remainder', 'narrow finish', 'abbreviate final_stage', 'sign final_stage', 'narrow close', 'cut close'}\n",
      "TX-19278 ASC-ENT (7.2.18).txt\n",
      "{'effective', 'effectual', 'good', 'effective date\\\\S\\\\s*\\\\S', 'good date\\\\S\\\\s*\\\\S', 'in_effect date\\\\S\\\\s*\\\\S', 'in_force', 'efficient date\\\\S\\\\s*\\\\S', 'in_force date\\\\S\\\\s*\\\\S', 'efficacious', 'in_effect', 'efficient', 'efficacious date\\\\S\\\\s*\\\\S', 'effectual date\\\\S\\\\s*\\\\S'}\n"
     ]
    },
    {
     "name": "stdout",
     "output_type": "stream",
     "text": [
      "start:  2018-03-01 00:00:00\n",
      "{'shorten condition', 'take term', 'constrict stop', 'abbreviate terminal_figure', 'cut condition', 'contract oddment', 'condense closing', 'undertake cease', 'contract_bridge oddment', 'narrow condition', 'press stop', 'compress end', 'sign closing', 'undertake term', 'squeeze full_term', 'condense conclusion', 'sign full_term', 'sign_on terminate', 'compress finish', 'contract_bridge term\\\\S\\\\s*\\\\S', 'contract full_term', 'contract term\\\\S\\\\s*\\\\S', 'constrict terminate', 'shorten closing', 'get term\\\\S\\\\s*\\\\S', 'reduce remainder', 'foreshorten terminus', 'abridge stop', 'abbreviate finish', 'reduce terminate', 'undertake closing', 'get death', 'concentrate terminal', 'squeeze end', 'press remainder', 'get full_term', 'get final_stage', 'abridge finish', 'constrict remainder', 'sign_up end', 'get condition', 'constrict goal', 'abbreviate conclusion', 'contract_bridge close', 'declaration destruction', 'contract_bridge full_term', 'shrink oddment', 'concentrate finish', 'take destruction', 'press destruction', 'cut closing', 'concentrate remainder', 'squeeze remainder', 'foreshorten full_term', 'undertake finish', 'abbreviate cease', 'shrink last', 'condense condition', 'abridge goal', 'condense term', 'undertake end', 'take death', 'take goal', 'reduce terminal', 'contract remainder', 'sign_up cease', 'compact terminal_figure', 'press close', 'sign_up ending', 'condense stop', 'sign_up condition', 'abridge remainder', 'sign_up term\\\\S\\\\s*\\\\S', 'squeeze terminus', 'compress terminal_figure', 'compact terminate', 'squeeze cease', 'undertake final_stage', 'foreshorten condition', 'shorten stop', 'concentrate remnant', 'take last', 'cut term', 'abridge terminal_figure', 'reduce cease', 'shorten oddment', 'sign_on finish', 'foreshorten close', 'sign_on goal', 'reduce terminal_figure', 'narrow term', 'sign oddment', 'compact full_term', 'declaration terminate', 'declaration final_stage', 'compact last', 'foreshorten finish', 'reduce ending', 'compact terminus', 'condense end', 'narrow term\\\\S\\\\s*\\\\S', 'compact remainder', 'concentrate close', 'shrink end', 'undertake conclusion', 'get terminal', 'condense ending', 'abridge end', 'take conclusion', 'constrict close', 'shorten term', 'foreshorten terminate', 'get cease', 'compress term', 'compress remnant', 'foreshorten oddment', 'contract_bridge death', 'narrow conclusion', 'take terminate', 'reduce death', 'sign terminal_figure', 'sign_on conclusion', 'squeeze destruction', 'condense finish', 'contract_bridge goal', 'compact ending', 'declaration stop', 'constrict term\\\\S\\\\s*\\\\S', 'contract_bridge remnant', 'cut full_term', 'narrow terminus', 'contract_bridge terminal', 'shrink full_term', 'condense terminate', 'concentrate destruction', 'contract ending', 'sign_on term', 'abridge closing', 'declaration term\\\\S\\\\s*\\\\S', 'shrink condition', 'abbreviate ending', 'squeeze finish', 'foreshorten cease', 'take final_stage', 'contract_bridge terminal_figure', 'get term', 'take terminal_figure', 'reduce closing', 'sign_up terminate', 'sign terminate', 'shrink term\\\\S\\\\s*\\\\S', 'declaration ending', 'compact remnant', 'foreshorten destruction', 'abbreviate goal', 'narrow oddment', 'condense death', 'concentrate term', 'contract terminus', 'contract term ', 'compress terminal', 'sign_on remainder', 'foreshorten ending', 'compact stop', 'abbreviate close', 'cut terminal', 'compress condition', 'shrink closing', 'foreshorten conclusion', 'narrow ending', 'undertake goal', 'shorten last', 'narrow death', 'contract conclusion', 'reduce finish', 'concentrate end', 'narrow end', 'contract destruction', 'abridge death', 'abbreviate term', 'press term\\\\S\\\\s*\\\\S', 'concentrate cease', 'condense terminal', 'compact term\\\\S\\\\s*\\\\S', 'reduce end', 'squeeze last', 'declaration closing', 'concentrate terminate', 'cut term\\\\S\\\\s*\\\\S', 'narrow remainder', 'get stop', 'sign_on terminal_figure', 'reduce condition', 'abbreviate remnant', 'contract finish', 'take close', 'sign_up destruction', 'reduce remnant', 'sign end', 'cut final_stage', 'get closing', 'get terminal_figure', 'abridge remnant', 'press finish', 'contract term', 'constrict terminus', 'reduce goal', 'cut ending', 'sign_on stop', 'condense terminus', 'shrink close', 'sign goal', 'shorten death', 'condense final_stage', 'sign_up oddment', 'abridge cease', 'abbreviate death', 'shrink remnant', 'compress goal', 'sign_on death', 'press final_stage', 'sign_up terminal_figure', 'abridge close', 'shrink terminal_figure', 'compress death', 'contract terminate', 'compact condition', 'compress cease', 'declaration end', 'reduce stop', 'narrow full_term', 'shorten goal', 'abbreviate term\\\\S\\\\s*\\\\S', 'declaration terminal_figure', 'undertake oddment', 'sign remainder', 'undertake ending', 'compact close', 'concentrate terminus', 'sign_on last', 'abbreviate oddment', 'squeeze goal', 'shrink term', 'compact goal', 'squeeze final_stage', 'press goal', 'sign_on term\\\\S\\\\s*\\\\S', 'contract_bridge closing', 'cut stop', 'compress oddment', 'declaration full_term', 'squeeze close', 'compact final_stage', 'sign stop', 'compress remainder', 'contract_bridge term', 'foreshorten terminal', 'shorten terminal_figure', 'concentrate stop', 'cut conclusion', 'squeeze closing', 'shorten final_stage', 'compress destruction', 'press full_term', 'take terminus', 'squeeze stop', 'compress conclusion', 'condense term\\\\S\\\\s*\\\\S', 'abridge ending', 'sign_on cease', 'compress last', 'take ending', 'press terminal', 'abbreviate stop', 'compress stop', 'squeeze conclusion', 'declaration condition', 'abridge last', 'sign_on final_stage', 'contract cease', 'press death', 'shrink conclusion', 'take remnant', 'concentrate full_term', 'abridge terminal', 'declaration close', 'cut oddment', 'sign_up stop', 'sign_up death', 'press conclusion', 'undertake terminate', 'cut last', 'foreshorten closing', 'narrow goal', 'shrink cease', 'constrict end', 'cut terminus', 'foreshorten final_stage', 'contract end', 'sign_on closing', 'take oddment', 'narrow terminal_figure', 'cut remnant', 'press remnant', 'foreshorten term', 'squeeze term', 'narrow stop', 'compact destruction', 'sign_up full_term', 'undertake term\\\\S\\\\s*\\\\S', 'shorten cease', 'contract remnant', 'contract condition', 'shorten ending', 'contract goal', 'shorten terminate', 'shorten conclusion', 'undertake terminal_figure', 'shrink terminal', 'undertake full_term', 'constrict term', 'declaration finish', 'contract_bridge terminus', 'declaration death', 'concentrate term\\\\S\\\\s*\\\\S', 'abbreviate full_term', 'concentrate goal', 'shorten finish', 'abridge conclusion', 'compact conclusion', 'declaration terminal', 'contract_bridge terminate', 'shorten destruction', 'take term\\\\S\\\\s*\\\\S', 'condense last', 'foreshorten stop', 'shrink remainder', 'shorten remnant', 'sign_on full_term', 'sign_on destruction', 'shorten terminal', 'sign_up close', 'shorten full_term', 'cut terminate', 'contract_bridge stop', 'take stop', 'shrink terminus', 'narrow cease', 'get end', 'cut terminal_figure', 'sign_up last', 'contract_bridge last', 'get last', 'contract final_stage', 'foreshorten remainder', 'narrow final_stage', 'condense cease', 'undertake condition', 'sign_up term', 'abridge oddment', 'abridge terminate', 'sign_on end', 'contract_bridge remainder', 'reduce conclusion', 'reduce terminus', 'sign term', 'declaration last', 'shrink finish', 'cut destruction', 'take condition', 'undertake remnant', 'sign_on ending', 'take full_term', 'press ending', 'sign terminus', 'sign last', 'declaration oddment', 'sign death', 'shorten close', 'abbreviate last', 'sign_up remnant', 'foreshorten remnant', 'cut goal', 'squeeze terminal_figure', 'undertake close', 'contract_bridge final_stage', 'sign_up closing', 'concentrate oddment', 'declaration conclusion', 'get remnant', 'abridge term', 'take terminal', 'undertake destruction', 'shrink terminate', 'abbreviate terminus', 'take finish', 'reduce close', 'contract_bridge conclusion', 'press end', 'contract death', 'sign_up goal', 'compress term\\\\S\\\\s*\\\\S', 'abridge condition', 'get ending', 'abbreviate terminal', 'narrow remnant', 'undertake last', 'get terminate', 'shrink destruction', 'shorten remainder', 'get finish', 'abbreviate destruction', 'reduce term\\\\S\\\\s*\\\\S', 'get remainder', 'reduce full_term', 'contract_bridge end', 'get terminus', 'shrink ending', 'squeeze ending', 'contract_bridge cease', 'cut death', 'contract_bridge ending', 'contract close', 'get destruction', 'sign_on close', 'concentrate conclusion', 'condense remnant', 'sign destruction', 'sign terminal', 'declaration goal', 'cut end', 'squeeze terminal', 'get goal', 'shrink goal', 'undertake stop', 'compress full_term', 'abbreviate end', 'condense close', 'narrow terminal', 'condense full_term', 'press last', 'sign_up terminal', 'take closing', 'sign_on terminus', 'foreshorten goal', 'foreshorten death', 'undertake terminal', 'foreshorten last', 'press terminate', 'abridge destruction', 'condense destruction', 'declaration term', 'abbreviate condition', 'condense goal', 'concentrate death', 'declaration cease', 'shrink death', 'compress ending', 'constrict cease', 'compact oddment', 'compress final_stage', 'constrict terminal', 'reduce term', 'shorten terminus', 'constrict terminal_figure', 'sign_on condition', 'press closing', 'concentrate final_stage', 'press term', 'compact finish', 'squeeze remnant', 'take cease', 'constrict destruction', 'contract closing', 'sign_up finish', 'get close', 'declaration remainder', 'shrink final_stage', 'undertake remainder', 'abridge final_stage', 'sign_on terminal', 'sign_up conclusion', 'sign finish', 'sign remnant', 'shorten term\\\\S\\\\s*\\\\S', 'narrow last', 'abbreviate closing', 'compress closing', 'sign close', 'sign cease', 'foreshorten terminal_figure', 'constrict remnant', 'press terminus', 'squeeze terminate', 'concentrate closing', 'contract_bridge condition', 'sign term\\\\S\\\\s*\\\\S', 'take remainder', 'sign_up final_stage', 'abbreviate terminate', 'undertake terminus', 'constrict last', 'constrict condition', 'reduce destruction', 'compact cease', 'undertake death', 'reduce final_stage', 'contract terminal_figure', 'sign_up terminus', 'compact closing', 'sign_on oddment', 'press terminal_figure', 'compact terminal', 'contract terminal', 'reduce oddment', 'constrict ending', 'squeeze oddment', 'condense terminal_figure', 'concentrate last', 'compress terminate', 'shrink stop', 'sign ending', 'declaration terminus', 'declaration remnant', 'sign condition', 'contract_bridge finish', 'compact end', 'squeeze term\\\\S\\\\s*\\\\S', 'abridge full_term', 'constrict death', 'concentrate terminal_figure', 'constrict final_stage', 'contract last', 'compress close', 'contract stop', 'cut finish', 'narrow terminate', 'constrict finish', 'abridge terminus', 'constrict oddment', 'cut remainder', 'squeeze death', 'take end', 'constrict full_term', 'compact death', 'contract_bridge destruction', 'concentrate condition', 'get conclusion', 'constrict conclusion', 'cut cease', 'compress terminus', 'press condition', 'constrict closing', 'narrow closing', 'narrow destruction', 'compact term', 'abbreviate remainder', 'press oddment', 'sign_on remnant', 'abridge term\\\\S\\\\s*\\\\S', 'get oddment', 'concentrate ending', 'foreshorten term\\\\S\\\\s*\\\\S', 'reduce last', 'sign_up remainder', 'squeeze condition', 'shorten end', 'press cease', 'sign conclusion', 'condense oddment', 'foreshorten end', 'condense remainder', 'narrow finish', 'abbreviate final_stage', 'sign final_stage', 'narrow close', 'cut close'}\n"
     ]
    },
    {
     "name": "stdout",
     "output_type": "stream",
     "text": [
      "end:  2019-12-31 00:00:00\n",
      "test2.txt\n",
      "{'effective', 'effectual', 'good', 'effective date\\\\S\\\\s*\\\\S', 'good date\\\\S\\\\s*\\\\S', 'in_effect date\\\\S\\\\s*\\\\S', 'in_force', 'efficient date\\\\S\\\\s*\\\\S', 'in_force date\\\\S\\\\s*\\\\S', 'efficacious', 'in_effect', 'efficient', 'efficacious date\\\\S\\\\s*\\\\S', 'effectual date\\\\S\\\\s*\\\\S'}\n",
      "{'shorten condition', 'take term', 'constrict stop', 'abbreviate terminal_figure', 'cut condition', 'contract oddment', 'condense closing', 'undertake cease', 'contract_bridge oddment', 'narrow condition', 'press stop', 'compress end', 'sign closing', 'undertake term', 'squeeze full_term', 'condense conclusion', 'sign full_term', 'sign_on terminate', 'compress finish', 'contract_bridge term\\\\S\\\\s*\\\\S', 'contract full_term', 'contract term\\\\S\\\\s*\\\\S', 'constrict terminate', 'shorten closing', 'get term\\\\S\\\\s*\\\\S', 'reduce remainder', 'foreshorten terminus', 'abridge stop', 'abbreviate finish', 'reduce terminate', 'undertake closing', 'get death', 'concentrate terminal', 'squeeze end', 'press remainder', 'get full_term', 'get final_stage', 'abridge finish', 'constrict remainder', 'sign_up end', 'get condition', 'constrict goal', 'abbreviate conclusion', 'contract_bridge close', 'declaration destruction', 'contract_bridge full_term', 'shrink oddment', 'concentrate finish', 'take destruction', 'press destruction', 'cut closing', 'concentrate remainder', 'squeeze remainder', 'foreshorten full_term', 'undertake finish', 'abbreviate cease', 'shrink last', 'condense condition', 'abridge goal', 'condense term', 'undertake end', 'take death', 'take goal', 'reduce terminal', 'contract remainder', 'sign_up cease', 'compact terminal_figure', 'press close', 'sign_up ending', 'condense stop', 'sign_up condition', 'abridge remainder', 'sign_up term\\\\S\\\\s*\\\\S', 'squeeze terminus', 'compress terminal_figure', 'compact terminate', 'squeeze cease', 'undertake final_stage', 'foreshorten condition', 'shorten stop', 'concentrate remnant', 'take last', 'cut term', 'abridge terminal_figure', 'reduce cease', 'shorten oddment', 'sign_on finish', 'foreshorten close', 'sign_on goal', 'reduce terminal_figure', 'narrow term', 'sign oddment', 'compact full_term', 'declaration terminate', 'declaration final_stage', 'compact last', 'foreshorten finish', 'reduce ending', 'compact terminus', 'condense end', 'narrow term\\\\S\\\\s*\\\\S', 'compact remainder', 'concentrate close', 'shrink end', 'undertake conclusion', 'get terminal', 'condense ending', 'abridge end', 'take conclusion', 'constrict close', 'shorten term', 'foreshorten terminate', 'get cease', 'compress term', 'compress remnant', 'foreshorten oddment', 'contract_bridge death', 'narrow conclusion', 'take terminate', 'reduce death', 'sign terminal_figure', 'sign_on conclusion', 'squeeze destruction', 'condense finish', 'contract_bridge goal', 'compact ending', 'declaration stop', 'constrict term\\\\S\\\\s*\\\\S', 'contract_bridge remnant', 'cut full_term', 'narrow terminus', 'contract_bridge terminal', 'shrink full_term', 'condense terminate', 'concentrate destruction', 'contract ending', 'sign_on term', 'abridge closing', 'declaration term\\\\S\\\\s*\\\\S', 'shrink condition', 'abbreviate ending', 'squeeze finish', 'foreshorten cease', 'take final_stage', 'contract_bridge terminal_figure', 'get term', 'take terminal_figure', 'reduce closing', 'sign_up terminate', 'sign terminate', 'shrink term\\\\S\\\\s*\\\\S', 'declaration ending', 'compact remnant', 'foreshorten destruction', 'abbreviate goal', 'narrow oddment', 'condense death', 'concentrate term', 'contract terminus', 'contract term ', 'compress terminal', 'sign_on remainder', 'foreshorten ending', 'compact stop', 'abbreviate close', 'cut terminal', 'compress condition', 'shrink closing', 'foreshorten conclusion', 'narrow ending', 'undertake goal', 'shorten last', 'narrow death', 'contract conclusion', 'reduce finish', 'concentrate end', 'narrow end', 'contract destruction', 'abridge death', 'abbreviate term', 'press term\\\\S\\\\s*\\\\S', 'concentrate cease', 'condense terminal', 'compact term\\\\S\\\\s*\\\\S', 'reduce end', 'squeeze last', 'declaration closing', 'concentrate terminate', 'cut term\\\\S\\\\s*\\\\S', 'narrow remainder', 'get stop', 'sign_on terminal_figure', 'reduce condition', 'abbreviate remnant', 'contract finish', 'take close', 'sign_up destruction', 'reduce remnant', 'sign end', 'cut final_stage', 'get closing', 'get terminal_figure', 'abridge remnant', 'press finish', 'contract term', 'constrict terminus', 'reduce goal', 'cut ending', 'sign_on stop', 'condense terminus', 'shrink close', 'sign goal', 'shorten death', 'condense final_stage', 'sign_up oddment', 'abridge cease', 'abbreviate death', 'shrink remnant', 'compress goal', 'sign_on death', 'press final_stage', 'sign_up terminal_figure', 'abridge close', 'shrink terminal_figure', 'compress death', 'contract terminate', 'compact condition', 'compress cease', 'declaration end', 'reduce stop', 'narrow full_term', 'shorten goal', 'abbreviate term\\\\S\\\\s*\\\\S', 'declaration terminal_figure', 'undertake oddment', 'sign remainder', 'undertake ending', 'compact close', 'concentrate terminus', 'sign_on last', 'abbreviate oddment', 'squeeze goal', 'shrink term', 'compact goal', 'squeeze final_stage', 'press goal', 'sign_on term\\\\S\\\\s*\\\\S', 'contract_bridge closing', 'cut stop', 'compress oddment', 'declaration full_term', 'squeeze close', 'compact final_stage', 'sign stop', 'compress remainder', 'contract_bridge term', 'foreshorten terminal', 'shorten terminal_figure', 'concentrate stop', 'cut conclusion', 'squeeze closing', 'shorten final_stage', 'compress destruction', 'press full_term', 'take terminus', 'squeeze stop', 'compress conclusion', 'condense term\\\\S\\\\s*\\\\S', 'abridge ending', 'sign_on cease', 'compress last', 'take ending', 'press terminal', 'abbreviate stop', 'compress stop', 'squeeze conclusion', 'declaration condition', 'abridge last', 'sign_on final_stage', 'contract cease', 'press death', 'shrink conclusion', 'take remnant', 'concentrate full_term', 'abridge terminal', 'declaration close', 'cut oddment', 'sign_up stop', 'sign_up death', 'press conclusion', 'undertake terminate', 'cut last', 'foreshorten closing', 'narrow goal', 'shrink cease', 'constrict end', 'cut terminus', 'foreshorten final_stage', 'contract end', 'sign_on closing', 'take oddment', 'narrow terminal_figure', 'cut remnant', 'press remnant', 'foreshorten term', 'squeeze term', 'narrow stop', 'compact destruction', 'sign_up full_term', 'undertake term\\\\S\\\\s*\\\\S', 'shorten cease', 'contract remnant', 'contract condition', 'shorten ending', 'contract goal', 'shorten terminate', 'shorten conclusion', 'undertake terminal_figure', 'shrink terminal', 'undertake full_term', 'constrict term', 'declaration finish', 'contract_bridge terminus', 'declaration death', 'concentrate term\\\\S\\\\s*\\\\S', 'abbreviate full_term', 'concentrate goal', 'shorten finish', 'abridge conclusion', 'compact conclusion', 'declaration terminal', 'contract_bridge terminate', 'shorten destruction', 'take term\\\\S\\\\s*\\\\S', 'condense last', 'foreshorten stop', 'shrink remainder', 'shorten remnant', 'sign_on full_term', 'sign_on destruction', 'shorten terminal', 'sign_up close', 'shorten full_term', 'cut terminate', 'contract_bridge stop', 'take stop', 'shrink terminus', 'narrow cease', 'get end', 'cut terminal_figure', 'sign_up last', 'contract_bridge last', 'get last', 'contract final_stage', 'foreshorten remainder', 'narrow final_stage', 'condense cease', 'undertake condition', 'sign_up term', 'abridge oddment', 'abridge terminate', 'sign_on end', 'contract_bridge remainder', 'reduce conclusion', 'reduce terminus', 'sign term', 'declaration last', 'shrink finish', 'cut destruction', 'take condition', 'undertake remnant', 'sign_on ending', 'take full_term', 'press ending', 'sign terminus', 'sign last', 'declaration oddment', 'sign death', 'shorten close', 'abbreviate last', 'sign_up remnant', 'foreshorten remnant', 'cut goal', 'squeeze terminal_figure', 'undertake close', 'contract_bridge final_stage', 'sign_up closing', 'concentrate oddment', 'declaration conclusion', 'get remnant', 'abridge term', 'take terminal', 'undertake destruction', 'shrink terminate', 'abbreviate terminus', 'take finish', 'reduce close', 'contract_bridge conclusion', 'press end', 'contract death', 'sign_up goal', 'compress term\\\\S\\\\s*\\\\S', 'abridge condition', 'get ending', 'abbreviate terminal', 'narrow remnant', 'undertake last', 'get terminate', 'shrink destruction', 'shorten remainder', 'get finish', 'abbreviate destruction', 'reduce term\\\\S\\\\s*\\\\S', 'get remainder', 'reduce full_term', 'contract_bridge end', 'get terminus', 'shrink ending', 'squeeze ending', 'contract_bridge cease', 'cut death', 'contract_bridge ending', 'contract close', 'get destruction', 'sign_on close', 'concentrate conclusion', 'condense remnant', 'sign destruction', 'sign terminal', 'declaration goal', 'cut end', 'squeeze terminal', 'get goal', 'shrink goal', 'undertake stop', 'compress full_term', 'abbreviate end', 'condense close', 'narrow terminal', 'condense full_term', 'press last', 'sign_up terminal', 'take closing', 'sign_on terminus', 'foreshorten goal', 'foreshorten death', 'undertake terminal', 'foreshorten last', 'press terminate', 'abridge destruction', 'condense destruction', 'declaration term', 'abbreviate condition', 'condense goal', 'concentrate death', 'declaration cease', 'shrink death', 'compress ending', 'constrict cease', 'compact oddment', 'compress final_stage', 'constrict terminal', 'reduce term', 'shorten terminus', 'constrict terminal_figure', 'sign_on condition', 'press closing', 'concentrate final_stage', 'press term', 'compact finish', 'squeeze remnant', 'take cease', 'constrict destruction', 'contract closing', 'sign_up finish', 'get close', 'declaration remainder', 'shrink final_stage', 'undertake remainder', 'abridge final_stage', 'sign_on terminal', 'sign_up conclusion', 'sign finish', 'sign remnant', 'shorten term\\\\S\\\\s*\\\\S', 'narrow last', 'abbreviate closing', 'compress closing', 'sign close', 'sign cease', 'foreshorten terminal_figure', 'constrict remnant', 'press terminus', 'squeeze terminate', 'concentrate closing', 'contract_bridge condition', 'sign term\\\\S\\\\s*\\\\S', 'take remainder', 'sign_up final_stage', 'abbreviate terminate', 'undertake terminus', 'constrict last', 'constrict condition', 'reduce destruction', 'compact cease', 'undertake death', 'reduce final_stage', 'contract terminal_figure', 'sign_up terminus', 'compact closing', 'sign_on oddment', 'press terminal_figure', 'compact terminal', 'contract terminal', 'reduce oddment', 'constrict ending', 'squeeze oddment', 'condense terminal_figure', 'concentrate last', 'compress terminate', 'shrink stop', 'sign ending', 'declaration terminus', 'declaration remnant', 'sign condition', 'contract_bridge finish', 'compact end', 'squeeze term\\\\S\\\\s*\\\\S', 'abridge full_term', 'constrict death', 'concentrate terminal_figure', 'constrict final_stage', 'contract last', 'compress close', 'contract stop', 'cut finish', 'narrow terminate', 'constrict finish', 'abridge terminus', 'constrict oddment', 'cut remainder', 'squeeze death', 'take end', 'constrict full_term', 'compact death', 'contract_bridge destruction', 'concentrate condition', 'get conclusion', 'constrict conclusion', 'cut cease', 'compress terminus', 'press condition', 'constrict closing', 'narrow closing', 'narrow destruction', 'compact term', 'abbreviate remainder', 'press oddment', 'sign_on remnant', 'abridge term\\\\S\\\\s*\\\\S', 'get oddment', 'concentrate ending', 'foreshorten term\\\\S\\\\s*\\\\S', 'reduce last', 'sign_up remainder', 'squeeze condition', 'shorten end', 'press cease', 'sign conclusion', 'condense oddment', 'foreshorten end', 'condense remainder', 'narrow finish', 'abbreviate final_stage', 'sign final_stage', 'narrow close', 'cut close'}\n",
      "TX 19015 Contract ENT (7.2.18).txt\n",
      "{'effective', 'effectual', 'good', 'effective date\\\\S\\\\s*\\\\S', 'good date\\\\S\\\\s*\\\\S', 'in_effect date\\\\S\\\\s*\\\\S', 'in_force', 'efficient date\\\\S\\\\s*\\\\S', 'in_force date\\\\S\\\\s*\\\\S', 'efficacious', 'in_effect', 'efficient', 'efficacious date\\\\S\\\\s*\\\\S', 'effectual date\\\\S\\\\s*\\\\S'}\n",
      "{'shorten condition', 'take term', 'constrict stop', 'abbreviate terminal_figure', 'cut condition', 'contract oddment', 'condense closing', 'undertake cease', 'contract_bridge oddment', 'narrow condition', 'press stop', 'compress end', 'sign closing', 'undertake term', 'squeeze full_term', 'condense conclusion', 'sign full_term', 'sign_on terminate', 'compress finish', 'contract_bridge term\\\\S\\\\s*\\\\S', 'contract full_term', 'contract term\\\\S\\\\s*\\\\S', 'constrict terminate', 'shorten closing', 'get term\\\\S\\\\s*\\\\S', 'reduce remainder', 'foreshorten terminus', 'abridge stop', 'abbreviate finish', 'reduce terminate', 'undertake closing', 'get death', 'concentrate terminal', 'squeeze end', 'press remainder', 'get full_term', 'get final_stage', 'abridge finish', 'constrict remainder', 'sign_up end', 'get condition', 'constrict goal', 'abbreviate conclusion', 'contract_bridge close', 'declaration destruction', 'contract_bridge full_term', 'shrink oddment', 'concentrate finish', 'take destruction', 'press destruction', 'cut closing', 'concentrate remainder', 'squeeze remainder', 'foreshorten full_term', 'undertake finish', 'abbreviate cease', 'shrink last', 'condense condition', 'abridge goal', 'condense term', 'undertake end', 'take death', 'take goal', 'reduce terminal', 'contract remainder', 'sign_up cease', 'compact terminal_figure', 'press close', 'sign_up ending', 'condense stop', 'sign_up condition', 'abridge remainder', 'sign_up term\\\\S\\\\s*\\\\S', 'squeeze terminus', 'compress terminal_figure', 'compact terminate', 'squeeze cease', 'undertake final_stage', 'foreshorten condition', 'shorten stop', 'concentrate remnant', 'take last', 'cut term', 'abridge terminal_figure', 'reduce cease', 'shorten oddment', 'sign_on finish', 'foreshorten close', 'sign_on goal', 'reduce terminal_figure', 'narrow term', 'sign oddment', 'compact full_term', 'declaration terminate', 'declaration final_stage', 'compact last', 'foreshorten finish', 'reduce ending', 'compact terminus', 'condense end', 'narrow term\\\\S\\\\s*\\\\S', 'compact remainder', 'concentrate close', 'shrink end', 'undertake conclusion', 'get terminal', 'condense ending', 'abridge end', 'take conclusion', 'constrict close', 'shorten term', 'foreshorten terminate', 'get cease', 'compress term', 'compress remnant', 'foreshorten oddment', 'contract_bridge death', 'narrow conclusion', 'take terminate', 'reduce death', 'sign terminal_figure', 'sign_on conclusion', 'squeeze destruction', 'condense finish', 'contract_bridge goal', 'compact ending', 'declaration stop', 'constrict term\\\\S\\\\s*\\\\S', 'contract_bridge remnant', 'cut full_term', 'narrow terminus', 'contract_bridge terminal', 'shrink full_term', 'condense terminate', 'concentrate destruction', 'contract ending', 'sign_on term', 'abridge closing', 'declaration term\\\\S\\\\s*\\\\S', 'shrink condition', 'abbreviate ending', 'squeeze finish', 'foreshorten cease', 'take final_stage', 'contract_bridge terminal_figure', 'get term', 'take terminal_figure', 'reduce closing', 'sign_up terminate', 'sign terminate', 'shrink term\\\\S\\\\s*\\\\S', 'declaration ending', 'compact remnant', 'foreshorten destruction', 'abbreviate goal', 'narrow oddment', 'condense death', 'concentrate term', 'contract terminus', 'contract term ', 'compress terminal', 'sign_on remainder', 'foreshorten ending', 'compact stop', 'abbreviate close', 'cut terminal', 'compress condition', 'shrink closing', 'foreshorten conclusion', 'narrow ending', 'undertake goal', 'shorten last', 'narrow death', 'contract conclusion', 'reduce finish', 'concentrate end', 'narrow end', 'contract destruction', 'abridge death', 'abbreviate term', 'press term\\\\S\\\\s*\\\\S', 'concentrate cease', 'condense terminal', 'compact term\\\\S\\\\s*\\\\S', 'reduce end', 'squeeze last', 'declaration closing', 'concentrate terminate', 'cut term\\\\S\\\\s*\\\\S', 'narrow remainder', 'get stop', 'sign_on terminal_figure', 'reduce condition', 'abbreviate remnant', 'contract finish', 'take close', 'sign_up destruction', 'reduce remnant', 'sign end', 'cut final_stage', 'get closing', 'get terminal_figure', 'abridge remnant', 'press finish', 'contract term', 'constrict terminus', 'reduce goal', 'cut ending', 'sign_on stop', 'condense terminus', 'shrink close', 'sign goal', 'shorten death', 'condense final_stage', 'sign_up oddment', 'abridge cease', 'abbreviate death', 'shrink remnant', 'compress goal', 'sign_on death', 'press final_stage', 'sign_up terminal_figure', 'abridge close', 'shrink terminal_figure', 'compress death', 'contract terminate', 'compact condition', 'compress cease', 'declaration end', 'reduce stop', 'narrow full_term', 'shorten goal', 'abbreviate term\\\\S\\\\s*\\\\S', 'declaration terminal_figure', 'undertake oddment', 'sign remainder', 'undertake ending', 'compact close', 'concentrate terminus', 'sign_on last', 'abbreviate oddment', 'squeeze goal', 'shrink term', 'compact goal', 'squeeze final_stage', 'press goal', 'sign_on term\\\\S\\\\s*\\\\S', 'contract_bridge closing', 'cut stop', 'compress oddment', 'declaration full_term', 'squeeze close', 'compact final_stage', 'sign stop', 'compress remainder', 'contract_bridge term', 'foreshorten terminal', 'shorten terminal_figure', 'concentrate stop', 'cut conclusion', 'squeeze closing', 'shorten final_stage', 'compress destruction', 'press full_term', 'take terminus', 'squeeze stop', 'compress conclusion', 'condense term\\\\S\\\\s*\\\\S', 'abridge ending', 'sign_on cease', 'compress last', 'take ending', 'press terminal', 'abbreviate stop', 'compress stop', 'squeeze conclusion', 'declaration condition', 'abridge last', 'sign_on final_stage', 'contract cease', 'press death', 'shrink conclusion', 'take remnant', 'concentrate full_term', 'abridge terminal', 'declaration close', 'cut oddment', 'sign_up stop', 'sign_up death', 'press conclusion', 'undertake terminate', 'cut last', 'foreshorten closing', 'narrow goal', 'shrink cease', 'constrict end', 'cut terminus', 'foreshorten final_stage', 'contract end', 'sign_on closing', 'take oddment', 'narrow terminal_figure', 'cut remnant', 'press remnant', 'foreshorten term', 'squeeze term', 'narrow stop', 'compact destruction', 'sign_up full_term', 'undertake term\\\\S\\\\s*\\\\S', 'shorten cease', 'contract remnant', 'contract condition', 'shorten ending', 'contract goal', 'shorten terminate', 'shorten conclusion', 'undertake terminal_figure', 'shrink terminal', 'undertake full_term', 'constrict term', 'declaration finish', 'contract_bridge terminus', 'declaration death', 'concentrate term\\\\S\\\\s*\\\\S', 'abbreviate full_term', 'concentrate goal', 'shorten finish', 'abridge conclusion', 'compact conclusion', 'declaration terminal', 'contract_bridge terminate', 'shorten destruction', 'take term\\\\S\\\\s*\\\\S', 'condense last', 'foreshorten stop', 'shrink remainder', 'shorten remnant', 'sign_on full_term', 'sign_on destruction', 'shorten terminal', 'sign_up close', 'shorten full_term', 'cut terminate', 'contract_bridge stop', 'take stop', 'shrink terminus', 'narrow cease', 'get end', 'cut terminal_figure', 'sign_up last', 'contract_bridge last', 'get last', 'contract final_stage', 'foreshorten remainder', 'narrow final_stage', 'condense cease', 'undertake condition', 'sign_up term', 'abridge oddment', 'abridge terminate', 'sign_on end', 'contract_bridge remainder', 'reduce conclusion', 'reduce terminus', 'sign term', 'declaration last', 'shrink finish', 'cut destruction', 'take condition', 'undertake remnant', 'sign_on ending', 'take full_term', 'press ending', 'sign terminus', 'sign last', 'declaration oddment', 'sign death', 'shorten close', 'abbreviate last', 'sign_up remnant', 'foreshorten remnant', 'cut goal', 'squeeze terminal_figure', 'undertake close', 'contract_bridge final_stage', 'sign_up closing', 'concentrate oddment', 'declaration conclusion', 'get remnant', 'abridge term', 'take terminal', 'undertake destruction', 'shrink terminate', 'abbreviate terminus', 'take finish', 'reduce close', 'contract_bridge conclusion', 'press end', 'contract death', 'sign_up goal', 'compress term\\\\S\\\\s*\\\\S', 'abridge condition', 'get ending', 'abbreviate terminal', 'narrow remnant', 'undertake last', 'get terminate', 'shrink destruction', 'shorten remainder', 'get finish', 'abbreviate destruction', 'reduce term\\\\S\\\\s*\\\\S', 'get remainder', 'reduce full_term', 'contract_bridge end', 'get terminus', 'shrink ending', 'squeeze ending', 'contract_bridge cease', 'cut death', 'contract_bridge ending', 'contract close', 'get destruction', 'sign_on close', 'concentrate conclusion', 'condense remnant', 'sign destruction', 'sign terminal', 'declaration goal', 'cut end', 'squeeze terminal', 'get goal', 'shrink goal', 'undertake stop', 'compress full_term', 'abbreviate end', 'condense close', 'narrow terminal', 'condense full_term', 'press last', 'sign_up terminal', 'take closing', 'sign_on terminus', 'foreshorten goal', 'foreshorten death', 'undertake terminal', 'foreshorten last', 'press terminate', 'abridge destruction', 'condense destruction', 'declaration term', 'abbreviate condition', 'condense goal', 'concentrate death', 'declaration cease', 'shrink death', 'compress ending', 'constrict cease', 'compact oddment', 'compress final_stage', 'constrict terminal', 'reduce term', 'shorten terminus', 'constrict terminal_figure', 'sign_on condition', 'press closing', 'concentrate final_stage', 'press term', 'compact finish', 'squeeze remnant', 'take cease', 'constrict destruction', 'contract closing', 'sign_up finish', 'get close', 'declaration remainder', 'shrink final_stage', 'undertake remainder', 'abridge final_stage', 'sign_on terminal', 'sign_up conclusion', 'sign finish', 'sign remnant', 'shorten term\\\\S\\\\s*\\\\S', 'narrow last', 'abbreviate closing', 'compress closing', 'sign close', 'sign cease', 'foreshorten terminal_figure', 'constrict remnant', 'press terminus', 'squeeze terminate', 'concentrate closing', 'contract_bridge condition', 'sign term\\\\S\\\\s*\\\\S', 'take remainder', 'sign_up final_stage', 'abbreviate terminate', 'undertake terminus', 'constrict last', 'constrict condition', 'reduce destruction', 'compact cease', 'undertake death', 'reduce final_stage', 'contract terminal_figure', 'sign_up terminus', 'compact closing', 'sign_on oddment', 'press terminal_figure', 'compact terminal', 'contract terminal', 'reduce oddment', 'constrict ending', 'squeeze oddment', 'condense terminal_figure', 'concentrate last', 'compress terminate', 'shrink stop', 'sign ending', 'declaration terminus', 'declaration remnant', 'sign condition', 'contract_bridge finish', 'compact end', 'squeeze term\\\\S\\\\s*\\\\S', 'abridge full_term', 'constrict death', 'concentrate terminal_figure', 'constrict final_stage', 'contract last', 'compress close', 'contract stop', 'cut finish', 'narrow terminate', 'constrict finish', 'abridge terminus', 'constrict oddment', 'cut remainder', 'squeeze death', 'take end', 'constrict full_term', 'compact death', 'contract_bridge destruction', 'concentrate condition', 'get conclusion', 'constrict conclusion', 'cut cease', 'compress terminus', 'press condition', 'constrict closing', 'narrow closing', 'narrow destruction', 'compact term', 'abbreviate remainder', 'press oddment', 'sign_on remnant', 'abridge term\\\\S\\\\s*\\\\S', 'get oddment', 'concentrate ending', 'foreshorten term\\\\S\\\\s*\\\\S', 'reduce last', 'sign_up remainder', 'squeeze condition', 'shorten end', 'press cease', 'sign conclusion', 'condense oddment', 'foreshorten end', 'condense remainder', 'narrow finish', 'abbreviate final_stage', 'sign final_stage', 'narrow close', 'cut close'}\n"
     ]
    },
    {
     "name": "stdout",
     "output_type": "stream",
     "text": [
      "test2-pdf.txt\n",
      "{'effective', 'effectual', 'good', 'effective date\\\\S\\\\s*\\\\S', 'good date\\\\S\\\\s*\\\\S', 'in_effect date\\\\S\\\\s*\\\\S', 'in_force', 'efficient date\\\\S\\\\s*\\\\S', 'in_force date\\\\S\\\\s*\\\\S', 'efficacious', 'in_effect', 'efficient', 'efficacious date\\\\S\\\\s*\\\\S', 'effectual date\\\\S\\\\s*\\\\S'}\n",
      "{'shorten condition', 'take term', 'constrict stop', 'abbreviate terminal_figure', 'cut condition', 'contract oddment', 'condense closing', 'undertake cease', 'contract_bridge oddment', 'narrow condition', 'press stop', 'compress end', 'sign closing', 'undertake term', 'squeeze full_term', 'condense conclusion', 'sign full_term', 'sign_on terminate', 'compress finish', 'contract_bridge term\\\\S\\\\s*\\\\S', 'contract full_term', 'contract term\\\\S\\\\s*\\\\S', 'constrict terminate', 'shorten closing', 'get term\\\\S\\\\s*\\\\S', 'reduce remainder', 'foreshorten terminus', 'abridge stop', 'abbreviate finish', 'reduce terminate', 'undertake closing', 'get death', 'concentrate terminal', 'squeeze end', 'press remainder', 'get full_term', 'get final_stage', 'abridge finish', 'constrict remainder', 'sign_up end', 'get condition', 'constrict goal', 'abbreviate conclusion', 'contract_bridge close', 'declaration destruction', 'contract_bridge full_term', 'shrink oddment', 'concentrate finish', 'take destruction', 'press destruction', 'cut closing', 'concentrate remainder', 'squeeze remainder', 'foreshorten full_term', 'undertake finish', 'abbreviate cease', 'shrink last', 'condense condition', 'abridge goal', 'condense term', 'undertake end', 'take death', 'take goal', 'reduce terminal', 'contract remainder', 'sign_up cease', 'compact terminal_figure', 'press close', 'sign_up ending', 'condense stop', 'sign_up condition', 'abridge remainder', 'sign_up term\\\\S\\\\s*\\\\S', 'squeeze terminus', 'compress terminal_figure', 'compact terminate', 'squeeze cease', 'undertake final_stage', 'foreshorten condition', 'shorten stop', 'concentrate remnant', 'take last', 'cut term', 'abridge terminal_figure', 'reduce cease', 'shorten oddment', 'sign_on finish', 'foreshorten close', 'sign_on goal', 'reduce terminal_figure', 'narrow term', 'sign oddment', 'compact full_term', 'declaration terminate', 'declaration final_stage', 'compact last', 'foreshorten finish', 'reduce ending', 'compact terminus', 'condense end', 'narrow term\\\\S\\\\s*\\\\S', 'compact remainder', 'concentrate close', 'shrink end', 'undertake conclusion', 'get terminal', 'condense ending', 'abridge end', 'take conclusion', 'constrict close', 'shorten term', 'foreshorten terminate', 'get cease', 'compress term', 'compress remnant', 'foreshorten oddment', 'contract_bridge death', 'narrow conclusion', 'take terminate', 'reduce death', 'sign terminal_figure', 'sign_on conclusion', 'squeeze destruction', 'condense finish', 'contract_bridge goal', 'compact ending', 'declaration stop', 'constrict term\\\\S\\\\s*\\\\S', 'contract_bridge remnant', 'cut full_term', 'narrow terminus', 'contract_bridge terminal', 'shrink full_term', 'condense terminate', 'concentrate destruction', 'contract ending', 'sign_on term', 'abridge closing', 'declaration term\\\\S\\\\s*\\\\S', 'shrink condition', 'abbreviate ending', 'squeeze finish', 'foreshorten cease', 'take final_stage', 'contract_bridge terminal_figure', 'get term', 'take terminal_figure', 'reduce closing', 'sign_up terminate', 'sign terminate', 'shrink term\\\\S\\\\s*\\\\S', 'declaration ending', 'compact remnant', 'foreshorten destruction', 'abbreviate goal', 'narrow oddment', 'condense death', 'concentrate term', 'contract terminus', 'contract term ', 'compress terminal', 'sign_on remainder', 'foreshorten ending', 'compact stop', 'abbreviate close', 'cut terminal', 'compress condition', 'shrink closing', 'foreshorten conclusion', 'narrow ending', 'undertake goal', 'shorten last', 'narrow death', 'contract conclusion', 'reduce finish', 'concentrate end', 'narrow end', 'contract destruction', 'abridge death', 'abbreviate term', 'press term\\\\S\\\\s*\\\\S', 'concentrate cease', 'condense terminal', 'compact term\\\\S\\\\s*\\\\S', 'reduce end', 'squeeze last', 'declaration closing', 'concentrate terminate', 'cut term\\\\S\\\\s*\\\\S', 'narrow remainder', 'get stop', 'sign_on terminal_figure', 'reduce condition', 'abbreviate remnant', 'contract finish', 'take close', 'sign_up destruction', 'reduce remnant', 'sign end', 'cut final_stage', 'get closing', 'get terminal_figure', 'abridge remnant', 'press finish', 'contract term', 'constrict terminus', 'reduce goal', 'cut ending', 'sign_on stop', 'condense terminus', 'shrink close', 'sign goal', 'shorten death', 'condense final_stage', 'sign_up oddment', 'abridge cease', 'abbreviate death', 'shrink remnant', 'compress goal', 'sign_on death', 'press final_stage', 'sign_up terminal_figure', 'abridge close', 'shrink terminal_figure', 'compress death', 'contract terminate', 'compact condition', 'compress cease', 'declaration end', 'reduce stop', 'narrow full_term', 'shorten goal', 'abbreviate term\\\\S\\\\s*\\\\S', 'declaration terminal_figure', 'undertake oddment', 'sign remainder', 'undertake ending', 'compact close', 'concentrate terminus', 'sign_on last', 'abbreviate oddment', 'squeeze goal', 'shrink term', 'compact goal', 'squeeze final_stage', 'press goal', 'sign_on term\\\\S\\\\s*\\\\S', 'contract_bridge closing', 'cut stop', 'compress oddment', 'declaration full_term', 'squeeze close', 'compact final_stage', 'sign stop', 'compress remainder', 'contract_bridge term', 'foreshorten terminal', 'shorten terminal_figure', 'concentrate stop', 'cut conclusion', 'squeeze closing', 'shorten final_stage', 'compress destruction', 'press full_term', 'take terminus', 'squeeze stop', 'compress conclusion', 'condense term\\\\S\\\\s*\\\\S', 'abridge ending', 'sign_on cease', 'compress last', 'take ending', 'press terminal', 'abbreviate stop', 'compress stop', 'squeeze conclusion', 'declaration condition', 'abridge last', 'sign_on final_stage', 'contract cease', 'press death', 'shrink conclusion', 'take remnant', 'concentrate full_term', 'abridge terminal', 'declaration close', 'cut oddment', 'sign_up stop', 'sign_up death', 'press conclusion', 'undertake terminate', 'cut last', 'foreshorten closing', 'narrow goal', 'shrink cease', 'constrict end', 'cut terminus', 'foreshorten final_stage', 'contract end', 'sign_on closing', 'take oddment', 'narrow terminal_figure', 'cut remnant', 'press remnant', 'foreshorten term', 'squeeze term', 'narrow stop', 'compact destruction', 'sign_up full_term', 'undertake term\\\\S\\\\s*\\\\S', 'shorten cease', 'contract remnant', 'contract condition', 'shorten ending', 'contract goal', 'shorten terminate', 'shorten conclusion', 'undertake terminal_figure', 'shrink terminal', 'undertake full_term', 'constrict term', 'declaration finish', 'contract_bridge terminus', 'declaration death', 'concentrate term\\\\S\\\\s*\\\\S', 'abbreviate full_term', 'concentrate goal', 'shorten finish', 'abridge conclusion', 'compact conclusion', 'declaration terminal', 'contract_bridge terminate', 'shorten destruction', 'take term\\\\S\\\\s*\\\\S', 'condense last', 'foreshorten stop', 'shrink remainder', 'shorten remnant', 'sign_on full_term', 'sign_on destruction', 'shorten terminal', 'sign_up close', 'shorten full_term', 'cut terminate', 'contract_bridge stop', 'take stop', 'shrink terminus', 'narrow cease', 'get end', 'cut terminal_figure', 'sign_up last', 'contract_bridge last', 'get last', 'contract final_stage', 'foreshorten remainder', 'narrow final_stage', 'condense cease', 'undertake condition', 'sign_up term', 'abridge oddment', 'abridge terminate', 'sign_on end', 'contract_bridge remainder', 'reduce conclusion', 'reduce terminus', 'sign term', 'declaration last', 'shrink finish', 'cut destruction', 'take condition', 'undertake remnant', 'sign_on ending', 'take full_term', 'press ending', 'sign terminus', 'sign last', 'declaration oddment', 'sign death', 'shorten close', 'abbreviate last', 'sign_up remnant', 'foreshorten remnant', 'cut goal', 'squeeze terminal_figure', 'undertake close', 'contract_bridge final_stage', 'sign_up closing', 'concentrate oddment', 'declaration conclusion', 'get remnant', 'abridge term', 'take terminal', 'undertake destruction', 'shrink terminate', 'abbreviate terminus', 'take finish', 'reduce close', 'contract_bridge conclusion', 'press end', 'contract death', 'sign_up goal', 'compress term\\\\S\\\\s*\\\\S', 'abridge condition', 'get ending', 'abbreviate terminal', 'narrow remnant', 'undertake last', 'get terminate', 'shrink destruction', 'shorten remainder', 'get finish', 'abbreviate destruction', 'reduce term\\\\S\\\\s*\\\\S', 'get remainder', 'reduce full_term', 'contract_bridge end', 'get terminus', 'shrink ending', 'squeeze ending', 'contract_bridge cease', 'cut death', 'contract_bridge ending', 'contract close', 'get destruction', 'sign_on close', 'concentrate conclusion', 'condense remnant', 'sign destruction', 'sign terminal', 'declaration goal', 'cut end', 'squeeze terminal', 'get goal', 'shrink goal', 'undertake stop', 'compress full_term', 'abbreviate end', 'condense close', 'narrow terminal', 'condense full_term', 'press last', 'sign_up terminal', 'take closing', 'sign_on terminus', 'foreshorten goal', 'foreshorten death', 'undertake terminal', 'foreshorten last', 'press terminate', 'abridge destruction', 'condense destruction', 'declaration term', 'abbreviate condition', 'condense goal', 'concentrate death', 'declaration cease', 'shrink death', 'compress ending', 'constrict cease', 'compact oddment', 'compress final_stage', 'constrict terminal', 'reduce term', 'shorten terminus', 'constrict terminal_figure', 'sign_on condition', 'press closing', 'concentrate final_stage', 'press term', 'compact finish', 'squeeze remnant', 'take cease', 'constrict destruction', 'contract closing', 'sign_up finish', 'get close', 'declaration remainder', 'shrink final_stage', 'undertake remainder', 'abridge final_stage', 'sign_on terminal', 'sign_up conclusion', 'sign finish', 'sign remnant', 'shorten term\\\\S\\\\s*\\\\S', 'narrow last', 'abbreviate closing', 'compress closing', 'sign close', 'sign cease', 'foreshorten terminal_figure', 'constrict remnant', 'press terminus', 'squeeze terminate', 'concentrate closing', 'contract_bridge condition', 'sign term\\\\S\\\\s*\\\\S', 'take remainder', 'sign_up final_stage', 'abbreviate terminate', 'undertake terminus', 'constrict last', 'constrict condition', 'reduce destruction', 'compact cease', 'undertake death', 'reduce final_stage', 'contract terminal_figure', 'sign_up terminus', 'compact closing', 'sign_on oddment', 'press terminal_figure', 'compact terminal', 'contract terminal', 'reduce oddment', 'constrict ending', 'squeeze oddment', 'condense terminal_figure', 'concentrate last', 'compress terminate', 'shrink stop', 'sign ending', 'declaration terminus', 'declaration remnant', 'sign condition', 'contract_bridge finish', 'compact end', 'squeeze term\\\\S\\\\s*\\\\S', 'abridge full_term', 'constrict death', 'concentrate terminal_figure', 'constrict final_stage', 'contract last', 'compress close', 'contract stop', 'cut finish', 'narrow terminate', 'constrict finish', 'abridge terminus', 'constrict oddment', 'cut remainder', 'squeeze death', 'take end', 'constrict full_term', 'compact death', 'contract_bridge destruction', 'concentrate condition', 'get conclusion', 'constrict conclusion', 'cut cease', 'compress terminus', 'press condition', 'constrict closing', 'narrow closing', 'narrow destruction', 'compact term', 'abbreviate remainder', 'press oddment', 'sign_on remnant', 'abridge term\\\\S\\\\s*\\\\S', 'get oddment', 'concentrate ending', 'foreshorten term\\\\S\\\\s*\\\\S', 'reduce last', 'sign_up remainder', 'squeeze condition', 'shorten end', 'press cease', 'sign conclusion', 'condense oddment', 'foreshorten end', 'condense remainder', 'narrow finish', 'abbreviate final_stage', 'sign final_stage', 'narrow close', 'cut close'}\n",
      "TX 17404 Contract Regional (7.2.18)-pdf.txt\n",
      "{'effective', 'effectual', 'good', 'effective date\\\\S\\\\s*\\\\S', 'good date\\\\S\\\\s*\\\\S', 'in_effect date\\\\S\\\\s*\\\\S', 'in_force', 'efficient date\\\\S\\\\s*\\\\S', 'in_force date\\\\S\\\\s*\\\\S', 'efficacious', 'in_effect', 'efficient', 'efficacious date\\\\S\\\\s*\\\\S', 'effectual date\\\\S\\\\s*\\\\S'}\n",
      "{'shorten condition', 'take term', 'constrict stop', 'abbreviate terminal_figure', 'cut condition', 'contract oddment', 'condense closing', 'undertake cease', 'contract_bridge oddment', 'narrow condition', 'press stop', 'compress end', 'sign closing', 'undertake term', 'squeeze full_term', 'condense conclusion', 'sign full_term', 'sign_on terminate', 'compress finish', 'contract_bridge term\\\\S\\\\s*\\\\S', 'contract full_term', 'contract term\\\\S\\\\s*\\\\S', 'constrict terminate', 'shorten closing', 'get term\\\\S\\\\s*\\\\S', 'reduce remainder', 'foreshorten terminus', 'abridge stop', 'abbreviate finish', 'reduce terminate', 'undertake closing', 'get death', 'concentrate terminal', 'squeeze end', 'press remainder', 'get full_term', 'get final_stage', 'abridge finish', 'constrict remainder', 'sign_up end', 'get condition', 'constrict goal', 'abbreviate conclusion', 'contract_bridge close', 'declaration destruction', 'contract_bridge full_term', 'shrink oddment', 'concentrate finish', 'take destruction', 'press destruction', 'cut closing', 'concentrate remainder', 'squeeze remainder', 'foreshorten full_term', 'undertake finish', 'abbreviate cease', 'shrink last', 'condense condition', 'abridge goal', 'condense term', 'undertake end', 'take death', 'take goal', 'reduce terminal', 'contract remainder', 'sign_up cease', 'compact terminal_figure', 'press close', 'sign_up ending', 'condense stop', 'sign_up condition', 'abridge remainder', 'sign_up term\\\\S\\\\s*\\\\S', 'squeeze terminus', 'compress terminal_figure', 'compact terminate', 'squeeze cease', 'undertake final_stage', 'foreshorten condition', 'shorten stop', 'concentrate remnant', 'take last', 'cut term', 'abridge terminal_figure', 'reduce cease', 'shorten oddment', 'sign_on finish', 'foreshorten close', 'sign_on goal', 'reduce terminal_figure', 'narrow term', 'sign oddment', 'compact full_term', 'declaration terminate', 'declaration final_stage', 'compact last', 'foreshorten finish', 'reduce ending', 'compact terminus', 'condense end', 'narrow term\\\\S\\\\s*\\\\S', 'compact remainder', 'concentrate close', 'shrink end', 'undertake conclusion', 'get terminal', 'condense ending', 'abridge end', 'take conclusion', 'constrict close', 'shorten term', 'foreshorten terminate', 'get cease', 'compress term', 'compress remnant', 'foreshorten oddment', 'contract_bridge death', 'narrow conclusion', 'take terminate', 'reduce death', 'sign terminal_figure', 'sign_on conclusion', 'squeeze destruction', 'condense finish', 'contract_bridge goal', 'compact ending', 'declaration stop', 'constrict term\\\\S\\\\s*\\\\S', 'contract_bridge remnant', 'cut full_term', 'narrow terminus', 'contract_bridge terminal', 'shrink full_term', 'condense terminate', 'concentrate destruction', 'contract ending', 'sign_on term', 'abridge closing', 'declaration term\\\\S\\\\s*\\\\S', 'shrink condition', 'abbreviate ending', 'squeeze finish', 'foreshorten cease', 'take final_stage', 'contract_bridge terminal_figure', 'get term', 'take terminal_figure', 'reduce closing', 'sign_up terminate', 'sign terminate', 'shrink term\\\\S\\\\s*\\\\S', 'declaration ending', 'compact remnant', 'foreshorten destruction', 'abbreviate goal', 'narrow oddment', 'condense death', 'concentrate term', 'contract terminus', 'contract term ', 'compress terminal', 'sign_on remainder', 'foreshorten ending', 'compact stop', 'abbreviate close', 'cut terminal', 'compress condition', 'shrink closing', 'foreshorten conclusion', 'narrow ending', 'undertake goal', 'shorten last', 'narrow death', 'contract conclusion', 'reduce finish', 'concentrate end', 'narrow end', 'contract destruction', 'abridge death', 'abbreviate term', 'press term\\\\S\\\\s*\\\\S', 'concentrate cease', 'condense terminal', 'compact term\\\\S\\\\s*\\\\S', 'reduce end', 'squeeze last', 'declaration closing', 'concentrate terminate', 'cut term\\\\S\\\\s*\\\\S', 'narrow remainder', 'get stop', 'sign_on terminal_figure', 'reduce condition', 'abbreviate remnant', 'contract finish', 'take close', 'sign_up destruction', 'reduce remnant', 'sign end', 'cut final_stage', 'get closing', 'get terminal_figure', 'abridge remnant', 'press finish', 'contract term', 'constrict terminus', 'reduce goal', 'cut ending', 'sign_on stop', 'condense terminus', 'shrink close', 'sign goal', 'shorten death', 'condense final_stage', 'sign_up oddment', 'abridge cease', 'abbreviate death', 'shrink remnant', 'compress goal', 'sign_on death', 'press final_stage', 'sign_up terminal_figure', 'abridge close', 'shrink terminal_figure', 'compress death', 'contract terminate', 'compact condition', 'compress cease', 'declaration end', 'reduce stop', 'narrow full_term', 'shorten goal', 'abbreviate term\\\\S\\\\s*\\\\S', 'declaration terminal_figure', 'undertake oddment', 'sign remainder', 'undertake ending', 'compact close', 'concentrate terminus', 'sign_on last', 'abbreviate oddment', 'squeeze goal', 'shrink term', 'compact goal', 'squeeze final_stage', 'press goal', 'sign_on term\\\\S\\\\s*\\\\S', 'contract_bridge closing', 'cut stop', 'compress oddment', 'declaration full_term', 'squeeze close', 'compact final_stage', 'sign stop', 'compress remainder', 'contract_bridge term', 'foreshorten terminal', 'shorten terminal_figure', 'concentrate stop', 'cut conclusion', 'squeeze closing', 'shorten final_stage', 'compress destruction', 'press full_term', 'take terminus', 'squeeze stop', 'compress conclusion', 'condense term\\\\S\\\\s*\\\\S', 'abridge ending', 'sign_on cease', 'compress last', 'take ending', 'press terminal', 'abbreviate stop', 'compress stop', 'squeeze conclusion', 'declaration condition', 'abridge last', 'sign_on final_stage', 'contract cease', 'press death', 'shrink conclusion', 'take remnant', 'concentrate full_term', 'abridge terminal', 'declaration close', 'cut oddment', 'sign_up stop', 'sign_up death', 'press conclusion', 'undertake terminate', 'cut last', 'foreshorten closing', 'narrow goal', 'shrink cease', 'constrict end', 'cut terminus', 'foreshorten final_stage', 'contract end', 'sign_on closing', 'take oddment', 'narrow terminal_figure', 'cut remnant', 'press remnant', 'foreshorten term', 'squeeze term', 'narrow stop', 'compact destruction', 'sign_up full_term', 'undertake term\\\\S\\\\s*\\\\S', 'shorten cease', 'contract remnant', 'contract condition', 'shorten ending', 'contract goal', 'shorten terminate', 'shorten conclusion', 'undertake terminal_figure', 'shrink terminal', 'undertake full_term', 'constrict term', 'declaration finish', 'contract_bridge terminus', 'declaration death', 'concentrate term\\\\S\\\\s*\\\\S', 'abbreviate full_term', 'concentrate goal', 'shorten finish', 'abridge conclusion', 'compact conclusion', 'declaration terminal', 'contract_bridge terminate', 'shorten destruction', 'take term\\\\S\\\\s*\\\\S', 'condense last', 'foreshorten stop', 'shrink remainder', 'shorten remnant', 'sign_on full_term', 'sign_on destruction', 'shorten terminal', 'sign_up close', 'shorten full_term', 'cut terminate', 'contract_bridge stop', 'take stop', 'shrink terminus', 'narrow cease', 'get end', 'cut terminal_figure', 'sign_up last', 'contract_bridge last', 'get last', 'contract final_stage', 'foreshorten remainder', 'narrow final_stage', 'condense cease', 'undertake condition', 'sign_up term', 'abridge oddment', 'abridge terminate', 'sign_on end', 'contract_bridge remainder', 'reduce conclusion', 'reduce terminus', 'sign term', 'declaration last', 'shrink finish', 'cut destruction', 'take condition', 'undertake remnant', 'sign_on ending', 'take full_term', 'press ending', 'sign terminus', 'sign last', 'declaration oddment', 'sign death', 'shorten close', 'abbreviate last', 'sign_up remnant', 'foreshorten remnant', 'cut goal', 'squeeze terminal_figure', 'undertake close', 'contract_bridge final_stage', 'sign_up closing', 'concentrate oddment', 'declaration conclusion', 'get remnant', 'abridge term', 'take terminal', 'undertake destruction', 'shrink terminate', 'abbreviate terminus', 'take finish', 'reduce close', 'contract_bridge conclusion', 'press end', 'contract death', 'sign_up goal', 'compress term\\\\S\\\\s*\\\\S', 'abridge condition', 'get ending', 'abbreviate terminal', 'narrow remnant', 'undertake last', 'get terminate', 'shrink destruction', 'shorten remainder', 'get finish', 'abbreviate destruction', 'reduce term\\\\S\\\\s*\\\\S', 'get remainder', 'reduce full_term', 'contract_bridge end', 'get terminus', 'shrink ending', 'squeeze ending', 'contract_bridge cease', 'cut death', 'contract_bridge ending', 'contract close', 'get destruction', 'sign_on close', 'concentrate conclusion', 'condense remnant', 'sign destruction', 'sign terminal', 'declaration goal', 'cut end', 'squeeze terminal', 'get goal', 'shrink goal', 'undertake stop', 'compress full_term', 'abbreviate end', 'condense close', 'narrow terminal', 'condense full_term', 'press last', 'sign_up terminal', 'take closing', 'sign_on terminus', 'foreshorten goal', 'foreshorten death', 'undertake terminal', 'foreshorten last', 'press terminate', 'abridge destruction', 'condense destruction', 'declaration term', 'abbreviate condition', 'condense goal', 'concentrate death', 'declaration cease', 'shrink death', 'compress ending', 'constrict cease', 'compact oddment', 'compress final_stage', 'constrict terminal', 'reduce term', 'shorten terminus', 'constrict terminal_figure', 'sign_on condition', 'press closing', 'concentrate final_stage', 'press term', 'compact finish', 'squeeze remnant', 'take cease', 'constrict destruction', 'contract closing', 'sign_up finish', 'get close', 'declaration remainder', 'shrink final_stage', 'undertake remainder', 'abridge final_stage', 'sign_on terminal', 'sign_up conclusion', 'sign finish', 'sign remnant', 'shorten term\\\\S\\\\s*\\\\S', 'narrow last', 'abbreviate closing', 'compress closing', 'sign close', 'sign cease', 'foreshorten terminal_figure', 'constrict remnant', 'press terminus', 'squeeze terminate', 'concentrate closing', 'contract_bridge condition', 'sign term\\\\S\\\\s*\\\\S', 'take remainder', 'sign_up final_stage', 'abbreviate terminate', 'undertake terminus', 'constrict last', 'constrict condition', 'reduce destruction', 'compact cease', 'undertake death', 'reduce final_stage', 'contract terminal_figure', 'sign_up terminus', 'compact closing', 'sign_on oddment', 'press terminal_figure', 'compact terminal', 'contract terminal', 'reduce oddment', 'constrict ending', 'squeeze oddment', 'condense terminal_figure', 'concentrate last', 'compress terminate', 'shrink stop', 'sign ending', 'declaration terminus', 'declaration remnant', 'sign condition', 'contract_bridge finish', 'compact end', 'squeeze term\\\\S\\\\s*\\\\S', 'abridge full_term', 'constrict death', 'concentrate terminal_figure', 'constrict final_stage', 'contract last', 'compress close', 'contract stop', 'cut finish', 'narrow terminate', 'constrict finish', 'abridge terminus', 'constrict oddment', 'cut remainder', 'squeeze death', 'take end', 'constrict full_term', 'compact death', 'contract_bridge destruction', 'concentrate condition', 'get conclusion', 'constrict conclusion', 'cut cease', 'compress terminus', 'press condition', 'constrict closing', 'narrow closing', 'narrow destruction', 'compact term', 'abbreviate remainder', 'press oddment', 'sign_on remnant', 'abridge term\\\\S\\\\s*\\\\S', 'get oddment', 'concentrate ending', 'foreshorten term\\\\S\\\\s*\\\\S', 'reduce last', 'sign_up remainder', 'squeeze condition', 'shorten end', 'press cease', 'sign conclusion', 'condense oddment', 'foreshorten end', 'condense remainder', 'narrow finish', 'abbreviate final_stage', 'sign final_stage', 'narrow close', 'cut close'}\n"
     ]
    },
    {
     "name": "stdout",
     "output_type": "stream",
     "text": [
      "TX 19015 Attachment  C ENT (7.2.18).txt\n",
      "{'effective', 'effectual', 'good', 'effective date\\\\S\\\\s*\\\\S', 'good date\\\\S\\\\s*\\\\S', 'in_effect date\\\\S\\\\s*\\\\S', 'in_force', 'efficient date\\\\S\\\\s*\\\\S', 'in_force date\\\\S\\\\s*\\\\S', 'efficacious', 'in_effect', 'efficient', 'efficacious date\\\\S\\\\s*\\\\S', 'effectual date\\\\S\\\\s*\\\\S'}\n",
      "start:  2018-01-01 00:00:00\n",
      "{'shorten condition', 'take term', 'constrict stop', 'abbreviate terminal_figure', 'cut condition', 'contract oddment', 'condense closing', 'undertake cease', 'contract_bridge oddment', 'narrow condition', 'press stop', 'compress end', 'sign closing', 'undertake term', 'squeeze full_term', 'condense conclusion', 'sign full_term', 'sign_on terminate', 'compress finish', 'contract_bridge term\\\\S\\\\s*\\\\S', 'contract full_term', 'contract term\\\\S\\\\s*\\\\S', 'constrict terminate', 'shorten closing', 'get term\\\\S\\\\s*\\\\S', 'reduce remainder', 'foreshorten terminus', 'abridge stop', 'abbreviate finish', 'reduce terminate', 'undertake closing', 'get death', 'concentrate terminal', 'squeeze end', 'press remainder', 'get full_term', 'get final_stage', 'abridge finish', 'constrict remainder', 'sign_up end', 'get condition', 'constrict goal', 'abbreviate conclusion', 'contract_bridge close', 'declaration destruction', 'contract_bridge full_term', 'shrink oddment', 'concentrate finish', 'take destruction', 'press destruction', 'cut closing', 'concentrate remainder', 'squeeze remainder', 'foreshorten full_term', 'undertake finish', 'abbreviate cease', 'shrink last', 'condense condition', 'abridge goal', 'condense term', 'undertake end', 'take death', 'take goal', 'reduce terminal', 'contract remainder', 'sign_up cease', 'compact terminal_figure', 'press close', 'sign_up ending', 'condense stop', 'sign_up condition', 'abridge remainder', 'sign_up term\\\\S\\\\s*\\\\S', 'squeeze terminus', 'compress terminal_figure', 'compact terminate', 'squeeze cease', 'undertake final_stage', 'foreshorten condition', 'shorten stop', 'concentrate remnant', 'take last', 'cut term', 'abridge terminal_figure', 'reduce cease', 'shorten oddment', 'sign_on finish', 'foreshorten close', 'sign_on goal', 'reduce terminal_figure', 'narrow term', 'sign oddment', 'compact full_term', 'declaration terminate', 'declaration final_stage', 'compact last', 'foreshorten finish', 'reduce ending', 'compact terminus', 'condense end', 'narrow term\\\\S\\\\s*\\\\S', 'compact remainder', 'concentrate close', 'shrink end', 'undertake conclusion', 'get terminal', 'condense ending', 'abridge end', 'take conclusion', 'constrict close', 'shorten term', 'foreshorten terminate', 'get cease', 'compress term', 'compress remnant', 'foreshorten oddment', 'contract_bridge death', 'narrow conclusion', 'take terminate', 'reduce death', 'sign terminal_figure', 'sign_on conclusion', 'squeeze destruction', 'condense finish', 'contract_bridge goal', 'compact ending', 'declaration stop', 'constrict term\\\\S\\\\s*\\\\S', 'contract_bridge remnant', 'cut full_term', 'narrow terminus', 'contract_bridge terminal', 'shrink full_term', 'condense terminate', 'concentrate destruction', 'contract ending', 'sign_on term', 'abridge closing', 'declaration term\\\\S\\\\s*\\\\S', 'shrink condition', 'abbreviate ending', 'squeeze finish', 'foreshorten cease', 'take final_stage', 'contract_bridge terminal_figure', 'get term', 'take terminal_figure', 'reduce closing', 'sign_up terminate', 'sign terminate', 'shrink term\\\\S\\\\s*\\\\S', 'declaration ending', 'compact remnant', 'foreshorten destruction', 'abbreviate goal', 'narrow oddment', 'condense death', 'concentrate term', 'contract terminus', 'contract term ', 'compress terminal', 'sign_on remainder', 'foreshorten ending', 'compact stop', 'abbreviate close', 'cut terminal', 'compress condition', 'shrink closing', 'foreshorten conclusion', 'narrow ending', 'undertake goal', 'shorten last', 'narrow death', 'contract conclusion', 'reduce finish', 'concentrate end', 'narrow end', 'contract destruction', 'abridge death', 'abbreviate term', 'press term\\\\S\\\\s*\\\\S', 'concentrate cease', 'condense terminal', 'compact term\\\\S\\\\s*\\\\S', 'reduce end', 'squeeze last', 'declaration closing', 'concentrate terminate', 'cut term\\\\S\\\\s*\\\\S', 'narrow remainder', 'get stop', 'sign_on terminal_figure', 'reduce condition', 'abbreviate remnant', 'contract finish', 'take close', 'sign_up destruction', 'reduce remnant', 'sign end', 'cut final_stage', 'get closing', 'get terminal_figure', 'abridge remnant', 'press finish', 'contract term', 'constrict terminus', 'reduce goal', 'cut ending', 'sign_on stop', 'condense terminus', 'shrink close', 'sign goal', 'shorten death', 'condense final_stage', 'sign_up oddment', 'abridge cease', 'abbreviate death', 'shrink remnant', 'compress goal', 'sign_on death', 'press final_stage', 'sign_up terminal_figure', 'abridge close', 'shrink terminal_figure', 'compress death', 'contract terminate', 'compact condition', 'compress cease', 'declaration end', 'reduce stop', 'narrow full_term', 'shorten goal', 'abbreviate term\\\\S\\\\s*\\\\S', 'declaration terminal_figure', 'undertake oddment', 'sign remainder', 'undertake ending', 'compact close', 'concentrate terminus', 'sign_on last', 'abbreviate oddment', 'squeeze goal', 'shrink term', 'compact goal', 'squeeze final_stage', 'press goal', 'sign_on term\\\\S\\\\s*\\\\S', 'contract_bridge closing', 'cut stop', 'compress oddment', 'declaration full_term', 'squeeze close', 'compact final_stage', 'sign stop', 'compress remainder', 'contract_bridge term', 'foreshorten terminal', 'shorten terminal_figure', 'concentrate stop', 'cut conclusion', 'squeeze closing', 'shorten final_stage', 'compress destruction', 'press full_term', 'take terminus', 'squeeze stop', 'compress conclusion', 'condense term\\\\S\\\\s*\\\\S', 'abridge ending', 'sign_on cease', 'compress last', 'take ending', 'press terminal', 'abbreviate stop', 'compress stop', 'squeeze conclusion', 'declaration condition', 'abridge last', 'sign_on final_stage', 'contract cease', 'press death', 'shrink conclusion', 'take remnant', 'concentrate full_term', 'abridge terminal', 'declaration close', 'cut oddment', 'sign_up stop', 'sign_up death', 'press conclusion', 'undertake terminate', 'cut last', 'foreshorten closing', 'narrow goal', 'shrink cease', 'constrict end', 'cut terminus', 'foreshorten final_stage', 'contract end', 'sign_on closing', 'take oddment', 'narrow terminal_figure', 'cut remnant', 'press remnant', 'foreshorten term', 'squeeze term', 'narrow stop', 'compact destruction', 'sign_up full_term', 'undertake term\\\\S\\\\s*\\\\S', 'shorten cease', 'contract remnant', 'contract condition', 'shorten ending', 'contract goal', 'shorten terminate', 'shorten conclusion', 'undertake terminal_figure', 'shrink terminal', 'undertake full_term', 'constrict term', 'declaration finish', 'contract_bridge terminus', 'declaration death', 'concentrate term\\\\S\\\\s*\\\\S', 'abbreviate full_term', 'concentrate goal', 'shorten finish', 'abridge conclusion', 'compact conclusion', 'declaration terminal', 'contract_bridge terminate', 'shorten destruction', 'take term\\\\S\\\\s*\\\\S', 'condense last', 'foreshorten stop', 'shrink remainder', 'shorten remnant', 'sign_on full_term', 'sign_on destruction', 'shorten terminal', 'sign_up close', 'shorten full_term', 'cut terminate', 'contract_bridge stop', 'take stop', 'shrink terminus', 'narrow cease', 'get end', 'cut terminal_figure', 'sign_up last', 'contract_bridge last', 'get last', 'contract final_stage', 'foreshorten remainder', 'narrow final_stage', 'condense cease', 'undertake condition', 'sign_up term', 'abridge oddment', 'abridge terminate', 'sign_on end', 'contract_bridge remainder', 'reduce conclusion', 'reduce terminus', 'sign term', 'declaration last', 'shrink finish', 'cut destruction', 'take condition', 'undertake remnant', 'sign_on ending', 'take full_term', 'press ending', 'sign terminus', 'sign last', 'declaration oddment', 'sign death', 'shorten close', 'abbreviate last', 'sign_up remnant', 'foreshorten remnant', 'cut goal', 'squeeze terminal_figure', 'undertake close', 'contract_bridge final_stage', 'sign_up closing', 'concentrate oddment', 'declaration conclusion', 'get remnant', 'abridge term', 'take terminal', 'undertake destruction', 'shrink terminate', 'abbreviate terminus', 'take finish', 'reduce close', 'contract_bridge conclusion', 'press end', 'contract death', 'sign_up goal', 'compress term\\\\S\\\\s*\\\\S', 'abridge condition', 'get ending', 'abbreviate terminal', 'narrow remnant', 'undertake last', 'get terminate', 'shrink destruction', 'shorten remainder', 'get finish', 'abbreviate destruction', 'reduce term\\\\S\\\\s*\\\\S', 'get remainder', 'reduce full_term', 'contract_bridge end', 'get terminus', 'shrink ending', 'squeeze ending', 'contract_bridge cease', 'cut death', 'contract_bridge ending', 'contract close', 'get destruction', 'sign_on close', 'concentrate conclusion', 'condense remnant', 'sign destruction', 'sign terminal', 'declaration goal', 'cut end', 'squeeze terminal', 'get goal', 'shrink goal', 'undertake stop', 'compress full_term', 'abbreviate end', 'condense close', 'narrow terminal', 'condense full_term', 'press last', 'sign_up terminal', 'take closing', 'sign_on terminus', 'foreshorten goal', 'foreshorten death', 'undertake terminal', 'foreshorten last', 'press terminate', 'abridge destruction', 'condense destruction', 'declaration term', 'abbreviate condition', 'condense goal', 'concentrate death', 'declaration cease', 'shrink death', 'compress ending', 'constrict cease', 'compact oddment', 'compress final_stage', 'constrict terminal', 'reduce term', 'shorten terminus', 'constrict terminal_figure', 'sign_on condition', 'press closing', 'concentrate final_stage', 'press term', 'compact finish', 'squeeze remnant', 'take cease', 'constrict destruction', 'contract closing', 'sign_up finish', 'get close', 'declaration remainder', 'shrink final_stage', 'undertake remainder', 'abridge final_stage', 'sign_on terminal', 'sign_up conclusion', 'sign finish', 'sign remnant', 'shorten term\\\\S\\\\s*\\\\S', 'narrow last', 'abbreviate closing', 'compress closing', 'sign close', 'sign cease', 'foreshorten terminal_figure', 'constrict remnant', 'press terminus', 'squeeze terminate', 'concentrate closing', 'contract_bridge condition', 'sign term\\\\S\\\\s*\\\\S', 'take remainder', 'sign_up final_stage', 'abbreviate terminate', 'undertake terminus', 'constrict last', 'constrict condition', 'reduce destruction', 'compact cease', 'undertake death', 'reduce final_stage', 'contract terminal_figure', 'sign_up terminus', 'compact closing', 'sign_on oddment', 'press terminal_figure', 'compact terminal', 'contract terminal', 'reduce oddment', 'constrict ending', 'squeeze oddment', 'condense terminal_figure', 'concentrate last', 'compress terminate', 'shrink stop', 'sign ending', 'declaration terminus', 'declaration remnant', 'sign condition', 'contract_bridge finish', 'compact end', 'squeeze term\\\\S\\\\s*\\\\S', 'abridge full_term', 'constrict death', 'concentrate terminal_figure', 'constrict final_stage', 'contract last', 'compress close', 'contract stop', 'cut finish', 'narrow terminate', 'constrict finish', 'abridge terminus', 'constrict oddment', 'cut remainder', 'squeeze death', 'take end', 'constrict full_term', 'compact death', 'contract_bridge destruction', 'concentrate condition', 'get conclusion', 'constrict conclusion', 'cut cease', 'compress terminus', 'press condition', 'constrict closing', 'narrow closing', 'narrow destruction', 'compact term', 'abbreviate remainder', 'press oddment', 'sign_on remnant', 'abridge term\\\\S\\\\s*\\\\S', 'get oddment', 'concentrate ending', 'foreshorten term\\\\S\\\\s*\\\\S', 'reduce last', 'sign_up remainder', 'squeeze condition', 'shorten end', 'press cease', 'sign conclusion', 'condense oddment', 'foreshorten end', 'condense remainder', 'narrow finish', 'abbreviate final_stage', 'sign final_stage', 'narrow close', 'cut close'}\n",
      "end:  2019-12-31 00:00:00\n",
      "TX 19015 Contract ENT (7.2.18)-pdf.txt\n",
      "{'effective', 'effectual', 'good', 'effective date\\\\S\\\\s*\\\\S', 'good date\\\\S\\\\s*\\\\S', 'in_effect date\\\\S\\\\s*\\\\S', 'in_force', 'efficient date\\\\S\\\\s*\\\\S', 'in_force date\\\\S\\\\s*\\\\S', 'efficacious', 'in_effect', 'efficient', 'efficacious date\\\\S\\\\s*\\\\S', 'effectual date\\\\S\\\\s*\\\\S'}\n",
      "start:  2018-01-01 00:00:00\n",
      "{'shorten condition', 'take term', 'constrict stop', 'abbreviate terminal_figure', 'cut condition', 'contract oddment', 'condense closing', 'undertake cease', 'contract_bridge oddment', 'narrow condition', 'press stop', 'compress end', 'sign closing', 'undertake term', 'squeeze full_term', 'condense conclusion', 'sign full_term', 'sign_on terminate', 'compress finish', 'contract_bridge term\\\\S\\\\s*\\\\S', 'contract full_term', 'contract term\\\\S\\\\s*\\\\S', 'constrict terminate', 'shorten closing', 'get term\\\\S\\\\s*\\\\S', 'reduce remainder', 'foreshorten terminus', 'abridge stop', 'abbreviate finish', 'reduce terminate', 'undertake closing', 'get death', 'concentrate terminal', 'squeeze end', 'press remainder', 'get full_term', 'get final_stage', 'abridge finish', 'constrict remainder', 'sign_up end', 'get condition', 'constrict goal', 'abbreviate conclusion', 'contract_bridge close', 'declaration destruction', 'contract_bridge full_term', 'shrink oddment', 'concentrate finish', 'take destruction', 'press destruction', 'cut closing', 'concentrate remainder', 'squeeze remainder', 'foreshorten full_term', 'undertake finish', 'abbreviate cease', 'shrink last', 'condense condition', 'abridge goal', 'condense term', 'undertake end', 'take death', 'take goal', 'reduce terminal', 'contract remainder', 'sign_up cease', 'compact terminal_figure', 'press close', 'sign_up ending', 'condense stop', 'sign_up condition', 'abridge remainder', 'sign_up term\\\\S\\\\s*\\\\S', 'squeeze terminus', 'compress terminal_figure', 'compact terminate', 'squeeze cease', 'undertake final_stage', 'foreshorten condition', 'shorten stop', 'concentrate remnant', 'take last', 'cut term', 'abridge terminal_figure', 'reduce cease', 'shorten oddment', 'sign_on finish', 'foreshorten close', 'sign_on goal', 'reduce terminal_figure', 'narrow term', 'sign oddment', 'compact full_term', 'declaration terminate', 'declaration final_stage', 'compact last', 'foreshorten finish', 'reduce ending', 'compact terminus', 'condense end', 'narrow term\\\\S\\\\s*\\\\S', 'compact remainder', 'concentrate close', 'shrink end', 'undertake conclusion', 'get terminal', 'condense ending', 'abridge end', 'take conclusion', 'constrict close', 'shorten term', 'foreshorten terminate', 'get cease', 'compress term', 'compress remnant', 'foreshorten oddment', 'contract_bridge death', 'narrow conclusion', 'take terminate', 'reduce death', 'sign terminal_figure', 'sign_on conclusion', 'squeeze destruction', 'condense finish', 'contract_bridge goal', 'compact ending', 'declaration stop', 'constrict term\\\\S\\\\s*\\\\S', 'contract_bridge remnant', 'cut full_term', 'narrow terminus', 'contract_bridge terminal', 'shrink full_term', 'condense terminate', 'concentrate destruction', 'contract ending', 'sign_on term', 'abridge closing', 'declaration term\\\\S\\\\s*\\\\S', 'shrink condition', 'abbreviate ending', 'squeeze finish', 'foreshorten cease', 'take final_stage', 'contract_bridge terminal_figure', 'get term', 'take terminal_figure', 'reduce closing', 'sign_up terminate', 'sign terminate', 'shrink term\\\\S\\\\s*\\\\S', 'declaration ending', 'compact remnant', 'foreshorten destruction', 'abbreviate goal', 'narrow oddment', 'condense death', 'concentrate term', 'contract terminus', 'contract term ', 'compress terminal', 'sign_on remainder', 'foreshorten ending', 'compact stop', 'abbreviate close', 'cut terminal', 'compress condition', 'shrink closing', 'foreshorten conclusion', 'narrow ending', 'undertake goal', 'shorten last', 'narrow death', 'contract conclusion', 'reduce finish', 'concentrate end', 'narrow end', 'contract destruction', 'abridge death', 'abbreviate term', 'press term\\\\S\\\\s*\\\\S', 'concentrate cease', 'condense terminal', 'compact term\\\\S\\\\s*\\\\S', 'reduce end', 'squeeze last', 'declaration closing', 'concentrate terminate', 'cut term\\\\S\\\\s*\\\\S', 'narrow remainder', 'get stop', 'sign_on terminal_figure', 'reduce condition', 'abbreviate remnant', 'contract finish', 'take close', 'sign_up destruction', 'reduce remnant', 'sign end', 'cut final_stage', 'get closing', 'get terminal_figure', 'abridge remnant', 'press finish', 'contract term', 'constrict terminus', 'reduce goal', 'cut ending', 'sign_on stop', 'condense terminus', 'shrink close', 'sign goal', 'shorten death', 'condense final_stage', 'sign_up oddment', 'abridge cease', 'abbreviate death', 'shrink remnant', 'compress goal', 'sign_on death', 'press final_stage', 'sign_up terminal_figure', 'abridge close', 'shrink terminal_figure', 'compress death', 'contract terminate', 'compact condition', 'compress cease', 'declaration end', 'reduce stop', 'narrow full_term', 'shorten goal', 'abbreviate term\\\\S\\\\s*\\\\S', 'declaration terminal_figure', 'undertake oddment', 'sign remainder', 'undertake ending', 'compact close', 'concentrate terminus', 'sign_on last', 'abbreviate oddment', 'squeeze goal', 'shrink term', 'compact goal', 'squeeze final_stage', 'press goal', 'sign_on term\\\\S\\\\s*\\\\S', 'contract_bridge closing', 'cut stop', 'compress oddment', 'declaration full_term', 'squeeze close', 'compact final_stage', 'sign stop', 'compress remainder', 'contract_bridge term', 'foreshorten terminal', 'shorten terminal_figure', 'concentrate stop', 'cut conclusion', 'squeeze closing', 'shorten final_stage', 'compress destruction', 'press full_term', 'take terminus', 'squeeze stop', 'compress conclusion', 'condense term\\\\S\\\\s*\\\\S', 'abridge ending', 'sign_on cease', 'compress last', 'take ending', 'press terminal', 'abbreviate stop', 'compress stop', 'squeeze conclusion', 'declaration condition', 'abridge last', 'sign_on final_stage', 'contract cease', 'press death', 'shrink conclusion', 'take remnant', 'concentrate full_term', 'abridge terminal', 'declaration close', 'cut oddment', 'sign_up stop', 'sign_up death', 'press conclusion', 'undertake terminate', 'cut last', 'foreshorten closing', 'narrow goal', 'shrink cease', 'constrict end', 'cut terminus', 'foreshorten final_stage', 'contract end', 'sign_on closing', 'take oddment', 'narrow terminal_figure', 'cut remnant', 'press remnant', 'foreshorten term', 'squeeze term', 'narrow stop', 'compact destruction', 'sign_up full_term', 'undertake term\\\\S\\\\s*\\\\S', 'shorten cease', 'contract remnant', 'contract condition', 'shorten ending', 'contract goal', 'shorten terminate', 'shorten conclusion', 'undertake terminal_figure', 'shrink terminal', 'undertake full_term', 'constrict term', 'declaration finish', 'contract_bridge terminus', 'declaration death', 'concentrate term\\\\S\\\\s*\\\\S', 'abbreviate full_term', 'concentrate goal', 'shorten finish', 'abridge conclusion', 'compact conclusion', 'declaration terminal', 'contract_bridge terminate', 'shorten destruction', 'take term\\\\S\\\\s*\\\\S', 'condense last', 'foreshorten stop', 'shrink remainder', 'shorten remnant', 'sign_on full_term', 'sign_on destruction', 'shorten terminal', 'sign_up close', 'shorten full_term', 'cut terminate', 'contract_bridge stop', 'take stop', 'shrink terminus', 'narrow cease', 'get end', 'cut terminal_figure', 'sign_up last', 'contract_bridge last', 'get last', 'contract final_stage', 'foreshorten remainder', 'narrow final_stage', 'condense cease', 'undertake condition', 'sign_up term', 'abridge oddment', 'abridge terminate', 'sign_on end', 'contract_bridge remainder', 'reduce conclusion', 'reduce terminus', 'sign term', 'declaration last', 'shrink finish', 'cut destruction', 'take condition', 'undertake remnant', 'sign_on ending', 'take full_term', 'press ending', 'sign terminus', 'sign last', 'declaration oddment', 'sign death', 'shorten close', 'abbreviate last', 'sign_up remnant', 'foreshorten remnant', 'cut goal', 'squeeze terminal_figure', 'undertake close', 'contract_bridge final_stage', 'sign_up closing', 'concentrate oddment', 'declaration conclusion', 'get remnant', 'abridge term', 'take terminal', 'undertake destruction', 'shrink terminate', 'abbreviate terminus', 'take finish', 'reduce close', 'contract_bridge conclusion', 'press end', 'contract death', 'sign_up goal', 'compress term\\\\S\\\\s*\\\\S', 'abridge condition', 'get ending', 'abbreviate terminal', 'narrow remnant', 'undertake last', 'get terminate', 'shrink destruction', 'shorten remainder', 'get finish', 'abbreviate destruction', 'reduce term\\\\S\\\\s*\\\\S', 'get remainder', 'reduce full_term', 'contract_bridge end', 'get terminus', 'shrink ending', 'squeeze ending', 'contract_bridge cease', 'cut death', 'contract_bridge ending', 'contract close', 'get destruction', 'sign_on close', 'concentrate conclusion', 'condense remnant', 'sign destruction', 'sign terminal', 'declaration goal', 'cut end', 'squeeze terminal', 'get goal', 'shrink goal', 'undertake stop', 'compress full_term', 'abbreviate end', 'condense close', 'narrow terminal', 'condense full_term', 'press last', 'sign_up terminal', 'take closing', 'sign_on terminus', 'foreshorten goal', 'foreshorten death', 'undertake terminal', 'foreshorten last', 'press terminate', 'abridge destruction', 'condense destruction', 'declaration term', 'abbreviate condition', 'condense goal', 'concentrate death', 'declaration cease', 'shrink death', 'compress ending', 'constrict cease', 'compact oddment', 'compress final_stage', 'constrict terminal', 'reduce term', 'shorten terminus', 'constrict terminal_figure', 'sign_on condition', 'press closing', 'concentrate final_stage', 'press term', 'compact finish', 'squeeze remnant', 'take cease', 'constrict destruction', 'contract closing', 'sign_up finish', 'get close', 'declaration remainder', 'shrink final_stage', 'undertake remainder', 'abridge final_stage', 'sign_on terminal', 'sign_up conclusion', 'sign finish', 'sign remnant', 'shorten term\\\\S\\\\s*\\\\S', 'narrow last', 'abbreviate closing', 'compress closing', 'sign close', 'sign cease', 'foreshorten terminal_figure', 'constrict remnant', 'press terminus', 'squeeze terminate', 'concentrate closing', 'contract_bridge condition', 'sign term\\\\S\\\\s*\\\\S', 'take remainder', 'sign_up final_stage', 'abbreviate terminate', 'undertake terminus', 'constrict last', 'constrict condition', 'reduce destruction', 'compact cease', 'undertake death', 'reduce final_stage', 'contract terminal_figure', 'sign_up terminus', 'compact closing', 'sign_on oddment', 'press terminal_figure', 'compact terminal', 'contract terminal', 'reduce oddment', 'constrict ending', 'squeeze oddment', 'condense terminal_figure', 'concentrate last', 'compress terminate', 'shrink stop', 'sign ending', 'declaration terminus', 'declaration remnant', 'sign condition', 'contract_bridge finish', 'compact end', 'squeeze term\\\\S\\\\s*\\\\S', 'abridge full_term', 'constrict death', 'concentrate terminal_figure', 'constrict final_stage', 'contract last', 'compress close', 'contract stop', 'cut finish', 'narrow terminate', 'constrict finish', 'abridge terminus', 'constrict oddment', 'cut remainder', 'squeeze death', 'take end', 'constrict full_term', 'compact death', 'contract_bridge destruction', 'concentrate condition', 'get conclusion', 'constrict conclusion', 'cut cease', 'compress terminus', 'press condition', 'constrict closing', 'narrow closing', 'narrow destruction', 'compact term', 'abbreviate remainder', 'press oddment', 'sign_on remnant', 'abridge term\\\\S\\\\s*\\\\S', 'get oddment', 'concentrate ending', 'foreshorten term\\\\S\\\\s*\\\\S', 'reduce last', 'sign_up remainder', 'squeeze condition', 'shorten end', 'press cease', 'sign conclusion', 'condense oddment', 'foreshorten end', 'condense remainder', 'narrow finish', 'abbreviate final_stage', 'sign final_stage', 'narrow close', 'cut close'}\n"
     ]
    },
    {
     "name": "stdout",
     "output_type": "stream",
     "text": [
      "end:  2019-12-31 00:00:00\n",
      "TX-18745-ASC Contract (7.2.18).txt\n",
      "{'effective', 'effectual', 'good', 'effective date\\\\S\\\\s*\\\\S', 'good date\\\\S\\\\s*\\\\S', 'in_effect date\\\\S\\\\s*\\\\S', 'in_force', 'efficient date\\\\S\\\\s*\\\\S', 'in_force date\\\\S\\\\s*\\\\S', 'efficacious', 'in_effect', 'efficient', 'efficacious date\\\\S\\\\s*\\\\S', 'effectual date\\\\S\\\\s*\\\\S'}\n",
      "start:  2017-04-01 00:00:00\n",
      "{'shorten condition', 'take term', 'constrict stop', 'abbreviate terminal_figure', 'cut condition', 'contract oddment', 'condense closing', 'undertake cease', 'contract_bridge oddment', 'narrow condition', 'press stop', 'compress end', 'sign closing', 'undertake term', 'squeeze full_term', 'condense conclusion', 'sign full_term', 'sign_on terminate', 'compress finish', 'contract_bridge term\\\\S\\\\s*\\\\S', 'contract full_term', 'contract term\\\\S\\\\s*\\\\S', 'constrict terminate', 'shorten closing', 'get term\\\\S\\\\s*\\\\S', 'reduce remainder', 'foreshorten terminus', 'abridge stop', 'abbreviate finish', 'reduce terminate', 'undertake closing', 'get death', 'concentrate terminal', 'squeeze end', 'press remainder', 'get full_term', 'get final_stage', 'abridge finish', 'constrict remainder', 'sign_up end', 'get condition', 'constrict goal', 'abbreviate conclusion', 'contract_bridge close', 'declaration destruction', 'contract_bridge full_term', 'shrink oddment', 'concentrate finish', 'take destruction', 'press destruction', 'cut closing', 'concentrate remainder', 'squeeze remainder', 'foreshorten full_term', 'undertake finish', 'abbreviate cease', 'shrink last', 'condense condition', 'abridge goal', 'condense term', 'undertake end', 'take death', 'take goal', 'reduce terminal', 'contract remainder', 'sign_up cease', 'compact terminal_figure', 'press close', 'sign_up ending', 'condense stop', 'sign_up condition', 'abridge remainder', 'sign_up term\\\\S\\\\s*\\\\S', 'squeeze terminus', 'compress terminal_figure', 'compact terminate', 'squeeze cease', 'undertake final_stage', 'foreshorten condition', 'shorten stop', 'concentrate remnant', 'take last', 'cut term', 'abridge terminal_figure', 'reduce cease', 'shorten oddment', 'sign_on finish', 'foreshorten close', 'sign_on goal', 'reduce terminal_figure', 'narrow term', 'sign oddment', 'compact full_term', 'declaration terminate', 'declaration final_stage', 'compact last', 'foreshorten finish', 'reduce ending', 'compact terminus', 'condense end', 'narrow term\\\\S\\\\s*\\\\S', 'compact remainder', 'concentrate close', 'shrink end', 'undertake conclusion', 'get terminal', 'condense ending', 'abridge end', 'take conclusion', 'constrict close', 'shorten term', 'foreshorten terminate', 'get cease', 'compress term', 'compress remnant', 'foreshorten oddment', 'contract_bridge death', 'narrow conclusion', 'take terminate', 'reduce death', 'sign terminal_figure', 'sign_on conclusion', 'squeeze destruction', 'condense finish', 'contract_bridge goal', 'compact ending', 'declaration stop', 'constrict term\\\\S\\\\s*\\\\S', 'contract_bridge remnant', 'cut full_term', 'narrow terminus', 'contract_bridge terminal', 'shrink full_term', 'condense terminate', 'concentrate destruction', 'contract ending', 'sign_on term', 'abridge closing', 'declaration term\\\\S\\\\s*\\\\S', 'shrink condition', 'abbreviate ending', 'squeeze finish', 'foreshorten cease', 'take final_stage', 'contract_bridge terminal_figure', 'get term', 'take terminal_figure', 'reduce closing', 'sign_up terminate', 'sign terminate', 'shrink term\\\\S\\\\s*\\\\S', 'declaration ending', 'compact remnant', 'foreshorten destruction', 'abbreviate goal', 'narrow oddment', 'condense death', 'concentrate term', 'contract terminus', 'contract term ', 'compress terminal', 'sign_on remainder', 'foreshorten ending', 'compact stop', 'abbreviate close', 'cut terminal', 'compress condition', 'shrink closing', 'foreshorten conclusion', 'narrow ending', 'undertake goal', 'shorten last', 'narrow death', 'contract conclusion', 'reduce finish', 'concentrate end', 'narrow end', 'contract destruction', 'abridge death', 'abbreviate term', 'press term\\\\S\\\\s*\\\\S', 'concentrate cease', 'condense terminal', 'compact term\\\\S\\\\s*\\\\S', 'reduce end', 'squeeze last', 'declaration closing', 'concentrate terminate', 'cut term\\\\S\\\\s*\\\\S', 'narrow remainder', 'get stop', 'sign_on terminal_figure', 'reduce condition', 'abbreviate remnant', 'contract finish', 'take close', 'sign_up destruction', 'reduce remnant', 'sign end', 'cut final_stage', 'get closing', 'get terminal_figure', 'abridge remnant', 'press finish', 'contract term', 'constrict terminus', 'reduce goal', 'cut ending', 'sign_on stop', 'condense terminus', 'shrink close', 'sign goal', 'shorten death', 'condense final_stage', 'sign_up oddment', 'abridge cease', 'abbreviate death', 'shrink remnant', 'compress goal', 'sign_on death', 'press final_stage', 'sign_up terminal_figure', 'abridge close', 'shrink terminal_figure', 'compress death', 'contract terminate', 'compact condition', 'compress cease', 'declaration end', 'reduce stop', 'narrow full_term', 'shorten goal', 'abbreviate term\\\\S\\\\s*\\\\S', 'declaration terminal_figure', 'undertake oddment', 'sign remainder', 'undertake ending', 'compact close', 'concentrate terminus', 'sign_on last', 'abbreviate oddment', 'squeeze goal', 'shrink term', 'compact goal', 'squeeze final_stage', 'press goal', 'sign_on term\\\\S\\\\s*\\\\S', 'contract_bridge closing', 'cut stop', 'compress oddment', 'declaration full_term', 'squeeze close', 'compact final_stage', 'sign stop', 'compress remainder', 'contract_bridge term', 'foreshorten terminal', 'shorten terminal_figure', 'concentrate stop', 'cut conclusion', 'squeeze closing', 'shorten final_stage', 'compress destruction', 'press full_term', 'take terminus', 'squeeze stop', 'compress conclusion', 'condense term\\\\S\\\\s*\\\\S', 'abridge ending', 'sign_on cease', 'compress last', 'take ending', 'press terminal', 'abbreviate stop', 'compress stop', 'squeeze conclusion', 'declaration condition', 'abridge last', 'sign_on final_stage', 'contract cease', 'press death', 'shrink conclusion', 'take remnant', 'concentrate full_term', 'abridge terminal', 'declaration close', 'cut oddment', 'sign_up stop', 'sign_up death', 'press conclusion', 'undertake terminate', 'cut last', 'foreshorten closing', 'narrow goal', 'shrink cease', 'constrict end', 'cut terminus', 'foreshorten final_stage', 'contract end', 'sign_on closing', 'take oddment', 'narrow terminal_figure', 'cut remnant', 'press remnant', 'foreshorten term', 'squeeze term', 'narrow stop', 'compact destruction', 'sign_up full_term', 'undertake term\\\\S\\\\s*\\\\S', 'shorten cease', 'contract remnant', 'contract condition', 'shorten ending', 'contract goal', 'shorten terminate', 'shorten conclusion', 'undertake terminal_figure', 'shrink terminal', 'undertake full_term', 'constrict term', 'declaration finish', 'contract_bridge terminus', 'declaration death', 'concentrate term\\\\S\\\\s*\\\\S', 'abbreviate full_term', 'concentrate goal', 'shorten finish', 'abridge conclusion', 'compact conclusion', 'declaration terminal', 'contract_bridge terminate', 'shorten destruction', 'take term\\\\S\\\\s*\\\\S', 'condense last', 'foreshorten stop', 'shrink remainder', 'shorten remnant', 'sign_on full_term', 'sign_on destruction', 'shorten terminal', 'sign_up close', 'shorten full_term', 'cut terminate', 'contract_bridge stop', 'take stop', 'shrink terminus', 'narrow cease', 'get end', 'cut terminal_figure', 'sign_up last', 'contract_bridge last', 'get last', 'contract final_stage', 'foreshorten remainder', 'narrow final_stage', 'condense cease', 'undertake condition', 'sign_up term', 'abridge oddment', 'abridge terminate', 'sign_on end', 'contract_bridge remainder', 'reduce conclusion', 'reduce terminus', 'sign term', 'declaration last', 'shrink finish', 'cut destruction', 'take condition', 'undertake remnant', 'sign_on ending', 'take full_term', 'press ending', 'sign terminus', 'sign last', 'declaration oddment', 'sign death', 'shorten close', 'abbreviate last', 'sign_up remnant', 'foreshorten remnant', 'cut goal', 'squeeze terminal_figure', 'undertake close', 'contract_bridge final_stage', 'sign_up closing', 'concentrate oddment', 'declaration conclusion', 'get remnant', 'abridge term', 'take terminal', 'undertake destruction', 'shrink terminate', 'abbreviate terminus', 'take finish', 'reduce close', 'contract_bridge conclusion', 'press end', 'contract death', 'sign_up goal', 'compress term\\\\S\\\\s*\\\\S', 'abridge condition', 'get ending', 'abbreviate terminal', 'narrow remnant', 'undertake last', 'get terminate', 'shrink destruction', 'shorten remainder', 'get finish', 'abbreviate destruction', 'reduce term\\\\S\\\\s*\\\\S', 'get remainder', 'reduce full_term', 'contract_bridge end', 'get terminus', 'shrink ending', 'squeeze ending', 'contract_bridge cease', 'cut death', 'contract_bridge ending', 'contract close', 'get destruction', 'sign_on close', 'concentrate conclusion', 'condense remnant', 'sign destruction', 'sign terminal', 'declaration goal', 'cut end', 'squeeze terminal', 'get goal', 'shrink goal', 'undertake stop', 'compress full_term', 'abbreviate end', 'condense close', 'narrow terminal', 'condense full_term', 'press last', 'sign_up terminal', 'take closing', 'sign_on terminus', 'foreshorten goal', 'foreshorten death', 'undertake terminal', 'foreshorten last', 'press terminate', 'abridge destruction', 'condense destruction', 'declaration term', 'abbreviate condition', 'condense goal', 'concentrate death', 'declaration cease', 'shrink death', 'compress ending', 'constrict cease', 'compact oddment', 'compress final_stage', 'constrict terminal', 'reduce term', 'shorten terminus', 'constrict terminal_figure', 'sign_on condition', 'press closing', 'concentrate final_stage', 'press term', 'compact finish', 'squeeze remnant', 'take cease', 'constrict destruction', 'contract closing', 'sign_up finish', 'get close', 'declaration remainder', 'shrink final_stage', 'undertake remainder', 'abridge final_stage', 'sign_on terminal', 'sign_up conclusion', 'sign finish', 'sign remnant', 'shorten term\\\\S\\\\s*\\\\S', 'narrow last', 'abbreviate closing', 'compress closing', 'sign close', 'sign cease', 'foreshorten terminal_figure', 'constrict remnant', 'press terminus', 'squeeze terminate', 'concentrate closing', 'contract_bridge condition', 'sign term\\\\S\\\\s*\\\\S', 'take remainder', 'sign_up final_stage', 'abbreviate terminate', 'undertake terminus', 'constrict last', 'constrict condition', 'reduce destruction', 'compact cease', 'undertake death', 'reduce final_stage', 'contract terminal_figure', 'sign_up terminus', 'compact closing', 'sign_on oddment', 'press terminal_figure', 'compact terminal', 'contract terminal', 'reduce oddment', 'constrict ending', 'squeeze oddment', 'condense terminal_figure', 'concentrate last', 'compress terminate', 'shrink stop', 'sign ending', 'declaration terminus', 'declaration remnant', 'sign condition', 'contract_bridge finish', 'compact end', 'squeeze term\\\\S\\\\s*\\\\S', 'abridge full_term', 'constrict death', 'concentrate terminal_figure', 'constrict final_stage', 'contract last', 'compress close', 'contract stop', 'cut finish', 'narrow terminate', 'constrict finish', 'abridge terminus', 'constrict oddment', 'cut remainder', 'squeeze death', 'take end', 'constrict full_term', 'compact death', 'contract_bridge destruction', 'concentrate condition', 'get conclusion', 'constrict conclusion', 'cut cease', 'compress terminus', 'press condition', 'constrict closing', 'narrow closing', 'narrow destruction', 'compact term', 'abbreviate remainder', 'press oddment', 'sign_on remnant', 'abridge term\\\\S\\\\s*\\\\S', 'get oddment', 'concentrate ending', 'foreshorten term\\\\S\\\\s*\\\\S', 'reduce last', 'sign_up remainder', 'squeeze condition', 'shorten end', 'press cease', 'sign conclusion', 'condense oddment', 'foreshorten end', 'condense remainder', 'narrow finish', 'abbreviate final_stage', 'sign final_stage', 'narrow close', 'cut close'}\n"
     ]
    },
    {
     "name": "stdout",
     "output_type": "stream",
     "text": [
      "end:  2019-12-31 00:00:00\n",
      "TX 17404 Contract Regional (7.2.18).txt\n",
      "{'effective', 'effectual', 'good', 'effective date\\\\S\\\\s*\\\\S', 'good date\\\\S\\\\s*\\\\S', 'in_effect date\\\\S\\\\s*\\\\S', 'in_force', 'efficient date\\\\S\\\\s*\\\\S', 'in_force date\\\\S\\\\s*\\\\S', 'efficacious', 'in_effect', 'efficient', 'efficacious date\\\\S\\\\s*\\\\S', 'effectual date\\\\S\\\\s*\\\\S'}\n",
      "start:  2014-10-01 00:00:00\n",
      "{'shorten condition', 'take term', 'constrict stop', 'abbreviate terminal_figure', 'cut condition', 'contract oddment', 'condense closing', 'undertake cease', 'contract_bridge oddment', 'narrow condition', 'press stop', 'compress end', 'sign closing', 'undertake term', 'squeeze full_term', 'condense conclusion', 'sign full_term', 'sign_on terminate', 'compress finish', 'contract_bridge term\\\\S\\\\s*\\\\S', 'contract full_term', 'contract term\\\\S\\\\s*\\\\S', 'constrict terminate', 'shorten closing', 'get term\\\\S\\\\s*\\\\S', 'reduce remainder', 'foreshorten terminus', 'abridge stop', 'abbreviate finish', 'reduce terminate', 'undertake closing', 'get death', 'concentrate terminal', 'squeeze end', 'press remainder', 'get full_term', 'get final_stage', 'abridge finish', 'constrict remainder', 'sign_up end', 'get condition', 'constrict goal', 'abbreviate conclusion', 'contract_bridge close', 'declaration destruction', 'contract_bridge full_term', 'shrink oddment', 'concentrate finish', 'take destruction', 'press destruction', 'cut closing', 'concentrate remainder', 'squeeze remainder', 'foreshorten full_term', 'undertake finish', 'abbreviate cease', 'shrink last', 'condense condition', 'abridge goal', 'condense term', 'undertake end', 'take death', 'take goal', 'reduce terminal', 'contract remainder', 'sign_up cease', 'compact terminal_figure', 'press close', 'sign_up ending', 'condense stop', 'sign_up condition', 'abridge remainder', 'sign_up term\\\\S\\\\s*\\\\S', 'squeeze terminus', 'compress terminal_figure', 'compact terminate', 'squeeze cease', 'undertake final_stage', 'foreshorten condition', 'shorten stop', 'concentrate remnant', 'take last', 'cut term', 'abridge terminal_figure', 'reduce cease', 'shorten oddment', 'sign_on finish', 'foreshorten close', 'sign_on goal', 'reduce terminal_figure', 'narrow term', 'sign oddment', 'compact full_term', 'declaration terminate', 'declaration final_stage', 'compact last', 'foreshorten finish', 'reduce ending', 'compact terminus', 'condense end', 'narrow term\\\\S\\\\s*\\\\S', 'compact remainder', 'concentrate close', 'shrink end', 'undertake conclusion', 'get terminal', 'condense ending', 'abridge end', 'take conclusion', 'constrict close', 'shorten term', 'foreshorten terminate', 'get cease', 'compress term', 'compress remnant', 'foreshorten oddment', 'contract_bridge death', 'narrow conclusion', 'take terminate', 'reduce death', 'sign terminal_figure', 'sign_on conclusion', 'squeeze destruction', 'condense finish', 'contract_bridge goal', 'compact ending', 'declaration stop', 'constrict term\\\\S\\\\s*\\\\S', 'contract_bridge remnant', 'cut full_term', 'narrow terminus', 'contract_bridge terminal', 'shrink full_term', 'condense terminate', 'concentrate destruction', 'contract ending', 'sign_on term', 'abridge closing', 'declaration term\\\\S\\\\s*\\\\S', 'shrink condition', 'abbreviate ending', 'squeeze finish', 'foreshorten cease', 'take final_stage', 'contract_bridge terminal_figure', 'get term', 'take terminal_figure', 'reduce closing', 'sign_up terminate', 'sign terminate', 'shrink term\\\\S\\\\s*\\\\S', 'declaration ending', 'compact remnant', 'foreshorten destruction', 'abbreviate goal', 'narrow oddment', 'condense death', 'concentrate term', 'contract terminus', 'contract term ', 'compress terminal', 'sign_on remainder', 'foreshorten ending', 'compact stop', 'abbreviate close', 'cut terminal', 'compress condition', 'shrink closing', 'foreshorten conclusion', 'narrow ending', 'undertake goal', 'shorten last', 'narrow death', 'contract conclusion', 'reduce finish', 'concentrate end', 'narrow end', 'contract destruction', 'abridge death', 'abbreviate term', 'press term\\\\S\\\\s*\\\\S', 'concentrate cease', 'condense terminal', 'compact term\\\\S\\\\s*\\\\S', 'reduce end', 'squeeze last', 'declaration closing', 'concentrate terminate', 'cut term\\\\S\\\\s*\\\\S', 'narrow remainder', 'get stop', 'sign_on terminal_figure', 'reduce condition', 'abbreviate remnant', 'contract finish', 'take close', 'sign_up destruction', 'reduce remnant', 'sign end', 'cut final_stage', 'get closing', 'get terminal_figure', 'abridge remnant', 'press finish', 'contract term', 'constrict terminus', 'reduce goal', 'cut ending', 'sign_on stop', 'condense terminus', 'shrink close', 'sign goal', 'shorten death', 'condense final_stage', 'sign_up oddment', 'abridge cease', 'abbreviate death', 'shrink remnant', 'compress goal', 'sign_on death', 'press final_stage', 'sign_up terminal_figure', 'abridge close', 'shrink terminal_figure', 'compress death', 'contract terminate', 'compact condition', 'compress cease', 'declaration end', 'reduce stop', 'narrow full_term', 'shorten goal', 'abbreviate term\\\\S\\\\s*\\\\S', 'declaration terminal_figure', 'undertake oddment', 'sign remainder', 'undertake ending', 'compact close', 'concentrate terminus', 'sign_on last', 'abbreviate oddment', 'squeeze goal', 'shrink term', 'compact goal', 'squeeze final_stage', 'press goal', 'sign_on term\\\\S\\\\s*\\\\S', 'contract_bridge closing', 'cut stop', 'compress oddment', 'declaration full_term', 'squeeze close', 'compact final_stage', 'sign stop', 'compress remainder', 'contract_bridge term', 'foreshorten terminal', 'shorten terminal_figure', 'concentrate stop', 'cut conclusion', 'squeeze closing', 'shorten final_stage', 'compress destruction', 'press full_term', 'take terminus', 'squeeze stop', 'compress conclusion', 'condense term\\\\S\\\\s*\\\\S', 'abridge ending', 'sign_on cease', 'compress last', 'take ending', 'press terminal', 'abbreviate stop', 'compress stop', 'squeeze conclusion', 'declaration condition', 'abridge last', 'sign_on final_stage', 'contract cease', 'press death', 'shrink conclusion', 'take remnant', 'concentrate full_term', 'abridge terminal', 'declaration close', 'cut oddment', 'sign_up stop', 'sign_up death', 'press conclusion', 'undertake terminate', 'cut last', 'foreshorten closing', 'narrow goal', 'shrink cease', 'constrict end', 'cut terminus', 'foreshorten final_stage', 'contract end', 'sign_on closing', 'take oddment', 'narrow terminal_figure', 'cut remnant', 'press remnant', 'foreshorten term', 'squeeze term', 'narrow stop', 'compact destruction', 'sign_up full_term', 'undertake term\\\\S\\\\s*\\\\S', 'shorten cease', 'contract remnant', 'contract condition', 'shorten ending', 'contract goal', 'shorten terminate', 'shorten conclusion', 'undertake terminal_figure', 'shrink terminal', 'undertake full_term', 'constrict term', 'declaration finish', 'contract_bridge terminus', 'declaration death', 'concentrate term\\\\S\\\\s*\\\\S', 'abbreviate full_term', 'concentrate goal', 'shorten finish', 'abridge conclusion', 'compact conclusion', 'declaration terminal', 'contract_bridge terminate', 'shorten destruction', 'take term\\\\S\\\\s*\\\\S', 'condense last', 'foreshorten stop', 'shrink remainder', 'shorten remnant', 'sign_on full_term', 'sign_on destruction', 'shorten terminal', 'sign_up close', 'shorten full_term', 'cut terminate', 'contract_bridge stop', 'take stop', 'shrink terminus', 'narrow cease', 'get end', 'cut terminal_figure', 'sign_up last', 'contract_bridge last', 'get last', 'contract final_stage', 'foreshorten remainder', 'narrow final_stage', 'condense cease', 'undertake condition', 'sign_up term', 'abridge oddment', 'abridge terminate', 'sign_on end', 'contract_bridge remainder', 'reduce conclusion', 'reduce terminus', 'sign term', 'declaration last', 'shrink finish', 'cut destruction', 'take condition', 'undertake remnant', 'sign_on ending', 'take full_term', 'press ending', 'sign terminus', 'sign last', 'declaration oddment', 'sign death', 'shorten close', 'abbreviate last', 'sign_up remnant', 'foreshorten remnant', 'cut goal', 'squeeze terminal_figure', 'undertake close', 'contract_bridge final_stage', 'sign_up closing', 'concentrate oddment', 'declaration conclusion', 'get remnant', 'abridge term', 'take terminal', 'undertake destruction', 'shrink terminate', 'abbreviate terminus', 'take finish', 'reduce close', 'contract_bridge conclusion', 'press end', 'contract death', 'sign_up goal', 'compress term\\\\S\\\\s*\\\\S', 'abridge condition', 'get ending', 'abbreviate terminal', 'narrow remnant', 'undertake last', 'get terminate', 'shrink destruction', 'shorten remainder', 'get finish', 'abbreviate destruction', 'reduce term\\\\S\\\\s*\\\\S', 'get remainder', 'reduce full_term', 'contract_bridge end', 'get terminus', 'shrink ending', 'squeeze ending', 'contract_bridge cease', 'cut death', 'contract_bridge ending', 'contract close', 'get destruction', 'sign_on close', 'concentrate conclusion', 'condense remnant', 'sign destruction', 'sign terminal', 'declaration goal', 'cut end', 'squeeze terminal', 'get goal', 'shrink goal', 'undertake stop', 'compress full_term', 'abbreviate end', 'condense close', 'narrow terminal', 'condense full_term', 'press last', 'sign_up terminal', 'take closing', 'sign_on terminus', 'foreshorten goal', 'foreshorten death', 'undertake terminal', 'foreshorten last', 'press terminate', 'abridge destruction', 'condense destruction', 'declaration term', 'abbreviate condition', 'condense goal', 'concentrate death', 'declaration cease', 'shrink death', 'compress ending', 'constrict cease', 'compact oddment', 'compress final_stage', 'constrict terminal', 'reduce term', 'shorten terminus', 'constrict terminal_figure', 'sign_on condition', 'press closing', 'concentrate final_stage', 'press term', 'compact finish', 'squeeze remnant', 'take cease', 'constrict destruction', 'contract closing', 'sign_up finish', 'get close', 'declaration remainder', 'shrink final_stage', 'undertake remainder', 'abridge final_stage', 'sign_on terminal', 'sign_up conclusion', 'sign finish', 'sign remnant', 'shorten term\\\\S\\\\s*\\\\S', 'narrow last', 'abbreviate closing', 'compress closing', 'sign close', 'sign cease', 'foreshorten terminal_figure', 'constrict remnant', 'press terminus', 'squeeze terminate', 'concentrate closing', 'contract_bridge condition', 'sign term\\\\S\\\\s*\\\\S', 'take remainder', 'sign_up final_stage', 'abbreviate terminate', 'undertake terminus', 'constrict last', 'constrict condition', 'reduce destruction', 'compact cease', 'undertake death', 'reduce final_stage', 'contract terminal_figure', 'sign_up terminus', 'compact closing', 'sign_on oddment', 'press terminal_figure', 'compact terminal', 'contract terminal', 'reduce oddment', 'constrict ending', 'squeeze oddment', 'condense terminal_figure', 'concentrate last', 'compress terminate', 'shrink stop', 'sign ending', 'declaration terminus', 'declaration remnant', 'sign condition', 'contract_bridge finish', 'compact end', 'squeeze term\\\\S\\\\s*\\\\S', 'abridge full_term', 'constrict death', 'concentrate terminal_figure', 'constrict final_stage', 'contract last', 'compress close', 'contract stop', 'cut finish', 'narrow terminate', 'constrict finish', 'abridge terminus', 'constrict oddment', 'cut remainder', 'squeeze death', 'take end', 'constrict full_term', 'compact death', 'contract_bridge destruction', 'concentrate condition', 'get conclusion', 'constrict conclusion', 'cut cease', 'compress terminus', 'press condition', 'constrict closing', 'narrow closing', 'narrow destruction', 'compact term', 'abbreviate remainder', 'press oddment', 'sign_on remnant', 'abridge term\\\\S\\\\s*\\\\S', 'get oddment', 'concentrate ending', 'foreshorten term\\\\S\\\\s*\\\\S', 'reduce last', 'sign_up remainder', 'squeeze condition', 'shorten end', 'press cease', 'sign conclusion', 'condense oddment', 'foreshorten end', 'condense remainder', 'narrow finish', 'abbreviate final_stage', 'sign final_stage', 'narrow close', 'cut close'}\n"
     ]
    },
    {
     "name": "stdout",
     "output_type": "stream",
     "text": [
      "end:  2017-09-30 00:00:00\n",
      "test.txt\n",
      "{'effective', 'effectual', 'good', 'effective date\\\\S\\\\s*\\\\S', 'good date\\\\S\\\\s*\\\\S', 'in_effect date\\\\S\\\\s*\\\\S', 'in_force', 'efficient date\\\\S\\\\s*\\\\S', 'in_force date\\\\S\\\\s*\\\\S', 'efficacious', 'in_effect', 'efficient', 'efficacious date\\\\S\\\\s*\\\\S', 'effectual date\\\\S\\\\s*\\\\S'}\n",
      "{'shorten condition', 'take term', 'constrict stop', 'abbreviate terminal_figure', 'cut condition', 'contract oddment', 'condense closing', 'undertake cease', 'contract_bridge oddment', 'narrow condition', 'press stop', 'compress end', 'sign closing', 'undertake term', 'squeeze full_term', 'condense conclusion', 'sign full_term', 'sign_on terminate', 'compress finish', 'contract_bridge term\\\\S\\\\s*\\\\S', 'contract full_term', 'contract term\\\\S\\\\s*\\\\S', 'constrict terminate', 'shorten closing', 'get term\\\\S\\\\s*\\\\S', 'reduce remainder', 'foreshorten terminus', 'abridge stop', 'abbreviate finish', 'reduce terminate', 'undertake closing', 'get death', 'concentrate terminal', 'squeeze end', 'press remainder', 'get full_term', 'get final_stage', 'abridge finish', 'constrict remainder', 'sign_up end', 'get condition', 'constrict goal', 'abbreviate conclusion', 'contract_bridge close', 'declaration destruction', 'contract_bridge full_term', 'shrink oddment', 'concentrate finish', 'take destruction', 'press destruction', 'cut closing', 'concentrate remainder', 'squeeze remainder', 'foreshorten full_term', 'undertake finish', 'abbreviate cease', 'shrink last', 'condense condition', 'abridge goal', 'condense term', 'undertake end', 'take death', 'take goal', 'reduce terminal', 'contract remainder', 'sign_up cease', 'compact terminal_figure', 'press close', 'sign_up ending', 'condense stop', 'sign_up condition', 'abridge remainder', 'sign_up term\\\\S\\\\s*\\\\S', 'squeeze terminus', 'compress terminal_figure', 'compact terminate', 'squeeze cease', 'undertake final_stage', 'foreshorten condition', 'shorten stop', 'concentrate remnant', 'take last', 'cut term', 'abridge terminal_figure', 'reduce cease', 'shorten oddment', 'sign_on finish', 'foreshorten close', 'sign_on goal', 'reduce terminal_figure', 'narrow term', 'sign oddment', 'compact full_term', 'declaration terminate', 'declaration final_stage', 'compact last', 'foreshorten finish', 'reduce ending', 'compact terminus', 'condense end', 'narrow term\\\\S\\\\s*\\\\S', 'compact remainder', 'concentrate close', 'shrink end', 'undertake conclusion', 'get terminal', 'condense ending', 'abridge end', 'take conclusion', 'constrict close', 'shorten term', 'foreshorten terminate', 'get cease', 'compress term', 'compress remnant', 'foreshorten oddment', 'contract_bridge death', 'narrow conclusion', 'take terminate', 'reduce death', 'sign terminal_figure', 'sign_on conclusion', 'squeeze destruction', 'condense finish', 'contract_bridge goal', 'compact ending', 'declaration stop', 'constrict term\\\\S\\\\s*\\\\S', 'contract_bridge remnant', 'cut full_term', 'narrow terminus', 'contract_bridge terminal', 'shrink full_term', 'condense terminate', 'concentrate destruction', 'contract ending', 'sign_on term', 'abridge closing', 'declaration term\\\\S\\\\s*\\\\S', 'shrink condition', 'abbreviate ending', 'squeeze finish', 'foreshorten cease', 'take final_stage', 'contract_bridge terminal_figure', 'get term', 'take terminal_figure', 'reduce closing', 'sign_up terminate', 'sign terminate', 'shrink term\\\\S\\\\s*\\\\S', 'declaration ending', 'compact remnant', 'foreshorten destruction', 'abbreviate goal', 'narrow oddment', 'condense death', 'concentrate term', 'contract terminus', 'contract term ', 'compress terminal', 'sign_on remainder', 'foreshorten ending', 'compact stop', 'abbreviate close', 'cut terminal', 'compress condition', 'shrink closing', 'foreshorten conclusion', 'narrow ending', 'undertake goal', 'shorten last', 'narrow death', 'contract conclusion', 'reduce finish', 'concentrate end', 'narrow end', 'contract destruction', 'abridge death', 'abbreviate term', 'press term\\\\S\\\\s*\\\\S', 'concentrate cease', 'condense terminal', 'compact term\\\\S\\\\s*\\\\S', 'reduce end', 'squeeze last', 'declaration closing', 'concentrate terminate', 'cut term\\\\S\\\\s*\\\\S', 'narrow remainder', 'get stop', 'sign_on terminal_figure', 'reduce condition', 'abbreviate remnant', 'contract finish', 'take close', 'sign_up destruction', 'reduce remnant', 'sign end', 'cut final_stage', 'get closing', 'get terminal_figure', 'abridge remnant', 'press finish', 'contract term', 'constrict terminus', 'reduce goal', 'cut ending', 'sign_on stop', 'condense terminus', 'shrink close', 'sign goal', 'shorten death', 'condense final_stage', 'sign_up oddment', 'abridge cease', 'abbreviate death', 'shrink remnant', 'compress goal', 'sign_on death', 'press final_stage', 'sign_up terminal_figure', 'abridge close', 'shrink terminal_figure', 'compress death', 'contract terminate', 'compact condition', 'compress cease', 'declaration end', 'reduce stop', 'narrow full_term', 'shorten goal', 'abbreviate term\\\\S\\\\s*\\\\S', 'declaration terminal_figure', 'undertake oddment', 'sign remainder', 'undertake ending', 'compact close', 'concentrate terminus', 'sign_on last', 'abbreviate oddment', 'squeeze goal', 'shrink term', 'compact goal', 'squeeze final_stage', 'press goal', 'sign_on term\\\\S\\\\s*\\\\S', 'contract_bridge closing', 'cut stop', 'compress oddment', 'declaration full_term', 'squeeze close', 'compact final_stage', 'sign stop', 'compress remainder', 'contract_bridge term', 'foreshorten terminal', 'shorten terminal_figure', 'concentrate stop', 'cut conclusion', 'squeeze closing', 'shorten final_stage', 'compress destruction', 'press full_term', 'take terminus', 'squeeze stop', 'compress conclusion', 'condense term\\\\S\\\\s*\\\\S', 'abridge ending', 'sign_on cease', 'compress last', 'take ending', 'press terminal', 'abbreviate stop', 'compress stop', 'squeeze conclusion', 'declaration condition', 'abridge last', 'sign_on final_stage', 'contract cease', 'press death', 'shrink conclusion', 'take remnant', 'concentrate full_term', 'abridge terminal', 'declaration close', 'cut oddment', 'sign_up stop', 'sign_up death', 'press conclusion', 'undertake terminate', 'cut last', 'foreshorten closing', 'narrow goal', 'shrink cease', 'constrict end', 'cut terminus', 'foreshorten final_stage', 'contract end', 'sign_on closing', 'take oddment', 'narrow terminal_figure', 'cut remnant', 'press remnant', 'foreshorten term', 'squeeze term', 'narrow stop', 'compact destruction', 'sign_up full_term', 'undertake term\\\\S\\\\s*\\\\S', 'shorten cease', 'contract remnant', 'contract condition', 'shorten ending', 'contract goal', 'shorten terminate', 'shorten conclusion', 'undertake terminal_figure', 'shrink terminal', 'undertake full_term', 'constrict term', 'declaration finish', 'contract_bridge terminus', 'declaration death', 'concentrate term\\\\S\\\\s*\\\\S', 'abbreviate full_term', 'concentrate goal', 'shorten finish', 'abridge conclusion', 'compact conclusion', 'declaration terminal', 'contract_bridge terminate', 'shorten destruction', 'take term\\\\S\\\\s*\\\\S', 'condense last', 'foreshorten stop', 'shrink remainder', 'shorten remnant', 'sign_on full_term', 'sign_on destruction', 'shorten terminal', 'sign_up close', 'shorten full_term', 'cut terminate', 'contract_bridge stop', 'take stop', 'shrink terminus', 'narrow cease', 'get end', 'cut terminal_figure', 'sign_up last', 'contract_bridge last', 'get last', 'contract final_stage', 'foreshorten remainder', 'narrow final_stage', 'condense cease', 'undertake condition', 'sign_up term', 'abridge oddment', 'abridge terminate', 'sign_on end', 'contract_bridge remainder', 'reduce conclusion', 'reduce terminus', 'sign term', 'declaration last', 'shrink finish', 'cut destruction', 'take condition', 'undertake remnant', 'sign_on ending', 'take full_term', 'press ending', 'sign terminus', 'sign last', 'declaration oddment', 'sign death', 'shorten close', 'abbreviate last', 'sign_up remnant', 'foreshorten remnant', 'cut goal', 'squeeze terminal_figure', 'undertake close', 'contract_bridge final_stage', 'sign_up closing', 'concentrate oddment', 'declaration conclusion', 'get remnant', 'abridge term', 'take terminal', 'undertake destruction', 'shrink terminate', 'abbreviate terminus', 'take finish', 'reduce close', 'contract_bridge conclusion', 'press end', 'contract death', 'sign_up goal', 'compress term\\\\S\\\\s*\\\\S', 'abridge condition', 'get ending', 'abbreviate terminal', 'narrow remnant', 'undertake last', 'get terminate', 'shrink destruction', 'shorten remainder', 'get finish', 'abbreviate destruction', 'reduce term\\\\S\\\\s*\\\\S', 'get remainder', 'reduce full_term', 'contract_bridge end', 'get terminus', 'shrink ending', 'squeeze ending', 'contract_bridge cease', 'cut death', 'contract_bridge ending', 'contract close', 'get destruction', 'sign_on close', 'concentrate conclusion', 'condense remnant', 'sign destruction', 'sign terminal', 'declaration goal', 'cut end', 'squeeze terminal', 'get goal', 'shrink goal', 'undertake stop', 'compress full_term', 'abbreviate end', 'condense close', 'narrow terminal', 'condense full_term', 'press last', 'sign_up terminal', 'take closing', 'sign_on terminus', 'foreshorten goal', 'foreshorten death', 'undertake terminal', 'foreshorten last', 'press terminate', 'abridge destruction', 'condense destruction', 'declaration term', 'abbreviate condition', 'condense goal', 'concentrate death', 'declaration cease', 'shrink death', 'compress ending', 'constrict cease', 'compact oddment', 'compress final_stage', 'constrict terminal', 'reduce term', 'shorten terminus', 'constrict terminal_figure', 'sign_on condition', 'press closing', 'concentrate final_stage', 'press term', 'compact finish', 'squeeze remnant', 'take cease', 'constrict destruction', 'contract closing', 'sign_up finish', 'get close', 'declaration remainder', 'shrink final_stage', 'undertake remainder', 'abridge final_stage', 'sign_on terminal', 'sign_up conclusion', 'sign finish', 'sign remnant', 'shorten term\\\\S\\\\s*\\\\S', 'narrow last', 'abbreviate closing', 'compress closing', 'sign close', 'sign cease', 'foreshorten terminal_figure', 'constrict remnant', 'press terminus', 'squeeze terminate', 'concentrate closing', 'contract_bridge condition', 'sign term\\\\S\\\\s*\\\\S', 'take remainder', 'sign_up final_stage', 'abbreviate terminate', 'undertake terminus', 'constrict last', 'constrict condition', 'reduce destruction', 'compact cease', 'undertake death', 'reduce final_stage', 'contract terminal_figure', 'sign_up terminus', 'compact closing', 'sign_on oddment', 'press terminal_figure', 'compact terminal', 'contract terminal', 'reduce oddment', 'constrict ending', 'squeeze oddment', 'condense terminal_figure', 'concentrate last', 'compress terminate', 'shrink stop', 'sign ending', 'declaration terminus', 'declaration remnant', 'sign condition', 'contract_bridge finish', 'compact end', 'squeeze term\\\\S\\\\s*\\\\S', 'abridge full_term', 'constrict death', 'concentrate terminal_figure', 'constrict final_stage', 'contract last', 'compress close', 'contract stop', 'cut finish', 'narrow terminate', 'constrict finish', 'abridge terminus', 'constrict oddment', 'cut remainder', 'squeeze death', 'take end', 'constrict full_term', 'compact death', 'contract_bridge destruction', 'concentrate condition', 'get conclusion', 'constrict conclusion', 'cut cease', 'compress terminus', 'press condition', 'constrict closing', 'narrow closing', 'narrow destruction', 'compact term', 'abbreviate remainder', 'press oddment', 'sign_on remnant', 'abridge term\\\\S\\\\s*\\\\S', 'get oddment', 'concentrate ending', 'foreshorten term\\\\S\\\\s*\\\\S', 'reduce last', 'sign_up remainder', 'squeeze condition', 'shorten end', 'press cease', 'sign conclusion', 'condense oddment', 'foreshorten end', 'condense remainder', 'narrow finish', 'abbreviate final_stage', 'sign final_stage', 'narrow close', 'cut close'}\n",
      "TX-18745 ASC Contract (7.2.18)-pdf.txt\n",
      "{'effective', 'effectual', 'good', 'effective date\\\\S\\\\s*\\\\S', 'good date\\\\S\\\\s*\\\\S', 'in_effect date\\\\S\\\\s*\\\\S', 'in_force', 'efficient date\\\\S\\\\s*\\\\S', 'in_force date\\\\S\\\\s*\\\\S', 'efficacious', 'in_effect', 'efficient', 'efficacious date\\\\S\\\\s*\\\\S', 'effectual date\\\\S\\\\s*\\\\S'}\n",
      "start:  2017-04-01 00:00:00\n",
      "{'shorten condition', 'take term', 'constrict stop', 'abbreviate terminal_figure', 'cut condition', 'contract oddment', 'condense closing', 'undertake cease', 'contract_bridge oddment', 'narrow condition', 'press stop', 'compress end', 'sign closing', 'undertake term', 'squeeze full_term', 'condense conclusion', 'sign full_term', 'sign_on terminate', 'compress finish', 'contract_bridge term\\\\S\\\\s*\\\\S', 'contract full_term', 'contract term\\\\S\\\\s*\\\\S', 'constrict terminate', 'shorten closing', 'get term\\\\S\\\\s*\\\\S', 'reduce remainder', 'foreshorten terminus', 'abridge stop', 'abbreviate finish', 'reduce terminate', 'undertake closing', 'get death', 'concentrate terminal', 'squeeze end', 'press remainder', 'get full_term', 'get final_stage', 'abridge finish', 'constrict remainder', 'sign_up end', 'get condition', 'constrict goal', 'abbreviate conclusion', 'contract_bridge close', 'declaration destruction', 'contract_bridge full_term', 'shrink oddment', 'concentrate finish', 'take destruction', 'press destruction', 'cut closing', 'concentrate remainder', 'squeeze remainder', 'foreshorten full_term', 'undertake finish', 'abbreviate cease', 'shrink last', 'condense condition', 'abridge goal', 'condense term', 'undertake end', 'take death', 'take goal', 'reduce terminal', 'contract remainder', 'sign_up cease', 'compact terminal_figure', 'press close', 'sign_up ending', 'condense stop', 'sign_up condition', 'abridge remainder', 'sign_up term\\\\S\\\\s*\\\\S', 'squeeze terminus', 'compress terminal_figure', 'compact terminate', 'squeeze cease', 'undertake final_stage', 'foreshorten condition', 'shorten stop', 'concentrate remnant', 'take last', 'cut term', 'abridge terminal_figure', 'reduce cease', 'shorten oddment', 'sign_on finish', 'foreshorten close', 'sign_on goal', 'reduce terminal_figure', 'narrow term', 'sign oddment', 'compact full_term', 'declaration terminate', 'declaration final_stage', 'compact last', 'foreshorten finish', 'reduce ending', 'compact terminus', 'condense end', 'narrow term\\\\S\\\\s*\\\\S', 'compact remainder', 'concentrate close', 'shrink end', 'undertake conclusion', 'get terminal', 'condense ending', 'abridge end', 'take conclusion', 'constrict close', 'shorten term', 'foreshorten terminate', 'get cease', 'compress term', 'compress remnant', 'foreshorten oddment', 'contract_bridge death', 'narrow conclusion', 'take terminate', 'reduce death', 'sign terminal_figure', 'sign_on conclusion', 'squeeze destruction', 'condense finish', 'contract_bridge goal', 'compact ending', 'declaration stop', 'constrict term\\\\S\\\\s*\\\\S', 'contract_bridge remnant', 'cut full_term', 'narrow terminus', 'contract_bridge terminal', 'shrink full_term', 'condense terminate', 'concentrate destruction', 'contract ending', 'sign_on term', 'abridge closing', 'declaration term\\\\S\\\\s*\\\\S', 'shrink condition', 'abbreviate ending', 'squeeze finish', 'foreshorten cease', 'take final_stage', 'contract_bridge terminal_figure', 'get term', 'take terminal_figure', 'reduce closing', 'sign_up terminate', 'sign terminate', 'shrink term\\\\S\\\\s*\\\\S', 'declaration ending', 'compact remnant', 'foreshorten destruction', 'abbreviate goal', 'narrow oddment', 'condense death', 'concentrate term', 'contract terminus', 'contract term ', 'compress terminal', 'sign_on remainder', 'foreshorten ending', 'compact stop', 'abbreviate close', 'cut terminal', 'compress condition', 'shrink closing', 'foreshorten conclusion', 'narrow ending', 'undertake goal', 'shorten last', 'narrow death', 'contract conclusion', 'reduce finish', 'concentrate end', 'narrow end', 'contract destruction', 'abridge death', 'abbreviate term', 'press term\\\\S\\\\s*\\\\S', 'concentrate cease', 'condense terminal', 'compact term\\\\S\\\\s*\\\\S', 'reduce end', 'squeeze last', 'declaration closing', 'concentrate terminate', 'cut term\\\\S\\\\s*\\\\S', 'narrow remainder', 'get stop', 'sign_on terminal_figure', 'reduce condition', 'abbreviate remnant', 'contract finish', 'take close', 'sign_up destruction', 'reduce remnant', 'sign end', 'cut final_stage', 'get closing', 'get terminal_figure', 'abridge remnant', 'press finish', 'contract term', 'constrict terminus', 'reduce goal', 'cut ending', 'sign_on stop', 'condense terminus', 'shrink close', 'sign goal', 'shorten death', 'condense final_stage', 'sign_up oddment', 'abridge cease', 'abbreviate death', 'shrink remnant', 'compress goal', 'sign_on death', 'press final_stage', 'sign_up terminal_figure', 'abridge close', 'shrink terminal_figure', 'compress death', 'contract terminate', 'compact condition', 'compress cease', 'declaration end', 'reduce stop', 'narrow full_term', 'shorten goal', 'abbreviate term\\\\S\\\\s*\\\\S', 'declaration terminal_figure', 'undertake oddment', 'sign remainder', 'undertake ending', 'compact close', 'concentrate terminus', 'sign_on last', 'abbreviate oddment', 'squeeze goal', 'shrink term', 'compact goal', 'squeeze final_stage', 'press goal', 'sign_on term\\\\S\\\\s*\\\\S', 'contract_bridge closing', 'cut stop', 'compress oddment', 'declaration full_term', 'squeeze close', 'compact final_stage', 'sign stop', 'compress remainder', 'contract_bridge term', 'foreshorten terminal', 'shorten terminal_figure', 'concentrate stop', 'cut conclusion', 'squeeze closing', 'shorten final_stage', 'compress destruction', 'press full_term', 'take terminus', 'squeeze stop', 'compress conclusion', 'condense term\\\\S\\\\s*\\\\S', 'abridge ending', 'sign_on cease', 'compress last', 'take ending', 'press terminal', 'abbreviate stop', 'compress stop', 'squeeze conclusion', 'declaration condition', 'abridge last', 'sign_on final_stage', 'contract cease', 'press death', 'shrink conclusion', 'take remnant', 'concentrate full_term', 'abridge terminal', 'declaration close', 'cut oddment', 'sign_up stop', 'sign_up death', 'press conclusion', 'undertake terminate', 'cut last', 'foreshorten closing', 'narrow goal', 'shrink cease', 'constrict end', 'cut terminus', 'foreshorten final_stage', 'contract end', 'sign_on closing', 'take oddment', 'narrow terminal_figure', 'cut remnant', 'press remnant', 'foreshorten term', 'squeeze term', 'narrow stop', 'compact destruction', 'sign_up full_term', 'undertake term\\\\S\\\\s*\\\\S', 'shorten cease', 'contract remnant', 'contract condition', 'shorten ending', 'contract goal', 'shorten terminate', 'shorten conclusion', 'undertake terminal_figure', 'shrink terminal', 'undertake full_term', 'constrict term', 'declaration finish', 'contract_bridge terminus', 'declaration death', 'concentrate term\\\\S\\\\s*\\\\S', 'abbreviate full_term', 'concentrate goal', 'shorten finish', 'abridge conclusion', 'compact conclusion', 'declaration terminal', 'contract_bridge terminate', 'shorten destruction', 'take term\\\\S\\\\s*\\\\S', 'condense last', 'foreshorten stop', 'shrink remainder', 'shorten remnant', 'sign_on full_term', 'sign_on destruction', 'shorten terminal', 'sign_up close', 'shorten full_term', 'cut terminate', 'contract_bridge stop', 'take stop', 'shrink terminus', 'narrow cease', 'get end', 'cut terminal_figure', 'sign_up last', 'contract_bridge last', 'get last', 'contract final_stage', 'foreshorten remainder', 'narrow final_stage', 'condense cease', 'undertake condition', 'sign_up term', 'abridge oddment', 'abridge terminate', 'sign_on end', 'contract_bridge remainder', 'reduce conclusion', 'reduce terminus', 'sign term', 'declaration last', 'shrink finish', 'cut destruction', 'take condition', 'undertake remnant', 'sign_on ending', 'take full_term', 'press ending', 'sign terminus', 'sign last', 'declaration oddment', 'sign death', 'shorten close', 'abbreviate last', 'sign_up remnant', 'foreshorten remnant', 'cut goal', 'squeeze terminal_figure', 'undertake close', 'contract_bridge final_stage', 'sign_up closing', 'concentrate oddment', 'declaration conclusion', 'get remnant', 'abridge term', 'take terminal', 'undertake destruction', 'shrink terminate', 'abbreviate terminus', 'take finish', 'reduce close', 'contract_bridge conclusion', 'press end', 'contract death', 'sign_up goal', 'compress term\\\\S\\\\s*\\\\S', 'abridge condition', 'get ending', 'abbreviate terminal', 'narrow remnant', 'undertake last', 'get terminate', 'shrink destruction', 'shorten remainder', 'get finish', 'abbreviate destruction', 'reduce term\\\\S\\\\s*\\\\S', 'get remainder', 'reduce full_term', 'contract_bridge end', 'get terminus', 'shrink ending', 'squeeze ending', 'contract_bridge cease', 'cut death', 'contract_bridge ending', 'contract close', 'get destruction', 'sign_on close', 'concentrate conclusion', 'condense remnant', 'sign destruction', 'sign terminal', 'declaration goal', 'cut end', 'squeeze terminal', 'get goal', 'shrink goal', 'undertake stop', 'compress full_term', 'abbreviate end', 'condense close', 'narrow terminal', 'condense full_term', 'press last', 'sign_up terminal', 'take closing', 'sign_on terminus', 'foreshorten goal', 'foreshorten death', 'undertake terminal', 'foreshorten last', 'press terminate', 'abridge destruction', 'condense destruction', 'declaration term', 'abbreviate condition', 'condense goal', 'concentrate death', 'declaration cease', 'shrink death', 'compress ending', 'constrict cease', 'compact oddment', 'compress final_stage', 'constrict terminal', 'reduce term', 'shorten terminus', 'constrict terminal_figure', 'sign_on condition', 'press closing', 'concentrate final_stage', 'press term', 'compact finish', 'squeeze remnant', 'take cease', 'constrict destruction', 'contract closing', 'sign_up finish', 'get close', 'declaration remainder', 'shrink final_stage', 'undertake remainder', 'abridge final_stage', 'sign_on terminal', 'sign_up conclusion', 'sign finish', 'sign remnant', 'shorten term\\\\S\\\\s*\\\\S', 'narrow last', 'abbreviate closing', 'compress closing', 'sign close', 'sign cease', 'foreshorten terminal_figure', 'constrict remnant', 'press terminus', 'squeeze terminate', 'concentrate closing', 'contract_bridge condition', 'sign term\\\\S\\\\s*\\\\S', 'take remainder', 'sign_up final_stage', 'abbreviate terminate', 'undertake terminus', 'constrict last', 'constrict condition', 'reduce destruction', 'compact cease', 'undertake death', 'reduce final_stage', 'contract terminal_figure', 'sign_up terminus', 'compact closing', 'sign_on oddment', 'press terminal_figure', 'compact terminal', 'contract terminal', 'reduce oddment', 'constrict ending', 'squeeze oddment', 'condense terminal_figure', 'concentrate last', 'compress terminate', 'shrink stop', 'sign ending', 'declaration terminus', 'declaration remnant', 'sign condition', 'contract_bridge finish', 'compact end', 'squeeze term\\\\S\\\\s*\\\\S', 'abridge full_term', 'constrict death', 'concentrate terminal_figure', 'constrict final_stage', 'contract last', 'compress close', 'contract stop', 'cut finish', 'narrow terminate', 'constrict finish', 'abridge terminus', 'constrict oddment', 'cut remainder', 'squeeze death', 'take end', 'constrict full_term', 'compact death', 'contract_bridge destruction', 'concentrate condition', 'get conclusion', 'constrict conclusion', 'cut cease', 'compress terminus', 'press condition', 'constrict closing', 'narrow closing', 'narrow destruction', 'compact term', 'abbreviate remainder', 'press oddment', 'sign_on remnant', 'abridge term\\\\S\\\\s*\\\\S', 'get oddment', 'concentrate ending', 'foreshorten term\\\\S\\\\s*\\\\S', 'reduce last', 'sign_up remainder', 'squeeze condition', 'shorten end', 'press cease', 'sign conclusion', 'condense oddment', 'foreshorten end', 'condense remainder', 'narrow finish', 'abbreviate final_stage', 'sign final_stage', 'narrow close', 'cut close'}\n"
     ]
    },
    {
     "name": "stdout",
     "output_type": "stream",
     "text": [
      "TX 19015 Attachment B ENT (7.2.18).txt\n",
      "{'effective', 'effectual', 'good', 'effective date\\\\S\\\\s*\\\\S', 'good date\\\\S\\\\s*\\\\S', 'in_effect date\\\\S\\\\s*\\\\S', 'in_force', 'efficient date\\\\S\\\\s*\\\\S', 'in_force date\\\\S\\\\s*\\\\S', 'efficacious', 'in_effect', 'efficient', 'efficacious date\\\\S\\\\s*\\\\S', 'effectual date\\\\S\\\\s*\\\\S'}\n",
      "start:  2018-01-01 00:00:00\n",
      "{'shorten condition', 'take term', 'constrict stop', 'abbreviate terminal_figure', 'cut condition', 'contract oddment', 'condense closing', 'undertake cease', 'contract_bridge oddment', 'narrow condition', 'press stop', 'compress end', 'sign closing', 'undertake term', 'squeeze full_term', 'condense conclusion', 'sign full_term', 'sign_on terminate', 'compress finish', 'contract_bridge term\\\\S\\\\s*\\\\S', 'contract full_term', 'contract term\\\\S\\\\s*\\\\S', 'constrict terminate', 'shorten closing', 'get term\\\\S\\\\s*\\\\S', 'reduce remainder', 'foreshorten terminus', 'abridge stop', 'abbreviate finish', 'reduce terminate', 'undertake closing', 'get death', 'concentrate terminal', 'squeeze end', 'press remainder', 'get full_term', 'get final_stage', 'abridge finish', 'constrict remainder', 'sign_up end', 'get condition', 'constrict goal', 'abbreviate conclusion', 'contract_bridge close', 'declaration destruction', 'contract_bridge full_term', 'shrink oddment', 'concentrate finish', 'take destruction', 'press destruction', 'cut closing', 'concentrate remainder', 'squeeze remainder', 'foreshorten full_term', 'undertake finish', 'abbreviate cease', 'shrink last', 'condense condition', 'abridge goal', 'condense term', 'undertake end', 'take death', 'take goal', 'reduce terminal', 'contract remainder', 'sign_up cease', 'compact terminal_figure', 'press close', 'sign_up ending', 'condense stop', 'sign_up condition', 'abridge remainder', 'sign_up term\\\\S\\\\s*\\\\S', 'squeeze terminus', 'compress terminal_figure', 'compact terminate', 'squeeze cease', 'undertake final_stage', 'foreshorten condition', 'shorten stop', 'concentrate remnant', 'take last', 'cut term', 'abridge terminal_figure', 'reduce cease', 'shorten oddment', 'sign_on finish', 'foreshorten close', 'sign_on goal', 'reduce terminal_figure', 'narrow term', 'sign oddment', 'compact full_term', 'declaration terminate', 'declaration final_stage', 'compact last', 'foreshorten finish', 'reduce ending', 'compact terminus', 'condense end', 'narrow term\\\\S\\\\s*\\\\S', 'compact remainder', 'concentrate close', 'shrink end', 'undertake conclusion', 'get terminal', 'condense ending', 'abridge end', 'take conclusion', 'constrict close', 'shorten term', 'foreshorten terminate', 'get cease', 'compress term', 'compress remnant', 'foreshorten oddment', 'contract_bridge death', 'narrow conclusion', 'take terminate', 'reduce death', 'sign terminal_figure', 'sign_on conclusion', 'squeeze destruction', 'condense finish', 'contract_bridge goal', 'compact ending', 'declaration stop', 'constrict term\\\\S\\\\s*\\\\S', 'contract_bridge remnant', 'cut full_term', 'narrow terminus', 'contract_bridge terminal', 'shrink full_term', 'condense terminate', 'concentrate destruction', 'contract ending', 'sign_on term', 'abridge closing', 'declaration term\\\\S\\\\s*\\\\S', 'shrink condition', 'abbreviate ending', 'squeeze finish', 'foreshorten cease', 'take final_stage', 'contract_bridge terminal_figure', 'get term', 'take terminal_figure', 'reduce closing', 'sign_up terminate', 'sign terminate', 'shrink term\\\\S\\\\s*\\\\S', 'declaration ending', 'compact remnant', 'foreshorten destruction', 'abbreviate goal', 'narrow oddment', 'condense death', 'concentrate term', 'contract terminus', 'contract term ', 'compress terminal', 'sign_on remainder', 'foreshorten ending', 'compact stop', 'abbreviate close', 'cut terminal', 'compress condition', 'shrink closing', 'foreshorten conclusion', 'narrow ending', 'undertake goal', 'shorten last', 'narrow death', 'contract conclusion', 'reduce finish', 'concentrate end', 'narrow end', 'contract destruction', 'abridge death', 'abbreviate term', 'press term\\\\S\\\\s*\\\\S', 'concentrate cease', 'condense terminal', 'compact term\\\\S\\\\s*\\\\S', 'reduce end', 'squeeze last', 'declaration closing', 'concentrate terminate', 'cut term\\\\S\\\\s*\\\\S', 'narrow remainder', 'get stop', 'sign_on terminal_figure', 'reduce condition', 'abbreviate remnant', 'contract finish', 'take close', 'sign_up destruction', 'reduce remnant', 'sign end', 'cut final_stage', 'get closing', 'get terminal_figure', 'abridge remnant', 'press finish', 'contract term', 'constrict terminus', 'reduce goal', 'cut ending', 'sign_on stop', 'condense terminus', 'shrink close', 'sign goal', 'shorten death', 'condense final_stage', 'sign_up oddment', 'abridge cease', 'abbreviate death', 'shrink remnant', 'compress goal', 'sign_on death', 'press final_stage', 'sign_up terminal_figure', 'abridge close', 'shrink terminal_figure', 'compress death', 'contract terminate', 'compact condition', 'compress cease', 'declaration end', 'reduce stop', 'narrow full_term', 'shorten goal', 'abbreviate term\\\\S\\\\s*\\\\S', 'declaration terminal_figure', 'undertake oddment', 'sign remainder', 'undertake ending', 'compact close', 'concentrate terminus', 'sign_on last', 'abbreviate oddment', 'squeeze goal', 'shrink term', 'compact goal', 'squeeze final_stage', 'press goal', 'sign_on term\\\\S\\\\s*\\\\S', 'contract_bridge closing', 'cut stop', 'compress oddment', 'declaration full_term', 'squeeze close', 'compact final_stage', 'sign stop', 'compress remainder', 'contract_bridge term', 'foreshorten terminal', 'shorten terminal_figure', 'concentrate stop', 'cut conclusion', 'squeeze closing', 'shorten final_stage', 'compress destruction', 'press full_term', 'take terminus', 'squeeze stop', 'compress conclusion', 'condense term\\\\S\\\\s*\\\\S', 'abridge ending', 'sign_on cease', 'compress last', 'take ending', 'press terminal', 'abbreviate stop', 'compress stop', 'squeeze conclusion', 'declaration condition', 'abridge last', 'sign_on final_stage', 'contract cease', 'press death', 'shrink conclusion', 'take remnant', 'concentrate full_term', 'abridge terminal', 'declaration close', 'cut oddment', 'sign_up stop', 'sign_up death', 'press conclusion', 'undertake terminate', 'cut last', 'foreshorten closing', 'narrow goal', 'shrink cease', 'constrict end', 'cut terminus', 'foreshorten final_stage', 'contract end', 'sign_on closing', 'take oddment', 'narrow terminal_figure', 'cut remnant', 'press remnant', 'foreshorten term', 'squeeze term', 'narrow stop', 'compact destruction', 'sign_up full_term', 'undertake term\\\\S\\\\s*\\\\S', 'shorten cease', 'contract remnant', 'contract condition', 'shorten ending', 'contract goal', 'shorten terminate', 'shorten conclusion', 'undertake terminal_figure', 'shrink terminal', 'undertake full_term', 'constrict term', 'declaration finish', 'contract_bridge terminus', 'declaration death', 'concentrate term\\\\S\\\\s*\\\\S', 'abbreviate full_term', 'concentrate goal', 'shorten finish', 'abridge conclusion', 'compact conclusion', 'declaration terminal', 'contract_bridge terminate', 'shorten destruction', 'take term\\\\S\\\\s*\\\\S', 'condense last', 'foreshorten stop', 'shrink remainder', 'shorten remnant', 'sign_on full_term', 'sign_on destruction', 'shorten terminal', 'sign_up close', 'shorten full_term', 'cut terminate', 'contract_bridge stop', 'take stop', 'shrink terminus', 'narrow cease', 'get end', 'cut terminal_figure', 'sign_up last', 'contract_bridge last', 'get last', 'contract final_stage', 'foreshorten remainder', 'narrow final_stage', 'condense cease', 'undertake condition', 'sign_up term', 'abridge oddment', 'abridge terminate', 'sign_on end', 'contract_bridge remainder', 'reduce conclusion', 'reduce terminus', 'sign term', 'declaration last', 'shrink finish', 'cut destruction', 'take condition', 'undertake remnant', 'sign_on ending', 'take full_term', 'press ending', 'sign terminus', 'sign last', 'declaration oddment', 'sign death', 'shorten close', 'abbreviate last', 'sign_up remnant', 'foreshorten remnant', 'cut goal', 'squeeze terminal_figure', 'undertake close', 'contract_bridge final_stage', 'sign_up closing', 'concentrate oddment', 'declaration conclusion', 'get remnant', 'abridge term', 'take terminal', 'undertake destruction', 'shrink terminate', 'abbreviate terminus', 'take finish', 'reduce close', 'contract_bridge conclusion', 'press end', 'contract death', 'sign_up goal', 'compress term\\\\S\\\\s*\\\\S', 'abridge condition', 'get ending', 'abbreviate terminal', 'narrow remnant', 'undertake last', 'get terminate', 'shrink destruction', 'shorten remainder', 'get finish', 'abbreviate destruction', 'reduce term\\\\S\\\\s*\\\\S', 'get remainder', 'reduce full_term', 'contract_bridge end', 'get terminus', 'shrink ending', 'squeeze ending', 'contract_bridge cease', 'cut death', 'contract_bridge ending', 'contract close', 'get destruction', 'sign_on close', 'concentrate conclusion', 'condense remnant', 'sign destruction', 'sign terminal', 'declaration goal', 'cut end', 'squeeze terminal', 'get goal', 'shrink goal', 'undertake stop', 'compress full_term', 'abbreviate end', 'condense close', 'narrow terminal', 'condense full_term', 'press last', 'sign_up terminal', 'take closing', 'sign_on terminus', 'foreshorten goal', 'foreshorten death', 'undertake terminal', 'foreshorten last', 'press terminate', 'abridge destruction', 'condense destruction', 'declaration term', 'abbreviate condition', 'condense goal', 'concentrate death', 'declaration cease', 'shrink death', 'compress ending', 'constrict cease', 'compact oddment', 'compress final_stage', 'constrict terminal', 'reduce term', 'shorten terminus', 'constrict terminal_figure', 'sign_on condition', 'press closing', 'concentrate final_stage', 'press term', 'compact finish', 'squeeze remnant', 'take cease', 'constrict destruction', 'contract closing', 'sign_up finish', 'get close', 'declaration remainder', 'shrink final_stage', 'undertake remainder', 'abridge final_stage', 'sign_on terminal', 'sign_up conclusion', 'sign finish', 'sign remnant', 'shorten term\\\\S\\\\s*\\\\S', 'narrow last', 'abbreviate closing', 'compress closing', 'sign close', 'sign cease', 'foreshorten terminal_figure', 'constrict remnant', 'press terminus', 'squeeze terminate', 'concentrate closing', 'contract_bridge condition', 'sign term\\\\S\\\\s*\\\\S', 'take remainder', 'sign_up final_stage', 'abbreviate terminate', 'undertake terminus', 'constrict last', 'constrict condition', 'reduce destruction', 'compact cease', 'undertake death', 'reduce final_stage', 'contract terminal_figure', 'sign_up terminus', 'compact closing', 'sign_on oddment', 'press terminal_figure', 'compact terminal', 'contract terminal', 'reduce oddment', 'constrict ending', 'squeeze oddment', 'condense terminal_figure', 'concentrate last', 'compress terminate', 'shrink stop', 'sign ending', 'declaration terminus', 'declaration remnant', 'sign condition', 'contract_bridge finish', 'compact end', 'squeeze term\\\\S\\\\s*\\\\S', 'abridge full_term', 'constrict death', 'concentrate terminal_figure', 'constrict final_stage', 'contract last', 'compress close', 'contract stop', 'cut finish', 'narrow terminate', 'constrict finish', 'abridge terminus', 'constrict oddment', 'cut remainder', 'squeeze death', 'take end', 'constrict full_term', 'compact death', 'contract_bridge destruction', 'concentrate condition', 'get conclusion', 'constrict conclusion', 'cut cease', 'compress terminus', 'press condition', 'constrict closing', 'narrow closing', 'narrow destruction', 'compact term', 'abbreviate remainder', 'press oddment', 'sign_on remnant', 'abridge term\\\\S\\\\s*\\\\S', 'get oddment', 'concentrate ending', 'foreshorten term\\\\S\\\\s*\\\\S', 'reduce last', 'sign_up remainder', 'squeeze condition', 'shorten end', 'press cease', 'sign conclusion', 'condense oddment', 'foreshorten end', 'condense remainder', 'narrow finish', 'abbreviate final_stage', 'sign final_stage', 'narrow close', 'cut close'}\n",
      "TX 19015 EOC ENT (7.2.18).txt\n",
      "{'effective', 'effectual', 'good', 'effective date\\\\S\\\\s*\\\\S', 'good date\\\\S\\\\s*\\\\S', 'in_effect date\\\\S\\\\s*\\\\S', 'in_force', 'efficient date\\\\S\\\\s*\\\\S', 'in_force date\\\\S\\\\s*\\\\S', 'efficacious', 'in_effect', 'efficient', 'efficacious date\\\\S\\\\s*\\\\S', 'effectual date\\\\S\\\\s*\\\\S'}\n",
      "start:  2018-01-01 00:00:00\n",
      "{'shorten condition', 'take term', 'constrict stop', 'abbreviate terminal_figure', 'cut condition', 'contract oddment', 'condense closing', 'undertake cease', 'contract_bridge oddment', 'narrow condition', 'press stop', 'compress end', 'sign closing', 'undertake term', 'squeeze full_term', 'condense conclusion', 'sign full_term', 'sign_on terminate', 'compress finish', 'contract_bridge term\\\\S\\\\s*\\\\S', 'contract full_term', 'contract term\\\\S\\\\s*\\\\S', 'constrict terminate', 'shorten closing', 'get term\\\\S\\\\s*\\\\S', 'reduce remainder', 'foreshorten terminus', 'abridge stop', 'abbreviate finish', 'reduce terminate', 'undertake closing', 'get death', 'concentrate terminal', 'squeeze end', 'press remainder', 'get full_term', 'get final_stage', 'abridge finish', 'constrict remainder', 'sign_up end', 'get condition', 'constrict goal', 'abbreviate conclusion', 'contract_bridge close', 'declaration destruction', 'contract_bridge full_term', 'shrink oddment', 'concentrate finish', 'take destruction', 'press destruction', 'cut closing', 'concentrate remainder', 'squeeze remainder', 'foreshorten full_term', 'undertake finish', 'abbreviate cease', 'shrink last', 'condense condition', 'abridge goal', 'condense term', 'undertake end', 'take death', 'take goal', 'reduce terminal', 'contract remainder', 'sign_up cease', 'compact terminal_figure', 'press close', 'sign_up ending', 'condense stop', 'sign_up condition', 'abridge remainder', 'sign_up term\\\\S\\\\s*\\\\S', 'squeeze terminus', 'compress terminal_figure', 'compact terminate', 'squeeze cease', 'undertake final_stage', 'foreshorten condition', 'shorten stop', 'concentrate remnant', 'take last', 'cut term', 'abridge terminal_figure', 'reduce cease', 'shorten oddment', 'sign_on finish', 'foreshorten close', 'sign_on goal', 'reduce terminal_figure', 'narrow term', 'sign oddment', 'compact full_term', 'declaration terminate', 'declaration final_stage', 'compact last', 'foreshorten finish', 'reduce ending', 'compact terminus', 'condense end', 'narrow term\\\\S\\\\s*\\\\S', 'compact remainder', 'concentrate close', 'shrink end', 'undertake conclusion', 'get terminal', 'condense ending', 'abridge end', 'take conclusion', 'constrict close', 'shorten term', 'foreshorten terminate', 'get cease', 'compress term', 'compress remnant', 'foreshorten oddment', 'contract_bridge death', 'narrow conclusion', 'take terminate', 'reduce death', 'sign terminal_figure', 'sign_on conclusion', 'squeeze destruction', 'condense finish', 'contract_bridge goal', 'compact ending', 'declaration stop', 'constrict term\\\\S\\\\s*\\\\S', 'contract_bridge remnant', 'cut full_term', 'narrow terminus', 'contract_bridge terminal', 'shrink full_term', 'condense terminate', 'concentrate destruction', 'contract ending', 'sign_on term', 'abridge closing', 'declaration term\\\\S\\\\s*\\\\S', 'shrink condition', 'abbreviate ending', 'squeeze finish', 'foreshorten cease', 'take final_stage', 'contract_bridge terminal_figure', 'get term', 'take terminal_figure', 'reduce closing', 'sign_up terminate', 'sign terminate', 'shrink term\\\\S\\\\s*\\\\S', 'declaration ending', 'compact remnant', 'foreshorten destruction', 'abbreviate goal', 'narrow oddment', 'condense death', 'concentrate term', 'contract terminus', 'contract term ', 'compress terminal', 'sign_on remainder', 'foreshorten ending', 'compact stop', 'abbreviate close', 'cut terminal', 'compress condition', 'shrink closing', 'foreshorten conclusion', 'narrow ending', 'undertake goal', 'shorten last', 'narrow death', 'contract conclusion', 'reduce finish', 'concentrate end', 'narrow end', 'contract destruction', 'abridge death', 'abbreviate term', 'press term\\\\S\\\\s*\\\\S', 'concentrate cease', 'condense terminal', 'compact term\\\\S\\\\s*\\\\S', 'reduce end', 'squeeze last', 'declaration closing', 'concentrate terminate', 'cut term\\\\S\\\\s*\\\\S', 'narrow remainder', 'get stop', 'sign_on terminal_figure', 'reduce condition', 'abbreviate remnant', 'contract finish', 'take close', 'sign_up destruction', 'reduce remnant', 'sign end', 'cut final_stage', 'get closing', 'get terminal_figure', 'abridge remnant', 'press finish', 'contract term', 'constrict terminus', 'reduce goal', 'cut ending', 'sign_on stop', 'condense terminus', 'shrink close', 'sign goal', 'shorten death', 'condense final_stage', 'sign_up oddment', 'abridge cease', 'abbreviate death', 'shrink remnant', 'compress goal', 'sign_on death', 'press final_stage', 'sign_up terminal_figure', 'abridge close', 'shrink terminal_figure', 'compress death', 'contract terminate', 'compact condition', 'compress cease', 'declaration end', 'reduce stop', 'narrow full_term', 'shorten goal', 'abbreviate term\\\\S\\\\s*\\\\S', 'declaration terminal_figure', 'undertake oddment', 'sign remainder', 'undertake ending', 'compact close', 'concentrate terminus', 'sign_on last', 'abbreviate oddment', 'squeeze goal', 'shrink term', 'compact goal', 'squeeze final_stage', 'press goal', 'sign_on term\\\\S\\\\s*\\\\S', 'contract_bridge closing', 'cut stop', 'compress oddment', 'declaration full_term', 'squeeze close', 'compact final_stage', 'sign stop', 'compress remainder', 'contract_bridge term', 'foreshorten terminal', 'shorten terminal_figure', 'concentrate stop', 'cut conclusion', 'squeeze closing', 'shorten final_stage', 'compress destruction', 'press full_term', 'take terminus', 'squeeze stop', 'compress conclusion', 'condense term\\\\S\\\\s*\\\\S', 'abridge ending', 'sign_on cease', 'compress last', 'take ending', 'press terminal', 'abbreviate stop', 'compress stop', 'squeeze conclusion', 'declaration condition', 'abridge last', 'sign_on final_stage', 'contract cease', 'press death', 'shrink conclusion', 'take remnant', 'concentrate full_term', 'abridge terminal', 'declaration close', 'cut oddment', 'sign_up stop', 'sign_up death', 'press conclusion', 'undertake terminate', 'cut last', 'foreshorten closing', 'narrow goal', 'shrink cease', 'constrict end', 'cut terminus', 'foreshorten final_stage', 'contract end', 'sign_on closing', 'take oddment', 'narrow terminal_figure', 'cut remnant', 'press remnant', 'foreshorten term', 'squeeze term', 'narrow stop', 'compact destruction', 'sign_up full_term', 'undertake term\\\\S\\\\s*\\\\S', 'shorten cease', 'contract remnant', 'contract condition', 'shorten ending', 'contract goal', 'shorten terminate', 'shorten conclusion', 'undertake terminal_figure', 'shrink terminal', 'undertake full_term', 'constrict term', 'declaration finish', 'contract_bridge terminus', 'declaration death', 'concentrate term\\\\S\\\\s*\\\\S', 'abbreviate full_term', 'concentrate goal', 'shorten finish', 'abridge conclusion', 'compact conclusion', 'declaration terminal', 'contract_bridge terminate', 'shorten destruction', 'take term\\\\S\\\\s*\\\\S', 'condense last', 'foreshorten stop', 'shrink remainder', 'shorten remnant', 'sign_on full_term', 'sign_on destruction', 'shorten terminal', 'sign_up close', 'shorten full_term', 'cut terminate', 'contract_bridge stop', 'take stop', 'shrink terminus', 'narrow cease', 'get end', 'cut terminal_figure', 'sign_up last', 'contract_bridge last', 'get last', 'contract final_stage', 'foreshorten remainder', 'narrow final_stage', 'condense cease', 'undertake condition', 'sign_up term', 'abridge oddment', 'abridge terminate', 'sign_on end', 'contract_bridge remainder', 'reduce conclusion', 'reduce terminus', 'sign term', 'declaration last', 'shrink finish', 'cut destruction', 'take condition', 'undertake remnant', 'sign_on ending', 'take full_term', 'press ending', 'sign terminus', 'sign last', 'declaration oddment', 'sign death', 'shorten close', 'abbreviate last', 'sign_up remnant', 'foreshorten remnant', 'cut goal', 'squeeze terminal_figure', 'undertake close', 'contract_bridge final_stage', 'sign_up closing', 'concentrate oddment', 'declaration conclusion', 'get remnant', 'abridge term', 'take terminal', 'undertake destruction', 'shrink terminate', 'abbreviate terminus', 'take finish', 'reduce close', 'contract_bridge conclusion', 'press end', 'contract death', 'sign_up goal', 'compress term\\\\S\\\\s*\\\\S', 'abridge condition', 'get ending', 'abbreviate terminal', 'narrow remnant', 'undertake last', 'get terminate', 'shrink destruction', 'shorten remainder', 'get finish', 'abbreviate destruction', 'reduce term\\\\S\\\\s*\\\\S', 'get remainder', 'reduce full_term', 'contract_bridge end', 'get terminus', 'shrink ending', 'squeeze ending', 'contract_bridge cease', 'cut death', 'contract_bridge ending', 'contract close', 'get destruction', 'sign_on close', 'concentrate conclusion', 'condense remnant', 'sign destruction', 'sign terminal', 'declaration goal', 'cut end', 'squeeze terminal', 'get goal', 'shrink goal', 'undertake stop', 'compress full_term', 'abbreviate end', 'condense close', 'narrow terminal', 'condense full_term', 'press last', 'sign_up terminal', 'take closing', 'sign_on terminus', 'foreshorten goal', 'foreshorten death', 'undertake terminal', 'foreshorten last', 'press terminate', 'abridge destruction', 'condense destruction', 'declaration term', 'abbreviate condition', 'condense goal', 'concentrate death', 'declaration cease', 'shrink death', 'compress ending', 'constrict cease', 'compact oddment', 'compress final_stage', 'constrict terminal', 'reduce term', 'shorten terminus', 'constrict terminal_figure', 'sign_on condition', 'press closing', 'concentrate final_stage', 'press term', 'compact finish', 'squeeze remnant', 'take cease', 'constrict destruction', 'contract closing', 'sign_up finish', 'get close', 'declaration remainder', 'shrink final_stage', 'undertake remainder', 'abridge final_stage', 'sign_on terminal', 'sign_up conclusion', 'sign finish', 'sign remnant', 'shorten term\\\\S\\\\s*\\\\S', 'narrow last', 'abbreviate closing', 'compress closing', 'sign close', 'sign cease', 'foreshorten terminal_figure', 'constrict remnant', 'press terminus', 'squeeze terminate', 'concentrate closing', 'contract_bridge condition', 'sign term\\\\S\\\\s*\\\\S', 'take remainder', 'sign_up final_stage', 'abbreviate terminate', 'undertake terminus', 'constrict last', 'constrict condition', 'reduce destruction', 'compact cease', 'undertake death', 'reduce final_stage', 'contract terminal_figure', 'sign_up terminus', 'compact closing', 'sign_on oddment', 'press terminal_figure', 'compact terminal', 'contract terminal', 'reduce oddment', 'constrict ending', 'squeeze oddment', 'condense terminal_figure', 'concentrate last', 'compress terminate', 'shrink stop', 'sign ending', 'declaration terminus', 'declaration remnant', 'sign condition', 'contract_bridge finish', 'compact end', 'squeeze term\\\\S\\\\s*\\\\S', 'abridge full_term', 'constrict death', 'concentrate terminal_figure', 'constrict final_stage', 'contract last', 'compress close', 'contract stop', 'cut finish', 'narrow terminate', 'constrict finish', 'abridge terminus', 'constrict oddment', 'cut remainder', 'squeeze death', 'take end', 'constrict full_term', 'compact death', 'contract_bridge destruction', 'concentrate condition', 'get conclusion', 'constrict conclusion', 'cut cease', 'compress terminus', 'press condition', 'constrict closing', 'narrow closing', 'narrow destruction', 'compact term', 'abbreviate remainder', 'press oddment', 'sign_on remnant', 'abridge term\\\\S\\\\s*\\\\S', 'get oddment', 'concentrate ending', 'foreshorten term\\\\S\\\\s*\\\\S', 'reduce last', 'sign_up remainder', 'squeeze condition', 'shorten end', 'press cease', 'sign conclusion', 'condense oddment', 'foreshorten end', 'condense remainder', 'narrow finish', 'abbreviate final_stage', 'sign final_stage', 'narrow close', 'cut close'}\n"
     ]
    },
    {
     "name": "stdout",
     "output_type": "stream",
     "text": [
      "test-pdf.txt\n",
      "{'effective', 'effectual', 'good', 'effective date\\\\S\\\\s*\\\\S', 'good date\\\\S\\\\s*\\\\S', 'in_effect date\\\\S\\\\s*\\\\S', 'in_force', 'efficient date\\\\S\\\\s*\\\\S', 'in_force date\\\\S\\\\s*\\\\S', 'efficacious', 'in_effect', 'efficient', 'efficacious date\\\\S\\\\s*\\\\S', 'effectual date\\\\S\\\\s*\\\\S'}\n",
      "{'shorten condition', 'take term', 'constrict stop', 'abbreviate terminal_figure', 'cut condition', 'contract oddment', 'condense closing', 'undertake cease', 'contract_bridge oddment', 'narrow condition', 'press stop', 'compress end', 'sign closing', 'undertake term', 'squeeze full_term', 'condense conclusion', 'sign full_term', 'sign_on terminate', 'compress finish', 'contract_bridge term\\\\S\\\\s*\\\\S', 'contract full_term', 'contract term\\\\S\\\\s*\\\\S', 'constrict terminate', 'shorten closing', 'get term\\\\S\\\\s*\\\\S', 'reduce remainder', 'foreshorten terminus', 'abridge stop', 'abbreviate finish', 'reduce terminate', 'undertake closing', 'get death', 'concentrate terminal', 'squeeze end', 'press remainder', 'get full_term', 'get final_stage', 'abridge finish', 'constrict remainder', 'sign_up end', 'get condition', 'constrict goal', 'abbreviate conclusion', 'contract_bridge close', 'declaration destruction', 'contract_bridge full_term', 'shrink oddment', 'concentrate finish', 'take destruction', 'press destruction', 'cut closing', 'concentrate remainder', 'squeeze remainder', 'foreshorten full_term', 'undertake finish', 'abbreviate cease', 'shrink last', 'condense condition', 'abridge goal', 'condense term', 'undertake end', 'take death', 'take goal', 'reduce terminal', 'contract remainder', 'sign_up cease', 'compact terminal_figure', 'press close', 'sign_up ending', 'condense stop', 'sign_up condition', 'abridge remainder', 'sign_up term\\\\S\\\\s*\\\\S', 'squeeze terminus', 'compress terminal_figure', 'compact terminate', 'squeeze cease', 'undertake final_stage', 'foreshorten condition', 'shorten stop', 'concentrate remnant', 'take last', 'cut term', 'abridge terminal_figure', 'reduce cease', 'shorten oddment', 'sign_on finish', 'foreshorten close', 'sign_on goal', 'reduce terminal_figure', 'narrow term', 'sign oddment', 'compact full_term', 'declaration terminate', 'declaration final_stage', 'compact last', 'foreshorten finish', 'reduce ending', 'compact terminus', 'condense end', 'narrow term\\\\S\\\\s*\\\\S', 'compact remainder', 'concentrate close', 'shrink end', 'undertake conclusion', 'get terminal', 'condense ending', 'abridge end', 'take conclusion', 'constrict close', 'shorten term', 'foreshorten terminate', 'get cease', 'compress term', 'compress remnant', 'foreshorten oddment', 'contract_bridge death', 'narrow conclusion', 'take terminate', 'reduce death', 'sign terminal_figure', 'sign_on conclusion', 'squeeze destruction', 'condense finish', 'contract_bridge goal', 'compact ending', 'declaration stop', 'constrict term\\\\S\\\\s*\\\\S', 'contract_bridge remnant', 'cut full_term', 'narrow terminus', 'contract_bridge terminal', 'shrink full_term', 'condense terminate', 'concentrate destruction', 'contract ending', 'sign_on term', 'abridge closing', 'declaration term\\\\S\\\\s*\\\\S', 'shrink condition', 'abbreviate ending', 'squeeze finish', 'foreshorten cease', 'take final_stage', 'contract_bridge terminal_figure', 'get term', 'take terminal_figure', 'reduce closing', 'sign_up terminate', 'sign terminate', 'shrink term\\\\S\\\\s*\\\\S', 'declaration ending', 'compact remnant', 'foreshorten destruction', 'abbreviate goal', 'narrow oddment', 'condense death', 'concentrate term', 'contract terminus', 'contract term ', 'compress terminal', 'sign_on remainder', 'foreshorten ending', 'compact stop', 'abbreviate close', 'cut terminal', 'compress condition', 'shrink closing', 'foreshorten conclusion', 'narrow ending', 'undertake goal', 'shorten last', 'narrow death', 'contract conclusion', 'reduce finish', 'concentrate end', 'narrow end', 'contract destruction', 'abridge death', 'abbreviate term', 'press term\\\\S\\\\s*\\\\S', 'concentrate cease', 'condense terminal', 'compact term\\\\S\\\\s*\\\\S', 'reduce end', 'squeeze last', 'declaration closing', 'concentrate terminate', 'cut term\\\\S\\\\s*\\\\S', 'narrow remainder', 'get stop', 'sign_on terminal_figure', 'reduce condition', 'abbreviate remnant', 'contract finish', 'take close', 'sign_up destruction', 'reduce remnant', 'sign end', 'cut final_stage', 'get closing', 'get terminal_figure', 'abridge remnant', 'press finish', 'contract term', 'constrict terminus', 'reduce goal', 'cut ending', 'sign_on stop', 'condense terminus', 'shrink close', 'sign goal', 'shorten death', 'condense final_stage', 'sign_up oddment', 'abridge cease', 'abbreviate death', 'shrink remnant', 'compress goal', 'sign_on death', 'press final_stage', 'sign_up terminal_figure', 'abridge close', 'shrink terminal_figure', 'compress death', 'contract terminate', 'compact condition', 'compress cease', 'declaration end', 'reduce stop', 'narrow full_term', 'shorten goal', 'abbreviate term\\\\S\\\\s*\\\\S', 'declaration terminal_figure', 'undertake oddment', 'sign remainder', 'undertake ending', 'compact close', 'concentrate terminus', 'sign_on last', 'abbreviate oddment', 'squeeze goal', 'shrink term', 'compact goal', 'squeeze final_stage', 'press goal', 'sign_on term\\\\S\\\\s*\\\\S', 'contract_bridge closing', 'cut stop', 'compress oddment', 'declaration full_term', 'squeeze close', 'compact final_stage', 'sign stop', 'compress remainder', 'contract_bridge term', 'foreshorten terminal', 'shorten terminal_figure', 'concentrate stop', 'cut conclusion', 'squeeze closing', 'shorten final_stage', 'compress destruction', 'press full_term', 'take terminus', 'squeeze stop', 'compress conclusion', 'condense term\\\\S\\\\s*\\\\S', 'abridge ending', 'sign_on cease', 'compress last', 'take ending', 'press terminal', 'abbreviate stop', 'compress stop', 'squeeze conclusion', 'declaration condition', 'abridge last', 'sign_on final_stage', 'contract cease', 'press death', 'shrink conclusion', 'take remnant', 'concentrate full_term', 'abridge terminal', 'declaration close', 'cut oddment', 'sign_up stop', 'sign_up death', 'press conclusion', 'undertake terminate', 'cut last', 'foreshorten closing', 'narrow goal', 'shrink cease', 'constrict end', 'cut terminus', 'foreshorten final_stage', 'contract end', 'sign_on closing', 'take oddment', 'narrow terminal_figure', 'cut remnant', 'press remnant', 'foreshorten term', 'squeeze term', 'narrow stop', 'compact destruction', 'sign_up full_term', 'undertake term\\\\S\\\\s*\\\\S', 'shorten cease', 'contract remnant', 'contract condition', 'shorten ending', 'contract goal', 'shorten terminate', 'shorten conclusion', 'undertake terminal_figure', 'shrink terminal', 'undertake full_term', 'constrict term', 'declaration finish', 'contract_bridge terminus', 'declaration death', 'concentrate term\\\\S\\\\s*\\\\S', 'abbreviate full_term', 'concentrate goal', 'shorten finish', 'abridge conclusion', 'compact conclusion', 'declaration terminal', 'contract_bridge terminate', 'shorten destruction', 'take term\\\\S\\\\s*\\\\S', 'condense last', 'foreshorten stop', 'shrink remainder', 'shorten remnant', 'sign_on full_term', 'sign_on destruction', 'shorten terminal', 'sign_up close', 'shorten full_term', 'cut terminate', 'contract_bridge stop', 'take stop', 'shrink terminus', 'narrow cease', 'get end', 'cut terminal_figure', 'sign_up last', 'contract_bridge last', 'get last', 'contract final_stage', 'foreshorten remainder', 'narrow final_stage', 'condense cease', 'undertake condition', 'sign_up term', 'abridge oddment', 'abridge terminate', 'sign_on end', 'contract_bridge remainder', 'reduce conclusion', 'reduce terminus', 'sign term', 'declaration last', 'shrink finish', 'cut destruction', 'take condition', 'undertake remnant', 'sign_on ending', 'take full_term', 'press ending', 'sign terminus', 'sign last', 'declaration oddment', 'sign death', 'shorten close', 'abbreviate last', 'sign_up remnant', 'foreshorten remnant', 'cut goal', 'squeeze terminal_figure', 'undertake close', 'contract_bridge final_stage', 'sign_up closing', 'concentrate oddment', 'declaration conclusion', 'get remnant', 'abridge term', 'take terminal', 'undertake destruction', 'shrink terminate', 'abbreviate terminus', 'take finish', 'reduce close', 'contract_bridge conclusion', 'press end', 'contract death', 'sign_up goal', 'compress term\\\\S\\\\s*\\\\S', 'abridge condition', 'get ending', 'abbreviate terminal', 'narrow remnant', 'undertake last', 'get terminate', 'shrink destruction', 'shorten remainder', 'get finish', 'abbreviate destruction', 'reduce term\\\\S\\\\s*\\\\S', 'get remainder', 'reduce full_term', 'contract_bridge end', 'get terminus', 'shrink ending', 'squeeze ending', 'contract_bridge cease', 'cut death', 'contract_bridge ending', 'contract close', 'get destruction', 'sign_on close', 'concentrate conclusion', 'condense remnant', 'sign destruction', 'sign terminal', 'declaration goal', 'cut end', 'squeeze terminal', 'get goal', 'shrink goal', 'undertake stop', 'compress full_term', 'abbreviate end', 'condense close', 'narrow terminal', 'condense full_term', 'press last', 'sign_up terminal', 'take closing', 'sign_on terminus', 'foreshorten goal', 'foreshorten death', 'undertake terminal', 'foreshorten last', 'press terminate', 'abridge destruction', 'condense destruction', 'declaration term', 'abbreviate condition', 'condense goal', 'concentrate death', 'declaration cease', 'shrink death', 'compress ending', 'constrict cease', 'compact oddment', 'compress final_stage', 'constrict terminal', 'reduce term', 'shorten terminus', 'constrict terminal_figure', 'sign_on condition', 'press closing', 'concentrate final_stage', 'press term', 'compact finish', 'squeeze remnant', 'take cease', 'constrict destruction', 'contract closing', 'sign_up finish', 'get close', 'declaration remainder', 'shrink final_stage', 'undertake remainder', 'abridge final_stage', 'sign_on terminal', 'sign_up conclusion', 'sign finish', 'sign remnant', 'shorten term\\\\S\\\\s*\\\\S', 'narrow last', 'abbreviate closing', 'compress closing', 'sign close', 'sign cease', 'foreshorten terminal_figure', 'constrict remnant', 'press terminus', 'squeeze terminate', 'concentrate closing', 'contract_bridge condition', 'sign term\\\\S\\\\s*\\\\S', 'take remainder', 'sign_up final_stage', 'abbreviate terminate', 'undertake terminus', 'constrict last', 'constrict condition', 'reduce destruction', 'compact cease', 'undertake death', 'reduce final_stage', 'contract terminal_figure', 'sign_up terminus', 'compact closing', 'sign_on oddment', 'press terminal_figure', 'compact terminal', 'contract terminal', 'reduce oddment', 'constrict ending', 'squeeze oddment', 'condense terminal_figure', 'concentrate last', 'compress terminate', 'shrink stop', 'sign ending', 'declaration terminus', 'declaration remnant', 'sign condition', 'contract_bridge finish', 'compact end', 'squeeze term\\\\S\\\\s*\\\\S', 'abridge full_term', 'constrict death', 'concentrate terminal_figure', 'constrict final_stage', 'contract last', 'compress close', 'contract stop', 'cut finish', 'narrow terminate', 'constrict finish', 'abridge terminus', 'constrict oddment', 'cut remainder', 'squeeze death', 'take end', 'constrict full_term', 'compact death', 'contract_bridge destruction', 'concentrate condition', 'get conclusion', 'constrict conclusion', 'cut cease', 'compress terminus', 'press condition', 'constrict closing', 'narrow closing', 'narrow destruction', 'compact term', 'abbreviate remainder', 'press oddment', 'sign_on remnant', 'abridge term\\\\S\\\\s*\\\\S', 'get oddment', 'concentrate ending', 'foreshorten term\\\\S\\\\s*\\\\S', 'reduce last', 'sign_up remainder', 'squeeze condition', 'shorten end', 'press cease', 'sign conclusion', 'condense oddment', 'foreshorten end', 'condense remainder', 'narrow finish', 'abbreviate final_stage', 'sign final_stage', 'narrow close', 'cut close'}\n",
      "TX-19278 ASC-ENT (7.2.18)-pdf.txt\n",
      "{'effective', 'effectual', 'good', 'effective date\\\\S\\\\s*\\\\S', 'good date\\\\S\\\\s*\\\\S', 'in_effect date\\\\S\\\\s*\\\\S', 'in_force', 'efficient date\\\\S\\\\s*\\\\S', 'in_force date\\\\S\\\\s*\\\\S', 'efficacious', 'in_effect', 'efficient', 'efficacious date\\\\S\\\\s*\\\\S', 'effectual date\\\\S\\\\s*\\\\S'}\n",
      "start:  2018-03-01 00:00:00\n",
      "{'shorten condition', 'take term', 'constrict stop', 'abbreviate terminal_figure', 'cut condition', 'contract oddment', 'condense closing', 'undertake cease', 'contract_bridge oddment', 'narrow condition', 'press stop', 'compress end', 'sign closing', 'undertake term', 'squeeze full_term', 'condense conclusion', 'sign full_term', 'sign_on terminate', 'compress finish', 'contract_bridge term\\\\S\\\\s*\\\\S', 'contract full_term', 'contract term\\\\S\\\\s*\\\\S', 'constrict terminate', 'shorten closing', 'get term\\\\S\\\\s*\\\\S', 'reduce remainder', 'foreshorten terminus', 'abridge stop', 'abbreviate finish', 'reduce terminate', 'undertake closing', 'get death', 'concentrate terminal', 'squeeze end', 'press remainder', 'get full_term', 'get final_stage', 'abridge finish', 'constrict remainder', 'sign_up end', 'get condition', 'constrict goal', 'abbreviate conclusion', 'contract_bridge close', 'declaration destruction', 'contract_bridge full_term', 'shrink oddment', 'concentrate finish', 'take destruction', 'press destruction', 'cut closing', 'concentrate remainder', 'squeeze remainder', 'foreshorten full_term', 'undertake finish', 'abbreviate cease', 'shrink last', 'condense condition', 'abridge goal', 'condense term', 'undertake end', 'take death', 'take goal', 'reduce terminal', 'contract remainder', 'sign_up cease', 'compact terminal_figure', 'press close', 'sign_up ending', 'condense stop', 'sign_up condition', 'abridge remainder', 'sign_up term\\\\S\\\\s*\\\\S', 'squeeze terminus', 'compress terminal_figure', 'compact terminate', 'squeeze cease', 'undertake final_stage', 'foreshorten condition', 'shorten stop', 'concentrate remnant', 'take last', 'cut term', 'abridge terminal_figure', 'reduce cease', 'shorten oddment', 'sign_on finish', 'foreshorten close', 'sign_on goal', 'reduce terminal_figure', 'narrow term', 'sign oddment', 'compact full_term', 'declaration terminate', 'declaration final_stage', 'compact last', 'foreshorten finish', 'reduce ending', 'compact terminus', 'condense end', 'narrow term\\\\S\\\\s*\\\\S', 'compact remainder', 'concentrate close', 'shrink end', 'undertake conclusion', 'get terminal', 'condense ending', 'abridge end', 'take conclusion', 'constrict close', 'shorten term', 'foreshorten terminate', 'get cease', 'compress term', 'compress remnant', 'foreshorten oddment', 'contract_bridge death', 'narrow conclusion', 'take terminate', 'reduce death', 'sign terminal_figure', 'sign_on conclusion', 'squeeze destruction', 'condense finish', 'contract_bridge goal', 'compact ending', 'declaration stop', 'constrict term\\\\S\\\\s*\\\\S', 'contract_bridge remnant', 'cut full_term', 'narrow terminus', 'contract_bridge terminal', 'shrink full_term', 'condense terminate', 'concentrate destruction', 'contract ending', 'sign_on term', 'abridge closing', 'declaration term\\\\S\\\\s*\\\\S', 'shrink condition', 'abbreviate ending', 'squeeze finish', 'foreshorten cease', 'take final_stage', 'contract_bridge terminal_figure', 'get term', 'take terminal_figure', 'reduce closing', 'sign_up terminate', 'sign terminate', 'shrink term\\\\S\\\\s*\\\\S', 'declaration ending', 'compact remnant', 'foreshorten destruction', 'abbreviate goal', 'narrow oddment', 'condense death', 'concentrate term', 'contract terminus', 'contract term ', 'compress terminal', 'sign_on remainder', 'foreshorten ending', 'compact stop', 'abbreviate close', 'cut terminal', 'compress condition', 'shrink closing', 'foreshorten conclusion', 'narrow ending', 'undertake goal', 'shorten last', 'narrow death', 'contract conclusion', 'reduce finish', 'concentrate end', 'narrow end', 'contract destruction', 'abridge death', 'abbreviate term', 'press term\\\\S\\\\s*\\\\S', 'concentrate cease', 'condense terminal', 'compact term\\\\S\\\\s*\\\\S', 'reduce end', 'squeeze last', 'declaration closing', 'concentrate terminate', 'cut term\\\\S\\\\s*\\\\S', 'narrow remainder', 'get stop', 'sign_on terminal_figure', 'reduce condition', 'abbreviate remnant', 'contract finish', 'take close', 'sign_up destruction', 'reduce remnant', 'sign end', 'cut final_stage', 'get closing', 'get terminal_figure', 'abridge remnant', 'press finish', 'contract term', 'constrict terminus', 'reduce goal', 'cut ending', 'sign_on stop', 'condense terminus', 'shrink close', 'sign goal', 'shorten death', 'condense final_stage', 'sign_up oddment', 'abridge cease', 'abbreviate death', 'shrink remnant', 'compress goal', 'sign_on death', 'press final_stage', 'sign_up terminal_figure', 'abridge close', 'shrink terminal_figure', 'compress death', 'contract terminate', 'compact condition', 'compress cease', 'declaration end', 'reduce stop', 'narrow full_term', 'shorten goal', 'abbreviate term\\\\S\\\\s*\\\\S', 'declaration terminal_figure', 'undertake oddment', 'sign remainder', 'undertake ending', 'compact close', 'concentrate terminus', 'sign_on last', 'abbreviate oddment', 'squeeze goal', 'shrink term', 'compact goal', 'squeeze final_stage', 'press goal', 'sign_on term\\\\S\\\\s*\\\\S', 'contract_bridge closing', 'cut stop', 'compress oddment', 'declaration full_term', 'squeeze close', 'compact final_stage', 'sign stop', 'compress remainder', 'contract_bridge term', 'foreshorten terminal', 'shorten terminal_figure', 'concentrate stop', 'cut conclusion', 'squeeze closing', 'shorten final_stage', 'compress destruction', 'press full_term', 'take terminus', 'squeeze stop', 'compress conclusion', 'condense term\\\\S\\\\s*\\\\S', 'abridge ending', 'sign_on cease', 'compress last', 'take ending', 'press terminal', 'abbreviate stop', 'compress stop', 'squeeze conclusion', 'declaration condition', 'abridge last', 'sign_on final_stage', 'contract cease', 'press death', 'shrink conclusion', 'take remnant', 'concentrate full_term', 'abridge terminal', 'declaration close', 'cut oddment', 'sign_up stop', 'sign_up death', 'press conclusion', 'undertake terminate', 'cut last', 'foreshorten closing', 'narrow goal', 'shrink cease', 'constrict end', 'cut terminus', 'foreshorten final_stage', 'contract end', 'sign_on closing', 'take oddment', 'narrow terminal_figure', 'cut remnant', 'press remnant', 'foreshorten term', 'squeeze term', 'narrow stop', 'compact destruction', 'sign_up full_term', 'undertake term\\\\S\\\\s*\\\\S', 'shorten cease', 'contract remnant', 'contract condition', 'shorten ending', 'contract goal', 'shorten terminate', 'shorten conclusion', 'undertake terminal_figure', 'shrink terminal', 'undertake full_term', 'constrict term', 'declaration finish', 'contract_bridge terminus', 'declaration death', 'concentrate term\\\\S\\\\s*\\\\S', 'abbreviate full_term', 'concentrate goal', 'shorten finish', 'abridge conclusion', 'compact conclusion', 'declaration terminal', 'contract_bridge terminate', 'shorten destruction', 'take term\\\\S\\\\s*\\\\S', 'condense last', 'foreshorten stop', 'shrink remainder', 'shorten remnant', 'sign_on full_term', 'sign_on destruction', 'shorten terminal', 'sign_up close', 'shorten full_term', 'cut terminate', 'contract_bridge stop', 'take stop', 'shrink terminus', 'narrow cease', 'get end', 'cut terminal_figure', 'sign_up last', 'contract_bridge last', 'get last', 'contract final_stage', 'foreshorten remainder', 'narrow final_stage', 'condense cease', 'undertake condition', 'sign_up term', 'abridge oddment', 'abridge terminate', 'sign_on end', 'contract_bridge remainder', 'reduce conclusion', 'reduce terminus', 'sign term', 'declaration last', 'shrink finish', 'cut destruction', 'take condition', 'undertake remnant', 'sign_on ending', 'take full_term', 'press ending', 'sign terminus', 'sign last', 'declaration oddment', 'sign death', 'shorten close', 'abbreviate last', 'sign_up remnant', 'foreshorten remnant', 'cut goal', 'squeeze terminal_figure', 'undertake close', 'contract_bridge final_stage', 'sign_up closing', 'concentrate oddment', 'declaration conclusion', 'get remnant', 'abridge term', 'take terminal', 'undertake destruction', 'shrink terminate', 'abbreviate terminus', 'take finish', 'reduce close', 'contract_bridge conclusion', 'press end', 'contract death', 'sign_up goal', 'compress term\\\\S\\\\s*\\\\S', 'abridge condition', 'get ending', 'abbreviate terminal', 'narrow remnant', 'undertake last', 'get terminate', 'shrink destruction', 'shorten remainder', 'get finish', 'abbreviate destruction', 'reduce term\\\\S\\\\s*\\\\S', 'get remainder', 'reduce full_term', 'contract_bridge end', 'get terminus', 'shrink ending', 'squeeze ending', 'contract_bridge cease', 'cut death', 'contract_bridge ending', 'contract close', 'get destruction', 'sign_on close', 'concentrate conclusion', 'condense remnant', 'sign destruction', 'sign terminal', 'declaration goal', 'cut end', 'squeeze terminal', 'get goal', 'shrink goal', 'undertake stop', 'compress full_term', 'abbreviate end', 'condense close', 'narrow terminal', 'condense full_term', 'press last', 'sign_up terminal', 'take closing', 'sign_on terminus', 'foreshorten goal', 'foreshorten death', 'undertake terminal', 'foreshorten last', 'press terminate', 'abridge destruction', 'condense destruction', 'declaration term', 'abbreviate condition', 'condense goal', 'concentrate death', 'declaration cease', 'shrink death', 'compress ending', 'constrict cease', 'compact oddment', 'compress final_stage', 'constrict terminal', 'reduce term', 'shorten terminus', 'constrict terminal_figure', 'sign_on condition', 'press closing', 'concentrate final_stage', 'press term', 'compact finish', 'squeeze remnant', 'take cease', 'constrict destruction', 'contract closing', 'sign_up finish', 'get close', 'declaration remainder', 'shrink final_stage', 'undertake remainder', 'abridge final_stage', 'sign_on terminal', 'sign_up conclusion', 'sign finish', 'sign remnant', 'shorten term\\\\S\\\\s*\\\\S', 'narrow last', 'abbreviate closing', 'compress closing', 'sign close', 'sign cease', 'foreshorten terminal_figure', 'constrict remnant', 'press terminus', 'squeeze terminate', 'concentrate closing', 'contract_bridge condition', 'sign term\\\\S\\\\s*\\\\S', 'take remainder', 'sign_up final_stage', 'abbreviate terminate', 'undertake terminus', 'constrict last', 'constrict condition', 'reduce destruction', 'compact cease', 'undertake death', 'reduce final_stage', 'contract terminal_figure', 'sign_up terminus', 'compact closing', 'sign_on oddment', 'press terminal_figure', 'compact terminal', 'contract terminal', 'reduce oddment', 'constrict ending', 'squeeze oddment', 'condense terminal_figure', 'concentrate last', 'compress terminate', 'shrink stop', 'sign ending', 'declaration terminus', 'declaration remnant', 'sign condition', 'contract_bridge finish', 'compact end', 'squeeze term\\\\S\\\\s*\\\\S', 'abridge full_term', 'constrict death', 'concentrate terminal_figure', 'constrict final_stage', 'contract last', 'compress close', 'contract stop', 'cut finish', 'narrow terminate', 'constrict finish', 'abridge terminus', 'constrict oddment', 'cut remainder', 'squeeze death', 'take end', 'constrict full_term', 'compact death', 'contract_bridge destruction', 'concentrate condition', 'get conclusion', 'constrict conclusion', 'cut cease', 'compress terminus', 'press condition', 'constrict closing', 'narrow closing', 'narrow destruction', 'compact term', 'abbreviate remainder', 'press oddment', 'sign_on remnant', 'abridge term\\\\S\\\\s*\\\\S', 'get oddment', 'concentrate ending', 'foreshorten term\\\\S\\\\s*\\\\S', 'reduce last', 'sign_up remainder', 'squeeze condition', 'shorten end', 'press cease', 'sign conclusion', 'condense oddment', 'foreshorten end', 'condense remainder', 'narrow finish', 'abbreviate final_stage', 'sign final_stage', 'narrow close', 'cut close'}\n"
     ]
    },
    {
     "name": "stdout",
     "output_type": "stream",
     "text": [
      "TX 19015 EOC ENT(7.2.18)-pdf.txt\n",
      "{'effective', 'effectual', 'good', 'effective date\\\\S\\\\s*\\\\S', 'good date\\\\S\\\\s*\\\\S', 'in_effect date\\\\S\\\\s*\\\\S', 'in_force', 'efficient date\\\\S\\\\s*\\\\S', 'in_force date\\\\S\\\\s*\\\\S', 'efficacious', 'in_effect', 'efficient', 'efficacious date\\\\S\\\\s*\\\\S', 'effectual date\\\\S\\\\s*\\\\S'}\n",
      "start:  2018-01-01 00:00:00\n",
      "{'shorten condition', 'take term', 'constrict stop', 'abbreviate terminal_figure', 'cut condition', 'contract oddment', 'condense closing', 'undertake cease', 'contract_bridge oddment', 'narrow condition', 'press stop', 'compress end', 'sign closing', 'undertake term', 'squeeze full_term', 'condense conclusion', 'sign full_term', 'sign_on terminate', 'compress finish', 'contract_bridge term\\\\S\\\\s*\\\\S', 'contract full_term', 'contract term\\\\S\\\\s*\\\\S', 'constrict terminate', 'shorten closing', 'get term\\\\S\\\\s*\\\\S', 'reduce remainder', 'foreshorten terminus', 'abridge stop', 'abbreviate finish', 'reduce terminate', 'undertake closing', 'get death', 'concentrate terminal', 'squeeze end', 'press remainder', 'get full_term', 'get final_stage', 'abridge finish', 'constrict remainder', 'sign_up end', 'get condition', 'constrict goal', 'abbreviate conclusion', 'contract_bridge close', 'declaration destruction', 'contract_bridge full_term', 'shrink oddment', 'concentrate finish', 'take destruction', 'press destruction', 'cut closing', 'concentrate remainder', 'squeeze remainder', 'foreshorten full_term', 'undertake finish', 'abbreviate cease', 'shrink last', 'condense condition', 'abridge goal', 'condense term', 'undertake end', 'take death', 'take goal', 'reduce terminal', 'contract remainder', 'sign_up cease', 'compact terminal_figure', 'press close', 'sign_up ending', 'condense stop', 'sign_up condition', 'abridge remainder', 'sign_up term\\\\S\\\\s*\\\\S', 'squeeze terminus', 'compress terminal_figure', 'compact terminate', 'squeeze cease', 'undertake final_stage', 'foreshorten condition', 'shorten stop', 'concentrate remnant', 'take last', 'cut term', 'abridge terminal_figure', 'reduce cease', 'shorten oddment', 'sign_on finish', 'foreshorten close', 'sign_on goal', 'reduce terminal_figure', 'narrow term', 'sign oddment', 'compact full_term', 'declaration terminate', 'declaration final_stage', 'compact last', 'foreshorten finish', 'reduce ending', 'compact terminus', 'condense end', 'narrow term\\\\S\\\\s*\\\\S', 'compact remainder', 'concentrate close', 'shrink end', 'undertake conclusion', 'get terminal', 'condense ending', 'abridge end', 'take conclusion', 'constrict close', 'shorten term', 'foreshorten terminate', 'get cease', 'compress term', 'compress remnant', 'foreshorten oddment', 'contract_bridge death', 'narrow conclusion', 'take terminate', 'reduce death', 'sign terminal_figure', 'sign_on conclusion', 'squeeze destruction', 'condense finish', 'contract_bridge goal', 'compact ending', 'declaration stop', 'constrict term\\\\S\\\\s*\\\\S', 'contract_bridge remnant', 'cut full_term', 'narrow terminus', 'contract_bridge terminal', 'shrink full_term', 'condense terminate', 'concentrate destruction', 'contract ending', 'sign_on term', 'abridge closing', 'declaration term\\\\S\\\\s*\\\\S', 'shrink condition', 'abbreviate ending', 'squeeze finish', 'foreshorten cease', 'take final_stage', 'contract_bridge terminal_figure', 'get term', 'take terminal_figure', 'reduce closing', 'sign_up terminate', 'sign terminate', 'shrink term\\\\S\\\\s*\\\\S', 'declaration ending', 'compact remnant', 'foreshorten destruction', 'abbreviate goal', 'narrow oddment', 'condense death', 'concentrate term', 'contract terminus', 'contract term ', 'compress terminal', 'sign_on remainder', 'foreshorten ending', 'compact stop', 'abbreviate close', 'cut terminal', 'compress condition', 'shrink closing', 'foreshorten conclusion', 'narrow ending', 'undertake goal', 'shorten last', 'narrow death', 'contract conclusion', 'reduce finish', 'concentrate end', 'narrow end', 'contract destruction', 'abridge death', 'abbreviate term', 'press term\\\\S\\\\s*\\\\S', 'concentrate cease', 'condense terminal', 'compact term\\\\S\\\\s*\\\\S', 'reduce end', 'squeeze last', 'declaration closing', 'concentrate terminate', 'cut term\\\\S\\\\s*\\\\S', 'narrow remainder', 'get stop', 'sign_on terminal_figure', 'reduce condition', 'abbreviate remnant', 'contract finish', 'take close', 'sign_up destruction', 'reduce remnant', 'sign end', 'cut final_stage', 'get closing', 'get terminal_figure', 'abridge remnant', 'press finish', 'contract term', 'constrict terminus', 'reduce goal', 'cut ending', 'sign_on stop', 'condense terminus', 'shrink close', 'sign goal', 'shorten death', 'condense final_stage', 'sign_up oddment', 'abridge cease', 'abbreviate death', 'shrink remnant', 'compress goal', 'sign_on death', 'press final_stage', 'sign_up terminal_figure', 'abridge close', 'shrink terminal_figure', 'compress death', 'contract terminate', 'compact condition', 'compress cease', 'declaration end', 'reduce stop', 'narrow full_term', 'shorten goal', 'abbreviate term\\\\S\\\\s*\\\\S', 'declaration terminal_figure', 'undertake oddment', 'sign remainder', 'undertake ending', 'compact close', 'concentrate terminus', 'sign_on last', 'abbreviate oddment', 'squeeze goal', 'shrink term', 'compact goal', 'squeeze final_stage', 'press goal', 'sign_on term\\\\S\\\\s*\\\\S', 'contract_bridge closing', 'cut stop', 'compress oddment', 'declaration full_term', 'squeeze close', 'compact final_stage', 'sign stop', 'compress remainder', 'contract_bridge term', 'foreshorten terminal', 'shorten terminal_figure', 'concentrate stop', 'cut conclusion', 'squeeze closing', 'shorten final_stage', 'compress destruction', 'press full_term', 'take terminus', 'squeeze stop', 'compress conclusion', 'condense term\\\\S\\\\s*\\\\S', 'abridge ending', 'sign_on cease', 'compress last', 'take ending', 'press terminal', 'abbreviate stop', 'compress stop', 'squeeze conclusion', 'declaration condition', 'abridge last', 'sign_on final_stage', 'contract cease', 'press death', 'shrink conclusion', 'take remnant', 'concentrate full_term', 'abridge terminal', 'declaration close', 'cut oddment', 'sign_up stop', 'sign_up death', 'press conclusion', 'undertake terminate', 'cut last', 'foreshorten closing', 'narrow goal', 'shrink cease', 'constrict end', 'cut terminus', 'foreshorten final_stage', 'contract end', 'sign_on closing', 'take oddment', 'narrow terminal_figure', 'cut remnant', 'press remnant', 'foreshorten term', 'squeeze term', 'narrow stop', 'compact destruction', 'sign_up full_term', 'undertake term\\\\S\\\\s*\\\\S', 'shorten cease', 'contract remnant', 'contract condition', 'shorten ending', 'contract goal', 'shorten terminate', 'shorten conclusion', 'undertake terminal_figure', 'shrink terminal', 'undertake full_term', 'constrict term', 'declaration finish', 'contract_bridge terminus', 'declaration death', 'concentrate term\\\\S\\\\s*\\\\S', 'abbreviate full_term', 'concentrate goal', 'shorten finish', 'abridge conclusion', 'compact conclusion', 'declaration terminal', 'contract_bridge terminate', 'shorten destruction', 'take term\\\\S\\\\s*\\\\S', 'condense last', 'foreshorten stop', 'shrink remainder', 'shorten remnant', 'sign_on full_term', 'sign_on destruction', 'shorten terminal', 'sign_up close', 'shorten full_term', 'cut terminate', 'contract_bridge stop', 'take stop', 'shrink terminus', 'narrow cease', 'get end', 'cut terminal_figure', 'sign_up last', 'contract_bridge last', 'get last', 'contract final_stage', 'foreshorten remainder', 'narrow final_stage', 'condense cease', 'undertake condition', 'sign_up term', 'abridge oddment', 'abridge terminate', 'sign_on end', 'contract_bridge remainder', 'reduce conclusion', 'reduce terminus', 'sign term', 'declaration last', 'shrink finish', 'cut destruction', 'take condition', 'undertake remnant', 'sign_on ending', 'take full_term', 'press ending', 'sign terminus', 'sign last', 'declaration oddment', 'sign death', 'shorten close', 'abbreviate last', 'sign_up remnant', 'foreshorten remnant', 'cut goal', 'squeeze terminal_figure', 'undertake close', 'contract_bridge final_stage', 'sign_up closing', 'concentrate oddment', 'declaration conclusion', 'get remnant', 'abridge term', 'take terminal', 'undertake destruction', 'shrink terminate', 'abbreviate terminus', 'take finish', 'reduce close', 'contract_bridge conclusion', 'press end', 'contract death', 'sign_up goal', 'compress term\\\\S\\\\s*\\\\S', 'abridge condition', 'get ending', 'abbreviate terminal', 'narrow remnant', 'undertake last', 'get terminate', 'shrink destruction', 'shorten remainder', 'get finish', 'abbreviate destruction', 'reduce term\\\\S\\\\s*\\\\S', 'get remainder', 'reduce full_term', 'contract_bridge end', 'get terminus', 'shrink ending', 'squeeze ending', 'contract_bridge cease', 'cut death', 'contract_bridge ending', 'contract close', 'get destruction', 'sign_on close', 'concentrate conclusion', 'condense remnant', 'sign destruction', 'sign terminal', 'declaration goal', 'cut end', 'squeeze terminal', 'get goal', 'shrink goal', 'undertake stop', 'compress full_term', 'abbreviate end', 'condense close', 'narrow terminal', 'condense full_term', 'press last', 'sign_up terminal', 'take closing', 'sign_on terminus', 'foreshorten goal', 'foreshorten death', 'undertake terminal', 'foreshorten last', 'press terminate', 'abridge destruction', 'condense destruction', 'declaration term', 'abbreviate condition', 'condense goal', 'concentrate death', 'declaration cease', 'shrink death', 'compress ending', 'constrict cease', 'compact oddment', 'compress final_stage', 'constrict terminal', 'reduce term', 'shorten terminus', 'constrict terminal_figure', 'sign_on condition', 'press closing', 'concentrate final_stage', 'press term', 'compact finish', 'squeeze remnant', 'take cease', 'constrict destruction', 'contract closing', 'sign_up finish', 'get close', 'declaration remainder', 'shrink final_stage', 'undertake remainder', 'abridge final_stage', 'sign_on terminal', 'sign_up conclusion', 'sign finish', 'sign remnant', 'shorten term\\\\S\\\\s*\\\\S', 'narrow last', 'abbreviate closing', 'compress closing', 'sign close', 'sign cease', 'foreshorten terminal_figure', 'constrict remnant', 'press terminus', 'squeeze terminate', 'concentrate closing', 'contract_bridge condition', 'sign term\\\\S\\\\s*\\\\S', 'take remainder', 'sign_up final_stage', 'abbreviate terminate', 'undertake terminus', 'constrict last', 'constrict condition', 'reduce destruction', 'compact cease', 'undertake death', 'reduce final_stage', 'contract terminal_figure', 'sign_up terminus', 'compact closing', 'sign_on oddment', 'press terminal_figure', 'compact terminal', 'contract terminal', 'reduce oddment', 'constrict ending', 'squeeze oddment', 'condense terminal_figure', 'concentrate last', 'compress terminate', 'shrink stop', 'sign ending', 'declaration terminus', 'declaration remnant', 'sign condition', 'contract_bridge finish', 'compact end', 'squeeze term\\\\S\\\\s*\\\\S', 'abridge full_term', 'constrict death', 'concentrate terminal_figure', 'constrict final_stage', 'contract last', 'compress close', 'contract stop', 'cut finish', 'narrow terminate', 'constrict finish', 'abridge terminus', 'constrict oddment', 'cut remainder', 'squeeze death', 'take end', 'constrict full_term', 'compact death', 'contract_bridge destruction', 'concentrate condition', 'get conclusion', 'constrict conclusion', 'cut cease', 'compress terminus', 'press condition', 'constrict closing', 'narrow closing', 'narrow destruction', 'compact term', 'abbreviate remainder', 'press oddment', 'sign_on remnant', 'abridge term\\\\S\\\\s*\\\\S', 'get oddment', 'concentrate ending', 'foreshorten term\\\\S\\\\s*\\\\S', 'reduce last', 'sign_up remainder', 'squeeze condition', 'shorten end', 'press cease', 'sign conclusion', 'condense oddment', 'foreshorten end', 'condense remainder', 'narrow finish', 'abbreviate final_stage', 'sign final_stage', 'narrow close', 'cut close'}\n"
     ]
    }
   ],
   "source": [
    "for file in base_info:\n",
    "    dfMD = getMetaDataAtt(file)\n",
    "    #testSyns(file['sentTokens'], \"group\",\"number\")\n",
    "    \n",
    "    #transpose=dfMD.transpose()\n",
    "    #print(transpose)\n",
    "    #print(dfMD)"
   ]
  },
  {
   "cell_type": "code",
   "execution_count": null,
   "metadata": {},
   "outputs": [],
   "source": [
    "## Diagnostic and Preventative (D&P) [Appendix A]\n",
    "\n",
    "d={'key':'D&P Services_PPO','value':'100'}\n",
    "##Need to pass index since we're only doing string values\n",
    "dfDP=pd.DataFrame(d, index=['D%P Services'])\n"
   ]
  },
  {
   "cell_type": "code",
   "execution_count": null,
   "metadata": {},
   "outputs": [],
   "source": [
    "## Basic Service\n",
    "\n",
    "dfBS=pd.DataFrame(d, index=['Basic Service'])"
   ]
  },
  {
   "cell_type": "code",
   "execution_count": null,
   "metadata": {},
   "outputs": [],
   "source": [
    "## Endo Perio (Endodontics (Periodontal(?)))\n",
    "\n",
    "dfEP=pd.DataFrame(d, index=['Endo Perio'])"
   ]
  },
  {
   "cell_type": "code",
   "execution_count": null,
   "metadata": {},
   "outputs": [],
   "source": [
    "## Oral (Oral Surgery)\n",
    "\n",
    "dfOa=pd.DataFrame(d, index=['uid'])"
   ]
  },
  {
   "cell_type": "code",
   "execution_count": null,
   "metadata": {},
   "outputs": [],
   "source": [
    "## Perio (Periodontal)\n",
    "\n",
    "dfPe=pd.DataFrame(d, index=['uid'])"
   ]
  },
  {
   "cell_type": "code",
   "execution_count": null,
   "metadata": {},
   "outputs": [],
   "source": [
    "## Major (Major Benefits)\n",
    "\n",
    "dfMj=pd.DataFrame(d, index=['uid'])"
   ]
  },
  {
   "cell_type": "code",
   "execution_count": null,
   "metadata": {},
   "outputs": [],
   "source": [
    "## Prostho (Prosthodontics)\n",
    "\n",
    "dfPr=pd.DataFrame(d, index=['uid'])"
   ]
  },
  {
   "cell_type": "code",
   "execution_count": null,
   "metadata": {},
   "outputs": [],
   "source": [
    "## Ortho (Orthodontics)\n",
    "\n",
    "dfOt=pd.DataFrame(d, index=['uid'])"
   ]
  },
  {
   "cell_type": "code",
   "execution_count": null,
   "metadata": {
    "scrolled": true
   },
   "outputs": [],
   "source": [
    "#Concatenate all frames created by the above dataset\n",
    "\n",
    "frames = [df, dfGI, dfDP, dfBS, dfEP, dfOa, dfPe, dfMj, dfPr, dfOt]\n",
    "\n",
    "result = pd.concat(frames)\n",
    "transpose=result.transpose()\n",
    "print(transpose)"
   ]
  },
  {
   "cell_type": "code",
   "execution_count": null,
   "metadata": {},
   "outputs": [],
   "source": []
  },
  {
   "cell_type": "code",
   "execution_count": null,
   "metadata": {},
   "outputs": [],
   "source": []
  }
 ],
 "metadata": {
  "kernelspec": {
   "display_name": "Python 3",
   "language": "python",
   "name": "python3"
  },
  "language_info": {
   "codemirror_mode": {
    "name": "ipython",
    "version": 3
   },
   "file_extension": ".py",
   "mimetype": "text/x-python",
   "name": "python",
   "nbconvert_exporter": "python",
   "pygments_lexer": "ipython3",
   "version": "3.6.5"
  }
 },
 "nbformat": 4,
 "nbformat_minor": 2
}
