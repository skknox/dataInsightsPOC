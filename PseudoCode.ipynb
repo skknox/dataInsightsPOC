{
 "cells": [
  {
   "cell_type": "markdown",
   "metadata": {},
   "source": [
    "# Exploring and Processing"
   ]
  },
  {
   "cell_type": "markdown",
   "metadata": {
    "heading_collapsed": true
   },
   "source": [
    "### Import Statements"
   ]
  },
  {
   "cell_type": "code",
   "execution_count": 17,
   "metadata": {
    "hidden": true
   },
   "outputs": [],
   "source": [
    "import pandas as pd\n",
    "import numpy as np\n",
    "import os\n",
    "import matplotlib.pyplot as plt\n",
    "import sklearn as skl\n",
    "import random as rng\n",
    "import nltk\n",
    "import fnmatch\n",
    "\n",
    "import docx2txt\n",
    "from pdfminer.pdfparser import PDFParser\n",
    "from pdfminer.pdfdocument import PDFDocument\n",
    "from pdfminer.pdfpage import PDFPage\n",
    "from pdfminer.pdfinterp import PDFResourceManager, PDFPageInterpreter\n",
    "from pdfminer.pdfdevice import PDFDevice\n",
    "from pdfminer.pdfpage import PDFTextExtractionNotAllowed\n",
    "from pdfminer.layout import LAParams, LTTextBox, LTTextLine\n",
    "from pdfminer.converter import PDFPageAggregator\n",
    "\n",
    "from nltk.book import *\n",
    "from nltk import word_tokenize\n",
    "from nltk import sent_tokenize\n",
    "from nltk.corpus import stopwords\n",
    "from nltk.corpus import wordnet as wn\n",
    "from nltk.collocations import *\n",
    "from nltk.util import ngrams\n",
    "from nltk.stem.lancaster import LancasterStemmer\n",
    "from string import punctuation\n",
    "import sys as sys\n",
    "from sys import platform\n",
    "import re as re\n",
    "from statistics import mode\n",
    "import datefinder\n"
   ]
  },
  {
   "cell_type": "markdown",
   "metadata": {
    "heading_collapsed": true
   },
   "source": [
    "## Psuedocode"
   ]
  },
  {
   "cell_type": "code",
   "execution_count": 18,
   "metadata": {
    "hidden": true
   },
   "outputs": [],
   "source": [
    "### Analysis Function\n",
    "\n",
    "## Function which calculates the number of combinations (Not Permutations) of distinct values in a dataset. Would \n",
    "## take in a Pandas DataFrame ideally and multiply all distinct value counts for all available columns.\n",
    "\n",
    "# Expected input: Pandas DataFrame\n",
    "# Expected output: Int, the number of possible combinations."
   ]
  },
  {
   "cell_type": "code",
   "execution_count": 19,
   "metadata": {
    "hidden": true
   },
   "outputs": [],
   "source": [
    "### Parsing Function\n",
    "\n",
    "## Function to collect mentions of States/Districts/Territories in the United States (DC and Puerto Rico are included)\n",
    "## and rank their relevence, frequency should be a good factor. Note: California, Pennsylvania, and Georgia could \n",
    "## appear multiple times from addresses.\n",
    "\n",
    "# Expected input: A single file, text.\n",
    "# Expected output: A list of locations mentioned, ranked by most used to least used."
   ]
  },
  {
   "cell_type": "code",
   "execution_count": 20,
   "metadata": {
    "hidden": true
   },
   "outputs": [],
   "source": [
    "### Parsing Function\n",
    "\n",
    "## Function for searching a tokenized sentence dictionary for words or phrases. There's probably \n",
    "## already something for this.\n",
    "\n",
    "# Expected input: A tokenized list, and a phrase to search for.\n",
    "# Expected output: A list of sentences containing the phrase searched."
   ]
  },
  {
   "cell_type": "code",
   "execution_count": 21,
   "metadata": {
    "hidden": true
   },
   "outputs": [],
   "source": [
    "### Parsing Function\n",
    "\n",
    "## Function to take a file and produce the Acronyms from them.\n",
    "\n",
    "# Expected Input: Text File to be parsed, the Acronym to search\n",
    "# Expected output: A list of possible phrases, most likely first."
   ]
  },
  {
   "cell_type": "code",
   "execution_count": 22,
   "metadata": {
    "hidden": true
   },
   "outputs": [],
   "source": [
    "### Parsing Function\n",
    "\n",
    "## Function to take Acronyms and match them to the best possible N-gram for them from a document. Not all will be \n",
    "## possible, but a list of options will help.\n",
    "\n",
    "# Expected Input: Text File to be parsed, the Acronym to search\n",
    "# Expected output: A list of possible phrases, sorted most likely first."
   ]
  },
  {
   "cell_type": "code",
   "execution_count": 23,
   "metadata": {
    "hidden": true
   },
   "outputs": [],
   "source": [
    "### Generally important\n",
    "\n",
    "## Need to expand stopwords to include States and Districts, also Delta Dental adjacent names as another available set."
   ]
  },
  {
   "cell_type": "code",
   "execution_count": 24,
   "metadata": {
    "hidden": true
   },
   "outputs": [],
   "source": [
    "## Function to load in two different text extracted contracts and return a comparison metric between \n",
    "## the two (Similarity, possibly as a percent?)\n",
    "\n",
    "# Expected Input: Two contracts for Comparison\n",
    "# Expected Output: A measure, some kind of decimal to represent similarity."
   ]
  },
  {
   "cell_type": "markdown",
   "metadata": {
    "heading_collapsed": true
   },
   "source": [
    "## File Prep Functions"
   ]
  },
  {
   "cell_type": "markdown",
   "metadata": {
    "heading_collapsed": true,
    "hidden": true
   },
   "source": [
    "### Function: Is it docx or pdf?"
   ]
  },
  {
   "cell_type": "code",
   "execution_count": 25,
   "metadata": {
    "hidden": true
   },
   "outputs": [],
   "source": [
    "def checkFileType(filename):\n",
    "        if(filename.lower().endswith(('.doc','.docx'))):\n",
    "            return 0\n",
    "        elif(filename.lower().endswith(('.pdf'))):\n",
    "            return 1\n",
    "        else:\n",
    "            return -1"
   ]
  },
  {
   "cell_type": "markdown",
   "metadata": {
    "heading_collapsed": true,
    "hidden": true
   },
   "source": [
    "### Function: read in file"
   ]
  },
  {
   "cell_type": "code",
   "execution_count": 26,
   "metadata": {
    "hidden": true
   },
   "outputs": [],
   "source": [
    "def makeFilePath(docName):\n",
    "    raw_data_path = os.path.join(os.getcwd(), 'data', 'raw')\n",
    "    return os.path.join(raw_data_path, docName)"
   ]
  },
  {
   "cell_type": "markdown",
   "metadata": {
    "hidden": true
   },
   "source": [
    "### Function: clean up text"
   ]
  },
  {
   "cell_type": "code",
   "execution_count": 27,
   "metadata": {
    "hidden": true
   },
   "outputs": [],
   "source": [
    "def cleanText(text):\n",
    "    text = text.replace(\"\\n\", ' ')\n",
    "    text = text.replace(\"\\t\", ' ')\n",
    "    #text = text.replace(\",\", ' ')\n",
    "    \n",
    "    dblSpacesRemaining = True\n",
    "    while(dblSpacesRemaining):\n",
    "        text = text.replace(\"  \", \" \")\n",
    "        if not \"  \" in text:\n",
    "            dblSpacesRemaining = False\n",
    "    return text"
   ]
  },
  {
   "cell_type": "markdown",
   "metadata": {
    "hidden": true
   },
   "source": [
    "### Function: process dataFrame and group"
   ]
  },
  {
   "cell_type": "code",
   "execution_count": 28,
   "metadata": {
    "hidden": true
   },
   "outputs": [],
   "source": [
    "def processDF(txtFile):\n",
    "    df = pd.read_csv(txtFile, sep=\" \", header=None) #this doesn't work for me bc of variable number of cols\n",
    "    df = df.T \n",
    "    df = df.dropna()\n",
    "\n",
    "    df['SingleRow']=1\n",
    "\n",
    "    df=df.rename(columns={0 : 'Words'})\n",
    "    print(\"in processDF \" + txtFile)\n",
    "    df.describe(include=\"all\")\n",
    "    #print(df.groupby('Words').SingleRow.sum().sort_values())\n",
    "    #print(df)\n",
    "    return df"
   ]
  },
  {
   "cell_type": "markdown",
   "metadata": {
    "hidden": true
   },
   "source": [
    "### Function: Process a text file"
   ]
  },
  {
   "cell_type": "code",
   "execution_count": 29,
   "metadata": {
    "hidden": true
   },
   "outputs": [],
   "source": [
    "def processTextFile(filePath):\n",
    "    #print(filePath)\n",
    "    docxText = docx2txt.process(filePath)\n",
    "    #print(docxText)\n",
    "    replacedText = cleanText(docxText)\n",
    "    #print(replacedText)\n",
    "    fileName = filePath.split('/')[-1]\n",
    "    #print(fileName)\n",
    "    baseFileName = fileName[0:-5]\n",
    "    #print(baseFileName)\n",
    "    newFilePath = './data/output/' + baseFileName + \".txt\"\n",
    "    #print(newFilePath)\n",
    "    singleFileDocx=open(newFilePath, 'wb+')    \n",
    "    singleFileDocx.write(replacedText.encode(\"utf-8\"))\n",
    "    singleFileDocx.close()\n",
    "\n",
    "    #temp_df = processDF('singleTextDocx.txt')\n",
    "    return newFilePath"
   ]
  },
  {
   "cell_type": "markdown",
   "metadata": {
    "hidden": true
   },
   "source": [
    "### Function: Process pdf file"
   ]
  },
  {
   "cell_type": "code",
   "execution_count": 30,
   "metadata": {
    "code_folding": [],
    "hidden": true
   },
   "outputs": [],
   "source": [
    "def processPDFfile(filePath):\n",
    "        password = \"\"\n",
    "        extracted_text = \"\"\n",
    "\n",
    "        fileName = filePath.split('/')[-1]\n",
    "        baseFileName = fileName[0:-4]\n",
    "    \n",
    "        fp = open(filePath, \"rb\")\n",
    "        parser = PDFParser(fp)\n",
    "        document = PDFDocument(parser, password)\n",
    "        \n",
    "        if not document.is_extractable:\n",
    "            raise PDFTextExtractionNotAllowed\n",
    "            \n",
    "        # Create PDFResourceManager object that stores shared resources such as fonts or images\n",
    "        rsrcmgr = PDFResourceManager()\n",
    "\n",
    "        # set parameters for analysis\n",
    "        laparams = LAParams()\n",
    "\n",
    "        # Create a PDFDevice object which translates interpreted information into desired format\n",
    "        # Device needs to be connected to resource manager to store shared resources\n",
    "        # device = PDFDevice(rsrcmgr)\n",
    "        # Extract the decive to page aggregator to get LT object elements\n",
    "        device = PDFPageAggregator(rsrcmgr, laparams=laparams)\n",
    "\n",
    "        # Create interpreter object to process page content from PDFDocument\n",
    "        # Interpreter needs to be connected to resource manager for shared resources and device \n",
    "        interpreter = PDFPageInterpreter(rsrcmgr, device)\n",
    "\n",
    "        # Ok now that we have everything to process a pdf document, lets process it page by page\n",
    "        for page in PDFPage.create_pages(document):\n",
    "            # As the interpreter processes the page stored in PDFDocument object\n",
    "            interpreter.process_page(page)\n",
    "            # The device renders the layout from interpreter\n",
    "            layout = device.get_result()\n",
    "            # Out of the many LT objects within layout, we are interested in LTTextBox and LTTextLine\n",
    "            for lt_obj in layout:\n",
    "                if isinstance(lt_obj, LTTextBox) or isinstance(lt_obj, LTTextLine):\n",
    "                    newText = lt_obj.get_text()\n",
    "                    newText = newText.replace('\\n', ' ')\n",
    "                    extracted_text += newText\n",
    "\n",
    "        #close the pdf file\n",
    "        fp.close()\n",
    "        \n",
    "        extracted_text = cleanText(extracted_text)#extracted_text.replace(\"\\n\", ' ')\n",
    "        \n",
    "        newFilePath = './data/output/' + baseFileName + '-pdf' + \".txt\"\n",
    "        with open(newFilePath, 'wb+') as singleFilePDF:\n",
    "            singleFilePDF.write(extracted_text.encode(\"utf-8\"))\n",
    "        \n",
    "        \n",
    "        #temp_df = processDF('./data/output/' + baseFileName + \".txt\")\n",
    "        return newFilePath"
   ]
  },
  {
   "cell_type": "markdown",
   "metadata": {
    "heading_collapsed": true
   },
   "source": [
    "## Docx Extraction -- Currently not using this: see File Prep Functions"
   ]
  },
  {
   "cell_type": "markdown",
   "metadata": {
    "hidden": true
   },
   "source": [
    "DocX extractor for data purposes. Requires customization to each purpose but is important for pulling data out of DocX files. Does not understand tables or bullet points, however is visually consistent with what's on the page.\n",
    "\n",
    "Strongest values: Order, consistentcy, noise reduction\n",
    "\n",
    "Weakest values: Completeness, flexibility, whitespace characters, formatting"
   ]
  },
  {
   "cell_type": "markdown",
   "metadata": {
    "hidden": true
   },
   "source": [
    "#### Docx Practice"
   ]
  },
  {
   "cell_type": "code",
   "execution_count": 31,
   "metadata": {
    "hidden": true,
    "scrolled": true
   },
   "outputs": [],
   "source": [
    "import docx2txt\n",
    "\n",
    "\n",
    "def cleanText(text):\n",
    "    text = text.replace(\"\\n\", ' ')\n",
    "    text = text.replace(\"\\t\", ' ')\n",
    "    text = text.replace(\",\", ' ')\n",
    "    \n",
    "    dblSpacesRemaining = True\n",
    "    while(dblSpacesRemaining):\n",
    "        text = text.replace(\"  \", \" \")\n",
    "        if not \"  \" in text:\n",
    "            dblSpacesRemaining = False\n",
    "        \n",
    "    return text\n",
    "fileName = \"TX 17404 Contract Regional (7.2.18).docx\"\n",
    "baseFileName = \"\"\n",
    "if(fileName.lower().endswith(('.docx'))):\n",
    "    baseFileName = fileName[0:-5]\n",
    "    #print(baseFileName)\n",
    "elif(fileName.lower().endswith(('.pdf'))):\n",
    "    baseFileName = fileName[0:-4]\n",
    "else:\n",
    "    print(\"ending error\")\n",
    "\n",
    "docText = docx2txt.process(\"./data/raw/\" + fileName)\n",
    "singleFileDocx=open('./data/output/' + baseFileName + \".txt\", 'wb+')\n",
    "replacedText = cleanText(docText)\n",
    "#print(replacedText)\n",
    "singleFileDocx.write(docText.encode(\"utf-8\"))\n",
    "singleFileDocx.close()\n"
   ]
  },
  {
   "cell_type": "markdown",
   "metadata": {
    "heading_collapsed": true
   },
   "source": [
    "## PDF Extraction -- Currently not using this: see File Prep Functions"
   ]
  },
  {
   "cell_type": "markdown",
   "metadata": {
    "hidden": true
   },
   "source": [
    "#### PDF practice"
   ]
  },
  {
   "cell_type": "code",
   "execution_count": 32,
   "metadata": {
    "hidden": true
   },
   "outputs": [
    {
     "ename": "FileNotFoundError",
     "evalue": "[Errno 2] No such file or directory: 'C://data/test.pdf'",
     "output_type": "error",
     "traceback": [
      "\u001b[0;31m---------------------------------------------------------------------------\u001b[0m",
      "\u001b[0;31mFileNotFoundError\u001b[0m                         Traceback (most recent call last)",
      "\u001b[0;32m<ipython-input-32-d313aef8c3e6>\u001b[0m in \u001b[0;36m<module>\u001b[0;34m()\u001b[0m\n\u001b[1;32m     52\u001b[0m \u001b[0;34m\u001b[0m\u001b[0m\n\u001b[1;32m     53\u001b[0m \u001b[0;31m# Open and read the pdf file in binary mode\u001b[0m\u001b[0;34m\u001b[0m\u001b[0;34m\u001b[0m\u001b[0m\n\u001b[0;32m---> 54\u001b[0;31m \u001b[0mfp\u001b[0m \u001b[0;34m=\u001b[0m \u001b[0mopen\u001b[0m\u001b[0;34m(\u001b[0m\u001b[0mmy_file\u001b[0m\u001b[0;34m,\u001b[0m \u001b[0;34m\"rb\"\u001b[0m\u001b[0;34m)\u001b[0m\u001b[0;34m\u001b[0m\u001b[0m\n\u001b[0m\u001b[1;32m     55\u001b[0m \u001b[0;34m\u001b[0m\u001b[0m\n\u001b[1;32m     56\u001b[0m \u001b[0;31m# Create parser object to parse the pdf content\u001b[0m\u001b[0;34m\u001b[0m\u001b[0;34m\u001b[0m\u001b[0m\n",
      "\u001b[0;31mFileNotFoundError\u001b[0m: [Errno 2] No such file or directory: 'C://data/test.pdf'"
     ]
    }
   ],
   "source": [
    "import pandas as pd\n",
    "import numpy as np\n",
    "import os\n",
    "import matplotlib.pyplot as plt\n",
    "import sklearn as skl\n",
    "# pdfTextMiner.py\n",
    "# Python 2.7.6\n",
    "# For Python 3.x use pdfminer3k module\n",
    "# This link has useful information on components of the program\n",
    "# https://euske.github.io/pdfminer/programming.html\n",
    "# http://denis.papathanasiou.org/posts/2010.08.04.post.html\n",
    "\n",
    "\n",
    "''' Important classes to remember\n",
    "PDFParser - fetches data from pdf file\n",
    "PDFDocument - stores data parsed by PDFParser\n",
    "PDFPageInterpreter - processes page contents from PDFDocument\n",
    "PDFDevice - translates processed information from PDFPageInterpreter to whatever you need\n",
    "PDFResourceManager - Stores shared resources such as fonts or images used by both PDFPageInterpreter and PDFDevice\n",
    "LAParams - A layout analyzer returns a LTPage object for each page in the PDF document\n",
    "PDFPageAggregator - Extract the decive to page aggregator to get LT object elements\n",
    "'''\n",
    "\n",
    "from pdfminer.pdfparser import PDFParser\n",
    "from pdfminer.pdfdocument import PDFDocument\n",
    "from pdfminer.pdfpage import PDFPage\n",
    "# From PDFInterpreter import both PDFResourceManager and PDFPageInterpreter\n",
    "from pdfminer.pdfinterp import PDFResourceManager, PDFPageInterpreter\n",
    "from pdfminer.pdfdevice import PDFDevice\n",
    "# Import this to raise exception whenever text extraction from PDF is not allowed\n",
    "from pdfminer.pdfpage import PDFTextExtractionNotAllowed\n",
    "from pdfminer.layout import LAParams, LTTextBox, LTTextLine\n",
    "from pdfminer.converter import PDFPageAggregator\n",
    "\n",
    "''' This is what we are trying to do:\n",
    "1) Transfer information from PDF file to PDF document object. This is done using parser\n",
    "2) Open the PDF file\n",
    "3) Parse the file using PDFParser object\n",
    "4) Assign the parsed content to PDFDocument object\n",
    "5) Now the information in this PDFDocumet object has to be processed. For this we need\n",
    "   PDFPageInterpreter, PDFDevice and PDFResourceManager\n",
    " 6) Finally process the file page by page \n",
    "'''\n",
    "\n",
    "base_path = \"C://data\"\n",
    "\n",
    "my_file = os.path.join(base_path + \"/\" + \"test.pdf\")\n",
    "log_file = os.path.join(base_path + \"/\" + \"pdf_log.txt\")\n",
    "\n",
    "password = \"\"\n",
    "extracted_text = \"\"\n",
    "\n",
    "# Open and read the pdf file in binary mode\n",
    "fp = open(my_file, \"rb\")\n",
    "\n",
    "# Create parser object to parse the pdf content\n",
    "parser = PDFParser(fp)\n",
    "\n",
    "# Store the parsed content in PDFDocument object\n",
    "document = PDFDocument(parser, password)\n",
    "\n",
    "# Check if document is extractable, if not abort\n",
    "if not document.is_extractable:\n",
    "    raise PDFTextExtractionNotAllowed\n",
    "    \n",
    "# Create PDFResourceManager object that stores shared resources such as fonts or images\n",
    "rsrcmgr = PDFResourceManager()\n",
    "\n",
    "# set parameters for analysis\n",
    "laparams = LAParams()\n",
    "\n",
    "# Create a PDFDevice object which translates interpreted information into desired format\n",
    "# Device needs to be connected to resource manager to store shared resources\n",
    "# device = PDFDevice(rsrcmgr)\n",
    "# Extract the decive to page aggregator to get LT object elements\n",
    "device = PDFPageAggregator(rsrcmgr, laparams=laparams)\n",
    "\n",
    "# Create interpreter object to process page content from PDFDocument\n",
    "# Interpreter needs to be connected to resource manager for shared resources and device \n",
    "interpreter = PDFPageInterpreter(rsrcmgr, device)\n",
    "\n",
    "# Ok now that we have everything to process a pdf document, lets process it page by page\n",
    "for page in PDFPage.create_pages(document):\n",
    "    # As the interpreter processes the page stored in PDFDocument object\n",
    "    interpreter.process_page(page)\n",
    "    # The device renders the layout from interpreter\n",
    "    layout = device.get_result()\n",
    "    # Out of the many LT objects within layout, we are interested in LTTextBox and LTTextLine\n",
    "    for lt_obj in layout:\n",
    "        if isinstance(lt_obj, LTTextBox) or isinstance(lt_obj, LTTextLine):\n",
    "            extracted_text += lt_obj.get_text()\n",
    "            \n",
    "#close the pdf file\n",
    "fp.close()\n",
    "\n",
    "# print (extracted_text.encode(\"utf-8\"))\n",
    "            \n",
    "with open(log_file, \"wb\") as my_log:\n",
    "    my_log.write(extracted_text.encode(\"utf-8\"))\n",
    "print(\"Done !!\")\n"
   ]
  },
  {
   "cell_type": "markdown",
   "metadata": {
    "heading_collapsed": true
   },
   "source": [
    "## NLTK Tokenizing Functions"
   ]
  },
  {
   "cell_type": "markdown",
   "metadata": {
    "heading_collapsed": true,
    "hidden": true
   },
   "source": [
    "### Function: DD specific text cleaning"
   ]
  },
  {
   "cell_type": "code",
   "execution_count": 33,
   "metadata": {
    "hidden": true
   },
   "outputs": [],
   "source": [
    "def ddCleanText(text):\n",
    "    newText = text.replace('Delta Dental', 'DeltaDental')\n",
    "    newText = newText.replace('DELTA DENTAL', 'DELTADENTAL')\n",
    "    newText = newText.replace('DeltaDental Insurance Company', 'DeltaDentalInsuranceCompany')\n",
    "    return newText\n",
    "\n"
   ]
  },
  {
   "cell_type": "markdown",
   "metadata": {
    "heading_collapsed": true,
    "hidden": true
   },
   "source": [
    "### Function: Make tokenized word list"
   ]
  },
  {
   "cell_type": "code",
   "execution_count": 34,
   "metadata": {
    "hidden": true
   },
   "outputs": [],
   "source": [
    "def getTokens(text):\n",
    "    words = word_tokenize(text)\n",
    "    \n",
    "    customStopWords = set(stopwords.words('english')+list(punctuation))\n",
    "    wordsWOStop=[word for word in words if word not in customStopWords]\n",
    "    \n",
    "    return wordsWOStop"
   ]
  },
  {
   "cell_type": "markdown",
   "metadata": {
    "heading_collapsed": true,
    "hidden": true
   },
   "source": [
    "### Function: Make tokenized Sentence list"
   ]
  },
  {
   "cell_type": "code",
   "execution_count": 35,
   "metadata": {
    "code_folding": [],
    "hidden": true
   },
   "outputs": [],
   "source": [
    "def getSents(text):\n",
    "    sents = sent_tokenize(text)\n",
    "\n",
    "    return sents"
   ]
  },
  {
   "cell_type": "markdown",
   "metadata": {
    "heading_collapsed": true,
    "hidden": true
   },
   "source": [
    "### Function: Get Bigrams"
   ]
  },
  {
   "cell_type": "code",
   "execution_count": 36,
   "metadata": {
    "hidden": true
   },
   "outputs": [],
   "source": [
    "def getBigrams(tokens):\n",
    "    bigram_measures=nltk.collocations.BigramAssocMeasures();\n",
    "    finder = BigramCollocationFinder.from_words(tokens)\n",
    "    sorted_bgs = (sorted(list(finder.ngram_fd.items()), key=lambda item: item[-1], reverse=True))\n",
    "    \n",
    "    return sorted_bgs"
   ]
  },
  {
   "cell_type": "markdown",
   "metadata": {
    "heading_collapsed": true,
    "hidden": true
   },
   "source": [
    "### Function: Get Trigrams"
   ]
  },
  {
   "cell_type": "code",
   "execution_count": 37,
   "metadata": {
    "hidden": true
   },
   "outputs": [],
   "source": [
    "def getTrigrams(tokens):\n",
    "    trigram_measures =nltk.collocations.TrigramAssocMeasures();\n",
    "    finder = TrigramCollocationFinder.from_words(tokens)\n",
    "    sorted_tgs = (sorted(list(finder.ngram_fd.items()), key=lambda item: item[-1], reverse=True))\n",
    "\n",
    "    return sorted_tgs"
   ]
  },
  {
   "cell_type": "markdown",
   "metadata": {
    "heading_collapsed": true
   },
   "source": [
    "## MetaData and Attribute Functions"
   ]
  },
  {
   "cell_type": "markdown",
   "metadata": {
    "heading_collapsed": true,
    "hidden": true
   },
   "source": [
    "#### Filename\n",
    "Contract Start\n",
    "Contract End\n",
    "Contract Duration\n",
    "State\n",
    "Delta Office Involved\n",
    "\n",
    "#### Group Information\n",
    "(Group Number)\n",
    "\n",
    "#### Numeric attributes Only\n",
    "Basics\n",
    "Diagnostics\n",
    "Major\n",
    "Endo\n",
    "Oral\n",
    "Perio\n",
    "Prostho\n",
    "Ortho"
   ]
  },
  {
   "cell_type": "code",
   "execution_count": 39,
   "metadata": {
    "hidden": true
   },
   "outputs": [],
   "source": [
    "##Establish a dataframe to capture the attributes\n",
    "#d = {'key': 'file','value':fileName}\n",
    "#{'key':'state', 'value':state}\n",
    "#df = pd.DataFrame(d, index=['uid'])\n",
    "d = {}"
   ]
  },
  {
   "cell_type": "markdown",
   "metadata": {
    "heading_collapsed": true,
    "hidden": true
   },
   "source": [
    "### NLTK synonyms"
   ]
  },
  {
   "cell_type": "markdown",
   "metadata": {
    "hidden": true
   },
   "source": [
    "#### I kept this to processing single words, bigrams or trigrams so as to keep the complexity down"
   ]
  },
  {
   "cell_type": "markdown",
   "metadata": {
    "heading_collapsed": true,
    "hidden": true
   },
   "source": [
    "#### Function: get synonyms of a single word. Helper function to Bigram and Trigram function"
   ]
  },
  {
   "cell_type": "code",
   "execution_count": 40,
   "metadata": {
    "hidden": true
   },
   "outputs": [],
   "source": [
    "def getSyns(word):\n",
    "    syns1 = wn.synsets(word)\n",
    "    \n",
    "    set1 = set()\n",
    "    for syn in syns1:\n",
    "        for lem in syn.lemmas():\n",
    "            set1.add(lem.name())\n",
    "    \n",
    "    return set1"
   ]
  },
  {
   "cell_type": "markdown",
   "metadata": {
    "heading_collapsed": true,
    "hidden": true
   },
   "source": [
    "#### Function: Get a similar bigram"
   ]
  },
  {
   "cell_type": "code",
   "execution_count": 41,
   "metadata": {
    "hidden": true
   },
   "outputs": [],
   "source": [
    "def getSimilarBigrams(word1, word2):\n",
    "    \n",
    "    set1 = getSyns(word1)\n",
    "    if not len(set1):\n",
    "        set1.add(word1)\n",
    "    set2 = getSyns(word2)\n",
    "    if not len(set2):\n",
    "        set2.add(word2)\n",
    "    \n",
    "    word_set = set()\n",
    "    for word1 in set1:\n",
    "        for word2 in set2:\n",
    "            word_set.add(\" \".join([word1, word2]))\n",
    "    #print(word_set)\n",
    "    \n",
    "    return word_set"
   ]
  },
  {
   "cell_type": "markdown",
   "metadata": {
    "heading_collapsed": true,
    "hidden": true
   },
   "source": [
    "#### Function: get a similar trigram"
   ]
  },
  {
   "cell_type": "code",
   "execution_count": 42,
   "metadata": {
    "hidden": true
   },
   "outputs": [],
   "source": [
    "def getSimilarTrigrams(word1, word2, word3):\n",
    "    set1 = getSyns(word1)\n",
    "    set2 = getSyns(word2)\n",
    "    set3 = getSyns(word3)\n",
    "    \n",
    "    word_set = set()\n",
    "    for word1 in set1:\n",
    "        for word2 in set2:\n",
    "            for word3 in set3:\n",
    "                word_set.add(\" \".join([word1, word2, word3]))\n",
    "    #print(word_set)\n",
    "    \n",
    "    return word_set\n",
    "        "
   ]
  },
  {
   "cell_type": "markdown",
   "metadata": {
    "heading_collapsed": true,
    "hidden": true
   },
   "source": [
    "#### Function: Get synonyms from a list of key words. Returns more keywords/phrases"
   ]
  },
  {
   "cell_type": "code",
   "execution_count": 43,
   "metadata": {
    "hidden": true
   },
   "outputs": [],
   "source": [
    "def getSynonymsFromList(keywords):\n",
    "    matches = []\n",
    "\n",
    "    for kw in keywords:\n",
    "        try:\n",
    "            words = word_tokenize(kw)\n",
    "        except Exception as e:\n",
    "            print(str(e))\n",
    "        #print(words)\n",
    "        if(len(words) == 1):\n",
    "            #print(\"is 1\")\n",
    "            syns = getSyns(words[0])\n",
    "            for syn in syns:\n",
    "                matches.append(syn)\n",
    "            #keywords.append(list(syns))\n",
    "        elif(len(words) == 2):\n",
    "           # print(\"is 2\")\n",
    "            syns = getSimilarBigrams(words[0],words[1])\n",
    "           # print(syns)\n",
    "            matches.extend(getSimilarBigrams(words[0],words[1]))\n",
    "        elif(len(words) == 3):\n",
    "           # print(\"is 3\")\n",
    "            matches.extend(getSimilarTrigrams(words[0],words[1],words[2]))\n",
    "        #print(matches)\n",
    "    keywords.extend(matches)\n",
    "    keywords = set(keywords)\n",
    "\n",
    "    #print(start_keywords)\n",
    "    \n",
    "    return keywords"
   ]
  },
  {
   "cell_type": "markdown",
   "metadata": {
    "heading_collapsed": true,
    "hidden": true
   },
   "source": [
    "#### POS tagging key"
   ]
  },
  {
   "cell_type": "code",
   "execution_count": null,
   "metadata": {
    "hidden": true
   },
   "outputs": [],
   "source": [
    "ADJ\tadjective\tnew, good, high, special, big, local\n",
    "ADV\tadverb\treally, already, still, early, now\n",
    "CNJ\tconjunction\tand, or, but, if, while, although\n",
    "DET\tdeterminer\tthe, a, some, most, every, no\n",
    "EX\texistential\tthere, there's\n",
    "FW\tforeign word\tdolce, ersatz, esprit, quo, maitre\n",
    "MOD\tmodal verb\twill, can, would, may, must, should\n",
    "N\tnoun\tyear, home, costs, time, education\n",
    "NP\tproper noun\tAlison, Africa, April, Washington\n",
    "NUM\tnumber\ttwenty-four, fourth, 1991, 14:24\n",
    "PRO\tpronoun\the, their, her, its, my, I, us\n",
    "P\tpreposition\ton, of, at, with, by, into, under\n",
    "TO\tthe word to\tto\n",
    "UH\tinterjection\tah, bang, ha, whee, hmpf, oops\n",
    "V\tverb\tis, has, get, do, make, see, run\n",
    "VD\tpast tense\tsaid, took, told, made, asked\n",
    "VG\tpresent participle\tmaking, going, playing, working\n",
    "VN\tpast participle\tgiven, taken, begun, sung\n",
    "WH\twh determiner\twho,"
   ]
  },
  {
   "cell_type": "markdown",
   "metadata": {
    "heading_collapsed": true,
    "hidden": true
   },
   "source": [
    "#### Attempt with using POS tagging in the synonyms to reduce extraneous syns\n",
    "We would then have to manually tag all of the original phrases and words we use to seed the decisions\n",
    "It does seem to reduce though"
   ]
  },
  {
   "cell_type": "code",
   "execution_count": 82,
   "metadata": {
    "hidden": true
   },
   "outputs": [
    {
     "name": "stdout",
     "output_type": "stream",
     "text": [
      "['contract', 'n']\n",
      "{Synset('contract.n.01'), Synset('contract.n.02'), Synset('contract.n.03')}\n",
      "['term\\\\S\\\\s*\\\\S', 'n']\n",
      "set()\n",
      "['contract', 'n']\n",
      "{Synset('contract.n.01'), Synset('contract.n.02'), Synset('contract.n.03')}\n",
      "['term', 'n']\n",
      "{Synset('term.n.05'), Synset('term.n.02'), Synset('term.n.04'), Synset('term.n.01'), Synset('term.n.06'), Synset('terminus.n.03'), Synset('condition.n.07')}\n",
      "['contract', 'n']\n",
      "{Synset('contract.n.01'), Synset('contract.n.02'), Synset('contract.n.03')}\n",
      "['end', 'n']\n",
      "{Synset('end.n.01'), Synset('end.n.08'), Synset('end.n.05'), Synset('end.n.09'), Synset('end.n.10'), Synset('end.n.11'), Synset('end.n.14'), Synset('conclusion.n.08'), Synset('end.n.07'), Synset('end.n.13'), Synset('end.n.06'), Synset('end.n.03'), Synset('end.n.02'), Synset('goal.n.01')}\n"
     ]
    }
   ],
   "source": [
    "start_keywords = [\"contract/n term\\S\\s*\\S/n\",\"contract/n term/n\",\"contract/n end/n\"]\n",
    "\n",
    "for kw in start_keywords:\n",
    "    words = word_tokenize(kw)\n",
    "    \n",
    "    for word in words:\n",
    "        tup = word.split('/')\n",
    "        print(tup)\n",
    "        syns1 = wn.synsets(tup[0])\n",
    "        set1 = set()\n",
    "        for syn in syns1:\n",
    "            \n",
    "            if(syn.pos() == tup[1]):\n",
    "                set1.add(syn)\n",
    "        print(set1)\n",
    "#set1 = set()\n",
    "#for syn in syns1:\n",
    "#    for lem in syn.lemmas():\n",
    "#        set1.add(lem.name())\n",
    "\n"
   ]
  },
  {
   "cell_type": "code",
   "execution_count": 70,
   "metadata": {
    "hidden": true
   },
   "outputs": [
    {
     "name": "stdout",
     "output_type": "stream",
     "text": [
      "Synset('term.n.02')\n",
      "term\n"
     ]
    }
   ],
   "source": [
    "start_keywords = [\"term\"]# term\\S\\s*\\S\", \"contract term \", \"contract end\"]\n",
    "contract = wn.synsets('term')[1]\n",
    "print(contract)\n",
    "#for d in contract:\n",
    "#    print(d.definition())\n",
    "for lem in contract.lemmas():\n",
    "    print(lem.name())\n",
    "#syn_list = (getSynonymsFromList(start_keywords))\n",
    "#print(syn_list)"
   ]
  },
  {
   "cell_type": "markdown",
   "metadata": {
    "heading_collapsed": true,
    "hidden": true
   },
   "source": [
    "### Metadata"
   ]
  },
  {
   "cell_type": "markdown",
   "metadata": {
    "heading_collapsed": true,
    "hidden": true
   },
   "source": [
    "#### get file name\n",
    "Get the filename from a full path. Determines the OS and splits the string correctly based on that"
   ]
  },
  {
   "cell_type": "code",
   "execution_count": 45,
   "metadata": {
    "hidden": true
   },
   "outputs": [],
   "source": [
    "def getFileName(fullPath):\n",
    "    if(platform == \"win32\"):\n",
    "        fileName = fullPath.split(\"\\\\\")[-1]\n",
    "    else:\n",
    "        fileName = fullPath.split(\"/\")[-1]\n",
    "    return fileName"
   ]
  },
  {
   "cell_type": "code",
   "execution_count": 46,
   "metadata": {
    "hidden": true
   },
   "outputs": [
    {
     "name": "stdout",
     "output_type": "stream",
     "text": [
      "TX-18745 ASC Contract (7.2.18).pdf\n"
     ]
    }
   ],
   "source": [
    "print(getFileName(filePath))"
   ]
  },
  {
   "cell_type": "markdown",
   "metadata": {
    "heading_collapsed": true,
    "hidden": true
   },
   "source": [
    "#### get group number\n",
    "Uses regex's made from keywords to attempt to find a group number in the file. Failing that, it searches the filename for the number."
   ]
  },
  {
   "cell_type": "code",
   "execution_count": 47,
   "metadata": {
    "hidden": true
   },
   "outputs": [],
   "source": [
    "def getGroupNumber(sents_tokens, filePath):\n",
    "    \n",
    "    group_keywords = [\"group number\", \"groupnumber\"]\n",
    "    regex_exps = []\n",
    "    poss_nums = []\n",
    "    finalGN = None\n",
    "    \n",
    "    #Create regex exps out of group number keywords\n",
    "    for kw in group_keywords:\n",
    "            temp_re = kw + \"\\W\\s*(?P<gn>\\d+)\"\n",
    "            regex = re.compile(temp_re)\n",
    "            regex_exps.append(regex)\n",
    "    \n",
    "    #For each sentence, search for the expression, if found add the number to\n",
    "    #list of possible group numbers\n",
    "    for sent in sents_tokens:\n",
    "        #print(sent)\n",
    "        for my_regex in regex_exps:\n",
    "            result = my_regex.search(sent.lower())\n",
    "            if not result==None:\n",
    "                temp_gn = result.group('gn')\n",
    "                poss_nums.append(temp_gn)\n",
    "    \n",
    "    #Try and get the number from the file name, looking for list of numeric chars\n",
    "    num_regex = re.compile(\"\\d+\")\n",
    "    fileName = getFileName(filePath)\n",
    "    fileGN = num_regex.search(fileName)\n",
    "    \n",
    "    if not fileGN==None:#if they filename has a number sequence\n",
    "        if fileGN.group() in poss_nums:#then if the file group number matches one in the document, choose it\n",
    "            finalGN = fileGN.group()\n",
    "        else:\n",
    "            poss_nums.append(fileGN.group())#otherwise add the filename one to the list and try to get the most co\n",
    "            try:\n",
    "                finalGN = mode(poss_nums)\n",
    "            except:\n",
    "                print(\"Unexpected error: Cannot determine group number of file: \" + filePath)\n",
    "    \n",
    "    return finalGN"
   ]
  },
  {
   "cell_type": "markdown",
   "metadata": {
    "heading_collapsed": true,
    "hidden": true
   },
   "source": [
    "#### get contract start\n",
    "Uses regex and a list of keywords to attempt to find the start date of the contract. It makes multiple passes based on patterns seen in contract samples so far.\n",
    "\n",
    "Some of the passes are necessary to filter out non-date numbers that the datefinder incorrectly parses to dates"
   ]
  },
  {
   "cell_type": "code",
   "execution_count": 50,
   "metadata": {
    "code_folding": [],
    "hidden": true
   },
   "outputs": [],
   "source": [
    "def getContractStart(sents_tokens):\n",
    "    start_keywords = [\"effective date\\S\\s*\\S\", \"effective\"]\n",
    "    regex_exps = []\n",
    "    poss_dates = []\n",
    "    finalDate = \"\"\n",
    "    matches = []\n",
    "    \n",
    "    start_keywords = getSynonymsFromList(start_keywords)\n",
    "    print(start_keywords)\n",
    "    for kw in start_keywords:\n",
    "            temp_re = kw\n",
    "            regex = re.compile(temp_re)\n",
    "            regex_exps.append(regex)\n",
    "    \n",
    "## Original pass through sentence tokens to find possible dates\n",
    "    for sent in sents_tokens:\n",
    "        for my_regex in regex_exps:\n",
    "            result = my_regex.search(sent.lower())\n",
    "            if not result==None:\n",
    "                subset = word_tokenize(sent[sent.lower().find(result.group()):])[:20]\n",
    "                subset = \" \".join(subset)\n",
    "                poss_dates.append(subset)\n",
    "\n",
    "                \n",
    "## Second pass through sentence tokens to find possible dates based on a date range format\n",
    "    regex_exps = []\n",
    "    backup_kw = [\"\\S\\sthrough\\s\\S\",\"\\S\\sthru\\s\\S\"]\n",
    "    \n",
    "    for kw in backup_kw:\n",
    "        temp_re = kw\n",
    "        regex = re.compile(temp_re)\n",
    "        regex_exps.append(regex)\n",
    "        \n",
    "    for sent in sents_tokens:\n",
    "        for my_regex in regex_exps:\n",
    "            result = my_regex.search(sent.lower())\n",
    "            if not result==None:\n",
    "                half_1 = sent[sent.lower().find(result.group()):]\n",
    "                half_2 = sent[:sent.lower().find(result.group())]\n",
    "                \n",
    "                subset_1 = \" \".join(word_tokenize(half_1)[:6])\n",
    "                subset_2 = \" \".join(word_tokenize(half_2)[-6:])\n",
    "                subset = subset_2 + subset_1\n",
    "                \n",
    "                m = datefinder.find_dates(subset)\n",
    "                temp_matches = []\n",
    "                for match in m:\n",
    "                    if match.year >= 1966:\n",
    "                        temp_matches.append(subset)\n",
    "                if len(temp_matches)>=2:\n",
    "                    poss_dates.append(subset)\n",
    "                    #print(subset)\n",
    "                    \n",
    "                    \n",
    "## Second pass through sentences with possible dates to eliminate ones without a year or with an invalid year\n",
    "## These are likely other values flagged incorrectly as dates by the datefinder\n",
    "## 1966 is the year Delta Dental was created\n",
    "    for sent in poss_dates:\n",
    "        find_year_re = re.compile(\"\\d\\d\\d\\d\")\n",
    "        year = find_year_re.search(sent)\n",
    "        \n",
    "        if not year==None:\n",
    "            m = datefinder.find_dates(sent)\n",
    "            for match in m:\n",
    "                if match.year >= 1966:\n",
    "                    matches.append(match)\n",
    "## Last pass: try to find the most common date. If there is more than one mode, choose the earliest date\n",
    "##.           this seems to occur when it is finding the contract start and end in equal quantities\n",
    "    #print(matches)\n",
    "    try:\n",
    "        finalDate = mode(matches)\n",
    "    except ValueError as e:\n",
    "        #print(str(e))\n",
    "        if matches:\n",
    "            earliestMatch = matches[0]\n",
    "            for match in matches:\n",
    "                if(match < earliestMatch):\n",
    "                    earliestMatch = match\n",
    "            finalDate = earliestMatch\n",
    "    except Exception as e:\n",
    "        print(str(e))\n",
    "  \n",
    "    return finalDate"
   ]
  },
  {
   "cell_type": "markdown",
   "metadata": {
    "heading_collapsed": true,
    "hidden": true
   },
   "source": [
    "####  get Contract End\n",
    "Similar to get contract start, it uses regex and keywords over multiple passes to attempt and find the contract end."
   ]
  },
  {
   "cell_type": "code",
   "execution_count": 51,
   "metadata": {
    "hidden": true
   },
   "outputs": [],
   "source": [
    "def getContractEnd(sents_tokens):\n",
    "    \n",
    "    start_keywords = [\"contract term\\S\\s*\\S\", \"contract term \", \"contract end\"]\n",
    "    regex_exps = []\n",
    "    poss_dates = []\n",
    "    finalDate = \"\"\n",
    "    matches = []\n",
    "    \n",
    "    start_keywords = getSynonymsFromList(start_keywords)\n",
    "    print(start_keywords)\n",
    "    for kw in start_keywords:\n",
    "            temp_re = kw\n",
    "            regex = re.compile(temp_re)\n",
    "            regex_exps.append(regex)\n",
    "    \n",
    "## Original pass through sentence tokens to find possible dates based on keywords\n",
    "    for sent in sents_tokens:\n",
    "        for my_regex in regex_exps:\n",
    "            result = my_regex.search(sent.lower())\n",
    "            if not result==None:\n",
    "                subset = word_tokenize(sent[sent.lower().find(result.group()):])[:25]\n",
    "                subset = \" \".join(subset)\n",
    "                poss_dates.append(subset)\n",
    "                \n",
    "                \n",
    "## Second pass through sentence tokens to find possible dates based on a date range format\n",
    "    regex_exps = []\n",
    "    backup_kw = [\"\\S\\sthrough\\s\\S\",\"\\S\\sthru\\s\\S\"]\n",
    "    \n",
    "    for kw in backup_kw:\n",
    "        temp_re = kw\n",
    "        regex = re.compile(temp_re)\n",
    "        regex_exps.append(regex)\n",
    "        \n",
    "    for sent in sents_tokens:\n",
    "        for my_regex in regex_exps:\n",
    "            result = my_regex.search(sent.lower())\n",
    "            if not result==None:\n",
    "                half_1 = sent[sent.lower().find(result.group()):]\n",
    "                half_2 = sent[:sent.lower().find(result.group())]\n",
    "                \n",
    "                subset_1 = \" \".join(word_tokenize(half_1)[:6])\n",
    "                subset_2 = \" \".join(word_tokenize(half_2)[-6:])\n",
    "                subset = subset_2 + subset_1\n",
    "                \n",
    "                m = datefinder.find_dates(subset)\n",
    "                temp_matches = []\n",
    "                for match in m:\n",
    "                    if match.year >= 1966:\n",
    "                        temp_matches.append(subset)\n",
    "                if len(temp_matches)>=2:\n",
    "                    poss_dates.append(subset)\n",
    "                    #print(subset)\n",
    "                \n",
    "                \n",
    "## Pass through sentences with possible dates to eliminate ones without a year or with an invalid year\n",
    "## These are likely other values flagged incorrectly as dates by the datefinder\n",
    "## 1966 is the year Delta Dental was created\n",
    "    for sent in poss_dates:\n",
    "        #print(sent)\n",
    "        find_year_re = re.compile(\"\\d\\d\\d\\d\")\n",
    "        year = find_year_re.search(sent)\n",
    "        \n",
    "        if not year==None:\n",
    "            m = datefinder.find_dates(sent)\n",
    "            for match in m:\n",
    "                if match.year >= 1966:\n",
    "                    matches.append(match)\n",
    "                    \n",
    "   \n",
    "    #print(matches)\n",
    "    \n",
    "### If there are exactly two matches, try to find a max. If error b/c they're the same, choose one\n",
    "    if(len(matches) == 2):\n",
    "        try:\n",
    "            finalDate = max(matches)\n",
    "        except ValueError as e:\n",
    "            finalDate = matches[0]\n",
    "        except Exception as e:\n",
    "            print(str(e))\n",
    "\n",
    "## If there are more, try and find the top two most mentioned and take the later. else just take the latest            \n",
    "    elif(len(matches) > 2):\n",
    "        \n",
    "        try:\n",
    "            date1 = mode(matches)\n",
    "            matches.remove(date1)\n",
    "            \n",
    "            date2 = mode(matches)\n",
    "            matches.remove(date2)\n",
    "            \n",
    "            finalDate = max([date1, date2])\n",
    "        except ValueError as e:\n",
    "            #print(str(e))\n",
    "            if matches:\n",
    "                latestMatch = matches[0]\n",
    "                for match in matches:\n",
    "                    if(match > latestMatch):\n",
    "                        latestMatch = match\n",
    "                finalDate = latestMatch\n",
    "        except Exception as e:\n",
    "            print(str(e))\n",
    "    #else:\n",
    "        #print(\"could not find contract end for file\")\n",
    "    \n",
    "    #print(\"\\n\")\n",
    "    return finalDate"
   ]
  },
  {
   "cell_type": "markdown",
   "metadata": {
    "heading_collapsed": true,
    "hidden": true
   },
   "source": [
    "#### get Contract Duration\n",
    "Uses the functions getContractStart and getContractEnd to calculate a duration if possible"
   ]
  },
  {
   "cell_type": "code",
   "execution_count": 52,
   "metadata": {
    "hidden": true
   },
   "outputs": [],
   "source": [
    "def getContractDuration(sents_tokens):\n",
    "    start = None\n",
    "    end = None\n",
    "    duration = None\n",
    "    \n",
    "    try:\n",
    "        start = getContractStart(sents_tokens)\n",
    "    except Exception as e:\n",
    "        print(\"Can't find contract start\")\n",
    "        return\n",
    "    \n",
    "    try:\n",
    "        end = getContractEnd(sents_tokens)\n",
    "    except Exception as e:\n",
    "        print(\"Can't find contract end\")\n",
    "        return\n",
    "    if(start and end):\n",
    "        duration = end - start\n",
    "\n",
    "    return duration"
   ]
  },
  {
   "cell_type": "markdown",
   "metadata": {
    "heading_collapsed": true,
    "hidden": true
   },
   "source": [
    "#### get State/Location: -- Not Done"
   ]
  },
  {
   "cell_type": "code",
   "execution_count": 53,
   "metadata": {
    "hidden": true
   },
   "outputs": [],
   "source": [
    "def getContractLocation(sents_tokens):\n",
    "   \n",
    "    return"
   ]
  },
  {
   "cell_type": "markdown",
   "metadata": {
    "heading_collapsed": true,
    "hidden": true
   },
   "source": [
    "#### Delta Office Involved -- Not Done"
   ]
  },
  {
   "cell_type": "code",
   "execution_count": 54,
   "metadata": {
    "hidden": true
   },
   "outputs": [],
   "source": [
    "def getDeltaOffice():\n",
    "    \n",
    "    return"
   ]
  },
  {
   "cell_type": "markdown",
   "metadata": {
    "heading_collapsed": true,
    "hidden": true
   },
   "source": [
    "### Batch Run to get attributes\n",
    "#### Functions to process multiple files and their attributes at once"
   ]
  },
  {
   "cell_type": "markdown",
   "metadata": {
    "heading_collapsed": true,
    "hidden": true
   },
   "source": [
    "#### Function: batch pre process: fill output folder"
   ]
  },
  {
   "cell_type": "code",
   "execution_count": 55,
   "metadata": {
    "hidden": true
   },
   "outputs": [],
   "source": [
    "def batchPreProcess():\n",
    "    cwd = os.getcwd()\n",
    "    print(cwd)\n",
    "    processedTextPath = \"\"\n",
    "    \n",
    "    dataPath = os.path.join(cwd, \"data/raw\")\n",
    "\n",
    "    if(os.path.isdir(dataPath)):\n",
    "\n",
    "        for file in os.listdir(dataPath):\n",
    "            filepath = os.path.join(dataPath, file)\n",
    "            if(os.path.isfile(filepath)):\n",
    "                #print(file)\n",
    "                try:\n",
    "                    if(checkFileType(filepath) == 0):\n",
    "                        processedTextPath = processTextFile(filepath)\n",
    "                    elif(checkFileType(filepath) == 1):\n",
    "                        processedTextPath = processPDFfile(filepath)\n",
    "                    else:\n",
    "                        raise TypeError('This path does not lead to a valid file type!')                     \n",
    "                except Exception as e:\n",
    "                    print(str(e))\n",
    "\n",
    "    else:\n",
    "        print(\"data/raw doesn't exist\")"
   ]
  },
  {
   "cell_type": "markdown",
   "metadata": {
    "heading_collapsed": true,
    "hidden": true
   },
   "source": [
    "#### Function: Batch return token and bigram sets for all output files\n",
    "Returns file information as an array of objects containing key:value information about the file: "
   ]
  },
  {
   "cell_type": "code",
   "execution_count": null,
   "metadata": {
    "hidden": true
   },
   "outputs": [],
   "source": [
    "[ \n",
    "    {\n",
    "        'filepath':'users/sydneyknox...', \n",
    "        'wordTokens':[*tokens*], \n",
    "        ...  \n",
    "    }, \n",
    "    {  \n",
    "        'sentenceTokens':[*tokens*],\n",
    "        'cleanText':\"string containing the original text from the processed file...\"\n",
    "    }\n",
    "]"
   ]
  },
  {
   "cell_type": "code",
   "execution_count": 56,
   "metadata": {
    "code_folding": [],
    "hidden": true
   },
   "outputs": [],
   "source": [
    "def batchGetTokens():\n",
    "    all_tokens = []\n",
    "    cwd = os.getcwd()\n",
    "    processedTextPath = \"\"\n",
    "    \n",
    "    dataPath = os.path.join(cwd, \"data/output\")\n",
    "    print(dataPath)\n",
    "    \n",
    "    if(os.path.isdir(dataPath)):\n",
    "\n",
    "        for file in os.listdir(dataPath):\n",
    "            filepath = os.path.join(dataPath, file)\n",
    "            if(os.path.isfile(filepath)):\n",
    "                try:\n",
    "                    #print(file)\n",
    "\n",
    "                    temp_obj = {}\n",
    "\n",
    "                    with open(filepath, 'r') as txtFile:\n",
    "                        text = txtFile.read()\n",
    "\n",
    "                    temp_obj['filepath'] = filepath\n",
    "\n",
    "                    text = ddCleanText(text)\n",
    "                    temp_obj['cleanText'] = text\n",
    "\n",
    "                    wordTokens = getTokens(text)\n",
    "                    sentTokens = getSents(text)\n",
    "                    temp_obj['wordTokens'] = wordTokens\n",
    "                    temp_obj['sentTokens'] = sentTokens\n",
    "\n",
    "                    bgs = getBigrams(wordTokens)\n",
    "                    tgs = getTrigrams(wordTokens)\n",
    "                    temp_obj['bgs'] = bgs\n",
    "                    temp_obj['tgs'] = tgs\n",
    "\n",
    "                    txtFile.close()\n",
    "                    all_tokens.append(temp_obj)\n",
    "                except Exception as e:\n",
    "                    print(\"Error opening and tokenizing \" + file)\n",
    "                    #print(str(e))\n",
    "\n",
    "    else:\n",
    "        print(\"data/output doesn't exist\")\n",
    "    return all_tokens"
   ]
  },
  {
   "cell_type": "markdown",
   "metadata": {
    "heading_collapsed": true,
    "hidden": true
   },
   "source": [
    "#### Function: get metadata attributes\n",
    "This function takes in a single files info -- in this section because it will be used in a batch function"
   ]
  },
  {
   "cell_type": "code",
   "execution_count": 57,
   "metadata": {
    "code_folding": [],
    "hidden": true
   },
   "outputs": [],
   "source": [
    "def getMetaDataAtt(file_info):\n",
    "    #print(file_info)\n",
    "    fileName = getFileName(file_info['filepath'])\n",
    "    print(fileName)\n",
    "    \n",
    "    #groupNumber = getGroupNumber(file_info['sentTokens'], file_info['filepath'])\n",
    "    #if(groupNumber):\n",
    "    #    print(\"group number: \" , groupNumber)\n",
    "    \n",
    "    contractStartDate = getContractStart(file_info['sentTokens'])\n",
    "    if(contractStartDate):\n",
    "        print(\"start: \" , contractStartDate)\n",
    "    \n",
    "    contractEndDate = getContractEnd(file_info['sentTokens'])\n",
    "    if(contractEndDate):\n",
    "        print(\"end: \" , contractEndDate)\n",
    "    \n",
    "    #contractDuration = getContractDuration(file_info['sentTokens'])\n",
    "    #if(contractDuration):\n",
    "    #    print(\"duration: \" , contractDuration)\n",
    "    #print(\"\\n\")\n",
    "    \n",
    "    d={'key':'filename', 'value':fileName}\n",
    "    dfMD = pd.DataFrame(d, index=['MetaData'])\n",
    "    \n",
    "   ## df=pd.DataFrame({'key':'group_number','value':groupNumber}, index=['MetaData'])\n",
    "   ## dfMD = pd.concat([dfMD, df])\n",
    "    \n",
    "   ## df=pd.DataFrame({'key':'contract_start_date','value':contractStartDate}, index=['MetaData'])\n",
    "   ## dfMD = pd.concat([dfMD, df])\n",
    "    \n",
    "    return dfMD"
   ]
  },
  {
   "cell_type": "markdown",
   "metadata": {
    "heading_collapsed": true,
    "hidden": true
   },
   "source": [
    "### Workspace"
   ]
  },
  {
   "cell_type": "markdown",
   "metadata": {
    "hidden": true
   },
   "source": [
    "##### Practice with synonyms"
   ]
  },
  {
   "cell_type": "code",
   "execution_count": null,
   "metadata": {
    "code_folding": [],
    "hidden": true
   },
   "outputs": [],
   "source": [
    "def testSyns(sentTokens, word1, word2):\n",
    "    syns1 = wn.synsets(word1)\n",
    "    syns2 = wn.synsets(word2)\n",
    "    #print(syns)\n",
    "    #print(syns[0].lemmas()[1].name())\n",
    "    set1 = set()\n",
    "    for syn in syns1:\n",
    "        for lem in syn.lemmas():\n",
    "            set1.add(lem.name())\n",
    "    #print(set1)\n",
    "    set2 = set()\n",
    "    for syn in syns2:\n",
    "        for lem in syn.lemmas():\n",
    "            set2.add(lem.name())\n",
    "    #print(set2)\n",
    "    word_set = set()\n",
    "    for word1 in set1:\n",
    "        for word2 in set2:\n",
    "            word_set.add(\" \".join([word1, word2]).lower())\n",
    "    #print(word_set)\n",
    "    for sent in sentTokens:\n",
    "        words = word_tokenize(sent)\n",
    "        start = 0\n",
    "        end = 1\n",
    "        #while(end < len(words)):\n",
    "            #print(\" \".join([words[start], words[end]]))\n",
    "            #if(\" \".join([words[start], words[end]]).lower() in word_set):\n",
    "                #print(\" \".join([words[start], words[end]]))\n",
    "                #print(sent)\n",
    "            #start += 1\n",
    "            #end += 1\n",
    "    return\n",
    "            \n",
    "#testSyns(sentTokens, \"effective\", \"date\")            \n"
   ]
  },
  {
   "cell_type": "markdown",
   "metadata": {
    "heading_collapsed": true,
    "hidden": true
   },
   "source": [
    "#### Call the PreProcessing functions to get all .txt output files"
   ]
  },
  {
   "cell_type": "markdown",
   "metadata": {
    "heading_collapsed": true
   },
   "source": [
    "## workspace: batch process files"
   ]
  },
  {
   "cell_type": "code",
   "execution_count": 38,
   "metadata": {
    "hidden": true
   },
   "outputs": [],
   "source": [
    "filePath = \"./data/raw/TX-18745 ASC Contract (7.2.18).pdf\"\n",
    "processedTextPath = \"\"\n",
    "\n",
    "if(checkFileType(filePath) == 0):\n",
    "    processedTextPath = processTextFile(filePath)\n",
    "elif(checkFileType(filePath) == 1):\n",
    "    processedTextPath = processPDFfile(filePath)\n",
    "else:\n",
    "    raise TypeError(\"File type incorrect\") \n",
    "\n",
    "#print(processedTextPath)\n",
    "with open(processedTextPath, 'r') as txtFile:\n",
    "            text = txtFile.read()\n",
    "\n",
    "\n",
    "text = ddCleanText(text)\n",
    "wordTokens = getTokens(text)\n",
    "sentTokens = getSents(text)\n",
    "#print(sentTokens)\n",
    "bgs = getBigrams(wordTokens)\n",
    "tgs = getTrigrams(wordTokens)\n"
   ]
  },
  {
   "cell_type": "markdown",
   "metadata": {
    "heading_collapsed": true,
    "hidden": true
   },
   "source": [
    "#### Call PreProcess"
   ]
  },
  {
   "cell_type": "code",
   "execution_count": 58,
   "metadata": {
    "hidden": true,
    "scrolled": true
   },
   "outputs": [
    {
     "name": "stdout",
     "output_type": "stream",
     "text": [
      "/Users/sydneyknox/Documents/data-insights/jupyter-pseudocode\n",
      "This path does not lead to a valid file type!\n"
     ]
    }
   ],
   "source": [
    "batchPreProcess()"
   ]
  },
  {
   "cell_type": "markdown",
   "metadata": {
    "heading_collapsed": true,
    "hidden": true
   },
   "source": [
    "#### Call the tokenizing functions to get organized data for all the files in the pre-processed folder"
   ]
  },
  {
   "cell_type": "code",
   "execution_count": 59,
   "metadata": {
    "hidden": true
   },
   "outputs": [
    {
     "name": "stdout",
     "output_type": "stream",
     "text": [
      "/Users/sydneyknox/Documents/data-insights/jupyter-pseudocode/data/output\n",
      "Error opening and tokenizing .DS_Store\n"
     ]
    }
   ],
   "source": [
    "base_info = batchGetTokens()"
   ]
  },
  {
   "cell_type": "markdown",
   "metadata": {
    "heading_collapsed": true,
    "hidden": true
   },
   "source": [
    "#### Call the functions to begin extracting and storing the data from all files"
   ]
  },
  {
   "cell_type": "code",
   "execution_count": 60,
   "metadata": {
    "code_folding": [],
    "hidden": true,
    "scrolled": true
   },
   "outputs": [
    {
     "name": "stdout",
     "output_type": "stream",
     "text": [
      "TX 19015 Attachment A ENT (7.2.18).txt\n",
      "{'effectual date\\\\S\\\\s*\\\\S', 'efficacious', 'in_effect date\\\\S\\\\s*\\\\S', 'good', 'in_force', 'efficient', 'good date\\\\S\\\\s*\\\\S', 'effectual', 'in_effect', 'effective date\\\\S\\\\s*\\\\S', 'efficient date\\\\S\\\\s*\\\\S', 'in_force date\\\\S\\\\s*\\\\S', 'effective', 'efficacious date\\\\S\\\\s*\\\\S'}\n",
      "start:  2018-01-01 00:00:00\n",
      "{'get conclusion', 'compress terminus', 'sign_on full_term', 'abridge terminate', 'squeeze last', 'contract term\\\\S\\\\s*\\\\S', 'take close', 'foreshorten term', 'squeeze stop', 'sign ending', 'declaration term\\\\S\\\\s*\\\\S', 'shorten terminal_figure', 'shrink condition', 'sign remainder', 'reduce final_stage', 'sign_on close', 'abridge terminal', 'declaration end', 'take condition', 'compact stop', 'condense terminal', 'narrow last', 'sign_on last', 'sign terminal', 'declaration terminal_figure', 'shrink terminate', 'constrict stop', 'press last', 'contract_bridge ending', 'shorten finish', 'declaration stop', 'undertake final_stage', 'constrict goal', 'constrict remnant', 'contract term ', 'constrict full_term', 'compact finish', 'constrict remainder', 'compact full_term', 'shorten destruction', 'contract cease', 'compact ending', 'cut destruction', 'take conclusion', 'reduce remnant', 'sign_on term\\\\S\\\\s*\\\\S', 'sign_up remainder', 'compress stop', 'take terminal', 'press closing', 'take finish', 'shrink close', 'compress condition', 'concentrate ending', 'sign_up terminate', 'concentrate closing', 'sign_on stop', 'compact condition', 'contract_bridge terminal', 'constrict cease', 'shorten terminal', 'sign condition', 'sign_on cease', 'foreshorten terminate', 'take cease', 'shrink terminal_figure', 'contract terminal', 'cut term', 'abridge last', 'shrink ending', 'narrow destruction', 'contract terminal_figure', 'sign_up cease', 'condense closing', 'contract death', 'condense goal', 'undertake condition', 'squeeze goal', 'constrict terminal_figure', 'foreshorten conclusion', 'narrow death', 'compress end', 'get oddment', 'cut terminate', 'shrink destruction', 'sign_on terminal_figure', 'condense last', 'squeeze full_term', 'condense cease', 'abbreviate ending', 'concentrate destruction', 'abridge destruction', 'squeeze end', 'foreshorten last', 'constrict term', 'compress terminal_figure', 'shrink death', 'sign_up conclusion', 'sign_on destruction', 'sign_on terminal', 'squeeze terminal_figure', 'contract_bridge end', 'constrict final_stage', 'condense term', 'narrow final_stage', 'narrow goal', 'compress remnant', 'sign_on finish', 'undertake last', 'press terminal', 'press full_term', 'concentrate terminus', 'sign_up final_stage', 'sign_up terminal_figure', 'press final_stage', 'sign term', 'cut last', 'undertake full_term', 'squeeze terminus', 'shrink full_term', 'shrink stop', 'compact terminal_figure', 'compress death', 'contract_bridge finish', 'contract_bridge close', 'press finish', 'sign_up destruction', 'abbreviate death', 'abridge oddment', 'compress remainder', 'squeeze oddment', 'abridge ending', 'abbreviate conclusion', 'squeeze death', 'condense remainder', 'contract ending', 'contract_bridge term\\\\S\\\\s*\\\\S', 'shrink conclusion', 'sign_on oddment', 'contract_bridge conclusion', 'shorten full_term', 'abbreviate remnant', 'shrink goal', 'narrow ending', 'abbreviate terminus', 'get term', 'concentrate remainder', 'constrict ending', 'compress close', 'concentrate death', 'abbreviate end', 'get term\\\\S\\\\s*\\\\S', 'press ending', 'get remnant', 'squeeze close', 'get close', 'abbreviate stop', 'sign_on final_stage', 'declaration goal', 'undertake term', 'condense final_stage', 'sign_up goal', 'shorten cease', 'sign_up end', 'compress term\\\\S\\\\s*\\\\S', 'shrink cease', 'abbreviate closing', 'abridge full_term', 'abbreviate close', 'reduce oddment', 'compress final_stage', 'get stop', 'contract terminus', 'sign_up finish', 'undertake oddment', 'foreshorten goal', 'cut condition', 'reduce destruction', 'concentrate remnant', 'concentrate condition', 'press remainder', 'abridge stop', 'cut end', 'shrink term', 'sign_on remainder', 'press term', 'take final_stage', 'narrow close', 'sign_on terminate', 'sign_on condition', 'contract last', 'sign death', 'shorten condition', 'take end', 'take terminate', 'declaration cease', 'undertake terminus', 'sign terminus', 'compact destruction', 'narrow oddment', 'abridge conclusion', 'get ending', 'cut death', 'press cease', 'abridge final_stage', 'compress last', 'squeeze ending', 'undertake terminate', 'foreshorten close', 'narrow terminus', 'compact term\\\\S\\\\s*\\\\S', 'get finish', 'foreshorten cease', 'take remnant', 'get terminal', 'narrow full_term', 'declaration terminal', 'shorten term', 'contract_bridge cease', 'abridge term\\\\S\\\\s*\\\\S', 'shorten remnant', 'sign_up term\\\\S\\\\s*\\\\S', 'contract_bridge term', 'foreshorten death', 'contract_bridge death', 'contract_bridge remnant', 'contract_bridge terminus', 'condense oddment', 'press term\\\\S\\\\s*\\\\S', 'compact term', 'contract_bridge terminate', 'abbreviate goal', 'cut term\\\\S\\\\s*\\\\S', 'reduce last', 'sign closing', 'concentrate stop', 'undertake end', 'sign remnant', 'cut terminus', 'cut finish', 'contract term', 'condense term\\\\S\\\\s*\\\\S', 'foreshorten remainder', 'take destruction', 'declaration finish', 'get condition', 'sign goal', 'shrink closing', 'reduce ending', 'undertake ending', 'reduce terminus', 'compact goal', 'sign cease', 'sign_up remnant', 'compact oddment', 'cut ending', 'declaration close', 'undertake goal', 'take term', 'sign_on term', 'condense ending', 'cut conclusion', 'sign finish', 'reduce remainder', 'compress terminal', 'abridge finish', 'declaration ending', 'declaration last', 'squeeze terminal', 'narrow terminal_figure', 'cut cease', 'sign_on closing', 'press death', 'undertake remnant', 'foreshorten finish', 'take last', 'sign_up ending', 'squeeze remainder', 'reduce terminal', 'shorten remainder', 'undertake close', 'compact close', 'declaration terminus', 'declaration final_stage', 'abbreviate terminal', 'abridge closing', 'cut terminal', 'condense death', 'shorten goal', 'foreshorten term\\\\S\\\\s*\\\\S', 'sign final_stage', 'sign_up close', 'undertake destruction', 'shrink end', 'undertake death', 'press destruction', 'narrow cease', 'condense conclusion', 'condense condition', 'abbreviate last', 'concentrate terminal_figure', 'contract remainder', 'take terminus', 'press oddment', 'condense stop', 'shorten final_stage', 'get terminate', 'narrow remnant', 'get cease', 'sign close', 'reduce death', 'contract closing', 'compress full_term', 'contract_bridge final_stage', 'foreshorten end', 'take oddment', 'reduce finish', 'narrow term\\\\S\\\\s*\\\\S', 'contract final_stage', 'shrink terminal', 'abridge cease', 'concentrate conclusion', 'reduce full_term', 'contract terminate', 'sign_on goal', 'take death', 'foreshorten terminal', 'concentrate finish', 'reduce terminate', 'concentrate cease', 'contract finish', 'sign_on remnant', 'foreshorten oddment', 'foreshorten condition', 'cut final_stage', 'reduce close', 'compact terminate', 'abridge remainder', 'reduce conclusion', 'reduce closing', 'abridge end', 'compress finish', 'narrow remainder', 'sign last', 'constrict closing', 'contract_bridge goal', 'take term\\\\S\\\\s*\\\\S', 'sign_up stop', 'foreshorten full_term', 'constrict conclusion', 'cut stop', 'concentrate terminate', 'take closing', 'take remainder', 'declaration conclusion', 'foreshorten destruction', 'compact final_stage', 'squeeze finish', 'constrict last', 'contract goal', 'compact terminal', 'contract oddment', 'constrict end', 'sign oddment', 'constrict term\\\\S\\\\s*\\\\S', 'abbreviate term', 'compact conclusion', 'condense destruction', 'shorten oddment', 'shrink final_stage', 'contract full_term', 'press goal', 'undertake terminal_figure', 'constrict death', 'take ending', 'contract_bridge stop', 'contract_bridge remainder', 'shorten term\\\\S\\\\s*\\\\S', 'undertake stop', 'contract remnant', 'compact death', 'cut oddment', 'contract condition', 'narrow finish', 'concentrate last', 'sign_up terminal', 'abridge close', 'contract close', 'press condition', 'shrink terminus', 'squeeze term\\\\S\\\\s*\\\\S', 'condense terminate', 'declaration closing', 'undertake finish', 'sign_on ending', 'condense finish', 'sign full_term', 'concentrate terminal', 'foreshorten terminus', 'condense remnant', 'sign_up closing', 'concentrate end', 'abbreviate terminate', 'sign_up condition', 'cut full_term', 'concentrate full_term', 'squeeze cease', 'concentrate goal', 'press terminus', 'narrow terminal', 'shrink oddment', 'abbreviate final_stage', 'abridge term', 'abbreviate term\\\\S\\\\s*\\\\S', 'contract_bridge terminal_figure', 'constrict oddment', 'sign_up full_term', 'sign conclusion', 'get full_term', 'abridge remnant', 'shrink term\\\\S\\\\s*\\\\S', 'declaration term', 'sign terminal_figure', 'reduce terminal_figure', 'press remnant', 'contract_bridge full_term', 'compact remnant', 'get last', 'shorten close', 'squeeze condition', 'sign_on death', 'reduce cease', 'abbreviate finish', 'constrict terminal', 'foreshorten remnant', 'compact terminus', 'foreshorten stop', 'narrow terminate', 'press end', 'declaration oddment', 'reduce goal', 'take goal', 'abridge terminal_figure', 'compress cease', 'abbreviate destruction', 'abridge goal', 'compress ending', 'press terminal_figure', 'cut remnant', 'abbreviate cease', 'undertake terminal', 'shorten closing', 'condense terminus', 'reduce term', 'constrict finish', 'narrow closing', 'compress term', 'narrow stop', 'sign_up last', 'get terminus', 'take terminal_figure', 'squeeze closing', 'narrow condition', 'shrink remnant', 'get closing', 'cut closing', 'constrict destruction', 'condense terminal_figure', 'narrow end', 'squeeze term', 'compress destruction', 'reduce condition', 'get death', 'abbreviate terminal_figure', 'contract destruction', 'compress terminate', 'press terminate', 'foreshorten terminal_figure', 'contract_bridge closing', 'declaration full_term', 'squeeze destruction', 'get remainder', 'declaration terminate', 'squeeze final_stage', 'contract end', 'sign destruction', 'take full_term', 'cut terminal_figure', 'shrink finish', 'squeeze terminate', 'declaration condition', 'abridge terminus', 'constrict close', 'compact cease', 'condense close', 'abbreviate oddment', 'compact remainder', 'compact closing', 'compress goal', 'compress conclusion', 'shorten conclusion', 'get final_stage', 'compact end', 'press close', 'undertake term\\\\S\\\\s*\\\\S', 'sign_on terminus', 'foreshorten final_stage', 'contract stop', 'constrict condition', 'sign terminate', 'foreshorten ending', 'compact last', 'concentrate term', 'sign_up term', 'reduce term\\\\S\\\\s*\\\\S', 'get goal', 'declaration death', 'condense full_term', 'cut goal', 'sign_up death', 'concentrate final_stage', 'concentrate term\\\\S\\\\s*\\\\S', 'shorten stop', 'contract_bridge condition', 'abbreviate full_term', 'declaration destruction', 'shorten ending', 'condense end', 'sign_on conclusion', 'get terminal_figure', 'squeeze conclusion', 'abbreviate condition', 'shorten terminate', 'constrict terminus', 'contract_bridge oddment', 'squeeze remnant', 'concentrate close', 'shorten terminus', 'compress closing', 'contract conclusion', 'sign_up terminus', 'shrink last', 'constrict terminate', 'get end', 'contract_bridge last', 'undertake closing', 'declaration remnant', 'sign term\\\\S\\\\s*\\\\S', 'sign_on end', 'undertake cease', 'reduce stop', 'reduce end', 'abridge condition', 'shorten end', 'shorten last', 'sign_up oddment', 'abbreviate remainder', 'undertake remainder', 'get destruction', 'sign end', 'foreshorten closing', 'shorten death', 'compress oddment', 'take stop', 'cut close', 'press conclusion', 'narrow term', 'concentrate oddment', 'contract_bridge destruction', 'press stop', 'sign stop', 'declaration remainder', 'undertake conclusion', 'shrink remainder', 'cut remainder', 'abridge death', 'narrow conclusion'}\n",
      "TX 17404 EOC Regional (7.2.18).txt\n",
      "{'effectual date\\\\S\\\\s*\\\\S', 'efficacious', 'in_effect date\\\\S\\\\s*\\\\S', 'good', 'in_force', 'efficient', 'good date\\\\S\\\\s*\\\\S', 'effectual', 'in_effect', 'effective date\\\\S\\\\s*\\\\S', 'efficient date\\\\S\\\\s*\\\\S', 'in_force date\\\\S\\\\s*\\\\S', 'effective', 'efficacious date\\\\S\\\\s*\\\\S'}\n",
      "start:  2017-10-01 00:00:00\n",
      "{'get conclusion', 'compress terminus', 'sign_on full_term', 'abridge terminate', 'squeeze last', 'contract term\\\\S\\\\s*\\\\S', 'take close', 'foreshorten term', 'squeeze stop', 'sign ending', 'declaration term\\\\S\\\\s*\\\\S', 'shorten terminal_figure', 'shrink condition', 'sign remainder', 'reduce final_stage', 'sign_on close', 'abridge terminal', 'declaration end', 'take condition', 'compact stop', 'condense terminal', 'narrow last', 'sign_on last', 'sign terminal', 'declaration terminal_figure', 'shrink terminate', 'constrict stop', 'press last', 'contract_bridge ending', 'shorten finish', 'declaration stop', 'undertake final_stage', 'constrict goal', 'constrict remnant', 'contract term ', 'constrict full_term', 'compact finish', 'constrict remainder', 'compact full_term', 'shorten destruction', 'contract cease', 'compact ending', 'cut destruction', 'take conclusion', 'reduce remnant', 'sign_on term\\\\S\\\\s*\\\\S', 'sign_up remainder', 'compress stop', 'take terminal', 'press closing', 'take finish', 'shrink close', 'compress condition', 'concentrate ending', 'sign_up terminate', 'concentrate closing', 'sign_on stop', 'compact condition', 'contract_bridge terminal', 'constrict cease', 'shorten terminal', 'sign condition', 'sign_on cease', 'foreshorten terminate', 'take cease', 'shrink terminal_figure', 'contract terminal', 'cut term', 'abridge last', 'shrink ending', 'narrow destruction', 'contract terminal_figure', 'sign_up cease', 'condense closing', 'contract death', 'condense goal', 'undertake condition', 'squeeze goal', 'constrict terminal_figure', 'foreshorten conclusion', 'narrow death', 'compress end', 'get oddment', 'cut terminate', 'shrink destruction', 'sign_on terminal_figure', 'condense last', 'squeeze full_term', 'condense cease', 'abbreviate ending', 'concentrate destruction', 'abridge destruction', 'squeeze end', 'foreshorten last', 'constrict term', 'compress terminal_figure', 'shrink death', 'sign_up conclusion', 'sign_on destruction', 'sign_on terminal', 'squeeze terminal_figure', 'contract_bridge end', 'constrict final_stage', 'condense term', 'narrow final_stage', 'narrow goal', 'compress remnant', 'sign_on finish', 'undertake last', 'press terminal', 'press full_term', 'concentrate terminus', 'sign_up final_stage', 'sign_up terminal_figure', 'press final_stage', 'sign term', 'cut last', 'undertake full_term', 'squeeze terminus', 'shrink full_term', 'shrink stop', 'compact terminal_figure', 'compress death', 'contract_bridge finish', 'contract_bridge close', 'press finish', 'sign_up destruction', 'abbreviate death', 'abridge oddment', 'compress remainder', 'squeeze oddment', 'abridge ending', 'abbreviate conclusion', 'squeeze death', 'condense remainder', 'contract ending', 'contract_bridge term\\\\S\\\\s*\\\\S', 'shrink conclusion', 'sign_on oddment', 'contract_bridge conclusion', 'shorten full_term', 'abbreviate remnant', 'shrink goal', 'narrow ending', 'abbreviate terminus', 'get term', 'concentrate remainder', 'constrict ending', 'compress close', 'concentrate death', 'abbreviate end', 'get term\\\\S\\\\s*\\\\S', 'press ending', 'get remnant', 'squeeze close', 'get close', 'abbreviate stop', 'sign_on final_stage', 'declaration goal', 'undertake term', 'condense final_stage', 'sign_up goal', 'shorten cease', 'sign_up end', 'compress term\\\\S\\\\s*\\\\S', 'shrink cease', 'abbreviate closing', 'abridge full_term', 'abbreviate close', 'reduce oddment', 'compress final_stage', 'get stop', 'contract terminus', 'sign_up finish', 'undertake oddment', 'foreshorten goal', 'cut condition', 'reduce destruction', 'concentrate remnant', 'concentrate condition', 'press remainder', 'abridge stop', 'cut end', 'shrink term', 'sign_on remainder', 'press term', 'take final_stage', 'narrow close', 'sign_on terminate', 'sign_on condition', 'contract last', 'sign death', 'shorten condition', 'take end', 'take terminate', 'declaration cease', 'undertake terminus', 'sign terminus', 'compact destruction', 'narrow oddment', 'abridge conclusion', 'get ending', 'cut death', 'press cease', 'abridge final_stage', 'compress last', 'squeeze ending', 'undertake terminate', 'foreshorten close', 'narrow terminus', 'compact term\\\\S\\\\s*\\\\S', 'get finish', 'foreshorten cease', 'take remnant', 'get terminal', 'narrow full_term', 'declaration terminal', 'shorten term', 'contract_bridge cease', 'abridge term\\\\S\\\\s*\\\\S', 'shorten remnant', 'sign_up term\\\\S\\\\s*\\\\S', 'contract_bridge term', 'foreshorten death', 'contract_bridge death', 'contract_bridge remnant', 'contract_bridge terminus', 'condense oddment', 'press term\\\\S\\\\s*\\\\S', 'compact term', 'contract_bridge terminate', 'abbreviate goal', 'cut term\\\\S\\\\s*\\\\S', 'reduce last', 'sign closing', 'concentrate stop', 'undertake end', 'sign remnant', 'cut terminus', 'cut finish', 'contract term', 'condense term\\\\S\\\\s*\\\\S', 'foreshorten remainder', 'take destruction', 'declaration finish', 'get condition', 'sign goal', 'shrink closing', 'reduce ending', 'undertake ending', 'reduce terminus', 'compact goal', 'sign cease', 'sign_up remnant', 'compact oddment', 'cut ending', 'declaration close', 'undertake goal', 'take term', 'sign_on term', 'condense ending', 'cut conclusion', 'sign finish', 'reduce remainder', 'compress terminal', 'abridge finish', 'declaration ending', 'declaration last', 'squeeze terminal', 'narrow terminal_figure', 'cut cease', 'sign_on closing', 'press death', 'undertake remnant', 'foreshorten finish', 'take last', 'sign_up ending', 'squeeze remainder', 'reduce terminal', 'shorten remainder', 'undertake close', 'compact close', 'declaration terminus', 'declaration final_stage', 'abbreviate terminal', 'abridge closing', 'cut terminal', 'condense death', 'shorten goal', 'foreshorten term\\\\S\\\\s*\\\\S', 'sign final_stage', 'sign_up close', 'undertake destruction', 'shrink end', 'undertake death', 'press destruction', 'narrow cease', 'condense conclusion', 'condense condition', 'abbreviate last', 'concentrate terminal_figure', 'contract remainder', 'take terminus', 'press oddment', 'condense stop', 'shorten final_stage', 'get terminate', 'narrow remnant', 'get cease', 'sign close', 'reduce death', 'contract closing', 'compress full_term', 'contract_bridge final_stage', 'foreshorten end', 'take oddment', 'reduce finish', 'narrow term\\\\S\\\\s*\\\\S', 'contract final_stage', 'shrink terminal', 'abridge cease', 'concentrate conclusion', 'reduce full_term', 'contract terminate', 'sign_on goal', 'take death', 'foreshorten terminal', 'concentrate finish', 'reduce terminate', 'concentrate cease', 'contract finish', 'sign_on remnant', 'foreshorten oddment', 'foreshorten condition', 'cut final_stage', 'reduce close', 'compact terminate', 'abridge remainder', 'reduce conclusion', 'reduce closing', 'abridge end', 'compress finish', 'narrow remainder', 'sign last', 'constrict closing', 'contract_bridge goal', 'take term\\\\S\\\\s*\\\\S', 'sign_up stop', 'foreshorten full_term', 'constrict conclusion', 'cut stop', 'concentrate terminate', 'take closing', 'take remainder', 'declaration conclusion', 'foreshorten destruction', 'compact final_stage', 'squeeze finish', 'constrict last', 'contract goal', 'compact terminal', 'contract oddment', 'constrict end', 'sign oddment', 'constrict term\\\\S\\\\s*\\\\S', 'abbreviate term', 'compact conclusion', 'condense destruction', 'shorten oddment', 'shrink final_stage', 'contract full_term', 'press goal', 'undertake terminal_figure', 'constrict death', 'take ending', 'contract_bridge stop', 'contract_bridge remainder', 'shorten term\\\\S\\\\s*\\\\S', 'undertake stop', 'contract remnant', 'compact death', 'cut oddment', 'contract condition', 'narrow finish', 'concentrate last', 'sign_up terminal', 'abridge close', 'contract close', 'press condition', 'shrink terminus', 'squeeze term\\\\S\\\\s*\\\\S', 'condense terminate', 'declaration closing', 'undertake finish', 'sign_on ending', 'condense finish', 'sign full_term', 'concentrate terminal', 'foreshorten terminus', 'condense remnant', 'sign_up closing', 'concentrate end', 'abbreviate terminate', 'sign_up condition', 'cut full_term', 'concentrate full_term', 'squeeze cease', 'concentrate goal', 'press terminus', 'narrow terminal', 'shrink oddment', 'abbreviate final_stage', 'abridge term', 'abbreviate term\\\\S\\\\s*\\\\S', 'contract_bridge terminal_figure', 'constrict oddment', 'sign_up full_term', 'sign conclusion', 'get full_term', 'abridge remnant', 'shrink term\\\\S\\\\s*\\\\S', 'declaration term', 'sign terminal_figure', 'reduce terminal_figure', 'press remnant', 'contract_bridge full_term', 'compact remnant', 'get last', 'shorten close', 'squeeze condition', 'sign_on death', 'reduce cease', 'abbreviate finish', 'constrict terminal', 'foreshorten remnant', 'compact terminus', 'foreshorten stop', 'narrow terminate', 'press end', 'declaration oddment', 'reduce goal', 'take goal', 'abridge terminal_figure', 'compress cease', 'abbreviate destruction', 'abridge goal', 'compress ending', 'press terminal_figure', 'cut remnant', 'abbreviate cease', 'undertake terminal', 'shorten closing', 'condense terminus', 'reduce term', 'constrict finish', 'narrow closing', 'compress term', 'narrow stop', 'sign_up last', 'get terminus', 'take terminal_figure', 'squeeze closing', 'narrow condition', 'shrink remnant', 'get closing', 'cut closing', 'constrict destruction', 'condense terminal_figure', 'narrow end', 'squeeze term', 'compress destruction', 'reduce condition', 'get death', 'abbreviate terminal_figure', 'contract destruction', 'compress terminate', 'press terminate', 'foreshorten terminal_figure', 'contract_bridge closing', 'declaration full_term', 'squeeze destruction', 'get remainder', 'declaration terminate', 'squeeze final_stage', 'contract end', 'sign destruction', 'take full_term', 'cut terminal_figure', 'shrink finish', 'squeeze terminate', 'declaration condition', 'abridge terminus', 'constrict close', 'compact cease', 'condense close', 'abbreviate oddment', 'compact remainder', 'compact closing', 'compress goal', 'compress conclusion', 'shorten conclusion', 'get final_stage', 'compact end', 'press close', 'undertake term\\\\S\\\\s*\\\\S', 'sign_on terminus', 'foreshorten final_stage', 'contract stop', 'constrict condition', 'sign terminate', 'foreshorten ending', 'compact last', 'concentrate term', 'sign_up term', 'reduce term\\\\S\\\\s*\\\\S', 'get goal', 'declaration death', 'condense full_term', 'cut goal', 'sign_up death', 'concentrate final_stage', 'concentrate term\\\\S\\\\s*\\\\S', 'shorten stop', 'contract_bridge condition', 'abbreviate full_term', 'declaration destruction', 'shorten ending', 'condense end', 'sign_on conclusion', 'get terminal_figure', 'squeeze conclusion', 'abbreviate condition', 'shorten terminate', 'constrict terminus', 'contract_bridge oddment', 'squeeze remnant', 'concentrate close', 'shorten terminus', 'compress closing', 'contract conclusion', 'sign_up terminus', 'shrink last', 'constrict terminate', 'get end', 'contract_bridge last', 'undertake closing', 'declaration remnant', 'sign term\\\\S\\\\s*\\\\S', 'sign_on end', 'undertake cease', 'reduce stop', 'reduce end', 'abridge condition', 'shorten end', 'shorten last', 'sign_up oddment', 'abbreviate remainder', 'undertake remainder', 'get destruction', 'sign end', 'foreshorten closing', 'shorten death', 'compress oddment', 'take stop', 'cut close', 'press conclusion', 'narrow term', 'concentrate oddment', 'contract_bridge destruction', 'press stop', 'sign stop', 'declaration remainder', 'undertake conclusion', 'shrink remainder', 'cut remainder', 'abridge death', 'narrow conclusion'}\n"
     ]
    },
    {
     "name": "stdout",
     "output_type": "stream",
     "text": [
      "TX 17404 EOC (Regional (7.2.18)-pdf.txt\n",
      "{'effectual date\\\\S\\\\s*\\\\S', 'efficacious', 'in_effect date\\\\S\\\\s*\\\\S', 'good', 'in_force', 'efficient', 'good date\\\\S\\\\s*\\\\S', 'effectual', 'in_effect', 'effective date\\\\S\\\\s*\\\\S', 'efficient date\\\\S\\\\s*\\\\S', 'in_force date\\\\S\\\\s*\\\\S', 'effective', 'efficacious date\\\\S\\\\s*\\\\S'}\n",
      "start:  2013-07-01 00:00:00\n",
      "{'get conclusion', 'compress terminus', 'sign_on full_term', 'abridge terminate', 'squeeze last', 'contract term\\\\S\\\\s*\\\\S', 'take close', 'foreshorten term', 'squeeze stop', 'sign ending', 'declaration term\\\\S\\\\s*\\\\S', 'shorten terminal_figure', 'shrink condition', 'sign remainder', 'reduce final_stage', 'sign_on close', 'abridge terminal', 'declaration end', 'take condition', 'compact stop', 'condense terminal', 'narrow last', 'sign_on last', 'sign terminal', 'declaration terminal_figure', 'shrink terminate', 'constrict stop', 'press last', 'contract_bridge ending', 'shorten finish', 'declaration stop', 'undertake final_stage', 'constrict goal', 'constrict remnant', 'contract term ', 'constrict full_term', 'compact finish', 'constrict remainder', 'compact full_term', 'shorten destruction', 'contract cease', 'compact ending', 'cut destruction', 'take conclusion', 'reduce remnant', 'sign_on term\\\\S\\\\s*\\\\S', 'sign_up remainder', 'compress stop', 'take terminal', 'press closing', 'take finish', 'shrink close', 'compress condition', 'concentrate ending', 'sign_up terminate', 'concentrate closing', 'sign_on stop', 'compact condition', 'contract_bridge terminal', 'constrict cease', 'shorten terminal', 'sign condition', 'sign_on cease', 'foreshorten terminate', 'take cease', 'shrink terminal_figure', 'contract terminal', 'cut term', 'abridge last', 'shrink ending', 'narrow destruction', 'contract terminal_figure', 'sign_up cease', 'condense closing', 'contract death', 'condense goal', 'undertake condition', 'squeeze goal', 'constrict terminal_figure', 'foreshorten conclusion', 'narrow death', 'compress end', 'get oddment', 'cut terminate', 'shrink destruction', 'sign_on terminal_figure', 'condense last', 'squeeze full_term', 'condense cease', 'abbreviate ending', 'concentrate destruction', 'abridge destruction', 'squeeze end', 'foreshorten last', 'constrict term', 'compress terminal_figure', 'shrink death', 'sign_up conclusion', 'sign_on destruction', 'sign_on terminal', 'squeeze terminal_figure', 'contract_bridge end', 'constrict final_stage', 'condense term', 'narrow final_stage', 'narrow goal', 'compress remnant', 'sign_on finish', 'undertake last', 'press terminal', 'press full_term', 'concentrate terminus', 'sign_up final_stage', 'sign_up terminal_figure', 'press final_stage', 'sign term', 'cut last', 'undertake full_term', 'squeeze terminus', 'shrink full_term', 'shrink stop', 'compact terminal_figure', 'compress death', 'contract_bridge finish', 'contract_bridge close', 'press finish', 'sign_up destruction', 'abbreviate death', 'abridge oddment', 'compress remainder', 'squeeze oddment', 'abridge ending', 'abbreviate conclusion', 'squeeze death', 'condense remainder', 'contract ending', 'contract_bridge term\\\\S\\\\s*\\\\S', 'shrink conclusion', 'sign_on oddment', 'contract_bridge conclusion', 'shorten full_term', 'abbreviate remnant', 'shrink goal', 'narrow ending', 'abbreviate terminus', 'get term', 'concentrate remainder', 'constrict ending', 'compress close', 'concentrate death', 'abbreviate end', 'get term\\\\S\\\\s*\\\\S', 'press ending', 'get remnant', 'squeeze close', 'get close', 'abbreviate stop', 'sign_on final_stage', 'declaration goal', 'undertake term', 'condense final_stage', 'sign_up goal', 'shorten cease', 'sign_up end', 'compress term\\\\S\\\\s*\\\\S', 'shrink cease', 'abbreviate closing', 'abridge full_term', 'abbreviate close', 'reduce oddment', 'compress final_stage', 'get stop', 'contract terminus', 'sign_up finish', 'undertake oddment', 'foreshorten goal', 'cut condition', 'reduce destruction', 'concentrate remnant', 'concentrate condition', 'press remainder', 'abridge stop', 'cut end', 'shrink term', 'sign_on remainder', 'press term', 'take final_stage', 'narrow close', 'sign_on terminate', 'sign_on condition', 'contract last', 'sign death', 'shorten condition', 'take end', 'take terminate', 'declaration cease', 'undertake terminus', 'sign terminus', 'compact destruction', 'narrow oddment', 'abridge conclusion', 'get ending', 'cut death', 'press cease', 'abridge final_stage', 'compress last', 'squeeze ending', 'undertake terminate', 'foreshorten close', 'narrow terminus', 'compact term\\\\S\\\\s*\\\\S', 'get finish', 'foreshorten cease', 'take remnant', 'get terminal', 'narrow full_term', 'declaration terminal', 'shorten term', 'contract_bridge cease', 'abridge term\\\\S\\\\s*\\\\S', 'shorten remnant', 'sign_up term\\\\S\\\\s*\\\\S', 'contract_bridge term', 'foreshorten death', 'contract_bridge death', 'contract_bridge remnant', 'contract_bridge terminus', 'condense oddment', 'press term\\\\S\\\\s*\\\\S', 'compact term', 'contract_bridge terminate', 'abbreviate goal', 'cut term\\\\S\\\\s*\\\\S', 'reduce last', 'sign closing', 'concentrate stop', 'undertake end', 'sign remnant', 'cut terminus', 'cut finish', 'contract term', 'condense term\\\\S\\\\s*\\\\S', 'foreshorten remainder', 'take destruction', 'declaration finish', 'get condition', 'sign goal', 'shrink closing', 'reduce ending', 'undertake ending', 'reduce terminus', 'compact goal', 'sign cease', 'sign_up remnant', 'compact oddment', 'cut ending', 'declaration close', 'undertake goal', 'take term', 'sign_on term', 'condense ending', 'cut conclusion', 'sign finish', 'reduce remainder', 'compress terminal', 'abridge finish', 'declaration ending', 'declaration last', 'squeeze terminal', 'narrow terminal_figure', 'cut cease', 'sign_on closing', 'press death', 'undertake remnant', 'foreshorten finish', 'take last', 'sign_up ending', 'squeeze remainder', 'reduce terminal', 'shorten remainder', 'undertake close', 'compact close', 'declaration terminus', 'declaration final_stage', 'abbreviate terminal', 'abridge closing', 'cut terminal', 'condense death', 'shorten goal', 'foreshorten term\\\\S\\\\s*\\\\S', 'sign final_stage', 'sign_up close', 'undertake destruction', 'shrink end', 'undertake death', 'press destruction', 'narrow cease', 'condense conclusion', 'condense condition', 'abbreviate last', 'concentrate terminal_figure', 'contract remainder', 'take terminus', 'press oddment', 'condense stop', 'shorten final_stage', 'get terminate', 'narrow remnant', 'get cease', 'sign close', 'reduce death', 'contract closing', 'compress full_term', 'contract_bridge final_stage', 'foreshorten end', 'take oddment', 'reduce finish', 'narrow term\\\\S\\\\s*\\\\S', 'contract final_stage', 'shrink terminal', 'abridge cease', 'concentrate conclusion', 'reduce full_term', 'contract terminate', 'sign_on goal', 'take death', 'foreshorten terminal', 'concentrate finish', 'reduce terminate', 'concentrate cease', 'contract finish', 'sign_on remnant', 'foreshorten oddment', 'foreshorten condition', 'cut final_stage', 'reduce close', 'compact terminate', 'abridge remainder', 'reduce conclusion', 'reduce closing', 'abridge end', 'compress finish', 'narrow remainder', 'sign last', 'constrict closing', 'contract_bridge goal', 'take term\\\\S\\\\s*\\\\S', 'sign_up stop', 'foreshorten full_term', 'constrict conclusion', 'cut stop', 'concentrate terminate', 'take closing', 'take remainder', 'declaration conclusion', 'foreshorten destruction', 'compact final_stage', 'squeeze finish', 'constrict last', 'contract goal', 'compact terminal', 'contract oddment', 'constrict end', 'sign oddment', 'constrict term\\\\S\\\\s*\\\\S', 'abbreviate term', 'compact conclusion', 'condense destruction', 'shorten oddment', 'shrink final_stage', 'contract full_term', 'press goal', 'undertake terminal_figure', 'constrict death', 'take ending', 'contract_bridge stop', 'contract_bridge remainder', 'shorten term\\\\S\\\\s*\\\\S', 'undertake stop', 'contract remnant', 'compact death', 'cut oddment', 'contract condition', 'narrow finish', 'concentrate last', 'sign_up terminal', 'abridge close', 'contract close', 'press condition', 'shrink terminus', 'squeeze term\\\\S\\\\s*\\\\S', 'condense terminate', 'declaration closing', 'undertake finish', 'sign_on ending', 'condense finish', 'sign full_term', 'concentrate terminal', 'foreshorten terminus', 'condense remnant', 'sign_up closing', 'concentrate end', 'abbreviate terminate', 'sign_up condition', 'cut full_term', 'concentrate full_term', 'squeeze cease', 'concentrate goal', 'press terminus', 'narrow terminal', 'shrink oddment', 'abbreviate final_stage', 'abridge term', 'abbreviate term\\\\S\\\\s*\\\\S', 'contract_bridge terminal_figure', 'constrict oddment', 'sign_up full_term', 'sign conclusion', 'get full_term', 'abridge remnant', 'shrink term\\\\S\\\\s*\\\\S', 'declaration term', 'sign terminal_figure', 'reduce terminal_figure', 'press remnant', 'contract_bridge full_term', 'compact remnant', 'get last', 'shorten close', 'squeeze condition', 'sign_on death', 'reduce cease', 'abbreviate finish', 'constrict terminal', 'foreshorten remnant', 'compact terminus', 'foreshorten stop', 'narrow terminate', 'press end', 'declaration oddment', 'reduce goal', 'take goal', 'abridge terminal_figure', 'compress cease', 'abbreviate destruction', 'abridge goal', 'compress ending', 'press terminal_figure', 'cut remnant', 'abbreviate cease', 'undertake terminal', 'shorten closing', 'condense terminus', 'reduce term', 'constrict finish', 'narrow closing', 'compress term', 'narrow stop', 'sign_up last', 'get terminus', 'take terminal_figure', 'squeeze closing', 'narrow condition', 'shrink remnant', 'get closing', 'cut closing', 'constrict destruction', 'condense terminal_figure', 'narrow end', 'squeeze term', 'compress destruction', 'reduce condition', 'get death', 'abbreviate terminal_figure', 'contract destruction', 'compress terminate', 'press terminate', 'foreshorten terminal_figure', 'contract_bridge closing', 'declaration full_term', 'squeeze destruction', 'get remainder', 'declaration terminate', 'squeeze final_stage', 'contract end', 'sign destruction', 'take full_term', 'cut terminal_figure', 'shrink finish', 'squeeze terminate', 'declaration condition', 'abridge terminus', 'constrict close', 'compact cease', 'condense close', 'abbreviate oddment', 'compact remainder', 'compact closing', 'compress goal', 'compress conclusion', 'shorten conclusion', 'get final_stage', 'compact end', 'press close', 'undertake term\\\\S\\\\s*\\\\S', 'sign_on terminus', 'foreshorten final_stage', 'contract stop', 'constrict condition', 'sign terminate', 'foreshorten ending', 'compact last', 'concentrate term', 'sign_up term', 'reduce term\\\\S\\\\s*\\\\S', 'get goal', 'declaration death', 'condense full_term', 'cut goal', 'sign_up death', 'concentrate final_stage', 'concentrate term\\\\S\\\\s*\\\\S', 'shorten stop', 'contract_bridge condition', 'abbreviate full_term', 'declaration destruction', 'shorten ending', 'condense end', 'sign_on conclusion', 'get terminal_figure', 'squeeze conclusion', 'abbreviate condition', 'shorten terminate', 'constrict terminus', 'contract_bridge oddment', 'squeeze remnant', 'concentrate close', 'shorten terminus', 'compress closing', 'contract conclusion', 'sign_up terminus', 'shrink last', 'constrict terminate', 'get end', 'contract_bridge last', 'undertake closing', 'declaration remnant', 'sign term\\\\S\\\\s*\\\\S', 'sign_on end', 'undertake cease', 'reduce stop', 'reduce end', 'abridge condition', 'shorten end', 'shorten last', 'sign_up oddment', 'abbreviate remainder', 'undertake remainder', 'get destruction', 'sign end', 'foreshorten closing', 'shorten death', 'compress oddment', 'take stop', 'cut close', 'press conclusion', 'narrow term', 'concentrate oddment', 'contract_bridge destruction', 'press stop', 'sign stop', 'declaration remainder', 'undertake conclusion', 'shrink remainder', 'cut remainder', 'abridge death', 'narrow conclusion'}\n"
     ]
    },
    {
     "name": "stdout",
     "output_type": "stream",
     "text": [
      "TX-19278 ASC-ENT (7.2.18).txt\n",
      "{'effectual date\\\\S\\\\s*\\\\S', 'efficacious', 'in_effect date\\\\S\\\\s*\\\\S', 'good', 'in_force', 'efficient', 'good date\\\\S\\\\s*\\\\S', 'effectual', 'in_effect', 'effective date\\\\S\\\\s*\\\\S', 'efficient date\\\\S\\\\s*\\\\S', 'in_force date\\\\S\\\\s*\\\\S', 'effective', 'efficacious date\\\\S\\\\s*\\\\S'}\n",
      "start:  2018-03-01 00:00:00\n",
      "{'get conclusion', 'compress terminus', 'sign_on full_term', 'abridge terminate', 'squeeze last', 'contract term\\\\S\\\\s*\\\\S', 'take close', 'foreshorten term', 'squeeze stop', 'sign ending', 'declaration term\\\\S\\\\s*\\\\S', 'shorten terminal_figure', 'shrink condition', 'sign remainder', 'reduce final_stage', 'sign_on close', 'abridge terminal', 'declaration end', 'take condition', 'compact stop', 'condense terminal', 'narrow last', 'sign_on last', 'sign terminal', 'declaration terminal_figure', 'shrink terminate', 'constrict stop', 'press last', 'contract_bridge ending', 'shorten finish', 'declaration stop', 'undertake final_stage', 'constrict goal', 'constrict remnant', 'contract term ', 'constrict full_term', 'compact finish', 'constrict remainder', 'compact full_term', 'shorten destruction', 'contract cease', 'compact ending', 'cut destruction', 'take conclusion', 'reduce remnant', 'sign_on term\\\\S\\\\s*\\\\S', 'sign_up remainder', 'compress stop', 'take terminal', 'press closing', 'take finish', 'shrink close', 'compress condition', 'concentrate ending', 'sign_up terminate', 'concentrate closing', 'sign_on stop', 'compact condition', 'contract_bridge terminal', 'constrict cease', 'shorten terminal', 'sign condition', 'sign_on cease', 'foreshorten terminate', 'take cease', 'shrink terminal_figure', 'contract terminal', 'cut term', 'abridge last', 'shrink ending', 'narrow destruction', 'contract terminal_figure', 'sign_up cease', 'condense closing', 'contract death', 'condense goal', 'undertake condition', 'squeeze goal', 'constrict terminal_figure', 'foreshorten conclusion', 'narrow death', 'compress end', 'get oddment', 'cut terminate', 'shrink destruction', 'sign_on terminal_figure', 'condense last', 'squeeze full_term', 'condense cease', 'abbreviate ending', 'concentrate destruction', 'abridge destruction', 'squeeze end', 'foreshorten last', 'constrict term', 'compress terminal_figure', 'shrink death', 'sign_up conclusion', 'sign_on destruction', 'sign_on terminal', 'squeeze terminal_figure', 'contract_bridge end', 'constrict final_stage', 'condense term', 'narrow final_stage', 'narrow goal', 'compress remnant', 'sign_on finish', 'undertake last', 'press terminal', 'press full_term', 'concentrate terminus', 'sign_up final_stage', 'sign_up terminal_figure', 'press final_stage', 'sign term', 'cut last', 'undertake full_term', 'squeeze terminus', 'shrink full_term', 'shrink stop', 'compact terminal_figure', 'compress death', 'contract_bridge finish', 'contract_bridge close', 'press finish', 'sign_up destruction', 'abbreviate death', 'abridge oddment', 'compress remainder', 'squeeze oddment', 'abridge ending', 'abbreviate conclusion', 'squeeze death', 'condense remainder', 'contract ending', 'contract_bridge term\\\\S\\\\s*\\\\S', 'shrink conclusion', 'sign_on oddment', 'contract_bridge conclusion', 'shorten full_term', 'abbreviate remnant', 'shrink goal', 'narrow ending', 'abbreviate terminus', 'get term', 'concentrate remainder', 'constrict ending', 'compress close', 'concentrate death', 'abbreviate end', 'get term\\\\S\\\\s*\\\\S', 'press ending', 'get remnant', 'squeeze close', 'get close', 'abbreviate stop', 'sign_on final_stage', 'declaration goal', 'undertake term', 'condense final_stage', 'sign_up goal', 'shorten cease', 'sign_up end', 'compress term\\\\S\\\\s*\\\\S', 'shrink cease', 'abbreviate closing', 'abridge full_term', 'abbreviate close', 'reduce oddment', 'compress final_stage', 'get stop', 'contract terminus', 'sign_up finish', 'undertake oddment', 'foreshorten goal', 'cut condition', 'reduce destruction', 'concentrate remnant', 'concentrate condition', 'press remainder', 'abridge stop', 'cut end', 'shrink term', 'sign_on remainder', 'press term', 'take final_stage', 'narrow close', 'sign_on terminate', 'sign_on condition', 'contract last', 'sign death', 'shorten condition', 'take end', 'take terminate', 'declaration cease', 'undertake terminus', 'sign terminus', 'compact destruction', 'narrow oddment', 'abridge conclusion', 'get ending', 'cut death', 'press cease', 'abridge final_stage', 'compress last', 'squeeze ending', 'undertake terminate', 'foreshorten close', 'narrow terminus', 'compact term\\\\S\\\\s*\\\\S', 'get finish', 'foreshorten cease', 'take remnant', 'get terminal', 'narrow full_term', 'declaration terminal', 'shorten term', 'contract_bridge cease', 'abridge term\\\\S\\\\s*\\\\S', 'shorten remnant', 'sign_up term\\\\S\\\\s*\\\\S', 'contract_bridge term', 'foreshorten death', 'contract_bridge death', 'contract_bridge remnant', 'contract_bridge terminus', 'condense oddment', 'press term\\\\S\\\\s*\\\\S', 'compact term', 'contract_bridge terminate', 'abbreviate goal', 'cut term\\\\S\\\\s*\\\\S', 'reduce last', 'sign closing', 'concentrate stop', 'undertake end', 'sign remnant', 'cut terminus', 'cut finish', 'contract term', 'condense term\\\\S\\\\s*\\\\S', 'foreshorten remainder', 'take destruction', 'declaration finish', 'get condition', 'sign goal', 'shrink closing', 'reduce ending', 'undertake ending', 'reduce terminus', 'compact goal', 'sign cease', 'sign_up remnant', 'compact oddment', 'cut ending', 'declaration close', 'undertake goal', 'take term', 'sign_on term', 'condense ending', 'cut conclusion', 'sign finish', 'reduce remainder', 'compress terminal', 'abridge finish', 'declaration ending', 'declaration last', 'squeeze terminal', 'narrow terminal_figure', 'cut cease', 'sign_on closing', 'press death', 'undertake remnant', 'foreshorten finish', 'take last', 'sign_up ending', 'squeeze remainder', 'reduce terminal', 'shorten remainder', 'undertake close', 'compact close', 'declaration terminus', 'declaration final_stage', 'abbreviate terminal', 'abridge closing', 'cut terminal', 'condense death', 'shorten goal', 'foreshorten term\\\\S\\\\s*\\\\S', 'sign final_stage', 'sign_up close', 'undertake destruction', 'shrink end', 'undertake death', 'press destruction', 'narrow cease', 'condense conclusion', 'condense condition', 'abbreviate last', 'concentrate terminal_figure', 'contract remainder', 'take terminus', 'press oddment', 'condense stop', 'shorten final_stage', 'get terminate', 'narrow remnant', 'get cease', 'sign close', 'reduce death', 'contract closing', 'compress full_term', 'contract_bridge final_stage', 'foreshorten end', 'take oddment', 'reduce finish', 'narrow term\\\\S\\\\s*\\\\S', 'contract final_stage', 'shrink terminal', 'abridge cease', 'concentrate conclusion', 'reduce full_term', 'contract terminate', 'sign_on goal', 'take death', 'foreshorten terminal', 'concentrate finish', 'reduce terminate', 'concentrate cease', 'contract finish', 'sign_on remnant', 'foreshorten oddment', 'foreshorten condition', 'cut final_stage', 'reduce close', 'compact terminate', 'abridge remainder', 'reduce conclusion', 'reduce closing', 'abridge end', 'compress finish', 'narrow remainder', 'sign last', 'constrict closing', 'contract_bridge goal', 'take term\\\\S\\\\s*\\\\S', 'sign_up stop', 'foreshorten full_term', 'constrict conclusion', 'cut stop', 'concentrate terminate', 'take closing', 'take remainder', 'declaration conclusion', 'foreshorten destruction', 'compact final_stage', 'squeeze finish', 'constrict last', 'contract goal', 'compact terminal', 'contract oddment', 'constrict end', 'sign oddment', 'constrict term\\\\S\\\\s*\\\\S', 'abbreviate term', 'compact conclusion', 'condense destruction', 'shorten oddment', 'shrink final_stage', 'contract full_term', 'press goal', 'undertake terminal_figure', 'constrict death', 'take ending', 'contract_bridge stop', 'contract_bridge remainder', 'shorten term\\\\S\\\\s*\\\\S', 'undertake stop', 'contract remnant', 'compact death', 'cut oddment', 'contract condition', 'narrow finish', 'concentrate last', 'sign_up terminal', 'abridge close', 'contract close', 'press condition', 'shrink terminus', 'squeeze term\\\\S\\\\s*\\\\S', 'condense terminate', 'declaration closing', 'undertake finish', 'sign_on ending', 'condense finish', 'sign full_term', 'concentrate terminal', 'foreshorten terminus', 'condense remnant', 'sign_up closing', 'concentrate end', 'abbreviate terminate', 'sign_up condition', 'cut full_term', 'concentrate full_term', 'squeeze cease', 'concentrate goal', 'press terminus', 'narrow terminal', 'shrink oddment', 'abbreviate final_stage', 'abridge term', 'abbreviate term\\\\S\\\\s*\\\\S', 'contract_bridge terminal_figure', 'constrict oddment', 'sign_up full_term', 'sign conclusion', 'get full_term', 'abridge remnant', 'shrink term\\\\S\\\\s*\\\\S', 'declaration term', 'sign terminal_figure', 'reduce terminal_figure', 'press remnant', 'contract_bridge full_term', 'compact remnant', 'get last', 'shorten close', 'squeeze condition', 'sign_on death', 'reduce cease', 'abbreviate finish', 'constrict terminal', 'foreshorten remnant', 'compact terminus', 'foreshorten stop', 'narrow terminate', 'press end', 'declaration oddment', 'reduce goal', 'take goal', 'abridge terminal_figure', 'compress cease', 'abbreviate destruction', 'abridge goal', 'compress ending', 'press terminal_figure', 'cut remnant', 'abbreviate cease', 'undertake terminal', 'shorten closing', 'condense terminus', 'reduce term', 'constrict finish', 'narrow closing', 'compress term', 'narrow stop', 'sign_up last', 'get terminus', 'take terminal_figure', 'squeeze closing', 'narrow condition', 'shrink remnant', 'get closing', 'cut closing', 'constrict destruction', 'condense terminal_figure', 'narrow end', 'squeeze term', 'compress destruction', 'reduce condition', 'get death', 'abbreviate terminal_figure', 'contract destruction', 'compress terminate', 'press terminate', 'foreshorten terminal_figure', 'contract_bridge closing', 'declaration full_term', 'squeeze destruction', 'get remainder', 'declaration terminate', 'squeeze final_stage', 'contract end', 'sign destruction', 'take full_term', 'cut terminal_figure', 'shrink finish', 'squeeze terminate', 'declaration condition', 'abridge terminus', 'constrict close', 'compact cease', 'condense close', 'abbreviate oddment', 'compact remainder', 'compact closing', 'compress goal', 'compress conclusion', 'shorten conclusion', 'get final_stage', 'compact end', 'press close', 'undertake term\\\\S\\\\s*\\\\S', 'sign_on terminus', 'foreshorten final_stage', 'contract stop', 'constrict condition', 'sign terminate', 'foreshorten ending', 'compact last', 'concentrate term', 'sign_up term', 'reduce term\\\\S\\\\s*\\\\S', 'get goal', 'declaration death', 'condense full_term', 'cut goal', 'sign_up death', 'concentrate final_stage', 'concentrate term\\\\S\\\\s*\\\\S', 'shorten stop', 'contract_bridge condition', 'abbreviate full_term', 'declaration destruction', 'shorten ending', 'condense end', 'sign_on conclusion', 'get terminal_figure', 'squeeze conclusion', 'abbreviate condition', 'shorten terminate', 'constrict terminus', 'contract_bridge oddment', 'squeeze remnant', 'concentrate close', 'shorten terminus', 'compress closing', 'contract conclusion', 'sign_up terminus', 'shrink last', 'constrict terminate', 'get end', 'contract_bridge last', 'undertake closing', 'declaration remnant', 'sign term\\\\S\\\\s*\\\\S', 'sign_on end', 'undertake cease', 'reduce stop', 'reduce end', 'abridge condition', 'shorten end', 'shorten last', 'sign_up oddment', 'abbreviate remainder', 'undertake remainder', 'get destruction', 'sign end', 'foreshorten closing', 'shorten death', 'compress oddment', 'take stop', 'cut close', 'press conclusion', 'narrow term', 'concentrate oddment', 'contract_bridge destruction', 'press stop', 'sign stop', 'declaration remainder', 'undertake conclusion', 'shrink remainder', 'cut remainder', 'abridge death', 'narrow conclusion'}\n"
     ]
    },
    {
     "name": "stdout",
     "output_type": "stream",
     "text": [
      "end:  2019-12-31 00:00:00\n",
      "test2.txt\n",
      "{'effectual date\\\\S\\\\s*\\\\S', 'efficacious', 'in_effect date\\\\S\\\\s*\\\\S', 'good', 'in_force', 'efficient', 'good date\\\\S\\\\s*\\\\S', 'effectual', 'in_effect', 'effective date\\\\S\\\\s*\\\\S', 'efficient date\\\\S\\\\s*\\\\S', 'in_force date\\\\S\\\\s*\\\\S', 'effective', 'efficacious date\\\\S\\\\s*\\\\S'}\n",
      "{'get conclusion', 'compress terminus', 'sign_on full_term', 'abridge terminate', 'squeeze last', 'contract term\\\\S\\\\s*\\\\S', 'take close', 'foreshorten term', 'squeeze stop', 'sign ending', 'declaration term\\\\S\\\\s*\\\\S', 'shorten terminal_figure', 'shrink condition', 'sign remainder', 'reduce final_stage', 'sign_on close', 'abridge terminal', 'declaration end', 'take condition', 'compact stop', 'condense terminal', 'narrow last', 'sign_on last', 'sign terminal', 'declaration terminal_figure', 'shrink terminate', 'constrict stop', 'press last', 'contract_bridge ending', 'shorten finish', 'declaration stop', 'undertake final_stage', 'constrict goal', 'constrict remnant', 'contract term ', 'constrict full_term', 'compact finish', 'constrict remainder', 'compact full_term', 'shorten destruction', 'contract cease', 'compact ending', 'cut destruction', 'take conclusion', 'reduce remnant', 'sign_on term\\\\S\\\\s*\\\\S', 'sign_up remainder', 'compress stop', 'take terminal', 'press closing', 'take finish', 'shrink close', 'compress condition', 'concentrate ending', 'sign_up terminate', 'concentrate closing', 'sign_on stop', 'compact condition', 'contract_bridge terminal', 'constrict cease', 'shorten terminal', 'sign condition', 'sign_on cease', 'foreshorten terminate', 'take cease', 'shrink terminal_figure', 'contract terminal', 'cut term', 'abridge last', 'shrink ending', 'narrow destruction', 'contract terminal_figure', 'sign_up cease', 'condense closing', 'contract death', 'condense goal', 'undertake condition', 'squeeze goal', 'constrict terminal_figure', 'foreshorten conclusion', 'narrow death', 'compress end', 'get oddment', 'cut terminate', 'shrink destruction', 'sign_on terminal_figure', 'condense last', 'squeeze full_term', 'condense cease', 'abbreviate ending', 'concentrate destruction', 'abridge destruction', 'squeeze end', 'foreshorten last', 'constrict term', 'compress terminal_figure', 'shrink death', 'sign_up conclusion', 'sign_on destruction', 'sign_on terminal', 'squeeze terminal_figure', 'contract_bridge end', 'constrict final_stage', 'condense term', 'narrow final_stage', 'narrow goal', 'compress remnant', 'sign_on finish', 'undertake last', 'press terminal', 'press full_term', 'concentrate terminus', 'sign_up final_stage', 'sign_up terminal_figure', 'press final_stage', 'sign term', 'cut last', 'undertake full_term', 'squeeze terminus', 'shrink full_term', 'shrink stop', 'compact terminal_figure', 'compress death', 'contract_bridge finish', 'contract_bridge close', 'press finish', 'sign_up destruction', 'abbreviate death', 'abridge oddment', 'compress remainder', 'squeeze oddment', 'abridge ending', 'abbreviate conclusion', 'squeeze death', 'condense remainder', 'contract ending', 'contract_bridge term\\\\S\\\\s*\\\\S', 'shrink conclusion', 'sign_on oddment', 'contract_bridge conclusion', 'shorten full_term', 'abbreviate remnant', 'shrink goal', 'narrow ending', 'abbreviate terminus', 'get term', 'concentrate remainder', 'constrict ending', 'compress close', 'concentrate death', 'abbreviate end', 'get term\\\\S\\\\s*\\\\S', 'press ending', 'get remnant', 'squeeze close', 'get close', 'abbreviate stop', 'sign_on final_stage', 'declaration goal', 'undertake term', 'condense final_stage', 'sign_up goal', 'shorten cease', 'sign_up end', 'compress term\\\\S\\\\s*\\\\S', 'shrink cease', 'abbreviate closing', 'abridge full_term', 'abbreviate close', 'reduce oddment', 'compress final_stage', 'get stop', 'contract terminus', 'sign_up finish', 'undertake oddment', 'foreshorten goal', 'cut condition', 'reduce destruction', 'concentrate remnant', 'concentrate condition', 'press remainder', 'abridge stop', 'cut end', 'shrink term', 'sign_on remainder', 'press term', 'take final_stage', 'narrow close', 'sign_on terminate', 'sign_on condition', 'contract last', 'sign death', 'shorten condition', 'take end', 'take terminate', 'declaration cease', 'undertake terminus', 'sign terminus', 'compact destruction', 'narrow oddment', 'abridge conclusion', 'get ending', 'cut death', 'press cease', 'abridge final_stage', 'compress last', 'squeeze ending', 'undertake terminate', 'foreshorten close', 'narrow terminus', 'compact term\\\\S\\\\s*\\\\S', 'get finish', 'foreshorten cease', 'take remnant', 'get terminal', 'narrow full_term', 'declaration terminal', 'shorten term', 'contract_bridge cease', 'abridge term\\\\S\\\\s*\\\\S', 'shorten remnant', 'sign_up term\\\\S\\\\s*\\\\S', 'contract_bridge term', 'foreshorten death', 'contract_bridge death', 'contract_bridge remnant', 'contract_bridge terminus', 'condense oddment', 'press term\\\\S\\\\s*\\\\S', 'compact term', 'contract_bridge terminate', 'abbreviate goal', 'cut term\\\\S\\\\s*\\\\S', 'reduce last', 'sign closing', 'concentrate stop', 'undertake end', 'sign remnant', 'cut terminus', 'cut finish', 'contract term', 'condense term\\\\S\\\\s*\\\\S', 'foreshorten remainder', 'take destruction', 'declaration finish', 'get condition', 'sign goal', 'shrink closing', 'reduce ending', 'undertake ending', 'reduce terminus', 'compact goal', 'sign cease', 'sign_up remnant', 'compact oddment', 'cut ending', 'declaration close', 'undertake goal', 'take term', 'sign_on term', 'condense ending', 'cut conclusion', 'sign finish', 'reduce remainder', 'compress terminal', 'abridge finish', 'declaration ending', 'declaration last', 'squeeze terminal', 'narrow terminal_figure', 'cut cease', 'sign_on closing', 'press death', 'undertake remnant', 'foreshorten finish', 'take last', 'sign_up ending', 'squeeze remainder', 'reduce terminal', 'shorten remainder', 'undertake close', 'compact close', 'declaration terminus', 'declaration final_stage', 'abbreviate terminal', 'abridge closing', 'cut terminal', 'condense death', 'shorten goal', 'foreshorten term\\\\S\\\\s*\\\\S', 'sign final_stage', 'sign_up close', 'undertake destruction', 'shrink end', 'undertake death', 'press destruction', 'narrow cease', 'condense conclusion', 'condense condition', 'abbreviate last', 'concentrate terminal_figure', 'contract remainder', 'take terminus', 'press oddment', 'condense stop', 'shorten final_stage', 'get terminate', 'narrow remnant', 'get cease', 'sign close', 'reduce death', 'contract closing', 'compress full_term', 'contract_bridge final_stage', 'foreshorten end', 'take oddment', 'reduce finish', 'narrow term\\\\S\\\\s*\\\\S', 'contract final_stage', 'shrink terminal', 'abridge cease', 'concentrate conclusion', 'reduce full_term', 'contract terminate', 'sign_on goal', 'take death', 'foreshorten terminal', 'concentrate finish', 'reduce terminate', 'concentrate cease', 'contract finish', 'sign_on remnant', 'foreshorten oddment', 'foreshorten condition', 'cut final_stage', 'reduce close', 'compact terminate', 'abridge remainder', 'reduce conclusion', 'reduce closing', 'abridge end', 'compress finish', 'narrow remainder', 'sign last', 'constrict closing', 'contract_bridge goal', 'take term\\\\S\\\\s*\\\\S', 'sign_up stop', 'foreshorten full_term', 'constrict conclusion', 'cut stop', 'concentrate terminate', 'take closing', 'take remainder', 'declaration conclusion', 'foreshorten destruction', 'compact final_stage', 'squeeze finish', 'constrict last', 'contract goal', 'compact terminal', 'contract oddment', 'constrict end', 'sign oddment', 'constrict term\\\\S\\\\s*\\\\S', 'abbreviate term', 'compact conclusion', 'condense destruction', 'shorten oddment', 'shrink final_stage', 'contract full_term', 'press goal', 'undertake terminal_figure', 'constrict death', 'take ending', 'contract_bridge stop', 'contract_bridge remainder', 'shorten term\\\\S\\\\s*\\\\S', 'undertake stop', 'contract remnant', 'compact death', 'cut oddment', 'contract condition', 'narrow finish', 'concentrate last', 'sign_up terminal', 'abridge close', 'contract close', 'press condition', 'shrink terminus', 'squeeze term\\\\S\\\\s*\\\\S', 'condense terminate', 'declaration closing', 'undertake finish', 'sign_on ending', 'condense finish', 'sign full_term', 'concentrate terminal', 'foreshorten terminus', 'condense remnant', 'sign_up closing', 'concentrate end', 'abbreviate terminate', 'sign_up condition', 'cut full_term', 'concentrate full_term', 'squeeze cease', 'concentrate goal', 'press terminus', 'narrow terminal', 'shrink oddment', 'abbreviate final_stage', 'abridge term', 'abbreviate term\\\\S\\\\s*\\\\S', 'contract_bridge terminal_figure', 'constrict oddment', 'sign_up full_term', 'sign conclusion', 'get full_term', 'abridge remnant', 'shrink term\\\\S\\\\s*\\\\S', 'declaration term', 'sign terminal_figure', 'reduce terminal_figure', 'press remnant', 'contract_bridge full_term', 'compact remnant', 'get last', 'shorten close', 'squeeze condition', 'sign_on death', 'reduce cease', 'abbreviate finish', 'constrict terminal', 'foreshorten remnant', 'compact terminus', 'foreshorten stop', 'narrow terminate', 'press end', 'declaration oddment', 'reduce goal', 'take goal', 'abridge terminal_figure', 'compress cease', 'abbreviate destruction', 'abridge goal', 'compress ending', 'press terminal_figure', 'cut remnant', 'abbreviate cease', 'undertake terminal', 'shorten closing', 'condense terminus', 'reduce term', 'constrict finish', 'narrow closing', 'compress term', 'narrow stop', 'sign_up last', 'get terminus', 'take terminal_figure', 'squeeze closing', 'narrow condition', 'shrink remnant', 'get closing', 'cut closing', 'constrict destruction', 'condense terminal_figure', 'narrow end', 'squeeze term', 'compress destruction', 'reduce condition', 'get death', 'abbreviate terminal_figure', 'contract destruction', 'compress terminate', 'press terminate', 'foreshorten terminal_figure', 'contract_bridge closing', 'declaration full_term', 'squeeze destruction', 'get remainder', 'declaration terminate', 'squeeze final_stage', 'contract end', 'sign destruction', 'take full_term', 'cut terminal_figure', 'shrink finish', 'squeeze terminate', 'declaration condition', 'abridge terminus', 'constrict close', 'compact cease', 'condense close', 'abbreviate oddment', 'compact remainder', 'compact closing', 'compress goal', 'compress conclusion', 'shorten conclusion', 'get final_stage', 'compact end', 'press close', 'undertake term\\\\S\\\\s*\\\\S', 'sign_on terminus', 'foreshorten final_stage', 'contract stop', 'constrict condition', 'sign terminate', 'foreshorten ending', 'compact last', 'concentrate term', 'sign_up term', 'reduce term\\\\S\\\\s*\\\\S', 'get goal', 'declaration death', 'condense full_term', 'cut goal', 'sign_up death', 'concentrate final_stage', 'concentrate term\\\\S\\\\s*\\\\S', 'shorten stop', 'contract_bridge condition', 'abbreviate full_term', 'declaration destruction', 'shorten ending', 'condense end', 'sign_on conclusion', 'get terminal_figure', 'squeeze conclusion', 'abbreviate condition', 'shorten terminate', 'constrict terminus', 'contract_bridge oddment', 'squeeze remnant', 'concentrate close', 'shorten terminus', 'compress closing', 'contract conclusion', 'sign_up terminus', 'shrink last', 'constrict terminate', 'get end', 'contract_bridge last', 'undertake closing', 'declaration remnant', 'sign term\\\\S\\\\s*\\\\S', 'sign_on end', 'undertake cease', 'reduce stop', 'reduce end', 'abridge condition', 'shorten end', 'shorten last', 'sign_up oddment', 'abbreviate remainder', 'undertake remainder', 'get destruction', 'sign end', 'foreshorten closing', 'shorten death', 'compress oddment', 'take stop', 'cut close', 'press conclusion', 'narrow term', 'concentrate oddment', 'contract_bridge destruction', 'press stop', 'sign stop', 'declaration remainder', 'undertake conclusion', 'shrink remainder', 'cut remainder', 'abridge death', 'narrow conclusion'}\n",
      "TX 19015 Contract ENT (7.2.18).txt\n",
      "{'effectual date\\\\S\\\\s*\\\\S', 'efficacious', 'in_effect date\\\\S\\\\s*\\\\S', 'good', 'in_force', 'efficient', 'good date\\\\S\\\\s*\\\\S', 'effectual', 'in_effect', 'effective date\\\\S\\\\s*\\\\S', 'efficient date\\\\S\\\\s*\\\\S', 'in_force date\\\\S\\\\s*\\\\S', 'effective', 'efficacious date\\\\S\\\\s*\\\\S'}\n",
      "{'get conclusion', 'compress terminus', 'sign_on full_term', 'abridge terminate', 'squeeze last', 'contract term\\\\S\\\\s*\\\\S', 'take close', 'foreshorten term', 'squeeze stop', 'sign ending', 'declaration term\\\\S\\\\s*\\\\S', 'shorten terminal_figure', 'shrink condition', 'sign remainder', 'reduce final_stage', 'sign_on close', 'abridge terminal', 'declaration end', 'take condition', 'compact stop', 'condense terminal', 'narrow last', 'sign_on last', 'sign terminal', 'declaration terminal_figure', 'shrink terminate', 'constrict stop', 'press last', 'contract_bridge ending', 'shorten finish', 'declaration stop', 'undertake final_stage', 'constrict goal', 'constrict remnant', 'contract term ', 'constrict full_term', 'compact finish', 'constrict remainder', 'compact full_term', 'shorten destruction', 'contract cease', 'compact ending', 'cut destruction', 'take conclusion', 'reduce remnant', 'sign_on term\\\\S\\\\s*\\\\S', 'sign_up remainder', 'compress stop', 'take terminal', 'press closing', 'take finish', 'shrink close', 'compress condition', 'concentrate ending', 'sign_up terminate', 'concentrate closing', 'sign_on stop', 'compact condition', 'contract_bridge terminal', 'constrict cease', 'shorten terminal', 'sign condition', 'sign_on cease', 'foreshorten terminate', 'take cease', 'shrink terminal_figure', 'contract terminal', 'cut term', 'abridge last', 'shrink ending', 'narrow destruction', 'contract terminal_figure', 'sign_up cease', 'condense closing', 'contract death', 'condense goal', 'undertake condition', 'squeeze goal', 'constrict terminal_figure', 'foreshorten conclusion', 'narrow death', 'compress end', 'get oddment', 'cut terminate', 'shrink destruction', 'sign_on terminal_figure', 'condense last', 'squeeze full_term', 'condense cease', 'abbreviate ending', 'concentrate destruction', 'abridge destruction', 'squeeze end', 'foreshorten last', 'constrict term', 'compress terminal_figure', 'shrink death', 'sign_up conclusion', 'sign_on destruction', 'sign_on terminal', 'squeeze terminal_figure', 'contract_bridge end', 'constrict final_stage', 'condense term', 'narrow final_stage', 'narrow goal', 'compress remnant', 'sign_on finish', 'undertake last', 'press terminal', 'press full_term', 'concentrate terminus', 'sign_up final_stage', 'sign_up terminal_figure', 'press final_stage', 'sign term', 'cut last', 'undertake full_term', 'squeeze terminus', 'shrink full_term', 'shrink stop', 'compact terminal_figure', 'compress death', 'contract_bridge finish', 'contract_bridge close', 'press finish', 'sign_up destruction', 'abbreviate death', 'abridge oddment', 'compress remainder', 'squeeze oddment', 'abridge ending', 'abbreviate conclusion', 'squeeze death', 'condense remainder', 'contract ending', 'contract_bridge term\\\\S\\\\s*\\\\S', 'shrink conclusion', 'sign_on oddment', 'contract_bridge conclusion', 'shorten full_term', 'abbreviate remnant', 'shrink goal', 'narrow ending', 'abbreviate terminus', 'get term', 'concentrate remainder', 'constrict ending', 'compress close', 'concentrate death', 'abbreviate end', 'get term\\\\S\\\\s*\\\\S', 'press ending', 'get remnant', 'squeeze close', 'get close', 'abbreviate stop', 'sign_on final_stage', 'declaration goal', 'undertake term', 'condense final_stage', 'sign_up goal', 'shorten cease', 'sign_up end', 'compress term\\\\S\\\\s*\\\\S', 'shrink cease', 'abbreviate closing', 'abridge full_term', 'abbreviate close', 'reduce oddment', 'compress final_stage', 'get stop', 'contract terminus', 'sign_up finish', 'undertake oddment', 'foreshorten goal', 'cut condition', 'reduce destruction', 'concentrate remnant', 'concentrate condition', 'press remainder', 'abridge stop', 'cut end', 'shrink term', 'sign_on remainder', 'press term', 'take final_stage', 'narrow close', 'sign_on terminate', 'sign_on condition', 'contract last', 'sign death', 'shorten condition', 'take end', 'take terminate', 'declaration cease', 'undertake terminus', 'sign terminus', 'compact destruction', 'narrow oddment', 'abridge conclusion', 'get ending', 'cut death', 'press cease', 'abridge final_stage', 'compress last', 'squeeze ending', 'undertake terminate', 'foreshorten close', 'narrow terminus', 'compact term\\\\S\\\\s*\\\\S', 'get finish', 'foreshorten cease', 'take remnant', 'get terminal', 'narrow full_term', 'declaration terminal', 'shorten term', 'contract_bridge cease', 'abridge term\\\\S\\\\s*\\\\S', 'shorten remnant', 'sign_up term\\\\S\\\\s*\\\\S', 'contract_bridge term', 'foreshorten death', 'contract_bridge death', 'contract_bridge remnant', 'contract_bridge terminus', 'condense oddment', 'press term\\\\S\\\\s*\\\\S', 'compact term', 'contract_bridge terminate', 'abbreviate goal', 'cut term\\\\S\\\\s*\\\\S', 'reduce last', 'sign closing', 'concentrate stop', 'undertake end', 'sign remnant', 'cut terminus', 'cut finish', 'contract term', 'condense term\\\\S\\\\s*\\\\S', 'foreshorten remainder', 'take destruction', 'declaration finish', 'get condition', 'sign goal', 'shrink closing', 'reduce ending', 'undertake ending', 'reduce terminus', 'compact goal', 'sign cease', 'sign_up remnant', 'compact oddment', 'cut ending', 'declaration close', 'undertake goal', 'take term', 'sign_on term', 'condense ending', 'cut conclusion', 'sign finish', 'reduce remainder', 'compress terminal', 'abridge finish', 'declaration ending', 'declaration last', 'squeeze terminal', 'narrow terminal_figure', 'cut cease', 'sign_on closing', 'press death', 'undertake remnant', 'foreshorten finish', 'take last', 'sign_up ending', 'squeeze remainder', 'reduce terminal', 'shorten remainder', 'undertake close', 'compact close', 'declaration terminus', 'declaration final_stage', 'abbreviate terminal', 'abridge closing', 'cut terminal', 'condense death', 'shorten goal', 'foreshorten term\\\\S\\\\s*\\\\S', 'sign final_stage', 'sign_up close', 'undertake destruction', 'shrink end', 'undertake death', 'press destruction', 'narrow cease', 'condense conclusion', 'condense condition', 'abbreviate last', 'concentrate terminal_figure', 'contract remainder', 'take terminus', 'press oddment', 'condense stop', 'shorten final_stage', 'get terminate', 'narrow remnant', 'get cease', 'sign close', 'reduce death', 'contract closing', 'compress full_term', 'contract_bridge final_stage', 'foreshorten end', 'take oddment', 'reduce finish', 'narrow term\\\\S\\\\s*\\\\S', 'contract final_stage', 'shrink terminal', 'abridge cease', 'concentrate conclusion', 'reduce full_term', 'contract terminate', 'sign_on goal', 'take death', 'foreshorten terminal', 'concentrate finish', 'reduce terminate', 'concentrate cease', 'contract finish', 'sign_on remnant', 'foreshorten oddment', 'foreshorten condition', 'cut final_stage', 'reduce close', 'compact terminate', 'abridge remainder', 'reduce conclusion', 'reduce closing', 'abridge end', 'compress finish', 'narrow remainder', 'sign last', 'constrict closing', 'contract_bridge goal', 'take term\\\\S\\\\s*\\\\S', 'sign_up stop', 'foreshorten full_term', 'constrict conclusion', 'cut stop', 'concentrate terminate', 'take closing', 'take remainder', 'declaration conclusion', 'foreshorten destruction', 'compact final_stage', 'squeeze finish', 'constrict last', 'contract goal', 'compact terminal', 'contract oddment', 'constrict end', 'sign oddment', 'constrict term\\\\S\\\\s*\\\\S', 'abbreviate term', 'compact conclusion', 'condense destruction', 'shorten oddment', 'shrink final_stage', 'contract full_term', 'press goal', 'undertake terminal_figure', 'constrict death', 'take ending', 'contract_bridge stop', 'contract_bridge remainder', 'shorten term\\\\S\\\\s*\\\\S', 'undertake stop', 'contract remnant', 'compact death', 'cut oddment', 'contract condition', 'narrow finish', 'concentrate last', 'sign_up terminal', 'abridge close', 'contract close', 'press condition', 'shrink terminus', 'squeeze term\\\\S\\\\s*\\\\S', 'condense terminate', 'declaration closing', 'undertake finish', 'sign_on ending', 'condense finish', 'sign full_term', 'concentrate terminal', 'foreshorten terminus', 'condense remnant', 'sign_up closing', 'concentrate end', 'abbreviate terminate', 'sign_up condition', 'cut full_term', 'concentrate full_term', 'squeeze cease', 'concentrate goal', 'press terminus', 'narrow terminal', 'shrink oddment', 'abbreviate final_stage', 'abridge term', 'abbreviate term\\\\S\\\\s*\\\\S', 'contract_bridge terminal_figure', 'constrict oddment', 'sign_up full_term', 'sign conclusion', 'get full_term', 'abridge remnant', 'shrink term\\\\S\\\\s*\\\\S', 'declaration term', 'sign terminal_figure', 'reduce terminal_figure', 'press remnant', 'contract_bridge full_term', 'compact remnant', 'get last', 'shorten close', 'squeeze condition', 'sign_on death', 'reduce cease', 'abbreviate finish', 'constrict terminal', 'foreshorten remnant', 'compact terminus', 'foreshorten stop', 'narrow terminate', 'press end', 'declaration oddment', 'reduce goal', 'take goal', 'abridge terminal_figure', 'compress cease', 'abbreviate destruction', 'abridge goal', 'compress ending', 'press terminal_figure', 'cut remnant', 'abbreviate cease', 'undertake terminal', 'shorten closing', 'condense terminus', 'reduce term', 'constrict finish', 'narrow closing', 'compress term', 'narrow stop', 'sign_up last', 'get terminus', 'take terminal_figure', 'squeeze closing', 'narrow condition', 'shrink remnant', 'get closing', 'cut closing', 'constrict destruction', 'condense terminal_figure', 'narrow end', 'squeeze term', 'compress destruction', 'reduce condition', 'get death', 'abbreviate terminal_figure', 'contract destruction', 'compress terminate', 'press terminate', 'foreshorten terminal_figure', 'contract_bridge closing', 'declaration full_term', 'squeeze destruction', 'get remainder', 'declaration terminate', 'squeeze final_stage', 'contract end', 'sign destruction', 'take full_term', 'cut terminal_figure', 'shrink finish', 'squeeze terminate', 'declaration condition', 'abridge terminus', 'constrict close', 'compact cease', 'condense close', 'abbreviate oddment', 'compact remainder', 'compact closing', 'compress goal', 'compress conclusion', 'shorten conclusion', 'get final_stage', 'compact end', 'press close', 'undertake term\\\\S\\\\s*\\\\S', 'sign_on terminus', 'foreshorten final_stage', 'contract stop', 'constrict condition', 'sign terminate', 'foreshorten ending', 'compact last', 'concentrate term', 'sign_up term', 'reduce term\\\\S\\\\s*\\\\S', 'get goal', 'declaration death', 'condense full_term', 'cut goal', 'sign_up death', 'concentrate final_stage', 'concentrate term\\\\S\\\\s*\\\\S', 'shorten stop', 'contract_bridge condition', 'abbreviate full_term', 'declaration destruction', 'shorten ending', 'condense end', 'sign_on conclusion', 'get terminal_figure', 'squeeze conclusion', 'abbreviate condition', 'shorten terminate', 'constrict terminus', 'contract_bridge oddment', 'squeeze remnant', 'concentrate close', 'shorten terminus', 'compress closing', 'contract conclusion', 'sign_up terminus', 'shrink last', 'constrict terminate', 'get end', 'contract_bridge last', 'undertake closing', 'declaration remnant', 'sign term\\\\S\\\\s*\\\\S', 'sign_on end', 'undertake cease', 'reduce stop', 'reduce end', 'abridge condition', 'shorten end', 'shorten last', 'sign_up oddment', 'abbreviate remainder', 'undertake remainder', 'get destruction', 'sign end', 'foreshorten closing', 'shorten death', 'compress oddment', 'take stop', 'cut close', 'press conclusion', 'narrow term', 'concentrate oddment', 'contract_bridge destruction', 'press stop', 'sign stop', 'declaration remainder', 'undertake conclusion', 'shrink remainder', 'cut remainder', 'abridge death', 'narrow conclusion'}\n"
     ]
    },
    {
     "name": "stdout",
     "output_type": "stream",
     "text": [
      "test2-pdf.txt\n",
      "{'effectual date\\\\S\\\\s*\\\\S', 'efficacious', 'in_effect date\\\\S\\\\s*\\\\S', 'good', 'in_force', 'efficient', 'good date\\\\S\\\\s*\\\\S', 'effectual', 'in_effect', 'effective date\\\\S\\\\s*\\\\S', 'efficient date\\\\S\\\\s*\\\\S', 'in_force date\\\\S\\\\s*\\\\S', 'effective', 'efficacious date\\\\S\\\\s*\\\\S'}\n",
      "{'get conclusion', 'compress terminus', 'sign_on full_term', 'abridge terminate', 'squeeze last', 'contract term\\\\S\\\\s*\\\\S', 'take close', 'foreshorten term', 'squeeze stop', 'sign ending', 'declaration term\\\\S\\\\s*\\\\S', 'shorten terminal_figure', 'shrink condition', 'sign remainder', 'reduce final_stage', 'sign_on close', 'abridge terminal', 'declaration end', 'take condition', 'compact stop', 'condense terminal', 'narrow last', 'sign_on last', 'sign terminal', 'declaration terminal_figure', 'shrink terminate', 'constrict stop', 'press last', 'contract_bridge ending', 'shorten finish', 'declaration stop', 'undertake final_stage', 'constrict goal', 'constrict remnant', 'contract term ', 'constrict full_term', 'compact finish', 'constrict remainder', 'compact full_term', 'shorten destruction', 'contract cease', 'compact ending', 'cut destruction', 'take conclusion', 'reduce remnant', 'sign_on term\\\\S\\\\s*\\\\S', 'sign_up remainder', 'compress stop', 'take terminal', 'press closing', 'take finish', 'shrink close', 'compress condition', 'concentrate ending', 'sign_up terminate', 'concentrate closing', 'sign_on stop', 'compact condition', 'contract_bridge terminal', 'constrict cease', 'shorten terminal', 'sign condition', 'sign_on cease', 'foreshorten terminate', 'take cease', 'shrink terminal_figure', 'contract terminal', 'cut term', 'abridge last', 'shrink ending', 'narrow destruction', 'contract terminal_figure', 'sign_up cease', 'condense closing', 'contract death', 'condense goal', 'undertake condition', 'squeeze goal', 'constrict terminal_figure', 'foreshorten conclusion', 'narrow death', 'compress end', 'get oddment', 'cut terminate', 'shrink destruction', 'sign_on terminal_figure', 'condense last', 'squeeze full_term', 'condense cease', 'abbreviate ending', 'concentrate destruction', 'abridge destruction', 'squeeze end', 'foreshorten last', 'constrict term', 'compress terminal_figure', 'shrink death', 'sign_up conclusion', 'sign_on destruction', 'sign_on terminal', 'squeeze terminal_figure', 'contract_bridge end', 'constrict final_stage', 'condense term', 'narrow final_stage', 'narrow goal', 'compress remnant', 'sign_on finish', 'undertake last', 'press terminal', 'press full_term', 'concentrate terminus', 'sign_up final_stage', 'sign_up terminal_figure', 'press final_stage', 'sign term', 'cut last', 'undertake full_term', 'squeeze terminus', 'shrink full_term', 'shrink stop', 'compact terminal_figure', 'compress death', 'contract_bridge finish', 'contract_bridge close', 'press finish', 'sign_up destruction', 'abbreviate death', 'abridge oddment', 'compress remainder', 'squeeze oddment', 'abridge ending', 'abbreviate conclusion', 'squeeze death', 'condense remainder', 'contract ending', 'contract_bridge term\\\\S\\\\s*\\\\S', 'shrink conclusion', 'sign_on oddment', 'contract_bridge conclusion', 'shorten full_term', 'abbreviate remnant', 'shrink goal', 'narrow ending', 'abbreviate terminus', 'get term', 'concentrate remainder', 'constrict ending', 'compress close', 'concentrate death', 'abbreviate end', 'get term\\\\S\\\\s*\\\\S', 'press ending', 'get remnant', 'squeeze close', 'get close', 'abbreviate stop', 'sign_on final_stage', 'declaration goal', 'undertake term', 'condense final_stage', 'sign_up goal', 'shorten cease', 'sign_up end', 'compress term\\\\S\\\\s*\\\\S', 'shrink cease', 'abbreviate closing', 'abridge full_term', 'abbreviate close', 'reduce oddment', 'compress final_stage', 'get stop', 'contract terminus', 'sign_up finish', 'undertake oddment', 'foreshorten goal', 'cut condition', 'reduce destruction', 'concentrate remnant', 'concentrate condition', 'press remainder', 'abridge stop', 'cut end', 'shrink term', 'sign_on remainder', 'press term', 'take final_stage', 'narrow close', 'sign_on terminate', 'sign_on condition', 'contract last', 'sign death', 'shorten condition', 'take end', 'take terminate', 'declaration cease', 'undertake terminus', 'sign terminus', 'compact destruction', 'narrow oddment', 'abridge conclusion', 'get ending', 'cut death', 'press cease', 'abridge final_stage', 'compress last', 'squeeze ending', 'undertake terminate', 'foreshorten close', 'narrow terminus', 'compact term\\\\S\\\\s*\\\\S', 'get finish', 'foreshorten cease', 'take remnant', 'get terminal', 'narrow full_term', 'declaration terminal', 'shorten term', 'contract_bridge cease', 'abridge term\\\\S\\\\s*\\\\S', 'shorten remnant', 'sign_up term\\\\S\\\\s*\\\\S', 'contract_bridge term', 'foreshorten death', 'contract_bridge death', 'contract_bridge remnant', 'contract_bridge terminus', 'condense oddment', 'press term\\\\S\\\\s*\\\\S', 'compact term', 'contract_bridge terminate', 'abbreviate goal', 'cut term\\\\S\\\\s*\\\\S', 'reduce last', 'sign closing', 'concentrate stop', 'undertake end', 'sign remnant', 'cut terminus', 'cut finish', 'contract term', 'condense term\\\\S\\\\s*\\\\S', 'foreshorten remainder', 'take destruction', 'declaration finish', 'get condition', 'sign goal', 'shrink closing', 'reduce ending', 'undertake ending', 'reduce terminus', 'compact goal', 'sign cease', 'sign_up remnant', 'compact oddment', 'cut ending', 'declaration close', 'undertake goal', 'take term', 'sign_on term', 'condense ending', 'cut conclusion', 'sign finish', 'reduce remainder', 'compress terminal', 'abridge finish', 'declaration ending', 'declaration last', 'squeeze terminal', 'narrow terminal_figure', 'cut cease', 'sign_on closing', 'press death', 'undertake remnant', 'foreshorten finish', 'take last', 'sign_up ending', 'squeeze remainder', 'reduce terminal', 'shorten remainder', 'undertake close', 'compact close', 'declaration terminus', 'declaration final_stage', 'abbreviate terminal', 'abridge closing', 'cut terminal', 'condense death', 'shorten goal', 'foreshorten term\\\\S\\\\s*\\\\S', 'sign final_stage', 'sign_up close', 'undertake destruction', 'shrink end', 'undertake death', 'press destruction', 'narrow cease', 'condense conclusion', 'condense condition', 'abbreviate last', 'concentrate terminal_figure', 'contract remainder', 'take terminus', 'press oddment', 'condense stop', 'shorten final_stage', 'get terminate', 'narrow remnant', 'get cease', 'sign close', 'reduce death', 'contract closing', 'compress full_term', 'contract_bridge final_stage', 'foreshorten end', 'take oddment', 'reduce finish', 'narrow term\\\\S\\\\s*\\\\S', 'contract final_stage', 'shrink terminal', 'abridge cease', 'concentrate conclusion', 'reduce full_term', 'contract terminate', 'sign_on goal', 'take death', 'foreshorten terminal', 'concentrate finish', 'reduce terminate', 'concentrate cease', 'contract finish', 'sign_on remnant', 'foreshorten oddment', 'foreshorten condition', 'cut final_stage', 'reduce close', 'compact terminate', 'abridge remainder', 'reduce conclusion', 'reduce closing', 'abridge end', 'compress finish', 'narrow remainder', 'sign last', 'constrict closing', 'contract_bridge goal', 'take term\\\\S\\\\s*\\\\S', 'sign_up stop', 'foreshorten full_term', 'constrict conclusion', 'cut stop', 'concentrate terminate', 'take closing', 'take remainder', 'declaration conclusion', 'foreshorten destruction', 'compact final_stage', 'squeeze finish', 'constrict last', 'contract goal', 'compact terminal', 'contract oddment', 'constrict end', 'sign oddment', 'constrict term\\\\S\\\\s*\\\\S', 'abbreviate term', 'compact conclusion', 'condense destruction', 'shorten oddment', 'shrink final_stage', 'contract full_term', 'press goal', 'undertake terminal_figure', 'constrict death', 'take ending', 'contract_bridge stop', 'contract_bridge remainder', 'shorten term\\\\S\\\\s*\\\\S', 'undertake stop', 'contract remnant', 'compact death', 'cut oddment', 'contract condition', 'narrow finish', 'concentrate last', 'sign_up terminal', 'abridge close', 'contract close', 'press condition', 'shrink terminus', 'squeeze term\\\\S\\\\s*\\\\S', 'condense terminate', 'declaration closing', 'undertake finish', 'sign_on ending', 'condense finish', 'sign full_term', 'concentrate terminal', 'foreshorten terminus', 'condense remnant', 'sign_up closing', 'concentrate end', 'abbreviate terminate', 'sign_up condition', 'cut full_term', 'concentrate full_term', 'squeeze cease', 'concentrate goal', 'press terminus', 'narrow terminal', 'shrink oddment', 'abbreviate final_stage', 'abridge term', 'abbreviate term\\\\S\\\\s*\\\\S', 'contract_bridge terminal_figure', 'constrict oddment', 'sign_up full_term', 'sign conclusion', 'get full_term', 'abridge remnant', 'shrink term\\\\S\\\\s*\\\\S', 'declaration term', 'sign terminal_figure', 'reduce terminal_figure', 'press remnant', 'contract_bridge full_term', 'compact remnant', 'get last', 'shorten close', 'squeeze condition', 'sign_on death', 'reduce cease', 'abbreviate finish', 'constrict terminal', 'foreshorten remnant', 'compact terminus', 'foreshorten stop', 'narrow terminate', 'press end', 'declaration oddment', 'reduce goal', 'take goal', 'abridge terminal_figure', 'compress cease', 'abbreviate destruction', 'abridge goal', 'compress ending', 'press terminal_figure', 'cut remnant', 'abbreviate cease', 'undertake terminal', 'shorten closing', 'condense terminus', 'reduce term', 'constrict finish', 'narrow closing', 'compress term', 'narrow stop', 'sign_up last', 'get terminus', 'take terminal_figure', 'squeeze closing', 'narrow condition', 'shrink remnant', 'get closing', 'cut closing', 'constrict destruction', 'condense terminal_figure', 'narrow end', 'squeeze term', 'compress destruction', 'reduce condition', 'get death', 'abbreviate terminal_figure', 'contract destruction', 'compress terminate', 'press terminate', 'foreshorten terminal_figure', 'contract_bridge closing', 'declaration full_term', 'squeeze destruction', 'get remainder', 'declaration terminate', 'squeeze final_stage', 'contract end', 'sign destruction', 'take full_term', 'cut terminal_figure', 'shrink finish', 'squeeze terminate', 'declaration condition', 'abridge terminus', 'constrict close', 'compact cease', 'condense close', 'abbreviate oddment', 'compact remainder', 'compact closing', 'compress goal', 'compress conclusion', 'shorten conclusion', 'get final_stage', 'compact end', 'press close', 'undertake term\\\\S\\\\s*\\\\S', 'sign_on terminus', 'foreshorten final_stage', 'contract stop', 'constrict condition', 'sign terminate', 'foreshorten ending', 'compact last', 'concentrate term', 'sign_up term', 'reduce term\\\\S\\\\s*\\\\S', 'get goal', 'declaration death', 'condense full_term', 'cut goal', 'sign_up death', 'concentrate final_stage', 'concentrate term\\\\S\\\\s*\\\\S', 'shorten stop', 'contract_bridge condition', 'abbreviate full_term', 'declaration destruction', 'shorten ending', 'condense end', 'sign_on conclusion', 'get terminal_figure', 'squeeze conclusion', 'abbreviate condition', 'shorten terminate', 'constrict terminus', 'contract_bridge oddment', 'squeeze remnant', 'concentrate close', 'shorten terminus', 'compress closing', 'contract conclusion', 'sign_up terminus', 'shrink last', 'constrict terminate', 'get end', 'contract_bridge last', 'undertake closing', 'declaration remnant', 'sign term\\\\S\\\\s*\\\\S', 'sign_on end', 'undertake cease', 'reduce stop', 'reduce end', 'abridge condition', 'shorten end', 'shorten last', 'sign_up oddment', 'abbreviate remainder', 'undertake remainder', 'get destruction', 'sign end', 'foreshorten closing', 'shorten death', 'compress oddment', 'take stop', 'cut close', 'press conclusion', 'narrow term', 'concentrate oddment', 'contract_bridge destruction', 'press stop', 'sign stop', 'declaration remainder', 'undertake conclusion', 'shrink remainder', 'cut remainder', 'abridge death', 'narrow conclusion'}\n",
      "TX 17404 Contract Regional (7.2.18)-pdf.txt\n",
      "{'effectual date\\\\S\\\\s*\\\\S', 'efficacious', 'in_effect date\\\\S\\\\s*\\\\S', 'good', 'in_force', 'efficient', 'good date\\\\S\\\\s*\\\\S', 'effectual', 'in_effect', 'effective date\\\\S\\\\s*\\\\S', 'efficient date\\\\S\\\\s*\\\\S', 'in_force date\\\\S\\\\s*\\\\S', 'effective', 'efficacious date\\\\S\\\\s*\\\\S'}\n",
      "{'get conclusion', 'compress terminus', 'sign_on full_term', 'abridge terminate', 'squeeze last', 'contract term\\\\S\\\\s*\\\\S', 'take close', 'foreshorten term', 'squeeze stop', 'sign ending', 'declaration term\\\\S\\\\s*\\\\S', 'shorten terminal_figure', 'shrink condition', 'sign remainder', 'reduce final_stage', 'sign_on close', 'abridge terminal', 'declaration end', 'take condition', 'compact stop', 'condense terminal', 'narrow last', 'sign_on last', 'sign terminal', 'declaration terminal_figure', 'shrink terminate', 'constrict stop', 'press last', 'contract_bridge ending', 'shorten finish', 'declaration stop', 'undertake final_stage', 'constrict goal', 'constrict remnant', 'contract term ', 'constrict full_term', 'compact finish', 'constrict remainder', 'compact full_term', 'shorten destruction', 'contract cease', 'compact ending', 'cut destruction', 'take conclusion', 'reduce remnant', 'sign_on term\\\\S\\\\s*\\\\S', 'sign_up remainder', 'compress stop', 'take terminal', 'press closing', 'take finish', 'shrink close', 'compress condition', 'concentrate ending', 'sign_up terminate', 'concentrate closing', 'sign_on stop', 'compact condition', 'contract_bridge terminal', 'constrict cease', 'shorten terminal', 'sign condition', 'sign_on cease', 'foreshorten terminate', 'take cease', 'shrink terminal_figure', 'contract terminal', 'cut term', 'abridge last', 'shrink ending', 'narrow destruction', 'contract terminal_figure', 'sign_up cease', 'condense closing', 'contract death', 'condense goal', 'undertake condition', 'squeeze goal', 'constrict terminal_figure', 'foreshorten conclusion', 'narrow death', 'compress end', 'get oddment', 'cut terminate', 'shrink destruction', 'sign_on terminal_figure', 'condense last', 'squeeze full_term', 'condense cease', 'abbreviate ending', 'concentrate destruction', 'abridge destruction', 'squeeze end', 'foreshorten last', 'constrict term', 'compress terminal_figure', 'shrink death', 'sign_up conclusion', 'sign_on destruction', 'sign_on terminal', 'squeeze terminal_figure', 'contract_bridge end', 'constrict final_stage', 'condense term', 'narrow final_stage', 'narrow goal', 'compress remnant', 'sign_on finish', 'undertake last', 'press terminal', 'press full_term', 'concentrate terminus', 'sign_up final_stage', 'sign_up terminal_figure', 'press final_stage', 'sign term', 'cut last', 'undertake full_term', 'squeeze terminus', 'shrink full_term', 'shrink stop', 'compact terminal_figure', 'compress death', 'contract_bridge finish', 'contract_bridge close', 'press finish', 'sign_up destruction', 'abbreviate death', 'abridge oddment', 'compress remainder', 'squeeze oddment', 'abridge ending', 'abbreviate conclusion', 'squeeze death', 'condense remainder', 'contract ending', 'contract_bridge term\\\\S\\\\s*\\\\S', 'shrink conclusion', 'sign_on oddment', 'contract_bridge conclusion', 'shorten full_term', 'abbreviate remnant', 'shrink goal', 'narrow ending', 'abbreviate terminus', 'get term', 'concentrate remainder', 'constrict ending', 'compress close', 'concentrate death', 'abbreviate end', 'get term\\\\S\\\\s*\\\\S', 'press ending', 'get remnant', 'squeeze close', 'get close', 'abbreviate stop', 'sign_on final_stage', 'declaration goal', 'undertake term', 'condense final_stage', 'sign_up goal', 'shorten cease', 'sign_up end', 'compress term\\\\S\\\\s*\\\\S', 'shrink cease', 'abbreviate closing', 'abridge full_term', 'abbreviate close', 'reduce oddment', 'compress final_stage', 'get stop', 'contract terminus', 'sign_up finish', 'undertake oddment', 'foreshorten goal', 'cut condition', 'reduce destruction', 'concentrate remnant', 'concentrate condition', 'press remainder', 'abridge stop', 'cut end', 'shrink term', 'sign_on remainder', 'press term', 'take final_stage', 'narrow close', 'sign_on terminate', 'sign_on condition', 'contract last', 'sign death', 'shorten condition', 'take end', 'take terminate', 'declaration cease', 'undertake terminus', 'sign terminus', 'compact destruction', 'narrow oddment', 'abridge conclusion', 'get ending', 'cut death', 'press cease', 'abridge final_stage', 'compress last', 'squeeze ending', 'undertake terminate', 'foreshorten close', 'narrow terminus', 'compact term\\\\S\\\\s*\\\\S', 'get finish', 'foreshorten cease', 'take remnant', 'get terminal', 'narrow full_term', 'declaration terminal', 'shorten term', 'contract_bridge cease', 'abridge term\\\\S\\\\s*\\\\S', 'shorten remnant', 'sign_up term\\\\S\\\\s*\\\\S', 'contract_bridge term', 'foreshorten death', 'contract_bridge death', 'contract_bridge remnant', 'contract_bridge terminus', 'condense oddment', 'press term\\\\S\\\\s*\\\\S', 'compact term', 'contract_bridge terminate', 'abbreviate goal', 'cut term\\\\S\\\\s*\\\\S', 'reduce last', 'sign closing', 'concentrate stop', 'undertake end', 'sign remnant', 'cut terminus', 'cut finish', 'contract term', 'condense term\\\\S\\\\s*\\\\S', 'foreshorten remainder', 'take destruction', 'declaration finish', 'get condition', 'sign goal', 'shrink closing', 'reduce ending', 'undertake ending', 'reduce terminus', 'compact goal', 'sign cease', 'sign_up remnant', 'compact oddment', 'cut ending', 'declaration close', 'undertake goal', 'take term', 'sign_on term', 'condense ending', 'cut conclusion', 'sign finish', 'reduce remainder', 'compress terminal', 'abridge finish', 'declaration ending', 'declaration last', 'squeeze terminal', 'narrow terminal_figure', 'cut cease', 'sign_on closing', 'press death', 'undertake remnant', 'foreshorten finish', 'take last', 'sign_up ending', 'squeeze remainder', 'reduce terminal', 'shorten remainder', 'undertake close', 'compact close', 'declaration terminus', 'declaration final_stage', 'abbreviate terminal', 'abridge closing', 'cut terminal', 'condense death', 'shorten goal', 'foreshorten term\\\\S\\\\s*\\\\S', 'sign final_stage', 'sign_up close', 'undertake destruction', 'shrink end', 'undertake death', 'press destruction', 'narrow cease', 'condense conclusion', 'condense condition', 'abbreviate last', 'concentrate terminal_figure', 'contract remainder', 'take terminus', 'press oddment', 'condense stop', 'shorten final_stage', 'get terminate', 'narrow remnant', 'get cease', 'sign close', 'reduce death', 'contract closing', 'compress full_term', 'contract_bridge final_stage', 'foreshorten end', 'take oddment', 'reduce finish', 'narrow term\\\\S\\\\s*\\\\S', 'contract final_stage', 'shrink terminal', 'abridge cease', 'concentrate conclusion', 'reduce full_term', 'contract terminate', 'sign_on goal', 'take death', 'foreshorten terminal', 'concentrate finish', 'reduce terminate', 'concentrate cease', 'contract finish', 'sign_on remnant', 'foreshorten oddment', 'foreshorten condition', 'cut final_stage', 'reduce close', 'compact terminate', 'abridge remainder', 'reduce conclusion', 'reduce closing', 'abridge end', 'compress finish', 'narrow remainder', 'sign last', 'constrict closing', 'contract_bridge goal', 'take term\\\\S\\\\s*\\\\S', 'sign_up stop', 'foreshorten full_term', 'constrict conclusion', 'cut stop', 'concentrate terminate', 'take closing', 'take remainder', 'declaration conclusion', 'foreshorten destruction', 'compact final_stage', 'squeeze finish', 'constrict last', 'contract goal', 'compact terminal', 'contract oddment', 'constrict end', 'sign oddment', 'constrict term\\\\S\\\\s*\\\\S', 'abbreviate term', 'compact conclusion', 'condense destruction', 'shorten oddment', 'shrink final_stage', 'contract full_term', 'press goal', 'undertake terminal_figure', 'constrict death', 'take ending', 'contract_bridge stop', 'contract_bridge remainder', 'shorten term\\\\S\\\\s*\\\\S', 'undertake stop', 'contract remnant', 'compact death', 'cut oddment', 'contract condition', 'narrow finish', 'concentrate last', 'sign_up terminal', 'abridge close', 'contract close', 'press condition', 'shrink terminus', 'squeeze term\\\\S\\\\s*\\\\S', 'condense terminate', 'declaration closing', 'undertake finish', 'sign_on ending', 'condense finish', 'sign full_term', 'concentrate terminal', 'foreshorten terminus', 'condense remnant', 'sign_up closing', 'concentrate end', 'abbreviate terminate', 'sign_up condition', 'cut full_term', 'concentrate full_term', 'squeeze cease', 'concentrate goal', 'press terminus', 'narrow terminal', 'shrink oddment', 'abbreviate final_stage', 'abridge term', 'abbreviate term\\\\S\\\\s*\\\\S', 'contract_bridge terminal_figure', 'constrict oddment', 'sign_up full_term', 'sign conclusion', 'get full_term', 'abridge remnant', 'shrink term\\\\S\\\\s*\\\\S', 'declaration term', 'sign terminal_figure', 'reduce terminal_figure', 'press remnant', 'contract_bridge full_term', 'compact remnant', 'get last', 'shorten close', 'squeeze condition', 'sign_on death', 'reduce cease', 'abbreviate finish', 'constrict terminal', 'foreshorten remnant', 'compact terminus', 'foreshorten stop', 'narrow terminate', 'press end', 'declaration oddment', 'reduce goal', 'take goal', 'abridge terminal_figure', 'compress cease', 'abbreviate destruction', 'abridge goal', 'compress ending', 'press terminal_figure', 'cut remnant', 'abbreviate cease', 'undertake terminal', 'shorten closing', 'condense terminus', 'reduce term', 'constrict finish', 'narrow closing', 'compress term', 'narrow stop', 'sign_up last', 'get terminus', 'take terminal_figure', 'squeeze closing', 'narrow condition', 'shrink remnant', 'get closing', 'cut closing', 'constrict destruction', 'condense terminal_figure', 'narrow end', 'squeeze term', 'compress destruction', 'reduce condition', 'get death', 'abbreviate terminal_figure', 'contract destruction', 'compress terminate', 'press terminate', 'foreshorten terminal_figure', 'contract_bridge closing', 'declaration full_term', 'squeeze destruction', 'get remainder', 'declaration terminate', 'squeeze final_stage', 'contract end', 'sign destruction', 'take full_term', 'cut terminal_figure', 'shrink finish', 'squeeze terminate', 'declaration condition', 'abridge terminus', 'constrict close', 'compact cease', 'condense close', 'abbreviate oddment', 'compact remainder', 'compact closing', 'compress goal', 'compress conclusion', 'shorten conclusion', 'get final_stage', 'compact end', 'press close', 'undertake term\\\\S\\\\s*\\\\S', 'sign_on terminus', 'foreshorten final_stage', 'contract stop', 'constrict condition', 'sign terminate', 'foreshorten ending', 'compact last', 'concentrate term', 'sign_up term', 'reduce term\\\\S\\\\s*\\\\S', 'get goal', 'declaration death', 'condense full_term', 'cut goal', 'sign_up death', 'concentrate final_stage', 'concentrate term\\\\S\\\\s*\\\\S', 'shorten stop', 'contract_bridge condition', 'abbreviate full_term', 'declaration destruction', 'shorten ending', 'condense end', 'sign_on conclusion', 'get terminal_figure', 'squeeze conclusion', 'abbreviate condition', 'shorten terminate', 'constrict terminus', 'contract_bridge oddment', 'squeeze remnant', 'concentrate close', 'shorten terminus', 'compress closing', 'contract conclusion', 'sign_up terminus', 'shrink last', 'constrict terminate', 'get end', 'contract_bridge last', 'undertake closing', 'declaration remnant', 'sign term\\\\S\\\\s*\\\\S', 'sign_on end', 'undertake cease', 'reduce stop', 'reduce end', 'abridge condition', 'shorten end', 'shorten last', 'sign_up oddment', 'abbreviate remainder', 'undertake remainder', 'get destruction', 'sign end', 'foreshorten closing', 'shorten death', 'compress oddment', 'take stop', 'cut close', 'press conclusion', 'narrow term', 'concentrate oddment', 'contract_bridge destruction', 'press stop', 'sign stop', 'declaration remainder', 'undertake conclusion', 'shrink remainder', 'cut remainder', 'abridge death', 'narrow conclusion'}\n"
     ]
    },
    {
     "name": "stdout",
     "output_type": "stream",
     "text": [
      "TX 19015 Attachment  C ENT (7.2.18).txt\n",
      "{'effectual date\\\\S\\\\s*\\\\S', 'efficacious', 'in_effect date\\\\S\\\\s*\\\\S', 'good', 'in_force', 'efficient', 'good date\\\\S\\\\s*\\\\S', 'effectual', 'in_effect', 'effective date\\\\S\\\\s*\\\\S', 'efficient date\\\\S\\\\s*\\\\S', 'in_force date\\\\S\\\\s*\\\\S', 'effective', 'efficacious date\\\\S\\\\s*\\\\S'}\n",
      "start:  2018-01-01 00:00:00\n",
      "{'get conclusion', 'compress terminus', 'sign_on full_term', 'abridge terminate', 'squeeze last', 'contract term\\\\S\\\\s*\\\\S', 'take close', 'foreshorten term', 'squeeze stop', 'sign ending', 'declaration term\\\\S\\\\s*\\\\S', 'shorten terminal_figure', 'shrink condition', 'sign remainder', 'reduce final_stage', 'sign_on close', 'abridge terminal', 'declaration end', 'take condition', 'compact stop', 'condense terminal', 'narrow last', 'sign_on last', 'sign terminal', 'declaration terminal_figure', 'shrink terminate', 'constrict stop', 'press last', 'contract_bridge ending', 'shorten finish', 'declaration stop', 'undertake final_stage', 'constrict goal', 'constrict remnant', 'contract term ', 'constrict full_term', 'compact finish', 'constrict remainder', 'compact full_term', 'shorten destruction', 'contract cease', 'compact ending', 'cut destruction', 'take conclusion', 'reduce remnant', 'sign_on term\\\\S\\\\s*\\\\S', 'sign_up remainder', 'compress stop', 'take terminal', 'press closing', 'take finish', 'shrink close', 'compress condition', 'concentrate ending', 'sign_up terminate', 'concentrate closing', 'sign_on stop', 'compact condition', 'contract_bridge terminal', 'constrict cease', 'shorten terminal', 'sign condition', 'sign_on cease', 'foreshorten terminate', 'take cease', 'shrink terminal_figure', 'contract terminal', 'cut term', 'abridge last', 'shrink ending', 'narrow destruction', 'contract terminal_figure', 'sign_up cease', 'condense closing', 'contract death', 'condense goal', 'undertake condition', 'squeeze goal', 'constrict terminal_figure', 'foreshorten conclusion', 'narrow death', 'compress end', 'get oddment', 'cut terminate', 'shrink destruction', 'sign_on terminal_figure', 'condense last', 'squeeze full_term', 'condense cease', 'abbreviate ending', 'concentrate destruction', 'abridge destruction', 'squeeze end', 'foreshorten last', 'constrict term', 'compress terminal_figure', 'shrink death', 'sign_up conclusion', 'sign_on destruction', 'sign_on terminal', 'squeeze terminal_figure', 'contract_bridge end', 'constrict final_stage', 'condense term', 'narrow final_stage', 'narrow goal', 'compress remnant', 'sign_on finish', 'undertake last', 'press terminal', 'press full_term', 'concentrate terminus', 'sign_up final_stage', 'sign_up terminal_figure', 'press final_stage', 'sign term', 'cut last', 'undertake full_term', 'squeeze terminus', 'shrink full_term', 'shrink stop', 'compact terminal_figure', 'compress death', 'contract_bridge finish', 'contract_bridge close', 'press finish', 'sign_up destruction', 'abbreviate death', 'abridge oddment', 'compress remainder', 'squeeze oddment', 'abridge ending', 'abbreviate conclusion', 'squeeze death', 'condense remainder', 'contract ending', 'contract_bridge term\\\\S\\\\s*\\\\S', 'shrink conclusion', 'sign_on oddment', 'contract_bridge conclusion', 'shorten full_term', 'abbreviate remnant', 'shrink goal', 'narrow ending', 'abbreviate terminus', 'get term', 'concentrate remainder', 'constrict ending', 'compress close', 'concentrate death', 'abbreviate end', 'get term\\\\S\\\\s*\\\\S', 'press ending', 'get remnant', 'squeeze close', 'get close', 'abbreviate stop', 'sign_on final_stage', 'declaration goal', 'undertake term', 'condense final_stage', 'sign_up goal', 'shorten cease', 'sign_up end', 'compress term\\\\S\\\\s*\\\\S', 'shrink cease', 'abbreviate closing', 'abridge full_term', 'abbreviate close', 'reduce oddment', 'compress final_stage', 'get stop', 'contract terminus', 'sign_up finish', 'undertake oddment', 'foreshorten goal', 'cut condition', 'reduce destruction', 'concentrate remnant', 'concentrate condition', 'press remainder', 'abridge stop', 'cut end', 'shrink term', 'sign_on remainder', 'press term', 'take final_stage', 'narrow close', 'sign_on terminate', 'sign_on condition', 'contract last', 'sign death', 'shorten condition', 'take end', 'take terminate', 'declaration cease', 'undertake terminus', 'sign terminus', 'compact destruction', 'narrow oddment', 'abridge conclusion', 'get ending', 'cut death', 'press cease', 'abridge final_stage', 'compress last', 'squeeze ending', 'undertake terminate', 'foreshorten close', 'narrow terminus', 'compact term\\\\S\\\\s*\\\\S', 'get finish', 'foreshorten cease', 'take remnant', 'get terminal', 'narrow full_term', 'declaration terminal', 'shorten term', 'contract_bridge cease', 'abridge term\\\\S\\\\s*\\\\S', 'shorten remnant', 'sign_up term\\\\S\\\\s*\\\\S', 'contract_bridge term', 'foreshorten death', 'contract_bridge death', 'contract_bridge remnant', 'contract_bridge terminus', 'condense oddment', 'press term\\\\S\\\\s*\\\\S', 'compact term', 'contract_bridge terminate', 'abbreviate goal', 'cut term\\\\S\\\\s*\\\\S', 'reduce last', 'sign closing', 'concentrate stop', 'undertake end', 'sign remnant', 'cut terminus', 'cut finish', 'contract term', 'condense term\\\\S\\\\s*\\\\S', 'foreshorten remainder', 'take destruction', 'declaration finish', 'get condition', 'sign goal', 'shrink closing', 'reduce ending', 'undertake ending', 'reduce terminus', 'compact goal', 'sign cease', 'sign_up remnant', 'compact oddment', 'cut ending', 'declaration close', 'undertake goal', 'take term', 'sign_on term', 'condense ending', 'cut conclusion', 'sign finish', 'reduce remainder', 'compress terminal', 'abridge finish', 'declaration ending', 'declaration last', 'squeeze terminal', 'narrow terminal_figure', 'cut cease', 'sign_on closing', 'press death', 'undertake remnant', 'foreshorten finish', 'take last', 'sign_up ending', 'squeeze remainder', 'reduce terminal', 'shorten remainder', 'undertake close', 'compact close', 'declaration terminus', 'declaration final_stage', 'abbreviate terminal', 'abridge closing', 'cut terminal', 'condense death', 'shorten goal', 'foreshorten term\\\\S\\\\s*\\\\S', 'sign final_stage', 'sign_up close', 'undertake destruction', 'shrink end', 'undertake death', 'press destruction', 'narrow cease', 'condense conclusion', 'condense condition', 'abbreviate last', 'concentrate terminal_figure', 'contract remainder', 'take terminus', 'press oddment', 'condense stop', 'shorten final_stage', 'get terminate', 'narrow remnant', 'get cease', 'sign close', 'reduce death', 'contract closing', 'compress full_term', 'contract_bridge final_stage', 'foreshorten end', 'take oddment', 'reduce finish', 'narrow term\\\\S\\\\s*\\\\S', 'contract final_stage', 'shrink terminal', 'abridge cease', 'concentrate conclusion', 'reduce full_term', 'contract terminate', 'sign_on goal', 'take death', 'foreshorten terminal', 'concentrate finish', 'reduce terminate', 'concentrate cease', 'contract finish', 'sign_on remnant', 'foreshorten oddment', 'foreshorten condition', 'cut final_stage', 'reduce close', 'compact terminate', 'abridge remainder', 'reduce conclusion', 'reduce closing', 'abridge end', 'compress finish', 'narrow remainder', 'sign last', 'constrict closing', 'contract_bridge goal', 'take term\\\\S\\\\s*\\\\S', 'sign_up stop', 'foreshorten full_term', 'constrict conclusion', 'cut stop', 'concentrate terminate', 'take closing', 'take remainder', 'declaration conclusion', 'foreshorten destruction', 'compact final_stage', 'squeeze finish', 'constrict last', 'contract goal', 'compact terminal', 'contract oddment', 'constrict end', 'sign oddment', 'constrict term\\\\S\\\\s*\\\\S', 'abbreviate term', 'compact conclusion', 'condense destruction', 'shorten oddment', 'shrink final_stage', 'contract full_term', 'press goal', 'undertake terminal_figure', 'constrict death', 'take ending', 'contract_bridge stop', 'contract_bridge remainder', 'shorten term\\\\S\\\\s*\\\\S', 'undertake stop', 'contract remnant', 'compact death', 'cut oddment', 'contract condition', 'narrow finish', 'concentrate last', 'sign_up terminal', 'abridge close', 'contract close', 'press condition', 'shrink terminus', 'squeeze term\\\\S\\\\s*\\\\S', 'condense terminate', 'declaration closing', 'undertake finish', 'sign_on ending', 'condense finish', 'sign full_term', 'concentrate terminal', 'foreshorten terminus', 'condense remnant', 'sign_up closing', 'concentrate end', 'abbreviate terminate', 'sign_up condition', 'cut full_term', 'concentrate full_term', 'squeeze cease', 'concentrate goal', 'press terminus', 'narrow terminal', 'shrink oddment', 'abbreviate final_stage', 'abridge term', 'abbreviate term\\\\S\\\\s*\\\\S', 'contract_bridge terminal_figure', 'constrict oddment', 'sign_up full_term', 'sign conclusion', 'get full_term', 'abridge remnant', 'shrink term\\\\S\\\\s*\\\\S', 'declaration term', 'sign terminal_figure', 'reduce terminal_figure', 'press remnant', 'contract_bridge full_term', 'compact remnant', 'get last', 'shorten close', 'squeeze condition', 'sign_on death', 'reduce cease', 'abbreviate finish', 'constrict terminal', 'foreshorten remnant', 'compact terminus', 'foreshorten stop', 'narrow terminate', 'press end', 'declaration oddment', 'reduce goal', 'take goal', 'abridge terminal_figure', 'compress cease', 'abbreviate destruction', 'abridge goal', 'compress ending', 'press terminal_figure', 'cut remnant', 'abbreviate cease', 'undertake terminal', 'shorten closing', 'condense terminus', 'reduce term', 'constrict finish', 'narrow closing', 'compress term', 'narrow stop', 'sign_up last', 'get terminus', 'take terminal_figure', 'squeeze closing', 'narrow condition', 'shrink remnant', 'get closing', 'cut closing', 'constrict destruction', 'condense terminal_figure', 'narrow end', 'squeeze term', 'compress destruction', 'reduce condition', 'get death', 'abbreviate terminal_figure', 'contract destruction', 'compress terminate', 'press terminate', 'foreshorten terminal_figure', 'contract_bridge closing', 'declaration full_term', 'squeeze destruction', 'get remainder', 'declaration terminate', 'squeeze final_stage', 'contract end', 'sign destruction', 'take full_term', 'cut terminal_figure', 'shrink finish', 'squeeze terminate', 'declaration condition', 'abridge terminus', 'constrict close', 'compact cease', 'condense close', 'abbreviate oddment', 'compact remainder', 'compact closing', 'compress goal', 'compress conclusion', 'shorten conclusion', 'get final_stage', 'compact end', 'press close', 'undertake term\\\\S\\\\s*\\\\S', 'sign_on terminus', 'foreshorten final_stage', 'contract stop', 'constrict condition', 'sign terminate', 'foreshorten ending', 'compact last', 'concentrate term', 'sign_up term', 'reduce term\\\\S\\\\s*\\\\S', 'get goal', 'declaration death', 'condense full_term', 'cut goal', 'sign_up death', 'concentrate final_stage', 'concentrate term\\\\S\\\\s*\\\\S', 'shorten stop', 'contract_bridge condition', 'abbreviate full_term', 'declaration destruction', 'shorten ending', 'condense end', 'sign_on conclusion', 'get terminal_figure', 'squeeze conclusion', 'abbreviate condition', 'shorten terminate', 'constrict terminus', 'contract_bridge oddment', 'squeeze remnant', 'concentrate close', 'shorten terminus', 'compress closing', 'contract conclusion', 'sign_up terminus', 'shrink last', 'constrict terminate', 'get end', 'contract_bridge last', 'undertake closing', 'declaration remnant', 'sign term\\\\S\\\\s*\\\\S', 'sign_on end', 'undertake cease', 'reduce stop', 'reduce end', 'abridge condition', 'shorten end', 'shorten last', 'sign_up oddment', 'abbreviate remainder', 'undertake remainder', 'get destruction', 'sign end', 'foreshorten closing', 'shorten death', 'compress oddment', 'take stop', 'cut close', 'press conclusion', 'narrow term', 'concentrate oddment', 'contract_bridge destruction', 'press stop', 'sign stop', 'declaration remainder', 'undertake conclusion', 'shrink remainder', 'cut remainder', 'abridge death', 'narrow conclusion'}\n",
      "end:  2019-12-31 00:00:00\n",
      "TX 19015 Contract ENT (7.2.18)-pdf.txt\n",
      "{'effectual date\\\\S\\\\s*\\\\S', 'efficacious', 'in_effect date\\\\S\\\\s*\\\\S', 'good', 'in_force', 'efficient', 'good date\\\\S\\\\s*\\\\S', 'effectual', 'in_effect', 'effective date\\\\S\\\\s*\\\\S', 'efficient date\\\\S\\\\s*\\\\S', 'in_force date\\\\S\\\\s*\\\\S', 'effective', 'efficacious date\\\\S\\\\s*\\\\S'}\n",
      "start:  2018-01-01 00:00:00\n",
      "{'get conclusion', 'compress terminus', 'sign_on full_term', 'abridge terminate', 'squeeze last', 'contract term\\\\S\\\\s*\\\\S', 'take close', 'foreshorten term', 'squeeze stop', 'sign ending', 'declaration term\\\\S\\\\s*\\\\S', 'shorten terminal_figure', 'shrink condition', 'sign remainder', 'reduce final_stage', 'sign_on close', 'abridge terminal', 'declaration end', 'take condition', 'compact stop', 'condense terminal', 'narrow last', 'sign_on last', 'sign terminal', 'declaration terminal_figure', 'shrink terminate', 'constrict stop', 'press last', 'contract_bridge ending', 'shorten finish', 'declaration stop', 'undertake final_stage', 'constrict goal', 'constrict remnant', 'contract term ', 'constrict full_term', 'compact finish', 'constrict remainder', 'compact full_term', 'shorten destruction', 'contract cease', 'compact ending', 'cut destruction', 'take conclusion', 'reduce remnant', 'sign_on term\\\\S\\\\s*\\\\S', 'sign_up remainder', 'compress stop', 'take terminal', 'press closing', 'take finish', 'shrink close', 'compress condition', 'concentrate ending', 'sign_up terminate', 'concentrate closing', 'sign_on stop', 'compact condition', 'contract_bridge terminal', 'constrict cease', 'shorten terminal', 'sign condition', 'sign_on cease', 'foreshorten terminate', 'take cease', 'shrink terminal_figure', 'contract terminal', 'cut term', 'abridge last', 'shrink ending', 'narrow destruction', 'contract terminal_figure', 'sign_up cease', 'condense closing', 'contract death', 'condense goal', 'undertake condition', 'squeeze goal', 'constrict terminal_figure', 'foreshorten conclusion', 'narrow death', 'compress end', 'get oddment', 'cut terminate', 'shrink destruction', 'sign_on terminal_figure', 'condense last', 'squeeze full_term', 'condense cease', 'abbreviate ending', 'concentrate destruction', 'abridge destruction', 'squeeze end', 'foreshorten last', 'constrict term', 'compress terminal_figure', 'shrink death', 'sign_up conclusion', 'sign_on destruction', 'sign_on terminal', 'squeeze terminal_figure', 'contract_bridge end', 'constrict final_stage', 'condense term', 'narrow final_stage', 'narrow goal', 'compress remnant', 'sign_on finish', 'undertake last', 'press terminal', 'press full_term', 'concentrate terminus', 'sign_up final_stage', 'sign_up terminal_figure', 'press final_stage', 'sign term', 'cut last', 'undertake full_term', 'squeeze terminus', 'shrink full_term', 'shrink stop', 'compact terminal_figure', 'compress death', 'contract_bridge finish', 'contract_bridge close', 'press finish', 'sign_up destruction', 'abbreviate death', 'abridge oddment', 'compress remainder', 'squeeze oddment', 'abridge ending', 'abbreviate conclusion', 'squeeze death', 'condense remainder', 'contract ending', 'contract_bridge term\\\\S\\\\s*\\\\S', 'shrink conclusion', 'sign_on oddment', 'contract_bridge conclusion', 'shorten full_term', 'abbreviate remnant', 'shrink goal', 'narrow ending', 'abbreviate terminus', 'get term', 'concentrate remainder', 'constrict ending', 'compress close', 'concentrate death', 'abbreviate end', 'get term\\\\S\\\\s*\\\\S', 'press ending', 'get remnant', 'squeeze close', 'get close', 'abbreviate stop', 'sign_on final_stage', 'declaration goal', 'undertake term', 'condense final_stage', 'sign_up goal', 'shorten cease', 'sign_up end', 'compress term\\\\S\\\\s*\\\\S', 'shrink cease', 'abbreviate closing', 'abridge full_term', 'abbreviate close', 'reduce oddment', 'compress final_stage', 'get stop', 'contract terminus', 'sign_up finish', 'undertake oddment', 'foreshorten goal', 'cut condition', 'reduce destruction', 'concentrate remnant', 'concentrate condition', 'press remainder', 'abridge stop', 'cut end', 'shrink term', 'sign_on remainder', 'press term', 'take final_stage', 'narrow close', 'sign_on terminate', 'sign_on condition', 'contract last', 'sign death', 'shorten condition', 'take end', 'take terminate', 'declaration cease', 'undertake terminus', 'sign terminus', 'compact destruction', 'narrow oddment', 'abridge conclusion', 'get ending', 'cut death', 'press cease', 'abridge final_stage', 'compress last', 'squeeze ending', 'undertake terminate', 'foreshorten close', 'narrow terminus', 'compact term\\\\S\\\\s*\\\\S', 'get finish', 'foreshorten cease', 'take remnant', 'get terminal', 'narrow full_term', 'declaration terminal', 'shorten term', 'contract_bridge cease', 'abridge term\\\\S\\\\s*\\\\S', 'shorten remnant', 'sign_up term\\\\S\\\\s*\\\\S', 'contract_bridge term', 'foreshorten death', 'contract_bridge death', 'contract_bridge remnant', 'contract_bridge terminus', 'condense oddment', 'press term\\\\S\\\\s*\\\\S', 'compact term', 'contract_bridge terminate', 'abbreviate goal', 'cut term\\\\S\\\\s*\\\\S', 'reduce last', 'sign closing', 'concentrate stop', 'undertake end', 'sign remnant', 'cut terminus', 'cut finish', 'contract term', 'condense term\\\\S\\\\s*\\\\S', 'foreshorten remainder', 'take destruction', 'declaration finish', 'get condition', 'sign goal', 'shrink closing', 'reduce ending', 'undertake ending', 'reduce terminus', 'compact goal', 'sign cease', 'sign_up remnant', 'compact oddment', 'cut ending', 'declaration close', 'undertake goal', 'take term', 'sign_on term', 'condense ending', 'cut conclusion', 'sign finish', 'reduce remainder', 'compress terminal', 'abridge finish', 'declaration ending', 'declaration last', 'squeeze terminal', 'narrow terminal_figure', 'cut cease', 'sign_on closing', 'press death', 'undertake remnant', 'foreshorten finish', 'take last', 'sign_up ending', 'squeeze remainder', 'reduce terminal', 'shorten remainder', 'undertake close', 'compact close', 'declaration terminus', 'declaration final_stage', 'abbreviate terminal', 'abridge closing', 'cut terminal', 'condense death', 'shorten goal', 'foreshorten term\\\\S\\\\s*\\\\S', 'sign final_stage', 'sign_up close', 'undertake destruction', 'shrink end', 'undertake death', 'press destruction', 'narrow cease', 'condense conclusion', 'condense condition', 'abbreviate last', 'concentrate terminal_figure', 'contract remainder', 'take terminus', 'press oddment', 'condense stop', 'shorten final_stage', 'get terminate', 'narrow remnant', 'get cease', 'sign close', 'reduce death', 'contract closing', 'compress full_term', 'contract_bridge final_stage', 'foreshorten end', 'take oddment', 'reduce finish', 'narrow term\\\\S\\\\s*\\\\S', 'contract final_stage', 'shrink terminal', 'abridge cease', 'concentrate conclusion', 'reduce full_term', 'contract terminate', 'sign_on goal', 'take death', 'foreshorten terminal', 'concentrate finish', 'reduce terminate', 'concentrate cease', 'contract finish', 'sign_on remnant', 'foreshorten oddment', 'foreshorten condition', 'cut final_stage', 'reduce close', 'compact terminate', 'abridge remainder', 'reduce conclusion', 'reduce closing', 'abridge end', 'compress finish', 'narrow remainder', 'sign last', 'constrict closing', 'contract_bridge goal', 'take term\\\\S\\\\s*\\\\S', 'sign_up stop', 'foreshorten full_term', 'constrict conclusion', 'cut stop', 'concentrate terminate', 'take closing', 'take remainder', 'declaration conclusion', 'foreshorten destruction', 'compact final_stage', 'squeeze finish', 'constrict last', 'contract goal', 'compact terminal', 'contract oddment', 'constrict end', 'sign oddment', 'constrict term\\\\S\\\\s*\\\\S', 'abbreviate term', 'compact conclusion', 'condense destruction', 'shorten oddment', 'shrink final_stage', 'contract full_term', 'press goal', 'undertake terminal_figure', 'constrict death', 'take ending', 'contract_bridge stop', 'contract_bridge remainder', 'shorten term\\\\S\\\\s*\\\\S', 'undertake stop', 'contract remnant', 'compact death', 'cut oddment', 'contract condition', 'narrow finish', 'concentrate last', 'sign_up terminal', 'abridge close', 'contract close', 'press condition', 'shrink terminus', 'squeeze term\\\\S\\\\s*\\\\S', 'condense terminate', 'declaration closing', 'undertake finish', 'sign_on ending', 'condense finish', 'sign full_term', 'concentrate terminal', 'foreshorten terminus', 'condense remnant', 'sign_up closing', 'concentrate end', 'abbreviate terminate', 'sign_up condition', 'cut full_term', 'concentrate full_term', 'squeeze cease', 'concentrate goal', 'press terminus', 'narrow terminal', 'shrink oddment', 'abbreviate final_stage', 'abridge term', 'abbreviate term\\\\S\\\\s*\\\\S', 'contract_bridge terminal_figure', 'constrict oddment', 'sign_up full_term', 'sign conclusion', 'get full_term', 'abridge remnant', 'shrink term\\\\S\\\\s*\\\\S', 'declaration term', 'sign terminal_figure', 'reduce terminal_figure', 'press remnant', 'contract_bridge full_term', 'compact remnant', 'get last', 'shorten close', 'squeeze condition', 'sign_on death', 'reduce cease', 'abbreviate finish', 'constrict terminal', 'foreshorten remnant', 'compact terminus', 'foreshorten stop', 'narrow terminate', 'press end', 'declaration oddment', 'reduce goal', 'take goal', 'abridge terminal_figure', 'compress cease', 'abbreviate destruction', 'abridge goal', 'compress ending', 'press terminal_figure', 'cut remnant', 'abbreviate cease', 'undertake terminal', 'shorten closing', 'condense terminus', 'reduce term', 'constrict finish', 'narrow closing', 'compress term', 'narrow stop', 'sign_up last', 'get terminus', 'take terminal_figure', 'squeeze closing', 'narrow condition', 'shrink remnant', 'get closing', 'cut closing', 'constrict destruction', 'condense terminal_figure', 'narrow end', 'squeeze term', 'compress destruction', 'reduce condition', 'get death', 'abbreviate terminal_figure', 'contract destruction', 'compress terminate', 'press terminate', 'foreshorten terminal_figure', 'contract_bridge closing', 'declaration full_term', 'squeeze destruction', 'get remainder', 'declaration terminate', 'squeeze final_stage', 'contract end', 'sign destruction', 'take full_term', 'cut terminal_figure', 'shrink finish', 'squeeze terminate', 'declaration condition', 'abridge terminus', 'constrict close', 'compact cease', 'condense close', 'abbreviate oddment', 'compact remainder', 'compact closing', 'compress goal', 'compress conclusion', 'shorten conclusion', 'get final_stage', 'compact end', 'press close', 'undertake term\\\\S\\\\s*\\\\S', 'sign_on terminus', 'foreshorten final_stage', 'contract stop', 'constrict condition', 'sign terminate', 'foreshorten ending', 'compact last', 'concentrate term', 'sign_up term', 'reduce term\\\\S\\\\s*\\\\S', 'get goal', 'declaration death', 'condense full_term', 'cut goal', 'sign_up death', 'concentrate final_stage', 'concentrate term\\\\S\\\\s*\\\\S', 'shorten stop', 'contract_bridge condition', 'abbreviate full_term', 'declaration destruction', 'shorten ending', 'condense end', 'sign_on conclusion', 'get terminal_figure', 'squeeze conclusion', 'abbreviate condition', 'shorten terminate', 'constrict terminus', 'contract_bridge oddment', 'squeeze remnant', 'concentrate close', 'shorten terminus', 'compress closing', 'contract conclusion', 'sign_up terminus', 'shrink last', 'constrict terminate', 'get end', 'contract_bridge last', 'undertake closing', 'declaration remnant', 'sign term\\\\S\\\\s*\\\\S', 'sign_on end', 'undertake cease', 'reduce stop', 'reduce end', 'abridge condition', 'shorten end', 'shorten last', 'sign_up oddment', 'abbreviate remainder', 'undertake remainder', 'get destruction', 'sign end', 'foreshorten closing', 'shorten death', 'compress oddment', 'take stop', 'cut close', 'press conclusion', 'narrow term', 'concentrate oddment', 'contract_bridge destruction', 'press stop', 'sign stop', 'declaration remainder', 'undertake conclusion', 'shrink remainder', 'cut remainder', 'abridge death', 'narrow conclusion'}\n"
     ]
    },
    {
     "name": "stdout",
     "output_type": "stream",
     "text": [
      "end:  2019-12-31 00:00:00\n",
      "TX-18745-ASC Contract (7.2.18).txt\n",
      "{'effectual date\\\\S\\\\s*\\\\S', 'efficacious', 'in_effect date\\\\S\\\\s*\\\\S', 'good', 'in_force', 'efficient', 'good date\\\\S\\\\s*\\\\S', 'effectual', 'in_effect', 'effective date\\\\S\\\\s*\\\\S', 'efficient date\\\\S\\\\s*\\\\S', 'in_force date\\\\S\\\\s*\\\\S', 'effective', 'efficacious date\\\\S\\\\s*\\\\S'}\n",
      "start:  2017-04-01 00:00:00\n",
      "{'get conclusion', 'compress terminus', 'sign_on full_term', 'abridge terminate', 'squeeze last', 'contract term\\\\S\\\\s*\\\\S', 'take close', 'foreshorten term', 'squeeze stop', 'sign ending', 'declaration term\\\\S\\\\s*\\\\S', 'shorten terminal_figure', 'shrink condition', 'sign remainder', 'reduce final_stage', 'sign_on close', 'abridge terminal', 'declaration end', 'take condition', 'compact stop', 'condense terminal', 'narrow last', 'sign_on last', 'sign terminal', 'declaration terminal_figure', 'shrink terminate', 'constrict stop', 'press last', 'contract_bridge ending', 'shorten finish', 'declaration stop', 'undertake final_stage', 'constrict goal', 'constrict remnant', 'contract term ', 'constrict full_term', 'compact finish', 'constrict remainder', 'compact full_term', 'shorten destruction', 'contract cease', 'compact ending', 'cut destruction', 'take conclusion', 'reduce remnant', 'sign_on term\\\\S\\\\s*\\\\S', 'sign_up remainder', 'compress stop', 'take terminal', 'press closing', 'take finish', 'shrink close', 'compress condition', 'concentrate ending', 'sign_up terminate', 'concentrate closing', 'sign_on stop', 'compact condition', 'contract_bridge terminal', 'constrict cease', 'shorten terminal', 'sign condition', 'sign_on cease', 'foreshorten terminate', 'take cease', 'shrink terminal_figure', 'contract terminal', 'cut term', 'abridge last', 'shrink ending', 'narrow destruction', 'contract terminal_figure', 'sign_up cease', 'condense closing', 'contract death', 'condense goal', 'undertake condition', 'squeeze goal', 'constrict terminal_figure', 'foreshorten conclusion', 'narrow death', 'compress end', 'get oddment', 'cut terminate', 'shrink destruction', 'sign_on terminal_figure', 'condense last', 'squeeze full_term', 'condense cease', 'abbreviate ending', 'concentrate destruction', 'abridge destruction', 'squeeze end', 'foreshorten last', 'constrict term', 'compress terminal_figure', 'shrink death', 'sign_up conclusion', 'sign_on destruction', 'sign_on terminal', 'squeeze terminal_figure', 'contract_bridge end', 'constrict final_stage', 'condense term', 'narrow final_stage', 'narrow goal', 'compress remnant', 'sign_on finish', 'undertake last', 'press terminal', 'press full_term', 'concentrate terminus', 'sign_up final_stage', 'sign_up terminal_figure', 'press final_stage', 'sign term', 'cut last', 'undertake full_term', 'squeeze terminus', 'shrink full_term', 'shrink stop', 'compact terminal_figure', 'compress death', 'contract_bridge finish', 'contract_bridge close', 'press finish', 'sign_up destruction', 'abbreviate death', 'abridge oddment', 'compress remainder', 'squeeze oddment', 'abridge ending', 'abbreviate conclusion', 'squeeze death', 'condense remainder', 'contract ending', 'contract_bridge term\\\\S\\\\s*\\\\S', 'shrink conclusion', 'sign_on oddment', 'contract_bridge conclusion', 'shorten full_term', 'abbreviate remnant', 'shrink goal', 'narrow ending', 'abbreviate terminus', 'get term', 'concentrate remainder', 'constrict ending', 'compress close', 'concentrate death', 'abbreviate end', 'get term\\\\S\\\\s*\\\\S', 'press ending', 'get remnant', 'squeeze close', 'get close', 'abbreviate stop', 'sign_on final_stage', 'declaration goal', 'undertake term', 'condense final_stage', 'sign_up goal', 'shorten cease', 'sign_up end', 'compress term\\\\S\\\\s*\\\\S', 'shrink cease', 'abbreviate closing', 'abridge full_term', 'abbreviate close', 'reduce oddment', 'compress final_stage', 'get stop', 'contract terminus', 'sign_up finish', 'undertake oddment', 'foreshorten goal', 'cut condition', 'reduce destruction', 'concentrate remnant', 'concentrate condition', 'press remainder', 'abridge stop', 'cut end', 'shrink term', 'sign_on remainder', 'press term', 'take final_stage', 'narrow close', 'sign_on terminate', 'sign_on condition', 'contract last', 'sign death', 'shorten condition', 'take end', 'take terminate', 'declaration cease', 'undertake terminus', 'sign terminus', 'compact destruction', 'narrow oddment', 'abridge conclusion', 'get ending', 'cut death', 'press cease', 'abridge final_stage', 'compress last', 'squeeze ending', 'undertake terminate', 'foreshorten close', 'narrow terminus', 'compact term\\\\S\\\\s*\\\\S', 'get finish', 'foreshorten cease', 'take remnant', 'get terminal', 'narrow full_term', 'declaration terminal', 'shorten term', 'contract_bridge cease', 'abridge term\\\\S\\\\s*\\\\S', 'shorten remnant', 'sign_up term\\\\S\\\\s*\\\\S', 'contract_bridge term', 'foreshorten death', 'contract_bridge death', 'contract_bridge remnant', 'contract_bridge terminus', 'condense oddment', 'press term\\\\S\\\\s*\\\\S', 'compact term', 'contract_bridge terminate', 'abbreviate goal', 'cut term\\\\S\\\\s*\\\\S', 'reduce last', 'sign closing', 'concentrate stop', 'undertake end', 'sign remnant', 'cut terminus', 'cut finish', 'contract term', 'condense term\\\\S\\\\s*\\\\S', 'foreshorten remainder', 'take destruction', 'declaration finish', 'get condition', 'sign goal', 'shrink closing', 'reduce ending', 'undertake ending', 'reduce terminus', 'compact goal', 'sign cease', 'sign_up remnant', 'compact oddment', 'cut ending', 'declaration close', 'undertake goal', 'take term', 'sign_on term', 'condense ending', 'cut conclusion', 'sign finish', 'reduce remainder', 'compress terminal', 'abridge finish', 'declaration ending', 'declaration last', 'squeeze terminal', 'narrow terminal_figure', 'cut cease', 'sign_on closing', 'press death', 'undertake remnant', 'foreshorten finish', 'take last', 'sign_up ending', 'squeeze remainder', 'reduce terminal', 'shorten remainder', 'undertake close', 'compact close', 'declaration terminus', 'declaration final_stage', 'abbreviate terminal', 'abridge closing', 'cut terminal', 'condense death', 'shorten goal', 'foreshorten term\\\\S\\\\s*\\\\S', 'sign final_stage', 'sign_up close', 'undertake destruction', 'shrink end', 'undertake death', 'press destruction', 'narrow cease', 'condense conclusion', 'condense condition', 'abbreviate last', 'concentrate terminal_figure', 'contract remainder', 'take terminus', 'press oddment', 'condense stop', 'shorten final_stage', 'get terminate', 'narrow remnant', 'get cease', 'sign close', 'reduce death', 'contract closing', 'compress full_term', 'contract_bridge final_stage', 'foreshorten end', 'take oddment', 'reduce finish', 'narrow term\\\\S\\\\s*\\\\S', 'contract final_stage', 'shrink terminal', 'abridge cease', 'concentrate conclusion', 'reduce full_term', 'contract terminate', 'sign_on goal', 'take death', 'foreshorten terminal', 'concentrate finish', 'reduce terminate', 'concentrate cease', 'contract finish', 'sign_on remnant', 'foreshorten oddment', 'foreshorten condition', 'cut final_stage', 'reduce close', 'compact terminate', 'abridge remainder', 'reduce conclusion', 'reduce closing', 'abridge end', 'compress finish', 'narrow remainder', 'sign last', 'constrict closing', 'contract_bridge goal', 'take term\\\\S\\\\s*\\\\S', 'sign_up stop', 'foreshorten full_term', 'constrict conclusion', 'cut stop', 'concentrate terminate', 'take closing', 'take remainder', 'declaration conclusion', 'foreshorten destruction', 'compact final_stage', 'squeeze finish', 'constrict last', 'contract goal', 'compact terminal', 'contract oddment', 'constrict end', 'sign oddment', 'constrict term\\\\S\\\\s*\\\\S', 'abbreviate term', 'compact conclusion', 'condense destruction', 'shorten oddment', 'shrink final_stage', 'contract full_term', 'press goal', 'undertake terminal_figure', 'constrict death', 'take ending', 'contract_bridge stop', 'contract_bridge remainder', 'shorten term\\\\S\\\\s*\\\\S', 'undertake stop', 'contract remnant', 'compact death', 'cut oddment', 'contract condition', 'narrow finish', 'concentrate last', 'sign_up terminal', 'abridge close', 'contract close', 'press condition', 'shrink terminus', 'squeeze term\\\\S\\\\s*\\\\S', 'condense terminate', 'declaration closing', 'undertake finish', 'sign_on ending', 'condense finish', 'sign full_term', 'concentrate terminal', 'foreshorten terminus', 'condense remnant', 'sign_up closing', 'concentrate end', 'abbreviate terminate', 'sign_up condition', 'cut full_term', 'concentrate full_term', 'squeeze cease', 'concentrate goal', 'press terminus', 'narrow terminal', 'shrink oddment', 'abbreviate final_stage', 'abridge term', 'abbreviate term\\\\S\\\\s*\\\\S', 'contract_bridge terminal_figure', 'constrict oddment', 'sign_up full_term', 'sign conclusion', 'get full_term', 'abridge remnant', 'shrink term\\\\S\\\\s*\\\\S', 'declaration term', 'sign terminal_figure', 'reduce terminal_figure', 'press remnant', 'contract_bridge full_term', 'compact remnant', 'get last', 'shorten close', 'squeeze condition', 'sign_on death', 'reduce cease', 'abbreviate finish', 'constrict terminal', 'foreshorten remnant', 'compact terminus', 'foreshorten stop', 'narrow terminate', 'press end', 'declaration oddment', 'reduce goal', 'take goal', 'abridge terminal_figure', 'compress cease', 'abbreviate destruction', 'abridge goal', 'compress ending', 'press terminal_figure', 'cut remnant', 'abbreviate cease', 'undertake terminal', 'shorten closing', 'condense terminus', 'reduce term', 'constrict finish', 'narrow closing', 'compress term', 'narrow stop', 'sign_up last', 'get terminus', 'take terminal_figure', 'squeeze closing', 'narrow condition', 'shrink remnant', 'get closing', 'cut closing', 'constrict destruction', 'condense terminal_figure', 'narrow end', 'squeeze term', 'compress destruction', 'reduce condition', 'get death', 'abbreviate terminal_figure', 'contract destruction', 'compress terminate', 'press terminate', 'foreshorten terminal_figure', 'contract_bridge closing', 'declaration full_term', 'squeeze destruction', 'get remainder', 'declaration terminate', 'squeeze final_stage', 'contract end', 'sign destruction', 'take full_term', 'cut terminal_figure', 'shrink finish', 'squeeze terminate', 'declaration condition', 'abridge terminus', 'constrict close', 'compact cease', 'condense close', 'abbreviate oddment', 'compact remainder', 'compact closing', 'compress goal', 'compress conclusion', 'shorten conclusion', 'get final_stage', 'compact end', 'press close', 'undertake term\\\\S\\\\s*\\\\S', 'sign_on terminus', 'foreshorten final_stage', 'contract stop', 'constrict condition', 'sign terminate', 'foreshorten ending', 'compact last', 'concentrate term', 'sign_up term', 'reduce term\\\\S\\\\s*\\\\S', 'get goal', 'declaration death', 'condense full_term', 'cut goal', 'sign_up death', 'concentrate final_stage', 'concentrate term\\\\S\\\\s*\\\\S', 'shorten stop', 'contract_bridge condition', 'abbreviate full_term', 'declaration destruction', 'shorten ending', 'condense end', 'sign_on conclusion', 'get terminal_figure', 'squeeze conclusion', 'abbreviate condition', 'shorten terminate', 'constrict terminus', 'contract_bridge oddment', 'squeeze remnant', 'concentrate close', 'shorten terminus', 'compress closing', 'contract conclusion', 'sign_up terminus', 'shrink last', 'constrict terminate', 'get end', 'contract_bridge last', 'undertake closing', 'declaration remnant', 'sign term\\\\S\\\\s*\\\\S', 'sign_on end', 'undertake cease', 'reduce stop', 'reduce end', 'abridge condition', 'shorten end', 'shorten last', 'sign_up oddment', 'abbreviate remainder', 'undertake remainder', 'get destruction', 'sign end', 'foreshorten closing', 'shorten death', 'compress oddment', 'take stop', 'cut close', 'press conclusion', 'narrow term', 'concentrate oddment', 'contract_bridge destruction', 'press stop', 'sign stop', 'declaration remainder', 'undertake conclusion', 'shrink remainder', 'cut remainder', 'abridge death', 'narrow conclusion'}\n"
     ]
    },
    {
     "name": "stdout",
     "output_type": "stream",
     "text": [
      "end:  2019-12-31 00:00:00\n",
      "TX 17404 Contract Regional (7.2.18).txt\n",
      "{'effectual date\\\\S\\\\s*\\\\S', 'efficacious', 'in_effect date\\\\S\\\\s*\\\\S', 'good', 'in_force', 'efficient', 'good date\\\\S\\\\s*\\\\S', 'effectual', 'in_effect', 'effective date\\\\S\\\\s*\\\\S', 'efficient date\\\\S\\\\s*\\\\S', 'in_force date\\\\S\\\\s*\\\\S', 'effective', 'efficacious date\\\\S\\\\s*\\\\S'}\n",
      "start:  2014-10-01 00:00:00\n",
      "{'get conclusion', 'compress terminus', 'sign_on full_term', 'abridge terminate', 'squeeze last', 'contract term\\\\S\\\\s*\\\\S', 'take close', 'foreshorten term', 'squeeze stop', 'sign ending', 'declaration term\\\\S\\\\s*\\\\S', 'shorten terminal_figure', 'shrink condition', 'sign remainder', 'reduce final_stage', 'sign_on close', 'abridge terminal', 'declaration end', 'take condition', 'compact stop', 'condense terminal', 'narrow last', 'sign_on last', 'sign terminal', 'declaration terminal_figure', 'shrink terminate', 'constrict stop', 'press last', 'contract_bridge ending', 'shorten finish', 'declaration stop', 'undertake final_stage', 'constrict goal', 'constrict remnant', 'contract term ', 'constrict full_term', 'compact finish', 'constrict remainder', 'compact full_term', 'shorten destruction', 'contract cease', 'compact ending', 'cut destruction', 'take conclusion', 'reduce remnant', 'sign_on term\\\\S\\\\s*\\\\S', 'sign_up remainder', 'compress stop', 'take terminal', 'press closing', 'take finish', 'shrink close', 'compress condition', 'concentrate ending', 'sign_up terminate', 'concentrate closing', 'sign_on stop', 'compact condition', 'contract_bridge terminal', 'constrict cease', 'shorten terminal', 'sign condition', 'sign_on cease', 'foreshorten terminate', 'take cease', 'shrink terminal_figure', 'contract terminal', 'cut term', 'abridge last', 'shrink ending', 'narrow destruction', 'contract terminal_figure', 'sign_up cease', 'condense closing', 'contract death', 'condense goal', 'undertake condition', 'squeeze goal', 'constrict terminal_figure', 'foreshorten conclusion', 'narrow death', 'compress end', 'get oddment', 'cut terminate', 'shrink destruction', 'sign_on terminal_figure', 'condense last', 'squeeze full_term', 'condense cease', 'abbreviate ending', 'concentrate destruction', 'abridge destruction', 'squeeze end', 'foreshorten last', 'constrict term', 'compress terminal_figure', 'shrink death', 'sign_up conclusion', 'sign_on destruction', 'sign_on terminal', 'squeeze terminal_figure', 'contract_bridge end', 'constrict final_stage', 'condense term', 'narrow final_stage', 'narrow goal', 'compress remnant', 'sign_on finish', 'undertake last', 'press terminal', 'press full_term', 'concentrate terminus', 'sign_up final_stage', 'sign_up terminal_figure', 'press final_stage', 'sign term', 'cut last', 'undertake full_term', 'squeeze terminus', 'shrink full_term', 'shrink stop', 'compact terminal_figure', 'compress death', 'contract_bridge finish', 'contract_bridge close', 'press finish', 'sign_up destruction', 'abbreviate death', 'abridge oddment', 'compress remainder', 'squeeze oddment', 'abridge ending', 'abbreviate conclusion', 'squeeze death', 'condense remainder', 'contract ending', 'contract_bridge term\\\\S\\\\s*\\\\S', 'shrink conclusion', 'sign_on oddment', 'contract_bridge conclusion', 'shorten full_term', 'abbreviate remnant', 'shrink goal', 'narrow ending', 'abbreviate terminus', 'get term', 'concentrate remainder', 'constrict ending', 'compress close', 'concentrate death', 'abbreviate end', 'get term\\\\S\\\\s*\\\\S', 'press ending', 'get remnant', 'squeeze close', 'get close', 'abbreviate stop', 'sign_on final_stage', 'declaration goal', 'undertake term', 'condense final_stage', 'sign_up goal', 'shorten cease', 'sign_up end', 'compress term\\\\S\\\\s*\\\\S', 'shrink cease', 'abbreviate closing', 'abridge full_term', 'abbreviate close', 'reduce oddment', 'compress final_stage', 'get stop', 'contract terminus', 'sign_up finish', 'undertake oddment', 'foreshorten goal', 'cut condition', 'reduce destruction', 'concentrate remnant', 'concentrate condition', 'press remainder', 'abridge stop', 'cut end', 'shrink term', 'sign_on remainder', 'press term', 'take final_stage', 'narrow close', 'sign_on terminate', 'sign_on condition', 'contract last', 'sign death', 'shorten condition', 'take end', 'take terminate', 'declaration cease', 'undertake terminus', 'sign terminus', 'compact destruction', 'narrow oddment', 'abridge conclusion', 'get ending', 'cut death', 'press cease', 'abridge final_stage', 'compress last', 'squeeze ending', 'undertake terminate', 'foreshorten close', 'narrow terminus', 'compact term\\\\S\\\\s*\\\\S', 'get finish', 'foreshorten cease', 'take remnant', 'get terminal', 'narrow full_term', 'declaration terminal', 'shorten term', 'contract_bridge cease', 'abridge term\\\\S\\\\s*\\\\S', 'shorten remnant', 'sign_up term\\\\S\\\\s*\\\\S', 'contract_bridge term', 'foreshorten death', 'contract_bridge death', 'contract_bridge remnant', 'contract_bridge terminus', 'condense oddment', 'press term\\\\S\\\\s*\\\\S', 'compact term', 'contract_bridge terminate', 'abbreviate goal', 'cut term\\\\S\\\\s*\\\\S', 'reduce last', 'sign closing', 'concentrate stop', 'undertake end', 'sign remnant', 'cut terminus', 'cut finish', 'contract term', 'condense term\\\\S\\\\s*\\\\S', 'foreshorten remainder', 'take destruction', 'declaration finish', 'get condition', 'sign goal', 'shrink closing', 'reduce ending', 'undertake ending', 'reduce terminus', 'compact goal', 'sign cease', 'sign_up remnant', 'compact oddment', 'cut ending', 'declaration close', 'undertake goal', 'take term', 'sign_on term', 'condense ending', 'cut conclusion', 'sign finish', 'reduce remainder', 'compress terminal', 'abridge finish', 'declaration ending', 'declaration last', 'squeeze terminal', 'narrow terminal_figure', 'cut cease', 'sign_on closing', 'press death', 'undertake remnant', 'foreshorten finish', 'take last', 'sign_up ending', 'squeeze remainder', 'reduce terminal', 'shorten remainder', 'undertake close', 'compact close', 'declaration terminus', 'declaration final_stage', 'abbreviate terminal', 'abridge closing', 'cut terminal', 'condense death', 'shorten goal', 'foreshorten term\\\\S\\\\s*\\\\S', 'sign final_stage', 'sign_up close', 'undertake destruction', 'shrink end', 'undertake death', 'press destruction', 'narrow cease', 'condense conclusion', 'condense condition', 'abbreviate last', 'concentrate terminal_figure', 'contract remainder', 'take terminus', 'press oddment', 'condense stop', 'shorten final_stage', 'get terminate', 'narrow remnant', 'get cease', 'sign close', 'reduce death', 'contract closing', 'compress full_term', 'contract_bridge final_stage', 'foreshorten end', 'take oddment', 'reduce finish', 'narrow term\\\\S\\\\s*\\\\S', 'contract final_stage', 'shrink terminal', 'abridge cease', 'concentrate conclusion', 'reduce full_term', 'contract terminate', 'sign_on goal', 'take death', 'foreshorten terminal', 'concentrate finish', 'reduce terminate', 'concentrate cease', 'contract finish', 'sign_on remnant', 'foreshorten oddment', 'foreshorten condition', 'cut final_stage', 'reduce close', 'compact terminate', 'abridge remainder', 'reduce conclusion', 'reduce closing', 'abridge end', 'compress finish', 'narrow remainder', 'sign last', 'constrict closing', 'contract_bridge goal', 'take term\\\\S\\\\s*\\\\S', 'sign_up stop', 'foreshorten full_term', 'constrict conclusion', 'cut stop', 'concentrate terminate', 'take closing', 'take remainder', 'declaration conclusion', 'foreshorten destruction', 'compact final_stage', 'squeeze finish', 'constrict last', 'contract goal', 'compact terminal', 'contract oddment', 'constrict end', 'sign oddment', 'constrict term\\\\S\\\\s*\\\\S', 'abbreviate term', 'compact conclusion', 'condense destruction', 'shorten oddment', 'shrink final_stage', 'contract full_term', 'press goal', 'undertake terminal_figure', 'constrict death', 'take ending', 'contract_bridge stop', 'contract_bridge remainder', 'shorten term\\\\S\\\\s*\\\\S', 'undertake stop', 'contract remnant', 'compact death', 'cut oddment', 'contract condition', 'narrow finish', 'concentrate last', 'sign_up terminal', 'abridge close', 'contract close', 'press condition', 'shrink terminus', 'squeeze term\\\\S\\\\s*\\\\S', 'condense terminate', 'declaration closing', 'undertake finish', 'sign_on ending', 'condense finish', 'sign full_term', 'concentrate terminal', 'foreshorten terminus', 'condense remnant', 'sign_up closing', 'concentrate end', 'abbreviate terminate', 'sign_up condition', 'cut full_term', 'concentrate full_term', 'squeeze cease', 'concentrate goal', 'press terminus', 'narrow terminal', 'shrink oddment', 'abbreviate final_stage', 'abridge term', 'abbreviate term\\\\S\\\\s*\\\\S', 'contract_bridge terminal_figure', 'constrict oddment', 'sign_up full_term', 'sign conclusion', 'get full_term', 'abridge remnant', 'shrink term\\\\S\\\\s*\\\\S', 'declaration term', 'sign terminal_figure', 'reduce terminal_figure', 'press remnant', 'contract_bridge full_term', 'compact remnant', 'get last', 'shorten close', 'squeeze condition', 'sign_on death', 'reduce cease', 'abbreviate finish', 'constrict terminal', 'foreshorten remnant', 'compact terminus', 'foreshorten stop', 'narrow terminate', 'press end', 'declaration oddment', 'reduce goal', 'take goal', 'abridge terminal_figure', 'compress cease', 'abbreviate destruction', 'abridge goal', 'compress ending', 'press terminal_figure', 'cut remnant', 'abbreviate cease', 'undertake terminal', 'shorten closing', 'condense terminus', 'reduce term', 'constrict finish', 'narrow closing', 'compress term', 'narrow stop', 'sign_up last', 'get terminus', 'take terminal_figure', 'squeeze closing', 'narrow condition', 'shrink remnant', 'get closing', 'cut closing', 'constrict destruction', 'condense terminal_figure', 'narrow end', 'squeeze term', 'compress destruction', 'reduce condition', 'get death', 'abbreviate terminal_figure', 'contract destruction', 'compress terminate', 'press terminate', 'foreshorten terminal_figure', 'contract_bridge closing', 'declaration full_term', 'squeeze destruction', 'get remainder', 'declaration terminate', 'squeeze final_stage', 'contract end', 'sign destruction', 'take full_term', 'cut terminal_figure', 'shrink finish', 'squeeze terminate', 'declaration condition', 'abridge terminus', 'constrict close', 'compact cease', 'condense close', 'abbreviate oddment', 'compact remainder', 'compact closing', 'compress goal', 'compress conclusion', 'shorten conclusion', 'get final_stage', 'compact end', 'press close', 'undertake term\\\\S\\\\s*\\\\S', 'sign_on terminus', 'foreshorten final_stage', 'contract stop', 'constrict condition', 'sign terminate', 'foreshorten ending', 'compact last', 'concentrate term', 'sign_up term', 'reduce term\\\\S\\\\s*\\\\S', 'get goal', 'declaration death', 'condense full_term', 'cut goal', 'sign_up death', 'concentrate final_stage', 'concentrate term\\\\S\\\\s*\\\\S', 'shorten stop', 'contract_bridge condition', 'abbreviate full_term', 'declaration destruction', 'shorten ending', 'condense end', 'sign_on conclusion', 'get terminal_figure', 'squeeze conclusion', 'abbreviate condition', 'shorten terminate', 'constrict terminus', 'contract_bridge oddment', 'squeeze remnant', 'concentrate close', 'shorten terminus', 'compress closing', 'contract conclusion', 'sign_up terminus', 'shrink last', 'constrict terminate', 'get end', 'contract_bridge last', 'undertake closing', 'declaration remnant', 'sign term\\\\S\\\\s*\\\\S', 'sign_on end', 'undertake cease', 'reduce stop', 'reduce end', 'abridge condition', 'shorten end', 'shorten last', 'sign_up oddment', 'abbreviate remainder', 'undertake remainder', 'get destruction', 'sign end', 'foreshorten closing', 'shorten death', 'compress oddment', 'take stop', 'cut close', 'press conclusion', 'narrow term', 'concentrate oddment', 'contract_bridge destruction', 'press stop', 'sign stop', 'declaration remainder', 'undertake conclusion', 'shrink remainder', 'cut remainder', 'abridge death', 'narrow conclusion'}\n"
     ]
    },
    {
     "name": "stdout",
     "output_type": "stream",
     "text": [
      "end:  2017-09-30 00:00:00\n",
      "test.txt\n",
      "{'effectual date\\\\S\\\\s*\\\\S', 'efficacious', 'in_effect date\\\\S\\\\s*\\\\S', 'good', 'in_force', 'efficient', 'good date\\\\S\\\\s*\\\\S', 'effectual', 'in_effect', 'effective date\\\\S\\\\s*\\\\S', 'efficient date\\\\S\\\\s*\\\\S', 'in_force date\\\\S\\\\s*\\\\S', 'effective', 'efficacious date\\\\S\\\\s*\\\\S'}\n",
      "{'get conclusion', 'compress terminus', 'sign_on full_term', 'abridge terminate', 'squeeze last', 'contract term\\\\S\\\\s*\\\\S', 'take close', 'foreshorten term', 'squeeze stop', 'sign ending', 'declaration term\\\\S\\\\s*\\\\S', 'shorten terminal_figure', 'shrink condition', 'sign remainder', 'reduce final_stage', 'sign_on close', 'abridge terminal', 'declaration end', 'take condition', 'compact stop', 'condense terminal', 'narrow last', 'sign_on last', 'sign terminal', 'declaration terminal_figure', 'shrink terminate', 'constrict stop', 'press last', 'contract_bridge ending', 'shorten finish', 'declaration stop', 'undertake final_stage', 'constrict goal', 'constrict remnant', 'contract term ', 'constrict full_term', 'compact finish', 'constrict remainder', 'compact full_term', 'shorten destruction', 'contract cease', 'compact ending', 'cut destruction', 'take conclusion', 'reduce remnant', 'sign_on term\\\\S\\\\s*\\\\S', 'sign_up remainder', 'compress stop', 'take terminal', 'press closing', 'take finish', 'shrink close', 'compress condition', 'concentrate ending', 'sign_up terminate', 'concentrate closing', 'sign_on stop', 'compact condition', 'contract_bridge terminal', 'constrict cease', 'shorten terminal', 'sign condition', 'sign_on cease', 'foreshorten terminate', 'take cease', 'shrink terminal_figure', 'contract terminal', 'cut term', 'abridge last', 'shrink ending', 'narrow destruction', 'contract terminal_figure', 'sign_up cease', 'condense closing', 'contract death', 'condense goal', 'undertake condition', 'squeeze goal', 'constrict terminal_figure', 'foreshorten conclusion', 'narrow death', 'compress end', 'get oddment', 'cut terminate', 'shrink destruction', 'sign_on terminal_figure', 'condense last', 'squeeze full_term', 'condense cease', 'abbreviate ending', 'concentrate destruction', 'abridge destruction', 'squeeze end', 'foreshorten last', 'constrict term', 'compress terminal_figure', 'shrink death', 'sign_up conclusion', 'sign_on destruction', 'sign_on terminal', 'squeeze terminal_figure', 'contract_bridge end', 'constrict final_stage', 'condense term', 'narrow final_stage', 'narrow goal', 'compress remnant', 'sign_on finish', 'undertake last', 'press terminal', 'press full_term', 'concentrate terminus', 'sign_up final_stage', 'sign_up terminal_figure', 'press final_stage', 'sign term', 'cut last', 'undertake full_term', 'squeeze terminus', 'shrink full_term', 'shrink stop', 'compact terminal_figure', 'compress death', 'contract_bridge finish', 'contract_bridge close', 'press finish', 'sign_up destruction', 'abbreviate death', 'abridge oddment', 'compress remainder', 'squeeze oddment', 'abridge ending', 'abbreviate conclusion', 'squeeze death', 'condense remainder', 'contract ending', 'contract_bridge term\\\\S\\\\s*\\\\S', 'shrink conclusion', 'sign_on oddment', 'contract_bridge conclusion', 'shorten full_term', 'abbreviate remnant', 'shrink goal', 'narrow ending', 'abbreviate terminus', 'get term', 'concentrate remainder', 'constrict ending', 'compress close', 'concentrate death', 'abbreviate end', 'get term\\\\S\\\\s*\\\\S', 'press ending', 'get remnant', 'squeeze close', 'get close', 'abbreviate stop', 'sign_on final_stage', 'declaration goal', 'undertake term', 'condense final_stage', 'sign_up goal', 'shorten cease', 'sign_up end', 'compress term\\\\S\\\\s*\\\\S', 'shrink cease', 'abbreviate closing', 'abridge full_term', 'abbreviate close', 'reduce oddment', 'compress final_stage', 'get stop', 'contract terminus', 'sign_up finish', 'undertake oddment', 'foreshorten goal', 'cut condition', 'reduce destruction', 'concentrate remnant', 'concentrate condition', 'press remainder', 'abridge stop', 'cut end', 'shrink term', 'sign_on remainder', 'press term', 'take final_stage', 'narrow close', 'sign_on terminate', 'sign_on condition', 'contract last', 'sign death', 'shorten condition', 'take end', 'take terminate', 'declaration cease', 'undertake terminus', 'sign terminus', 'compact destruction', 'narrow oddment', 'abridge conclusion', 'get ending', 'cut death', 'press cease', 'abridge final_stage', 'compress last', 'squeeze ending', 'undertake terminate', 'foreshorten close', 'narrow terminus', 'compact term\\\\S\\\\s*\\\\S', 'get finish', 'foreshorten cease', 'take remnant', 'get terminal', 'narrow full_term', 'declaration terminal', 'shorten term', 'contract_bridge cease', 'abridge term\\\\S\\\\s*\\\\S', 'shorten remnant', 'sign_up term\\\\S\\\\s*\\\\S', 'contract_bridge term', 'foreshorten death', 'contract_bridge death', 'contract_bridge remnant', 'contract_bridge terminus', 'condense oddment', 'press term\\\\S\\\\s*\\\\S', 'compact term', 'contract_bridge terminate', 'abbreviate goal', 'cut term\\\\S\\\\s*\\\\S', 'reduce last', 'sign closing', 'concentrate stop', 'undertake end', 'sign remnant', 'cut terminus', 'cut finish', 'contract term', 'condense term\\\\S\\\\s*\\\\S', 'foreshorten remainder', 'take destruction', 'declaration finish', 'get condition', 'sign goal', 'shrink closing', 'reduce ending', 'undertake ending', 'reduce terminus', 'compact goal', 'sign cease', 'sign_up remnant', 'compact oddment', 'cut ending', 'declaration close', 'undertake goal', 'take term', 'sign_on term', 'condense ending', 'cut conclusion', 'sign finish', 'reduce remainder', 'compress terminal', 'abridge finish', 'declaration ending', 'declaration last', 'squeeze terminal', 'narrow terminal_figure', 'cut cease', 'sign_on closing', 'press death', 'undertake remnant', 'foreshorten finish', 'take last', 'sign_up ending', 'squeeze remainder', 'reduce terminal', 'shorten remainder', 'undertake close', 'compact close', 'declaration terminus', 'declaration final_stage', 'abbreviate terminal', 'abridge closing', 'cut terminal', 'condense death', 'shorten goal', 'foreshorten term\\\\S\\\\s*\\\\S', 'sign final_stage', 'sign_up close', 'undertake destruction', 'shrink end', 'undertake death', 'press destruction', 'narrow cease', 'condense conclusion', 'condense condition', 'abbreviate last', 'concentrate terminal_figure', 'contract remainder', 'take terminus', 'press oddment', 'condense stop', 'shorten final_stage', 'get terminate', 'narrow remnant', 'get cease', 'sign close', 'reduce death', 'contract closing', 'compress full_term', 'contract_bridge final_stage', 'foreshorten end', 'take oddment', 'reduce finish', 'narrow term\\\\S\\\\s*\\\\S', 'contract final_stage', 'shrink terminal', 'abridge cease', 'concentrate conclusion', 'reduce full_term', 'contract terminate', 'sign_on goal', 'take death', 'foreshorten terminal', 'concentrate finish', 'reduce terminate', 'concentrate cease', 'contract finish', 'sign_on remnant', 'foreshorten oddment', 'foreshorten condition', 'cut final_stage', 'reduce close', 'compact terminate', 'abridge remainder', 'reduce conclusion', 'reduce closing', 'abridge end', 'compress finish', 'narrow remainder', 'sign last', 'constrict closing', 'contract_bridge goal', 'take term\\\\S\\\\s*\\\\S', 'sign_up stop', 'foreshorten full_term', 'constrict conclusion', 'cut stop', 'concentrate terminate', 'take closing', 'take remainder', 'declaration conclusion', 'foreshorten destruction', 'compact final_stage', 'squeeze finish', 'constrict last', 'contract goal', 'compact terminal', 'contract oddment', 'constrict end', 'sign oddment', 'constrict term\\\\S\\\\s*\\\\S', 'abbreviate term', 'compact conclusion', 'condense destruction', 'shorten oddment', 'shrink final_stage', 'contract full_term', 'press goal', 'undertake terminal_figure', 'constrict death', 'take ending', 'contract_bridge stop', 'contract_bridge remainder', 'shorten term\\\\S\\\\s*\\\\S', 'undertake stop', 'contract remnant', 'compact death', 'cut oddment', 'contract condition', 'narrow finish', 'concentrate last', 'sign_up terminal', 'abridge close', 'contract close', 'press condition', 'shrink terminus', 'squeeze term\\\\S\\\\s*\\\\S', 'condense terminate', 'declaration closing', 'undertake finish', 'sign_on ending', 'condense finish', 'sign full_term', 'concentrate terminal', 'foreshorten terminus', 'condense remnant', 'sign_up closing', 'concentrate end', 'abbreviate terminate', 'sign_up condition', 'cut full_term', 'concentrate full_term', 'squeeze cease', 'concentrate goal', 'press terminus', 'narrow terminal', 'shrink oddment', 'abbreviate final_stage', 'abridge term', 'abbreviate term\\\\S\\\\s*\\\\S', 'contract_bridge terminal_figure', 'constrict oddment', 'sign_up full_term', 'sign conclusion', 'get full_term', 'abridge remnant', 'shrink term\\\\S\\\\s*\\\\S', 'declaration term', 'sign terminal_figure', 'reduce terminal_figure', 'press remnant', 'contract_bridge full_term', 'compact remnant', 'get last', 'shorten close', 'squeeze condition', 'sign_on death', 'reduce cease', 'abbreviate finish', 'constrict terminal', 'foreshorten remnant', 'compact terminus', 'foreshorten stop', 'narrow terminate', 'press end', 'declaration oddment', 'reduce goal', 'take goal', 'abridge terminal_figure', 'compress cease', 'abbreviate destruction', 'abridge goal', 'compress ending', 'press terminal_figure', 'cut remnant', 'abbreviate cease', 'undertake terminal', 'shorten closing', 'condense terminus', 'reduce term', 'constrict finish', 'narrow closing', 'compress term', 'narrow stop', 'sign_up last', 'get terminus', 'take terminal_figure', 'squeeze closing', 'narrow condition', 'shrink remnant', 'get closing', 'cut closing', 'constrict destruction', 'condense terminal_figure', 'narrow end', 'squeeze term', 'compress destruction', 'reduce condition', 'get death', 'abbreviate terminal_figure', 'contract destruction', 'compress terminate', 'press terminate', 'foreshorten terminal_figure', 'contract_bridge closing', 'declaration full_term', 'squeeze destruction', 'get remainder', 'declaration terminate', 'squeeze final_stage', 'contract end', 'sign destruction', 'take full_term', 'cut terminal_figure', 'shrink finish', 'squeeze terminate', 'declaration condition', 'abridge terminus', 'constrict close', 'compact cease', 'condense close', 'abbreviate oddment', 'compact remainder', 'compact closing', 'compress goal', 'compress conclusion', 'shorten conclusion', 'get final_stage', 'compact end', 'press close', 'undertake term\\\\S\\\\s*\\\\S', 'sign_on terminus', 'foreshorten final_stage', 'contract stop', 'constrict condition', 'sign terminate', 'foreshorten ending', 'compact last', 'concentrate term', 'sign_up term', 'reduce term\\\\S\\\\s*\\\\S', 'get goal', 'declaration death', 'condense full_term', 'cut goal', 'sign_up death', 'concentrate final_stage', 'concentrate term\\\\S\\\\s*\\\\S', 'shorten stop', 'contract_bridge condition', 'abbreviate full_term', 'declaration destruction', 'shorten ending', 'condense end', 'sign_on conclusion', 'get terminal_figure', 'squeeze conclusion', 'abbreviate condition', 'shorten terminate', 'constrict terminus', 'contract_bridge oddment', 'squeeze remnant', 'concentrate close', 'shorten terminus', 'compress closing', 'contract conclusion', 'sign_up terminus', 'shrink last', 'constrict terminate', 'get end', 'contract_bridge last', 'undertake closing', 'declaration remnant', 'sign term\\\\S\\\\s*\\\\S', 'sign_on end', 'undertake cease', 'reduce stop', 'reduce end', 'abridge condition', 'shorten end', 'shorten last', 'sign_up oddment', 'abbreviate remainder', 'undertake remainder', 'get destruction', 'sign end', 'foreshorten closing', 'shorten death', 'compress oddment', 'take stop', 'cut close', 'press conclusion', 'narrow term', 'concentrate oddment', 'contract_bridge destruction', 'press stop', 'sign stop', 'declaration remainder', 'undertake conclusion', 'shrink remainder', 'cut remainder', 'abridge death', 'narrow conclusion'}\n",
      "TX-18745 ASC Contract (7.2.18)-pdf.txt\n",
      "{'effectual date\\\\S\\\\s*\\\\S', 'efficacious', 'in_effect date\\\\S\\\\s*\\\\S', 'good', 'in_force', 'efficient', 'good date\\\\S\\\\s*\\\\S', 'effectual', 'in_effect', 'effective date\\\\S\\\\s*\\\\S', 'efficient date\\\\S\\\\s*\\\\S', 'in_force date\\\\S\\\\s*\\\\S', 'effective', 'efficacious date\\\\S\\\\s*\\\\S'}\n",
      "start:  2017-04-01 00:00:00\n",
      "{'get conclusion', 'compress terminus', 'sign_on full_term', 'abridge terminate', 'squeeze last', 'contract term\\\\S\\\\s*\\\\S', 'take close', 'foreshorten term', 'squeeze stop', 'sign ending', 'declaration term\\\\S\\\\s*\\\\S', 'shorten terminal_figure', 'shrink condition', 'sign remainder', 'reduce final_stage', 'sign_on close', 'abridge terminal', 'declaration end', 'take condition', 'compact stop', 'condense terminal', 'narrow last', 'sign_on last', 'sign terminal', 'declaration terminal_figure', 'shrink terminate', 'constrict stop', 'press last', 'contract_bridge ending', 'shorten finish', 'declaration stop', 'undertake final_stage', 'constrict goal', 'constrict remnant', 'contract term ', 'constrict full_term', 'compact finish', 'constrict remainder', 'compact full_term', 'shorten destruction', 'contract cease', 'compact ending', 'cut destruction', 'take conclusion', 'reduce remnant', 'sign_on term\\\\S\\\\s*\\\\S', 'sign_up remainder', 'compress stop', 'take terminal', 'press closing', 'take finish', 'shrink close', 'compress condition', 'concentrate ending', 'sign_up terminate', 'concentrate closing', 'sign_on stop', 'compact condition', 'contract_bridge terminal', 'constrict cease', 'shorten terminal', 'sign condition', 'sign_on cease', 'foreshorten terminate', 'take cease', 'shrink terminal_figure', 'contract terminal', 'cut term', 'abridge last', 'shrink ending', 'narrow destruction', 'contract terminal_figure', 'sign_up cease', 'condense closing', 'contract death', 'condense goal', 'undertake condition', 'squeeze goal', 'constrict terminal_figure', 'foreshorten conclusion', 'narrow death', 'compress end', 'get oddment', 'cut terminate', 'shrink destruction', 'sign_on terminal_figure', 'condense last', 'squeeze full_term', 'condense cease', 'abbreviate ending', 'concentrate destruction', 'abridge destruction', 'squeeze end', 'foreshorten last', 'constrict term', 'compress terminal_figure', 'shrink death', 'sign_up conclusion', 'sign_on destruction', 'sign_on terminal', 'squeeze terminal_figure', 'contract_bridge end', 'constrict final_stage', 'condense term', 'narrow final_stage', 'narrow goal', 'compress remnant', 'sign_on finish', 'undertake last', 'press terminal', 'press full_term', 'concentrate terminus', 'sign_up final_stage', 'sign_up terminal_figure', 'press final_stage', 'sign term', 'cut last', 'undertake full_term', 'squeeze terminus', 'shrink full_term', 'shrink stop', 'compact terminal_figure', 'compress death', 'contract_bridge finish', 'contract_bridge close', 'press finish', 'sign_up destruction', 'abbreviate death', 'abridge oddment', 'compress remainder', 'squeeze oddment', 'abridge ending', 'abbreviate conclusion', 'squeeze death', 'condense remainder', 'contract ending', 'contract_bridge term\\\\S\\\\s*\\\\S', 'shrink conclusion', 'sign_on oddment', 'contract_bridge conclusion', 'shorten full_term', 'abbreviate remnant', 'shrink goal', 'narrow ending', 'abbreviate terminus', 'get term', 'concentrate remainder', 'constrict ending', 'compress close', 'concentrate death', 'abbreviate end', 'get term\\\\S\\\\s*\\\\S', 'press ending', 'get remnant', 'squeeze close', 'get close', 'abbreviate stop', 'sign_on final_stage', 'declaration goal', 'undertake term', 'condense final_stage', 'sign_up goal', 'shorten cease', 'sign_up end', 'compress term\\\\S\\\\s*\\\\S', 'shrink cease', 'abbreviate closing', 'abridge full_term', 'abbreviate close', 'reduce oddment', 'compress final_stage', 'get stop', 'contract terminus', 'sign_up finish', 'undertake oddment', 'foreshorten goal', 'cut condition', 'reduce destruction', 'concentrate remnant', 'concentrate condition', 'press remainder', 'abridge stop', 'cut end', 'shrink term', 'sign_on remainder', 'press term', 'take final_stage', 'narrow close', 'sign_on terminate', 'sign_on condition', 'contract last', 'sign death', 'shorten condition', 'take end', 'take terminate', 'declaration cease', 'undertake terminus', 'sign terminus', 'compact destruction', 'narrow oddment', 'abridge conclusion', 'get ending', 'cut death', 'press cease', 'abridge final_stage', 'compress last', 'squeeze ending', 'undertake terminate', 'foreshorten close', 'narrow terminus', 'compact term\\\\S\\\\s*\\\\S', 'get finish', 'foreshorten cease', 'take remnant', 'get terminal', 'narrow full_term', 'declaration terminal', 'shorten term', 'contract_bridge cease', 'abridge term\\\\S\\\\s*\\\\S', 'shorten remnant', 'sign_up term\\\\S\\\\s*\\\\S', 'contract_bridge term', 'foreshorten death', 'contract_bridge death', 'contract_bridge remnant', 'contract_bridge terminus', 'condense oddment', 'press term\\\\S\\\\s*\\\\S', 'compact term', 'contract_bridge terminate', 'abbreviate goal', 'cut term\\\\S\\\\s*\\\\S', 'reduce last', 'sign closing', 'concentrate stop', 'undertake end', 'sign remnant', 'cut terminus', 'cut finish', 'contract term', 'condense term\\\\S\\\\s*\\\\S', 'foreshorten remainder', 'take destruction', 'declaration finish', 'get condition', 'sign goal', 'shrink closing', 'reduce ending', 'undertake ending', 'reduce terminus', 'compact goal', 'sign cease', 'sign_up remnant', 'compact oddment', 'cut ending', 'declaration close', 'undertake goal', 'take term', 'sign_on term', 'condense ending', 'cut conclusion', 'sign finish', 'reduce remainder', 'compress terminal', 'abridge finish', 'declaration ending', 'declaration last', 'squeeze terminal', 'narrow terminal_figure', 'cut cease', 'sign_on closing', 'press death', 'undertake remnant', 'foreshorten finish', 'take last', 'sign_up ending', 'squeeze remainder', 'reduce terminal', 'shorten remainder', 'undertake close', 'compact close', 'declaration terminus', 'declaration final_stage', 'abbreviate terminal', 'abridge closing', 'cut terminal', 'condense death', 'shorten goal', 'foreshorten term\\\\S\\\\s*\\\\S', 'sign final_stage', 'sign_up close', 'undertake destruction', 'shrink end', 'undertake death', 'press destruction', 'narrow cease', 'condense conclusion', 'condense condition', 'abbreviate last', 'concentrate terminal_figure', 'contract remainder', 'take terminus', 'press oddment', 'condense stop', 'shorten final_stage', 'get terminate', 'narrow remnant', 'get cease', 'sign close', 'reduce death', 'contract closing', 'compress full_term', 'contract_bridge final_stage', 'foreshorten end', 'take oddment', 'reduce finish', 'narrow term\\\\S\\\\s*\\\\S', 'contract final_stage', 'shrink terminal', 'abridge cease', 'concentrate conclusion', 'reduce full_term', 'contract terminate', 'sign_on goal', 'take death', 'foreshorten terminal', 'concentrate finish', 'reduce terminate', 'concentrate cease', 'contract finish', 'sign_on remnant', 'foreshorten oddment', 'foreshorten condition', 'cut final_stage', 'reduce close', 'compact terminate', 'abridge remainder', 'reduce conclusion', 'reduce closing', 'abridge end', 'compress finish', 'narrow remainder', 'sign last', 'constrict closing', 'contract_bridge goal', 'take term\\\\S\\\\s*\\\\S', 'sign_up stop', 'foreshorten full_term', 'constrict conclusion', 'cut stop', 'concentrate terminate', 'take closing', 'take remainder', 'declaration conclusion', 'foreshorten destruction', 'compact final_stage', 'squeeze finish', 'constrict last', 'contract goal', 'compact terminal', 'contract oddment', 'constrict end', 'sign oddment', 'constrict term\\\\S\\\\s*\\\\S', 'abbreviate term', 'compact conclusion', 'condense destruction', 'shorten oddment', 'shrink final_stage', 'contract full_term', 'press goal', 'undertake terminal_figure', 'constrict death', 'take ending', 'contract_bridge stop', 'contract_bridge remainder', 'shorten term\\\\S\\\\s*\\\\S', 'undertake stop', 'contract remnant', 'compact death', 'cut oddment', 'contract condition', 'narrow finish', 'concentrate last', 'sign_up terminal', 'abridge close', 'contract close', 'press condition', 'shrink terminus', 'squeeze term\\\\S\\\\s*\\\\S', 'condense terminate', 'declaration closing', 'undertake finish', 'sign_on ending', 'condense finish', 'sign full_term', 'concentrate terminal', 'foreshorten terminus', 'condense remnant', 'sign_up closing', 'concentrate end', 'abbreviate terminate', 'sign_up condition', 'cut full_term', 'concentrate full_term', 'squeeze cease', 'concentrate goal', 'press terminus', 'narrow terminal', 'shrink oddment', 'abbreviate final_stage', 'abridge term', 'abbreviate term\\\\S\\\\s*\\\\S', 'contract_bridge terminal_figure', 'constrict oddment', 'sign_up full_term', 'sign conclusion', 'get full_term', 'abridge remnant', 'shrink term\\\\S\\\\s*\\\\S', 'declaration term', 'sign terminal_figure', 'reduce terminal_figure', 'press remnant', 'contract_bridge full_term', 'compact remnant', 'get last', 'shorten close', 'squeeze condition', 'sign_on death', 'reduce cease', 'abbreviate finish', 'constrict terminal', 'foreshorten remnant', 'compact terminus', 'foreshorten stop', 'narrow terminate', 'press end', 'declaration oddment', 'reduce goal', 'take goal', 'abridge terminal_figure', 'compress cease', 'abbreviate destruction', 'abridge goal', 'compress ending', 'press terminal_figure', 'cut remnant', 'abbreviate cease', 'undertake terminal', 'shorten closing', 'condense terminus', 'reduce term', 'constrict finish', 'narrow closing', 'compress term', 'narrow stop', 'sign_up last', 'get terminus', 'take terminal_figure', 'squeeze closing', 'narrow condition', 'shrink remnant', 'get closing', 'cut closing', 'constrict destruction', 'condense terminal_figure', 'narrow end', 'squeeze term', 'compress destruction', 'reduce condition', 'get death', 'abbreviate terminal_figure', 'contract destruction', 'compress terminate', 'press terminate', 'foreshorten terminal_figure', 'contract_bridge closing', 'declaration full_term', 'squeeze destruction', 'get remainder', 'declaration terminate', 'squeeze final_stage', 'contract end', 'sign destruction', 'take full_term', 'cut terminal_figure', 'shrink finish', 'squeeze terminate', 'declaration condition', 'abridge terminus', 'constrict close', 'compact cease', 'condense close', 'abbreviate oddment', 'compact remainder', 'compact closing', 'compress goal', 'compress conclusion', 'shorten conclusion', 'get final_stage', 'compact end', 'press close', 'undertake term\\\\S\\\\s*\\\\S', 'sign_on terminus', 'foreshorten final_stage', 'contract stop', 'constrict condition', 'sign terminate', 'foreshorten ending', 'compact last', 'concentrate term', 'sign_up term', 'reduce term\\\\S\\\\s*\\\\S', 'get goal', 'declaration death', 'condense full_term', 'cut goal', 'sign_up death', 'concentrate final_stage', 'concentrate term\\\\S\\\\s*\\\\S', 'shorten stop', 'contract_bridge condition', 'abbreviate full_term', 'declaration destruction', 'shorten ending', 'condense end', 'sign_on conclusion', 'get terminal_figure', 'squeeze conclusion', 'abbreviate condition', 'shorten terminate', 'constrict terminus', 'contract_bridge oddment', 'squeeze remnant', 'concentrate close', 'shorten terminus', 'compress closing', 'contract conclusion', 'sign_up terminus', 'shrink last', 'constrict terminate', 'get end', 'contract_bridge last', 'undertake closing', 'declaration remnant', 'sign term\\\\S\\\\s*\\\\S', 'sign_on end', 'undertake cease', 'reduce stop', 'reduce end', 'abridge condition', 'shorten end', 'shorten last', 'sign_up oddment', 'abbreviate remainder', 'undertake remainder', 'get destruction', 'sign end', 'foreshorten closing', 'shorten death', 'compress oddment', 'take stop', 'cut close', 'press conclusion', 'narrow term', 'concentrate oddment', 'contract_bridge destruction', 'press stop', 'sign stop', 'declaration remainder', 'undertake conclusion', 'shrink remainder', 'cut remainder', 'abridge death', 'narrow conclusion'}\n"
     ]
    },
    {
     "name": "stdout",
     "output_type": "stream",
     "text": [
      "TX 19015 Attachment B ENT (7.2.18).txt\n",
      "{'effectual date\\\\S\\\\s*\\\\S', 'efficacious', 'in_effect date\\\\S\\\\s*\\\\S', 'good', 'in_force', 'efficient', 'good date\\\\S\\\\s*\\\\S', 'effectual', 'in_effect', 'effective date\\\\S\\\\s*\\\\S', 'efficient date\\\\S\\\\s*\\\\S', 'in_force date\\\\S\\\\s*\\\\S', 'effective', 'efficacious date\\\\S\\\\s*\\\\S'}\n",
      "start:  2018-01-01 00:00:00\n",
      "{'get conclusion', 'compress terminus', 'sign_on full_term', 'abridge terminate', 'squeeze last', 'contract term\\\\S\\\\s*\\\\S', 'take close', 'foreshorten term', 'squeeze stop', 'sign ending', 'declaration term\\\\S\\\\s*\\\\S', 'shorten terminal_figure', 'shrink condition', 'sign remainder', 'reduce final_stage', 'sign_on close', 'abridge terminal', 'declaration end', 'take condition', 'compact stop', 'condense terminal', 'narrow last', 'sign_on last', 'sign terminal', 'declaration terminal_figure', 'shrink terminate', 'constrict stop', 'press last', 'contract_bridge ending', 'shorten finish', 'declaration stop', 'undertake final_stage', 'constrict goal', 'constrict remnant', 'contract term ', 'constrict full_term', 'compact finish', 'constrict remainder', 'compact full_term', 'shorten destruction', 'contract cease', 'compact ending', 'cut destruction', 'take conclusion', 'reduce remnant', 'sign_on term\\\\S\\\\s*\\\\S', 'sign_up remainder', 'compress stop', 'take terminal', 'press closing', 'take finish', 'shrink close', 'compress condition', 'concentrate ending', 'sign_up terminate', 'concentrate closing', 'sign_on stop', 'compact condition', 'contract_bridge terminal', 'constrict cease', 'shorten terminal', 'sign condition', 'sign_on cease', 'foreshorten terminate', 'take cease', 'shrink terminal_figure', 'contract terminal', 'cut term', 'abridge last', 'shrink ending', 'narrow destruction', 'contract terminal_figure', 'sign_up cease', 'condense closing', 'contract death', 'condense goal', 'undertake condition', 'squeeze goal', 'constrict terminal_figure', 'foreshorten conclusion', 'narrow death', 'compress end', 'get oddment', 'cut terminate', 'shrink destruction', 'sign_on terminal_figure', 'condense last', 'squeeze full_term', 'condense cease', 'abbreviate ending', 'concentrate destruction', 'abridge destruction', 'squeeze end', 'foreshorten last', 'constrict term', 'compress terminal_figure', 'shrink death', 'sign_up conclusion', 'sign_on destruction', 'sign_on terminal', 'squeeze terminal_figure', 'contract_bridge end', 'constrict final_stage', 'condense term', 'narrow final_stage', 'narrow goal', 'compress remnant', 'sign_on finish', 'undertake last', 'press terminal', 'press full_term', 'concentrate terminus', 'sign_up final_stage', 'sign_up terminal_figure', 'press final_stage', 'sign term', 'cut last', 'undertake full_term', 'squeeze terminus', 'shrink full_term', 'shrink stop', 'compact terminal_figure', 'compress death', 'contract_bridge finish', 'contract_bridge close', 'press finish', 'sign_up destruction', 'abbreviate death', 'abridge oddment', 'compress remainder', 'squeeze oddment', 'abridge ending', 'abbreviate conclusion', 'squeeze death', 'condense remainder', 'contract ending', 'contract_bridge term\\\\S\\\\s*\\\\S', 'shrink conclusion', 'sign_on oddment', 'contract_bridge conclusion', 'shorten full_term', 'abbreviate remnant', 'shrink goal', 'narrow ending', 'abbreviate terminus', 'get term', 'concentrate remainder', 'constrict ending', 'compress close', 'concentrate death', 'abbreviate end', 'get term\\\\S\\\\s*\\\\S', 'press ending', 'get remnant', 'squeeze close', 'get close', 'abbreviate stop', 'sign_on final_stage', 'declaration goal', 'undertake term', 'condense final_stage', 'sign_up goal', 'shorten cease', 'sign_up end', 'compress term\\\\S\\\\s*\\\\S', 'shrink cease', 'abbreviate closing', 'abridge full_term', 'abbreviate close', 'reduce oddment', 'compress final_stage', 'get stop', 'contract terminus', 'sign_up finish', 'undertake oddment', 'foreshorten goal', 'cut condition', 'reduce destruction', 'concentrate remnant', 'concentrate condition', 'press remainder', 'abridge stop', 'cut end', 'shrink term', 'sign_on remainder', 'press term', 'take final_stage', 'narrow close', 'sign_on terminate', 'sign_on condition', 'contract last', 'sign death', 'shorten condition', 'take end', 'take terminate', 'declaration cease', 'undertake terminus', 'sign terminus', 'compact destruction', 'narrow oddment', 'abridge conclusion', 'get ending', 'cut death', 'press cease', 'abridge final_stage', 'compress last', 'squeeze ending', 'undertake terminate', 'foreshorten close', 'narrow terminus', 'compact term\\\\S\\\\s*\\\\S', 'get finish', 'foreshorten cease', 'take remnant', 'get terminal', 'narrow full_term', 'declaration terminal', 'shorten term', 'contract_bridge cease', 'abridge term\\\\S\\\\s*\\\\S', 'shorten remnant', 'sign_up term\\\\S\\\\s*\\\\S', 'contract_bridge term', 'foreshorten death', 'contract_bridge death', 'contract_bridge remnant', 'contract_bridge terminus', 'condense oddment', 'press term\\\\S\\\\s*\\\\S', 'compact term', 'contract_bridge terminate', 'abbreviate goal', 'cut term\\\\S\\\\s*\\\\S', 'reduce last', 'sign closing', 'concentrate stop', 'undertake end', 'sign remnant', 'cut terminus', 'cut finish', 'contract term', 'condense term\\\\S\\\\s*\\\\S', 'foreshorten remainder', 'take destruction', 'declaration finish', 'get condition', 'sign goal', 'shrink closing', 'reduce ending', 'undertake ending', 'reduce terminus', 'compact goal', 'sign cease', 'sign_up remnant', 'compact oddment', 'cut ending', 'declaration close', 'undertake goal', 'take term', 'sign_on term', 'condense ending', 'cut conclusion', 'sign finish', 'reduce remainder', 'compress terminal', 'abridge finish', 'declaration ending', 'declaration last', 'squeeze terminal', 'narrow terminal_figure', 'cut cease', 'sign_on closing', 'press death', 'undertake remnant', 'foreshorten finish', 'take last', 'sign_up ending', 'squeeze remainder', 'reduce terminal', 'shorten remainder', 'undertake close', 'compact close', 'declaration terminus', 'declaration final_stage', 'abbreviate terminal', 'abridge closing', 'cut terminal', 'condense death', 'shorten goal', 'foreshorten term\\\\S\\\\s*\\\\S', 'sign final_stage', 'sign_up close', 'undertake destruction', 'shrink end', 'undertake death', 'press destruction', 'narrow cease', 'condense conclusion', 'condense condition', 'abbreviate last', 'concentrate terminal_figure', 'contract remainder', 'take terminus', 'press oddment', 'condense stop', 'shorten final_stage', 'get terminate', 'narrow remnant', 'get cease', 'sign close', 'reduce death', 'contract closing', 'compress full_term', 'contract_bridge final_stage', 'foreshorten end', 'take oddment', 'reduce finish', 'narrow term\\\\S\\\\s*\\\\S', 'contract final_stage', 'shrink terminal', 'abridge cease', 'concentrate conclusion', 'reduce full_term', 'contract terminate', 'sign_on goal', 'take death', 'foreshorten terminal', 'concentrate finish', 'reduce terminate', 'concentrate cease', 'contract finish', 'sign_on remnant', 'foreshorten oddment', 'foreshorten condition', 'cut final_stage', 'reduce close', 'compact terminate', 'abridge remainder', 'reduce conclusion', 'reduce closing', 'abridge end', 'compress finish', 'narrow remainder', 'sign last', 'constrict closing', 'contract_bridge goal', 'take term\\\\S\\\\s*\\\\S', 'sign_up stop', 'foreshorten full_term', 'constrict conclusion', 'cut stop', 'concentrate terminate', 'take closing', 'take remainder', 'declaration conclusion', 'foreshorten destruction', 'compact final_stage', 'squeeze finish', 'constrict last', 'contract goal', 'compact terminal', 'contract oddment', 'constrict end', 'sign oddment', 'constrict term\\\\S\\\\s*\\\\S', 'abbreviate term', 'compact conclusion', 'condense destruction', 'shorten oddment', 'shrink final_stage', 'contract full_term', 'press goal', 'undertake terminal_figure', 'constrict death', 'take ending', 'contract_bridge stop', 'contract_bridge remainder', 'shorten term\\\\S\\\\s*\\\\S', 'undertake stop', 'contract remnant', 'compact death', 'cut oddment', 'contract condition', 'narrow finish', 'concentrate last', 'sign_up terminal', 'abridge close', 'contract close', 'press condition', 'shrink terminus', 'squeeze term\\\\S\\\\s*\\\\S', 'condense terminate', 'declaration closing', 'undertake finish', 'sign_on ending', 'condense finish', 'sign full_term', 'concentrate terminal', 'foreshorten terminus', 'condense remnant', 'sign_up closing', 'concentrate end', 'abbreviate terminate', 'sign_up condition', 'cut full_term', 'concentrate full_term', 'squeeze cease', 'concentrate goal', 'press terminus', 'narrow terminal', 'shrink oddment', 'abbreviate final_stage', 'abridge term', 'abbreviate term\\\\S\\\\s*\\\\S', 'contract_bridge terminal_figure', 'constrict oddment', 'sign_up full_term', 'sign conclusion', 'get full_term', 'abridge remnant', 'shrink term\\\\S\\\\s*\\\\S', 'declaration term', 'sign terminal_figure', 'reduce terminal_figure', 'press remnant', 'contract_bridge full_term', 'compact remnant', 'get last', 'shorten close', 'squeeze condition', 'sign_on death', 'reduce cease', 'abbreviate finish', 'constrict terminal', 'foreshorten remnant', 'compact terminus', 'foreshorten stop', 'narrow terminate', 'press end', 'declaration oddment', 'reduce goal', 'take goal', 'abridge terminal_figure', 'compress cease', 'abbreviate destruction', 'abridge goal', 'compress ending', 'press terminal_figure', 'cut remnant', 'abbreviate cease', 'undertake terminal', 'shorten closing', 'condense terminus', 'reduce term', 'constrict finish', 'narrow closing', 'compress term', 'narrow stop', 'sign_up last', 'get terminus', 'take terminal_figure', 'squeeze closing', 'narrow condition', 'shrink remnant', 'get closing', 'cut closing', 'constrict destruction', 'condense terminal_figure', 'narrow end', 'squeeze term', 'compress destruction', 'reduce condition', 'get death', 'abbreviate terminal_figure', 'contract destruction', 'compress terminate', 'press terminate', 'foreshorten terminal_figure', 'contract_bridge closing', 'declaration full_term', 'squeeze destruction', 'get remainder', 'declaration terminate', 'squeeze final_stage', 'contract end', 'sign destruction', 'take full_term', 'cut terminal_figure', 'shrink finish', 'squeeze terminate', 'declaration condition', 'abridge terminus', 'constrict close', 'compact cease', 'condense close', 'abbreviate oddment', 'compact remainder', 'compact closing', 'compress goal', 'compress conclusion', 'shorten conclusion', 'get final_stage', 'compact end', 'press close', 'undertake term\\\\S\\\\s*\\\\S', 'sign_on terminus', 'foreshorten final_stage', 'contract stop', 'constrict condition', 'sign terminate', 'foreshorten ending', 'compact last', 'concentrate term', 'sign_up term', 'reduce term\\\\S\\\\s*\\\\S', 'get goal', 'declaration death', 'condense full_term', 'cut goal', 'sign_up death', 'concentrate final_stage', 'concentrate term\\\\S\\\\s*\\\\S', 'shorten stop', 'contract_bridge condition', 'abbreviate full_term', 'declaration destruction', 'shorten ending', 'condense end', 'sign_on conclusion', 'get terminal_figure', 'squeeze conclusion', 'abbreviate condition', 'shorten terminate', 'constrict terminus', 'contract_bridge oddment', 'squeeze remnant', 'concentrate close', 'shorten terminus', 'compress closing', 'contract conclusion', 'sign_up terminus', 'shrink last', 'constrict terminate', 'get end', 'contract_bridge last', 'undertake closing', 'declaration remnant', 'sign term\\\\S\\\\s*\\\\S', 'sign_on end', 'undertake cease', 'reduce stop', 'reduce end', 'abridge condition', 'shorten end', 'shorten last', 'sign_up oddment', 'abbreviate remainder', 'undertake remainder', 'get destruction', 'sign end', 'foreshorten closing', 'shorten death', 'compress oddment', 'take stop', 'cut close', 'press conclusion', 'narrow term', 'concentrate oddment', 'contract_bridge destruction', 'press stop', 'sign stop', 'declaration remainder', 'undertake conclusion', 'shrink remainder', 'cut remainder', 'abridge death', 'narrow conclusion'}\n",
      "TX 19015 EOC ENT (7.2.18).txt\n",
      "{'effectual date\\\\S\\\\s*\\\\S', 'efficacious', 'in_effect date\\\\S\\\\s*\\\\S', 'good', 'in_force', 'efficient', 'good date\\\\S\\\\s*\\\\S', 'effectual', 'in_effect', 'effective date\\\\S\\\\s*\\\\S', 'efficient date\\\\S\\\\s*\\\\S', 'in_force date\\\\S\\\\s*\\\\S', 'effective', 'efficacious date\\\\S\\\\s*\\\\S'}\n",
      "start:  2018-01-01 00:00:00\n",
      "{'get conclusion', 'compress terminus', 'sign_on full_term', 'abridge terminate', 'squeeze last', 'contract term\\\\S\\\\s*\\\\S', 'take close', 'foreshorten term', 'squeeze stop', 'sign ending', 'declaration term\\\\S\\\\s*\\\\S', 'shorten terminal_figure', 'shrink condition', 'sign remainder', 'reduce final_stage', 'sign_on close', 'abridge terminal', 'declaration end', 'take condition', 'compact stop', 'condense terminal', 'narrow last', 'sign_on last', 'sign terminal', 'declaration terminal_figure', 'shrink terminate', 'constrict stop', 'press last', 'contract_bridge ending', 'shorten finish', 'declaration stop', 'undertake final_stage', 'constrict goal', 'constrict remnant', 'contract term ', 'constrict full_term', 'compact finish', 'constrict remainder', 'compact full_term', 'shorten destruction', 'contract cease', 'compact ending', 'cut destruction', 'take conclusion', 'reduce remnant', 'sign_on term\\\\S\\\\s*\\\\S', 'sign_up remainder', 'compress stop', 'take terminal', 'press closing', 'take finish', 'shrink close', 'compress condition', 'concentrate ending', 'sign_up terminate', 'concentrate closing', 'sign_on stop', 'compact condition', 'contract_bridge terminal', 'constrict cease', 'shorten terminal', 'sign condition', 'sign_on cease', 'foreshorten terminate', 'take cease', 'shrink terminal_figure', 'contract terminal', 'cut term', 'abridge last', 'shrink ending', 'narrow destruction', 'contract terminal_figure', 'sign_up cease', 'condense closing', 'contract death', 'condense goal', 'undertake condition', 'squeeze goal', 'constrict terminal_figure', 'foreshorten conclusion', 'narrow death', 'compress end', 'get oddment', 'cut terminate', 'shrink destruction', 'sign_on terminal_figure', 'condense last', 'squeeze full_term', 'condense cease', 'abbreviate ending', 'concentrate destruction', 'abridge destruction', 'squeeze end', 'foreshorten last', 'constrict term', 'compress terminal_figure', 'shrink death', 'sign_up conclusion', 'sign_on destruction', 'sign_on terminal', 'squeeze terminal_figure', 'contract_bridge end', 'constrict final_stage', 'condense term', 'narrow final_stage', 'narrow goal', 'compress remnant', 'sign_on finish', 'undertake last', 'press terminal', 'press full_term', 'concentrate terminus', 'sign_up final_stage', 'sign_up terminal_figure', 'press final_stage', 'sign term', 'cut last', 'undertake full_term', 'squeeze terminus', 'shrink full_term', 'shrink stop', 'compact terminal_figure', 'compress death', 'contract_bridge finish', 'contract_bridge close', 'press finish', 'sign_up destruction', 'abbreviate death', 'abridge oddment', 'compress remainder', 'squeeze oddment', 'abridge ending', 'abbreviate conclusion', 'squeeze death', 'condense remainder', 'contract ending', 'contract_bridge term\\\\S\\\\s*\\\\S', 'shrink conclusion', 'sign_on oddment', 'contract_bridge conclusion', 'shorten full_term', 'abbreviate remnant', 'shrink goal', 'narrow ending', 'abbreviate terminus', 'get term', 'concentrate remainder', 'constrict ending', 'compress close', 'concentrate death', 'abbreviate end', 'get term\\\\S\\\\s*\\\\S', 'press ending', 'get remnant', 'squeeze close', 'get close', 'abbreviate stop', 'sign_on final_stage', 'declaration goal', 'undertake term', 'condense final_stage', 'sign_up goal', 'shorten cease', 'sign_up end', 'compress term\\\\S\\\\s*\\\\S', 'shrink cease', 'abbreviate closing', 'abridge full_term', 'abbreviate close', 'reduce oddment', 'compress final_stage', 'get stop', 'contract terminus', 'sign_up finish', 'undertake oddment', 'foreshorten goal', 'cut condition', 'reduce destruction', 'concentrate remnant', 'concentrate condition', 'press remainder', 'abridge stop', 'cut end', 'shrink term', 'sign_on remainder', 'press term', 'take final_stage', 'narrow close', 'sign_on terminate', 'sign_on condition', 'contract last', 'sign death', 'shorten condition', 'take end', 'take terminate', 'declaration cease', 'undertake terminus', 'sign terminus', 'compact destruction', 'narrow oddment', 'abridge conclusion', 'get ending', 'cut death', 'press cease', 'abridge final_stage', 'compress last', 'squeeze ending', 'undertake terminate', 'foreshorten close', 'narrow terminus', 'compact term\\\\S\\\\s*\\\\S', 'get finish', 'foreshorten cease', 'take remnant', 'get terminal', 'narrow full_term', 'declaration terminal', 'shorten term', 'contract_bridge cease', 'abridge term\\\\S\\\\s*\\\\S', 'shorten remnant', 'sign_up term\\\\S\\\\s*\\\\S', 'contract_bridge term', 'foreshorten death', 'contract_bridge death', 'contract_bridge remnant', 'contract_bridge terminus', 'condense oddment', 'press term\\\\S\\\\s*\\\\S', 'compact term', 'contract_bridge terminate', 'abbreviate goal', 'cut term\\\\S\\\\s*\\\\S', 'reduce last', 'sign closing', 'concentrate stop', 'undertake end', 'sign remnant', 'cut terminus', 'cut finish', 'contract term', 'condense term\\\\S\\\\s*\\\\S', 'foreshorten remainder', 'take destruction', 'declaration finish', 'get condition', 'sign goal', 'shrink closing', 'reduce ending', 'undertake ending', 'reduce terminus', 'compact goal', 'sign cease', 'sign_up remnant', 'compact oddment', 'cut ending', 'declaration close', 'undertake goal', 'take term', 'sign_on term', 'condense ending', 'cut conclusion', 'sign finish', 'reduce remainder', 'compress terminal', 'abridge finish', 'declaration ending', 'declaration last', 'squeeze terminal', 'narrow terminal_figure', 'cut cease', 'sign_on closing', 'press death', 'undertake remnant', 'foreshorten finish', 'take last', 'sign_up ending', 'squeeze remainder', 'reduce terminal', 'shorten remainder', 'undertake close', 'compact close', 'declaration terminus', 'declaration final_stage', 'abbreviate terminal', 'abridge closing', 'cut terminal', 'condense death', 'shorten goal', 'foreshorten term\\\\S\\\\s*\\\\S', 'sign final_stage', 'sign_up close', 'undertake destruction', 'shrink end', 'undertake death', 'press destruction', 'narrow cease', 'condense conclusion', 'condense condition', 'abbreviate last', 'concentrate terminal_figure', 'contract remainder', 'take terminus', 'press oddment', 'condense stop', 'shorten final_stage', 'get terminate', 'narrow remnant', 'get cease', 'sign close', 'reduce death', 'contract closing', 'compress full_term', 'contract_bridge final_stage', 'foreshorten end', 'take oddment', 'reduce finish', 'narrow term\\\\S\\\\s*\\\\S', 'contract final_stage', 'shrink terminal', 'abridge cease', 'concentrate conclusion', 'reduce full_term', 'contract terminate', 'sign_on goal', 'take death', 'foreshorten terminal', 'concentrate finish', 'reduce terminate', 'concentrate cease', 'contract finish', 'sign_on remnant', 'foreshorten oddment', 'foreshorten condition', 'cut final_stage', 'reduce close', 'compact terminate', 'abridge remainder', 'reduce conclusion', 'reduce closing', 'abridge end', 'compress finish', 'narrow remainder', 'sign last', 'constrict closing', 'contract_bridge goal', 'take term\\\\S\\\\s*\\\\S', 'sign_up stop', 'foreshorten full_term', 'constrict conclusion', 'cut stop', 'concentrate terminate', 'take closing', 'take remainder', 'declaration conclusion', 'foreshorten destruction', 'compact final_stage', 'squeeze finish', 'constrict last', 'contract goal', 'compact terminal', 'contract oddment', 'constrict end', 'sign oddment', 'constrict term\\\\S\\\\s*\\\\S', 'abbreviate term', 'compact conclusion', 'condense destruction', 'shorten oddment', 'shrink final_stage', 'contract full_term', 'press goal', 'undertake terminal_figure', 'constrict death', 'take ending', 'contract_bridge stop', 'contract_bridge remainder', 'shorten term\\\\S\\\\s*\\\\S', 'undertake stop', 'contract remnant', 'compact death', 'cut oddment', 'contract condition', 'narrow finish', 'concentrate last', 'sign_up terminal', 'abridge close', 'contract close', 'press condition', 'shrink terminus', 'squeeze term\\\\S\\\\s*\\\\S', 'condense terminate', 'declaration closing', 'undertake finish', 'sign_on ending', 'condense finish', 'sign full_term', 'concentrate terminal', 'foreshorten terminus', 'condense remnant', 'sign_up closing', 'concentrate end', 'abbreviate terminate', 'sign_up condition', 'cut full_term', 'concentrate full_term', 'squeeze cease', 'concentrate goal', 'press terminus', 'narrow terminal', 'shrink oddment', 'abbreviate final_stage', 'abridge term', 'abbreviate term\\\\S\\\\s*\\\\S', 'contract_bridge terminal_figure', 'constrict oddment', 'sign_up full_term', 'sign conclusion', 'get full_term', 'abridge remnant', 'shrink term\\\\S\\\\s*\\\\S', 'declaration term', 'sign terminal_figure', 'reduce terminal_figure', 'press remnant', 'contract_bridge full_term', 'compact remnant', 'get last', 'shorten close', 'squeeze condition', 'sign_on death', 'reduce cease', 'abbreviate finish', 'constrict terminal', 'foreshorten remnant', 'compact terminus', 'foreshorten stop', 'narrow terminate', 'press end', 'declaration oddment', 'reduce goal', 'take goal', 'abridge terminal_figure', 'compress cease', 'abbreviate destruction', 'abridge goal', 'compress ending', 'press terminal_figure', 'cut remnant', 'abbreviate cease', 'undertake terminal', 'shorten closing', 'condense terminus', 'reduce term', 'constrict finish', 'narrow closing', 'compress term', 'narrow stop', 'sign_up last', 'get terminus', 'take terminal_figure', 'squeeze closing', 'narrow condition', 'shrink remnant', 'get closing', 'cut closing', 'constrict destruction', 'condense terminal_figure', 'narrow end', 'squeeze term', 'compress destruction', 'reduce condition', 'get death', 'abbreviate terminal_figure', 'contract destruction', 'compress terminate', 'press terminate', 'foreshorten terminal_figure', 'contract_bridge closing', 'declaration full_term', 'squeeze destruction', 'get remainder', 'declaration terminate', 'squeeze final_stage', 'contract end', 'sign destruction', 'take full_term', 'cut terminal_figure', 'shrink finish', 'squeeze terminate', 'declaration condition', 'abridge terminus', 'constrict close', 'compact cease', 'condense close', 'abbreviate oddment', 'compact remainder', 'compact closing', 'compress goal', 'compress conclusion', 'shorten conclusion', 'get final_stage', 'compact end', 'press close', 'undertake term\\\\S\\\\s*\\\\S', 'sign_on terminus', 'foreshorten final_stage', 'contract stop', 'constrict condition', 'sign terminate', 'foreshorten ending', 'compact last', 'concentrate term', 'sign_up term', 'reduce term\\\\S\\\\s*\\\\S', 'get goal', 'declaration death', 'condense full_term', 'cut goal', 'sign_up death', 'concentrate final_stage', 'concentrate term\\\\S\\\\s*\\\\S', 'shorten stop', 'contract_bridge condition', 'abbreviate full_term', 'declaration destruction', 'shorten ending', 'condense end', 'sign_on conclusion', 'get terminal_figure', 'squeeze conclusion', 'abbreviate condition', 'shorten terminate', 'constrict terminus', 'contract_bridge oddment', 'squeeze remnant', 'concentrate close', 'shorten terminus', 'compress closing', 'contract conclusion', 'sign_up terminus', 'shrink last', 'constrict terminate', 'get end', 'contract_bridge last', 'undertake closing', 'declaration remnant', 'sign term\\\\S\\\\s*\\\\S', 'sign_on end', 'undertake cease', 'reduce stop', 'reduce end', 'abridge condition', 'shorten end', 'shorten last', 'sign_up oddment', 'abbreviate remainder', 'undertake remainder', 'get destruction', 'sign end', 'foreshorten closing', 'shorten death', 'compress oddment', 'take stop', 'cut close', 'press conclusion', 'narrow term', 'concentrate oddment', 'contract_bridge destruction', 'press stop', 'sign stop', 'declaration remainder', 'undertake conclusion', 'shrink remainder', 'cut remainder', 'abridge death', 'narrow conclusion'}\n"
     ]
    },
    {
     "name": "stdout",
     "output_type": "stream",
     "text": [
      "test-pdf.txt\n",
      "{'effectual date\\\\S\\\\s*\\\\S', 'efficacious', 'in_effect date\\\\S\\\\s*\\\\S', 'good', 'in_force', 'efficient', 'good date\\\\S\\\\s*\\\\S', 'effectual', 'in_effect', 'effective date\\\\S\\\\s*\\\\S', 'efficient date\\\\S\\\\s*\\\\S', 'in_force date\\\\S\\\\s*\\\\S', 'effective', 'efficacious date\\\\S\\\\s*\\\\S'}\n",
      "{'get conclusion', 'compress terminus', 'sign_on full_term', 'abridge terminate', 'squeeze last', 'contract term\\\\S\\\\s*\\\\S', 'take close', 'foreshorten term', 'squeeze stop', 'sign ending', 'declaration term\\\\S\\\\s*\\\\S', 'shorten terminal_figure', 'shrink condition', 'sign remainder', 'reduce final_stage', 'sign_on close', 'abridge terminal', 'declaration end', 'take condition', 'compact stop', 'condense terminal', 'narrow last', 'sign_on last', 'sign terminal', 'declaration terminal_figure', 'shrink terminate', 'constrict stop', 'press last', 'contract_bridge ending', 'shorten finish', 'declaration stop', 'undertake final_stage', 'constrict goal', 'constrict remnant', 'contract term ', 'constrict full_term', 'compact finish', 'constrict remainder', 'compact full_term', 'shorten destruction', 'contract cease', 'compact ending', 'cut destruction', 'take conclusion', 'reduce remnant', 'sign_on term\\\\S\\\\s*\\\\S', 'sign_up remainder', 'compress stop', 'take terminal', 'press closing', 'take finish', 'shrink close', 'compress condition', 'concentrate ending', 'sign_up terminate', 'concentrate closing', 'sign_on stop', 'compact condition', 'contract_bridge terminal', 'constrict cease', 'shorten terminal', 'sign condition', 'sign_on cease', 'foreshorten terminate', 'take cease', 'shrink terminal_figure', 'contract terminal', 'cut term', 'abridge last', 'shrink ending', 'narrow destruction', 'contract terminal_figure', 'sign_up cease', 'condense closing', 'contract death', 'condense goal', 'undertake condition', 'squeeze goal', 'constrict terminal_figure', 'foreshorten conclusion', 'narrow death', 'compress end', 'get oddment', 'cut terminate', 'shrink destruction', 'sign_on terminal_figure', 'condense last', 'squeeze full_term', 'condense cease', 'abbreviate ending', 'concentrate destruction', 'abridge destruction', 'squeeze end', 'foreshorten last', 'constrict term', 'compress terminal_figure', 'shrink death', 'sign_up conclusion', 'sign_on destruction', 'sign_on terminal', 'squeeze terminal_figure', 'contract_bridge end', 'constrict final_stage', 'condense term', 'narrow final_stage', 'narrow goal', 'compress remnant', 'sign_on finish', 'undertake last', 'press terminal', 'press full_term', 'concentrate terminus', 'sign_up final_stage', 'sign_up terminal_figure', 'press final_stage', 'sign term', 'cut last', 'undertake full_term', 'squeeze terminus', 'shrink full_term', 'shrink stop', 'compact terminal_figure', 'compress death', 'contract_bridge finish', 'contract_bridge close', 'press finish', 'sign_up destruction', 'abbreviate death', 'abridge oddment', 'compress remainder', 'squeeze oddment', 'abridge ending', 'abbreviate conclusion', 'squeeze death', 'condense remainder', 'contract ending', 'contract_bridge term\\\\S\\\\s*\\\\S', 'shrink conclusion', 'sign_on oddment', 'contract_bridge conclusion', 'shorten full_term', 'abbreviate remnant', 'shrink goal', 'narrow ending', 'abbreviate terminus', 'get term', 'concentrate remainder', 'constrict ending', 'compress close', 'concentrate death', 'abbreviate end', 'get term\\\\S\\\\s*\\\\S', 'press ending', 'get remnant', 'squeeze close', 'get close', 'abbreviate stop', 'sign_on final_stage', 'declaration goal', 'undertake term', 'condense final_stage', 'sign_up goal', 'shorten cease', 'sign_up end', 'compress term\\\\S\\\\s*\\\\S', 'shrink cease', 'abbreviate closing', 'abridge full_term', 'abbreviate close', 'reduce oddment', 'compress final_stage', 'get stop', 'contract terminus', 'sign_up finish', 'undertake oddment', 'foreshorten goal', 'cut condition', 'reduce destruction', 'concentrate remnant', 'concentrate condition', 'press remainder', 'abridge stop', 'cut end', 'shrink term', 'sign_on remainder', 'press term', 'take final_stage', 'narrow close', 'sign_on terminate', 'sign_on condition', 'contract last', 'sign death', 'shorten condition', 'take end', 'take terminate', 'declaration cease', 'undertake terminus', 'sign terminus', 'compact destruction', 'narrow oddment', 'abridge conclusion', 'get ending', 'cut death', 'press cease', 'abridge final_stage', 'compress last', 'squeeze ending', 'undertake terminate', 'foreshorten close', 'narrow terminus', 'compact term\\\\S\\\\s*\\\\S', 'get finish', 'foreshorten cease', 'take remnant', 'get terminal', 'narrow full_term', 'declaration terminal', 'shorten term', 'contract_bridge cease', 'abridge term\\\\S\\\\s*\\\\S', 'shorten remnant', 'sign_up term\\\\S\\\\s*\\\\S', 'contract_bridge term', 'foreshorten death', 'contract_bridge death', 'contract_bridge remnant', 'contract_bridge terminus', 'condense oddment', 'press term\\\\S\\\\s*\\\\S', 'compact term', 'contract_bridge terminate', 'abbreviate goal', 'cut term\\\\S\\\\s*\\\\S', 'reduce last', 'sign closing', 'concentrate stop', 'undertake end', 'sign remnant', 'cut terminus', 'cut finish', 'contract term', 'condense term\\\\S\\\\s*\\\\S', 'foreshorten remainder', 'take destruction', 'declaration finish', 'get condition', 'sign goal', 'shrink closing', 'reduce ending', 'undertake ending', 'reduce terminus', 'compact goal', 'sign cease', 'sign_up remnant', 'compact oddment', 'cut ending', 'declaration close', 'undertake goal', 'take term', 'sign_on term', 'condense ending', 'cut conclusion', 'sign finish', 'reduce remainder', 'compress terminal', 'abridge finish', 'declaration ending', 'declaration last', 'squeeze terminal', 'narrow terminal_figure', 'cut cease', 'sign_on closing', 'press death', 'undertake remnant', 'foreshorten finish', 'take last', 'sign_up ending', 'squeeze remainder', 'reduce terminal', 'shorten remainder', 'undertake close', 'compact close', 'declaration terminus', 'declaration final_stage', 'abbreviate terminal', 'abridge closing', 'cut terminal', 'condense death', 'shorten goal', 'foreshorten term\\\\S\\\\s*\\\\S', 'sign final_stage', 'sign_up close', 'undertake destruction', 'shrink end', 'undertake death', 'press destruction', 'narrow cease', 'condense conclusion', 'condense condition', 'abbreviate last', 'concentrate terminal_figure', 'contract remainder', 'take terminus', 'press oddment', 'condense stop', 'shorten final_stage', 'get terminate', 'narrow remnant', 'get cease', 'sign close', 'reduce death', 'contract closing', 'compress full_term', 'contract_bridge final_stage', 'foreshorten end', 'take oddment', 'reduce finish', 'narrow term\\\\S\\\\s*\\\\S', 'contract final_stage', 'shrink terminal', 'abridge cease', 'concentrate conclusion', 'reduce full_term', 'contract terminate', 'sign_on goal', 'take death', 'foreshorten terminal', 'concentrate finish', 'reduce terminate', 'concentrate cease', 'contract finish', 'sign_on remnant', 'foreshorten oddment', 'foreshorten condition', 'cut final_stage', 'reduce close', 'compact terminate', 'abridge remainder', 'reduce conclusion', 'reduce closing', 'abridge end', 'compress finish', 'narrow remainder', 'sign last', 'constrict closing', 'contract_bridge goal', 'take term\\\\S\\\\s*\\\\S', 'sign_up stop', 'foreshorten full_term', 'constrict conclusion', 'cut stop', 'concentrate terminate', 'take closing', 'take remainder', 'declaration conclusion', 'foreshorten destruction', 'compact final_stage', 'squeeze finish', 'constrict last', 'contract goal', 'compact terminal', 'contract oddment', 'constrict end', 'sign oddment', 'constrict term\\\\S\\\\s*\\\\S', 'abbreviate term', 'compact conclusion', 'condense destruction', 'shorten oddment', 'shrink final_stage', 'contract full_term', 'press goal', 'undertake terminal_figure', 'constrict death', 'take ending', 'contract_bridge stop', 'contract_bridge remainder', 'shorten term\\\\S\\\\s*\\\\S', 'undertake stop', 'contract remnant', 'compact death', 'cut oddment', 'contract condition', 'narrow finish', 'concentrate last', 'sign_up terminal', 'abridge close', 'contract close', 'press condition', 'shrink terminus', 'squeeze term\\\\S\\\\s*\\\\S', 'condense terminate', 'declaration closing', 'undertake finish', 'sign_on ending', 'condense finish', 'sign full_term', 'concentrate terminal', 'foreshorten terminus', 'condense remnant', 'sign_up closing', 'concentrate end', 'abbreviate terminate', 'sign_up condition', 'cut full_term', 'concentrate full_term', 'squeeze cease', 'concentrate goal', 'press terminus', 'narrow terminal', 'shrink oddment', 'abbreviate final_stage', 'abridge term', 'abbreviate term\\\\S\\\\s*\\\\S', 'contract_bridge terminal_figure', 'constrict oddment', 'sign_up full_term', 'sign conclusion', 'get full_term', 'abridge remnant', 'shrink term\\\\S\\\\s*\\\\S', 'declaration term', 'sign terminal_figure', 'reduce terminal_figure', 'press remnant', 'contract_bridge full_term', 'compact remnant', 'get last', 'shorten close', 'squeeze condition', 'sign_on death', 'reduce cease', 'abbreviate finish', 'constrict terminal', 'foreshorten remnant', 'compact terminus', 'foreshorten stop', 'narrow terminate', 'press end', 'declaration oddment', 'reduce goal', 'take goal', 'abridge terminal_figure', 'compress cease', 'abbreviate destruction', 'abridge goal', 'compress ending', 'press terminal_figure', 'cut remnant', 'abbreviate cease', 'undertake terminal', 'shorten closing', 'condense terminus', 'reduce term', 'constrict finish', 'narrow closing', 'compress term', 'narrow stop', 'sign_up last', 'get terminus', 'take terminal_figure', 'squeeze closing', 'narrow condition', 'shrink remnant', 'get closing', 'cut closing', 'constrict destruction', 'condense terminal_figure', 'narrow end', 'squeeze term', 'compress destruction', 'reduce condition', 'get death', 'abbreviate terminal_figure', 'contract destruction', 'compress terminate', 'press terminate', 'foreshorten terminal_figure', 'contract_bridge closing', 'declaration full_term', 'squeeze destruction', 'get remainder', 'declaration terminate', 'squeeze final_stage', 'contract end', 'sign destruction', 'take full_term', 'cut terminal_figure', 'shrink finish', 'squeeze terminate', 'declaration condition', 'abridge terminus', 'constrict close', 'compact cease', 'condense close', 'abbreviate oddment', 'compact remainder', 'compact closing', 'compress goal', 'compress conclusion', 'shorten conclusion', 'get final_stage', 'compact end', 'press close', 'undertake term\\\\S\\\\s*\\\\S', 'sign_on terminus', 'foreshorten final_stage', 'contract stop', 'constrict condition', 'sign terminate', 'foreshorten ending', 'compact last', 'concentrate term', 'sign_up term', 'reduce term\\\\S\\\\s*\\\\S', 'get goal', 'declaration death', 'condense full_term', 'cut goal', 'sign_up death', 'concentrate final_stage', 'concentrate term\\\\S\\\\s*\\\\S', 'shorten stop', 'contract_bridge condition', 'abbreviate full_term', 'declaration destruction', 'shorten ending', 'condense end', 'sign_on conclusion', 'get terminal_figure', 'squeeze conclusion', 'abbreviate condition', 'shorten terminate', 'constrict terminus', 'contract_bridge oddment', 'squeeze remnant', 'concentrate close', 'shorten terminus', 'compress closing', 'contract conclusion', 'sign_up terminus', 'shrink last', 'constrict terminate', 'get end', 'contract_bridge last', 'undertake closing', 'declaration remnant', 'sign term\\\\S\\\\s*\\\\S', 'sign_on end', 'undertake cease', 'reduce stop', 'reduce end', 'abridge condition', 'shorten end', 'shorten last', 'sign_up oddment', 'abbreviate remainder', 'undertake remainder', 'get destruction', 'sign end', 'foreshorten closing', 'shorten death', 'compress oddment', 'take stop', 'cut close', 'press conclusion', 'narrow term', 'concentrate oddment', 'contract_bridge destruction', 'press stop', 'sign stop', 'declaration remainder', 'undertake conclusion', 'shrink remainder', 'cut remainder', 'abridge death', 'narrow conclusion'}\n",
      "TX-19278 ASC-ENT (7.2.18)-pdf.txt\n",
      "{'effectual date\\\\S\\\\s*\\\\S', 'efficacious', 'in_effect date\\\\S\\\\s*\\\\S', 'good', 'in_force', 'efficient', 'good date\\\\S\\\\s*\\\\S', 'effectual', 'in_effect', 'effective date\\\\S\\\\s*\\\\S', 'efficient date\\\\S\\\\s*\\\\S', 'in_force date\\\\S\\\\s*\\\\S', 'effective', 'efficacious date\\\\S\\\\s*\\\\S'}\n",
      "start:  2018-03-01 00:00:00\n",
      "{'get conclusion', 'compress terminus', 'sign_on full_term', 'abridge terminate', 'squeeze last', 'contract term\\\\S\\\\s*\\\\S', 'take close', 'foreshorten term', 'squeeze stop', 'sign ending', 'declaration term\\\\S\\\\s*\\\\S', 'shorten terminal_figure', 'shrink condition', 'sign remainder', 'reduce final_stage', 'sign_on close', 'abridge terminal', 'declaration end', 'take condition', 'compact stop', 'condense terminal', 'narrow last', 'sign_on last', 'sign terminal', 'declaration terminal_figure', 'shrink terminate', 'constrict stop', 'press last', 'contract_bridge ending', 'shorten finish', 'declaration stop', 'undertake final_stage', 'constrict goal', 'constrict remnant', 'contract term ', 'constrict full_term', 'compact finish', 'constrict remainder', 'compact full_term', 'shorten destruction', 'contract cease', 'compact ending', 'cut destruction', 'take conclusion', 'reduce remnant', 'sign_on term\\\\S\\\\s*\\\\S', 'sign_up remainder', 'compress stop', 'take terminal', 'press closing', 'take finish', 'shrink close', 'compress condition', 'concentrate ending', 'sign_up terminate', 'concentrate closing', 'sign_on stop', 'compact condition', 'contract_bridge terminal', 'constrict cease', 'shorten terminal', 'sign condition', 'sign_on cease', 'foreshorten terminate', 'take cease', 'shrink terminal_figure', 'contract terminal', 'cut term', 'abridge last', 'shrink ending', 'narrow destruction', 'contract terminal_figure', 'sign_up cease', 'condense closing', 'contract death', 'condense goal', 'undertake condition', 'squeeze goal', 'constrict terminal_figure', 'foreshorten conclusion', 'narrow death', 'compress end', 'get oddment', 'cut terminate', 'shrink destruction', 'sign_on terminal_figure', 'condense last', 'squeeze full_term', 'condense cease', 'abbreviate ending', 'concentrate destruction', 'abridge destruction', 'squeeze end', 'foreshorten last', 'constrict term', 'compress terminal_figure', 'shrink death', 'sign_up conclusion', 'sign_on destruction', 'sign_on terminal', 'squeeze terminal_figure', 'contract_bridge end', 'constrict final_stage', 'condense term', 'narrow final_stage', 'narrow goal', 'compress remnant', 'sign_on finish', 'undertake last', 'press terminal', 'press full_term', 'concentrate terminus', 'sign_up final_stage', 'sign_up terminal_figure', 'press final_stage', 'sign term', 'cut last', 'undertake full_term', 'squeeze terminus', 'shrink full_term', 'shrink stop', 'compact terminal_figure', 'compress death', 'contract_bridge finish', 'contract_bridge close', 'press finish', 'sign_up destruction', 'abbreviate death', 'abridge oddment', 'compress remainder', 'squeeze oddment', 'abridge ending', 'abbreviate conclusion', 'squeeze death', 'condense remainder', 'contract ending', 'contract_bridge term\\\\S\\\\s*\\\\S', 'shrink conclusion', 'sign_on oddment', 'contract_bridge conclusion', 'shorten full_term', 'abbreviate remnant', 'shrink goal', 'narrow ending', 'abbreviate terminus', 'get term', 'concentrate remainder', 'constrict ending', 'compress close', 'concentrate death', 'abbreviate end', 'get term\\\\S\\\\s*\\\\S', 'press ending', 'get remnant', 'squeeze close', 'get close', 'abbreviate stop', 'sign_on final_stage', 'declaration goal', 'undertake term', 'condense final_stage', 'sign_up goal', 'shorten cease', 'sign_up end', 'compress term\\\\S\\\\s*\\\\S', 'shrink cease', 'abbreviate closing', 'abridge full_term', 'abbreviate close', 'reduce oddment', 'compress final_stage', 'get stop', 'contract terminus', 'sign_up finish', 'undertake oddment', 'foreshorten goal', 'cut condition', 'reduce destruction', 'concentrate remnant', 'concentrate condition', 'press remainder', 'abridge stop', 'cut end', 'shrink term', 'sign_on remainder', 'press term', 'take final_stage', 'narrow close', 'sign_on terminate', 'sign_on condition', 'contract last', 'sign death', 'shorten condition', 'take end', 'take terminate', 'declaration cease', 'undertake terminus', 'sign terminus', 'compact destruction', 'narrow oddment', 'abridge conclusion', 'get ending', 'cut death', 'press cease', 'abridge final_stage', 'compress last', 'squeeze ending', 'undertake terminate', 'foreshorten close', 'narrow terminus', 'compact term\\\\S\\\\s*\\\\S', 'get finish', 'foreshorten cease', 'take remnant', 'get terminal', 'narrow full_term', 'declaration terminal', 'shorten term', 'contract_bridge cease', 'abridge term\\\\S\\\\s*\\\\S', 'shorten remnant', 'sign_up term\\\\S\\\\s*\\\\S', 'contract_bridge term', 'foreshorten death', 'contract_bridge death', 'contract_bridge remnant', 'contract_bridge terminus', 'condense oddment', 'press term\\\\S\\\\s*\\\\S', 'compact term', 'contract_bridge terminate', 'abbreviate goal', 'cut term\\\\S\\\\s*\\\\S', 'reduce last', 'sign closing', 'concentrate stop', 'undertake end', 'sign remnant', 'cut terminus', 'cut finish', 'contract term', 'condense term\\\\S\\\\s*\\\\S', 'foreshorten remainder', 'take destruction', 'declaration finish', 'get condition', 'sign goal', 'shrink closing', 'reduce ending', 'undertake ending', 'reduce terminus', 'compact goal', 'sign cease', 'sign_up remnant', 'compact oddment', 'cut ending', 'declaration close', 'undertake goal', 'take term', 'sign_on term', 'condense ending', 'cut conclusion', 'sign finish', 'reduce remainder', 'compress terminal', 'abridge finish', 'declaration ending', 'declaration last', 'squeeze terminal', 'narrow terminal_figure', 'cut cease', 'sign_on closing', 'press death', 'undertake remnant', 'foreshorten finish', 'take last', 'sign_up ending', 'squeeze remainder', 'reduce terminal', 'shorten remainder', 'undertake close', 'compact close', 'declaration terminus', 'declaration final_stage', 'abbreviate terminal', 'abridge closing', 'cut terminal', 'condense death', 'shorten goal', 'foreshorten term\\\\S\\\\s*\\\\S', 'sign final_stage', 'sign_up close', 'undertake destruction', 'shrink end', 'undertake death', 'press destruction', 'narrow cease', 'condense conclusion', 'condense condition', 'abbreviate last', 'concentrate terminal_figure', 'contract remainder', 'take terminus', 'press oddment', 'condense stop', 'shorten final_stage', 'get terminate', 'narrow remnant', 'get cease', 'sign close', 'reduce death', 'contract closing', 'compress full_term', 'contract_bridge final_stage', 'foreshorten end', 'take oddment', 'reduce finish', 'narrow term\\\\S\\\\s*\\\\S', 'contract final_stage', 'shrink terminal', 'abridge cease', 'concentrate conclusion', 'reduce full_term', 'contract terminate', 'sign_on goal', 'take death', 'foreshorten terminal', 'concentrate finish', 'reduce terminate', 'concentrate cease', 'contract finish', 'sign_on remnant', 'foreshorten oddment', 'foreshorten condition', 'cut final_stage', 'reduce close', 'compact terminate', 'abridge remainder', 'reduce conclusion', 'reduce closing', 'abridge end', 'compress finish', 'narrow remainder', 'sign last', 'constrict closing', 'contract_bridge goal', 'take term\\\\S\\\\s*\\\\S', 'sign_up stop', 'foreshorten full_term', 'constrict conclusion', 'cut stop', 'concentrate terminate', 'take closing', 'take remainder', 'declaration conclusion', 'foreshorten destruction', 'compact final_stage', 'squeeze finish', 'constrict last', 'contract goal', 'compact terminal', 'contract oddment', 'constrict end', 'sign oddment', 'constrict term\\\\S\\\\s*\\\\S', 'abbreviate term', 'compact conclusion', 'condense destruction', 'shorten oddment', 'shrink final_stage', 'contract full_term', 'press goal', 'undertake terminal_figure', 'constrict death', 'take ending', 'contract_bridge stop', 'contract_bridge remainder', 'shorten term\\\\S\\\\s*\\\\S', 'undertake stop', 'contract remnant', 'compact death', 'cut oddment', 'contract condition', 'narrow finish', 'concentrate last', 'sign_up terminal', 'abridge close', 'contract close', 'press condition', 'shrink terminus', 'squeeze term\\\\S\\\\s*\\\\S', 'condense terminate', 'declaration closing', 'undertake finish', 'sign_on ending', 'condense finish', 'sign full_term', 'concentrate terminal', 'foreshorten terminus', 'condense remnant', 'sign_up closing', 'concentrate end', 'abbreviate terminate', 'sign_up condition', 'cut full_term', 'concentrate full_term', 'squeeze cease', 'concentrate goal', 'press terminus', 'narrow terminal', 'shrink oddment', 'abbreviate final_stage', 'abridge term', 'abbreviate term\\\\S\\\\s*\\\\S', 'contract_bridge terminal_figure', 'constrict oddment', 'sign_up full_term', 'sign conclusion', 'get full_term', 'abridge remnant', 'shrink term\\\\S\\\\s*\\\\S', 'declaration term', 'sign terminal_figure', 'reduce terminal_figure', 'press remnant', 'contract_bridge full_term', 'compact remnant', 'get last', 'shorten close', 'squeeze condition', 'sign_on death', 'reduce cease', 'abbreviate finish', 'constrict terminal', 'foreshorten remnant', 'compact terminus', 'foreshorten stop', 'narrow terminate', 'press end', 'declaration oddment', 'reduce goal', 'take goal', 'abridge terminal_figure', 'compress cease', 'abbreviate destruction', 'abridge goal', 'compress ending', 'press terminal_figure', 'cut remnant', 'abbreviate cease', 'undertake terminal', 'shorten closing', 'condense terminus', 'reduce term', 'constrict finish', 'narrow closing', 'compress term', 'narrow stop', 'sign_up last', 'get terminus', 'take terminal_figure', 'squeeze closing', 'narrow condition', 'shrink remnant', 'get closing', 'cut closing', 'constrict destruction', 'condense terminal_figure', 'narrow end', 'squeeze term', 'compress destruction', 'reduce condition', 'get death', 'abbreviate terminal_figure', 'contract destruction', 'compress terminate', 'press terminate', 'foreshorten terminal_figure', 'contract_bridge closing', 'declaration full_term', 'squeeze destruction', 'get remainder', 'declaration terminate', 'squeeze final_stage', 'contract end', 'sign destruction', 'take full_term', 'cut terminal_figure', 'shrink finish', 'squeeze terminate', 'declaration condition', 'abridge terminus', 'constrict close', 'compact cease', 'condense close', 'abbreviate oddment', 'compact remainder', 'compact closing', 'compress goal', 'compress conclusion', 'shorten conclusion', 'get final_stage', 'compact end', 'press close', 'undertake term\\\\S\\\\s*\\\\S', 'sign_on terminus', 'foreshorten final_stage', 'contract stop', 'constrict condition', 'sign terminate', 'foreshorten ending', 'compact last', 'concentrate term', 'sign_up term', 'reduce term\\\\S\\\\s*\\\\S', 'get goal', 'declaration death', 'condense full_term', 'cut goal', 'sign_up death', 'concentrate final_stage', 'concentrate term\\\\S\\\\s*\\\\S', 'shorten stop', 'contract_bridge condition', 'abbreviate full_term', 'declaration destruction', 'shorten ending', 'condense end', 'sign_on conclusion', 'get terminal_figure', 'squeeze conclusion', 'abbreviate condition', 'shorten terminate', 'constrict terminus', 'contract_bridge oddment', 'squeeze remnant', 'concentrate close', 'shorten terminus', 'compress closing', 'contract conclusion', 'sign_up terminus', 'shrink last', 'constrict terminate', 'get end', 'contract_bridge last', 'undertake closing', 'declaration remnant', 'sign term\\\\S\\\\s*\\\\S', 'sign_on end', 'undertake cease', 'reduce stop', 'reduce end', 'abridge condition', 'shorten end', 'shorten last', 'sign_up oddment', 'abbreviate remainder', 'undertake remainder', 'get destruction', 'sign end', 'foreshorten closing', 'shorten death', 'compress oddment', 'take stop', 'cut close', 'press conclusion', 'narrow term', 'concentrate oddment', 'contract_bridge destruction', 'press stop', 'sign stop', 'declaration remainder', 'undertake conclusion', 'shrink remainder', 'cut remainder', 'abridge death', 'narrow conclusion'}\n"
     ]
    },
    {
     "name": "stdout",
     "output_type": "stream",
     "text": [
      "TX 19015 EOC ENT(7.2.18)-pdf.txt\n",
      "{'effectual date\\\\S\\\\s*\\\\S', 'efficacious', 'in_effect date\\\\S\\\\s*\\\\S', 'good', 'in_force', 'efficient', 'good date\\\\S\\\\s*\\\\S', 'effectual', 'in_effect', 'effective date\\\\S\\\\s*\\\\S', 'efficient date\\\\S\\\\s*\\\\S', 'in_force date\\\\S\\\\s*\\\\S', 'effective', 'efficacious date\\\\S\\\\s*\\\\S'}\n",
      "start:  2018-01-01 00:00:00\n",
      "{'get conclusion', 'compress terminus', 'sign_on full_term', 'abridge terminate', 'squeeze last', 'contract term\\\\S\\\\s*\\\\S', 'take close', 'foreshorten term', 'squeeze stop', 'sign ending', 'declaration term\\\\S\\\\s*\\\\S', 'shorten terminal_figure', 'shrink condition', 'sign remainder', 'reduce final_stage', 'sign_on close', 'abridge terminal', 'declaration end', 'take condition', 'compact stop', 'condense terminal', 'narrow last', 'sign_on last', 'sign terminal', 'declaration terminal_figure', 'shrink terminate', 'constrict stop', 'press last', 'contract_bridge ending', 'shorten finish', 'declaration stop', 'undertake final_stage', 'constrict goal', 'constrict remnant', 'contract term ', 'constrict full_term', 'compact finish', 'constrict remainder', 'compact full_term', 'shorten destruction', 'contract cease', 'compact ending', 'cut destruction', 'take conclusion', 'reduce remnant', 'sign_on term\\\\S\\\\s*\\\\S', 'sign_up remainder', 'compress stop', 'take terminal', 'press closing', 'take finish', 'shrink close', 'compress condition', 'concentrate ending', 'sign_up terminate', 'concentrate closing', 'sign_on stop', 'compact condition', 'contract_bridge terminal', 'constrict cease', 'shorten terminal', 'sign condition', 'sign_on cease', 'foreshorten terminate', 'take cease', 'shrink terminal_figure', 'contract terminal', 'cut term', 'abridge last', 'shrink ending', 'narrow destruction', 'contract terminal_figure', 'sign_up cease', 'condense closing', 'contract death', 'condense goal', 'undertake condition', 'squeeze goal', 'constrict terminal_figure', 'foreshorten conclusion', 'narrow death', 'compress end', 'get oddment', 'cut terminate', 'shrink destruction', 'sign_on terminal_figure', 'condense last', 'squeeze full_term', 'condense cease', 'abbreviate ending', 'concentrate destruction', 'abridge destruction', 'squeeze end', 'foreshorten last', 'constrict term', 'compress terminal_figure', 'shrink death', 'sign_up conclusion', 'sign_on destruction', 'sign_on terminal', 'squeeze terminal_figure', 'contract_bridge end', 'constrict final_stage', 'condense term', 'narrow final_stage', 'narrow goal', 'compress remnant', 'sign_on finish', 'undertake last', 'press terminal', 'press full_term', 'concentrate terminus', 'sign_up final_stage', 'sign_up terminal_figure', 'press final_stage', 'sign term', 'cut last', 'undertake full_term', 'squeeze terminus', 'shrink full_term', 'shrink stop', 'compact terminal_figure', 'compress death', 'contract_bridge finish', 'contract_bridge close', 'press finish', 'sign_up destruction', 'abbreviate death', 'abridge oddment', 'compress remainder', 'squeeze oddment', 'abridge ending', 'abbreviate conclusion', 'squeeze death', 'condense remainder', 'contract ending', 'contract_bridge term\\\\S\\\\s*\\\\S', 'shrink conclusion', 'sign_on oddment', 'contract_bridge conclusion', 'shorten full_term', 'abbreviate remnant', 'shrink goal', 'narrow ending', 'abbreviate terminus', 'get term', 'concentrate remainder', 'constrict ending', 'compress close', 'concentrate death', 'abbreviate end', 'get term\\\\S\\\\s*\\\\S', 'press ending', 'get remnant', 'squeeze close', 'get close', 'abbreviate stop', 'sign_on final_stage', 'declaration goal', 'undertake term', 'condense final_stage', 'sign_up goal', 'shorten cease', 'sign_up end', 'compress term\\\\S\\\\s*\\\\S', 'shrink cease', 'abbreviate closing', 'abridge full_term', 'abbreviate close', 'reduce oddment', 'compress final_stage', 'get stop', 'contract terminus', 'sign_up finish', 'undertake oddment', 'foreshorten goal', 'cut condition', 'reduce destruction', 'concentrate remnant', 'concentrate condition', 'press remainder', 'abridge stop', 'cut end', 'shrink term', 'sign_on remainder', 'press term', 'take final_stage', 'narrow close', 'sign_on terminate', 'sign_on condition', 'contract last', 'sign death', 'shorten condition', 'take end', 'take terminate', 'declaration cease', 'undertake terminus', 'sign terminus', 'compact destruction', 'narrow oddment', 'abridge conclusion', 'get ending', 'cut death', 'press cease', 'abridge final_stage', 'compress last', 'squeeze ending', 'undertake terminate', 'foreshorten close', 'narrow terminus', 'compact term\\\\S\\\\s*\\\\S', 'get finish', 'foreshorten cease', 'take remnant', 'get terminal', 'narrow full_term', 'declaration terminal', 'shorten term', 'contract_bridge cease', 'abridge term\\\\S\\\\s*\\\\S', 'shorten remnant', 'sign_up term\\\\S\\\\s*\\\\S', 'contract_bridge term', 'foreshorten death', 'contract_bridge death', 'contract_bridge remnant', 'contract_bridge terminus', 'condense oddment', 'press term\\\\S\\\\s*\\\\S', 'compact term', 'contract_bridge terminate', 'abbreviate goal', 'cut term\\\\S\\\\s*\\\\S', 'reduce last', 'sign closing', 'concentrate stop', 'undertake end', 'sign remnant', 'cut terminus', 'cut finish', 'contract term', 'condense term\\\\S\\\\s*\\\\S', 'foreshorten remainder', 'take destruction', 'declaration finish', 'get condition', 'sign goal', 'shrink closing', 'reduce ending', 'undertake ending', 'reduce terminus', 'compact goal', 'sign cease', 'sign_up remnant', 'compact oddment', 'cut ending', 'declaration close', 'undertake goal', 'take term', 'sign_on term', 'condense ending', 'cut conclusion', 'sign finish', 'reduce remainder', 'compress terminal', 'abridge finish', 'declaration ending', 'declaration last', 'squeeze terminal', 'narrow terminal_figure', 'cut cease', 'sign_on closing', 'press death', 'undertake remnant', 'foreshorten finish', 'take last', 'sign_up ending', 'squeeze remainder', 'reduce terminal', 'shorten remainder', 'undertake close', 'compact close', 'declaration terminus', 'declaration final_stage', 'abbreviate terminal', 'abridge closing', 'cut terminal', 'condense death', 'shorten goal', 'foreshorten term\\\\S\\\\s*\\\\S', 'sign final_stage', 'sign_up close', 'undertake destruction', 'shrink end', 'undertake death', 'press destruction', 'narrow cease', 'condense conclusion', 'condense condition', 'abbreviate last', 'concentrate terminal_figure', 'contract remainder', 'take terminus', 'press oddment', 'condense stop', 'shorten final_stage', 'get terminate', 'narrow remnant', 'get cease', 'sign close', 'reduce death', 'contract closing', 'compress full_term', 'contract_bridge final_stage', 'foreshorten end', 'take oddment', 'reduce finish', 'narrow term\\\\S\\\\s*\\\\S', 'contract final_stage', 'shrink terminal', 'abridge cease', 'concentrate conclusion', 'reduce full_term', 'contract terminate', 'sign_on goal', 'take death', 'foreshorten terminal', 'concentrate finish', 'reduce terminate', 'concentrate cease', 'contract finish', 'sign_on remnant', 'foreshorten oddment', 'foreshorten condition', 'cut final_stage', 'reduce close', 'compact terminate', 'abridge remainder', 'reduce conclusion', 'reduce closing', 'abridge end', 'compress finish', 'narrow remainder', 'sign last', 'constrict closing', 'contract_bridge goal', 'take term\\\\S\\\\s*\\\\S', 'sign_up stop', 'foreshorten full_term', 'constrict conclusion', 'cut stop', 'concentrate terminate', 'take closing', 'take remainder', 'declaration conclusion', 'foreshorten destruction', 'compact final_stage', 'squeeze finish', 'constrict last', 'contract goal', 'compact terminal', 'contract oddment', 'constrict end', 'sign oddment', 'constrict term\\\\S\\\\s*\\\\S', 'abbreviate term', 'compact conclusion', 'condense destruction', 'shorten oddment', 'shrink final_stage', 'contract full_term', 'press goal', 'undertake terminal_figure', 'constrict death', 'take ending', 'contract_bridge stop', 'contract_bridge remainder', 'shorten term\\\\S\\\\s*\\\\S', 'undertake stop', 'contract remnant', 'compact death', 'cut oddment', 'contract condition', 'narrow finish', 'concentrate last', 'sign_up terminal', 'abridge close', 'contract close', 'press condition', 'shrink terminus', 'squeeze term\\\\S\\\\s*\\\\S', 'condense terminate', 'declaration closing', 'undertake finish', 'sign_on ending', 'condense finish', 'sign full_term', 'concentrate terminal', 'foreshorten terminus', 'condense remnant', 'sign_up closing', 'concentrate end', 'abbreviate terminate', 'sign_up condition', 'cut full_term', 'concentrate full_term', 'squeeze cease', 'concentrate goal', 'press terminus', 'narrow terminal', 'shrink oddment', 'abbreviate final_stage', 'abridge term', 'abbreviate term\\\\S\\\\s*\\\\S', 'contract_bridge terminal_figure', 'constrict oddment', 'sign_up full_term', 'sign conclusion', 'get full_term', 'abridge remnant', 'shrink term\\\\S\\\\s*\\\\S', 'declaration term', 'sign terminal_figure', 'reduce terminal_figure', 'press remnant', 'contract_bridge full_term', 'compact remnant', 'get last', 'shorten close', 'squeeze condition', 'sign_on death', 'reduce cease', 'abbreviate finish', 'constrict terminal', 'foreshorten remnant', 'compact terminus', 'foreshorten stop', 'narrow terminate', 'press end', 'declaration oddment', 'reduce goal', 'take goal', 'abridge terminal_figure', 'compress cease', 'abbreviate destruction', 'abridge goal', 'compress ending', 'press terminal_figure', 'cut remnant', 'abbreviate cease', 'undertake terminal', 'shorten closing', 'condense terminus', 'reduce term', 'constrict finish', 'narrow closing', 'compress term', 'narrow stop', 'sign_up last', 'get terminus', 'take terminal_figure', 'squeeze closing', 'narrow condition', 'shrink remnant', 'get closing', 'cut closing', 'constrict destruction', 'condense terminal_figure', 'narrow end', 'squeeze term', 'compress destruction', 'reduce condition', 'get death', 'abbreviate terminal_figure', 'contract destruction', 'compress terminate', 'press terminate', 'foreshorten terminal_figure', 'contract_bridge closing', 'declaration full_term', 'squeeze destruction', 'get remainder', 'declaration terminate', 'squeeze final_stage', 'contract end', 'sign destruction', 'take full_term', 'cut terminal_figure', 'shrink finish', 'squeeze terminate', 'declaration condition', 'abridge terminus', 'constrict close', 'compact cease', 'condense close', 'abbreviate oddment', 'compact remainder', 'compact closing', 'compress goal', 'compress conclusion', 'shorten conclusion', 'get final_stage', 'compact end', 'press close', 'undertake term\\\\S\\\\s*\\\\S', 'sign_on terminus', 'foreshorten final_stage', 'contract stop', 'constrict condition', 'sign terminate', 'foreshorten ending', 'compact last', 'concentrate term', 'sign_up term', 'reduce term\\\\S\\\\s*\\\\S', 'get goal', 'declaration death', 'condense full_term', 'cut goal', 'sign_up death', 'concentrate final_stage', 'concentrate term\\\\S\\\\s*\\\\S', 'shorten stop', 'contract_bridge condition', 'abbreviate full_term', 'declaration destruction', 'shorten ending', 'condense end', 'sign_on conclusion', 'get terminal_figure', 'squeeze conclusion', 'abbreviate condition', 'shorten terminate', 'constrict terminus', 'contract_bridge oddment', 'squeeze remnant', 'concentrate close', 'shorten terminus', 'compress closing', 'contract conclusion', 'sign_up terminus', 'shrink last', 'constrict terminate', 'get end', 'contract_bridge last', 'undertake closing', 'declaration remnant', 'sign term\\\\S\\\\s*\\\\S', 'sign_on end', 'undertake cease', 'reduce stop', 'reduce end', 'abridge condition', 'shorten end', 'shorten last', 'sign_up oddment', 'abbreviate remainder', 'undertake remainder', 'get destruction', 'sign end', 'foreshorten closing', 'shorten death', 'compress oddment', 'take stop', 'cut close', 'press conclusion', 'narrow term', 'concentrate oddment', 'contract_bridge destruction', 'press stop', 'sign stop', 'declaration remainder', 'undertake conclusion', 'shrink remainder', 'cut remainder', 'abridge death', 'narrow conclusion'}\n"
     ]
    }
   ],
   "source": [
    "for file in base_info:\n",
    "    dfMD = getMetaDataAtt(file)\n",
    "    #testSyns(file['sentTokens'], \"group\",\"number\")\n",
    "    \n",
    "    #transpose=dfMD.transpose()\n",
    "    #print(transpose)\n",
    "    #print(dfMD)"
   ]
  },
  {
   "cell_type": "markdown",
   "metadata": {
    "heading_collapsed": true
   },
   "source": [
    "## Not done attributes"
   ]
  },
  {
   "cell_type": "code",
   "execution_count": 49,
   "metadata": {
    "code_folding": [],
    "hidden": true
   },
   "outputs": [],
   "source": [
    "## Group Information\n",
    "\n",
    "dfGI=pd.DataFrame(d, index=['uid'])"
   ]
  },
  {
   "cell_type": "code",
   "execution_count": null,
   "metadata": {
    "hidden": true
   },
   "outputs": [],
   "source": [
    "## Diagnostic and Preventative (D&P) [Appendix A]\n",
    "\n",
    "d={'key':'D&P Services_PPO','value':'100'}\n",
    "##Need to pass index since we're only doing string values\n",
    "dfDP=pd.DataFrame(d, index=['D%P Services'])\n"
   ]
  },
  {
   "cell_type": "code",
   "execution_count": null,
   "metadata": {
    "hidden": true
   },
   "outputs": [],
   "source": [
    "## Basic Service\n",
    "\n",
    "dfBS=pd.DataFrame(d, index=['Basic Service'])"
   ]
  },
  {
   "cell_type": "code",
   "execution_count": null,
   "metadata": {
    "hidden": true
   },
   "outputs": [],
   "source": [
    "## Endo Perio (Endodontics (Periodontal(?)))\n",
    "\n",
    "dfEP=pd.DataFrame(d, index=['Endo Perio'])"
   ]
  },
  {
   "cell_type": "code",
   "execution_count": null,
   "metadata": {
    "hidden": true
   },
   "outputs": [],
   "source": [
    "## Oral (Oral Surgery)\n",
    "\n",
    "dfOa=pd.DataFrame(d, index=['uid'])"
   ]
  },
  {
   "cell_type": "code",
   "execution_count": null,
   "metadata": {
    "hidden": true
   },
   "outputs": [],
   "source": [
    "## Perio (Periodontal)\n",
    "\n",
    "dfPe=pd.DataFrame(d, index=['uid'])"
   ]
  },
  {
   "cell_type": "code",
   "execution_count": null,
   "metadata": {
    "hidden": true
   },
   "outputs": [],
   "source": [
    "## Major (Major Benefits)\n",
    "\n",
    "dfMj=pd.DataFrame(d, index=['uid'])"
   ]
  },
  {
   "cell_type": "code",
   "execution_count": null,
   "metadata": {
    "hidden": true
   },
   "outputs": [],
   "source": [
    "## Prostho (Prosthodontics)\n",
    "\n",
    "dfPr=pd.DataFrame(d, index=['uid'])"
   ]
  },
  {
   "cell_type": "code",
   "execution_count": null,
   "metadata": {
    "hidden": true
   },
   "outputs": [],
   "source": [
    "## Ortho (Orthodontics)\n",
    "\n",
    "dfOt=pd.DataFrame(d, index=['uid'])"
   ]
  },
  {
   "cell_type": "code",
   "execution_count": null,
   "metadata": {
    "hidden": true,
    "scrolled": true
   },
   "outputs": [],
   "source": [
    "#Concatenate all frames created by the above dataset\n",
    "\n",
    "frames = [df, dfGI, dfDP, dfBS, dfEP, dfOa, dfPe, dfMj, dfPr, dfOt]\n",
    "\n",
    "result = pd.concat(frames)\n",
    "transpose=result.transpose()\n",
    "print(transpose)"
   ]
  },
  {
   "cell_type": "markdown",
   "metadata": {
    "heading_collapsed": true
   },
   "source": [
    "## Notes"
   ]
  },
  {
   "cell_type": "markdown",
   "metadata": {
    "heading_collapsed": true,
    "hidden": true
   },
   "source": [
    "### Contract Start Date"
   ]
  },
  {
   "cell_type": "markdown",
   "metadata": {
    "hidden": true
   },
   "source": [
    "With contract start date I began by searching through the tokenized sentences with a regex expression. \n",
    "I found a datefinder module to use on each flagged sentence to pull out the dates\n",
    "\tIssue: the datefinder module works poorly on large, run -on sentences which are common in the contracts. It tends to find other numbers that aren't dates and try to make a date out of them.\n",
    "\t\n",
    "\tSol: only take a subset, starting at the flagged word\n",
    "\t\n",
    "Sometimes a match isn't found with the keywords I've seen related to the start date\n",
    "\tSol: look for keywords related to contract term and take the earlier date from that sentence\n",
    "\t\n",
    "Issue: Datefinder focusing on numbers that aren't dates\n",
    "\tSol: filter for sentences that have a year (ie four digits in a row) and dates that are before Delta Dental existed (in 1966)\n",
    "\t\n",
    "Issue: Sometimes there are multiple modes. Usually I saw this when there were equal mentions of the end date\n",
    "\tSol: if there are multiple modes, take the earliest date. \n",
    "\t\n",
    "\n"
   ]
  },
  {
   "cell_type": "markdown",
   "metadata": {
    "heading_collapsed": true,
    "hidden": true
   },
   "source": [
    "### Testing finding the contract end date"
   ]
  },
  {
   "cell_type": "markdown",
   "metadata": {
    "hidden": true
   },
   "source": [
    "This was much the same as the contract start date Issues\n",
    "\n",
    "\tLooking for keywords Contract Term/Contract End\n",
    "\tFiltering on invalid years\n",
    "\tFiltering on if there IS a year in the sentence (assuming it won't be written out like nineteen ninety-four)\n",
    "\tIf there are only two results, take the later one\n",
    "\tIf there are more than two, take the top two most common and then take the latter of the two\n"
   ]
  },
  {
   "cell_type": "markdown",
   "metadata": {
    "heading_collapsed": true,
    "hidden": true
   },
   "source": [
    "### Contract Duration:"
   ]
  },
  {
   "cell_type": "markdown",
   "metadata": {
    "hidden": true
   },
   "source": [
    "Call contract start and end and try to get a duration out of them\n",
    "\n",
    " ^^^ pretty much worked\n"
   ]
  },
  {
   "cell_type": "markdown",
   "metadata": {
    "heading_collapsed": true,
    "hidden": true
   },
   "source": [
    "### Comments so far:"
   ]
  },
  {
   "cell_type": "markdown",
   "metadata": {
    "hidden": true
   },
   "source": [
    "\n",
    "\tEven with trying to be variable, this won't work if they even change the wording a little bit. Maybe spend some time looking into using the libraries to get synonyms.\n",
    "\t\n",
    "\tIt would also be great to get the other contracts to see exactly where we're going wrong\n",
    "\t\n"
   ]
  },
  {
   "cell_type": "markdown",
   "metadata": {
    "heading_collapsed": true,
    "hidden": true
   },
   "source": [
    "### Working with synonyms in NLTK"
   ]
  },
  {
   "cell_type": "markdown",
   "metadata": {
    "hidden": true
   },
   "source": [
    "\tGetting an expanded set of search terms can be done, but I can't yet figure out how to pick the right contexts. For example, the search bigram \"contract term\" gives back a huge amount of synonyms, with only 3 or 4 actually being equivalent in meaning to \"contract term\"\n",
    "\t\n",
    "\tWe could always manually select ones that are similar but that seems to defeat the purpose: ie we could select only the noun meanings of contract\n",
    "\t\n",
    "\tWe could build our own corpus of words based on all of the documents that we have, and then compare the given synonyms to a freq distribution of those words to pick out the ways other contracts might say the same thing\n",
    "\t\tBut this would still miss things for sure\n",
    "\t\t\n",
    "\tWe could include the word type with the seed words and only choose synonyms of the same type, although this does involve more hardcoding\n"
   ]
  }
 ],
 "metadata": {
  "kernelspec": {
   "display_name": "Python 3",
   "language": "python",
   "name": "python3"
  },
  "language_info": {
   "codemirror_mode": {
    "name": "ipython",
    "version": 3
   },
   "file_extension": ".py",
   "mimetype": "text/x-python",
   "name": "python",
   "nbconvert_exporter": "python",
   "pygments_lexer": "ipython3",
   "version": "3.6.5"
  }
 },
 "nbformat": 4,
 "nbformat_minor": 2
}
